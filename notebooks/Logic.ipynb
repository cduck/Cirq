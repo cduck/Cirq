{
 "cells": [
  {
   "cell_type": "code",
   "execution_count": 1,
   "metadata": {},
   "outputs": [],
   "source": [
    "import numpy as np\n",
    "from scipy.stats import unitary_group\n",
    "\n",
    "\n",
    "import cirq\n",
    "from cirq import ops\n",
    "from cirq.ops import CZ, H, CNOT, X, Y, Z, SWAP, RotYGate, MeasurementGate\n",
    "from cirq.google import XmonQubit, ExpWGate, ExpZGate, Exp11Gate, XmonMeasurementGate\n",
    "from cirq.google import XmonSimulator, ConvertToXmonGates, MergeRotations, MergeInteractions, EjectZ\n",
    "\n",
    "from cirq.contrib.rearrange.interaction_gate import InteractionGate\n",
    "#from cirq.contrib.control_basis import *\n",
    "\n",
    "from cirq.testing import assert_allclose_up_to_global_phase"
   ]
  },
  {
   "cell_type": "code",
   "execution_count": 258,
   "metadata": {},
   "outputs": [],
   "source": [
    "from IPython.display import display\n",
    "\n",
    "def _ops_to_matrix(*ops, draw=True):\n",
    "    c = cirq.Circuit.from_ops(*ops)\n",
    "    if draw: display(c)\n",
    "    m = c.to_unitary_matrix()\n",
    "    return m#.round(5)\n",
    "\n",
    "q0, q1, q2 = (cirq.NamedQubit('q{}'.format(i)) for i in range(3))"
   ]
  },
  {
   "cell_type": "code",
   "execution_count": null,
   "metadata": {},
   "outputs": [],
   "source": []
  },
  {
   "cell_type": "code",
   "execution_count": 3,
   "metadata": {
    "scrolled": true
   },
   "outputs": [
    {
     "ename": "NameError",
     "evalue": "name 'ControlBasis' is not defined",
     "output_type": "error",
     "traceback": [
      "\u001b[0;31m---------------------------------------------------------------------------\u001b[0m",
      "\u001b[0;31mNameError\u001b[0m                                 Traceback (most recent call last)",
      "\u001b[0;32m<ipython-input-3-313daf2760d1>\u001b[0m in \u001b[0;36m<module>\u001b[0;34m()\u001b[0m\n\u001b[1;32m      1\u001b[0m \u001b[0;32mfor\u001b[0m \u001b[0mb0\u001b[0m \u001b[0;32min\u001b[0m \u001b[0mrange\u001b[0m\u001b[0;34m(\u001b[0m\u001b[0;36m6\u001b[0m\u001b[0;34m)\u001b[0m\u001b[0;34m:\u001b[0m\u001b[0;34m\u001b[0m\u001b[0m\n\u001b[1;32m      2\u001b[0m     \u001b[0;32mfor\u001b[0m \u001b[0mb1\u001b[0m \u001b[0;32min\u001b[0m \u001b[0mrange\u001b[0m\u001b[0;34m(\u001b[0m\u001b[0;36m6\u001b[0m\u001b[0;34m)\u001b[0m\u001b[0;34m:\u001b[0m\u001b[0;34m\u001b[0m\u001b[0m\n\u001b[0;32m----> 3\u001b[0;31m         \u001b[0mgates\u001b[0m \u001b[0;34m=\u001b[0m \u001b[0mControlBasis\u001b[0m\u001b[0;34m(\u001b[0m\u001b[0mb0\u001b[0m\u001b[0;34m)\u001b[0m\u001b[0;34m.\u001b[0m\u001b[0mto_basis_gates\u001b[0m\u001b[0;34m(\u001b[0m\u001b[0mControlBasis\u001b[0m\u001b[0;34m(\u001b[0m\u001b[0mb1\u001b[0m\u001b[0;34m)\u001b[0m\u001b[0;34m)\u001b[0m\u001b[0;34m\u001b[0m\u001b[0m\n\u001b[0m\u001b[1;32m      4\u001b[0m         \u001b[0mprint\u001b[0m\u001b[0;34m(\u001b[0m\u001b[0mgates\u001b[0m\u001b[0;34m)\u001b[0m\u001b[0;34m\u001b[0m\u001b[0m\n",
      "\u001b[0;31mNameError\u001b[0m: name 'ControlBasis' is not defined"
     ]
    }
   ],
   "source": [
    "for b0 in range(6):\n",
    "    for b1 in range(6):\n",
    "        gates = ControlBasis(b0).to_basis_gates(ControlBasis(b1))\n",
    "        print(gates)"
   ]
  },
  {
   "cell_type": "code",
   "execution_count": null,
   "metadata": {},
   "outputs": [],
   "source": []
  },
  {
   "cell_type": "code",
   "execution_count": 4,
   "metadata": {},
   "outputs": [
    {
     "ename": "NameError",
     "evalue": "name 'ControlBasis' is not defined",
     "output_type": "error",
     "traceback": [
      "\u001b[0;31m---------------------------------------------------------------------------\u001b[0m",
      "\u001b[0;31mNameError\u001b[0m                                 Traceback (most recent call last)",
      "\u001b[0;32m<ipython-input-4-a8517e7750a0>\u001b[0m in \u001b[0;36m<module>\u001b[0;34m()\u001b[0m\n\u001b[0;32m----> 1\u001b[0;31m \u001b[0mControlBasis\u001b[0m\u001b[0;34m(\u001b[0m\u001b[0;36m1\u001b[0m\u001b[0;34m)\u001b[0m \u001b[0;34m==\u001b[0m \u001b[0mControlBasis\u001b[0m\u001b[0;34m(\u001b[0m\u001b[0;36m0\u001b[0m\u001b[0;34m)\u001b[0m\u001b[0;34m\u001b[0m\u001b[0m\n\u001b[0m",
      "\u001b[0;31mNameError\u001b[0m: name 'ControlBasis' is not defined"
     ]
    }
   ],
   "source": [
    "ControlBasis(1) == ControlBasis(0)"
   ]
  },
  {
   "cell_type": "code",
   "execution_count": null,
   "metadata": {},
   "outputs": [],
   "source": []
  },
  {
   "cell_type": "code",
   "execution_count": 3,
   "metadata": {},
   "outputs": [],
   "source": [
    "q0, q1, q2 = (cirq.NamedQubit('q{}'.format(i)) for i in range(3))"
   ]
  },
  {
   "cell_type": "code",
   "execution_count": null,
   "metadata": {},
   "outputs": [],
   "source": []
  },
  {
   "cell_type": "code",
   "execution_count": 6,
   "metadata": {},
   "outputs": [
    {
     "data": {
      "text/html": [
       "<pre style=\"overflow: auto; white-space: pre;\">q0: ───────Z───────\n",
       "           │\n",
       "q1: ───Z───X───Z───</pre>"
      ],
      "text/plain": [
       "q0: ───────Z───────\n",
       "           │\n",
       "q1: ───Z───X───Z───"
      ]
     },
     "metadata": {},
     "output_type": "display_data"
    },
    {
     "data": {
      "text/plain": [
       "array([[ 1.+0.j,  0.+0.j,  0.+0.j,  0.+0.j],\n",
       "       [ 0.+0.j,  1.+0.j,  0.+0.j,  0.+0.j],\n",
       "       [ 0.+0.j,  0.+0.j,  0.+0.j, -1.+0.j],\n",
       "       [ 0.+0.j,  0.+0.j, -1.+0.j,  0.+0.j]])"
      ]
     },
     "execution_count": 6,
     "metadata": {},
     "output_type": "execute_result"
    }
   ],
   "source": [
    "_ops_to_matrix(Z(q1), InteractionGate(Z_BASIS, X_BASIS)(q0, q1), Z(q1))"
   ]
  },
  {
   "cell_type": "code",
   "execution_count": 7,
   "metadata": {},
   "outputs": [
    {
     "data": {
      "text/plain": [
       "(X,)"
      ]
     },
     "execution_count": 7,
     "metadata": {},
     "output_type": "execute_result"
    }
   ],
   "source": [
    "nZ_BASIS.to_basis_gates(Z_BASIS)"
   ]
  },
  {
   "cell_type": "code",
   "execution_count": 8,
   "metadata": {},
   "outputs": [
    {
     "data": {
      "text/html": [
       "<pre style=\"overflow: auto; white-space: pre;\">q0: ───nX───Z────nX───\n",
       "       │    │    │\n",
       "q1: ───Z────nX───Z────</pre>"
      ],
      "text/plain": [
       "q0: ───nX───Z────nX───\n",
       "       │    │    │\n",
       "q1: ───Z────nX───Z────"
      ]
     },
     "metadata": {},
     "output_type": "display_data"
    },
    {
     "data": {
      "text/plain": [
       "array([[1.+0.j, 0.+0.j, 0.+0.j, 0.+0.j],\n",
       "       [0.+0.j, 0.+0.j, 1.+0.j, 0.+0.j],\n",
       "       [0.+0.j, 1.+0.j, 0.+0.j, 0.+0.j],\n",
       "       [0.+0.j, 0.+0.j, 0.+0.j, 1.+0.j]])"
      ]
     },
     "execution_count": 8,
     "metadata": {},
     "output_type": "execute_result"
    }
   ],
   "source": [
    "_ops_to_matrix(\n",
    "    InteractionGate(nX_BASIS, Z_BASIS)(q0, q1),\n",
    "    InteractionGate(Z_BASIS, nX_BASIS)(q0, q1),\n",
    "    InteractionGate(nX_BASIS, Z_BASIS)(q0, q1),\n",
    ")"
   ]
  },
  {
   "cell_type": "code",
   "execution_count": null,
   "metadata": {},
   "outputs": [],
   "source": []
  },
  {
   "cell_type": "code",
   "execution_count": 9,
   "metadata": {},
   "outputs": [
    {
     "data": {
      "text/html": [
       "<pre style=\"overflow: auto; white-space: pre;\">q0: ───Z───Z───\n",
       "           │\n",
       "q1: ───────Z───</pre>"
      ],
      "text/plain": [
       "q0: ───Z───Z───\n",
       "           │\n",
       "q1: ───────Z───"
      ]
     },
     "metadata": {},
     "output_type": "display_data"
    },
    {
     "data": {
      "text/plain": [
       "array([[ 1.+0.j,  0.+0.j,  0.+0.j,  0.+0.j],\n",
       "       [ 0.+0.j,  1.+0.j,  0.+0.j,  0.+0.j],\n",
       "       [ 0.+0.j,  0.+0.j, -1.+0.j,  0.+0.j],\n",
       "       [ 0.+0.j,  0.+0.j,  0.+0.j,  1.+0.j]])"
      ]
     },
     "execution_count": 9,
     "metadata": {},
     "output_type": "execute_result"
    }
   ],
   "source": [
    "_ops_to_matrix(\n",
    "    Z(q0),\n",
    "    InteractionGate(Z_BASIS, Z_BASIS)(q0, q1),\n",
    ")"
   ]
  },
  {
   "cell_type": "code",
   "execution_count": 10,
   "metadata": {},
   "outputs": [
    {
     "data": {
      "text/html": [
       "<pre style=\"overflow: auto; white-space: pre;\">q0: ───Z───Z───\n",
       "       │\n",
       "q1: ───Z───────</pre>"
      ],
      "text/plain": [
       "q0: ───Z───Z───\n",
       "       │\n",
       "q1: ───Z───────"
      ]
     },
     "metadata": {},
     "output_type": "display_data"
    },
    {
     "data": {
      "text/plain": [
       "array([[ 1.+0.j,  0.+0.j,  0.+0.j,  0.+0.j],\n",
       "       [ 0.+0.j,  1.+0.j,  0.+0.j,  0.+0.j],\n",
       "       [ 0.+0.j,  0.+0.j, -1.+0.j,  0.+0.j],\n",
       "       [ 0.+0.j,  0.+0.j,  0.+0.j,  1.+0.j]])"
      ]
     },
     "execution_count": 10,
     "metadata": {},
     "output_type": "execute_result"
    }
   ],
   "source": [
    "_ops_to_matrix(\n",
    "    InteractionGate(Z_BASIS, Z_BASIS)(q0, q1),\n",
    "    Z(q0),\n",
    ")"
   ]
  },
  {
   "cell_type": "code",
   "execution_count": null,
   "metadata": {},
   "outputs": [],
   "source": []
  },
  {
   "cell_type": "code",
   "execution_count": 11,
   "metadata": {},
   "outputs": [
    {
     "data": {
      "text/html": [
       "<pre style=\"overflow: auto; white-space: pre;\">q0: ───Y───X───</pre>"
      ],
      "text/plain": [
       "q0: ───Y───X───"
      ]
     },
     "metadata": {},
     "output_type": "display_data"
    },
    {
     "data": {
      "text/plain": [
       "array([[0.+1.j, 0.+0.j],\n",
       "       [0.+0.j, 0.-1.j]])"
      ]
     },
     "execution_count": 11,
     "metadata": {},
     "output_type": "execute_result"
    }
   ],
   "source": [
    "_ops_to_matrix(\n",
    "    Y(q0),\n",
    "    X(q0),\n",
    ")"
   ]
  },
  {
   "cell_type": "code",
   "execution_count": 12,
   "metadata": {},
   "outputs": [
    {
     "data": {
      "text/html": [
       "<pre style=\"overflow: auto; white-space: pre;\">q0: ───X───Y───</pre>"
      ],
      "text/plain": [
       "q0: ───X───Y───"
      ]
     },
     "metadata": {},
     "output_type": "display_data"
    },
    {
     "data": {
      "text/plain": [
       "array([[0.-1.j, 0.+0.j],\n",
       "       [0.+0.j, 0.+1.j]])"
      ]
     },
     "execution_count": 12,
     "metadata": {},
     "output_type": "execute_result"
    }
   ],
   "source": [
    "_ops_to_matrix(\n",
    "    X(q0),\n",
    "    Y(q0),\n",
    ")"
   ]
  },
  {
   "cell_type": "code",
   "execution_count": null,
   "metadata": {},
   "outputs": [],
   "source": []
  },
  {
   "cell_type": "code",
   "execution_count": 13,
   "metadata": {},
   "outputs": [
    {
     "data": {
      "text/html": [
       "<pre style=\"overflow: auto; white-space: pre;\">q0: ───nZ───\n",
       "       │\n",
       "q1: ───Z────</pre>"
      ],
      "text/plain": [
       "q0: ───nZ───\n",
       "       │\n",
       "q1: ───Z────"
      ]
     },
     "metadata": {},
     "output_type": "display_data"
    },
    {
     "data": {
      "text/plain": [
       "array([[ 1.+0.j,  0.+0.j,  0.+0.j,  0.+0.j],\n",
       "       [ 0.+0.j, -1.+0.j,  0.+0.j,  0.+0.j],\n",
       "       [ 0.+0.j,  0.+0.j,  1.+0.j,  0.+0.j],\n",
       "       [ 0.+0.j,  0.+0.j,  0.+0.j,  1.+0.j]])"
      ]
     },
     "execution_count": 13,
     "metadata": {},
     "output_type": "execute_result"
    }
   ],
   "source": [
    "_ops_to_matrix(\n",
    "    InteractionGate(nZ_BASIS, Z_BASIS)(q0, q1),\n",
    ")"
   ]
  },
  {
   "cell_type": "code",
   "execution_count": 14,
   "metadata": {},
   "outputs": [
    {
     "data": {
      "text/html": [
       "<pre style=\"overflow: auto; white-space: pre;\">q0: ───Z────nZ───\n",
       "       │    │\n",
       "q1: ───nZ───Z────</pre>"
      ],
      "text/plain": [
       "q0: ───Z────nZ───\n",
       "       │    │\n",
       "q1: ───nZ───Z────"
      ]
     },
     "metadata": {},
     "output_type": "display_data"
    },
    {
     "data": {
      "text/plain": [
       "array([[ 1.+0.j,  0.+0.j,  0.+0.j,  0.+0.j],\n",
       "       [ 0.+0.j, -1.+0.j,  0.+0.j,  0.+0.j],\n",
       "       [ 0.+0.j,  0.+0.j, -1.+0.j,  0.+0.j],\n",
       "       [ 0.+0.j,  0.+0.j,  0.+0.j,  1.+0.j]])"
      ]
     },
     "execution_count": 14,
     "metadata": {},
     "output_type": "execute_result"
    }
   ],
   "source": [
    "_ops_to_matrix(\n",
    "    InteractionGate(Z_BASIS, nZ_BASIS)(q0, q1),\n",
    "    InteractionGate(nZ_BASIS, Z_BASIS)(q0, q1),\n",
    ")"
   ]
  },
  {
   "cell_type": "code",
   "execution_count": 15,
   "metadata": {},
   "outputs": [
    {
     "data": {
      "text/html": [
       "<pre style=\"overflow: auto; white-space: pre;\">q0: ───Z───────\n",
       "       │\n",
       "q1: ───X───Z───</pre>"
      ],
      "text/plain": [
       "q0: ───Z───────\n",
       "       │\n",
       "q1: ───X───Z───"
      ]
     },
     "metadata": {},
     "output_type": "display_data"
    },
    {
     "data": {
      "text/plain": [
       "array([[ 1.+0.j,  0.+0.j,  0.+0.j,  0.+0.j],\n",
       "       [ 0.+0.j, -1.+0.j,  0.+0.j,  0.+0.j],\n",
       "       [ 0.+0.j,  0.+0.j,  0.+0.j,  1.+0.j],\n",
       "       [ 0.+0.j,  0.+0.j, -1.+0.j,  0.+0.j]])"
      ]
     },
     "execution_count": 15,
     "metadata": {},
     "output_type": "execute_result"
    }
   ],
   "source": [
    "_ops_to_matrix(\n",
    "    InteractionGate(Z_BASIS, X_BASIS)(q0, q1),\n",
    "    Z(q1),\n",
    ")"
   ]
  },
  {
   "cell_type": "code",
   "execution_count": null,
   "metadata": {},
   "outputs": [],
   "source": []
  },
  {
   "cell_type": "code",
   "execution_count": 16,
   "metadata": {},
   "outputs": [
    {
     "data": {
      "text/html": [
       "<pre style=\"overflow: auto; white-space: pre;\">q0: ───────────Z────────────\n",
       "               │\n",
       "q1: ───Z^0.5───Y───Z^-0.5───</pre>"
      ],
      "text/plain": [
       "q0: ───────────Z────────────\n",
       "               │\n",
       "q1: ───Z^0.5───Y───Z^-0.5───"
      ]
     },
     "metadata": {},
     "output_type": "display_data"
    },
    {
     "data": {
      "text/plain": [
       "array([[1.+0.j, 0.+0.j, 0.+0.j, 0.+0.j],\n",
       "       [0.+0.j, 1.+0.j, 0.+0.j, 0.+0.j],\n",
       "       [0.+0.j, 0.+0.j, 0.+0.j, 1.+0.j],\n",
       "       [0.+0.j, 0.+0.j, 1.+0.j, 0.+0.j]])"
      ]
     },
     "execution_count": 16,
     "metadata": {},
     "output_type": "execute_result"
    }
   ],
   "source": [
    "_ops_to_matrix(\n",
    "    InteractionGate(Z_BASIS, X_BASIS).conversion_to(\n",
    "        InteractionGate(Z_BASIS, Y_BASIS), q0, q1),\n",
    ")"
   ]
  },
  {
   "cell_type": "code",
   "execution_count": 17,
   "metadata": {},
   "outputs": [
    {
     "data": {
      "text/html": [
       "<pre style=\"overflow: auto; white-space: pre;\">q0: ───Z───Z────\n",
       "           │\n",
       "q1: ───────nZ───</pre>"
      ],
      "text/plain": [
       "q0: ───Z───Z────\n",
       "           │\n",
       "q1: ───────nZ───"
      ]
     },
     "metadata": {},
     "output_type": "display_data"
    },
    {
     "data": {
      "text/plain": [
       "array([[ 1.+0.j,  0.+0.j,  0.+0.j,  0.+0.j],\n",
       "       [ 0.+0.j,  1.+0.j,  0.+0.j,  0.+0.j],\n",
       "       [ 0.+0.j,  0.+0.j,  1.+0.j,  0.+0.j],\n",
       "       [ 0.+0.j,  0.+0.j,  0.+0.j, -1.+0.j]])"
      ]
     },
     "execution_count": 17,
     "metadata": {},
     "output_type": "execute_result"
    }
   ],
   "source": [
    "_ops_to_matrix(\n",
    "    Z(q0),\n",
    "    InteractionGate(Z_BASIS, nZ_BASIS)(q0, q1),\n",
    ")"
   ]
  },
  {
   "cell_type": "code",
   "execution_count": null,
   "metadata": {},
   "outputs": [],
   "source": []
  },
  {
   "cell_type": "code",
   "execution_count": 18,
   "metadata": {},
   "outputs": [
    {
     "data": {
      "text/html": [
       "<pre style=\"overflow: auto; white-space: pre;\">q0: ────────────────────────────────Z────────────\n",
       "                                    │\n",
       "q1: ───X^-0.5───Y───X^0.5───Z^0.5───Y───Z^-0.5───\n",
       "                │\n",
       "q2: ────────────X────────────────────────────────</pre>"
      ],
      "text/plain": [
       "q0: ────────────────────────────────Z────────────\n",
       "                                    │\n",
       "q1: ───X^-0.5───Y───X^0.5───Z^0.5───Y───Z^-0.5───\n",
       "                │\n",
       "q2: ────────────X────────────────────────────────"
      ]
     },
     "metadata": {},
     "output_type": "display_data"
    },
    {
     "data": {
      "text/plain": [
       "array([[1.+0.j, 0.+0.j, 0.+0.j, 0.+0.j, 0.+0.j, 0.+0.j, 0.+0.j, 0.+0.j],\n",
       "       [0.+0.j, 1.+0.j, 0.+0.j, 0.+0.j, 0.+0.j, 0.+0.j, 0.+0.j, 0.+0.j],\n",
       "       [0.+0.j, 0.+0.j, 0.+0.j, 1.+0.j, 0.+0.j, 0.+0.j, 0.+0.j, 0.+0.j],\n",
       "       [0.+0.j, 0.+0.j, 1.+0.j, 0.+0.j, 0.+0.j, 0.+0.j, 0.+0.j, 0.+0.j],\n",
       "       [0.+0.j, 0.+0.j, 0.+0.j, 0.+0.j, 0.+0.j, 0.+0.j, 0.+0.j, 1.+0.j],\n",
       "       [0.+0.j, 0.+0.j, 0.+0.j, 0.+0.j, 0.+0.j, 0.+0.j, 1.+0.j, 0.+0.j],\n",
       "       [0.+0.j, 0.+0.j, 0.+0.j, 0.+0.j, 1.+0.j, 0.+0.j, 0.+0.j, 0.+0.j],\n",
       "       [0.+0.j, 0.+0.j, 0.+0.j, 0.+0.j, 0.+0.j, 1.+0.j, 0.+0.j, 0.+0.j]])"
      ]
     },
     "execution_count": 18,
     "metadata": {},
     "output_type": "execute_result"
    }
   ],
   "source": [
    "_ops_to_matrix(\n",
    "    InteractionGate(Z_BASIS, X_BASIS).conversion_to(\n",
    "        InteractionGate(Y_BASIS, X_BASIS), q1, q2),\n",
    "    InteractionGate(Z_BASIS, X_BASIS).conversion_to(\n",
    "        InteractionGate(Z_BASIS, Y_BASIS), q0, q1),\n",
    ")"
   ]
  },
  {
   "cell_type": "code",
   "execution_count": null,
   "metadata": {},
   "outputs": [],
   "source": []
  },
  {
   "cell_type": "code",
   "execution_count": 19,
   "metadata": {},
   "outputs": [
    {
     "data": {
      "text/html": [
       "<pre style=\"overflow: auto; white-space: pre;\">q0: ───X^0.5───Z^0.5───</pre>"
      ],
      "text/plain": [
       "q0: ───X^0.5───Z^0.5───"
      ]
     },
     "metadata": {},
     "output_type": "display_data"
    },
    {
     "data": {
      "text/plain": [
       "array([[ 0.5+0.5j,  0.5-0.5j],\n",
       "       [ 0.5+0.5j, -0.5+0.5j]])"
      ]
     },
     "execution_count": 19,
     "metadata": {},
     "output_type": "execute_result"
    }
   ],
   "source": [
    "_ops_to_matrix(\n",
    "    X(q0) ** 0.5,\n",
    "    Z(q0) ** 0.5,\n",
    ")"
   ]
  },
  {
   "cell_type": "code",
   "execution_count": 20,
   "metadata": {},
   "outputs": [
    {
     "data": {
      "text/html": [
       "<pre style=\"overflow: auto; white-space: pre;\">q0: ───Y^0.5───X^0.5───</pre>"
      ],
      "text/plain": [
       "q0: ───Y^0.5───X^0.5───"
      ]
     },
     "metadata": {},
     "output_type": "display_data"
    },
    {
     "data": {
      "text/plain": [
       "array([[ 0.5+0.5j,  0.5-0.5j],\n",
       "       [ 0.5+0.5j, -0.5+0.5j]])"
      ]
     },
     "execution_count": 20,
     "metadata": {},
     "output_type": "execute_result"
    }
   ],
   "source": [
    "_ops_to_matrix(\n",
    "    Y(q0) ** 0.5,\n",
    "    X(q0) ** 0.5,\n",
    ")"
   ]
  },
  {
   "cell_type": "code",
   "execution_count": null,
   "metadata": {},
   "outputs": [],
   "source": []
  },
  {
   "cell_type": "code",
   "execution_count": null,
   "metadata": {},
   "outputs": [],
   "source": []
  },
  {
   "cell_type": "code",
   "execution_count": null,
   "metadata": {},
   "outputs": [],
   "source": []
  },
  {
   "cell_type": "code",
   "execution_count": null,
   "metadata": {},
   "outputs": [],
   "source": []
  },
  {
   "cell_type": "code",
   "execution_count": 21,
   "metadata": {},
   "outputs": [
    {
     "data": {
      "text/html": [
       "<pre style=\"overflow: auto; white-space: pre;\">q0: ───Z───X───\n",
       "       │\n",
       "q1: ───X───────</pre>"
      ],
      "text/plain": [
       "q0: ───Z───X───\n",
       "       │\n",
       "q1: ───X───────"
      ]
     },
     "metadata": {},
     "output_type": "display_data"
    },
    {
     "data": {
      "text/plain": [
       "array([[0.+0.j, 0.+0.j, 0.+0.j, 1.+0.j],\n",
       "       [0.+0.j, 0.+0.j, 1.+0.j, 0.+0.j],\n",
       "       [1.+0.j, 0.+0.j, 0.+0.j, 0.+0.j],\n",
       "       [0.+0.j, 1.+0.j, 0.+0.j, 0.+0.j]])"
      ]
     },
     "execution_count": 21,
     "metadata": {},
     "output_type": "execute_result"
    }
   ],
   "source": [
    "_ops_to_matrix(\n",
    "    InteractionGate(Z_BASIS, X_BASIS)(q0, q1),\n",
    "    X(q0),\n",
    ")"
   ]
  },
  {
   "cell_type": "code",
   "execution_count": 22,
   "metadata": {},
   "outputs": [
    {
     "data": {
      "text/html": [
       "<pre style=\"overflow: auto; white-space: pre;\">q0: ───X───nZ───\n",
       "           │\n",
       "q1: ───────X────</pre>"
      ],
      "text/plain": [
       "q0: ───X───nZ───\n",
       "           │\n",
       "q1: ───────X────"
      ]
     },
     "metadata": {},
     "output_type": "display_data"
    },
    {
     "data": {
      "text/plain": [
       "array([[0.+0.j, 0.+0.j, 0.+0.j, 1.+0.j],\n",
       "       [0.+0.j, 0.+0.j, 1.+0.j, 0.+0.j],\n",
       "       [1.+0.j, 0.+0.j, 0.+0.j, 0.+0.j],\n",
       "       [0.+0.j, 1.+0.j, 0.+0.j, 0.+0.j]])"
      ]
     },
     "execution_count": 22,
     "metadata": {},
     "output_type": "execute_result"
    }
   ],
   "source": [
    "_ops_to_matrix(\n",
    "    X(q0),\n",
    "    InteractionGate(nZ_BASIS, X_BASIS)(q0, q1),\n",
    ")"
   ]
  },
  {
   "cell_type": "code",
   "execution_count": 23,
   "metadata": {},
   "outputs": [
    {
     "data": {
      "text/html": [
       "<pre style=\"overflow: auto; white-space: pre;\">q0: ───Z───────Z───\n",
       "       │       │\n",
       "q1: ───X───Z───X───\n",
       "           │\n",
       "q2: ───────X───────</pre>"
      ],
      "text/plain": [
       "q0: ───Z───────Z───\n",
       "       │       │\n",
       "q1: ───X───Z───X───\n",
       "           │\n",
       "q2: ───────X───────"
      ]
     },
     "metadata": {},
     "output_type": "display_data"
    },
    {
     "data": {
      "text/plain": [
       "array([[1.+0.j, 0.+0.j, 0.+0.j, 0.+0.j, 0.+0.j, 0.+0.j, 0.+0.j, 0.+0.j],\n",
       "       [0.+0.j, 1.+0.j, 0.+0.j, 0.+0.j, 0.+0.j, 0.+0.j, 0.+0.j, 0.+0.j],\n",
       "       [0.+0.j, 0.+0.j, 0.+0.j, 1.+0.j, 0.+0.j, 0.+0.j, 0.+0.j, 0.+0.j],\n",
       "       [0.+0.j, 0.+0.j, 1.+0.j, 0.+0.j, 0.+0.j, 0.+0.j, 0.+0.j, 0.+0.j],\n",
       "       [0.+0.j, 0.+0.j, 0.+0.j, 0.+0.j, 0.+0.j, 1.+0.j, 0.+0.j, 0.+0.j],\n",
       "       [0.+0.j, 0.+0.j, 0.+0.j, 0.+0.j, 1.+0.j, 0.+0.j, 0.+0.j, 0.+0.j],\n",
       "       [0.+0.j, 0.+0.j, 0.+0.j, 0.+0.j, 0.+0.j, 0.+0.j, 1.+0.j, 0.+0.j],\n",
       "       [0.+0.j, 0.+0.j, 0.+0.j, 0.+0.j, 0.+0.j, 0.+0.j, 0.+0.j, 1.+0.j]])"
      ]
     },
     "execution_count": 23,
     "metadata": {},
     "output_type": "execute_result"
    }
   ],
   "source": [
    "_ops_to_matrix(\n",
    "    InteractionGate(Z_BASIS, X_BASIS)(q0, q1),\n",
    "    InteractionGate(Z_BASIS, X_BASIS)(q1, q2),\n",
    "    InteractionGate(Z_BASIS, X_BASIS)(q0, q1),\n",
    ")"
   ]
  },
  {
   "cell_type": "code",
   "execution_count": 24,
   "metadata": {},
   "outputs": [
    {
     "data": {
      "text/html": [
       "<pre style=\"overflow: auto; white-space: pre;\">q0: ───nZ────────\n",
       "       │\n",
       "q1: ───┼────nZ───\n",
       "       │    │\n",
       "q2: ───X────X────</pre>"
      ],
      "text/plain": [
       "q0: ───nZ────────\n",
       "       │\n",
       "q1: ───┼────nZ───\n",
       "       │    │\n",
       "q2: ───X────X────"
      ]
     },
     "metadata": {},
     "output_type": "display_data"
    },
    {
     "data": {
      "text/plain": [
       "array([[1.+0.j, 0.+0.j, 0.+0.j, 0.+0.j, 0.+0.j, 0.+0.j, 0.+0.j, 0.+0.j],\n",
       "       [0.+0.j, 1.+0.j, 0.+0.j, 0.+0.j, 0.+0.j, 0.+0.j, 0.+0.j, 0.+0.j],\n",
       "       [0.+0.j, 0.+0.j, 0.+0.j, 1.+0.j, 0.+0.j, 0.+0.j, 0.+0.j, 0.+0.j],\n",
       "       [0.+0.j, 0.+0.j, 1.+0.j, 0.+0.j, 0.+0.j, 0.+0.j, 0.+0.j, 0.+0.j],\n",
       "       [0.+0.j, 0.+0.j, 0.+0.j, 0.+0.j, 0.+0.j, 1.+0.j, 0.+0.j, 0.+0.j],\n",
       "       [0.+0.j, 0.+0.j, 0.+0.j, 0.+0.j, 1.+0.j, 0.+0.j, 0.+0.j, 0.+0.j],\n",
       "       [0.+0.j, 0.+0.j, 0.+0.j, 0.+0.j, 0.+0.j, 0.+0.j, 1.+0.j, 0.+0.j],\n",
       "       [0.+0.j, 0.+0.j, 0.+0.j, 0.+0.j, 0.+0.j, 0.+0.j, 0.+0.j, 1.+0.j]])"
      ]
     },
     "execution_count": 24,
     "metadata": {},
     "output_type": "execute_result"
    }
   ],
   "source": [
    "_ops_to_matrix(\n",
    "    #ops.X(q0), ops.X(q0),\n",
    "    #InteractionGate(Z_BASIS, Z_BASIS)(q0, q1),\n",
    "    InteractionGate(nZ_BASIS, X_BASIS)(q0, q2),\n",
    "    InteractionGate(nZ_BASIS, X_BASIS)(q1, q2),\n",
    ")"
   ]
  },
  {
   "cell_type": "code",
   "execution_count": 25,
   "metadata": {},
   "outputs": [
    {
     "data": {
      "text/html": [
       "<pre style=\"overflow: auto; white-space: pre;\">q0: ───Z───X───\n",
       "       │   │\n",
       "q1: ───X───Z───</pre>"
      ],
      "text/plain": [
       "q0: ───Z───X───\n",
       "       │   │\n",
       "q1: ───X───Z───"
      ]
     },
     "metadata": {},
     "output_type": "display_data"
    },
    {
     "data": {
      "text/plain": [
       "array([[1.+0.j, 0.+0.j, 0.+0.j, 0.+0.j],\n",
       "       [0.+0.j, 0.+0.j, 1.+0.j, 0.+0.j],\n",
       "       [0.+0.j, 0.+0.j, 0.+0.j, 1.+0.j],\n",
       "       [0.+0.j, 1.+0.j, 0.+0.j, 0.+0.j]])"
      ]
     },
     "execution_count": 25,
     "metadata": {},
     "output_type": "execute_result"
    }
   ],
   "source": [
    "_ops_to_matrix(\n",
    "    InteractionGate(Z_BASIS, X_BASIS)(q0, q1),\n",
    "    InteractionGate(X_BASIS, Z_BASIS)(q0, q1),\n",
    ")"
   ]
  },
  {
   "cell_type": "code",
   "execution_count": null,
   "metadata": {},
   "outputs": [],
   "source": []
  },
  {
   "cell_type": "code",
   "execution_count": 26,
   "metadata": {},
   "outputs": [
    {
     "data": {
      "text/html": [
       "<pre style=\"overflow: auto; white-space: pre;\">q0: ───────X───Z───\n",
       "           │   │\n",
       "q1: ───Y───Z───X───</pre>"
      ],
      "text/plain": [
       "q0: ───────X───Z───\n",
       "           │   │\n",
       "q1: ───Y───Z───X───"
      ]
     },
     "metadata": {},
     "output_type": "display_data"
    },
    {
     "data": {
      "text/plain": [
       "array([[0.+0.j, 0.-1.j, 0.+0.j, 0.+0.j],\n",
       "       [0.+0.j, 0.+0.j, 0.+1.j, 0.+0.j],\n",
       "       [0.+1.j, 0.+0.j, 0.+0.j, 0.+0.j],\n",
       "       [0.+0.j, 0.+0.j, 0.+0.j, 0.-1.j]])"
      ]
     },
     "execution_count": 26,
     "metadata": {},
     "output_type": "execute_result"
    }
   ],
   "source": [
    "_ops_to_matrix(\n",
    "    Y(q1),\n",
    "    InteractionGate(X_BASIS, Z_BASIS)(q0, q1),\n",
    "    InteractionGate(Z_BASIS, X_BASIS)(q0, q1),\n",
    ")"
   ]
  },
  {
   "cell_type": "code",
   "execution_count": 27,
   "metadata": {},
   "outputs": [
    {
     "data": {
      "text/html": [
       "<pre style=\"overflow: auto; white-space: pre;\">q0: ───Z───X───Z───Y───\n",
       "           │   │\n",
       "q1: ───────Z───X───────</pre>"
      ],
      "text/plain": [
       "q0: ───Z───X───Z───Y───\n",
       "           │   │\n",
       "q1: ───────Z───X───────"
      ]
     },
     "metadata": {},
     "output_type": "display_data"
    },
    {
     "data": {
      "text/plain": [
       "array([[0.+0.j, 0.-1.j, 0.+0.j, 0.+0.j],\n",
       "       [0.+0.j, 0.+0.j, 0.+1.j, 0.+0.j],\n",
       "       [0.+1.j, 0.+0.j, 0.+0.j, 0.+0.j],\n",
       "       [0.+0.j, 0.+0.j, 0.+0.j, 0.-1.j]])"
      ]
     },
     "execution_count": 27,
     "metadata": {},
     "output_type": "execute_result"
    }
   ],
   "source": [
    "_ops_to_matrix(\n",
    "    Z(q0),\n",
    "    InteractionGate(X_BASIS, Z_BASIS)(q0, q1),\n",
    "    InteractionGate(Z_BASIS, X_BASIS)(q0, q1),\n",
    "    Y(q0),\n",
    ")"
   ]
  },
  {
   "cell_type": "code",
   "execution_count": 28,
   "metadata": {},
   "outputs": [
    {
     "data": {
      "text/html": [
       "<pre style=\"overflow: auto; white-space: pre;\">q0: ───X───Z───Y───\n",
       "       │   │\n",
       "q1: ───Z───X───Z───</pre>"
      ],
      "text/plain": [
       "q0: ───X───Z───Y───\n",
       "       │   │\n",
       "q1: ───Z───X───Z───"
      ]
     },
     "metadata": {},
     "output_type": "display_data"
    },
    {
     "data": {
      "text/plain": [
       "array([[0.+0.j, 0.-1.j, 0.+0.j, 0.+0.j],\n",
       "       [0.+0.j, 0.+0.j, 0.+1.j, 0.+0.j],\n",
       "       [0.+1.j, 0.+0.j, 0.+0.j, 0.+0.j],\n",
       "       [0.+0.j, 0.+0.j, 0.+0.j, 0.-1.j]])"
      ]
     },
     "execution_count": 28,
     "metadata": {},
     "output_type": "execute_result"
    }
   ],
   "source": [
    "_ops_to_matrix(\n",
    "    InteractionGate(X_BASIS, Z_BASIS)(q0, q1),\n",
    "    InteractionGate(Z_BASIS, X_BASIS)(q0, q1),\n",
    "    Y(q0),\n",
    "    Z(q1),\n",
    ")"
   ]
  },
  {
   "cell_type": "code",
   "execution_count": null,
   "metadata": {},
   "outputs": [],
   "source": []
  },
  {
   "cell_type": "code",
   "execution_count": 29,
   "metadata": {},
   "outputs": [
    {
     "data": {
      "text/html": [
       "<pre style=\"overflow: auto; white-space: pre;\">q0: ───────Z───X───Z───\n",
       "           │   │   │\n",
       "q1: ───Y───X───Z───X───\n",
       "       │\n",
       "q2: ───X───────────────</pre>"
      ],
      "text/plain": [
       "q0: ───────Z───X───Z───\n",
       "           │   │   │\n",
       "q1: ───Y───X───Z───X───\n",
       "       │\n",
       "q2: ───X───────────────"
      ]
     },
     "metadata": {},
     "output_type": "display_data"
    },
    {
     "data": {
      "text/plain": [
       "array([[1.+0.j, 1.+0.j, 0.-1.j, 0.+1.j, 0.+0.j, 0.+0.j, 0.+0.j, 0.+0.j],\n",
       "       [1.+0.j, 1.+0.j, 0.+1.j, 0.-1.j, 0.+0.j, 0.+0.j, 0.+0.j, 0.+0.j],\n",
       "       [0.+0.j, 0.+0.j, 0.+0.j, 0.+0.j, 1.+0.j, 1.+0.j, 0.-1.j, 0.+1.j],\n",
       "       [0.+0.j, 0.+0.j, 0.+0.j, 0.+0.j, 1.+0.j, 1.+0.j, 0.+1.j, 0.-1.j],\n",
       "       [0.+1.j, 0.-1.j, 1.+0.j, 1.+0.j, 0.+0.j, 0.+0.j, 0.+0.j, 0.+0.j],\n",
       "       [0.-1.j, 0.+1.j, 1.+0.j, 1.+0.j, 0.+0.j, 0.+0.j, 0.+0.j, 0.+0.j],\n",
       "       [0.+0.j, 0.+0.j, 0.+0.j, 0.+0.j, 0.+1.j, 0.-1.j, 1.+0.j, 1.+0.j],\n",
       "       [0.+0.j, 0.+0.j, 0.+0.j, 0.+0.j, 0.-1.j, 0.+1.j, 1.+0.j, 1.+0.j]])"
      ]
     },
     "execution_count": 29,
     "metadata": {},
     "output_type": "execute_result"
    }
   ],
   "source": [
    "_ops_to_matrix(\n",
    "    InteractionGate(Y_BASIS, X_BASIS)(q1, q2),\n",
    "    InteractionGate(Z_BASIS, X_BASIS)(q0, q1),\n",
    "    InteractionGate(X_BASIS, Z_BASIS)(q0, q1),\n",
    "    InteractionGate(Z_BASIS, X_BASIS)(q0, q1),\n",
    ") / .5"
   ]
  },
  {
   "cell_type": "code",
   "execution_count": 30,
   "metadata": {},
   "outputs": [
    {
     "data": {
      "text/html": [
       "<pre style=\"overflow: auto; white-space: pre;\">q0: ───Z───X───Z───Y───\n",
       "       │   │   │   │\n",
       "q1: ───X───Z───X───┼───\n",
       "                   │\n",
       "q2: ───────────────X───</pre>"
      ],
      "text/plain": [
       "q0: ───Z───X───Z───Y───\n",
       "       │   │   │   │\n",
       "q1: ───X───Z───X───┼───\n",
       "                   │\n",
       "q2: ───────────────X───"
      ]
     },
     "metadata": {},
     "output_type": "display_data"
    },
    {
     "data": {
      "text/plain": [
       "array([[1.+0.j, 1.+0.j, 0.-1.j, 0.+1.j, 0.+0.j, 0.+0.j, 0.+0.j, 0.+0.j],\n",
       "       [1.+0.j, 1.+0.j, 0.+1.j, 0.-1.j, 0.+0.j, 0.+0.j, 0.+0.j, 0.+0.j],\n",
       "       [0.+0.j, 0.+0.j, 0.+0.j, 0.+0.j, 1.+0.j, 1.+0.j, 0.-1.j, 0.+1.j],\n",
       "       [0.+0.j, 0.+0.j, 0.+0.j, 0.+0.j, 1.+0.j, 1.+0.j, 0.+1.j, 0.-1.j],\n",
       "       [0.+1.j, 0.-1.j, 1.+0.j, 1.+0.j, 0.+0.j, 0.+0.j, 0.+0.j, 0.+0.j],\n",
       "       [0.-1.j, 0.+1.j, 1.+0.j, 1.+0.j, 0.+0.j, 0.+0.j, 0.+0.j, 0.+0.j],\n",
       "       [0.+0.j, 0.+0.j, 0.+0.j, 0.+0.j, 0.+1.j, 0.-1.j, 1.+0.j, 1.+0.j],\n",
       "       [0.+0.j, 0.+0.j, 0.+0.j, 0.+0.j, 0.-1.j, 0.+1.j, 1.+0.j, 1.+0.j]])"
      ]
     },
     "execution_count": 30,
     "metadata": {},
     "output_type": "execute_result"
    }
   ],
   "source": [
    "_ops_to_matrix(\n",
    "    #Z(q0),\n",
    "    InteractionGate(Z_BASIS, X_BASIS)(q0, q1),\n",
    "    InteractionGate(X_BASIS, Z_BASIS)(q0, q1),\n",
    "    InteractionGate(Z_BASIS, X_BASIS)(q0, q1),\n",
    "    InteractionGate(Y_BASIS, X_BASIS)(q0, q2),\n",
    ") / .5"
   ]
  },
  {
   "cell_type": "code",
   "execution_count": null,
   "metadata": {},
   "outputs": [],
   "source": []
  },
  {
   "cell_type": "code",
   "execution_count": 31,
   "metadata": {},
   "outputs": [
    {
     "data": {
      "text/html": [
       "<pre style=\"overflow: auto; white-space: pre;\">q0: ───Z───Y───\n",
       "       │   │\n",
       "q1: ───Y───X───</pre>"
      ],
      "text/plain": [
       "q0: ───Z───Y───\n",
       "       │   │\n",
       "q1: ───Y───X───"
      ]
     },
     "metadata": {},
     "output_type": "display_data"
    }
   ],
   "source": [
    "target = _ops_to_matrix(\n",
    "    InteractionGate(Z_BASIS, Y_BASIS)(q0, q1),\n",
    "    InteractionGate(Y_BASIS, X_BASIS)(q0, q1),\n",
    "    #InteractionGate(Z_BASIS, X_BASIS)(q0, q1),\n",
    ")"
   ]
  },
  {
   "cell_type": "code",
   "execution_count": 33,
   "metadata": {},
   "outputs": [
    {
     "data": {
      "text/html": [
       "<pre style=\"overflow: auto; white-space: pre;\">q0: ───X───X───\n",
       "       │   │\n",
       "q1: ───X───X───</pre>"
      ],
      "text/plain": [
       "q0: ───X───X───\n",
       "       │   │\n",
       "q1: ───X───X───"
      ]
     },
     "metadata": {},
     "output_type": "display_data"
    },
    {
     "data": {
      "text/html": [
       "<pre style=\"overflow: auto; white-space: pre;\">q0: ───X───X───\n",
       "       │   │\n",
       "q1: ───X───Y───</pre>"
      ],
      "text/plain": [
       "q0: ───X───X───\n",
       "       │   │\n",
       "q1: ───X───Y───"
      ]
     },
     "metadata": {},
     "output_type": "display_data"
    },
    {
     "data": {
      "text/html": [
       "<pre style=\"overflow: auto; white-space: pre;\">q0: ───X───X───\n",
       "       │   │\n",
       "q1: ───X───Z───</pre>"
      ],
      "text/plain": [
       "q0: ───X───X───\n",
       "       │   │\n",
       "q1: ───X───Z───"
      ]
     },
     "metadata": {},
     "output_type": "display_data"
    },
    {
     "data": {
      "text/html": [
       "<pre style=\"overflow: auto; white-space: pre;\">q0: ───X───X────\n",
       "       │   │\n",
       "q1: ───X───nX───</pre>"
      ],
      "text/plain": [
       "q0: ───X───X────\n",
       "       │   │\n",
       "q1: ───X───nX───"
      ]
     },
     "metadata": {},
     "output_type": "display_data"
    },
    {
     "data": {
      "text/html": [
       "<pre style=\"overflow: auto; white-space: pre;\">q0: ───X───X────\n",
       "       │   │\n",
       "q1: ───X───nY───</pre>"
      ],
      "text/plain": [
       "q0: ───X───X────\n",
       "       │   │\n",
       "q1: ───X───nY───"
      ]
     },
     "metadata": {},
     "output_type": "display_data"
    },
    {
     "data": {
      "text/html": [
       "<pre style=\"overflow: auto; white-space: pre;\">q0: ───X───X────\n",
       "       │   │\n",
       "q1: ───X───nZ───</pre>"
      ],
      "text/plain": [
       "q0: ───X───X────\n",
       "       │   │\n",
       "q1: ───X───nZ───"
      ]
     },
     "metadata": {},
     "output_type": "display_data"
    },
    {
     "data": {
      "text/html": [
       "<pre style=\"overflow: auto; white-space: pre;\">q0: ───X───Y───\n",
       "       │   │\n",
       "q1: ───X───X───</pre>"
      ],
      "text/plain": [
       "q0: ───X───Y───\n",
       "       │   │\n",
       "q1: ───X───X───"
      ]
     },
     "metadata": {},
     "output_type": "display_data"
    },
    {
     "data": {
      "text/html": [
       "<pre style=\"overflow: auto; white-space: pre;\">q0: ───X───Y───\n",
       "       │   │\n",
       "q1: ───X───Y───</pre>"
      ],
      "text/plain": [
       "q0: ───X───Y───\n",
       "       │   │\n",
       "q1: ───X───Y───"
      ]
     },
     "metadata": {},
     "output_type": "display_data"
    },
    {
     "data": {
      "text/html": [
       "<pre style=\"overflow: auto; white-space: pre;\">q0: ───X───Y───\n",
       "       │   │\n",
       "q1: ───X───Z───</pre>"
      ],
      "text/plain": [
       "q0: ───X───Y───\n",
       "       │   │\n",
       "q1: ───X───Z───"
      ]
     },
     "metadata": {},
     "output_type": "display_data"
    },
    {
     "data": {
      "text/html": [
       "<pre style=\"overflow: auto; white-space: pre;\">q0: ───X───Y────\n",
       "       │   │\n",
       "q1: ───X───nX───</pre>"
      ],
      "text/plain": [
       "q0: ───X───Y────\n",
       "       │   │\n",
       "q1: ───X───nX───"
      ]
     },
     "metadata": {},
     "output_type": "display_data"
    },
    {
     "data": {
      "text/html": [
       "<pre style=\"overflow: auto; white-space: pre;\">q0: ───X───Y────\n",
       "       │   │\n",
       "q1: ───X───nY───</pre>"
      ],
      "text/plain": [
       "q0: ───X───Y────\n",
       "       │   │\n",
       "q1: ───X───nY───"
      ]
     },
     "metadata": {},
     "output_type": "display_data"
    },
    {
     "data": {
      "text/html": [
       "<pre style=\"overflow: auto; white-space: pre;\">q0: ───X───Y────\n",
       "       │   │\n",
       "q1: ───X───nZ───</pre>"
      ],
      "text/plain": [
       "q0: ───X───Y────\n",
       "       │   │\n",
       "q1: ───X───nZ───"
      ]
     },
     "metadata": {},
     "output_type": "display_data"
    },
    {
     "data": {
      "text/html": [
       "<pre style=\"overflow: auto; white-space: pre;\">q0: ───X───Z───\n",
       "       │   │\n",
       "q1: ───X───X───</pre>"
      ],
      "text/plain": [
       "q0: ───X───Z───\n",
       "       │   │\n",
       "q1: ───X───X───"
      ]
     },
     "metadata": {},
     "output_type": "display_data"
    },
    {
     "data": {
      "text/html": [
       "<pre style=\"overflow: auto; white-space: pre;\">q0: ───X───Z───\n",
       "       │   │\n",
       "q1: ───X───Y───</pre>"
      ],
      "text/plain": [
       "q0: ───X───Z───\n",
       "       │   │\n",
       "q1: ───X───Y───"
      ]
     },
     "metadata": {},
     "output_type": "display_data"
    },
    {
     "data": {
      "text/html": [
       "<pre style=\"overflow: auto; white-space: pre;\">q0: ───X───Z───\n",
       "       │   │\n",
       "q1: ───X───Z───</pre>"
      ],
      "text/plain": [
       "q0: ───X───Z───\n",
       "       │   │\n",
       "q1: ───X───Z───"
      ]
     },
     "metadata": {},
     "output_type": "display_data"
    },
    {
     "data": {
      "text/html": [
       "<pre style=\"overflow: auto; white-space: pre;\">q0: ───X───Z────\n",
       "       │   │\n",
       "q1: ───X───nX───</pre>"
      ],
      "text/plain": [
       "q0: ───X───Z────\n",
       "       │   │\n",
       "q1: ───X───nX───"
      ]
     },
     "metadata": {},
     "output_type": "display_data"
    },
    {
     "data": {
      "text/html": [
       "<pre style=\"overflow: auto; white-space: pre;\">q0: ───X───Z────\n",
       "       │   │\n",
       "q1: ───X───nY───</pre>"
      ],
      "text/plain": [
       "q0: ───X───Z────\n",
       "       │   │\n",
       "q1: ───X───nY───"
      ]
     },
     "metadata": {},
     "output_type": "display_data"
    },
    {
     "data": {
      "text/html": [
       "<pre style=\"overflow: auto; white-space: pre;\">q0: ───X───Z────\n",
       "       │   │\n",
       "q1: ───X───nZ───</pre>"
      ],
      "text/plain": [
       "q0: ───X───Z────\n",
       "       │   │\n",
       "q1: ───X───nZ───"
      ]
     },
     "metadata": {},
     "output_type": "display_data"
    },
    {
     "data": {
      "text/html": [
       "<pre style=\"overflow: auto; white-space: pre;\">q0: ───X───nX───\n",
       "       │   │\n",
       "q1: ───X───X────</pre>"
      ],
      "text/plain": [
       "q0: ───X───nX───\n",
       "       │   │\n",
       "q1: ───X───X────"
      ]
     },
     "metadata": {},
     "output_type": "display_data"
    },
    {
     "data": {
      "text/html": [
       "<pre style=\"overflow: auto; white-space: pre;\">q0: ───X───nX───\n",
       "       │   │\n",
       "q1: ───X───Y────</pre>"
      ],
      "text/plain": [
       "q0: ───X───nX───\n",
       "       │   │\n",
       "q1: ───X───Y────"
      ]
     },
     "metadata": {},
     "output_type": "display_data"
    },
    {
     "data": {
      "text/html": [
       "<pre style=\"overflow: auto; white-space: pre;\">q0: ───X───nX───\n",
       "       │   │\n",
       "q1: ───X───Z────</pre>"
      ],
      "text/plain": [
       "q0: ───X───nX───\n",
       "       │   │\n",
       "q1: ───X───Z────"
      ]
     },
     "metadata": {},
     "output_type": "display_data"
    },
    {
     "data": {
      "text/html": [
       "<pre style=\"overflow: auto; white-space: pre;\">q0: ───X───nX───\n",
       "       │   │\n",
       "q1: ───X───nX───</pre>"
      ],
      "text/plain": [
       "q0: ───X───nX───\n",
       "       │   │\n",
       "q1: ───X───nX───"
      ]
     },
     "metadata": {},
     "output_type": "display_data"
    },
    {
     "data": {
      "text/html": [
       "<pre style=\"overflow: auto; white-space: pre;\">q0: ───X───nX───\n",
       "       │   │\n",
       "q1: ───X───nY───</pre>"
      ],
      "text/plain": [
       "q0: ───X───nX───\n",
       "       │   │\n",
       "q1: ───X───nY───"
      ]
     },
     "metadata": {},
     "output_type": "display_data"
    },
    {
     "data": {
      "text/html": [
       "<pre style=\"overflow: auto; white-space: pre;\">q0: ───X───nX───\n",
       "       │   │\n",
       "q1: ───X───nZ───</pre>"
      ],
      "text/plain": [
       "q0: ───X───nX───\n",
       "       │   │\n",
       "q1: ───X───nZ───"
      ]
     },
     "metadata": {},
     "output_type": "display_data"
    },
    {
     "data": {
      "text/html": [
       "<pre style=\"overflow: auto; white-space: pre;\">q0: ───X───nY───\n",
       "       │   │\n",
       "q1: ───X───X────</pre>"
      ],
      "text/plain": [
       "q0: ───X───nY───\n",
       "       │   │\n",
       "q1: ───X───X────"
      ]
     },
     "metadata": {},
     "output_type": "display_data"
    },
    {
     "data": {
      "text/html": [
       "<pre style=\"overflow: auto; white-space: pre;\">q0: ───X───nY───\n",
       "       │   │\n",
       "q1: ───X───Y────</pre>"
      ],
      "text/plain": [
       "q0: ───X───nY───\n",
       "       │   │\n",
       "q1: ───X───Y────"
      ]
     },
     "metadata": {},
     "output_type": "display_data"
    },
    {
     "data": {
      "text/html": [
       "<pre style=\"overflow: auto; white-space: pre;\">q0: ───X───nY───\n",
       "       │   │\n",
       "q1: ───X───Z────</pre>"
      ],
      "text/plain": [
       "q0: ───X───nY───\n",
       "       │   │\n",
       "q1: ───X───Z────"
      ]
     },
     "metadata": {},
     "output_type": "display_data"
    },
    {
     "data": {
      "text/html": [
       "<pre style=\"overflow: auto; white-space: pre;\">q0: ───X───nY───\n",
       "       │   │\n",
       "q1: ───X───nX───</pre>"
      ],
      "text/plain": [
       "q0: ───X───nY───\n",
       "       │   │\n",
       "q1: ───X───nX───"
      ]
     },
     "metadata": {},
     "output_type": "display_data"
    },
    {
     "data": {
      "text/html": [
       "<pre style=\"overflow: auto; white-space: pre;\">q0: ───X───nY───\n",
       "       │   │\n",
       "q1: ───X───nY───</pre>"
      ],
      "text/plain": [
       "q0: ───X───nY───\n",
       "       │   │\n",
       "q1: ───X───nY───"
      ]
     },
     "metadata": {},
     "output_type": "display_data"
    },
    {
     "data": {
      "text/html": [
       "<pre style=\"overflow: auto; white-space: pre;\">q0: ───X───nY───\n",
       "       │   │\n",
       "q1: ───X───nZ───</pre>"
      ],
      "text/plain": [
       "q0: ───X───nY───\n",
       "       │   │\n",
       "q1: ───X───nZ───"
      ]
     },
     "metadata": {},
     "output_type": "display_data"
    },
    {
     "data": {
      "text/html": [
       "<pre style=\"overflow: auto; white-space: pre;\">q0: ───X───nZ───\n",
       "       │   │\n",
       "q1: ───X───X────</pre>"
      ],
      "text/plain": [
       "q0: ───X───nZ───\n",
       "       │   │\n",
       "q1: ───X───X────"
      ]
     },
     "metadata": {},
     "output_type": "display_data"
    },
    {
     "data": {
      "text/html": [
       "<pre style=\"overflow: auto; white-space: pre;\">q0: ───X───nZ───\n",
       "       │   │\n",
       "q1: ───X───Y────</pre>"
      ],
      "text/plain": [
       "q0: ───X───nZ───\n",
       "       │   │\n",
       "q1: ───X───Y────"
      ]
     },
     "metadata": {},
     "output_type": "display_data"
    },
    {
     "data": {
      "text/html": [
       "<pre style=\"overflow: auto; white-space: pre;\">q0: ───X───nZ───\n",
       "       │   │\n",
       "q1: ───X───Z────</pre>"
      ],
      "text/plain": [
       "q0: ───X───nZ───\n",
       "       │   │\n",
       "q1: ───X───Z────"
      ]
     },
     "metadata": {},
     "output_type": "display_data"
    },
    {
     "data": {
      "text/html": [
       "<pre style=\"overflow: auto; white-space: pre;\">q0: ───X───nZ───\n",
       "       │   │\n",
       "q1: ───X───nX───</pre>"
      ],
      "text/plain": [
       "q0: ───X───nZ───\n",
       "       │   │\n",
       "q1: ───X───nX───"
      ]
     },
     "metadata": {},
     "output_type": "display_data"
    },
    {
     "data": {
      "text/html": [
       "<pre style=\"overflow: auto; white-space: pre;\">q0: ───X───nZ───\n",
       "       │   │\n",
       "q1: ───X───nY───</pre>"
      ],
      "text/plain": [
       "q0: ───X───nZ───\n",
       "       │   │\n",
       "q1: ───X───nY───"
      ]
     },
     "metadata": {},
     "output_type": "display_data"
    },
    {
     "data": {
      "text/html": [
       "<pre style=\"overflow: auto; white-space: pre;\">q0: ───X───nZ───\n",
       "       │   │\n",
       "q1: ───X───nZ───</pre>"
      ],
      "text/plain": [
       "q0: ───X───nZ───\n",
       "       │   │\n",
       "q1: ───X───nZ───"
      ]
     },
     "metadata": {},
     "output_type": "display_data"
    },
    {
     "data": {
      "text/html": [
       "<pre style=\"overflow: auto; white-space: pre;\">q0: ───X───X───\n",
       "       │   │\n",
       "q1: ───Y───X───</pre>"
      ],
      "text/plain": [
       "q0: ───X───X───\n",
       "       │   │\n",
       "q1: ───Y───X───"
      ]
     },
     "metadata": {},
     "output_type": "display_data"
    },
    {
     "data": {
      "text/html": [
       "<pre style=\"overflow: auto; white-space: pre;\">q0: ───X───X───\n",
       "       │   │\n",
       "q1: ───Y───Y───</pre>"
      ],
      "text/plain": [
       "q0: ───X───X───\n",
       "       │   │\n",
       "q1: ───Y───Y───"
      ]
     },
     "metadata": {},
     "output_type": "display_data"
    },
    {
     "data": {
      "text/html": [
       "<pre style=\"overflow: auto; white-space: pre;\">q0: ───X───X───\n",
       "       │   │\n",
       "q1: ───Y───Z───</pre>"
      ],
      "text/plain": [
       "q0: ───X───X───\n",
       "       │   │\n",
       "q1: ───Y───Z───"
      ]
     },
     "metadata": {},
     "output_type": "display_data"
    },
    {
     "data": {
      "text/html": [
       "<pre style=\"overflow: auto; white-space: pre;\">q0: ───X───X────\n",
       "       │   │\n",
       "q1: ───Y───nX───</pre>"
      ],
      "text/plain": [
       "q0: ───X───X────\n",
       "       │   │\n",
       "q1: ───Y───nX───"
      ]
     },
     "metadata": {},
     "output_type": "display_data"
    },
    {
     "data": {
      "text/html": [
       "<pre style=\"overflow: auto; white-space: pre;\">q0: ───X───X────\n",
       "       │   │\n",
       "q1: ───Y───nY───</pre>"
      ],
      "text/plain": [
       "q0: ───X───X────\n",
       "       │   │\n",
       "q1: ───Y───nY───"
      ]
     },
     "metadata": {},
     "output_type": "display_data"
    },
    {
     "data": {
      "text/html": [
       "<pre style=\"overflow: auto; white-space: pre;\">q0: ───X───X────\n",
       "       │   │\n",
       "q1: ───Y───nZ───</pre>"
      ],
      "text/plain": [
       "q0: ───X───X────\n",
       "       │   │\n",
       "q1: ───Y───nZ───"
      ]
     },
     "metadata": {},
     "output_type": "display_data"
    },
    {
     "data": {
      "text/html": [
       "<pre style=\"overflow: auto; white-space: pre;\">q0: ───X───Y───\n",
       "       │   │\n",
       "q1: ───Y───X───</pre>"
      ],
      "text/plain": [
       "q0: ───X───Y───\n",
       "       │   │\n",
       "q1: ───Y───X───"
      ]
     },
     "metadata": {},
     "output_type": "display_data"
    },
    {
     "data": {
      "text/html": [
       "<pre style=\"overflow: auto; white-space: pre;\">q0: ───X───Y───\n",
       "       │   │\n",
       "q1: ───Y───Y───</pre>"
      ],
      "text/plain": [
       "q0: ───X───Y───\n",
       "       │   │\n",
       "q1: ───Y───Y───"
      ]
     },
     "metadata": {},
     "output_type": "display_data"
    },
    {
     "data": {
      "text/html": [
       "<pre style=\"overflow: auto; white-space: pre;\">q0: ───X───Y───\n",
       "       │   │\n",
       "q1: ───Y───Z───</pre>"
      ],
      "text/plain": [
       "q0: ───X───Y───\n",
       "       │   │\n",
       "q1: ───Y───Z───"
      ]
     },
     "metadata": {},
     "output_type": "display_data"
    },
    {
     "data": {
      "text/html": [
       "<pre style=\"overflow: auto; white-space: pre;\">q0: ───X───Y────\n",
       "       │   │\n",
       "q1: ───Y───nX───</pre>"
      ],
      "text/plain": [
       "q0: ───X───Y────\n",
       "       │   │\n",
       "q1: ───Y───nX───"
      ]
     },
     "metadata": {},
     "output_type": "display_data"
    },
    {
     "data": {
      "text/html": [
       "<pre style=\"overflow: auto; white-space: pre;\">q0: ───X───Y────\n",
       "       │   │\n",
       "q1: ───Y───nY───</pre>"
      ],
      "text/plain": [
       "q0: ───X───Y────\n",
       "       │   │\n",
       "q1: ───Y───nY───"
      ]
     },
     "metadata": {},
     "output_type": "display_data"
    },
    {
     "data": {
      "text/html": [
       "<pre style=\"overflow: auto; white-space: pre;\">q0: ───X───Y────\n",
       "       │   │\n",
       "q1: ───Y───nZ───</pre>"
      ],
      "text/plain": [
       "q0: ───X───Y────\n",
       "       │   │\n",
       "q1: ───Y───nZ───"
      ]
     },
     "metadata": {},
     "output_type": "display_data"
    },
    {
     "data": {
      "text/html": [
       "<pre style=\"overflow: auto; white-space: pre;\">q0: ───X───Z───\n",
       "       │   │\n",
       "q1: ───Y───X───</pre>"
      ],
      "text/plain": [
       "q0: ───X───Z───\n",
       "       │   │\n",
       "q1: ───Y───X───"
      ]
     },
     "metadata": {},
     "output_type": "display_data"
    },
    {
     "data": {
      "text/html": [
       "<pre style=\"overflow: auto; white-space: pre;\">q0: ───X───Z───\n",
       "       │   │\n",
       "q1: ───Y───Y───</pre>"
      ],
      "text/plain": [
       "q0: ───X───Z───\n",
       "       │   │\n",
       "q1: ───Y───Y───"
      ]
     },
     "metadata": {},
     "output_type": "display_data"
    },
    {
     "data": {
      "text/html": [
       "<pre style=\"overflow: auto; white-space: pre;\">q0: ───X───Z───\n",
       "       │   │\n",
       "q1: ───Y───Z───</pre>"
      ],
      "text/plain": [
       "q0: ───X───Z───\n",
       "       │   │\n",
       "q1: ───Y───Z───"
      ]
     },
     "metadata": {},
     "output_type": "display_data"
    },
    {
     "data": {
      "text/html": [
       "<pre style=\"overflow: auto; white-space: pre;\">q0: ───X───Z────\n",
       "       │   │\n",
       "q1: ───Y───nX───</pre>"
      ],
      "text/plain": [
       "q0: ───X───Z────\n",
       "       │   │\n",
       "q1: ───Y───nX───"
      ]
     },
     "metadata": {},
     "output_type": "display_data"
    },
    {
     "data": {
      "text/html": [
       "<pre style=\"overflow: auto; white-space: pre;\">q0: ───X───Z────\n",
       "       │   │\n",
       "q1: ───Y───nY───</pre>"
      ],
      "text/plain": [
       "q0: ───X───Z────\n",
       "       │   │\n",
       "q1: ───Y───nY───"
      ]
     },
     "metadata": {},
     "output_type": "display_data"
    },
    {
     "data": {
      "text/html": [
       "<pre style=\"overflow: auto; white-space: pre;\">q0: ───X───Z────\n",
       "       │   │\n",
       "q1: ───Y───nZ───</pre>"
      ],
      "text/plain": [
       "q0: ───X───Z────\n",
       "       │   │\n",
       "q1: ───Y───nZ───"
      ]
     },
     "metadata": {},
     "output_type": "display_data"
    },
    {
     "data": {
      "text/html": [
       "<pre style=\"overflow: auto; white-space: pre;\">q0: ───X───nX───\n",
       "       │   │\n",
       "q1: ───Y───X────</pre>"
      ],
      "text/plain": [
       "q0: ───X───nX───\n",
       "       │   │\n",
       "q1: ───Y───X────"
      ]
     },
     "metadata": {},
     "output_type": "display_data"
    },
    {
     "data": {
      "text/html": [
       "<pre style=\"overflow: auto; white-space: pre;\">q0: ───X───nX───\n",
       "       │   │\n",
       "q1: ───Y───Y────</pre>"
      ],
      "text/plain": [
       "q0: ───X───nX───\n",
       "       │   │\n",
       "q1: ───Y───Y────"
      ]
     },
     "metadata": {},
     "output_type": "display_data"
    },
    {
     "data": {
      "text/html": [
       "<pre style=\"overflow: auto; white-space: pre;\">q0: ───X───nX───\n",
       "       │   │\n",
       "q1: ───Y───Z────</pre>"
      ],
      "text/plain": [
       "q0: ───X───nX───\n",
       "       │   │\n",
       "q1: ───Y───Z────"
      ]
     },
     "metadata": {},
     "output_type": "display_data"
    },
    {
     "data": {
      "text/html": [
       "<pre style=\"overflow: auto; white-space: pre;\">q0: ───X───nX───\n",
       "       │   │\n",
       "q1: ───Y───nX───</pre>"
      ],
      "text/plain": [
       "q0: ───X───nX───\n",
       "       │   │\n",
       "q1: ───Y───nX───"
      ]
     },
     "metadata": {},
     "output_type": "display_data"
    },
    {
     "data": {
      "text/html": [
       "<pre style=\"overflow: auto; white-space: pre;\">q0: ───X───nX───\n",
       "       │   │\n",
       "q1: ───Y───nY───</pre>"
      ],
      "text/plain": [
       "q0: ───X───nX───\n",
       "       │   │\n",
       "q1: ───Y───nY───"
      ]
     },
     "metadata": {},
     "output_type": "display_data"
    },
    {
     "data": {
      "text/html": [
       "<pre style=\"overflow: auto; white-space: pre;\">q0: ───X───nX───\n",
       "       │   │\n",
       "q1: ───Y───nZ───</pre>"
      ],
      "text/plain": [
       "q0: ───X───nX───\n",
       "       │   │\n",
       "q1: ───Y───nZ───"
      ]
     },
     "metadata": {},
     "output_type": "display_data"
    },
    {
     "data": {
      "text/html": [
       "<pre style=\"overflow: auto; white-space: pre;\">q0: ───X───nY───\n",
       "       │   │\n",
       "q1: ───Y───X────</pre>"
      ],
      "text/plain": [
       "q0: ───X───nY───\n",
       "       │   │\n",
       "q1: ───Y───X────"
      ]
     },
     "metadata": {},
     "output_type": "display_data"
    },
    {
     "data": {
      "text/html": [
       "<pre style=\"overflow: auto; white-space: pre;\">q0: ───X───nY───\n",
       "       │   │\n",
       "q1: ───Y───Y────</pre>"
      ],
      "text/plain": [
       "q0: ───X───nY───\n",
       "       │   │\n",
       "q1: ───Y───Y────"
      ]
     },
     "metadata": {},
     "output_type": "display_data"
    },
    {
     "data": {
      "text/html": [
       "<pre style=\"overflow: auto; white-space: pre;\">q0: ───X───nY───\n",
       "       │   │\n",
       "q1: ───Y───Z────</pre>"
      ],
      "text/plain": [
       "q0: ───X───nY───\n",
       "       │   │\n",
       "q1: ───Y───Z────"
      ]
     },
     "metadata": {},
     "output_type": "display_data"
    },
    {
     "data": {
      "text/html": [
       "<pre style=\"overflow: auto; white-space: pre;\">q0: ───X───nY───\n",
       "       │   │\n",
       "q1: ───Y───nX───</pre>"
      ],
      "text/plain": [
       "q0: ───X───nY───\n",
       "       │   │\n",
       "q1: ───Y───nX───"
      ]
     },
     "metadata": {},
     "output_type": "display_data"
    },
    {
     "data": {
      "text/html": [
       "<pre style=\"overflow: auto; white-space: pre;\">q0: ───X───nY───\n",
       "       │   │\n",
       "q1: ───Y───nY───</pre>"
      ],
      "text/plain": [
       "q0: ───X───nY───\n",
       "       │   │\n",
       "q1: ───Y───nY───"
      ]
     },
     "metadata": {},
     "output_type": "display_data"
    },
    {
     "data": {
      "text/html": [
       "<pre style=\"overflow: auto; white-space: pre;\">q0: ───X───nY───\n",
       "       │   │\n",
       "q1: ───Y───nZ───</pre>"
      ],
      "text/plain": [
       "q0: ───X───nY───\n",
       "       │   │\n",
       "q1: ───Y───nZ───"
      ]
     },
     "metadata": {},
     "output_type": "display_data"
    },
    {
     "data": {
      "text/html": [
       "<pre style=\"overflow: auto; white-space: pre;\">q0: ───X───nZ───\n",
       "       │   │\n",
       "q1: ───Y───X────</pre>"
      ],
      "text/plain": [
       "q0: ───X───nZ───\n",
       "       │   │\n",
       "q1: ───Y───X────"
      ]
     },
     "metadata": {},
     "output_type": "display_data"
    },
    {
     "data": {
      "text/html": [
       "<pre style=\"overflow: auto; white-space: pre;\">q0: ───X───nZ───\n",
       "       │   │\n",
       "q1: ───Y───Y────</pre>"
      ],
      "text/plain": [
       "q0: ───X───nZ───\n",
       "       │   │\n",
       "q1: ───Y───Y────"
      ]
     },
     "metadata": {},
     "output_type": "display_data"
    },
    {
     "data": {
      "text/html": [
       "<pre style=\"overflow: auto; white-space: pre;\">q0: ───X───nZ───\n",
       "       │   │\n",
       "q1: ───Y───Z────</pre>"
      ],
      "text/plain": [
       "q0: ───X───nZ───\n",
       "       │   │\n",
       "q1: ───Y───Z────"
      ]
     },
     "metadata": {},
     "output_type": "display_data"
    },
    {
     "data": {
      "text/html": [
       "<pre style=\"overflow: auto; white-space: pre;\">q0: ───X───nZ───\n",
       "       │   │\n",
       "q1: ───Y───nX───</pre>"
      ],
      "text/plain": [
       "q0: ───X───nZ───\n",
       "       │   │\n",
       "q1: ───Y───nX───"
      ]
     },
     "metadata": {},
     "output_type": "display_data"
    },
    {
     "data": {
      "text/html": [
       "<pre style=\"overflow: auto; white-space: pre;\">q0: ───X───nZ───\n",
       "       │   │\n",
       "q1: ───Y───nY───</pre>"
      ],
      "text/plain": [
       "q0: ───X───nZ───\n",
       "       │   │\n",
       "q1: ───Y───nY───"
      ]
     },
     "metadata": {},
     "output_type": "display_data"
    },
    {
     "data": {
      "text/html": [
       "<pre style=\"overflow: auto; white-space: pre;\">q0: ───X───nZ───\n",
       "       │   │\n",
       "q1: ───Y───nZ───</pre>"
      ],
      "text/plain": [
       "q0: ───X───nZ───\n",
       "       │   │\n",
       "q1: ───Y───nZ───"
      ]
     },
     "metadata": {},
     "output_type": "display_data"
    },
    {
     "data": {
      "text/html": [
       "<pre style=\"overflow: auto; white-space: pre;\">q0: ───X───X───\n",
       "       │   │\n",
       "q1: ───Z───X───</pre>"
      ],
      "text/plain": [
       "q0: ───X───X───\n",
       "       │   │\n",
       "q1: ───Z───X───"
      ]
     },
     "metadata": {},
     "output_type": "display_data"
    },
    {
     "data": {
      "text/html": [
       "<pre style=\"overflow: auto; white-space: pre;\">q0: ───X───X───\n",
       "       │   │\n",
       "q1: ───Z───Y───</pre>"
      ],
      "text/plain": [
       "q0: ───X───X───\n",
       "       │   │\n",
       "q1: ───Z───Y───"
      ]
     },
     "metadata": {},
     "output_type": "display_data"
    },
    {
     "data": {
      "text/html": [
       "<pre style=\"overflow: auto; white-space: pre;\">q0: ───X───X───\n",
       "       │   │\n",
       "q1: ───Z───Z───</pre>"
      ],
      "text/plain": [
       "q0: ───X───X───\n",
       "       │   │\n",
       "q1: ───Z───Z───"
      ]
     },
     "metadata": {},
     "output_type": "display_data"
    },
    {
     "data": {
      "text/html": [
       "<pre style=\"overflow: auto; white-space: pre;\">q0: ───X───X────\n",
       "       │   │\n",
       "q1: ───Z───nX───</pre>"
      ],
      "text/plain": [
       "q0: ───X───X────\n",
       "       │   │\n",
       "q1: ───Z───nX───"
      ]
     },
     "metadata": {},
     "output_type": "display_data"
    },
    {
     "data": {
      "text/html": [
       "<pre style=\"overflow: auto; white-space: pre;\">q0: ───X───X────\n",
       "       │   │\n",
       "q1: ───Z───nY───</pre>"
      ],
      "text/plain": [
       "q0: ───X───X────\n",
       "       │   │\n",
       "q1: ───Z───nY───"
      ]
     },
     "metadata": {},
     "output_type": "display_data"
    },
    {
     "data": {
      "text/html": [
       "<pre style=\"overflow: auto; white-space: pre;\">q0: ───X───X────\n",
       "       │   │\n",
       "q1: ───Z───nZ───</pre>"
      ],
      "text/plain": [
       "q0: ───X───X────\n",
       "       │   │\n",
       "q1: ───Z───nZ───"
      ]
     },
     "metadata": {},
     "output_type": "display_data"
    },
    {
     "data": {
      "text/html": [
       "<pre style=\"overflow: auto; white-space: pre;\">q0: ───X───Y───\n",
       "       │   │\n",
       "q1: ───Z───X───</pre>"
      ],
      "text/plain": [
       "q0: ───X───Y───\n",
       "       │   │\n",
       "q1: ───Z───X───"
      ]
     },
     "metadata": {},
     "output_type": "display_data"
    },
    {
     "data": {
      "text/html": [
       "<pre style=\"overflow: auto; white-space: pre;\">q0: ───X───Y───\n",
       "       │   │\n",
       "q1: ───Z───Y───</pre>"
      ],
      "text/plain": [
       "q0: ───X───Y───\n",
       "       │   │\n",
       "q1: ───Z───Y───"
      ]
     },
     "metadata": {},
     "output_type": "display_data"
    },
    {
     "data": {
      "text/html": [
       "<pre style=\"overflow: auto; white-space: pre;\">q0: ───X───Y───\n",
       "       │   │\n",
       "q1: ───Z───Z───</pre>"
      ],
      "text/plain": [
       "q0: ───X───Y───\n",
       "       │   │\n",
       "q1: ───Z───Z───"
      ]
     },
     "metadata": {},
     "output_type": "display_data"
    },
    {
     "data": {
      "text/html": [
       "<pre style=\"overflow: auto; white-space: pre;\">q0: ───X───Y────\n",
       "       │   │\n",
       "q1: ───Z───nX───</pre>"
      ],
      "text/plain": [
       "q0: ───X───Y────\n",
       "       │   │\n",
       "q1: ───Z───nX───"
      ]
     },
     "metadata": {},
     "output_type": "display_data"
    },
    {
     "data": {
      "text/html": [
       "<pre style=\"overflow: auto; white-space: pre;\">q0: ───X───Y────\n",
       "       │   │\n",
       "q1: ───Z───nY───</pre>"
      ],
      "text/plain": [
       "q0: ───X───Y────\n",
       "       │   │\n",
       "q1: ───Z───nY───"
      ]
     },
     "metadata": {},
     "output_type": "display_data"
    },
    {
     "data": {
      "text/html": [
       "<pre style=\"overflow: auto; white-space: pre;\">q0: ───X───Y────\n",
       "       │   │\n",
       "q1: ───Z───nZ───</pre>"
      ],
      "text/plain": [
       "q0: ───X───Y────\n",
       "       │   │\n",
       "q1: ───Z───nZ───"
      ]
     },
     "metadata": {},
     "output_type": "display_data"
    },
    {
     "data": {
      "text/html": [
       "<pre style=\"overflow: auto; white-space: pre;\">q0: ───X───Z───\n",
       "       │   │\n",
       "q1: ───Z───X───</pre>"
      ],
      "text/plain": [
       "q0: ───X───Z───\n",
       "       │   │\n",
       "q1: ───Z───X───"
      ]
     },
     "metadata": {},
     "output_type": "display_data"
    },
    {
     "data": {
      "text/html": [
       "<pre style=\"overflow: auto; white-space: pre;\">q0: ───X───Z───\n",
       "       │   │\n",
       "q1: ───Z───Y───</pre>"
      ],
      "text/plain": [
       "q0: ───X───Z───\n",
       "       │   │\n",
       "q1: ───Z───Y───"
      ]
     },
     "metadata": {},
     "output_type": "display_data"
    },
    {
     "data": {
      "text/html": [
       "<pre style=\"overflow: auto; white-space: pre;\">q0: ───X───Z───\n",
       "       │   │\n",
       "q1: ───Z───Z───</pre>"
      ],
      "text/plain": [
       "q0: ───X───Z───\n",
       "       │   │\n",
       "q1: ───Z───Z───"
      ]
     },
     "metadata": {},
     "output_type": "display_data"
    },
    {
     "data": {
      "text/html": [
       "<pre style=\"overflow: auto; white-space: pre;\">q0: ───X───Z────\n",
       "       │   │\n",
       "q1: ───Z───nX───</pre>"
      ],
      "text/plain": [
       "q0: ───X───Z────\n",
       "       │   │\n",
       "q1: ───Z───nX───"
      ]
     },
     "metadata": {},
     "output_type": "display_data"
    },
    {
     "data": {
      "text/html": [
       "<pre style=\"overflow: auto; white-space: pre;\">q0: ───X───Z────\n",
       "       │   │\n",
       "q1: ───Z───nY───</pre>"
      ],
      "text/plain": [
       "q0: ───X───Z────\n",
       "       │   │\n",
       "q1: ───Z───nY───"
      ]
     },
     "metadata": {},
     "output_type": "display_data"
    },
    {
     "data": {
      "text/html": [
       "<pre style=\"overflow: auto; white-space: pre;\">q0: ───X───Z────\n",
       "       │   │\n",
       "q1: ───Z───nZ───</pre>"
      ],
      "text/plain": [
       "q0: ───X───Z────\n",
       "       │   │\n",
       "q1: ───Z───nZ───"
      ]
     },
     "metadata": {},
     "output_type": "display_data"
    },
    {
     "data": {
      "text/html": [
       "<pre style=\"overflow: auto; white-space: pre;\">q0: ───X───nX───\n",
       "       │   │\n",
       "q1: ───Z───X────</pre>"
      ],
      "text/plain": [
       "q0: ───X───nX───\n",
       "       │   │\n",
       "q1: ───Z───X────"
      ]
     },
     "metadata": {},
     "output_type": "display_data"
    },
    {
     "data": {
      "text/html": [
       "<pre style=\"overflow: auto; white-space: pre;\">q0: ───X───nX───\n",
       "       │   │\n",
       "q1: ───Z───Y────</pre>"
      ],
      "text/plain": [
       "q0: ───X───nX───\n",
       "       │   │\n",
       "q1: ───Z───Y────"
      ]
     },
     "metadata": {},
     "output_type": "display_data"
    },
    {
     "data": {
      "text/html": [
       "<pre style=\"overflow: auto; white-space: pre;\">q0: ───X───nX───\n",
       "       │   │\n",
       "q1: ───Z───Z────</pre>"
      ],
      "text/plain": [
       "q0: ───X───nX───\n",
       "       │   │\n",
       "q1: ───Z───Z────"
      ]
     },
     "metadata": {},
     "output_type": "display_data"
    },
    {
     "data": {
      "text/html": [
       "<pre style=\"overflow: auto; white-space: pre;\">q0: ───X───nX───\n",
       "       │   │\n",
       "q1: ───Z───nX───</pre>"
      ],
      "text/plain": [
       "q0: ───X───nX───\n",
       "       │   │\n",
       "q1: ───Z───nX───"
      ]
     },
     "metadata": {},
     "output_type": "display_data"
    },
    {
     "data": {
      "text/html": [
       "<pre style=\"overflow: auto; white-space: pre;\">q0: ───X───nX───\n",
       "       │   │\n",
       "q1: ───Z───nY───</pre>"
      ],
      "text/plain": [
       "q0: ───X───nX───\n",
       "       │   │\n",
       "q1: ───Z───nY───"
      ]
     },
     "metadata": {},
     "output_type": "display_data"
    },
    {
     "data": {
      "text/html": [
       "<pre style=\"overflow: auto; white-space: pre;\">q0: ───X───nX───\n",
       "       │   │\n",
       "q1: ───Z───nZ───</pre>"
      ],
      "text/plain": [
       "q0: ───X───nX───\n",
       "       │   │\n",
       "q1: ───Z───nZ───"
      ]
     },
     "metadata": {},
     "output_type": "display_data"
    },
    {
     "data": {
      "text/html": [
       "<pre style=\"overflow: auto; white-space: pre;\">q0: ───X───nY───\n",
       "       │   │\n",
       "q1: ───Z───X────</pre>"
      ],
      "text/plain": [
       "q0: ───X───nY───\n",
       "       │   │\n",
       "q1: ───Z───X────"
      ]
     },
     "metadata": {},
     "output_type": "display_data"
    },
    {
     "data": {
      "text/html": [
       "<pre style=\"overflow: auto; white-space: pre;\">q0: ───X───nY───\n",
       "       │   │\n",
       "q1: ───Z───Y────</pre>"
      ],
      "text/plain": [
       "q0: ───X───nY───\n",
       "       │   │\n",
       "q1: ───Z───Y────"
      ]
     },
     "metadata": {},
     "output_type": "display_data"
    },
    {
     "data": {
      "text/html": [
       "<pre style=\"overflow: auto; white-space: pre;\">q0: ───X───nY───\n",
       "       │   │\n",
       "q1: ───Z───Z────</pre>"
      ],
      "text/plain": [
       "q0: ───X───nY───\n",
       "       │   │\n",
       "q1: ───Z───Z────"
      ]
     },
     "metadata": {},
     "output_type": "display_data"
    },
    {
     "data": {
      "text/html": [
       "<pre style=\"overflow: auto; white-space: pre;\">q0: ───X───nY───\n",
       "       │   │\n",
       "q1: ───Z───nX───</pre>"
      ],
      "text/plain": [
       "q0: ───X───nY───\n",
       "       │   │\n",
       "q1: ───Z───nX───"
      ]
     },
     "metadata": {},
     "output_type": "display_data"
    },
    {
     "data": {
      "text/html": [
       "<pre style=\"overflow: auto; white-space: pre;\">q0: ───X───nY───\n",
       "       │   │\n",
       "q1: ───Z───nY───</pre>"
      ],
      "text/plain": [
       "q0: ───X───nY───\n",
       "       │   │\n",
       "q1: ───Z───nY───"
      ]
     },
     "metadata": {},
     "output_type": "display_data"
    },
    {
     "data": {
      "text/html": [
       "<pre style=\"overflow: auto; white-space: pre;\">q0: ───X───nY───\n",
       "       │   │\n",
       "q1: ───Z───nZ───</pre>"
      ],
      "text/plain": [
       "q0: ───X───nY───\n",
       "       │   │\n",
       "q1: ───Z───nZ───"
      ]
     },
     "metadata": {},
     "output_type": "display_data"
    },
    {
     "data": {
      "text/html": [
       "<pre style=\"overflow: auto; white-space: pre;\">q0: ───X───nZ───\n",
       "       │   │\n",
       "q1: ───Z───X────</pre>"
      ],
      "text/plain": [
       "q0: ───X───nZ───\n",
       "       │   │\n",
       "q1: ───Z───X────"
      ]
     },
     "metadata": {},
     "output_type": "display_data"
    },
    {
     "data": {
      "text/html": [
       "<pre style=\"overflow: auto; white-space: pre;\">q0: ───X───nZ───\n",
       "       │   │\n",
       "q1: ───Z───Y────</pre>"
      ],
      "text/plain": [
       "q0: ───X───nZ───\n",
       "       │   │\n",
       "q1: ───Z───Y────"
      ]
     },
     "metadata": {},
     "output_type": "display_data"
    },
    {
     "data": {
      "text/html": [
       "<pre style=\"overflow: auto; white-space: pre;\">q0: ───X───nZ───\n",
       "       │   │\n",
       "q1: ───Z───Z────</pre>"
      ],
      "text/plain": [
       "q0: ───X───nZ───\n",
       "       │   │\n",
       "q1: ───Z───Z────"
      ]
     },
     "metadata": {},
     "output_type": "display_data"
    },
    {
     "data": {
      "text/html": [
       "<pre style=\"overflow: auto; white-space: pre;\">q0: ───X───nZ───\n",
       "       │   │\n",
       "q1: ───Z───nX───</pre>"
      ],
      "text/plain": [
       "q0: ───X───nZ───\n",
       "       │   │\n",
       "q1: ───Z───nX───"
      ]
     },
     "metadata": {},
     "output_type": "display_data"
    },
    {
     "data": {
      "text/html": [
       "<pre style=\"overflow: auto; white-space: pre;\">q0: ───X───nZ───\n",
       "       │   │\n",
       "q1: ───Z───nY───</pre>"
      ],
      "text/plain": [
       "q0: ───X───nZ───\n",
       "       │   │\n",
       "q1: ───Z───nY───"
      ]
     },
     "metadata": {},
     "output_type": "display_data"
    },
    {
     "data": {
      "text/html": [
       "<pre style=\"overflow: auto; white-space: pre;\">q0: ───X───nZ───\n",
       "       │   │\n",
       "q1: ───Z───nZ───</pre>"
      ],
      "text/plain": [
       "q0: ───X───nZ───\n",
       "       │   │\n",
       "q1: ───Z───nZ───"
      ]
     },
     "metadata": {},
     "output_type": "display_data"
    },
    {
     "data": {
      "text/html": [
       "<pre style=\"overflow: auto; white-space: pre;\">q0: ───X────X───\n",
       "       │    │\n",
       "q1: ───nX───X───</pre>"
      ],
      "text/plain": [
       "q0: ───X────X───\n",
       "       │    │\n",
       "q1: ───nX───X───"
      ]
     },
     "metadata": {},
     "output_type": "display_data"
    },
    {
     "data": {
      "text/html": [
       "<pre style=\"overflow: auto; white-space: pre;\">q0: ───X────X───\n",
       "       │    │\n",
       "q1: ───nX───Y───</pre>"
      ],
      "text/plain": [
       "q0: ───X────X───\n",
       "       │    │\n",
       "q1: ───nX───Y───"
      ]
     },
     "metadata": {},
     "output_type": "display_data"
    },
    {
     "data": {
      "text/html": [
       "<pre style=\"overflow: auto; white-space: pre;\">q0: ───X────X───\n",
       "       │    │\n",
       "q1: ───nX───Z───</pre>"
      ],
      "text/plain": [
       "q0: ───X────X───\n",
       "       │    │\n",
       "q1: ───nX───Z───"
      ]
     },
     "metadata": {},
     "output_type": "display_data"
    },
    {
     "data": {
      "text/html": [
       "<pre style=\"overflow: auto; white-space: pre;\">q0: ───X────X────\n",
       "       │    │\n",
       "q1: ───nX───nX───</pre>"
      ],
      "text/plain": [
       "q0: ───X────X────\n",
       "       │    │\n",
       "q1: ───nX───nX───"
      ]
     },
     "metadata": {},
     "output_type": "display_data"
    },
    {
     "data": {
      "text/html": [
       "<pre style=\"overflow: auto; white-space: pre;\">q0: ───X────X────\n",
       "       │    │\n",
       "q1: ───nX───nY───</pre>"
      ],
      "text/plain": [
       "q0: ───X────X────\n",
       "       │    │\n",
       "q1: ───nX───nY───"
      ]
     },
     "metadata": {},
     "output_type": "display_data"
    },
    {
     "data": {
      "text/html": [
       "<pre style=\"overflow: auto; white-space: pre;\">q0: ───X────X────\n",
       "       │    │\n",
       "q1: ───nX───nZ───</pre>"
      ],
      "text/plain": [
       "q0: ───X────X────\n",
       "       │    │\n",
       "q1: ───nX───nZ───"
      ]
     },
     "metadata": {},
     "output_type": "display_data"
    },
    {
     "data": {
      "text/html": [
       "<pre style=\"overflow: auto; white-space: pre;\">q0: ───X────Y───\n",
       "       │    │\n",
       "q1: ───nX───X───</pre>"
      ],
      "text/plain": [
       "q0: ───X────Y───\n",
       "       │    │\n",
       "q1: ───nX───X───"
      ]
     },
     "metadata": {},
     "output_type": "display_data"
    },
    {
     "data": {
      "text/html": [
       "<pre style=\"overflow: auto; white-space: pre;\">q0: ───X────Y───\n",
       "       │    │\n",
       "q1: ───nX───Y───</pre>"
      ],
      "text/plain": [
       "q0: ───X────Y───\n",
       "       │    │\n",
       "q1: ───nX───Y───"
      ]
     },
     "metadata": {},
     "output_type": "display_data"
    },
    {
     "data": {
      "text/html": [
       "<pre style=\"overflow: auto; white-space: pre;\">q0: ───X────Y───\n",
       "       │    │\n",
       "q1: ───nX───Z───</pre>"
      ],
      "text/plain": [
       "q0: ───X────Y───\n",
       "       │    │\n",
       "q1: ───nX───Z───"
      ]
     },
     "metadata": {},
     "output_type": "display_data"
    },
    {
     "data": {
      "text/html": [
       "<pre style=\"overflow: auto; white-space: pre;\">q0: ───X────Y────\n",
       "       │    │\n",
       "q1: ───nX───nX───</pre>"
      ],
      "text/plain": [
       "q0: ───X────Y────\n",
       "       │    │\n",
       "q1: ───nX───nX───"
      ]
     },
     "metadata": {},
     "output_type": "display_data"
    },
    {
     "data": {
      "text/html": [
       "<pre style=\"overflow: auto; white-space: pre;\">q0: ───X────Y────\n",
       "       │    │\n",
       "q1: ───nX───nY───</pre>"
      ],
      "text/plain": [
       "q0: ───X────Y────\n",
       "       │    │\n",
       "q1: ───nX───nY───"
      ]
     },
     "metadata": {},
     "output_type": "display_data"
    },
    {
     "data": {
      "text/html": [
       "<pre style=\"overflow: auto; white-space: pre;\">q0: ───X────Y────\n",
       "       │    │\n",
       "q1: ───nX───nZ───</pre>"
      ],
      "text/plain": [
       "q0: ───X────Y────\n",
       "       │    │\n",
       "q1: ───nX───nZ───"
      ]
     },
     "metadata": {},
     "output_type": "display_data"
    },
    {
     "data": {
      "text/html": [
       "<pre style=\"overflow: auto; white-space: pre;\">q0: ───X────Z───\n",
       "       │    │\n",
       "q1: ───nX───X───</pre>"
      ],
      "text/plain": [
       "q0: ───X────Z───\n",
       "       │    │\n",
       "q1: ───nX───X───"
      ]
     },
     "metadata": {},
     "output_type": "display_data"
    },
    {
     "data": {
      "text/html": [
       "<pre style=\"overflow: auto; white-space: pre;\">q0: ───X────Z───\n",
       "       │    │\n",
       "q1: ───nX───Y───</pre>"
      ],
      "text/plain": [
       "q0: ───X────Z───\n",
       "       │    │\n",
       "q1: ───nX───Y───"
      ]
     },
     "metadata": {},
     "output_type": "display_data"
    },
    {
     "data": {
      "text/html": [
       "<pre style=\"overflow: auto; white-space: pre;\">q0: ───X────Z───\n",
       "       │    │\n",
       "q1: ───nX───Z───</pre>"
      ],
      "text/plain": [
       "q0: ───X────Z───\n",
       "       │    │\n",
       "q1: ───nX───Z───"
      ]
     },
     "metadata": {},
     "output_type": "display_data"
    },
    {
     "data": {
      "text/html": [
       "<pre style=\"overflow: auto; white-space: pre;\">q0: ───X────Z────\n",
       "       │    │\n",
       "q1: ───nX───nX───</pre>"
      ],
      "text/plain": [
       "q0: ───X────Z────\n",
       "       │    │\n",
       "q1: ───nX───nX───"
      ]
     },
     "metadata": {},
     "output_type": "display_data"
    },
    {
     "data": {
      "text/html": [
       "<pre style=\"overflow: auto; white-space: pre;\">q0: ───X────Z────\n",
       "       │    │\n",
       "q1: ───nX───nY───</pre>"
      ],
      "text/plain": [
       "q0: ───X────Z────\n",
       "       │    │\n",
       "q1: ───nX───nY───"
      ]
     },
     "metadata": {},
     "output_type": "display_data"
    },
    {
     "data": {
      "text/html": [
       "<pre style=\"overflow: auto; white-space: pre;\">q0: ───X────Z────\n",
       "       │    │\n",
       "q1: ───nX───nZ───</pre>"
      ],
      "text/plain": [
       "q0: ───X────Z────\n",
       "       │    │\n",
       "q1: ───nX───nZ───"
      ]
     },
     "metadata": {},
     "output_type": "display_data"
    },
    {
     "data": {
      "text/html": [
       "<pre style=\"overflow: auto; white-space: pre;\">q0: ───X────nX───\n",
       "       │    │\n",
       "q1: ───nX───X────</pre>"
      ],
      "text/plain": [
       "q0: ───X────nX───\n",
       "       │    │\n",
       "q1: ───nX───X────"
      ]
     },
     "metadata": {},
     "output_type": "display_data"
    },
    {
     "data": {
      "text/html": [
       "<pre style=\"overflow: auto; white-space: pre;\">q0: ───X────nX───\n",
       "       │    │\n",
       "q1: ───nX───Y────</pre>"
      ],
      "text/plain": [
       "q0: ───X────nX───\n",
       "       │    │\n",
       "q1: ───nX───Y────"
      ]
     },
     "metadata": {},
     "output_type": "display_data"
    },
    {
     "data": {
      "text/html": [
       "<pre style=\"overflow: auto; white-space: pre;\">q0: ───X────nX───\n",
       "       │    │\n",
       "q1: ───nX───Z────</pre>"
      ],
      "text/plain": [
       "q0: ───X────nX───\n",
       "       │    │\n",
       "q1: ───nX───Z────"
      ]
     },
     "metadata": {},
     "output_type": "display_data"
    },
    {
     "data": {
      "text/html": [
       "<pre style=\"overflow: auto; white-space: pre;\">q0: ───X────nX───\n",
       "       │    │\n",
       "q1: ───nX───nX───</pre>"
      ],
      "text/plain": [
       "q0: ───X────nX───\n",
       "       │    │\n",
       "q1: ───nX───nX───"
      ]
     },
     "metadata": {},
     "output_type": "display_data"
    },
    {
     "data": {
      "text/html": [
       "<pre style=\"overflow: auto; white-space: pre;\">q0: ───X────nX───\n",
       "       │    │\n",
       "q1: ───nX───nY───</pre>"
      ],
      "text/plain": [
       "q0: ───X────nX───\n",
       "       │    │\n",
       "q1: ───nX───nY───"
      ]
     },
     "metadata": {},
     "output_type": "display_data"
    },
    {
     "data": {
      "text/html": [
       "<pre style=\"overflow: auto; white-space: pre;\">q0: ───X────nX───\n",
       "       │    │\n",
       "q1: ───nX───nZ───</pre>"
      ],
      "text/plain": [
       "q0: ───X────nX───\n",
       "       │    │\n",
       "q1: ───nX───nZ───"
      ]
     },
     "metadata": {},
     "output_type": "display_data"
    },
    {
     "data": {
      "text/html": [
       "<pre style=\"overflow: auto; white-space: pre;\">q0: ───X────nY───\n",
       "       │    │\n",
       "q1: ───nX───X────</pre>"
      ],
      "text/plain": [
       "q0: ───X────nY───\n",
       "       │    │\n",
       "q1: ───nX───X────"
      ]
     },
     "metadata": {},
     "output_type": "display_data"
    },
    {
     "data": {
      "text/html": [
       "<pre style=\"overflow: auto; white-space: pre;\">q0: ───X────nY───\n",
       "       │    │\n",
       "q1: ───nX───Y────</pre>"
      ],
      "text/plain": [
       "q0: ───X────nY───\n",
       "       │    │\n",
       "q1: ───nX───Y────"
      ]
     },
     "metadata": {},
     "output_type": "display_data"
    },
    {
     "data": {
      "text/html": [
       "<pre style=\"overflow: auto; white-space: pre;\">q0: ───X────nY───\n",
       "       │    │\n",
       "q1: ───nX───Z────</pre>"
      ],
      "text/plain": [
       "q0: ───X────nY───\n",
       "       │    │\n",
       "q1: ───nX───Z────"
      ]
     },
     "metadata": {},
     "output_type": "display_data"
    },
    {
     "data": {
      "text/html": [
       "<pre style=\"overflow: auto; white-space: pre;\">q0: ───X────nY───\n",
       "       │    │\n",
       "q1: ───nX───nX───</pre>"
      ],
      "text/plain": [
       "q0: ───X────nY───\n",
       "       │    │\n",
       "q1: ───nX───nX───"
      ]
     },
     "metadata": {},
     "output_type": "display_data"
    },
    {
     "data": {
      "text/html": [
       "<pre style=\"overflow: auto; white-space: pre;\">q0: ───X────nY───\n",
       "       │    │\n",
       "q1: ───nX───nY───</pre>"
      ],
      "text/plain": [
       "q0: ───X────nY───\n",
       "       │    │\n",
       "q1: ───nX───nY───"
      ]
     },
     "metadata": {},
     "output_type": "display_data"
    },
    {
     "data": {
      "text/html": [
       "<pre style=\"overflow: auto; white-space: pre;\">q0: ───X────nY───\n",
       "       │    │\n",
       "q1: ───nX───nZ───</pre>"
      ],
      "text/plain": [
       "q0: ───X────nY───\n",
       "       │    │\n",
       "q1: ───nX───nZ───"
      ]
     },
     "metadata": {},
     "output_type": "display_data"
    },
    {
     "data": {
      "text/html": [
       "<pre style=\"overflow: auto; white-space: pre;\">q0: ───X────nZ───\n",
       "       │    │\n",
       "q1: ───nX───X────</pre>"
      ],
      "text/plain": [
       "q0: ───X────nZ───\n",
       "       │    │\n",
       "q1: ───nX───X────"
      ]
     },
     "metadata": {},
     "output_type": "display_data"
    },
    {
     "data": {
      "text/html": [
       "<pre style=\"overflow: auto; white-space: pre;\">q0: ───X────nZ───\n",
       "       │    │\n",
       "q1: ───nX───Y────</pre>"
      ],
      "text/plain": [
       "q0: ───X────nZ───\n",
       "       │    │\n",
       "q1: ───nX───Y────"
      ]
     },
     "metadata": {},
     "output_type": "display_data"
    },
    {
     "data": {
      "text/html": [
       "<pre style=\"overflow: auto; white-space: pre;\">q0: ───X────nZ───\n",
       "       │    │\n",
       "q1: ───nX───Z────</pre>"
      ],
      "text/plain": [
       "q0: ───X────nZ───\n",
       "       │    │\n",
       "q1: ───nX───Z────"
      ]
     },
     "metadata": {},
     "output_type": "display_data"
    },
    {
     "data": {
      "text/html": [
       "<pre style=\"overflow: auto; white-space: pre;\">q0: ───X────nZ───\n",
       "       │    │\n",
       "q1: ───nX───nX───</pre>"
      ],
      "text/plain": [
       "q0: ───X────nZ───\n",
       "       │    │\n",
       "q1: ───nX───nX───"
      ]
     },
     "metadata": {},
     "output_type": "display_data"
    },
    {
     "data": {
      "text/html": [
       "<pre style=\"overflow: auto; white-space: pre;\">q0: ───X────nZ───\n",
       "       │    │\n",
       "q1: ───nX───nY───</pre>"
      ],
      "text/plain": [
       "q0: ───X────nZ───\n",
       "       │    │\n",
       "q1: ───nX───nY───"
      ]
     },
     "metadata": {},
     "output_type": "display_data"
    },
    {
     "data": {
      "text/html": [
       "<pre style=\"overflow: auto; white-space: pre;\">q0: ───X────nZ───\n",
       "       │    │\n",
       "q1: ───nX───nZ───</pre>"
      ],
      "text/plain": [
       "q0: ───X────nZ───\n",
       "       │    │\n",
       "q1: ───nX───nZ───"
      ]
     },
     "metadata": {},
     "output_type": "display_data"
    },
    {
     "data": {
      "text/html": [
       "<pre style=\"overflow: auto; white-space: pre;\">q0: ───X────X───\n",
       "       │    │\n",
       "q1: ───nY───X───</pre>"
      ],
      "text/plain": [
       "q0: ───X────X───\n",
       "       │    │\n",
       "q1: ───nY───X───"
      ]
     },
     "metadata": {},
     "output_type": "display_data"
    },
    {
     "data": {
      "text/html": [
       "<pre style=\"overflow: auto; white-space: pre;\">q0: ───X────X───\n",
       "       │    │\n",
       "q1: ───nY───Y───</pre>"
      ],
      "text/plain": [
       "q0: ───X────X───\n",
       "       │    │\n",
       "q1: ───nY───Y───"
      ]
     },
     "metadata": {},
     "output_type": "display_data"
    },
    {
     "data": {
      "text/html": [
       "<pre style=\"overflow: auto; white-space: pre;\">q0: ───X────X───\n",
       "       │    │\n",
       "q1: ───nY───Z───</pre>"
      ],
      "text/plain": [
       "q0: ───X────X───\n",
       "       │    │\n",
       "q1: ───nY───Z───"
      ]
     },
     "metadata": {},
     "output_type": "display_data"
    },
    {
     "data": {
      "text/html": [
       "<pre style=\"overflow: auto; white-space: pre;\">q0: ───X────X────\n",
       "       │    │\n",
       "q1: ───nY───nX───</pre>"
      ],
      "text/plain": [
       "q0: ───X────X────\n",
       "       │    │\n",
       "q1: ───nY───nX───"
      ]
     },
     "metadata": {},
     "output_type": "display_data"
    },
    {
     "data": {
      "text/html": [
       "<pre style=\"overflow: auto; white-space: pre;\">q0: ───X────X────\n",
       "       │    │\n",
       "q1: ───nY───nY───</pre>"
      ],
      "text/plain": [
       "q0: ───X────X────\n",
       "       │    │\n",
       "q1: ───nY───nY───"
      ]
     },
     "metadata": {},
     "output_type": "display_data"
    },
    {
     "data": {
      "text/html": [
       "<pre style=\"overflow: auto; white-space: pre;\">q0: ───X────X────\n",
       "       │    │\n",
       "q1: ───nY───nZ───</pre>"
      ],
      "text/plain": [
       "q0: ───X────X────\n",
       "       │    │\n",
       "q1: ───nY───nZ───"
      ]
     },
     "metadata": {},
     "output_type": "display_data"
    },
    {
     "data": {
      "text/html": [
       "<pre style=\"overflow: auto; white-space: pre;\">q0: ───X────Y───\n",
       "       │    │\n",
       "q1: ───nY───X───</pre>"
      ],
      "text/plain": [
       "q0: ───X────Y───\n",
       "       │    │\n",
       "q1: ───nY───X───"
      ]
     },
     "metadata": {},
     "output_type": "display_data"
    },
    {
     "data": {
      "text/html": [
       "<pre style=\"overflow: auto; white-space: pre;\">q0: ───X────Y───\n",
       "       │    │\n",
       "q1: ───nY───Y───</pre>"
      ],
      "text/plain": [
       "q0: ───X────Y───\n",
       "       │    │\n",
       "q1: ───nY───Y───"
      ]
     },
     "metadata": {},
     "output_type": "display_data"
    },
    {
     "data": {
      "text/html": [
       "<pre style=\"overflow: auto; white-space: pre;\">q0: ───X────Y───\n",
       "       │    │\n",
       "q1: ───nY───Z───</pre>"
      ],
      "text/plain": [
       "q0: ───X────Y───\n",
       "       │    │\n",
       "q1: ───nY───Z───"
      ]
     },
     "metadata": {},
     "output_type": "display_data"
    },
    {
     "data": {
      "text/html": [
       "<pre style=\"overflow: auto; white-space: pre;\">q0: ───X────Y────\n",
       "       │    │\n",
       "q1: ───nY───nX───</pre>"
      ],
      "text/plain": [
       "q0: ───X────Y────\n",
       "       │    │\n",
       "q1: ───nY───nX───"
      ]
     },
     "metadata": {},
     "output_type": "display_data"
    },
    {
     "data": {
      "text/html": [
       "<pre style=\"overflow: auto; white-space: pre;\">q0: ───X────Y────\n",
       "       │    │\n",
       "q1: ───nY───nY───</pre>"
      ],
      "text/plain": [
       "q0: ───X────Y────\n",
       "       │    │\n",
       "q1: ───nY───nY───"
      ]
     },
     "metadata": {},
     "output_type": "display_data"
    },
    {
     "data": {
      "text/html": [
       "<pre style=\"overflow: auto; white-space: pre;\">q0: ───X────Y────\n",
       "       │    │\n",
       "q1: ───nY───nZ───</pre>"
      ],
      "text/plain": [
       "q0: ───X────Y────\n",
       "       │    │\n",
       "q1: ───nY───nZ───"
      ]
     },
     "metadata": {},
     "output_type": "display_data"
    },
    {
     "data": {
      "text/html": [
       "<pre style=\"overflow: auto; white-space: pre;\">q0: ───X────Z───\n",
       "       │    │\n",
       "q1: ───nY───X───</pre>"
      ],
      "text/plain": [
       "q0: ───X────Z───\n",
       "       │    │\n",
       "q1: ───nY───X───"
      ]
     },
     "metadata": {},
     "output_type": "display_data"
    },
    {
     "data": {
      "text/html": [
       "<pre style=\"overflow: auto; white-space: pre;\">q0: ───X────Z───\n",
       "       │    │\n",
       "q1: ───nY───Y───</pre>"
      ],
      "text/plain": [
       "q0: ───X────Z───\n",
       "       │    │\n",
       "q1: ───nY───Y───"
      ]
     },
     "metadata": {},
     "output_type": "display_data"
    },
    {
     "data": {
      "text/html": [
       "<pre style=\"overflow: auto; white-space: pre;\">q0: ───X────Z───\n",
       "       │    │\n",
       "q1: ───nY───Z───</pre>"
      ],
      "text/plain": [
       "q0: ───X────Z───\n",
       "       │    │\n",
       "q1: ───nY───Z───"
      ]
     },
     "metadata": {},
     "output_type": "display_data"
    },
    {
     "data": {
      "text/html": [
       "<pre style=\"overflow: auto; white-space: pre;\">q0: ───X────Z────\n",
       "       │    │\n",
       "q1: ───nY───nX───</pre>"
      ],
      "text/plain": [
       "q0: ───X────Z────\n",
       "       │    │\n",
       "q1: ───nY───nX───"
      ]
     },
     "metadata": {},
     "output_type": "display_data"
    },
    {
     "data": {
      "text/html": [
       "<pre style=\"overflow: auto; white-space: pre;\">q0: ───X────Z────\n",
       "       │    │\n",
       "q1: ───nY───nY───</pre>"
      ],
      "text/plain": [
       "q0: ───X────Z────\n",
       "       │    │\n",
       "q1: ───nY───nY───"
      ]
     },
     "metadata": {},
     "output_type": "display_data"
    },
    {
     "data": {
      "text/html": [
       "<pre style=\"overflow: auto; white-space: pre;\">q0: ───X────Z────\n",
       "       │    │\n",
       "q1: ───nY───nZ───</pre>"
      ],
      "text/plain": [
       "q0: ───X────Z────\n",
       "       │    │\n",
       "q1: ───nY───nZ───"
      ]
     },
     "metadata": {},
     "output_type": "display_data"
    },
    {
     "data": {
      "text/html": [
       "<pre style=\"overflow: auto; white-space: pre;\">q0: ───X────nX───\n",
       "       │    │\n",
       "q1: ───nY───X────</pre>"
      ],
      "text/plain": [
       "q0: ───X────nX───\n",
       "       │    │\n",
       "q1: ───nY───X────"
      ]
     },
     "metadata": {},
     "output_type": "display_data"
    },
    {
     "data": {
      "text/html": [
       "<pre style=\"overflow: auto; white-space: pre;\">q0: ───X────nX───\n",
       "       │    │\n",
       "q1: ───nY───Y────</pre>"
      ],
      "text/plain": [
       "q0: ───X────nX───\n",
       "       │    │\n",
       "q1: ───nY───Y────"
      ]
     },
     "metadata": {},
     "output_type": "display_data"
    },
    {
     "data": {
      "text/html": [
       "<pre style=\"overflow: auto; white-space: pre;\">q0: ───X────nX───\n",
       "       │    │\n",
       "q1: ───nY───Z────</pre>"
      ],
      "text/plain": [
       "q0: ───X────nX───\n",
       "       │    │\n",
       "q1: ───nY───Z────"
      ]
     },
     "metadata": {},
     "output_type": "display_data"
    },
    {
     "data": {
      "text/html": [
       "<pre style=\"overflow: auto; white-space: pre;\">q0: ───X────nX───\n",
       "       │    │\n",
       "q1: ───nY───nX───</pre>"
      ],
      "text/plain": [
       "q0: ───X────nX───\n",
       "       │    │\n",
       "q1: ───nY───nX───"
      ]
     },
     "metadata": {},
     "output_type": "display_data"
    },
    {
     "data": {
      "text/html": [
       "<pre style=\"overflow: auto; white-space: pre;\">q0: ───X────nX───\n",
       "       │    │\n",
       "q1: ───nY───nY───</pre>"
      ],
      "text/plain": [
       "q0: ───X────nX───\n",
       "       │    │\n",
       "q1: ───nY───nY───"
      ]
     },
     "metadata": {},
     "output_type": "display_data"
    },
    {
     "data": {
      "text/html": [
       "<pre style=\"overflow: auto; white-space: pre;\">q0: ───X────nX───\n",
       "       │    │\n",
       "q1: ───nY───nZ───</pre>"
      ],
      "text/plain": [
       "q0: ───X────nX───\n",
       "       │    │\n",
       "q1: ───nY───nZ───"
      ]
     },
     "metadata": {},
     "output_type": "display_data"
    },
    {
     "data": {
      "text/html": [
       "<pre style=\"overflow: auto; white-space: pre;\">q0: ───X────nY───\n",
       "       │    │\n",
       "q1: ───nY───X────</pre>"
      ],
      "text/plain": [
       "q0: ───X────nY───\n",
       "       │    │\n",
       "q1: ───nY───X────"
      ]
     },
     "metadata": {},
     "output_type": "display_data"
    },
    {
     "data": {
      "text/html": [
       "<pre style=\"overflow: auto; white-space: pre;\">q0: ───X────nY───\n",
       "       │    │\n",
       "q1: ───nY───Y────</pre>"
      ],
      "text/plain": [
       "q0: ───X────nY───\n",
       "       │    │\n",
       "q1: ───nY───Y────"
      ]
     },
     "metadata": {},
     "output_type": "display_data"
    },
    {
     "data": {
      "text/html": [
       "<pre style=\"overflow: auto; white-space: pre;\">q0: ───X────nY───\n",
       "       │    │\n",
       "q1: ───nY───Z────</pre>"
      ],
      "text/plain": [
       "q0: ───X────nY───\n",
       "       │    │\n",
       "q1: ───nY───Z────"
      ]
     },
     "metadata": {},
     "output_type": "display_data"
    },
    {
     "data": {
      "text/html": [
       "<pre style=\"overflow: auto; white-space: pre;\">q0: ───X────nY───\n",
       "       │    │\n",
       "q1: ───nY───nX───</pre>"
      ],
      "text/plain": [
       "q0: ───X────nY───\n",
       "       │    │\n",
       "q1: ───nY───nX───"
      ]
     },
     "metadata": {},
     "output_type": "display_data"
    },
    {
     "data": {
      "text/html": [
       "<pre style=\"overflow: auto; white-space: pre;\">q0: ───X────nY───\n",
       "       │    │\n",
       "q1: ───nY───nY───</pre>"
      ],
      "text/plain": [
       "q0: ───X────nY───\n",
       "       │    │\n",
       "q1: ───nY───nY───"
      ]
     },
     "metadata": {},
     "output_type": "display_data"
    },
    {
     "data": {
      "text/html": [
       "<pre style=\"overflow: auto; white-space: pre;\">q0: ───X────nY───\n",
       "       │    │\n",
       "q1: ───nY───nZ───</pre>"
      ],
      "text/plain": [
       "q0: ───X────nY───\n",
       "       │    │\n",
       "q1: ───nY───nZ───"
      ]
     },
     "metadata": {},
     "output_type": "display_data"
    },
    {
     "data": {
      "text/html": [
       "<pre style=\"overflow: auto; white-space: pre;\">q0: ───X────nZ───\n",
       "       │    │\n",
       "q1: ───nY───X────</pre>"
      ],
      "text/plain": [
       "q0: ───X────nZ───\n",
       "       │    │\n",
       "q1: ───nY───X────"
      ]
     },
     "metadata": {},
     "output_type": "display_data"
    },
    {
     "data": {
      "text/html": [
       "<pre style=\"overflow: auto; white-space: pre;\">q0: ───X────nZ───\n",
       "       │    │\n",
       "q1: ───nY───Y────</pre>"
      ],
      "text/plain": [
       "q0: ───X────nZ───\n",
       "       │    │\n",
       "q1: ───nY───Y────"
      ]
     },
     "metadata": {},
     "output_type": "display_data"
    },
    {
     "data": {
      "text/html": [
       "<pre style=\"overflow: auto; white-space: pre;\">q0: ───X────nZ───\n",
       "       │    │\n",
       "q1: ───nY───Z────</pre>"
      ],
      "text/plain": [
       "q0: ───X────nZ───\n",
       "       │    │\n",
       "q1: ───nY───Z────"
      ]
     },
     "metadata": {},
     "output_type": "display_data"
    },
    {
     "data": {
      "text/html": [
       "<pre style=\"overflow: auto; white-space: pre;\">q0: ───X────nZ───\n",
       "       │    │\n",
       "q1: ───nY───nX───</pre>"
      ],
      "text/plain": [
       "q0: ───X────nZ───\n",
       "       │    │\n",
       "q1: ───nY───nX───"
      ]
     },
     "metadata": {},
     "output_type": "display_data"
    },
    {
     "data": {
      "text/html": [
       "<pre style=\"overflow: auto; white-space: pre;\">q0: ───X────nZ───\n",
       "       │    │\n",
       "q1: ───nY───nY───</pre>"
      ],
      "text/plain": [
       "q0: ───X────nZ───\n",
       "       │    │\n",
       "q1: ───nY───nY───"
      ]
     },
     "metadata": {},
     "output_type": "display_data"
    },
    {
     "data": {
      "text/html": [
       "<pre style=\"overflow: auto; white-space: pre;\">q0: ───X────nZ───\n",
       "       │    │\n",
       "q1: ───nY───nZ───</pre>"
      ],
      "text/plain": [
       "q0: ───X────nZ───\n",
       "       │    │\n",
       "q1: ───nY───nZ───"
      ]
     },
     "metadata": {},
     "output_type": "display_data"
    },
    {
     "data": {
      "text/html": [
       "<pre style=\"overflow: auto; white-space: pre;\">q0: ───X────X───\n",
       "       │    │\n",
       "q1: ───nZ───X───</pre>"
      ],
      "text/plain": [
       "q0: ───X────X───\n",
       "       │    │\n",
       "q1: ───nZ───X───"
      ]
     },
     "metadata": {},
     "output_type": "display_data"
    },
    {
     "data": {
      "text/html": [
       "<pre style=\"overflow: auto; white-space: pre;\">q0: ───X────X───\n",
       "       │    │\n",
       "q1: ───nZ───Y───</pre>"
      ],
      "text/plain": [
       "q0: ───X────X───\n",
       "       │    │\n",
       "q1: ───nZ───Y───"
      ]
     },
     "metadata": {},
     "output_type": "display_data"
    },
    {
     "data": {
      "text/html": [
       "<pre style=\"overflow: auto; white-space: pre;\">q0: ───X────X───\n",
       "       │    │\n",
       "q1: ───nZ───Z───</pre>"
      ],
      "text/plain": [
       "q0: ───X────X───\n",
       "       │    │\n",
       "q1: ───nZ───Z───"
      ]
     },
     "metadata": {},
     "output_type": "display_data"
    },
    {
     "data": {
      "text/html": [
       "<pre style=\"overflow: auto; white-space: pre;\">q0: ───X────X────\n",
       "       │    │\n",
       "q1: ───nZ───nX───</pre>"
      ],
      "text/plain": [
       "q0: ───X────X────\n",
       "       │    │\n",
       "q1: ───nZ───nX───"
      ]
     },
     "metadata": {},
     "output_type": "display_data"
    },
    {
     "data": {
      "text/html": [
       "<pre style=\"overflow: auto; white-space: pre;\">q0: ───X────X────\n",
       "       │    │\n",
       "q1: ───nZ───nY───</pre>"
      ],
      "text/plain": [
       "q0: ───X────X────\n",
       "       │    │\n",
       "q1: ───nZ───nY───"
      ]
     },
     "metadata": {},
     "output_type": "display_data"
    },
    {
     "data": {
      "text/html": [
       "<pre style=\"overflow: auto; white-space: pre;\">q0: ───X────X────\n",
       "       │    │\n",
       "q1: ───nZ───nZ───</pre>"
      ],
      "text/plain": [
       "q0: ───X────X────\n",
       "       │    │\n",
       "q1: ───nZ───nZ───"
      ]
     },
     "metadata": {},
     "output_type": "display_data"
    },
    {
     "data": {
      "text/html": [
       "<pre style=\"overflow: auto; white-space: pre;\">q0: ───X────Y───\n",
       "       │    │\n",
       "q1: ───nZ───X───</pre>"
      ],
      "text/plain": [
       "q0: ───X────Y───\n",
       "       │    │\n",
       "q1: ───nZ───X───"
      ]
     },
     "metadata": {},
     "output_type": "display_data"
    },
    {
     "data": {
      "text/html": [
       "<pre style=\"overflow: auto; white-space: pre;\">q0: ───X────Y───\n",
       "       │    │\n",
       "q1: ───nZ───Y───</pre>"
      ],
      "text/plain": [
       "q0: ───X────Y───\n",
       "       │    │\n",
       "q1: ───nZ───Y───"
      ]
     },
     "metadata": {},
     "output_type": "display_data"
    },
    {
     "data": {
      "text/html": [
       "<pre style=\"overflow: auto; white-space: pre;\">q0: ───X────Y───\n",
       "       │    │\n",
       "q1: ───nZ───Z───</pre>"
      ],
      "text/plain": [
       "q0: ───X────Y───\n",
       "       │    │\n",
       "q1: ───nZ───Z───"
      ]
     },
     "metadata": {},
     "output_type": "display_data"
    },
    {
     "data": {
      "text/html": [
       "<pre style=\"overflow: auto; white-space: pre;\">q0: ───X────Y────\n",
       "       │    │\n",
       "q1: ───nZ───nX───</pre>"
      ],
      "text/plain": [
       "q0: ───X────Y────\n",
       "       │    │\n",
       "q1: ───nZ───nX───"
      ]
     },
     "metadata": {},
     "output_type": "display_data"
    },
    {
     "data": {
      "text/html": [
       "<pre style=\"overflow: auto; white-space: pre;\">q0: ───X────Y────\n",
       "       │    │\n",
       "q1: ───nZ───nY───</pre>"
      ],
      "text/plain": [
       "q0: ───X────Y────\n",
       "       │    │\n",
       "q1: ───nZ───nY───"
      ]
     },
     "metadata": {},
     "output_type": "display_data"
    },
    {
     "data": {
      "text/html": [
       "<pre style=\"overflow: auto; white-space: pre;\">q0: ───X────Y────\n",
       "       │    │\n",
       "q1: ───nZ───nZ───</pre>"
      ],
      "text/plain": [
       "q0: ───X────Y────\n",
       "       │    │\n",
       "q1: ───nZ───nZ───"
      ]
     },
     "metadata": {},
     "output_type": "display_data"
    },
    {
     "data": {
      "text/html": [
       "<pre style=\"overflow: auto; white-space: pre;\">q0: ───X────Z───\n",
       "       │    │\n",
       "q1: ───nZ───X───</pre>"
      ],
      "text/plain": [
       "q0: ───X────Z───\n",
       "       │    │\n",
       "q1: ───nZ───X───"
      ]
     },
     "metadata": {},
     "output_type": "display_data"
    },
    {
     "data": {
      "text/html": [
       "<pre style=\"overflow: auto; white-space: pre;\">q0: ───X────Z───\n",
       "       │    │\n",
       "q1: ───nZ───Y───</pre>"
      ],
      "text/plain": [
       "q0: ───X────Z───\n",
       "       │    │\n",
       "q1: ───nZ───Y───"
      ]
     },
     "metadata": {},
     "output_type": "display_data"
    },
    {
     "data": {
      "text/html": [
       "<pre style=\"overflow: auto; white-space: pre;\">q0: ───X────Z───\n",
       "       │    │\n",
       "q1: ───nZ───Z───</pre>"
      ],
      "text/plain": [
       "q0: ───X────Z───\n",
       "       │    │\n",
       "q1: ───nZ───Z───"
      ]
     },
     "metadata": {},
     "output_type": "display_data"
    },
    {
     "data": {
      "text/html": [
       "<pre style=\"overflow: auto; white-space: pre;\">q0: ───X────Z────\n",
       "       │    │\n",
       "q1: ───nZ───nX───</pre>"
      ],
      "text/plain": [
       "q0: ───X────Z────\n",
       "       │    │\n",
       "q1: ───nZ───nX───"
      ]
     },
     "metadata": {},
     "output_type": "display_data"
    },
    {
     "data": {
      "text/html": [
       "<pre style=\"overflow: auto; white-space: pre;\">q0: ───X────Z────\n",
       "       │    │\n",
       "q1: ───nZ───nY───</pre>"
      ],
      "text/plain": [
       "q0: ───X────Z────\n",
       "       │    │\n",
       "q1: ───nZ───nY───"
      ]
     },
     "metadata": {},
     "output_type": "display_data"
    },
    {
     "data": {
      "text/html": [
       "<pre style=\"overflow: auto; white-space: pre;\">q0: ───X────Z────\n",
       "       │    │\n",
       "q1: ───nZ───nZ───</pre>"
      ],
      "text/plain": [
       "q0: ───X────Z────\n",
       "       │    │\n",
       "q1: ───nZ───nZ───"
      ]
     },
     "metadata": {},
     "output_type": "display_data"
    },
    {
     "data": {
      "text/html": [
       "<pre style=\"overflow: auto; white-space: pre;\">q0: ───X────nX───\n",
       "       │    │\n",
       "q1: ───nZ───X────</pre>"
      ],
      "text/plain": [
       "q0: ───X────nX───\n",
       "       │    │\n",
       "q1: ───nZ───X────"
      ]
     },
     "metadata": {},
     "output_type": "display_data"
    },
    {
     "data": {
      "text/html": [
       "<pre style=\"overflow: auto; white-space: pre;\">q0: ───X────nX───\n",
       "       │    │\n",
       "q1: ───nZ───Y────</pre>"
      ],
      "text/plain": [
       "q0: ───X────nX───\n",
       "       │    │\n",
       "q1: ───nZ───Y────"
      ]
     },
     "metadata": {},
     "output_type": "display_data"
    },
    {
     "data": {
      "text/html": [
       "<pre style=\"overflow: auto; white-space: pre;\">q0: ───X────nX───\n",
       "       │    │\n",
       "q1: ───nZ───Z────</pre>"
      ],
      "text/plain": [
       "q0: ───X────nX───\n",
       "       │    │\n",
       "q1: ───nZ───Z────"
      ]
     },
     "metadata": {},
     "output_type": "display_data"
    },
    {
     "data": {
      "text/html": [
       "<pre style=\"overflow: auto; white-space: pre;\">q0: ───X────nX───\n",
       "       │    │\n",
       "q1: ───nZ───nX───</pre>"
      ],
      "text/plain": [
       "q0: ───X────nX───\n",
       "       │    │\n",
       "q1: ───nZ───nX───"
      ]
     },
     "metadata": {},
     "output_type": "display_data"
    },
    {
     "data": {
      "text/html": [
       "<pre style=\"overflow: auto; white-space: pre;\">q0: ───X────nX───\n",
       "       │    │\n",
       "q1: ───nZ───nY───</pre>"
      ],
      "text/plain": [
       "q0: ───X────nX───\n",
       "       │    │\n",
       "q1: ───nZ───nY───"
      ]
     },
     "metadata": {},
     "output_type": "display_data"
    },
    {
     "data": {
      "text/html": [
       "<pre style=\"overflow: auto; white-space: pre;\">q0: ───X────nX───\n",
       "       │    │\n",
       "q1: ───nZ───nZ───</pre>"
      ],
      "text/plain": [
       "q0: ───X────nX───\n",
       "       │    │\n",
       "q1: ───nZ───nZ───"
      ]
     },
     "metadata": {},
     "output_type": "display_data"
    },
    {
     "data": {
      "text/html": [
       "<pre style=\"overflow: auto; white-space: pre;\">q0: ───X────nY───\n",
       "       │    │\n",
       "q1: ───nZ───X────</pre>"
      ],
      "text/plain": [
       "q0: ───X────nY───\n",
       "       │    │\n",
       "q1: ───nZ───X────"
      ]
     },
     "metadata": {},
     "output_type": "display_data"
    },
    {
     "data": {
      "text/html": [
       "<pre style=\"overflow: auto; white-space: pre;\">q0: ───X────nY───\n",
       "       │    │\n",
       "q1: ───nZ───Y────</pre>"
      ],
      "text/plain": [
       "q0: ───X────nY───\n",
       "       │    │\n",
       "q1: ───nZ───Y────"
      ]
     },
     "metadata": {},
     "output_type": "display_data"
    },
    {
     "data": {
      "text/html": [
       "<pre style=\"overflow: auto; white-space: pre;\">q0: ───X────nY───\n",
       "       │    │\n",
       "q1: ───nZ───Z────</pre>"
      ],
      "text/plain": [
       "q0: ───X────nY───\n",
       "       │    │\n",
       "q1: ───nZ───Z────"
      ]
     },
     "metadata": {},
     "output_type": "display_data"
    },
    {
     "data": {
      "text/html": [
       "<pre style=\"overflow: auto; white-space: pre;\">q0: ───X────nY───\n",
       "       │    │\n",
       "q1: ───nZ───nX───</pre>"
      ],
      "text/plain": [
       "q0: ───X────nY───\n",
       "       │    │\n",
       "q1: ───nZ───nX───"
      ]
     },
     "metadata": {},
     "output_type": "display_data"
    },
    {
     "data": {
      "text/html": [
       "<pre style=\"overflow: auto; white-space: pre;\">q0: ───X────nY───\n",
       "       │    │\n",
       "q1: ───nZ───nY───</pre>"
      ],
      "text/plain": [
       "q0: ───X────nY───\n",
       "       │    │\n",
       "q1: ───nZ───nY───"
      ]
     },
     "metadata": {},
     "output_type": "display_data"
    },
    {
     "data": {
      "text/html": [
       "<pre style=\"overflow: auto; white-space: pre;\">q0: ───X────nY───\n",
       "       │    │\n",
       "q1: ───nZ───nZ───</pre>"
      ],
      "text/plain": [
       "q0: ───X────nY───\n",
       "       │    │\n",
       "q1: ───nZ───nZ───"
      ]
     },
     "metadata": {},
     "output_type": "display_data"
    },
    {
     "data": {
      "text/html": [
       "<pre style=\"overflow: auto; white-space: pre;\">q0: ───X────nZ───\n",
       "       │    │\n",
       "q1: ───nZ───X────</pre>"
      ],
      "text/plain": [
       "q0: ───X────nZ───\n",
       "       │    │\n",
       "q1: ───nZ───X────"
      ]
     },
     "metadata": {},
     "output_type": "display_data"
    },
    {
     "data": {
      "text/html": [
       "<pre style=\"overflow: auto; white-space: pre;\">q0: ───X────nZ───\n",
       "       │    │\n",
       "q1: ───nZ───Y────</pre>"
      ],
      "text/plain": [
       "q0: ───X────nZ───\n",
       "       │    │\n",
       "q1: ───nZ───Y────"
      ]
     },
     "metadata": {},
     "output_type": "display_data"
    },
    {
     "data": {
      "text/html": [
       "<pre style=\"overflow: auto; white-space: pre;\">q0: ───X────nZ───\n",
       "       │    │\n",
       "q1: ───nZ───Z────</pre>"
      ],
      "text/plain": [
       "q0: ───X────nZ───\n",
       "       │    │\n",
       "q1: ───nZ───Z────"
      ]
     },
     "metadata": {},
     "output_type": "display_data"
    },
    {
     "data": {
      "text/html": [
       "<pre style=\"overflow: auto; white-space: pre;\">q0: ───X────nZ───\n",
       "       │    │\n",
       "q1: ───nZ───nX───</pre>"
      ],
      "text/plain": [
       "q0: ───X────nZ───\n",
       "       │    │\n",
       "q1: ───nZ───nX───"
      ]
     },
     "metadata": {},
     "output_type": "display_data"
    },
    {
     "data": {
      "text/html": [
       "<pre style=\"overflow: auto; white-space: pre;\">q0: ───X────nZ───\n",
       "       │    │\n",
       "q1: ───nZ───nY───</pre>"
      ],
      "text/plain": [
       "q0: ───X────nZ───\n",
       "       │    │\n",
       "q1: ───nZ───nY───"
      ]
     },
     "metadata": {},
     "output_type": "display_data"
    },
    {
     "data": {
      "text/html": [
       "<pre style=\"overflow: auto; white-space: pre;\">q0: ───X────nZ───\n",
       "       │    │\n",
       "q1: ───nZ───nZ───</pre>"
      ],
      "text/plain": [
       "q0: ───X────nZ───\n",
       "       │    │\n",
       "q1: ───nZ───nZ───"
      ]
     },
     "metadata": {},
     "output_type": "display_data"
    },
    {
     "data": {
      "text/html": [
       "<pre style=\"overflow: auto; white-space: pre;\">q0: ───Y───X───\n",
       "       │   │\n",
       "q1: ───X───X───</pre>"
      ],
      "text/plain": [
       "q0: ───Y───X───\n",
       "       │   │\n",
       "q1: ───X───X───"
      ]
     },
     "metadata": {},
     "output_type": "display_data"
    },
    {
     "data": {
      "text/html": [
       "<pre style=\"overflow: auto; white-space: pre;\">q0: ───Y───X───\n",
       "       │   │\n",
       "q1: ───X───Y───</pre>"
      ],
      "text/plain": [
       "q0: ───Y───X───\n",
       "       │   │\n",
       "q1: ───X───Y───"
      ]
     },
     "metadata": {},
     "output_type": "display_data"
    },
    {
     "data": {
      "text/html": [
       "<pre style=\"overflow: auto; white-space: pre;\">q0: ───Y───X───\n",
       "       │   │\n",
       "q1: ───X───Z───</pre>"
      ],
      "text/plain": [
       "q0: ───Y───X───\n",
       "       │   │\n",
       "q1: ───X───Z───"
      ]
     },
     "metadata": {},
     "output_type": "display_data"
    },
    {
     "data": {
      "text/html": [
       "<pre style=\"overflow: auto; white-space: pre;\">q0: ───Y───X────\n",
       "       │   │\n",
       "q1: ───X───nX───</pre>"
      ],
      "text/plain": [
       "q0: ───Y───X────\n",
       "       │   │\n",
       "q1: ───X───nX───"
      ]
     },
     "metadata": {},
     "output_type": "display_data"
    },
    {
     "data": {
      "text/html": [
       "<pre style=\"overflow: auto; white-space: pre;\">q0: ───Y───X────\n",
       "       │   │\n",
       "q1: ───X───nY───</pre>"
      ],
      "text/plain": [
       "q0: ───Y───X────\n",
       "       │   │\n",
       "q1: ───X───nY───"
      ]
     },
     "metadata": {},
     "output_type": "display_data"
    },
    {
     "data": {
      "text/html": [
       "<pre style=\"overflow: auto; white-space: pre;\">q0: ───Y───X────\n",
       "       │   │\n",
       "q1: ───X───nZ───</pre>"
      ],
      "text/plain": [
       "q0: ───Y───X────\n",
       "       │   │\n",
       "q1: ───X───nZ───"
      ]
     },
     "metadata": {},
     "output_type": "display_data"
    },
    {
     "data": {
      "text/html": [
       "<pre style=\"overflow: auto; white-space: pre;\">q0: ───Y───Y───\n",
       "       │   │\n",
       "q1: ───X───X───</pre>"
      ],
      "text/plain": [
       "q0: ───Y───Y───\n",
       "       │   │\n",
       "q1: ───X───X───"
      ]
     },
     "metadata": {},
     "output_type": "display_data"
    },
    {
     "data": {
      "text/html": [
       "<pre style=\"overflow: auto; white-space: pre;\">q0: ───Y───Y───\n",
       "       │   │\n",
       "q1: ───X───Y───</pre>"
      ],
      "text/plain": [
       "q0: ───Y───Y───\n",
       "       │   │\n",
       "q1: ───X───Y───"
      ]
     },
     "metadata": {},
     "output_type": "display_data"
    },
    {
     "data": {
      "text/html": [
       "<pre style=\"overflow: auto; white-space: pre;\">q0: ───Y───Y───\n",
       "       │   │\n",
       "q1: ───X───Z───</pre>"
      ],
      "text/plain": [
       "q0: ───Y───Y───\n",
       "       │   │\n",
       "q1: ───X───Z───"
      ]
     },
     "metadata": {},
     "output_type": "display_data"
    },
    {
     "data": {
      "text/html": [
       "<pre style=\"overflow: auto; white-space: pre;\">q0: ───Y───Y────\n",
       "       │   │\n",
       "q1: ───X───nX───</pre>"
      ],
      "text/plain": [
       "q0: ───Y───Y────\n",
       "       │   │\n",
       "q1: ───X───nX───"
      ]
     },
     "metadata": {},
     "output_type": "display_data"
    },
    {
     "data": {
      "text/html": [
       "<pre style=\"overflow: auto; white-space: pre;\">q0: ───Y───Y────\n",
       "       │   │\n",
       "q1: ───X───nY───</pre>"
      ],
      "text/plain": [
       "q0: ───Y───Y────\n",
       "       │   │\n",
       "q1: ───X───nY───"
      ]
     },
     "metadata": {},
     "output_type": "display_data"
    },
    {
     "data": {
      "text/html": [
       "<pre style=\"overflow: auto; white-space: pre;\">q0: ───Y───Y────\n",
       "       │   │\n",
       "q1: ───X───nZ───</pre>"
      ],
      "text/plain": [
       "q0: ───Y───Y────\n",
       "       │   │\n",
       "q1: ───X───nZ───"
      ]
     },
     "metadata": {},
     "output_type": "display_data"
    },
    {
     "data": {
      "text/html": [
       "<pre style=\"overflow: auto; white-space: pre;\">q0: ───Y───Z───\n",
       "       │   │\n",
       "q1: ───X───X───</pre>"
      ],
      "text/plain": [
       "q0: ───Y───Z───\n",
       "       │   │\n",
       "q1: ───X───X───"
      ]
     },
     "metadata": {},
     "output_type": "display_data"
    },
    {
     "data": {
      "text/html": [
       "<pre style=\"overflow: auto; white-space: pre;\">q0: ───Y───Z───\n",
       "       │   │\n",
       "q1: ───X───Y───</pre>"
      ],
      "text/plain": [
       "q0: ───Y───Z───\n",
       "       │   │\n",
       "q1: ───X───Y───"
      ]
     },
     "metadata": {},
     "output_type": "display_data"
    },
    {
     "data": {
      "text/html": [
       "<pre style=\"overflow: auto; white-space: pre;\">q0: ───Y───Z───\n",
       "       │   │\n",
       "q1: ───X───Z───</pre>"
      ],
      "text/plain": [
       "q0: ───Y───Z───\n",
       "       │   │\n",
       "q1: ───X───Z───"
      ]
     },
     "metadata": {},
     "output_type": "display_data"
    },
    {
     "data": {
      "text/html": [
       "<pre style=\"overflow: auto; white-space: pre;\">q0: ───Y───Z────\n",
       "       │   │\n",
       "q1: ───X───nX───</pre>"
      ],
      "text/plain": [
       "q0: ───Y───Z────\n",
       "       │   │\n",
       "q1: ───X───nX───"
      ]
     },
     "metadata": {},
     "output_type": "display_data"
    },
    {
     "data": {
      "text/html": [
       "<pre style=\"overflow: auto; white-space: pre;\">q0: ───Y───Z────\n",
       "       │   │\n",
       "q1: ───X───nY───</pre>"
      ],
      "text/plain": [
       "q0: ───Y───Z────\n",
       "       │   │\n",
       "q1: ───X───nY───"
      ]
     },
     "metadata": {},
     "output_type": "display_data"
    },
    {
     "data": {
      "text/html": [
       "<pre style=\"overflow: auto; white-space: pre;\">q0: ───Y───Z────\n",
       "       │   │\n",
       "q1: ───X───nZ───</pre>"
      ],
      "text/plain": [
       "q0: ───Y───Z────\n",
       "       │   │\n",
       "q1: ───X───nZ───"
      ]
     },
     "metadata": {},
     "output_type": "display_data"
    },
    {
     "data": {
      "text/html": [
       "<pre style=\"overflow: auto; white-space: pre;\">q0: ───Y───nX───\n",
       "       │   │\n",
       "q1: ───X───X────</pre>"
      ],
      "text/plain": [
       "q0: ───Y───nX───\n",
       "       │   │\n",
       "q1: ───X───X────"
      ]
     },
     "metadata": {},
     "output_type": "display_data"
    },
    {
     "data": {
      "text/html": [
       "<pre style=\"overflow: auto; white-space: pre;\">q0: ───Y───nX───\n",
       "       │   │\n",
       "q1: ───X───Y────</pre>"
      ],
      "text/plain": [
       "q0: ───Y───nX───\n",
       "       │   │\n",
       "q1: ───X───Y────"
      ]
     },
     "metadata": {},
     "output_type": "display_data"
    },
    {
     "data": {
      "text/html": [
       "<pre style=\"overflow: auto; white-space: pre;\">q0: ───Y───nX───\n",
       "       │   │\n",
       "q1: ───X───Z────</pre>"
      ],
      "text/plain": [
       "q0: ───Y───nX───\n",
       "       │   │\n",
       "q1: ───X───Z────"
      ]
     },
     "metadata": {},
     "output_type": "display_data"
    },
    {
     "data": {
      "text/html": [
       "<pre style=\"overflow: auto; white-space: pre;\">q0: ───Y───nX───\n",
       "       │   │\n",
       "q1: ───X───nX───</pre>"
      ],
      "text/plain": [
       "q0: ───Y───nX───\n",
       "       │   │\n",
       "q1: ───X───nX───"
      ]
     },
     "metadata": {},
     "output_type": "display_data"
    },
    {
     "data": {
      "text/html": [
       "<pre style=\"overflow: auto; white-space: pre;\">q0: ───Y───nX───\n",
       "       │   │\n",
       "q1: ───X───nY───</pre>"
      ],
      "text/plain": [
       "q0: ───Y───nX───\n",
       "       │   │\n",
       "q1: ───X───nY───"
      ]
     },
     "metadata": {},
     "output_type": "display_data"
    },
    {
     "data": {
      "text/html": [
       "<pre style=\"overflow: auto; white-space: pre;\">q0: ───Y───nX───\n",
       "       │   │\n",
       "q1: ───X───nZ───</pre>"
      ],
      "text/plain": [
       "q0: ───Y───nX───\n",
       "       │   │\n",
       "q1: ───X───nZ───"
      ]
     },
     "metadata": {},
     "output_type": "display_data"
    },
    {
     "data": {
      "text/html": [
       "<pre style=\"overflow: auto; white-space: pre;\">q0: ───Y───nY───\n",
       "       │   │\n",
       "q1: ───X───X────</pre>"
      ],
      "text/plain": [
       "q0: ───Y───nY───\n",
       "       │   │\n",
       "q1: ───X───X────"
      ]
     },
     "metadata": {},
     "output_type": "display_data"
    },
    {
     "data": {
      "text/html": [
       "<pre style=\"overflow: auto; white-space: pre;\">q0: ───Y───nY───\n",
       "       │   │\n",
       "q1: ───X───Y────</pre>"
      ],
      "text/plain": [
       "q0: ───Y───nY───\n",
       "       │   │\n",
       "q1: ───X───Y────"
      ]
     },
     "metadata": {},
     "output_type": "display_data"
    },
    {
     "data": {
      "text/html": [
       "<pre style=\"overflow: auto; white-space: pre;\">q0: ───Y───nY───\n",
       "       │   │\n",
       "q1: ───X───Z────</pre>"
      ],
      "text/plain": [
       "q0: ───Y───nY───\n",
       "       │   │\n",
       "q1: ───X───Z────"
      ]
     },
     "metadata": {},
     "output_type": "display_data"
    },
    {
     "data": {
      "text/html": [
       "<pre style=\"overflow: auto; white-space: pre;\">q0: ───Y───nY───\n",
       "       │   │\n",
       "q1: ───X───nX───</pre>"
      ],
      "text/plain": [
       "q0: ───Y───nY───\n",
       "       │   │\n",
       "q1: ───X───nX───"
      ]
     },
     "metadata": {},
     "output_type": "display_data"
    },
    {
     "data": {
      "text/html": [
       "<pre style=\"overflow: auto; white-space: pre;\">q0: ───Y───nY───\n",
       "       │   │\n",
       "q1: ───X───nY───</pre>"
      ],
      "text/plain": [
       "q0: ───Y───nY───\n",
       "       │   │\n",
       "q1: ───X───nY───"
      ]
     },
     "metadata": {},
     "output_type": "display_data"
    },
    {
     "data": {
      "text/html": [
       "<pre style=\"overflow: auto; white-space: pre;\">q0: ───Y───nY───\n",
       "       │   │\n",
       "q1: ───X───nZ───</pre>"
      ],
      "text/plain": [
       "q0: ───Y───nY───\n",
       "       │   │\n",
       "q1: ───X───nZ───"
      ]
     },
     "metadata": {},
     "output_type": "display_data"
    },
    {
     "data": {
      "text/html": [
       "<pre style=\"overflow: auto; white-space: pre;\">q0: ───Y───nZ───\n",
       "       │   │\n",
       "q1: ───X───X────</pre>"
      ],
      "text/plain": [
       "q0: ───Y───nZ───\n",
       "       │   │\n",
       "q1: ───X───X────"
      ]
     },
     "metadata": {},
     "output_type": "display_data"
    },
    {
     "data": {
      "text/html": [
       "<pre style=\"overflow: auto; white-space: pre;\">q0: ───Y───nZ───\n",
       "       │   │\n",
       "q1: ───X───Y────</pre>"
      ],
      "text/plain": [
       "q0: ───Y───nZ───\n",
       "       │   │\n",
       "q1: ───X───Y────"
      ]
     },
     "metadata": {},
     "output_type": "display_data"
    },
    {
     "data": {
      "text/html": [
       "<pre style=\"overflow: auto; white-space: pre;\">q0: ───Y───nZ───\n",
       "       │   │\n",
       "q1: ───X───Z────</pre>"
      ],
      "text/plain": [
       "q0: ───Y───nZ───\n",
       "       │   │\n",
       "q1: ───X───Z────"
      ]
     },
     "metadata": {},
     "output_type": "display_data"
    },
    {
     "data": {
      "text/html": [
       "<pre style=\"overflow: auto; white-space: pre;\">q0: ───Y───nZ───\n",
       "       │   │\n",
       "q1: ───X───nX───</pre>"
      ],
      "text/plain": [
       "q0: ───Y───nZ───\n",
       "       │   │\n",
       "q1: ───X───nX───"
      ]
     },
     "metadata": {},
     "output_type": "display_data"
    },
    {
     "data": {
      "text/html": [
       "<pre style=\"overflow: auto; white-space: pre;\">q0: ───Y───nZ───\n",
       "       │   │\n",
       "q1: ───X───nY───</pre>"
      ],
      "text/plain": [
       "q0: ───Y───nZ───\n",
       "       │   │\n",
       "q1: ───X───nY───"
      ]
     },
     "metadata": {},
     "output_type": "display_data"
    },
    {
     "data": {
      "text/html": [
       "<pre style=\"overflow: auto; white-space: pre;\">q0: ───Y───nZ───\n",
       "       │   │\n",
       "q1: ───X───nZ───</pre>"
      ],
      "text/plain": [
       "q0: ───Y───nZ───\n",
       "       │   │\n",
       "q1: ───X───nZ───"
      ]
     },
     "metadata": {},
     "output_type": "display_data"
    },
    {
     "data": {
      "text/html": [
       "<pre style=\"overflow: auto; white-space: pre;\">q0: ───Y───X───\n",
       "       │   │\n",
       "q1: ───Y───X───</pre>"
      ],
      "text/plain": [
       "q0: ───Y───X───\n",
       "       │   │\n",
       "q1: ───Y───X───"
      ]
     },
     "metadata": {},
     "output_type": "display_data"
    },
    {
     "data": {
      "text/html": [
       "<pre style=\"overflow: auto; white-space: pre;\">q0: ───Y───X───\n",
       "       │   │\n",
       "q1: ───Y───Y───</pre>"
      ],
      "text/plain": [
       "q0: ───Y───X───\n",
       "       │   │\n",
       "q1: ───Y───Y───"
      ]
     },
     "metadata": {},
     "output_type": "display_data"
    },
    {
     "data": {
      "text/html": [
       "<pre style=\"overflow: auto; white-space: pre;\">q0: ───Y───X───\n",
       "       │   │\n",
       "q1: ───Y───Z───</pre>"
      ],
      "text/plain": [
       "q0: ───Y───X───\n",
       "       │   │\n",
       "q1: ───Y───Z───"
      ]
     },
     "metadata": {},
     "output_type": "display_data"
    },
    {
     "data": {
      "text/html": [
       "<pre style=\"overflow: auto; white-space: pre;\">q0: ───Y───X────\n",
       "       │   │\n",
       "q1: ───Y───nX───</pre>"
      ],
      "text/plain": [
       "q0: ───Y───X────\n",
       "       │   │\n",
       "q1: ───Y───nX───"
      ]
     },
     "metadata": {},
     "output_type": "display_data"
    },
    {
     "data": {
      "text/html": [
       "<pre style=\"overflow: auto; white-space: pre;\">q0: ───Y───X────\n",
       "       │   │\n",
       "q1: ───Y───nY───</pre>"
      ],
      "text/plain": [
       "q0: ───Y───X────\n",
       "       │   │\n",
       "q1: ───Y───nY───"
      ]
     },
     "metadata": {},
     "output_type": "display_data"
    },
    {
     "data": {
      "text/html": [
       "<pre style=\"overflow: auto; white-space: pre;\">q0: ───Y───X────\n",
       "       │   │\n",
       "q1: ───Y───nZ───</pre>"
      ],
      "text/plain": [
       "q0: ───Y───X────\n",
       "       │   │\n",
       "q1: ───Y───nZ───"
      ]
     },
     "metadata": {},
     "output_type": "display_data"
    },
    {
     "data": {
      "text/html": [
       "<pre style=\"overflow: auto; white-space: pre;\">q0: ───Y───Y───\n",
       "       │   │\n",
       "q1: ───Y───X───</pre>"
      ],
      "text/plain": [
       "q0: ───Y───Y───\n",
       "       │   │\n",
       "q1: ───Y───X───"
      ]
     },
     "metadata": {},
     "output_type": "display_data"
    },
    {
     "data": {
      "text/html": [
       "<pre style=\"overflow: auto; white-space: pre;\">q0: ───Y───Y───\n",
       "       │   │\n",
       "q1: ───Y───Y───</pre>"
      ],
      "text/plain": [
       "q0: ───Y───Y───\n",
       "       │   │\n",
       "q1: ───Y───Y───"
      ]
     },
     "metadata": {},
     "output_type": "display_data"
    },
    {
     "data": {
      "text/html": [
       "<pre style=\"overflow: auto; white-space: pre;\">q0: ───Y───Y───\n",
       "       │   │\n",
       "q1: ───Y───Z───</pre>"
      ],
      "text/plain": [
       "q0: ───Y───Y───\n",
       "       │   │\n",
       "q1: ───Y───Z───"
      ]
     },
     "metadata": {},
     "output_type": "display_data"
    },
    {
     "data": {
      "text/html": [
       "<pre style=\"overflow: auto; white-space: pre;\">q0: ───Y───Y────\n",
       "       │   │\n",
       "q1: ───Y───nX───</pre>"
      ],
      "text/plain": [
       "q0: ───Y───Y────\n",
       "       │   │\n",
       "q1: ───Y───nX───"
      ]
     },
     "metadata": {},
     "output_type": "display_data"
    },
    {
     "data": {
      "text/html": [
       "<pre style=\"overflow: auto; white-space: pre;\">q0: ───Y───Y────\n",
       "       │   │\n",
       "q1: ───Y───nY───</pre>"
      ],
      "text/plain": [
       "q0: ───Y───Y────\n",
       "       │   │\n",
       "q1: ───Y───nY───"
      ]
     },
     "metadata": {},
     "output_type": "display_data"
    },
    {
     "data": {
      "text/html": [
       "<pre style=\"overflow: auto; white-space: pre;\">q0: ───Y───Y────\n",
       "       │   │\n",
       "q1: ───Y───nZ───</pre>"
      ],
      "text/plain": [
       "q0: ───Y───Y────\n",
       "       │   │\n",
       "q1: ───Y───nZ───"
      ]
     },
     "metadata": {},
     "output_type": "display_data"
    },
    {
     "data": {
      "text/html": [
       "<pre style=\"overflow: auto; white-space: pre;\">q0: ───Y───Z───\n",
       "       │   │\n",
       "q1: ───Y───X───</pre>"
      ],
      "text/plain": [
       "q0: ───Y───Z───\n",
       "       │   │\n",
       "q1: ───Y───X───"
      ]
     },
     "metadata": {},
     "output_type": "display_data"
    },
    {
     "data": {
      "text/html": [
       "<pre style=\"overflow: auto; white-space: pre;\">q0: ───Y───Z───\n",
       "       │   │\n",
       "q1: ───Y───Y───</pre>"
      ],
      "text/plain": [
       "q0: ───Y───Z───\n",
       "       │   │\n",
       "q1: ───Y───Y───"
      ]
     },
     "metadata": {},
     "output_type": "display_data"
    },
    {
     "data": {
      "text/html": [
       "<pre style=\"overflow: auto; white-space: pre;\">q0: ───Y───Z───\n",
       "       │   │\n",
       "q1: ───Y───Z───</pre>"
      ],
      "text/plain": [
       "q0: ───Y───Z───\n",
       "       │   │\n",
       "q1: ───Y───Z───"
      ]
     },
     "metadata": {},
     "output_type": "display_data"
    },
    {
     "data": {
      "text/html": [
       "<pre style=\"overflow: auto; white-space: pre;\">q0: ───Y───Z────\n",
       "       │   │\n",
       "q1: ───Y───nX───</pre>"
      ],
      "text/plain": [
       "q0: ───Y───Z────\n",
       "       │   │\n",
       "q1: ───Y───nX───"
      ]
     },
     "metadata": {},
     "output_type": "display_data"
    },
    {
     "data": {
      "text/html": [
       "<pre style=\"overflow: auto; white-space: pre;\">q0: ───Y───Z────\n",
       "       │   │\n",
       "q1: ───Y───nY───</pre>"
      ],
      "text/plain": [
       "q0: ───Y───Z────\n",
       "       │   │\n",
       "q1: ───Y───nY───"
      ]
     },
     "metadata": {},
     "output_type": "display_data"
    },
    {
     "data": {
      "text/html": [
       "<pre style=\"overflow: auto; white-space: pre;\">q0: ───Y───Z────\n",
       "       │   │\n",
       "q1: ───Y───nZ───</pre>"
      ],
      "text/plain": [
       "q0: ───Y───Z────\n",
       "       │   │\n",
       "q1: ───Y───nZ───"
      ]
     },
     "metadata": {},
     "output_type": "display_data"
    },
    {
     "data": {
      "text/html": [
       "<pre style=\"overflow: auto; white-space: pre;\">q0: ───Y───nX───\n",
       "       │   │\n",
       "q1: ───Y───X────</pre>"
      ],
      "text/plain": [
       "q0: ───Y───nX───\n",
       "       │   │\n",
       "q1: ───Y───X────"
      ]
     },
     "metadata": {},
     "output_type": "display_data"
    },
    {
     "data": {
      "text/html": [
       "<pre style=\"overflow: auto; white-space: pre;\">q0: ───Y───nX───\n",
       "       │   │\n",
       "q1: ───Y───Y────</pre>"
      ],
      "text/plain": [
       "q0: ───Y───nX───\n",
       "       │   │\n",
       "q1: ───Y───Y────"
      ]
     },
     "metadata": {},
     "output_type": "display_data"
    },
    {
     "data": {
      "text/html": [
       "<pre style=\"overflow: auto; white-space: pre;\">q0: ───Y───nX───\n",
       "       │   │\n",
       "q1: ───Y───Z────</pre>"
      ],
      "text/plain": [
       "q0: ───Y───nX───\n",
       "       │   │\n",
       "q1: ───Y───Z────"
      ]
     },
     "metadata": {},
     "output_type": "display_data"
    },
    {
     "data": {
      "text/html": [
       "<pre style=\"overflow: auto; white-space: pre;\">q0: ───Y───nX───\n",
       "       │   │\n",
       "q1: ───Y───nX───</pre>"
      ],
      "text/plain": [
       "q0: ───Y───nX───\n",
       "       │   │\n",
       "q1: ───Y───nX───"
      ]
     },
     "metadata": {},
     "output_type": "display_data"
    },
    {
     "data": {
      "text/html": [
       "<pre style=\"overflow: auto; white-space: pre;\">q0: ───Y───nX───\n",
       "       │   │\n",
       "q1: ───Y───nY───</pre>"
      ],
      "text/plain": [
       "q0: ───Y───nX───\n",
       "       │   │\n",
       "q1: ───Y───nY───"
      ]
     },
     "metadata": {},
     "output_type": "display_data"
    },
    {
     "data": {
      "text/html": [
       "<pre style=\"overflow: auto; white-space: pre;\">q0: ───Y───nX───\n",
       "       │   │\n",
       "q1: ───Y───nZ───</pre>"
      ],
      "text/plain": [
       "q0: ───Y───nX───\n",
       "       │   │\n",
       "q1: ───Y───nZ───"
      ]
     },
     "metadata": {},
     "output_type": "display_data"
    },
    {
     "data": {
      "text/html": [
       "<pre style=\"overflow: auto; white-space: pre;\">q0: ───Y───nY───\n",
       "       │   │\n",
       "q1: ───Y───X────</pre>"
      ],
      "text/plain": [
       "q0: ───Y───nY───\n",
       "       │   │\n",
       "q1: ───Y───X────"
      ]
     },
     "metadata": {},
     "output_type": "display_data"
    },
    {
     "data": {
      "text/html": [
       "<pre style=\"overflow: auto; white-space: pre;\">q0: ───Y───nY───\n",
       "       │   │\n",
       "q1: ───Y───Y────</pre>"
      ],
      "text/plain": [
       "q0: ───Y───nY───\n",
       "       │   │\n",
       "q1: ───Y───Y────"
      ]
     },
     "metadata": {},
     "output_type": "display_data"
    },
    {
     "data": {
      "text/html": [
       "<pre style=\"overflow: auto; white-space: pre;\">q0: ───Y───nY───\n",
       "       │   │\n",
       "q1: ───Y───Z────</pre>"
      ],
      "text/plain": [
       "q0: ───Y───nY───\n",
       "       │   │\n",
       "q1: ───Y───Z────"
      ]
     },
     "metadata": {},
     "output_type": "display_data"
    },
    {
     "data": {
      "text/html": [
       "<pre style=\"overflow: auto; white-space: pre;\">q0: ───Y───nY───\n",
       "       │   │\n",
       "q1: ───Y───nX───</pre>"
      ],
      "text/plain": [
       "q0: ───Y───nY───\n",
       "       │   │\n",
       "q1: ───Y───nX───"
      ]
     },
     "metadata": {},
     "output_type": "display_data"
    },
    {
     "data": {
      "text/html": [
       "<pre style=\"overflow: auto; white-space: pre;\">q0: ───Y───nY───\n",
       "       │   │\n",
       "q1: ───Y───nY───</pre>"
      ],
      "text/plain": [
       "q0: ───Y───nY───\n",
       "       │   │\n",
       "q1: ───Y───nY───"
      ]
     },
     "metadata": {},
     "output_type": "display_data"
    },
    {
     "data": {
      "text/html": [
       "<pre style=\"overflow: auto; white-space: pre;\">q0: ───Y───nY───\n",
       "       │   │\n",
       "q1: ───Y───nZ───</pre>"
      ],
      "text/plain": [
       "q0: ───Y───nY───\n",
       "       │   │\n",
       "q1: ───Y───nZ───"
      ]
     },
     "metadata": {},
     "output_type": "display_data"
    },
    {
     "data": {
      "text/html": [
       "<pre style=\"overflow: auto; white-space: pre;\">q0: ───Y───nZ───\n",
       "       │   │\n",
       "q1: ───Y───X────</pre>"
      ],
      "text/plain": [
       "q0: ───Y───nZ───\n",
       "       │   │\n",
       "q1: ───Y───X────"
      ]
     },
     "metadata": {},
     "output_type": "display_data"
    },
    {
     "data": {
      "text/html": [
       "<pre style=\"overflow: auto; white-space: pre;\">q0: ───Y───nZ───\n",
       "       │   │\n",
       "q1: ───Y───Y────</pre>"
      ],
      "text/plain": [
       "q0: ───Y───nZ───\n",
       "       │   │\n",
       "q1: ───Y───Y────"
      ]
     },
     "metadata": {},
     "output_type": "display_data"
    },
    {
     "data": {
      "text/html": [
       "<pre style=\"overflow: auto; white-space: pre;\">q0: ───Y───nZ───\n",
       "       │   │\n",
       "q1: ───Y───Z────</pre>"
      ],
      "text/plain": [
       "q0: ───Y───nZ───\n",
       "       │   │\n",
       "q1: ───Y───Z────"
      ]
     },
     "metadata": {},
     "output_type": "display_data"
    },
    {
     "data": {
      "text/html": [
       "<pre style=\"overflow: auto; white-space: pre;\">q0: ───Y───nZ───\n",
       "       │   │\n",
       "q1: ───Y───nX───</pre>"
      ],
      "text/plain": [
       "q0: ───Y───nZ───\n",
       "       │   │\n",
       "q1: ───Y───nX───"
      ]
     },
     "metadata": {},
     "output_type": "display_data"
    },
    {
     "data": {
      "text/html": [
       "<pre style=\"overflow: auto; white-space: pre;\">q0: ───Y───nZ───\n",
       "       │   │\n",
       "q1: ───Y───nY───</pre>"
      ],
      "text/plain": [
       "q0: ───Y───nZ───\n",
       "       │   │\n",
       "q1: ───Y───nY───"
      ]
     },
     "metadata": {},
     "output_type": "display_data"
    },
    {
     "data": {
      "text/html": [
       "<pre style=\"overflow: auto; white-space: pre;\">q0: ───Y───nZ───\n",
       "       │   │\n",
       "q1: ───Y───nZ───</pre>"
      ],
      "text/plain": [
       "q0: ───Y───nZ───\n",
       "       │   │\n",
       "q1: ───Y───nZ───"
      ]
     },
     "metadata": {},
     "output_type": "display_data"
    },
    {
     "data": {
      "text/html": [
       "<pre style=\"overflow: auto; white-space: pre;\">q0: ───Y───X───\n",
       "       │   │\n",
       "q1: ───Z───X───</pre>"
      ],
      "text/plain": [
       "q0: ───Y───X───\n",
       "       │   │\n",
       "q1: ───Z───X───"
      ]
     },
     "metadata": {},
     "output_type": "display_data"
    },
    {
     "data": {
      "text/html": [
       "<pre style=\"overflow: auto; white-space: pre;\">q0: ───Y───X───\n",
       "       │   │\n",
       "q1: ───Z───Y───</pre>"
      ],
      "text/plain": [
       "q0: ───Y───X───\n",
       "       │   │\n",
       "q1: ───Z───Y───"
      ]
     },
     "metadata": {},
     "output_type": "display_data"
    },
    {
     "data": {
      "text/html": [
       "<pre style=\"overflow: auto; white-space: pre;\">q0: ───Y───X───\n",
       "       │   │\n",
       "q1: ───Z───Z───</pre>"
      ],
      "text/plain": [
       "q0: ───Y───X───\n",
       "       │   │\n",
       "q1: ───Z───Z───"
      ]
     },
     "metadata": {},
     "output_type": "display_data"
    },
    {
     "data": {
      "text/html": [
       "<pre style=\"overflow: auto; white-space: pre;\">q0: ───Y───X────\n",
       "       │   │\n",
       "q1: ───Z───nX───</pre>"
      ],
      "text/plain": [
       "q0: ───Y───X────\n",
       "       │   │\n",
       "q1: ───Z───nX───"
      ]
     },
     "metadata": {},
     "output_type": "display_data"
    },
    {
     "data": {
      "text/html": [
       "<pre style=\"overflow: auto; white-space: pre;\">q0: ───Y───X────\n",
       "       │   │\n",
       "q1: ───Z───nY───</pre>"
      ],
      "text/plain": [
       "q0: ───Y───X────\n",
       "       │   │\n",
       "q1: ───Z───nY───"
      ]
     },
     "metadata": {},
     "output_type": "display_data"
    },
    {
     "data": {
      "text/html": [
       "<pre style=\"overflow: auto; white-space: pre;\">q0: ───Y───X────\n",
       "       │   │\n",
       "q1: ───Z───nZ───</pre>"
      ],
      "text/plain": [
       "q0: ───Y───X────\n",
       "       │   │\n",
       "q1: ───Z───nZ───"
      ]
     },
     "metadata": {},
     "output_type": "display_data"
    },
    {
     "data": {
      "text/html": [
       "<pre style=\"overflow: auto; white-space: pre;\">q0: ───Y───Y───\n",
       "       │   │\n",
       "q1: ───Z───X───</pre>"
      ],
      "text/plain": [
       "q0: ───Y───Y───\n",
       "       │   │\n",
       "q1: ───Z───X───"
      ]
     },
     "metadata": {},
     "output_type": "display_data"
    },
    {
     "data": {
      "text/html": [
       "<pre style=\"overflow: auto; white-space: pre;\">q0: ───Y───Y───\n",
       "       │   │\n",
       "q1: ───Z───Y───</pre>"
      ],
      "text/plain": [
       "q0: ───Y───Y───\n",
       "       │   │\n",
       "q1: ───Z───Y───"
      ]
     },
     "metadata": {},
     "output_type": "display_data"
    },
    {
     "data": {
      "text/html": [
       "<pre style=\"overflow: auto; white-space: pre;\">q0: ───Y───Y───\n",
       "       │   │\n",
       "q1: ───Z───Z───</pre>"
      ],
      "text/plain": [
       "q0: ───Y───Y───\n",
       "       │   │\n",
       "q1: ───Z───Z───"
      ]
     },
     "metadata": {},
     "output_type": "display_data"
    },
    {
     "data": {
      "text/html": [
       "<pre style=\"overflow: auto; white-space: pre;\">q0: ───Y───Y────\n",
       "       │   │\n",
       "q1: ───Z───nX───</pre>"
      ],
      "text/plain": [
       "q0: ───Y───Y────\n",
       "       │   │\n",
       "q1: ───Z───nX───"
      ]
     },
     "metadata": {},
     "output_type": "display_data"
    },
    {
     "data": {
      "text/html": [
       "<pre style=\"overflow: auto; white-space: pre;\">q0: ───Y───Y────\n",
       "       │   │\n",
       "q1: ───Z───nY───</pre>"
      ],
      "text/plain": [
       "q0: ───Y───Y────\n",
       "       │   │\n",
       "q1: ───Z───nY───"
      ]
     },
     "metadata": {},
     "output_type": "display_data"
    },
    {
     "data": {
      "text/html": [
       "<pre style=\"overflow: auto; white-space: pre;\">q0: ───Y───Y────\n",
       "       │   │\n",
       "q1: ───Z───nZ───</pre>"
      ],
      "text/plain": [
       "q0: ───Y───Y────\n",
       "       │   │\n",
       "q1: ───Z───nZ───"
      ]
     },
     "metadata": {},
     "output_type": "display_data"
    },
    {
     "data": {
      "text/html": [
       "<pre style=\"overflow: auto; white-space: pre;\">q0: ───Y───Z───\n",
       "       │   │\n",
       "q1: ───Z───X───</pre>"
      ],
      "text/plain": [
       "q0: ───Y───Z───\n",
       "       │   │\n",
       "q1: ───Z───X───"
      ]
     },
     "metadata": {},
     "output_type": "display_data"
    },
    {
     "data": {
      "text/html": [
       "<pre style=\"overflow: auto; white-space: pre;\">q0: ───Y───Z───\n",
       "       │   │\n",
       "q1: ───Z───Y───</pre>"
      ],
      "text/plain": [
       "q0: ───Y───Z───\n",
       "       │   │\n",
       "q1: ───Z───Y───"
      ]
     },
     "metadata": {},
     "output_type": "display_data"
    },
    {
     "data": {
      "text/html": [
       "<pre style=\"overflow: auto; white-space: pre;\">q0: ───Y───Z───\n",
       "       │   │\n",
       "q1: ───Z───Z───</pre>"
      ],
      "text/plain": [
       "q0: ───Y───Z───\n",
       "       │   │\n",
       "q1: ───Z───Z───"
      ]
     },
     "metadata": {},
     "output_type": "display_data"
    },
    {
     "data": {
      "text/html": [
       "<pre style=\"overflow: auto; white-space: pre;\">q0: ───Y───Z────\n",
       "       │   │\n",
       "q1: ───Z───nX───</pre>"
      ],
      "text/plain": [
       "q0: ───Y───Z────\n",
       "       │   │\n",
       "q1: ───Z───nX───"
      ]
     },
     "metadata": {},
     "output_type": "display_data"
    },
    {
     "data": {
      "text/html": [
       "<pre style=\"overflow: auto; white-space: pre;\">q0: ───Y───Z────\n",
       "       │   │\n",
       "q1: ───Z───nY───</pre>"
      ],
      "text/plain": [
       "q0: ───Y───Z────\n",
       "       │   │\n",
       "q1: ───Z───nY───"
      ]
     },
     "metadata": {},
     "output_type": "display_data"
    },
    {
     "data": {
      "text/html": [
       "<pre style=\"overflow: auto; white-space: pre;\">q0: ───Y───Z────\n",
       "       │   │\n",
       "q1: ───Z───nZ───</pre>"
      ],
      "text/plain": [
       "q0: ───Y───Z────\n",
       "       │   │\n",
       "q1: ───Z───nZ───"
      ]
     },
     "metadata": {},
     "output_type": "display_data"
    },
    {
     "data": {
      "text/html": [
       "<pre style=\"overflow: auto; white-space: pre;\">q0: ───Y───nX───\n",
       "       │   │\n",
       "q1: ───Z───X────</pre>"
      ],
      "text/plain": [
       "q0: ───Y───nX───\n",
       "       │   │\n",
       "q1: ───Z───X────"
      ]
     },
     "metadata": {},
     "output_type": "display_data"
    },
    {
     "data": {
      "text/html": [
       "<pre style=\"overflow: auto; white-space: pre;\">q0: ───Y───nX───\n",
       "       │   │\n",
       "q1: ───Z───Y────</pre>"
      ],
      "text/plain": [
       "q0: ───Y───nX───\n",
       "       │   │\n",
       "q1: ───Z───Y────"
      ]
     },
     "metadata": {},
     "output_type": "display_data"
    },
    {
     "data": {
      "text/html": [
       "<pre style=\"overflow: auto; white-space: pre;\">q0: ───Y───nX───\n",
       "       │   │\n",
       "q1: ───Z───Z────</pre>"
      ],
      "text/plain": [
       "q0: ───Y───nX───\n",
       "       │   │\n",
       "q1: ───Z───Z────"
      ]
     },
     "metadata": {},
     "output_type": "display_data"
    },
    {
     "data": {
      "text/html": [
       "<pre style=\"overflow: auto; white-space: pre;\">q0: ───Y───nX───\n",
       "       │   │\n",
       "q1: ───Z───nX───</pre>"
      ],
      "text/plain": [
       "q0: ───Y───nX───\n",
       "       │   │\n",
       "q1: ───Z───nX───"
      ]
     },
     "metadata": {},
     "output_type": "display_data"
    },
    {
     "data": {
      "text/html": [
       "<pre style=\"overflow: auto; white-space: pre;\">q0: ───Y───nX───\n",
       "       │   │\n",
       "q1: ───Z───nY───</pre>"
      ],
      "text/plain": [
       "q0: ───Y───nX───\n",
       "       │   │\n",
       "q1: ───Z───nY───"
      ]
     },
     "metadata": {},
     "output_type": "display_data"
    },
    {
     "data": {
      "text/html": [
       "<pre style=\"overflow: auto; white-space: pre;\">q0: ───Y───nX───\n",
       "       │   │\n",
       "q1: ───Z───nZ───</pre>"
      ],
      "text/plain": [
       "q0: ───Y───nX───\n",
       "       │   │\n",
       "q1: ───Z───nZ───"
      ]
     },
     "metadata": {},
     "output_type": "display_data"
    },
    {
     "data": {
      "text/html": [
       "<pre style=\"overflow: auto; white-space: pre;\">q0: ───Y───nY───\n",
       "       │   │\n",
       "q1: ───Z───X────</pre>"
      ],
      "text/plain": [
       "q0: ───Y───nY───\n",
       "       │   │\n",
       "q1: ───Z───X────"
      ]
     },
     "metadata": {},
     "output_type": "display_data"
    },
    {
     "data": {
      "text/html": [
       "<pre style=\"overflow: auto; white-space: pre;\">q0: ───Y───nY───\n",
       "       │   │\n",
       "q1: ───Z───Y────</pre>"
      ],
      "text/plain": [
       "q0: ───Y───nY───\n",
       "       │   │\n",
       "q1: ───Z───Y────"
      ]
     },
     "metadata": {},
     "output_type": "display_data"
    },
    {
     "data": {
      "text/html": [
       "<pre style=\"overflow: auto; white-space: pre;\">q0: ───Y───nY───\n",
       "       │   │\n",
       "q1: ───Z───Z────</pre>"
      ],
      "text/plain": [
       "q0: ───Y───nY───\n",
       "       │   │\n",
       "q1: ───Z───Z────"
      ]
     },
     "metadata": {},
     "output_type": "display_data"
    },
    {
     "data": {
      "text/html": [
       "<pre style=\"overflow: auto; white-space: pre;\">q0: ───Y───nY───\n",
       "       │   │\n",
       "q1: ───Z───nX───</pre>"
      ],
      "text/plain": [
       "q0: ───Y───nY───\n",
       "       │   │\n",
       "q1: ───Z───nX───"
      ]
     },
     "metadata": {},
     "output_type": "display_data"
    },
    {
     "data": {
      "text/html": [
       "<pre style=\"overflow: auto; white-space: pre;\">q0: ───Y───nY───\n",
       "       │   │\n",
       "q1: ───Z───nY───</pre>"
      ],
      "text/plain": [
       "q0: ───Y───nY───\n",
       "       │   │\n",
       "q1: ───Z───nY───"
      ]
     },
     "metadata": {},
     "output_type": "display_data"
    },
    {
     "data": {
      "text/html": [
       "<pre style=\"overflow: auto; white-space: pre;\">q0: ───Y───nY───\n",
       "       │   │\n",
       "q1: ───Z───nZ───</pre>"
      ],
      "text/plain": [
       "q0: ───Y───nY───\n",
       "       │   │\n",
       "q1: ───Z───nZ───"
      ]
     },
     "metadata": {},
     "output_type": "display_data"
    },
    {
     "data": {
      "text/html": [
       "<pre style=\"overflow: auto; white-space: pre;\">q0: ───Y───nZ───\n",
       "       │   │\n",
       "q1: ───Z───X────</pre>"
      ],
      "text/plain": [
       "q0: ───Y───nZ───\n",
       "       │   │\n",
       "q1: ───Z───X────"
      ]
     },
     "metadata": {},
     "output_type": "display_data"
    },
    {
     "data": {
      "text/html": [
       "<pre style=\"overflow: auto; white-space: pre;\">q0: ───Y───nZ───\n",
       "       │   │\n",
       "q1: ───Z───Y────</pre>"
      ],
      "text/plain": [
       "q0: ───Y───nZ───\n",
       "       │   │\n",
       "q1: ───Z───Y────"
      ]
     },
     "metadata": {},
     "output_type": "display_data"
    },
    {
     "data": {
      "text/html": [
       "<pre style=\"overflow: auto; white-space: pre;\">q0: ───Y───nZ───\n",
       "       │   │\n",
       "q1: ───Z───Z────</pre>"
      ],
      "text/plain": [
       "q0: ───Y───nZ───\n",
       "       │   │\n",
       "q1: ───Z───Z────"
      ]
     },
     "metadata": {},
     "output_type": "display_data"
    },
    {
     "data": {
      "text/html": [
       "<pre style=\"overflow: auto; white-space: pre;\">q0: ───Y───nZ───\n",
       "       │   │\n",
       "q1: ───Z───nX───</pre>"
      ],
      "text/plain": [
       "q0: ───Y───nZ───\n",
       "       │   │\n",
       "q1: ───Z───nX───"
      ]
     },
     "metadata": {},
     "output_type": "display_data"
    },
    {
     "data": {
      "text/html": [
       "<pre style=\"overflow: auto; white-space: pre;\">q0: ───Y───nZ───\n",
       "       │   │\n",
       "q1: ───Z───nY───</pre>"
      ],
      "text/plain": [
       "q0: ───Y───nZ───\n",
       "       │   │\n",
       "q1: ───Z───nY───"
      ]
     },
     "metadata": {},
     "output_type": "display_data"
    },
    {
     "data": {
      "text/html": [
       "<pre style=\"overflow: auto; white-space: pre;\">q0: ───Y───nZ───\n",
       "       │   │\n",
       "q1: ───Z───nZ───</pre>"
      ],
      "text/plain": [
       "q0: ───Y───nZ───\n",
       "       │   │\n",
       "q1: ───Z───nZ───"
      ]
     },
     "metadata": {},
     "output_type": "display_data"
    },
    {
     "data": {
      "text/html": [
       "<pre style=\"overflow: auto; white-space: pre;\">q0: ───Y────X───\n",
       "       │    │\n",
       "q1: ───nX───X───</pre>"
      ],
      "text/plain": [
       "q0: ───Y────X───\n",
       "       │    │\n",
       "q1: ───nX───X───"
      ]
     },
     "metadata": {},
     "output_type": "display_data"
    },
    {
     "data": {
      "text/html": [
       "<pre style=\"overflow: auto; white-space: pre;\">q0: ───Y────X───\n",
       "       │    │\n",
       "q1: ───nX───Y───</pre>"
      ],
      "text/plain": [
       "q0: ───Y────X───\n",
       "       │    │\n",
       "q1: ───nX───Y───"
      ]
     },
     "metadata": {},
     "output_type": "display_data"
    },
    {
     "data": {
      "text/html": [
       "<pre style=\"overflow: auto; white-space: pre;\">q0: ───Y────X───\n",
       "       │    │\n",
       "q1: ───nX───Z───</pre>"
      ],
      "text/plain": [
       "q0: ───Y────X───\n",
       "       │    │\n",
       "q1: ───nX───Z───"
      ]
     },
     "metadata": {},
     "output_type": "display_data"
    },
    {
     "data": {
      "text/html": [
       "<pre style=\"overflow: auto; white-space: pre;\">q0: ───Y────X────\n",
       "       │    │\n",
       "q1: ───nX───nX───</pre>"
      ],
      "text/plain": [
       "q0: ───Y────X────\n",
       "       │    │\n",
       "q1: ───nX───nX───"
      ]
     },
     "metadata": {},
     "output_type": "display_data"
    },
    {
     "data": {
      "text/html": [
       "<pre style=\"overflow: auto; white-space: pre;\">q0: ───Y────X────\n",
       "       │    │\n",
       "q1: ───nX───nY───</pre>"
      ],
      "text/plain": [
       "q0: ───Y────X────\n",
       "       │    │\n",
       "q1: ───nX───nY───"
      ]
     },
     "metadata": {},
     "output_type": "display_data"
    },
    {
     "data": {
      "text/html": [
       "<pre style=\"overflow: auto; white-space: pre;\">q0: ───Y────X────\n",
       "       │    │\n",
       "q1: ───nX───nZ───</pre>"
      ],
      "text/plain": [
       "q0: ───Y────X────\n",
       "       │    │\n",
       "q1: ───nX───nZ───"
      ]
     },
     "metadata": {},
     "output_type": "display_data"
    },
    {
     "data": {
      "text/html": [
       "<pre style=\"overflow: auto; white-space: pre;\">q0: ───Y────Y───\n",
       "       │    │\n",
       "q1: ───nX───X───</pre>"
      ],
      "text/plain": [
       "q0: ───Y────Y───\n",
       "       │    │\n",
       "q1: ───nX───X───"
      ]
     },
     "metadata": {},
     "output_type": "display_data"
    },
    {
     "data": {
      "text/html": [
       "<pre style=\"overflow: auto; white-space: pre;\">q0: ───Y────Y───\n",
       "       │    │\n",
       "q1: ───nX───Y───</pre>"
      ],
      "text/plain": [
       "q0: ───Y────Y───\n",
       "       │    │\n",
       "q1: ───nX───Y───"
      ]
     },
     "metadata": {},
     "output_type": "display_data"
    },
    {
     "data": {
      "text/html": [
       "<pre style=\"overflow: auto; white-space: pre;\">q0: ───Y────Y───\n",
       "       │    │\n",
       "q1: ───nX───Z───</pre>"
      ],
      "text/plain": [
       "q0: ───Y────Y───\n",
       "       │    │\n",
       "q1: ───nX───Z───"
      ]
     },
     "metadata": {},
     "output_type": "display_data"
    },
    {
     "data": {
      "text/html": [
       "<pre style=\"overflow: auto; white-space: pre;\">q0: ───Y────Y────\n",
       "       │    │\n",
       "q1: ───nX───nX───</pre>"
      ],
      "text/plain": [
       "q0: ───Y────Y────\n",
       "       │    │\n",
       "q1: ───nX───nX───"
      ]
     },
     "metadata": {},
     "output_type": "display_data"
    },
    {
     "data": {
      "text/html": [
       "<pre style=\"overflow: auto; white-space: pre;\">q0: ───Y────Y────\n",
       "       │    │\n",
       "q1: ───nX───nY───</pre>"
      ],
      "text/plain": [
       "q0: ───Y────Y────\n",
       "       │    │\n",
       "q1: ───nX───nY───"
      ]
     },
     "metadata": {},
     "output_type": "display_data"
    },
    {
     "data": {
      "text/html": [
       "<pre style=\"overflow: auto; white-space: pre;\">q0: ───Y────Y────\n",
       "       │    │\n",
       "q1: ───nX───nZ───</pre>"
      ],
      "text/plain": [
       "q0: ───Y────Y────\n",
       "       │    │\n",
       "q1: ───nX───nZ───"
      ]
     },
     "metadata": {},
     "output_type": "display_data"
    },
    {
     "data": {
      "text/html": [
       "<pre style=\"overflow: auto; white-space: pre;\">q0: ───Y────Z───\n",
       "       │    │\n",
       "q1: ───nX───X───</pre>"
      ],
      "text/plain": [
       "q0: ───Y────Z───\n",
       "       │    │\n",
       "q1: ───nX───X───"
      ]
     },
     "metadata": {},
     "output_type": "display_data"
    },
    {
     "data": {
      "text/html": [
       "<pre style=\"overflow: auto; white-space: pre;\">q0: ───Y────Z───\n",
       "       │    │\n",
       "q1: ───nX───Y───</pre>"
      ],
      "text/plain": [
       "q0: ───Y────Z───\n",
       "       │    │\n",
       "q1: ───nX───Y───"
      ]
     },
     "metadata": {},
     "output_type": "display_data"
    },
    {
     "data": {
      "text/html": [
       "<pre style=\"overflow: auto; white-space: pre;\">q0: ───Y────Z───\n",
       "       │    │\n",
       "q1: ───nX───Z───</pre>"
      ],
      "text/plain": [
       "q0: ───Y────Z───\n",
       "       │    │\n",
       "q1: ───nX───Z───"
      ]
     },
     "metadata": {},
     "output_type": "display_data"
    },
    {
     "data": {
      "text/html": [
       "<pre style=\"overflow: auto; white-space: pre;\">q0: ───Y────Z────\n",
       "       │    │\n",
       "q1: ───nX───nX───</pre>"
      ],
      "text/plain": [
       "q0: ───Y────Z────\n",
       "       │    │\n",
       "q1: ───nX───nX───"
      ]
     },
     "metadata": {},
     "output_type": "display_data"
    },
    {
     "data": {
      "text/html": [
       "<pre style=\"overflow: auto; white-space: pre;\">q0: ───Y────Z────\n",
       "       │    │\n",
       "q1: ───nX───nY───</pre>"
      ],
      "text/plain": [
       "q0: ───Y────Z────\n",
       "       │    │\n",
       "q1: ───nX───nY───"
      ]
     },
     "metadata": {},
     "output_type": "display_data"
    },
    {
     "data": {
      "text/html": [
       "<pre style=\"overflow: auto; white-space: pre;\">q0: ───Y────Z────\n",
       "       │    │\n",
       "q1: ───nX───nZ───</pre>"
      ],
      "text/plain": [
       "q0: ───Y────Z────\n",
       "       │    │\n",
       "q1: ───nX───nZ───"
      ]
     },
     "metadata": {},
     "output_type": "display_data"
    },
    {
     "data": {
      "text/html": [
       "<pre style=\"overflow: auto; white-space: pre;\">q0: ───Y────nX───\n",
       "       │    │\n",
       "q1: ───nX───X────</pre>"
      ],
      "text/plain": [
       "q0: ───Y────nX───\n",
       "       │    │\n",
       "q1: ───nX───X────"
      ]
     },
     "metadata": {},
     "output_type": "display_data"
    },
    {
     "data": {
      "text/html": [
       "<pre style=\"overflow: auto; white-space: pre;\">q0: ───Y────nX───\n",
       "       │    │\n",
       "q1: ───nX───Y────</pre>"
      ],
      "text/plain": [
       "q0: ───Y────nX───\n",
       "       │    │\n",
       "q1: ───nX───Y────"
      ]
     },
     "metadata": {},
     "output_type": "display_data"
    },
    {
     "data": {
      "text/html": [
       "<pre style=\"overflow: auto; white-space: pre;\">q0: ───Y────nX───\n",
       "       │    │\n",
       "q1: ───nX───Z────</pre>"
      ],
      "text/plain": [
       "q0: ───Y────nX───\n",
       "       │    │\n",
       "q1: ───nX───Z────"
      ]
     },
     "metadata": {},
     "output_type": "display_data"
    },
    {
     "data": {
      "text/html": [
       "<pre style=\"overflow: auto; white-space: pre;\">q0: ───Y────nX───\n",
       "       │    │\n",
       "q1: ───nX───nX───</pre>"
      ],
      "text/plain": [
       "q0: ───Y────nX───\n",
       "       │    │\n",
       "q1: ───nX───nX───"
      ]
     },
     "metadata": {},
     "output_type": "display_data"
    },
    {
     "data": {
      "text/html": [
       "<pre style=\"overflow: auto; white-space: pre;\">q0: ───Y────nX───\n",
       "       │    │\n",
       "q1: ───nX───nY───</pre>"
      ],
      "text/plain": [
       "q0: ───Y────nX───\n",
       "       │    │\n",
       "q1: ───nX───nY───"
      ]
     },
     "metadata": {},
     "output_type": "display_data"
    },
    {
     "data": {
      "text/html": [
       "<pre style=\"overflow: auto; white-space: pre;\">q0: ───Y────nX───\n",
       "       │    │\n",
       "q1: ───nX───nZ───</pre>"
      ],
      "text/plain": [
       "q0: ───Y────nX───\n",
       "       │    │\n",
       "q1: ───nX───nZ───"
      ]
     },
     "metadata": {},
     "output_type": "display_data"
    },
    {
     "data": {
      "text/html": [
       "<pre style=\"overflow: auto; white-space: pre;\">q0: ───Y────nY───\n",
       "       │    │\n",
       "q1: ───nX───X────</pre>"
      ],
      "text/plain": [
       "q0: ───Y────nY───\n",
       "       │    │\n",
       "q1: ───nX───X────"
      ]
     },
     "metadata": {},
     "output_type": "display_data"
    },
    {
     "data": {
      "text/html": [
       "<pre style=\"overflow: auto; white-space: pre;\">q0: ───Y────nY───\n",
       "       │    │\n",
       "q1: ───nX───Y────</pre>"
      ],
      "text/plain": [
       "q0: ───Y────nY───\n",
       "       │    │\n",
       "q1: ───nX───Y────"
      ]
     },
     "metadata": {},
     "output_type": "display_data"
    },
    {
     "data": {
      "text/html": [
       "<pre style=\"overflow: auto; white-space: pre;\">q0: ───Y────nY───\n",
       "       │    │\n",
       "q1: ───nX───Z────</pre>"
      ],
      "text/plain": [
       "q0: ───Y────nY───\n",
       "       │    │\n",
       "q1: ───nX───Z────"
      ]
     },
     "metadata": {},
     "output_type": "display_data"
    },
    {
     "data": {
      "text/html": [
       "<pre style=\"overflow: auto; white-space: pre;\">q0: ───Y────nY───\n",
       "       │    │\n",
       "q1: ───nX───nX───</pre>"
      ],
      "text/plain": [
       "q0: ───Y────nY───\n",
       "       │    │\n",
       "q1: ───nX───nX───"
      ]
     },
     "metadata": {},
     "output_type": "display_data"
    },
    {
     "data": {
      "text/html": [
       "<pre style=\"overflow: auto; white-space: pre;\">q0: ───Y────nY───\n",
       "       │    │\n",
       "q1: ───nX───nY───</pre>"
      ],
      "text/plain": [
       "q0: ───Y────nY───\n",
       "       │    │\n",
       "q1: ───nX───nY───"
      ]
     },
     "metadata": {},
     "output_type": "display_data"
    },
    {
     "data": {
      "text/html": [
       "<pre style=\"overflow: auto; white-space: pre;\">q0: ───Y────nY───\n",
       "       │    │\n",
       "q1: ───nX───nZ───</pre>"
      ],
      "text/plain": [
       "q0: ───Y────nY───\n",
       "       │    │\n",
       "q1: ───nX───nZ───"
      ]
     },
     "metadata": {},
     "output_type": "display_data"
    },
    {
     "data": {
      "text/html": [
       "<pre style=\"overflow: auto; white-space: pre;\">q0: ───Y────nZ───\n",
       "       │    │\n",
       "q1: ───nX───X────</pre>"
      ],
      "text/plain": [
       "q0: ───Y────nZ───\n",
       "       │    │\n",
       "q1: ───nX───X────"
      ]
     },
     "metadata": {},
     "output_type": "display_data"
    },
    {
     "data": {
      "text/html": [
       "<pre style=\"overflow: auto; white-space: pre;\">q0: ───Y────nZ───\n",
       "       │    │\n",
       "q1: ───nX───Y────</pre>"
      ],
      "text/plain": [
       "q0: ───Y────nZ───\n",
       "       │    │\n",
       "q1: ───nX───Y────"
      ]
     },
     "metadata": {},
     "output_type": "display_data"
    },
    {
     "data": {
      "text/html": [
       "<pre style=\"overflow: auto; white-space: pre;\">q0: ───Y────nZ───\n",
       "       │    │\n",
       "q1: ───nX───Z────</pre>"
      ],
      "text/plain": [
       "q0: ───Y────nZ───\n",
       "       │    │\n",
       "q1: ───nX───Z────"
      ]
     },
     "metadata": {},
     "output_type": "display_data"
    },
    {
     "data": {
      "text/html": [
       "<pre style=\"overflow: auto; white-space: pre;\">q0: ───Y────nZ───\n",
       "       │    │\n",
       "q1: ───nX───nX───</pre>"
      ],
      "text/plain": [
       "q0: ───Y────nZ───\n",
       "       │    │\n",
       "q1: ───nX───nX───"
      ]
     },
     "metadata": {},
     "output_type": "display_data"
    },
    {
     "data": {
      "text/html": [
       "<pre style=\"overflow: auto; white-space: pre;\">q0: ───Y────nZ───\n",
       "       │    │\n",
       "q1: ───nX───nY───</pre>"
      ],
      "text/plain": [
       "q0: ───Y────nZ───\n",
       "       │    │\n",
       "q1: ───nX───nY───"
      ]
     },
     "metadata": {},
     "output_type": "display_data"
    },
    {
     "data": {
      "text/html": [
       "<pre style=\"overflow: auto; white-space: pre;\">q0: ───Y────nZ───\n",
       "       │    │\n",
       "q1: ───nX───nZ───</pre>"
      ],
      "text/plain": [
       "q0: ───Y────nZ───\n",
       "       │    │\n",
       "q1: ───nX───nZ───"
      ]
     },
     "metadata": {},
     "output_type": "display_data"
    },
    {
     "data": {
      "text/html": [
       "<pre style=\"overflow: auto; white-space: pre;\">q0: ───Y────X───\n",
       "       │    │\n",
       "q1: ───nY───X───</pre>"
      ],
      "text/plain": [
       "q0: ───Y────X───\n",
       "       │    │\n",
       "q1: ───nY───X───"
      ]
     },
     "metadata": {},
     "output_type": "display_data"
    },
    {
     "data": {
      "text/html": [
       "<pre style=\"overflow: auto; white-space: pre;\">q0: ───Y────X───\n",
       "       │    │\n",
       "q1: ───nY───Y───</pre>"
      ],
      "text/plain": [
       "q0: ───Y────X───\n",
       "       │    │\n",
       "q1: ───nY───Y───"
      ]
     },
     "metadata": {},
     "output_type": "display_data"
    },
    {
     "data": {
      "text/html": [
       "<pre style=\"overflow: auto; white-space: pre;\">q0: ───Y────X───\n",
       "       │    │\n",
       "q1: ───nY───Z───</pre>"
      ],
      "text/plain": [
       "q0: ───Y────X───\n",
       "       │    │\n",
       "q1: ───nY───Z───"
      ]
     },
     "metadata": {},
     "output_type": "display_data"
    },
    {
     "data": {
      "text/html": [
       "<pre style=\"overflow: auto; white-space: pre;\">q0: ───Y────X────\n",
       "       │    │\n",
       "q1: ───nY───nX───</pre>"
      ],
      "text/plain": [
       "q0: ───Y────X────\n",
       "       │    │\n",
       "q1: ───nY───nX───"
      ]
     },
     "metadata": {},
     "output_type": "display_data"
    },
    {
     "data": {
      "text/html": [
       "<pre style=\"overflow: auto; white-space: pre;\">q0: ───Y────X────\n",
       "       │    │\n",
       "q1: ───nY───nY───</pre>"
      ],
      "text/plain": [
       "q0: ───Y────X────\n",
       "       │    │\n",
       "q1: ───nY───nY───"
      ]
     },
     "metadata": {},
     "output_type": "display_data"
    },
    {
     "data": {
      "text/html": [
       "<pre style=\"overflow: auto; white-space: pre;\">q0: ───Y────X────\n",
       "       │    │\n",
       "q1: ───nY───nZ───</pre>"
      ],
      "text/plain": [
       "q0: ───Y────X────\n",
       "       │    │\n",
       "q1: ───nY───nZ───"
      ]
     },
     "metadata": {},
     "output_type": "display_data"
    },
    {
     "data": {
      "text/html": [
       "<pre style=\"overflow: auto; white-space: pre;\">q0: ───Y────Y───\n",
       "       │    │\n",
       "q1: ───nY───X───</pre>"
      ],
      "text/plain": [
       "q0: ───Y────Y───\n",
       "       │    │\n",
       "q1: ───nY───X───"
      ]
     },
     "metadata": {},
     "output_type": "display_data"
    },
    {
     "data": {
      "text/html": [
       "<pre style=\"overflow: auto; white-space: pre;\">q0: ───Y────Y───\n",
       "       │    │\n",
       "q1: ───nY───Y───</pre>"
      ],
      "text/plain": [
       "q0: ───Y────Y───\n",
       "       │    │\n",
       "q1: ───nY───Y───"
      ]
     },
     "metadata": {},
     "output_type": "display_data"
    },
    {
     "data": {
      "text/html": [
       "<pre style=\"overflow: auto; white-space: pre;\">q0: ───Y────Y───\n",
       "       │    │\n",
       "q1: ───nY───Z───</pre>"
      ],
      "text/plain": [
       "q0: ───Y────Y───\n",
       "       │    │\n",
       "q1: ───nY───Z───"
      ]
     },
     "metadata": {},
     "output_type": "display_data"
    },
    {
     "data": {
      "text/html": [
       "<pre style=\"overflow: auto; white-space: pre;\">q0: ───Y────Y────\n",
       "       │    │\n",
       "q1: ───nY───nX───</pre>"
      ],
      "text/plain": [
       "q0: ───Y────Y────\n",
       "       │    │\n",
       "q1: ───nY───nX───"
      ]
     },
     "metadata": {},
     "output_type": "display_data"
    },
    {
     "data": {
      "text/html": [
       "<pre style=\"overflow: auto; white-space: pre;\">q0: ───Y────Y────\n",
       "       │    │\n",
       "q1: ───nY───nY───</pre>"
      ],
      "text/plain": [
       "q0: ───Y────Y────\n",
       "       │    │\n",
       "q1: ───nY───nY───"
      ]
     },
     "metadata": {},
     "output_type": "display_data"
    },
    {
     "data": {
      "text/html": [
       "<pre style=\"overflow: auto; white-space: pre;\">q0: ───Y────Y────\n",
       "       │    │\n",
       "q1: ───nY───nZ───</pre>"
      ],
      "text/plain": [
       "q0: ───Y────Y────\n",
       "       │    │\n",
       "q1: ───nY───nZ───"
      ]
     },
     "metadata": {},
     "output_type": "display_data"
    },
    {
     "data": {
      "text/html": [
       "<pre style=\"overflow: auto; white-space: pre;\">q0: ───Y────Z───\n",
       "       │    │\n",
       "q1: ───nY───X───</pre>"
      ],
      "text/plain": [
       "q0: ───Y────Z───\n",
       "       │    │\n",
       "q1: ───nY───X───"
      ]
     },
     "metadata": {},
     "output_type": "display_data"
    },
    {
     "data": {
      "text/html": [
       "<pre style=\"overflow: auto; white-space: pre;\">q0: ───Y────Z───\n",
       "       │    │\n",
       "q1: ───nY───Y───</pre>"
      ],
      "text/plain": [
       "q0: ───Y────Z───\n",
       "       │    │\n",
       "q1: ───nY───Y───"
      ]
     },
     "metadata": {},
     "output_type": "display_data"
    },
    {
     "data": {
      "text/html": [
       "<pre style=\"overflow: auto; white-space: pre;\">q0: ───Y────Z───\n",
       "       │    │\n",
       "q1: ───nY───Z───</pre>"
      ],
      "text/plain": [
       "q0: ───Y────Z───\n",
       "       │    │\n",
       "q1: ───nY───Z───"
      ]
     },
     "metadata": {},
     "output_type": "display_data"
    },
    {
     "data": {
      "text/html": [
       "<pre style=\"overflow: auto; white-space: pre;\">q0: ───Y────Z────\n",
       "       │    │\n",
       "q1: ───nY───nX───</pre>"
      ],
      "text/plain": [
       "q0: ───Y────Z────\n",
       "       │    │\n",
       "q1: ───nY───nX───"
      ]
     },
     "metadata": {},
     "output_type": "display_data"
    },
    {
     "data": {
      "text/html": [
       "<pre style=\"overflow: auto; white-space: pre;\">q0: ───Y────Z────\n",
       "       │    │\n",
       "q1: ───nY───nY───</pre>"
      ],
      "text/plain": [
       "q0: ───Y────Z────\n",
       "       │    │\n",
       "q1: ───nY───nY───"
      ]
     },
     "metadata": {},
     "output_type": "display_data"
    },
    {
     "data": {
      "text/html": [
       "<pre style=\"overflow: auto; white-space: pre;\">q0: ───Y────Z────\n",
       "       │    │\n",
       "q1: ───nY───nZ───</pre>"
      ],
      "text/plain": [
       "q0: ───Y────Z────\n",
       "       │    │\n",
       "q1: ───nY───nZ───"
      ]
     },
     "metadata": {},
     "output_type": "display_data"
    },
    {
     "data": {
      "text/html": [
       "<pre style=\"overflow: auto; white-space: pre;\">q0: ───Y────nX───\n",
       "       │    │\n",
       "q1: ───nY───X────</pre>"
      ],
      "text/plain": [
       "q0: ───Y────nX───\n",
       "       │    │\n",
       "q1: ───nY───X────"
      ]
     },
     "metadata": {},
     "output_type": "display_data"
    },
    {
     "data": {
      "text/html": [
       "<pre style=\"overflow: auto; white-space: pre;\">q0: ───Y────nX───\n",
       "       │    │\n",
       "q1: ───nY───Y────</pre>"
      ],
      "text/plain": [
       "q0: ───Y────nX───\n",
       "       │    │\n",
       "q1: ───nY───Y────"
      ]
     },
     "metadata": {},
     "output_type": "display_data"
    },
    {
     "data": {
      "text/html": [
       "<pre style=\"overflow: auto; white-space: pre;\">q0: ───Y────nX───\n",
       "       │    │\n",
       "q1: ───nY───Z────</pre>"
      ],
      "text/plain": [
       "q0: ───Y────nX───\n",
       "       │    │\n",
       "q1: ───nY───Z────"
      ]
     },
     "metadata": {},
     "output_type": "display_data"
    },
    {
     "data": {
      "text/html": [
       "<pre style=\"overflow: auto; white-space: pre;\">q0: ───Y────nX───\n",
       "       │    │\n",
       "q1: ───nY───nX───</pre>"
      ],
      "text/plain": [
       "q0: ───Y────nX───\n",
       "       │    │\n",
       "q1: ───nY───nX───"
      ]
     },
     "metadata": {},
     "output_type": "display_data"
    },
    {
     "data": {
      "text/html": [
       "<pre style=\"overflow: auto; white-space: pre;\">q0: ───Y────nX───\n",
       "       │    │\n",
       "q1: ───nY───nY───</pre>"
      ],
      "text/plain": [
       "q0: ───Y────nX───\n",
       "       │    │\n",
       "q1: ───nY───nY───"
      ]
     },
     "metadata": {},
     "output_type": "display_data"
    },
    {
     "data": {
      "text/html": [
       "<pre style=\"overflow: auto; white-space: pre;\">q0: ───Y────nX───\n",
       "       │    │\n",
       "q1: ───nY───nZ───</pre>"
      ],
      "text/plain": [
       "q0: ───Y────nX───\n",
       "       │    │\n",
       "q1: ───nY───nZ───"
      ]
     },
     "metadata": {},
     "output_type": "display_data"
    },
    {
     "data": {
      "text/html": [
       "<pre style=\"overflow: auto; white-space: pre;\">q0: ───Y────nY───\n",
       "       │    │\n",
       "q1: ───nY───X────</pre>"
      ],
      "text/plain": [
       "q0: ───Y────nY───\n",
       "       │    │\n",
       "q1: ───nY───X────"
      ]
     },
     "metadata": {},
     "output_type": "display_data"
    },
    {
     "data": {
      "text/html": [
       "<pre style=\"overflow: auto; white-space: pre;\">q0: ───Y────nY───\n",
       "       │    │\n",
       "q1: ───nY───Y────</pre>"
      ],
      "text/plain": [
       "q0: ───Y────nY───\n",
       "       │    │\n",
       "q1: ───nY───Y────"
      ]
     },
     "metadata": {},
     "output_type": "display_data"
    },
    {
     "data": {
      "text/html": [
       "<pre style=\"overflow: auto; white-space: pre;\">q0: ───Y────nY───\n",
       "       │    │\n",
       "q1: ───nY───Z────</pre>"
      ],
      "text/plain": [
       "q0: ───Y────nY───\n",
       "       │    │\n",
       "q1: ───nY───Z────"
      ]
     },
     "metadata": {},
     "output_type": "display_data"
    },
    {
     "data": {
      "text/html": [
       "<pre style=\"overflow: auto; white-space: pre;\">q0: ───Y────nY───\n",
       "       │    │\n",
       "q1: ───nY───nX───</pre>"
      ],
      "text/plain": [
       "q0: ───Y────nY───\n",
       "       │    │\n",
       "q1: ───nY───nX───"
      ]
     },
     "metadata": {},
     "output_type": "display_data"
    },
    {
     "data": {
      "text/html": [
       "<pre style=\"overflow: auto; white-space: pre;\">q0: ───Y────nY───\n",
       "       │    │\n",
       "q1: ───nY───nY───</pre>"
      ],
      "text/plain": [
       "q0: ───Y────nY───\n",
       "       │    │\n",
       "q1: ───nY───nY───"
      ]
     },
     "metadata": {},
     "output_type": "display_data"
    },
    {
     "data": {
      "text/html": [
       "<pre style=\"overflow: auto; white-space: pre;\">q0: ───Y────nY───\n",
       "       │    │\n",
       "q1: ───nY───nZ───</pre>"
      ],
      "text/plain": [
       "q0: ───Y────nY───\n",
       "       │    │\n",
       "q1: ───nY───nZ───"
      ]
     },
     "metadata": {},
     "output_type": "display_data"
    },
    {
     "data": {
      "text/html": [
       "<pre style=\"overflow: auto; white-space: pre;\">q0: ───Y────nZ───\n",
       "       │    │\n",
       "q1: ───nY───X────</pre>"
      ],
      "text/plain": [
       "q0: ───Y────nZ───\n",
       "       │    │\n",
       "q1: ───nY───X────"
      ]
     },
     "metadata": {},
     "output_type": "display_data"
    },
    {
     "data": {
      "text/html": [
       "<pre style=\"overflow: auto; white-space: pre;\">q0: ───Y────nZ───\n",
       "       │    │\n",
       "q1: ───nY───Y────</pre>"
      ],
      "text/plain": [
       "q0: ───Y────nZ───\n",
       "       │    │\n",
       "q1: ───nY───Y────"
      ]
     },
     "metadata": {},
     "output_type": "display_data"
    },
    {
     "data": {
      "text/html": [
       "<pre style=\"overflow: auto; white-space: pre;\">q0: ───Y────nZ───\n",
       "       │    │\n",
       "q1: ───nY───Z────</pre>"
      ],
      "text/plain": [
       "q0: ───Y────nZ───\n",
       "       │    │\n",
       "q1: ───nY───Z────"
      ]
     },
     "metadata": {},
     "output_type": "display_data"
    },
    {
     "data": {
      "text/html": [
       "<pre style=\"overflow: auto; white-space: pre;\">q0: ───Y────nZ───\n",
       "       │    │\n",
       "q1: ───nY───nX───</pre>"
      ],
      "text/plain": [
       "q0: ───Y────nZ───\n",
       "       │    │\n",
       "q1: ───nY───nX───"
      ]
     },
     "metadata": {},
     "output_type": "display_data"
    },
    {
     "data": {
      "text/html": [
       "<pre style=\"overflow: auto; white-space: pre;\">q0: ───Y────nZ───\n",
       "       │    │\n",
       "q1: ───nY───nY───</pre>"
      ],
      "text/plain": [
       "q0: ───Y────nZ───\n",
       "       │    │\n",
       "q1: ───nY───nY───"
      ]
     },
     "metadata": {},
     "output_type": "display_data"
    },
    {
     "data": {
      "text/html": [
       "<pre style=\"overflow: auto; white-space: pre;\">q0: ───Y────nZ───\n",
       "       │    │\n",
       "q1: ───nY───nZ───</pre>"
      ],
      "text/plain": [
       "q0: ───Y────nZ───\n",
       "       │    │\n",
       "q1: ───nY───nZ───"
      ]
     },
     "metadata": {},
     "output_type": "display_data"
    },
    {
     "data": {
      "text/html": [
       "<pre style=\"overflow: auto; white-space: pre;\">q0: ───Y────X───\n",
       "       │    │\n",
       "q1: ───nZ───X───</pre>"
      ],
      "text/plain": [
       "q0: ───Y────X───\n",
       "       │    │\n",
       "q1: ───nZ───X───"
      ]
     },
     "metadata": {},
     "output_type": "display_data"
    },
    {
     "data": {
      "text/html": [
       "<pre style=\"overflow: auto; white-space: pre;\">q0: ───Y────X───\n",
       "       │    │\n",
       "q1: ───nZ───Y───</pre>"
      ],
      "text/plain": [
       "q0: ───Y────X───\n",
       "       │    │\n",
       "q1: ───nZ───Y───"
      ]
     },
     "metadata": {},
     "output_type": "display_data"
    },
    {
     "data": {
      "text/html": [
       "<pre style=\"overflow: auto; white-space: pre;\">q0: ───Y────X───\n",
       "       │    │\n",
       "q1: ───nZ───Z───</pre>"
      ],
      "text/plain": [
       "q0: ───Y────X───\n",
       "       │    │\n",
       "q1: ───nZ───Z───"
      ]
     },
     "metadata": {},
     "output_type": "display_data"
    },
    {
     "data": {
      "text/html": [
       "<pre style=\"overflow: auto; white-space: pre;\">q0: ───Y────X────\n",
       "       │    │\n",
       "q1: ───nZ───nX───</pre>"
      ],
      "text/plain": [
       "q0: ───Y────X────\n",
       "       │    │\n",
       "q1: ───nZ───nX───"
      ]
     },
     "metadata": {},
     "output_type": "display_data"
    },
    {
     "data": {
      "text/html": [
       "<pre style=\"overflow: auto; white-space: pre;\">q0: ───Y────X────\n",
       "       │    │\n",
       "q1: ───nZ───nY───</pre>"
      ],
      "text/plain": [
       "q0: ───Y────X────\n",
       "       │    │\n",
       "q1: ───nZ───nY───"
      ]
     },
     "metadata": {},
     "output_type": "display_data"
    },
    {
     "data": {
      "text/html": [
       "<pre style=\"overflow: auto; white-space: pre;\">q0: ───Y────X────\n",
       "       │    │\n",
       "q1: ───nZ───nZ───</pre>"
      ],
      "text/plain": [
       "q0: ───Y────X────\n",
       "       │    │\n",
       "q1: ───nZ───nZ───"
      ]
     },
     "metadata": {},
     "output_type": "display_data"
    },
    {
     "data": {
      "text/html": [
       "<pre style=\"overflow: auto; white-space: pre;\">q0: ───Y────Y───\n",
       "       │    │\n",
       "q1: ───nZ───X───</pre>"
      ],
      "text/plain": [
       "q0: ───Y────Y───\n",
       "       │    │\n",
       "q1: ───nZ───X───"
      ]
     },
     "metadata": {},
     "output_type": "display_data"
    },
    {
     "data": {
      "text/html": [
       "<pre style=\"overflow: auto; white-space: pre;\">q0: ───Y────Y───\n",
       "       │    │\n",
       "q1: ───nZ───Y───</pre>"
      ],
      "text/plain": [
       "q0: ───Y────Y───\n",
       "       │    │\n",
       "q1: ───nZ───Y───"
      ]
     },
     "metadata": {},
     "output_type": "display_data"
    },
    {
     "data": {
      "text/html": [
       "<pre style=\"overflow: auto; white-space: pre;\">q0: ───Y────Y───\n",
       "       │    │\n",
       "q1: ───nZ───Z───</pre>"
      ],
      "text/plain": [
       "q0: ───Y────Y───\n",
       "       │    │\n",
       "q1: ───nZ───Z───"
      ]
     },
     "metadata": {},
     "output_type": "display_data"
    },
    {
     "data": {
      "text/html": [
       "<pre style=\"overflow: auto; white-space: pre;\">q0: ───Y────Y────\n",
       "       │    │\n",
       "q1: ───nZ───nX───</pre>"
      ],
      "text/plain": [
       "q0: ───Y────Y────\n",
       "       │    │\n",
       "q1: ───nZ───nX───"
      ]
     },
     "metadata": {},
     "output_type": "display_data"
    },
    {
     "data": {
      "text/html": [
       "<pre style=\"overflow: auto; white-space: pre;\">q0: ───Y────Y────\n",
       "       │    │\n",
       "q1: ───nZ───nY───</pre>"
      ],
      "text/plain": [
       "q0: ───Y────Y────\n",
       "       │    │\n",
       "q1: ───nZ───nY───"
      ]
     },
     "metadata": {},
     "output_type": "display_data"
    },
    {
     "data": {
      "text/html": [
       "<pre style=\"overflow: auto; white-space: pre;\">q0: ───Y────Y────\n",
       "       │    │\n",
       "q1: ───nZ───nZ───</pre>"
      ],
      "text/plain": [
       "q0: ───Y────Y────\n",
       "       │    │\n",
       "q1: ───nZ───nZ───"
      ]
     },
     "metadata": {},
     "output_type": "display_data"
    },
    {
     "data": {
      "text/html": [
       "<pre style=\"overflow: auto; white-space: pre;\">q0: ───Y────Z───\n",
       "       │    │\n",
       "q1: ───nZ───X───</pre>"
      ],
      "text/plain": [
       "q0: ───Y────Z───\n",
       "       │    │\n",
       "q1: ───nZ───X───"
      ]
     },
     "metadata": {},
     "output_type": "display_data"
    },
    {
     "data": {
      "text/html": [
       "<pre style=\"overflow: auto; white-space: pre;\">q0: ───Y────Z───\n",
       "       │    │\n",
       "q1: ───nZ───Y───</pre>"
      ],
      "text/plain": [
       "q0: ───Y────Z───\n",
       "       │    │\n",
       "q1: ───nZ───Y───"
      ]
     },
     "metadata": {},
     "output_type": "display_data"
    },
    {
     "data": {
      "text/html": [
       "<pre style=\"overflow: auto; white-space: pre;\">q0: ───Y────Z───\n",
       "       │    │\n",
       "q1: ───nZ───Z───</pre>"
      ],
      "text/plain": [
       "q0: ───Y────Z───\n",
       "       │    │\n",
       "q1: ───nZ───Z───"
      ]
     },
     "metadata": {},
     "output_type": "display_data"
    },
    {
     "data": {
      "text/html": [
       "<pre style=\"overflow: auto; white-space: pre;\">q0: ───Y────Z────\n",
       "       │    │\n",
       "q1: ───nZ───nX───</pre>"
      ],
      "text/plain": [
       "q0: ───Y────Z────\n",
       "       │    │\n",
       "q1: ───nZ───nX───"
      ]
     },
     "metadata": {},
     "output_type": "display_data"
    },
    {
     "data": {
      "text/html": [
       "<pre style=\"overflow: auto; white-space: pre;\">q0: ───Y────Z────\n",
       "       │    │\n",
       "q1: ───nZ───nY───</pre>"
      ],
      "text/plain": [
       "q0: ───Y────Z────\n",
       "       │    │\n",
       "q1: ───nZ───nY───"
      ]
     },
     "metadata": {},
     "output_type": "display_data"
    },
    {
     "data": {
      "text/html": [
       "<pre style=\"overflow: auto; white-space: pre;\">q0: ───Y────Z────\n",
       "       │    │\n",
       "q1: ───nZ───nZ───</pre>"
      ],
      "text/plain": [
       "q0: ───Y────Z────\n",
       "       │    │\n",
       "q1: ───nZ───nZ───"
      ]
     },
     "metadata": {},
     "output_type": "display_data"
    },
    {
     "data": {
      "text/html": [
       "<pre style=\"overflow: auto; white-space: pre;\">q0: ───Y────nX───\n",
       "       │    │\n",
       "q1: ───nZ───X────</pre>"
      ],
      "text/plain": [
       "q0: ───Y────nX───\n",
       "       │    │\n",
       "q1: ───nZ───X────"
      ]
     },
     "metadata": {},
     "output_type": "display_data"
    },
    {
     "data": {
      "text/html": [
       "<pre style=\"overflow: auto; white-space: pre;\">q0: ───Y────nX───\n",
       "       │    │\n",
       "q1: ───nZ───Y────</pre>"
      ],
      "text/plain": [
       "q0: ───Y────nX───\n",
       "       │    │\n",
       "q1: ───nZ───Y────"
      ]
     },
     "metadata": {},
     "output_type": "display_data"
    },
    {
     "data": {
      "text/html": [
       "<pre style=\"overflow: auto; white-space: pre;\">q0: ───Y────nX───\n",
       "       │    │\n",
       "q1: ───nZ───Z────</pre>"
      ],
      "text/plain": [
       "q0: ───Y────nX───\n",
       "       │    │\n",
       "q1: ───nZ───Z────"
      ]
     },
     "metadata": {},
     "output_type": "display_data"
    },
    {
     "data": {
      "text/html": [
       "<pre style=\"overflow: auto; white-space: pre;\">q0: ───Y────nX───\n",
       "       │    │\n",
       "q1: ───nZ───nX───</pre>"
      ],
      "text/plain": [
       "q0: ───Y────nX───\n",
       "       │    │\n",
       "q1: ───nZ───nX───"
      ]
     },
     "metadata": {},
     "output_type": "display_data"
    },
    {
     "data": {
      "text/html": [
       "<pre style=\"overflow: auto; white-space: pre;\">q0: ───Y────nX───\n",
       "       │    │\n",
       "q1: ───nZ───nY───</pre>"
      ],
      "text/plain": [
       "q0: ───Y────nX───\n",
       "       │    │\n",
       "q1: ───nZ───nY───"
      ]
     },
     "metadata": {},
     "output_type": "display_data"
    },
    {
     "data": {
      "text/html": [
       "<pre style=\"overflow: auto; white-space: pre;\">q0: ───Y────nX───\n",
       "       │    │\n",
       "q1: ───nZ───nZ───</pre>"
      ],
      "text/plain": [
       "q0: ───Y────nX───\n",
       "       │    │\n",
       "q1: ───nZ───nZ───"
      ]
     },
     "metadata": {},
     "output_type": "display_data"
    },
    {
     "data": {
      "text/html": [
       "<pre style=\"overflow: auto; white-space: pre;\">q0: ───Y────nY───\n",
       "       │    │\n",
       "q1: ───nZ───X────</pre>"
      ],
      "text/plain": [
       "q0: ───Y────nY───\n",
       "       │    │\n",
       "q1: ───nZ───X────"
      ]
     },
     "metadata": {},
     "output_type": "display_data"
    },
    {
     "data": {
      "text/html": [
       "<pre style=\"overflow: auto; white-space: pre;\">q0: ───Y────nY───\n",
       "       │    │\n",
       "q1: ───nZ───Y────</pre>"
      ],
      "text/plain": [
       "q0: ───Y────nY───\n",
       "       │    │\n",
       "q1: ───nZ───Y────"
      ]
     },
     "metadata": {},
     "output_type": "display_data"
    },
    {
     "data": {
      "text/html": [
       "<pre style=\"overflow: auto; white-space: pre;\">q0: ───Y────nY───\n",
       "       │    │\n",
       "q1: ───nZ───Z────</pre>"
      ],
      "text/plain": [
       "q0: ───Y────nY───\n",
       "       │    │\n",
       "q1: ───nZ───Z────"
      ]
     },
     "metadata": {},
     "output_type": "display_data"
    },
    {
     "data": {
      "text/html": [
       "<pre style=\"overflow: auto; white-space: pre;\">q0: ───Y────nY───\n",
       "       │    │\n",
       "q1: ───nZ───nX───</pre>"
      ],
      "text/plain": [
       "q0: ───Y────nY───\n",
       "       │    │\n",
       "q1: ───nZ───nX───"
      ]
     },
     "metadata": {},
     "output_type": "display_data"
    },
    {
     "data": {
      "text/html": [
       "<pre style=\"overflow: auto; white-space: pre;\">q0: ───Y────nY───\n",
       "       │    │\n",
       "q1: ───nZ───nY───</pre>"
      ],
      "text/plain": [
       "q0: ───Y────nY───\n",
       "       │    │\n",
       "q1: ───nZ───nY───"
      ]
     },
     "metadata": {},
     "output_type": "display_data"
    },
    {
     "data": {
      "text/html": [
       "<pre style=\"overflow: auto; white-space: pre;\">q0: ───Y────nY───\n",
       "       │    │\n",
       "q1: ───nZ───nZ───</pre>"
      ],
      "text/plain": [
       "q0: ───Y────nY───\n",
       "       │    │\n",
       "q1: ───nZ───nZ───"
      ]
     },
     "metadata": {},
     "output_type": "display_data"
    },
    {
     "data": {
      "text/html": [
       "<pre style=\"overflow: auto; white-space: pre;\">q0: ───Y────nZ───\n",
       "       │    │\n",
       "q1: ───nZ───X────</pre>"
      ],
      "text/plain": [
       "q0: ───Y────nZ───\n",
       "       │    │\n",
       "q1: ───nZ───X────"
      ]
     },
     "metadata": {},
     "output_type": "display_data"
    },
    {
     "data": {
      "text/html": [
       "<pre style=\"overflow: auto; white-space: pre;\">q0: ───Y────nZ───\n",
       "       │    │\n",
       "q1: ───nZ───Y────</pre>"
      ],
      "text/plain": [
       "q0: ───Y────nZ───\n",
       "       │    │\n",
       "q1: ───nZ───Y────"
      ]
     },
     "metadata": {},
     "output_type": "display_data"
    },
    {
     "data": {
      "text/html": [
       "<pre style=\"overflow: auto; white-space: pre;\">q0: ───Y────nZ───\n",
       "       │    │\n",
       "q1: ───nZ───Z────</pre>"
      ],
      "text/plain": [
       "q0: ───Y────nZ───\n",
       "       │    │\n",
       "q1: ───nZ───Z────"
      ]
     },
     "metadata": {},
     "output_type": "display_data"
    },
    {
     "data": {
      "text/html": [
       "<pre style=\"overflow: auto; white-space: pre;\">q0: ───Y────nZ───\n",
       "       │    │\n",
       "q1: ───nZ───nX───</pre>"
      ],
      "text/plain": [
       "q0: ───Y────nZ───\n",
       "       │    │\n",
       "q1: ───nZ───nX───"
      ]
     },
     "metadata": {},
     "output_type": "display_data"
    },
    {
     "data": {
      "text/html": [
       "<pre style=\"overflow: auto; white-space: pre;\">q0: ───Y────nZ───\n",
       "       │    │\n",
       "q1: ───nZ───nY───</pre>"
      ],
      "text/plain": [
       "q0: ───Y────nZ───\n",
       "       │    │\n",
       "q1: ───nZ───nY───"
      ]
     },
     "metadata": {},
     "output_type": "display_data"
    },
    {
     "data": {
      "text/html": [
       "<pre style=\"overflow: auto; white-space: pre;\">q0: ───Y────nZ───\n",
       "       │    │\n",
       "q1: ───nZ───nZ───</pre>"
      ],
      "text/plain": [
       "q0: ───Y────nZ───\n",
       "       │    │\n",
       "q1: ───nZ───nZ───"
      ]
     },
     "metadata": {},
     "output_type": "display_data"
    },
    {
     "data": {
      "text/html": [
       "<pre style=\"overflow: auto; white-space: pre;\">q0: ───Z───X───\n",
       "       │   │\n",
       "q1: ───X───X───</pre>"
      ],
      "text/plain": [
       "q0: ───Z───X───\n",
       "       │   │\n",
       "q1: ───X───X───"
      ]
     },
     "metadata": {},
     "output_type": "display_data"
    },
    {
     "data": {
      "text/html": [
       "<pre style=\"overflow: auto; white-space: pre;\">q0: ───Z───X───\n",
       "       │   │\n",
       "q1: ───X───Y───</pre>"
      ],
      "text/plain": [
       "q0: ───Z───X───\n",
       "       │   │\n",
       "q1: ───X───Y───"
      ]
     },
     "metadata": {},
     "output_type": "display_data"
    },
    {
     "data": {
      "text/html": [
       "<pre style=\"overflow: auto; white-space: pre;\">q0: ───Z───X───\n",
       "       │   │\n",
       "q1: ───X───Z───</pre>"
      ],
      "text/plain": [
       "q0: ───Z───X───\n",
       "       │   │\n",
       "q1: ───X───Z───"
      ]
     },
     "metadata": {},
     "output_type": "display_data"
    },
    {
     "data": {
      "text/html": [
       "<pre style=\"overflow: auto; white-space: pre;\">q0: ───Z───X────\n",
       "       │   │\n",
       "q1: ───X───nX───</pre>"
      ],
      "text/plain": [
       "q0: ───Z───X────\n",
       "       │   │\n",
       "q1: ───X───nX───"
      ]
     },
     "metadata": {},
     "output_type": "display_data"
    },
    {
     "data": {
      "text/html": [
       "<pre style=\"overflow: auto; white-space: pre;\">q0: ───Z───X────\n",
       "       │   │\n",
       "q1: ───X───nY───</pre>"
      ],
      "text/plain": [
       "q0: ───Z───X────\n",
       "       │   │\n",
       "q1: ───X───nY───"
      ]
     },
     "metadata": {},
     "output_type": "display_data"
    },
    {
     "data": {
      "text/html": [
       "<pre style=\"overflow: auto; white-space: pre;\">q0: ───Z───X────\n",
       "       │   │\n",
       "q1: ───X───nZ───</pre>"
      ],
      "text/plain": [
       "q0: ───Z───X────\n",
       "       │   │\n",
       "q1: ───X───nZ───"
      ]
     },
     "metadata": {},
     "output_type": "display_data"
    },
    {
     "data": {
      "text/html": [
       "<pre style=\"overflow: auto; white-space: pre;\">q0: ───Z───Y───\n",
       "       │   │\n",
       "q1: ───X───X───</pre>"
      ],
      "text/plain": [
       "q0: ───Z───Y───\n",
       "       │   │\n",
       "q1: ───X───X───"
      ]
     },
     "metadata": {},
     "output_type": "display_data"
    },
    {
     "data": {
      "text/html": [
       "<pre style=\"overflow: auto; white-space: pre;\">q0: ───Z───Y───\n",
       "       │   │\n",
       "q1: ───X───Y───</pre>"
      ],
      "text/plain": [
       "q0: ───Z───Y───\n",
       "       │   │\n",
       "q1: ───X───Y───"
      ]
     },
     "metadata": {},
     "output_type": "display_data"
    },
    {
     "data": {
      "text/html": [
       "<pre style=\"overflow: auto; white-space: pre;\">q0: ───Z───Y───\n",
       "       │   │\n",
       "q1: ───X───Z───</pre>"
      ],
      "text/plain": [
       "q0: ───Z───Y───\n",
       "       │   │\n",
       "q1: ───X───Z───"
      ]
     },
     "metadata": {},
     "output_type": "display_data"
    },
    {
     "data": {
      "text/html": [
       "<pre style=\"overflow: auto; white-space: pre;\">q0: ───Z───Y────\n",
       "       │   │\n",
       "q1: ───X───nX───</pre>"
      ],
      "text/plain": [
       "q0: ───Z───Y────\n",
       "       │   │\n",
       "q1: ───X───nX───"
      ]
     },
     "metadata": {},
     "output_type": "display_data"
    },
    {
     "data": {
      "text/html": [
       "<pre style=\"overflow: auto; white-space: pre;\">q0: ───Z───Y────\n",
       "       │   │\n",
       "q1: ───X───nY───</pre>"
      ],
      "text/plain": [
       "q0: ───Z───Y────\n",
       "       │   │\n",
       "q1: ───X───nY───"
      ]
     },
     "metadata": {},
     "output_type": "display_data"
    },
    {
     "data": {
      "text/html": [
       "<pre style=\"overflow: auto; white-space: pre;\">q0: ───Z───Y────\n",
       "       │   │\n",
       "q1: ───X───nZ───</pre>"
      ],
      "text/plain": [
       "q0: ───Z───Y────\n",
       "       │   │\n",
       "q1: ───X───nZ───"
      ]
     },
     "metadata": {},
     "output_type": "display_data"
    },
    {
     "data": {
      "text/html": [
       "<pre style=\"overflow: auto; white-space: pre;\">q0: ───Z───Z───\n",
       "       │   │\n",
       "q1: ───X───X───</pre>"
      ],
      "text/plain": [
       "q0: ───Z───Z───\n",
       "       │   │\n",
       "q1: ───X───X───"
      ]
     },
     "metadata": {},
     "output_type": "display_data"
    },
    {
     "data": {
      "text/html": [
       "<pre style=\"overflow: auto; white-space: pre;\">q0: ───Z───Z───\n",
       "       │   │\n",
       "q1: ───X───Y───</pre>"
      ],
      "text/plain": [
       "q0: ───Z───Z───\n",
       "       │   │\n",
       "q1: ───X───Y───"
      ]
     },
     "metadata": {},
     "output_type": "display_data"
    },
    {
     "data": {
      "text/html": [
       "<pre style=\"overflow: auto; white-space: pre;\">q0: ───Z───Z───\n",
       "       │   │\n",
       "q1: ───X───Z───</pre>"
      ],
      "text/plain": [
       "q0: ───Z───Z───\n",
       "       │   │\n",
       "q1: ───X───Z───"
      ]
     },
     "metadata": {},
     "output_type": "display_data"
    },
    {
     "data": {
      "text/html": [
       "<pre style=\"overflow: auto; white-space: pre;\">q0: ───Z───Z────\n",
       "       │   │\n",
       "q1: ───X───nX───</pre>"
      ],
      "text/plain": [
       "q0: ───Z───Z────\n",
       "       │   │\n",
       "q1: ───X───nX───"
      ]
     },
     "metadata": {},
     "output_type": "display_data"
    },
    {
     "data": {
      "text/html": [
       "<pre style=\"overflow: auto; white-space: pre;\">q0: ───Z───Z────\n",
       "       │   │\n",
       "q1: ───X───nY───</pre>"
      ],
      "text/plain": [
       "q0: ───Z───Z────\n",
       "       │   │\n",
       "q1: ───X───nY───"
      ]
     },
     "metadata": {},
     "output_type": "display_data"
    },
    {
     "data": {
      "text/html": [
       "<pre style=\"overflow: auto; white-space: pre;\">q0: ───Z───Z────\n",
       "       │   │\n",
       "q1: ───X───nZ───</pre>"
      ],
      "text/plain": [
       "q0: ───Z───Z────\n",
       "       │   │\n",
       "q1: ───X───nZ───"
      ]
     },
     "metadata": {},
     "output_type": "display_data"
    },
    {
     "data": {
      "text/html": [
       "<pre style=\"overflow: auto; white-space: pre;\">q0: ───Z───nX───\n",
       "       │   │\n",
       "q1: ───X───X────</pre>"
      ],
      "text/plain": [
       "q0: ───Z───nX───\n",
       "       │   │\n",
       "q1: ───X───X────"
      ]
     },
     "metadata": {},
     "output_type": "display_data"
    },
    {
     "data": {
      "text/html": [
       "<pre style=\"overflow: auto; white-space: pre;\">q0: ───Z───nX───\n",
       "       │   │\n",
       "q1: ───X───Y────</pre>"
      ],
      "text/plain": [
       "q0: ───Z───nX───\n",
       "       │   │\n",
       "q1: ───X───Y────"
      ]
     },
     "metadata": {},
     "output_type": "display_data"
    },
    {
     "data": {
      "text/html": [
       "<pre style=\"overflow: auto; white-space: pre;\">q0: ───Z───nX───\n",
       "       │   │\n",
       "q1: ───X───Z────</pre>"
      ],
      "text/plain": [
       "q0: ───Z───nX───\n",
       "       │   │\n",
       "q1: ───X───Z────"
      ]
     },
     "metadata": {},
     "output_type": "display_data"
    },
    {
     "data": {
      "text/html": [
       "<pre style=\"overflow: auto; white-space: pre;\">q0: ───Z───nX───\n",
       "       │   │\n",
       "q1: ───X───nX───</pre>"
      ],
      "text/plain": [
       "q0: ───Z───nX───\n",
       "       │   │\n",
       "q1: ───X───nX───"
      ]
     },
     "metadata": {},
     "output_type": "display_data"
    },
    {
     "data": {
      "text/html": [
       "<pre style=\"overflow: auto; white-space: pre;\">q0: ───Z───nX───\n",
       "       │   │\n",
       "q1: ───X───nY───</pre>"
      ],
      "text/plain": [
       "q0: ───Z───nX───\n",
       "       │   │\n",
       "q1: ───X───nY───"
      ]
     },
     "metadata": {},
     "output_type": "display_data"
    },
    {
     "data": {
      "text/html": [
       "<pre style=\"overflow: auto; white-space: pre;\">q0: ───Z───nX───\n",
       "       │   │\n",
       "q1: ───X───nZ───</pre>"
      ],
      "text/plain": [
       "q0: ───Z───nX───\n",
       "       │   │\n",
       "q1: ───X───nZ───"
      ]
     },
     "metadata": {},
     "output_type": "display_data"
    },
    {
     "data": {
      "text/html": [
       "<pre style=\"overflow: auto; white-space: pre;\">q0: ───Z───nY───\n",
       "       │   │\n",
       "q1: ───X───X────</pre>"
      ],
      "text/plain": [
       "q0: ───Z───nY───\n",
       "       │   │\n",
       "q1: ───X───X────"
      ]
     },
     "metadata": {},
     "output_type": "display_data"
    },
    {
     "data": {
      "text/html": [
       "<pre style=\"overflow: auto; white-space: pre;\">q0: ───Z───nY───\n",
       "       │   │\n",
       "q1: ───X───Y────</pre>"
      ],
      "text/plain": [
       "q0: ───Z───nY───\n",
       "       │   │\n",
       "q1: ───X───Y────"
      ]
     },
     "metadata": {},
     "output_type": "display_data"
    },
    {
     "data": {
      "text/html": [
       "<pre style=\"overflow: auto; white-space: pre;\">q0: ───Z───nY───\n",
       "       │   │\n",
       "q1: ───X───Z────</pre>"
      ],
      "text/plain": [
       "q0: ───Z───nY───\n",
       "       │   │\n",
       "q1: ───X───Z────"
      ]
     },
     "metadata": {},
     "output_type": "display_data"
    },
    {
     "data": {
      "text/html": [
       "<pre style=\"overflow: auto; white-space: pre;\">q0: ───Z───nY───\n",
       "       │   │\n",
       "q1: ───X───nX───</pre>"
      ],
      "text/plain": [
       "q0: ───Z───nY───\n",
       "       │   │\n",
       "q1: ───X───nX───"
      ]
     },
     "metadata": {},
     "output_type": "display_data"
    },
    {
     "data": {
      "text/html": [
       "<pre style=\"overflow: auto; white-space: pre;\">q0: ───Z───nY───\n",
       "       │   │\n",
       "q1: ───X───nY───</pre>"
      ],
      "text/plain": [
       "q0: ───Z───nY───\n",
       "       │   │\n",
       "q1: ───X───nY───"
      ]
     },
     "metadata": {},
     "output_type": "display_data"
    },
    {
     "data": {
      "text/html": [
       "<pre style=\"overflow: auto; white-space: pre;\">q0: ───Z───nY───\n",
       "       │   │\n",
       "q1: ───X───nZ───</pre>"
      ],
      "text/plain": [
       "q0: ───Z───nY───\n",
       "       │   │\n",
       "q1: ───X───nZ───"
      ]
     },
     "metadata": {},
     "output_type": "display_data"
    },
    {
     "data": {
      "text/html": [
       "<pre style=\"overflow: auto; white-space: pre;\">q0: ───Z───nZ───\n",
       "       │   │\n",
       "q1: ───X───X────</pre>"
      ],
      "text/plain": [
       "q0: ───Z───nZ───\n",
       "       │   │\n",
       "q1: ───X───X────"
      ]
     },
     "metadata": {},
     "output_type": "display_data"
    },
    {
     "data": {
      "text/html": [
       "<pre style=\"overflow: auto; white-space: pre;\">q0: ───Z───nZ───\n",
       "       │   │\n",
       "q1: ───X───Y────</pre>"
      ],
      "text/plain": [
       "q0: ───Z───nZ───\n",
       "       │   │\n",
       "q1: ───X───Y────"
      ]
     },
     "metadata": {},
     "output_type": "display_data"
    },
    {
     "data": {
      "text/html": [
       "<pre style=\"overflow: auto; white-space: pre;\">q0: ───Z───nZ───\n",
       "       │   │\n",
       "q1: ───X───Z────</pre>"
      ],
      "text/plain": [
       "q0: ───Z───nZ───\n",
       "       │   │\n",
       "q1: ───X───Z────"
      ]
     },
     "metadata": {},
     "output_type": "display_data"
    },
    {
     "data": {
      "text/html": [
       "<pre style=\"overflow: auto; white-space: pre;\">q0: ───Z───nZ───\n",
       "       │   │\n",
       "q1: ───X───nX───</pre>"
      ],
      "text/plain": [
       "q0: ───Z───nZ───\n",
       "       │   │\n",
       "q1: ───X───nX───"
      ]
     },
     "metadata": {},
     "output_type": "display_data"
    },
    {
     "data": {
      "text/html": [
       "<pre style=\"overflow: auto; white-space: pre;\">q0: ───Z───nZ───\n",
       "       │   │\n",
       "q1: ───X───nY───</pre>"
      ],
      "text/plain": [
       "q0: ───Z───nZ───\n",
       "       │   │\n",
       "q1: ───X───nY───"
      ]
     },
     "metadata": {},
     "output_type": "display_data"
    },
    {
     "data": {
      "text/html": [
       "<pre style=\"overflow: auto; white-space: pre;\">q0: ───Z───nZ───\n",
       "       │   │\n",
       "q1: ───X───nZ───</pre>"
      ],
      "text/plain": [
       "q0: ───Z───nZ───\n",
       "       │   │\n",
       "q1: ───X───nZ───"
      ]
     },
     "metadata": {},
     "output_type": "display_data"
    },
    {
     "data": {
      "text/html": [
       "<pre style=\"overflow: auto; white-space: pre;\">q0: ───Z───X───\n",
       "       │   │\n",
       "q1: ───Y───X───</pre>"
      ],
      "text/plain": [
       "q0: ───Z───X───\n",
       "       │   │\n",
       "q1: ───Y───X───"
      ]
     },
     "metadata": {},
     "output_type": "display_data"
    },
    {
     "data": {
      "text/html": [
       "<pre style=\"overflow: auto; white-space: pre;\">q0: ───Z───X───\n",
       "       │   │\n",
       "q1: ───Y───Y───</pre>"
      ],
      "text/plain": [
       "q0: ───Z───X───\n",
       "       │   │\n",
       "q1: ───Y───Y───"
      ]
     },
     "metadata": {},
     "output_type": "display_data"
    },
    {
     "data": {
      "text/html": [
       "<pre style=\"overflow: auto; white-space: pre;\">q0: ───Z───X───\n",
       "       │   │\n",
       "q1: ───Y───Z───</pre>"
      ],
      "text/plain": [
       "q0: ───Z───X───\n",
       "       │   │\n",
       "q1: ───Y───Z───"
      ]
     },
     "metadata": {},
     "output_type": "display_data"
    },
    {
     "data": {
      "text/html": [
       "<pre style=\"overflow: auto; white-space: pre;\">q0: ───Z───X────\n",
       "       │   │\n",
       "q1: ───Y───nX───</pre>"
      ],
      "text/plain": [
       "q0: ───Z───X────\n",
       "       │   │\n",
       "q1: ───Y───nX───"
      ]
     },
     "metadata": {},
     "output_type": "display_data"
    },
    {
     "data": {
      "text/html": [
       "<pre style=\"overflow: auto; white-space: pre;\">q0: ───Z───X────\n",
       "       │   │\n",
       "q1: ───Y───nY───</pre>"
      ],
      "text/plain": [
       "q0: ───Z───X────\n",
       "       │   │\n",
       "q1: ───Y───nY───"
      ]
     },
     "metadata": {},
     "output_type": "display_data"
    },
    {
     "data": {
      "text/html": [
       "<pre style=\"overflow: auto; white-space: pre;\">q0: ───Z───X────\n",
       "       │   │\n",
       "q1: ───Y───nZ───</pre>"
      ],
      "text/plain": [
       "q0: ───Z───X────\n",
       "       │   │\n",
       "q1: ───Y───nZ───"
      ]
     },
     "metadata": {},
     "output_type": "display_data"
    },
    {
     "data": {
      "text/html": [
       "<pre style=\"overflow: auto; white-space: pre;\">q0: ───Z───Y───\n",
       "       │   │\n",
       "q1: ───Y───X───</pre>"
      ],
      "text/plain": [
       "q0: ───Z───Y───\n",
       "       │   │\n",
       "q1: ───Y───X───"
      ]
     },
     "metadata": {},
     "output_type": "display_data"
    },
    {
     "data": {
      "text/html": [
       "<pre style=\"overflow: auto; white-space: pre;\">q0: ───Z───Y───\n",
       "       │   │\n",
       "q1: ───Y───X───</pre>"
      ],
      "text/plain": [
       "q0: ───Z───Y───\n",
       "       │   │\n",
       "q1: ───Y───X───"
      ]
     },
     "metadata": {},
     "output_type": "display_data"
    },
    {
     "data": {
      "text/html": [
       "<pre style=\"overflow: auto; white-space: pre;\">q0: ───Z───Y───\n",
       "       │   │\n",
       "q1: ───Y───Y───</pre>"
      ],
      "text/plain": [
       "q0: ───Z───Y───\n",
       "       │   │\n",
       "q1: ───Y───Y───"
      ]
     },
     "metadata": {},
     "output_type": "display_data"
    },
    {
     "data": {
      "text/html": [
       "<pre style=\"overflow: auto; white-space: pre;\">q0: ───Z───Y───\n",
       "       │   │\n",
       "q1: ───Y───Z───</pre>"
      ],
      "text/plain": [
       "q0: ───Z───Y───\n",
       "       │   │\n",
       "q1: ───Y───Z───"
      ]
     },
     "metadata": {},
     "output_type": "display_data"
    },
    {
     "data": {
      "text/html": [
       "<pre style=\"overflow: auto; white-space: pre;\">q0: ───Z───Y────\n",
       "       │   │\n",
       "q1: ───Y───nX───</pre>"
      ],
      "text/plain": [
       "q0: ───Z───Y────\n",
       "       │   │\n",
       "q1: ───Y───nX───"
      ]
     },
     "metadata": {},
     "output_type": "display_data"
    },
    {
     "data": {
      "text/html": [
       "<pre style=\"overflow: auto; white-space: pre;\">q0: ───Z───Y────\n",
       "       │   │\n",
       "q1: ───Y───nY───</pre>"
      ],
      "text/plain": [
       "q0: ───Z───Y────\n",
       "       │   │\n",
       "q1: ───Y───nY───"
      ]
     },
     "metadata": {},
     "output_type": "display_data"
    },
    {
     "data": {
      "text/html": [
       "<pre style=\"overflow: auto; white-space: pre;\">q0: ───Z───Y────\n",
       "       │   │\n",
       "q1: ───Y───nZ───</pre>"
      ],
      "text/plain": [
       "q0: ───Z───Y────\n",
       "       │   │\n",
       "q1: ───Y───nZ───"
      ]
     },
     "metadata": {},
     "output_type": "display_data"
    },
    {
     "data": {
      "text/html": [
       "<pre style=\"overflow: auto; white-space: pre;\">q0: ───Z───Z───\n",
       "       │   │\n",
       "q1: ───Y───X───</pre>"
      ],
      "text/plain": [
       "q0: ───Z───Z───\n",
       "       │   │\n",
       "q1: ───Y───X───"
      ]
     },
     "metadata": {},
     "output_type": "display_data"
    },
    {
     "data": {
      "text/html": [
       "<pre style=\"overflow: auto; white-space: pre;\">q0: ───Z───Z───\n",
       "       │   │\n",
       "q1: ───Y───Y───</pre>"
      ],
      "text/plain": [
       "q0: ───Z───Z───\n",
       "       │   │\n",
       "q1: ───Y───Y───"
      ]
     },
     "metadata": {},
     "output_type": "display_data"
    },
    {
     "data": {
      "text/html": [
       "<pre style=\"overflow: auto; white-space: pre;\">q0: ───Z───Z───\n",
       "       │   │\n",
       "q1: ───Y───Z───</pre>"
      ],
      "text/plain": [
       "q0: ───Z───Z───\n",
       "       │   │\n",
       "q1: ───Y───Z───"
      ]
     },
     "metadata": {},
     "output_type": "display_data"
    },
    {
     "data": {
      "text/html": [
       "<pre style=\"overflow: auto; white-space: pre;\">q0: ───Z───Z────\n",
       "       │   │\n",
       "q1: ───Y───nX───</pre>"
      ],
      "text/plain": [
       "q0: ───Z───Z────\n",
       "       │   │\n",
       "q1: ───Y───nX───"
      ]
     },
     "metadata": {},
     "output_type": "display_data"
    },
    {
     "data": {
      "text/html": [
       "<pre style=\"overflow: auto; white-space: pre;\">q0: ───Z───Z────\n",
       "       │   │\n",
       "q1: ───Y───nY───</pre>"
      ],
      "text/plain": [
       "q0: ───Z───Z────\n",
       "       │   │\n",
       "q1: ───Y───nY───"
      ]
     },
     "metadata": {},
     "output_type": "display_data"
    },
    {
     "data": {
      "text/html": [
       "<pre style=\"overflow: auto; white-space: pre;\">q0: ───Z───Z────\n",
       "       │   │\n",
       "q1: ───Y───nZ───</pre>"
      ],
      "text/plain": [
       "q0: ───Z───Z────\n",
       "       │   │\n",
       "q1: ───Y───nZ───"
      ]
     },
     "metadata": {},
     "output_type": "display_data"
    },
    {
     "data": {
      "text/html": [
       "<pre style=\"overflow: auto; white-space: pre;\">q0: ───Z───nX───\n",
       "       │   │\n",
       "q1: ───Y───X────</pre>"
      ],
      "text/plain": [
       "q0: ───Z───nX───\n",
       "       │   │\n",
       "q1: ───Y───X────"
      ]
     },
     "metadata": {},
     "output_type": "display_data"
    },
    {
     "data": {
      "text/html": [
       "<pre style=\"overflow: auto; white-space: pre;\">q0: ───Z───nX───\n",
       "       │   │\n",
       "q1: ───Y───Y────</pre>"
      ],
      "text/plain": [
       "q0: ───Z───nX───\n",
       "       │   │\n",
       "q1: ───Y───Y────"
      ]
     },
     "metadata": {},
     "output_type": "display_data"
    },
    {
     "data": {
      "text/html": [
       "<pre style=\"overflow: auto; white-space: pre;\">q0: ───Z───nX───\n",
       "       │   │\n",
       "q1: ───Y───Z────</pre>"
      ],
      "text/plain": [
       "q0: ───Z───nX───\n",
       "       │   │\n",
       "q1: ───Y───Z────"
      ]
     },
     "metadata": {},
     "output_type": "display_data"
    },
    {
     "data": {
      "text/html": [
       "<pre style=\"overflow: auto; white-space: pre;\">q0: ───Z───nX───\n",
       "       │   │\n",
       "q1: ───Y───nX───</pre>"
      ],
      "text/plain": [
       "q0: ───Z───nX───\n",
       "       │   │\n",
       "q1: ───Y───nX───"
      ]
     },
     "metadata": {},
     "output_type": "display_data"
    },
    {
     "data": {
      "text/html": [
       "<pre style=\"overflow: auto; white-space: pre;\">q0: ───Z───nX───\n",
       "       │   │\n",
       "q1: ───Y───nY───</pre>"
      ],
      "text/plain": [
       "q0: ───Z───nX───\n",
       "       │   │\n",
       "q1: ───Y───nY───"
      ]
     },
     "metadata": {},
     "output_type": "display_data"
    },
    {
     "data": {
      "text/html": [
       "<pre style=\"overflow: auto; white-space: pre;\">q0: ───Z───nX───\n",
       "       │   │\n",
       "q1: ───Y───nZ───</pre>"
      ],
      "text/plain": [
       "q0: ───Z───nX───\n",
       "       │   │\n",
       "q1: ───Y───nZ───"
      ]
     },
     "metadata": {},
     "output_type": "display_data"
    },
    {
     "data": {
      "text/html": [
       "<pre style=\"overflow: auto; white-space: pre;\">q0: ───Z───nY───\n",
       "       │   │\n",
       "q1: ───Y───X────</pre>"
      ],
      "text/plain": [
       "q0: ───Z───nY───\n",
       "       │   │\n",
       "q1: ───Y───X────"
      ]
     },
     "metadata": {},
     "output_type": "display_data"
    },
    {
     "data": {
      "text/html": [
       "<pre style=\"overflow: auto; white-space: pre;\">q0: ───Z───nY───\n",
       "       │   │\n",
       "q1: ───Y───Y────</pre>"
      ],
      "text/plain": [
       "q0: ───Z───nY───\n",
       "       │   │\n",
       "q1: ───Y───Y────"
      ]
     },
     "metadata": {},
     "output_type": "display_data"
    },
    {
     "data": {
      "text/html": [
       "<pre style=\"overflow: auto; white-space: pre;\">q0: ───Z───nY───\n",
       "       │   │\n",
       "q1: ───Y───Z────</pre>"
      ],
      "text/plain": [
       "q0: ───Z───nY───\n",
       "       │   │\n",
       "q1: ───Y───Z────"
      ]
     },
     "metadata": {},
     "output_type": "display_data"
    },
    {
     "data": {
      "text/html": [
       "<pre style=\"overflow: auto; white-space: pre;\">q0: ───Z───nY───\n",
       "       │   │\n",
       "q1: ───Y───nX───</pre>"
      ],
      "text/plain": [
       "q0: ───Z───nY───\n",
       "       │   │\n",
       "q1: ───Y───nX───"
      ]
     },
     "metadata": {},
     "output_type": "display_data"
    },
    {
     "data": {
      "text/html": [
       "<pre style=\"overflow: auto; white-space: pre;\">q0: ───Z───nY───\n",
       "       │   │\n",
       "q1: ───Y───nY───</pre>"
      ],
      "text/plain": [
       "q0: ───Z───nY───\n",
       "       │   │\n",
       "q1: ───Y───nY───"
      ]
     },
     "metadata": {},
     "output_type": "display_data"
    },
    {
     "data": {
      "text/html": [
       "<pre style=\"overflow: auto; white-space: pre;\">q0: ───Z───nY───\n",
       "       │   │\n",
       "q1: ───Y───nZ───</pre>"
      ],
      "text/plain": [
       "q0: ───Z───nY───\n",
       "       │   │\n",
       "q1: ───Y───nZ───"
      ]
     },
     "metadata": {},
     "output_type": "display_data"
    },
    {
     "data": {
      "text/html": [
       "<pre style=\"overflow: auto; white-space: pre;\">q0: ───Z───nZ───\n",
       "       │   │\n",
       "q1: ───Y───X────</pre>"
      ],
      "text/plain": [
       "q0: ───Z───nZ───\n",
       "       │   │\n",
       "q1: ───Y───X────"
      ]
     },
     "metadata": {},
     "output_type": "display_data"
    },
    {
     "data": {
      "text/html": [
       "<pre style=\"overflow: auto; white-space: pre;\">q0: ───Z───nZ───\n",
       "       │   │\n",
       "q1: ───Y───Y────</pre>"
      ],
      "text/plain": [
       "q0: ───Z───nZ───\n",
       "       │   │\n",
       "q1: ───Y───Y────"
      ]
     },
     "metadata": {},
     "output_type": "display_data"
    },
    {
     "data": {
      "text/html": [
       "<pre style=\"overflow: auto; white-space: pre;\">q0: ───Z───nZ───\n",
       "       │   │\n",
       "q1: ───Y───Z────</pre>"
      ],
      "text/plain": [
       "q0: ───Z───nZ───\n",
       "       │   │\n",
       "q1: ───Y───Z────"
      ]
     },
     "metadata": {},
     "output_type": "display_data"
    },
    {
     "data": {
      "text/html": [
       "<pre style=\"overflow: auto; white-space: pre;\">q0: ───Z───nZ───\n",
       "       │   │\n",
       "q1: ───Y───nX───</pre>"
      ],
      "text/plain": [
       "q0: ───Z───nZ───\n",
       "       │   │\n",
       "q1: ───Y───nX───"
      ]
     },
     "metadata": {},
     "output_type": "display_data"
    },
    {
     "data": {
      "text/html": [
       "<pre style=\"overflow: auto; white-space: pre;\">q0: ───Z───nZ───\n",
       "       │   │\n",
       "q1: ───Y───nY───</pre>"
      ],
      "text/plain": [
       "q0: ───Z───nZ───\n",
       "       │   │\n",
       "q1: ───Y───nY───"
      ]
     },
     "metadata": {},
     "output_type": "display_data"
    },
    {
     "data": {
      "text/html": [
       "<pre style=\"overflow: auto; white-space: pre;\">q0: ───Z───nZ───\n",
       "       │   │\n",
       "q1: ───Y───nZ───</pre>"
      ],
      "text/plain": [
       "q0: ───Z───nZ───\n",
       "       │   │\n",
       "q1: ───Y───nZ───"
      ]
     },
     "metadata": {},
     "output_type": "display_data"
    },
    {
     "data": {
      "text/html": [
       "<pre style=\"overflow: auto; white-space: pre;\">q0: ───Z───X───\n",
       "       │   │\n",
       "q1: ───Z───X───</pre>"
      ],
      "text/plain": [
       "q0: ───Z───X───\n",
       "       │   │\n",
       "q1: ───Z───X───"
      ]
     },
     "metadata": {},
     "output_type": "display_data"
    },
    {
     "data": {
      "text/html": [
       "<pre style=\"overflow: auto; white-space: pre;\">q0: ───Z───X───\n",
       "       │   │\n",
       "q1: ───Z───Y───</pre>"
      ],
      "text/plain": [
       "q0: ───Z───X───\n",
       "       │   │\n",
       "q1: ───Z───Y───"
      ]
     },
     "metadata": {},
     "output_type": "display_data"
    },
    {
     "data": {
      "text/html": [
       "<pre style=\"overflow: auto; white-space: pre;\">q0: ───Z───X───\n",
       "       │   │\n",
       "q1: ───Z───Z───</pre>"
      ],
      "text/plain": [
       "q0: ───Z───X───\n",
       "       │   │\n",
       "q1: ───Z───Z───"
      ]
     },
     "metadata": {},
     "output_type": "display_data"
    },
    {
     "data": {
      "text/html": [
       "<pre style=\"overflow: auto; white-space: pre;\">q0: ───Z───X────\n",
       "       │   │\n",
       "q1: ───Z───nX───</pre>"
      ],
      "text/plain": [
       "q0: ───Z───X────\n",
       "       │   │\n",
       "q1: ───Z───nX───"
      ]
     },
     "metadata": {},
     "output_type": "display_data"
    },
    {
     "data": {
      "text/html": [
       "<pre style=\"overflow: auto; white-space: pre;\">q0: ───Z───X────\n",
       "       │   │\n",
       "q1: ───Z───nY───</pre>"
      ],
      "text/plain": [
       "q0: ───Z───X────\n",
       "       │   │\n",
       "q1: ───Z───nY───"
      ]
     },
     "metadata": {},
     "output_type": "display_data"
    },
    {
     "data": {
      "text/html": [
       "<pre style=\"overflow: auto; white-space: pre;\">q0: ───Z───X────\n",
       "       │   │\n",
       "q1: ───Z───nZ───</pre>"
      ],
      "text/plain": [
       "q0: ───Z───X────\n",
       "       │   │\n",
       "q1: ───Z───nZ───"
      ]
     },
     "metadata": {},
     "output_type": "display_data"
    },
    {
     "data": {
      "text/html": [
       "<pre style=\"overflow: auto; white-space: pre;\">q0: ───Z───Y───\n",
       "       │   │\n",
       "q1: ───Z───X───</pre>"
      ],
      "text/plain": [
       "q0: ───Z───Y───\n",
       "       │   │\n",
       "q1: ───Z───X───"
      ]
     },
     "metadata": {},
     "output_type": "display_data"
    },
    {
     "data": {
      "text/html": [
       "<pre style=\"overflow: auto; white-space: pre;\">q0: ───Z───Y───\n",
       "       │   │\n",
       "q1: ───Z───Y───</pre>"
      ],
      "text/plain": [
       "q0: ───Z───Y───\n",
       "       │   │\n",
       "q1: ───Z───Y───"
      ]
     },
     "metadata": {},
     "output_type": "display_data"
    },
    {
     "data": {
      "text/html": [
       "<pre style=\"overflow: auto; white-space: pre;\">q0: ───Z───Y───\n",
       "       │   │\n",
       "q1: ───Z───Z───</pre>"
      ],
      "text/plain": [
       "q0: ───Z───Y───\n",
       "       │   │\n",
       "q1: ───Z───Z───"
      ]
     },
     "metadata": {},
     "output_type": "display_data"
    },
    {
     "data": {
      "text/html": [
       "<pre style=\"overflow: auto; white-space: pre;\">q0: ───Z───Y────\n",
       "       │   │\n",
       "q1: ───Z───nX───</pre>"
      ],
      "text/plain": [
       "q0: ───Z───Y────\n",
       "       │   │\n",
       "q1: ───Z───nX───"
      ]
     },
     "metadata": {},
     "output_type": "display_data"
    },
    {
     "data": {
      "text/html": [
       "<pre style=\"overflow: auto; white-space: pre;\">q0: ───Z───Y────\n",
       "       │   │\n",
       "q1: ───Z───nY───</pre>"
      ],
      "text/plain": [
       "q0: ───Z───Y────\n",
       "       │   │\n",
       "q1: ───Z───nY───"
      ]
     },
     "metadata": {},
     "output_type": "display_data"
    },
    {
     "data": {
      "text/html": [
       "<pre style=\"overflow: auto; white-space: pre;\">q0: ───Z───Y────\n",
       "       │   │\n",
       "q1: ───Z───nZ───</pre>"
      ],
      "text/plain": [
       "q0: ───Z───Y────\n",
       "       │   │\n",
       "q1: ───Z───nZ───"
      ]
     },
     "metadata": {},
     "output_type": "display_data"
    },
    {
     "data": {
      "text/html": [
       "<pre style=\"overflow: auto; white-space: pre;\">q0: ───Z───Z───\n",
       "       │   │\n",
       "q1: ───Z───X───</pre>"
      ],
      "text/plain": [
       "q0: ───Z───Z───\n",
       "       │   │\n",
       "q1: ───Z───X───"
      ]
     },
     "metadata": {},
     "output_type": "display_data"
    },
    {
     "data": {
      "text/html": [
       "<pre style=\"overflow: auto; white-space: pre;\">q0: ───Z───Z───\n",
       "       │   │\n",
       "q1: ───Z───Y───</pre>"
      ],
      "text/plain": [
       "q0: ───Z───Z───\n",
       "       │   │\n",
       "q1: ───Z───Y───"
      ]
     },
     "metadata": {},
     "output_type": "display_data"
    },
    {
     "data": {
      "text/html": [
       "<pre style=\"overflow: auto; white-space: pre;\">q0: ───Z───Z───\n",
       "       │   │\n",
       "q1: ───Z───Z───</pre>"
      ],
      "text/plain": [
       "q0: ───Z───Z───\n",
       "       │   │\n",
       "q1: ───Z───Z───"
      ]
     },
     "metadata": {},
     "output_type": "display_data"
    },
    {
     "data": {
      "text/html": [
       "<pre style=\"overflow: auto; white-space: pre;\">q0: ───Z───Z────\n",
       "       │   │\n",
       "q1: ───Z───nX───</pre>"
      ],
      "text/plain": [
       "q0: ───Z───Z────\n",
       "       │   │\n",
       "q1: ───Z───nX───"
      ]
     },
     "metadata": {},
     "output_type": "display_data"
    },
    {
     "data": {
      "text/html": [
       "<pre style=\"overflow: auto; white-space: pre;\">q0: ───Z───Z────\n",
       "       │   │\n",
       "q1: ───Z───nY───</pre>"
      ],
      "text/plain": [
       "q0: ───Z───Z────\n",
       "       │   │\n",
       "q1: ───Z───nY───"
      ]
     },
     "metadata": {},
     "output_type": "display_data"
    },
    {
     "data": {
      "text/html": [
       "<pre style=\"overflow: auto; white-space: pre;\">q0: ───Z───Z────\n",
       "       │   │\n",
       "q1: ───Z───nZ───</pre>"
      ],
      "text/plain": [
       "q0: ───Z───Z────\n",
       "       │   │\n",
       "q1: ───Z───nZ───"
      ]
     },
     "metadata": {},
     "output_type": "display_data"
    },
    {
     "data": {
      "text/html": [
       "<pre style=\"overflow: auto; white-space: pre;\">q0: ───Z───nX───\n",
       "       │   │\n",
       "q1: ───Z───X────</pre>"
      ],
      "text/plain": [
       "q0: ───Z───nX───\n",
       "       │   │\n",
       "q1: ───Z───X────"
      ]
     },
     "metadata": {},
     "output_type": "display_data"
    },
    {
     "data": {
      "text/html": [
       "<pre style=\"overflow: auto; white-space: pre;\">q0: ───Z───nX───\n",
       "       │   │\n",
       "q1: ───Z───Y────</pre>"
      ],
      "text/plain": [
       "q0: ───Z───nX───\n",
       "       │   │\n",
       "q1: ───Z───Y────"
      ]
     },
     "metadata": {},
     "output_type": "display_data"
    },
    {
     "data": {
      "text/html": [
       "<pre style=\"overflow: auto; white-space: pre;\">q0: ───Z───nX───\n",
       "       │   │\n",
       "q1: ───Z───Z────</pre>"
      ],
      "text/plain": [
       "q0: ───Z───nX───\n",
       "       │   │\n",
       "q1: ───Z───Z────"
      ]
     },
     "metadata": {},
     "output_type": "display_data"
    },
    {
     "data": {
      "text/html": [
       "<pre style=\"overflow: auto; white-space: pre;\">q0: ───Z───nX───\n",
       "       │   │\n",
       "q1: ───Z───nX───</pre>"
      ],
      "text/plain": [
       "q0: ───Z───nX───\n",
       "       │   │\n",
       "q1: ───Z───nX───"
      ]
     },
     "metadata": {},
     "output_type": "display_data"
    },
    {
     "data": {
      "text/html": [
       "<pre style=\"overflow: auto; white-space: pre;\">q0: ───Z───nX───\n",
       "       │   │\n",
       "q1: ───Z───nY───</pre>"
      ],
      "text/plain": [
       "q0: ───Z───nX───\n",
       "       │   │\n",
       "q1: ───Z───nY───"
      ]
     },
     "metadata": {},
     "output_type": "display_data"
    },
    {
     "data": {
      "text/html": [
       "<pre style=\"overflow: auto; white-space: pre;\">q0: ───Z───nX───\n",
       "       │   │\n",
       "q1: ───Z───nZ───</pre>"
      ],
      "text/plain": [
       "q0: ───Z───nX───\n",
       "       │   │\n",
       "q1: ───Z───nZ───"
      ]
     },
     "metadata": {},
     "output_type": "display_data"
    },
    {
     "data": {
      "text/html": [
       "<pre style=\"overflow: auto; white-space: pre;\">q0: ───Z───nY───\n",
       "       │   │\n",
       "q1: ───Z───X────</pre>"
      ],
      "text/plain": [
       "q0: ───Z───nY───\n",
       "       │   │\n",
       "q1: ───Z───X────"
      ]
     },
     "metadata": {},
     "output_type": "display_data"
    },
    {
     "data": {
      "text/html": [
       "<pre style=\"overflow: auto; white-space: pre;\">q0: ───Z───nY───\n",
       "       │   │\n",
       "q1: ───Z───Y────</pre>"
      ],
      "text/plain": [
       "q0: ───Z───nY───\n",
       "       │   │\n",
       "q1: ───Z───Y────"
      ]
     },
     "metadata": {},
     "output_type": "display_data"
    },
    {
     "data": {
      "text/html": [
       "<pre style=\"overflow: auto; white-space: pre;\">q0: ───Z───nY───\n",
       "       │   │\n",
       "q1: ───Z───Z────</pre>"
      ],
      "text/plain": [
       "q0: ───Z───nY───\n",
       "       │   │\n",
       "q1: ───Z───Z────"
      ]
     },
     "metadata": {},
     "output_type": "display_data"
    },
    {
     "data": {
      "text/html": [
       "<pre style=\"overflow: auto; white-space: pre;\">q0: ───Z───nY───\n",
       "       │   │\n",
       "q1: ───Z───nX───</pre>"
      ],
      "text/plain": [
       "q0: ───Z───nY───\n",
       "       │   │\n",
       "q1: ───Z───nX───"
      ]
     },
     "metadata": {},
     "output_type": "display_data"
    },
    {
     "data": {
      "text/html": [
       "<pre style=\"overflow: auto; white-space: pre;\">q0: ───Z───nY───\n",
       "       │   │\n",
       "q1: ───Z───nY───</pre>"
      ],
      "text/plain": [
       "q0: ───Z───nY───\n",
       "       │   │\n",
       "q1: ───Z───nY───"
      ]
     },
     "metadata": {},
     "output_type": "display_data"
    },
    {
     "data": {
      "text/html": [
       "<pre style=\"overflow: auto; white-space: pre;\">q0: ───Z───nY───\n",
       "       │   │\n",
       "q1: ───Z───nZ───</pre>"
      ],
      "text/plain": [
       "q0: ───Z───nY───\n",
       "       │   │\n",
       "q1: ───Z───nZ───"
      ]
     },
     "metadata": {},
     "output_type": "display_data"
    },
    {
     "data": {
      "text/html": [
       "<pre style=\"overflow: auto; white-space: pre;\">q0: ───Z───nZ───\n",
       "       │   │\n",
       "q1: ───Z───X────</pre>"
      ],
      "text/plain": [
       "q0: ───Z───nZ───\n",
       "       │   │\n",
       "q1: ───Z───X────"
      ]
     },
     "metadata": {},
     "output_type": "display_data"
    },
    {
     "data": {
      "text/html": [
       "<pre style=\"overflow: auto; white-space: pre;\">q0: ───Z───nZ───\n",
       "       │   │\n",
       "q1: ───Z───Y────</pre>"
      ],
      "text/plain": [
       "q0: ───Z───nZ───\n",
       "       │   │\n",
       "q1: ───Z───Y────"
      ]
     },
     "metadata": {},
     "output_type": "display_data"
    },
    {
     "data": {
      "text/html": [
       "<pre style=\"overflow: auto; white-space: pre;\">q0: ───Z───nZ───\n",
       "       │   │\n",
       "q1: ───Z───Z────</pre>"
      ],
      "text/plain": [
       "q0: ───Z───nZ───\n",
       "       │   │\n",
       "q1: ───Z───Z────"
      ]
     },
     "metadata": {},
     "output_type": "display_data"
    },
    {
     "data": {
      "text/html": [
       "<pre style=\"overflow: auto; white-space: pre;\">q0: ───Z───nZ───\n",
       "       │   │\n",
       "q1: ───Z───nX───</pre>"
      ],
      "text/plain": [
       "q0: ───Z───nZ───\n",
       "       │   │\n",
       "q1: ───Z───nX───"
      ]
     },
     "metadata": {},
     "output_type": "display_data"
    },
    {
     "data": {
      "text/html": [
       "<pre style=\"overflow: auto; white-space: pre;\">q0: ───Z───nZ───\n",
       "       │   │\n",
       "q1: ───Z───nY───</pre>"
      ],
      "text/plain": [
       "q0: ───Z───nZ───\n",
       "       │   │\n",
       "q1: ───Z───nY───"
      ]
     },
     "metadata": {},
     "output_type": "display_data"
    },
    {
     "data": {
      "text/html": [
       "<pre style=\"overflow: auto; white-space: pre;\">q0: ───Z───nZ───\n",
       "       │   │\n",
       "q1: ───Z───nZ───</pre>"
      ],
      "text/plain": [
       "q0: ───Z───nZ───\n",
       "       │   │\n",
       "q1: ───Z───nZ───"
      ]
     },
     "metadata": {},
     "output_type": "display_data"
    },
    {
     "data": {
      "text/html": [
       "<pre style=\"overflow: auto; white-space: pre;\">q0: ───Z────X───\n",
       "       │    │\n",
       "q1: ───nX───X───</pre>"
      ],
      "text/plain": [
       "q0: ───Z────X───\n",
       "       │    │\n",
       "q1: ───nX───X───"
      ]
     },
     "metadata": {},
     "output_type": "display_data"
    },
    {
     "data": {
      "text/html": [
       "<pre style=\"overflow: auto; white-space: pre;\">q0: ───Z────X───\n",
       "       │    │\n",
       "q1: ───nX───Y───</pre>"
      ],
      "text/plain": [
       "q0: ───Z────X───\n",
       "       │    │\n",
       "q1: ───nX───Y───"
      ]
     },
     "metadata": {},
     "output_type": "display_data"
    },
    {
     "data": {
      "text/html": [
       "<pre style=\"overflow: auto; white-space: pre;\">q0: ───Z────X───\n",
       "       │    │\n",
       "q1: ───nX───Z───</pre>"
      ],
      "text/plain": [
       "q0: ───Z────X───\n",
       "       │    │\n",
       "q1: ───nX───Z───"
      ]
     },
     "metadata": {},
     "output_type": "display_data"
    },
    {
     "data": {
      "text/html": [
       "<pre style=\"overflow: auto; white-space: pre;\">q0: ───Z────X────\n",
       "       │    │\n",
       "q1: ───nX───nX───</pre>"
      ],
      "text/plain": [
       "q0: ───Z────X────\n",
       "       │    │\n",
       "q1: ───nX───nX───"
      ]
     },
     "metadata": {},
     "output_type": "display_data"
    },
    {
     "data": {
      "text/html": [
       "<pre style=\"overflow: auto; white-space: pre;\">q0: ───Z────X────\n",
       "       │    │\n",
       "q1: ───nX───nY───</pre>"
      ],
      "text/plain": [
       "q0: ───Z────X────\n",
       "       │    │\n",
       "q1: ───nX───nY───"
      ]
     },
     "metadata": {},
     "output_type": "display_data"
    },
    {
     "data": {
      "text/html": [
       "<pre style=\"overflow: auto; white-space: pre;\">q0: ───Z────X────\n",
       "       │    │\n",
       "q1: ───nX───nZ───</pre>"
      ],
      "text/plain": [
       "q0: ───Z────X────\n",
       "       │    │\n",
       "q1: ───nX───nZ───"
      ]
     },
     "metadata": {},
     "output_type": "display_data"
    },
    {
     "data": {
      "text/html": [
       "<pre style=\"overflow: auto; white-space: pre;\">q0: ───Z────Y───\n",
       "       │    │\n",
       "q1: ───nX───X───</pre>"
      ],
      "text/plain": [
       "q0: ───Z────Y───\n",
       "       │    │\n",
       "q1: ───nX───X───"
      ]
     },
     "metadata": {},
     "output_type": "display_data"
    },
    {
     "data": {
      "text/html": [
       "<pre style=\"overflow: auto; white-space: pre;\">q0: ───Z────Y───\n",
       "       │    │\n",
       "q1: ───nX───Y───</pre>"
      ],
      "text/plain": [
       "q0: ───Z────Y───\n",
       "       │    │\n",
       "q1: ───nX───Y───"
      ]
     },
     "metadata": {},
     "output_type": "display_data"
    },
    {
     "data": {
      "text/html": [
       "<pre style=\"overflow: auto; white-space: pre;\">q0: ───Z────Y───\n",
       "       │    │\n",
       "q1: ───nX───Z───</pre>"
      ],
      "text/plain": [
       "q0: ───Z────Y───\n",
       "       │    │\n",
       "q1: ───nX───Z───"
      ]
     },
     "metadata": {},
     "output_type": "display_data"
    },
    {
     "data": {
      "text/html": [
       "<pre style=\"overflow: auto; white-space: pre;\">q0: ───Z────Y────\n",
       "       │    │\n",
       "q1: ───nX───nX───</pre>"
      ],
      "text/plain": [
       "q0: ───Z────Y────\n",
       "       │    │\n",
       "q1: ───nX───nX───"
      ]
     },
     "metadata": {},
     "output_type": "display_data"
    },
    {
     "data": {
      "text/html": [
       "<pre style=\"overflow: auto; white-space: pre;\">q0: ───Z────Y────\n",
       "       │    │\n",
       "q1: ───nX───nY───</pre>"
      ],
      "text/plain": [
       "q0: ───Z────Y────\n",
       "       │    │\n",
       "q1: ───nX───nY───"
      ]
     },
     "metadata": {},
     "output_type": "display_data"
    },
    {
     "data": {
      "text/html": [
       "<pre style=\"overflow: auto; white-space: pre;\">q0: ───Z────Y────\n",
       "       │    │\n",
       "q1: ───nX───nZ───</pre>"
      ],
      "text/plain": [
       "q0: ───Z────Y────\n",
       "       │    │\n",
       "q1: ───nX───nZ───"
      ]
     },
     "metadata": {},
     "output_type": "display_data"
    },
    {
     "data": {
      "text/html": [
       "<pre style=\"overflow: auto; white-space: pre;\">q0: ───Z────Z───\n",
       "       │    │\n",
       "q1: ───nX───X───</pre>"
      ],
      "text/plain": [
       "q0: ───Z────Z───\n",
       "       │    │\n",
       "q1: ───nX───X───"
      ]
     },
     "metadata": {},
     "output_type": "display_data"
    },
    {
     "data": {
      "text/html": [
       "<pre style=\"overflow: auto; white-space: pre;\">q0: ───Z────Z───\n",
       "       │    │\n",
       "q1: ───nX───Y───</pre>"
      ],
      "text/plain": [
       "q0: ───Z────Z───\n",
       "       │    │\n",
       "q1: ───nX───Y───"
      ]
     },
     "metadata": {},
     "output_type": "display_data"
    },
    {
     "data": {
      "text/html": [
       "<pre style=\"overflow: auto; white-space: pre;\">q0: ───Z────Z───\n",
       "       │    │\n",
       "q1: ───nX───Z───</pre>"
      ],
      "text/plain": [
       "q0: ───Z────Z───\n",
       "       │    │\n",
       "q1: ───nX───Z───"
      ]
     },
     "metadata": {},
     "output_type": "display_data"
    },
    {
     "data": {
      "text/html": [
       "<pre style=\"overflow: auto; white-space: pre;\">q0: ───Z────Z────\n",
       "       │    │\n",
       "q1: ───nX───nX───</pre>"
      ],
      "text/plain": [
       "q0: ───Z────Z────\n",
       "       │    │\n",
       "q1: ───nX───nX───"
      ]
     },
     "metadata": {},
     "output_type": "display_data"
    },
    {
     "data": {
      "text/html": [
       "<pre style=\"overflow: auto; white-space: pre;\">q0: ───Z────Z────\n",
       "       │    │\n",
       "q1: ───nX───nY───</pre>"
      ],
      "text/plain": [
       "q0: ───Z────Z────\n",
       "       │    │\n",
       "q1: ───nX───nY───"
      ]
     },
     "metadata": {},
     "output_type": "display_data"
    },
    {
     "data": {
      "text/html": [
       "<pre style=\"overflow: auto; white-space: pre;\">q0: ───Z────Z────\n",
       "       │    │\n",
       "q1: ───nX───nZ───</pre>"
      ],
      "text/plain": [
       "q0: ───Z────Z────\n",
       "       │    │\n",
       "q1: ───nX───nZ───"
      ]
     },
     "metadata": {},
     "output_type": "display_data"
    },
    {
     "data": {
      "text/html": [
       "<pre style=\"overflow: auto; white-space: pre;\">q0: ───Z────nX───\n",
       "       │    │\n",
       "q1: ───nX───X────</pre>"
      ],
      "text/plain": [
       "q0: ───Z────nX───\n",
       "       │    │\n",
       "q1: ───nX───X────"
      ]
     },
     "metadata": {},
     "output_type": "display_data"
    },
    {
     "data": {
      "text/html": [
       "<pre style=\"overflow: auto; white-space: pre;\">q0: ───Z────nX───\n",
       "       │    │\n",
       "q1: ───nX───Y────</pre>"
      ],
      "text/plain": [
       "q0: ───Z────nX───\n",
       "       │    │\n",
       "q1: ───nX───Y────"
      ]
     },
     "metadata": {},
     "output_type": "display_data"
    },
    {
     "data": {
      "text/html": [
       "<pre style=\"overflow: auto; white-space: pre;\">q0: ───Z────nX───\n",
       "       │    │\n",
       "q1: ───nX───Z────</pre>"
      ],
      "text/plain": [
       "q0: ───Z────nX───\n",
       "       │    │\n",
       "q1: ───nX───Z────"
      ]
     },
     "metadata": {},
     "output_type": "display_data"
    },
    {
     "data": {
      "text/html": [
       "<pre style=\"overflow: auto; white-space: pre;\">q0: ───Z────nX───\n",
       "       │    │\n",
       "q1: ───nX───nX───</pre>"
      ],
      "text/plain": [
       "q0: ───Z────nX───\n",
       "       │    │\n",
       "q1: ───nX───nX───"
      ]
     },
     "metadata": {},
     "output_type": "display_data"
    },
    {
     "data": {
      "text/html": [
       "<pre style=\"overflow: auto; white-space: pre;\">q0: ───Z────nX───\n",
       "       │    │\n",
       "q1: ───nX───nY───</pre>"
      ],
      "text/plain": [
       "q0: ───Z────nX───\n",
       "       │    │\n",
       "q1: ───nX───nY───"
      ]
     },
     "metadata": {},
     "output_type": "display_data"
    },
    {
     "data": {
      "text/html": [
       "<pre style=\"overflow: auto; white-space: pre;\">q0: ───Z────nX───\n",
       "       │    │\n",
       "q1: ───nX───nZ───</pre>"
      ],
      "text/plain": [
       "q0: ───Z────nX───\n",
       "       │    │\n",
       "q1: ───nX───nZ───"
      ]
     },
     "metadata": {},
     "output_type": "display_data"
    },
    {
     "data": {
      "text/html": [
       "<pre style=\"overflow: auto; white-space: pre;\">q0: ───Z────nY───\n",
       "       │    │\n",
       "q1: ───nX───X────</pre>"
      ],
      "text/plain": [
       "q0: ───Z────nY───\n",
       "       │    │\n",
       "q1: ───nX───X────"
      ]
     },
     "metadata": {},
     "output_type": "display_data"
    },
    {
     "data": {
      "text/html": [
       "<pre style=\"overflow: auto; white-space: pre;\">q0: ───Z────nY───\n",
       "       │    │\n",
       "q1: ───nX───Y────</pre>"
      ],
      "text/plain": [
       "q0: ───Z────nY───\n",
       "       │    │\n",
       "q1: ───nX───Y────"
      ]
     },
     "metadata": {},
     "output_type": "display_data"
    },
    {
     "data": {
      "text/html": [
       "<pre style=\"overflow: auto; white-space: pre;\">q0: ───Z────nY───\n",
       "       │    │\n",
       "q1: ───nX───Z────</pre>"
      ],
      "text/plain": [
       "q0: ───Z────nY───\n",
       "       │    │\n",
       "q1: ───nX───Z────"
      ]
     },
     "metadata": {},
     "output_type": "display_data"
    },
    {
     "data": {
      "text/html": [
       "<pre style=\"overflow: auto; white-space: pre;\">q0: ───Z────nY───\n",
       "       │    │\n",
       "q1: ───nX───nX───</pre>"
      ],
      "text/plain": [
       "q0: ───Z────nY───\n",
       "       │    │\n",
       "q1: ───nX───nX───"
      ]
     },
     "metadata": {},
     "output_type": "display_data"
    },
    {
     "data": {
      "text/html": [
       "<pre style=\"overflow: auto; white-space: pre;\">q0: ───Z────nY───\n",
       "       │    │\n",
       "q1: ───nX───nY───</pre>"
      ],
      "text/plain": [
       "q0: ───Z────nY───\n",
       "       │    │\n",
       "q1: ───nX───nY───"
      ]
     },
     "metadata": {},
     "output_type": "display_data"
    },
    {
     "data": {
      "text/html": [
       "<pre style=\"overflow: auto; white-space: pre;\">q0: ───Z────nY───\n",
       "       │    │\n",
       "q1: ───nX───nZ───</pre>"
      ],
      "text/plain": [
       "q0: ───Z────nY───\n",
       "       │    │\n",
       "q1: ───nX───nZ───"
      ]
     },
     "metadata": {},
     "output_type": "display_data"
    },
    {
     "data": {
      "text/html": [
       "<pre style=\"overflow: auto; white-space: pre;\">q0: ───Z────nZ───\n",
       "       │    │\n",
       "q1: ───nX───X────</pre>"
      ],
      "text/plain": [
       "q0: ───Z────nZ───\n",
       "       │    │\n",
       "q1: ───nX───X────"
      ]
     },
     "metadata": {},
     "output_type": "display_data"
    },
    {
     "data": {
      "text/html": [
       "<pre style=\"overflow: auto; white-space: pre;\">q0: ───Z────nZ───\n",
       "       │    │\n",
       "q1: ───nX───Y────</pre>"
      ],
      "text/plain": [
       "q0: ───Z────nZ───\n",
       "       │    │\n",
       "q1: ───nX───Y────"
      ]
     },
     "metadata": {},
     "output_type": "display_data"
    },
    {
     "data": {
      "text/html": [
       "<pre style=\"overflow: auto; white-space: pre;\">q0: ───Z────nZ───\n",
       "       │    │\n",
       "q1: ───nX───Z────</pre>"
      ],
      "text/plain": [
       "q0: ───Z────nZ───\n",
       "       │    │\n",
       "q1: ───nX───Z────"
      ]
     },
     "metadata": {},
     "output_type": "display_data"
    },
    {
     "data": {
      "text/html": [
       "<pre style=\"overflow: auto; white-space: pre;\">q0: ───Z────nZ───\n",
       "       │    │\n",
       "q1: ───nX───nX───</pre>"
      ],
      "text/plain": [
       "q0: ───Z────nZ───\n",
       "       │    │\n",
       "q1: ───nX───nX───"
      ]
     },
     "metadata": {},
     "output_type": "display_data"
    },
    {
     "data": {
      "text/html": [
       "<pre style=\"overflow: auto; white-space: pre;\">q0: ───Z────nZ───\n",
       "       │    │\n",
       "q1: ───nX───nY───</pre>"
      ],
      "text/plain": [
       "q0: ───Z────nZ───\n",
       "       │    │\n",
       "q1: ───nX───nY───"
      ]
     },
     "metadata": {},
     "output_type": "display_data"
    },
    {
     "data": {
      "text/html": [
       "<pre style=\"overflow: auto; white-space: pre;\">q0: ───Z────nZ───\n",
       "       │    │\n",
       "q1: ───nX───nZ───</pre>"
      ],
      "text/plain": [
       "q0: ───Z────nZ───\n",
       "       │    │\n",
       "q1: ───nX───nZ───"
      ]
     },
     "metadata": {},
     "output_type": "display_data"
    },
    {
     "data": {
      "text/html": [
       "<pre style=\"overflow: auto; white-space: pre;\">q0: ───Z────X───\n",
       "       │    │\n",
       "q1: ───nY───X───</pre>"
      ],
      "text/plain": [
       "q0: ───Z────X───\n",
       "       │    │\n",
       "q1: ───nY───X───"
      ]
     },
     "metadata": {},
     "output_type": "display_data"
    },
    {
     "data": {
      "text/html": [
       "<pre style=\"overflow: auto; white-space: pre;\">q0: ───Z────X───\n",
       "       │    │\n",
       "q1: ───nY───Y───</pre>"
      ],
      "text/plain": [
       "q0: ───Z────X───\n",
       "       │    │\n",
       "q1: ───nY───Y───"
      ]
     },
     "metadata": {},
     "output_type": "display_data"
    },
    {
     "data": {
      "text/html": [
       "<pre style=\"overflow: auto; white-space: pre;\">q0: ───Z────X───\n",
       "       │    │\n",
       "q1: ───nY───Z───</pre>"
      ],
      "text/plain": [
       "q0: ───Z────X───\n",
       "       │    │\n",
       "q1: ───nY───Z───"
      ]
     },
     "metadata": {},
     "output_type": "display_data"
    },
    {
     "data": {
      "text/html": [
       "<pre style=\"overflow: auto; white-space: pre;\">q0: ───Z────X────\n",
       "       │    │\n",
       "q1: ───nY───nX───</pre>"
      ],
      "text/plain": [
       "q0: ───Z────X────\n",
       "       │    │\n",
       "q1: ───nY───nX───"
      ]
     },
     "metadata": {},
     "output_type": "display_data"
    },
    {
     "data": {
      "text/html": [
       "<pre style=\"overflow: auto; white-space: pre;\">q0: ───Z────X────\n",
       "       │    │\n",
       "q1: ───nY───nY───</pre>"
      ],
      "text/plain": [
       "q0: ───Z────X────\n",
       "       │    │\n",
       "q1: ───nY───nY───"
      ]
     },
     "metadata": {},
     "output_type": "display_data"
    },
    {
     "data": {
      "text/html": [
       "<pre style=\"overflow: auto; white-space: pre;\">q0: ───Z────X────\n",
       "       │    │\n",
       "q1: ───nY───nZ───</pre>"
      ],
      "text/plain": [
       "q0: ───Z────X────\n",
       "       │    │\n",
       "q1: ───nY───nZ───"
      ]
     },
     "metadata": {},
     "output_type": "display_data"
    },
    {
     "data": {
      "text/html": [
       "<pre style=\"overflow: auto; white-space: pre;\">q0: ───Z────Y───\n",
       "       │    │\n",
       "q1: ───nY───X───</pre>"
      ],
      "text/plain": [
       "q0: ───Z────Y───\n",
       "       │    │\n",
       "q1: ───nY───X───"
      ]
     },
     "metadata": {},
     "output_type": "display_data"
    },
    {
     "data": {
      "text/html": [
       "<pre style=\"overflow: auto; white-space: pre;\">q0: ───Z────Y───\n",
       "       │    │\n",
       "q1: ───nY───Y───</pre>"
      ],
      "text/plain": [
       "q0: ───Z────Y───\n",
       "       │    │\n",
       "q1: ───nY───Y───"
      ]
     },
     "metadata": {},
     "output_type": "display_data"
    },
    {
     "data": {
      "text/html": [
       "<pre style=\"overflow: auto; white-space: pre;\">q0: ───Z────Y───\n",
       "       │    │\n",
       "q1: ───nY───Z───</pre>"
      ],
      "text/plain": [
       "q0: ───Z────Y───\n",
       "       │    │\n",
       "q1: ───nY───Z───"
      ]
     },
     "metadata": {},
     "output_type": "display_data"
    },
    {
     "data": {
      "text/html": [
       "<pre style=\"overflow: auto; white-space: pre;\">q0: ───Z────Y────\n",
       "       │    │\n",
       "q1: ───nY───nX───</pre>"
      ],
      "text/plain": [
       "q0: ───Z────Y────\n",
       "       │    │\n",
       "q1: ───nY───nX───"
      ]
     },
     "metadata": {},
     "output_type": "display_data"
    },
    {
     "data": {
      "text/html": [
       "<pre style=\"overflow: auto; white-space: pre;\">q0: ───Z────Y────\n",
       "       │    │\n",
       "q1: ───nY───nY───</pre>"
      ],
      "text/plain": [
       "q0: ───Z────Y────\n",
       "       │    │\n",
       "q1: ───nY───nY───"
      ]
     },
     "metadata": {},
     "output_type": "display_data"
    },
    {
     "data": {
      "text/html": [
       "<pre style=\"overflow: auto; white-space: pre;\">q0: ───Z────Y────\n",
       "       │    │\n",
       "q1: ───nY───nZ───</pre>"
      ],
      "text/plain": [
       "q0: ───Z────Y────\n",
       "       │    │\n",
       "q1: ───nY───nZ───"
      ]
     },
     "metadata": {},
     "output_type": "display_data"
    },
    {
     "data": {
      "text/html": [
       "<pre style=\"overflow: auto; white-space: pre;\">q0: ───Z────Z───\n",
       "       │    │\n",
       "q1: ───nY───X───</pre>"
      ],
      "text/plain": [
       "q0: ───Z────Z───\n",
       "       │    │\n",
       "q1: ───nY───X───"
      ]
     },
     "metadata": {},
     "output_type": "display_data"
    },
    {
     "data": {
      "text/html": [
       "<pre style=\"overflow: auto; white-space: pre;\">q0: ───Z────Z───\n",
       "       │    │\n",
       "q1: ───nY───Y───</pre>"
      ],
      "text/plain": [
       "q0: ───Z────Z───\n",
       "       │    │\n",
       "q1: ───nY───Y───"
      ]
     },
     "metadata": {},
     "output_type": "display_data"
    },
    {
     "data": {
      "text/html": [
       "<pre style=\"overflow: auto; white-space: pre;\">q0: ───Z────Z───\n",
       "       │    │\n",
       "q1: ───nY───Z───</pre>"
      ],
      "text/plain": [
       "q0: ───Z────Z───\n",
       "       │    │\n",
       "q1: ───nY───Z───"
      ]
     },
     "metadata": {},
     "output_type": "display_data"
    },
    {
     "data": {
      "text/html": [
       "<pre style=\"overflow: auto; white-space: pre;\">q0: ───Z────Z────\n",
       "       │    │\n",
       "q1: ───nY───nX───</pre>"
      ],
      "text/plain": [
       "q0: ───Z────Z────\n",
       "       │    │\n",
       "q1: ───nY───nX───"
      ]
     },
     "metadata": {},
     "output_type": "display_data"
    },
    {
     "data": {
      "text/html": [
       "<pre style=\"overflow: auto; white-space: pre;\">q0: ───Z────Z────\n",
       "       │    │\n",
       "q1: ───nY───nY───</pre>"
      ],
      "text/plain": [
       "q0: ───Z────Z────\n",
       "       │    │\n",
       "q1: ───nY───nY───"
      ]
     },
     "metadata": {},
     "output_type": "display_data"
    },
    {
     "data": {
      "text/html": [
       "<pre style=\"overflow: auto; white-space: pre;\">q0: ───Z────Z────\n",
       "       │    │\n",
       "q1: ───nY───nZ───</pre>"
      ],
      "text/plain": [
       "q0: ───Z────Z────\n",
       "       │    │\n",
       "q1: ───nY───nZ───"
      ]
     },
     "metadata": {},
     "output_type": "display_data"
    },
    {
     "data": {
      "text/html": [
       "<pre style=\"overflow: auto; white-space: pre;\">q0: ───Z────nX───\n",
       "       │    │\n",
       "q1: ───nY───X────</pre>"
      ],
      "text/plain": [
       "q0: ───Z────nX───\n",
       "       │    │\n",
       "q1: ───nY───X────"
      ]
     },
     "metadata": {},
     "output_type": "display_data"
    },
    {
     "data": {
      "text/html": [
       "<pre style=\"overflow: auto; white-space: pre;\">q0: ───Z────nX───\n",
       "       │    │\n",
       "q1: ───nY───Y────</pre>"
      ],
      "text/plain": [
       "q0: ───Z────nX───\n",
       "       │    │\n",
       "q1: ───nY───Y────"
      ]
     },
     "metadata": {},
     "output_type": "display_data"
    },
    {
     "data": {
      "text/html": [
       "<pre style=\"overflow: auto; white-space: pre;\">q0: ───Z────nX───\n",
       "       │    │\n",
       "q1: ───nY───Z────</pre>"
      ],
      "text/plain": [
       "q0: ───Z────nX───\n",
       "       │    │\n",
       "q1: ───nY───Z────"
      ]
     },
     "metadata": {},
     "output_type": "display_data"
    },
    {
     "data": {
      "text/html": [
       "<pre style=\"overflow: auto; white-space: pre;\">q0: ───Z────nX───\n",
       "       │    │\n",
       "q1: ───nY───nX───</pre>"
      ],
      "text/plain": [
       "q0: ───Z────nX───\n",
       "       │    │\n",
       "q1: ───nY───nX───"
      ]
     },
     "metadata": {},
     "output_type": "display_data"
    },
    {
     "data": {
      "text/html": [
       "<pre style=\"overflow: auto; white-space: pre;\">q0: ───Z────nX───\n",
       "       │    │\n",
       "q1: ───nY───nY───</pre>"
      ],
      "text/plain": [
       "q0: ───Z────nX───\n",
       "       │    │\n",
       "q1: ───nY───nY───"
      ]
     },
     "metadata": {},
     "output_type": "display_data"
    },
    {
     "data": {
      "text/html": [
       "<pre style=\"overflow: auto; white-space: pre;\">q0: ───Z────nX───\n",
       "       │    │\n",
       "q1: ───nY───nZ───</pre>"
      ],
      "text/plain": [
       "q0: ───Z────nX───\n",
       "       │    │\n",
       "q1: ───nY───nZ───"
      ]
     },
     "metadata": {},
     "output_type": "display_data"
    },
    {
     "data": {
      "text/html": [
       "<pre style=\"overflow: auto; white-space: pre;\">q0: ───Z────nY───\n",
       "       │    │\n",
       "q1: ───nY───X────</pre>"
      ],
      "text/plain": [
       "q0: ───Z────nY───\n",
       "       │    │\n",
       "q1: ───nY───X────"
      ]
     },
     "metadata": {},
     "output_type": "display_data"
    },
    {
     "data": {
      "text/html": [
       "<pre style=\"overflow: auto; white-space: pre;\">q0: ───Z────nY───\n",
       "       │    │\n",
       "q1: ───nY───Y────</pre>"
      ],
      "text/plain": [
       "q0: ───Z────nY───\n",
       "       │    │\n",
       "q1: ───nY───Y────"
      ]
     },
     "metadata": {},
     "output_type": "display_data"
    },
    {
     "data": {
      "text/html": [
       "<pre style=\"overflow: auto; white-space: pre;\">q0: ───Z────nY───\n",
       "       │    │\n",
       "q1: ───nY───Z────</pre>"
      ],
      "text/plain": [
       "q0: ───Z────nY───\n",
       "       │    │\n",
       "q1: ───nY───Z────"
      ]
     },
     "metadata": {},
     "output_type": "display_data"
    },
    {
     "data": {
      "text/html": [
       "<pre style=\"overflow: auto; white-space: pre;\">q0: ───Z────nY───\n",
       "       │    │\n",
       "q1: ───nY───nX───</pre>"
      ],
      "text/plain": [
       "q0: ───Z────nY───\n",
       "       │    │\n",
       "q1: ───nY───nX───"
      ]
     },
     "metadata": {},
     "output_type": "display_data"
    },
    {
     "data": {
      "text/html": [
       "<pre style=\"overflow: auto; white-space: pre;\">q0: ───Z────nY───\n",
       "       │    │\n",
       "q1: ───nY───nY───</pre>"
      ],
      "text/plain": [
       "q0: ───Z────nY───\n",
       "       │    │\n",
       "q1: ───nY───nY───"
      ]
     },
     "metadata": {},
     "output_type": "display_data"
    },
    {
     "data": {
      "text/html": [
       "<pre style=\"overflow: auto; white-space: pre;\">q0: ───Z────nY───\n",
       "       │    │\n",
       "q1: ───nY───nZ───</pre>"
      ],
      "text/plain": [
       "q0: ───Z────nY───\n",
       "       │    │\n",
       "q1: ───nY───nZ───"
      ]
     },
     "metadata": {},
     "output_type": "display_data"
    },
    {
     "data": {
      "text/html": [
       "<pre style=\"overflow: auto; white-space: pre;\">q0: ───Z────nZ───\n",
       "       │    │\n",
       "q1: ───nY───X────</pre>"
      ],
      "text/plain": [
       "q0: ───Z────nZ───\n",
       "       │    │\n",
       "q1: ───nY───X────"
      ]
     },
     "metadata": {},
     "output_type": "display_data"
    },
    {
     "data": {
      "text/html": [
       "<pre style=\"overflow: auto; white-space: pre;\">q0: ───Z────nZ───\n",
       "       │    │\n",
       "q1: ───nY───Y────</pre>"
      ],
      "text/plain": [
       "q0: ───Z────nZ───\n",
       "       │    │\n",
       "q1: ───nY───Y────"
      ]
     },
     "metadata": {},
     "output_type": "display_data"
    },
    {
     "data": {
      "text/html": [
       "<pre style=\"overflow: auto; white-space: pre;\">q0: ───Z────nZ───\n",
       "       │    │\n",
       "q1: ───nY───Z────</pre>"
      ],
      "text/plain": [
       "q0: ───Z────nZ───\n",
       "       │    │\n",
       "q1: ───nY───Z────"
      ]
     },
     "metadata": {},
     "output_type": "display_data"
    },
    {
     "data": {
      "text/html": [
       "<pre style=\"overflow: auto; white-space: pre;\">q0: ───Z────nZ───\n",
       "       │    │\n",
       "q1: ───nY───nX───</pre>"
      ],
      "text/plain": [
       "q0: ───Z────nZ───\n",
       "       │    │\n",
       "q1: ───nY───nX───"
      ]
     },
     "metadata": {},
     "output_type": "display_data"
    },
    {
     "data": {
      "text/html": [
       "<pre style=\"overflow: auto; white-space: pre;\">q0: ───Z────nZ───\n",
       "       │    │\n",
       "q1: ───nY───nY───</pre>"
      ],
      "text/plain": [
       "q0: ───Z────nZ───\n",
       "       │    │\n",
       "q1: ───nY───nY───"
      ]
     },
     "metadata": {},
     "output_type": "display_data"
    },
    {
     "data": {
      "text/html": [
       "<pre style=\"overflow: auto; white-space: pre;\">q0: ───Z────nZ───\n",
       "       │    │\n",
       "q1: ───nY───nZ───</pre>"
      ],
      "text/plain": [
       "q0: ───Z────nZ───\n",
       "       │    │\n",
       "q1: ───nY───nZ───"
      ]
     },
     "metadata": {},
     "output_type": "display_data"
    },
    {
     "data": {
      "text/html": [
       "<pre style=\"overflow: auto; white-space: pre;\">q0: ───Z────X───\n",
       "       │    │\n",
       "q1: ───nZ───X───</pre>"
      ],
      "text/plain": [
       "q0: ───Z────X───\n",
       "       │    │\n",
       "q1: ───nZ───X───"
      ]
     },
     "metadata": {},
     "output_type": "display_data"
    },
    {
     "data": {
      "text/html": [
       "<pre style=\"overflow: auto; white-space: pre;\">q0: ───Z────X───\n",
       "       │    │\n",
       "q1: ───nZ───Y───</pre>"
      ],
      "text/plain": [
       "q0: ───Z────X───\n",
       "       │    │\n",
       "q1: ───nZ───Y───"
      ]
     },
     "metadata": {},
     "output_type": "display_data"
    },
    {
     "data": {
      "text/html": [
       "<pre style=\"overflow: auto; white-space: pre;\">q0: ───Z────X───\n",
       "       │    │\n",
       "q1: ───nZ───Z───</pre>"
      ],
      "text/plain": [
       "q0: ───Z────X───\n",
       "       │    │\n",
       "q1: ───nZ───Z───"
      ]
     },
     "metadata": {},
     "output_type": "display_data"
    },
    {
     "data": {
      "text/html": [
       "<pre style=\"overflow: auto; white-space: pre;\">q0: ───Z────X────\n",
       "       │    │\n",
       "q1: ───nZ───nX───</pre>"
      ],
      "text/plain": [
       "q0: ───Z────X────\n",
       "       │    │\n",
       "q1: ───nZ───nX───"
      ]
     },
     "metadata": {},
     "output_type": "display_data"
    },
    {
     "data": {
      "text/html": [
       "<pre style=\"overflow: auto; white-space: pre;\">q0: ───Z────X────\n",
       "       │    │\n",
       "q1: ───nZ───nY───</pre>"
      ],
      "text/plain": [
       "q0: ───Z────X────\n",
       "       │    │\n",
       "q1: ───nZ───nY───"
      ]
     },
     "metadata": {},
     "output_type": "display_data"
    },
    {
     "data": {
      "text/html": [
       "<pre style=\"overflow: auto; white-space: pre;\">q0: ───Z────X────\n",
       "       │    │\n",
       "q1: ───nZ───nZ───</pre>"
      ],
      "text/plain": [
       "q0: ───Z────X────\n",
       "       │    │\n",
       "q1: ───nZ───nZ───"
      ]
     },
     "metadata": {},
     "output_type": "display_data"
    },
    {
     "data": {
      "text/html": [
       "<pre style=\"overflow: auto; white-space: pre;\">q0: ───Z────Y───\n",
       "       │    │\n",
       "q1: ───nZ───X───</pre>"
      ],
      "text/plain": [
       "q0: ───Z────Y───\n",
       "       │    │\n",
       "q1: ───nZ───X───"
      ]
     },
     "metadata": {},
     "output_type": "display_data"
    },
    {
     "data": {
      "text/html": [
       "<pre style=\"overflow: auto; white-space: pre;\">q0: ───Z────Y───\n",
       "       │    │\n",
       "q1: ───nZ───Y───</pre>"
      ],
      "text/plain": [
       "q0: ───Z────Y───\n",
       "       │    │\n",
       "q1: ───nZ───Y───"
      ]
     },
     "metadata": {},
     "output_type": "display_data"
    },
    {
     "data": {
      "text/html": [
       "<pre style=\"overflow: auto; white-space: pre;\">q0: ───Z────Y───\n",
       "       │    │\n",
       "q1: ───nZ───Z───</pre>"
      ],
      "text/plain": [
       "q0: ───Z────Y───\n",
       "       │    │\n",
       "q1: ───nZ───Z───"
      ]
     },
     "metadata": {},
     "output_type": "display_data"
    },
    {
     "data": {
      "text/html": [
       "<pre style=\"overflow: auto; white-space: pre;\">q0: ───Z────Y────\n",
       "       │    │\n",
       "q1: ───nZ───nX───</pre>"
      ],
      "text/plain": [
       "q0: ───Z────Y────\n",
       "       │    │\n",
       "q1: ───nZ───nX───"
      ]
     },
     "metadata": {},
     "output_type": "display_data"
    },
    {
     "data": {
      "text/html": [
       "<pre style=\"overflow: auto; white-space: pre;\">q0: ───Z────Y────\n",
       "       │    │\n",
       "q1: ───nZ───nY───</pre>"
      ],
      "text/plain": [
       "q0: ───Z────Y────\n",
       "       │    │\n",
       "q1: ───nZ───nY───"
      ]
     },
     "metadata": {},
     "output_type": "display_data"
    },
    {
     "data": {
      "text/html": [
       "<pre style=\"overflow: auto; white-space: pre;\">q0: ───Z────Y────\n",
       "       │    │\n",
       "q1: ───nZ───nZ───</pre>"
      ],
      "text/plain": [
       "q0: ───Z────Y────\n",
       "       │    │\n",
       "q1: ───nZ───nZ───"
      ]
     },
     "metadata": {},
     "output_type": "display_data"
    },
    {
     "data": {
      "text/html": [
       "<pre style=\"overflow: auto; white-space: pre;\">q0: ───Z────Z───\n",
       "       │    │\n",
       "q1: ───nZ───X───</pre>"
      ],
      "text/plain": [
       "q0: ───Z────Z───\n",
       "       │    │\n",
       "q1: ───nZ───X───"
      ]
     },
     "metadata": {},
     "output_type": "display_data"
    },
    {
     "data": {
      "text/html": [
       "<pre style=\"overflow: auto; white-space: pre;\">q0: ───Z────Z───\n",
       "       │    │\n",
       "q1: ───nZ───Y───</pre>"
      ],
      "text/plain": [
       "q0: ───Z────Z───\n",
       "       │    │\n",
       "q1: ───nZ───Y───"
      ]
     },
     "metadata": {},
     "output_type": "display_data"
    },
    {
     "data": {
      "text/html": [
       "<pre style=\"overflow: auto; white-space: pre;\">q0: ───Z────Z───\n",
       "       │    │\n",
       "q1: ───nZ───Z───</pre>"
      ],
      "text/plain": [
       "q0: ───Z────Z───\n",
       "       │    │\n",
       "q1: ───nZ───Z───"
      ]
     },
     "metadata": {},
     "output_type": "display_data"
    },
    {
     "data": {
      "text/html": [
       "<pre style=\"overflow: auto; white-space: pre;\">q0: ───Z────Z────\n",
       "       │    │\n",
       "q1: ───nZ───nX───</pre>"
      ],
      "text/plain": [
       "q0: ───Z────Z────\n",
       "       │    │\n",
       "q1: ───nZ───nX───"
      ]
     },
     "metadata": {},
     "output_type": "display_data"
    },
    {
     "data": {
      "text/html": [
       "<pre style=\"overflow: auto; white-space: pre;\">q0: ───Z────Z────\n",
       "       │    │\n",
       "q1: ───nZ───nY───</pre>"
      ],
      "text/plain": [
       "q0: ───Z────Z────\n",
       "       │    │\n",
       "q1: ───nZ───nY───"
      ]
     },
     "metadata": {},
     "output_type": "display_data"
    },
    {
     "data": {
      "text/html": [
       "<pre style=\"overflow: auto; white-space: pre;\">q0: ───Z────Z────\n",
       "       │    │\n",
       "q1: ───nZ───nZ───</pre>"
      ],
      "text/plain": [
       "q0: ───Z────Z────\n",
       "       │    │\n",
       "q1: ───nZ───nZ───"
      ]
     },
     "metadata": {},
     "output_type": "display_data"
    },
    {
     "data": {
      "text/html": [
       "<pre style=\"overflow: auto; white-space: pre;\">q0: ───Z────nX───\n",
       "       │    │\n",
       "q1: ───nZ───X────</pre>"
      ],
      "text/plain": [
       "q0: ───Z────nX───\n",
       "       │    │\n",
       "q1: ───nZ───X────"
      ]
     },
     "metadata": {},
     "output_type": "display_data"
    },
    {
     "data": {
      "text/html": [
       "<pre style=\"overflow: auto; white-space: pre;\">q0: ───Z────nX───\n",
       "       │    │\n",
       "q1: ───nZ───Y────</pre>"
      ],
      "text/plain": [
       "q0: ───Z────nX───\n",
       "       │    │\n",
       "q1: ───nZ───Y────"
      ]
     },
     "metadata": {},
     "output_type": "display_data"
    },
    {
     "data": {
      "text/html": [
       "<pre style=\"overflow: auto; white-space: pre;\">q0: ───Z────nX───\n",
       "       │    │\n",
       "q1: ───nZ───Z────</pre>"
      ],
      "text/plain": [
       "q0: ───Z────nX───\n",
       "       │    │\n",
       "q1: ───nZ───Z────"
      ]
     },
     "metadata": {},
     "output_type": "display_data"
    },
    {
     "data": {
      "text/html": [
       "<pre style=\"overflow: auto; white-space: pre;\">q0: ───Z────nX───\n",
       "       │    │\n",
       "q1: ───nZ───nX───</pre>"
      ],
      "text/plain": [
       "q0: ───Z────nX───\n",
       "       │    │\n",
       "q1: ───nZ───nX───"
      ]
     },
     "metadata": {},
     "output_type": "display_data"
    },
    {
     "data": {
      "text/html": [
       "<pre style=\"overflow: auto; white-space: pre;\">q0: ───Z────nX───\n",
       "       │    │\n",
       "q1: ───nZ───nY───</pre>"
      ],
      "text/plain": [
       "q0: ───Z────nX───\n",
       "       │    │\n",
       "q1: ───nZ───nY───"
      ]
     },
     "metadata": {},
     "output_type": "display_data"
    },
    {
     "data": {
      "text/html": [
       "<pre style=\"overflow: auto; white-space: pre;\">q0: ───Z────nX───\n",
       "       │    │\n",
       "q1: ───nZ───nZ───</pre>"
      ],
      "text/plain": [
       "q0: ───Z────nX───\n",
       "       │    │\n",
       "q1: ───nZ───nZ───"
      ]
     },
     "metadata": {},
     "output_type": "display_data"
    },
    {
     "data": {
      "text/html": [
       "<pre style=\"overflow: auto; white-space: pre;\">q0: ───Z────nY───\n",
       "       │    │\n",
       "q1: ───nZ───X────</pre>"
      ],
      "text/plain": [
       "q0: ───Z────nY───\n",
       "       │    │\n",
       "q1: ───nZ───X────"
      ]
     },
     "metadata": {},
     "output_type": "display_data"
    },
    {
     "data": {
      "text/html": [
       "<pre style=\"overflow: auto; white-space: pre;\">q0: ───Z────nY───\n",
       "       │    │\n",
       "q1: ───nZ───Y────</pre>"
      ],
      "text/plain": [
       "q0: ───Z────nY───\n",
       "       │    │\n",
       "q1: ───nZ───Y────"
      ]
     },
     "metadata": {},
     "output_type": "display_data"
    },
    {
     "data": {
      "text/html": [
       "<pre style=\"overflow: auto; white-space: pre;\">q0: ───Z────nY───\n",
       "       │    │\n",
       "q1: ───nZ───Z────</pre>"
      ],
      "text/plain": [
       "q0: ───Z────nY───\n",
       "       │    │\n",
       "q1: ───nZ───Z────"
      ]
     },
     "metadata": {},
     "output_type": "display_data"
    },
    {
     "data": {
      "text/html": [
       "<pre style=\"overflow: auto; white-space: pre;\">q0: ───Z────nY───\n",
       "       │    │\n",
       "q1: ───nZ───nX───</pre>"
      ],
      "text/plain": [
       "q0: ───Z────nY───\n",
       "       │    │\n",
       "q1: ───nZ───nX───"
      ]
     },
     "metadata": {},
     "output_type": "display_data"
    },
    {
     "data": {
      "text/html": [
       "<pre style=\"overflow: auto; white-space: pre;\">q0: ───Z────nY───\n",
       "       │    │\n",
       "q1: ───nZ───nY───</pre>"
      ],
      "text/plain": [
       "q0: ───Z────nY───\n",
       "       │    │\n",
       "q1: ───nZ───nY───"
      ]
     },
     "metadata": {},
     "output_type": "display_data"
    },
    {
     "data": {
      "text/html": [
       "<pre style=\"overflow: auto; white-space: pre;\">q0: ───Z────nY───\n",
       "       │    │\n",
       "q1: ───nZ───nZ───</pre>"
      ],
      "text/plain": [
       "q0: ───Z────nY───\n",
       "       │    │\n",
       "q1: ───nZ───nZ───"
      ]
     },
     "metadata": {},
     "output_type": "display_data"
    },
    {
     "data": {
      "text/html": [
       "<pre style=\"overflow: auto; white-space: pre;\">q0: ───Z────nZ───\n",
       "       │    │\n",
       "q1: ───nZ───X────</pre>"
      ],
      "text/plain": [
       "q0: ───Z────nZ───\n",
       "       │    │\n",
       "q1: ───nZ───X────"
      ]
     },
     "metadata": {},
     "output_type": "display_data"
    },
    {
     "data": {
      "text/html": [
       "<pre style=\"overflow: auto; white-space: pre;\">q0: ───Z────nZ───\n",
       "       │    │\n",
       "q1: ───nZ───Y────</pre>"
      ],
      "text/plain": [
       "q0: ───Z────nZ───\n",
       "       │    │\n",
       "q1: ───nZ───Y────"
      ]
     },
     "metadata": {},
     "output_type": "display_data"
    },
    {
     "data": {
      "text/html": [
       "<pre style=\"overflow: auto; white-space: pre;\">q0: ───Z────nZ───\n",
       "       │    │\n",
       "q1: ───nZ───Z────</pre>"
      ],
      "text/plain": [
       "q0: ───Z────nZ───\n",
       "       │    │\n",
       "q1: ───nZ───Z────"
      ]
     },
     "metadata": {},
     "output_type": "display_data"
    },
    {
     "data": {
      "text/html": [
       "<pre style=\"overflow: auto; white-space: pre;\">q0: ───Z────nZ───\n",
       "       │    │\n",
       "q1: ───nZ───nX───</pre>"
      ],
      "text/plain": [
       "q0: ───Z────nZ───\n",
       "       │    │\n",
       "q1: ───nZ───nX───"
      ]
     },
     "metadata": {},
     "output_type": "display_data"
    },
    {
     "data": {
      "text/html": [
       "<pre style=\"overflow: auto; white-space: pre;\">q0: ───Z────nZ───\n",
       "       │    │\n",
       "q1: ───nZ───nY───</pre>"
      ],
      "text/plain": [
       "q0: ───Z────nZ───\n",
       "       │    │\n",
       "q1: ───nZ───nY───"
      ]
     },
     "metadata": {},
     "output_type": "display_data"
    },
    {
     "data": {
      "text/html": [
       "<pre style=\"overflow: auto; white-space: pre;\">q0: ───Z────nZ───\n",
       "       │    │\n",
       "q1: ───nZ───nZ───</pre>"
      ],
      "text/plain": [
       "q0: ───Z────nZ───\n",
       "       │    │\n",
       "q1: ───nZ───nZ───"
      ]
     },
     "metadata": {},
     "output_type": "display_data"
    },
    {
     "data": {
      "text/html": [
       "<pre style=\"overflow: auto; white-space: pre;\">q0: ───nX───X───\n",
       "       │    │\n",
       "q1: ───X────X───</pre>"
      ],
      "text/plain": [
       "q0: ───nX───X───\n",
       "       │    │\n",
       "q1: ───X────X───"
      ]
     },
     "metadata": {},
     "output_type": "display_data"
    },
    {
     "data": {
      "text/html": [
       "<pre style=\"overflow: auto; white-space: pre;\">q0: ───nX───X───\n",
       "       │    │\n",
       "q1: ───X────Y───</pre>"
      ],
      "text/plain": [
       "q0: ───nX───X───\n",
       "       │    │\n",
       "q1: ───X────Y───"
      ]
     },
     "metadata": {},
     "output_type": "display_data"
    },
    {
     "data": {
      "text/html": [
       "<pre style=\"overflow: auto; white-space: pre;\">q0: ───nX───X───\n",
       "       │    │\n",
       "q1: ───X────Z───</pre>"
      ],
      "text/plain": [
       "q0: ───nX───X───\n",
       "       │    │\n",
       "q1: ───X────Z───"
      ]
     },
     "metadata": {},
     "output_type": "display_data"
    },
    {
     "data": {
      "text/html": [
       "<pre style=\"overflow: auto; white-space: pre;\">q0: ───nX───X────\n",
       "       │    │\n",
       "q1: ───X────nX───</pre>"
      ],
      "text/plain": [
       "q0: ───nX───X────\n",
       "       │    │\n",
       "q1: ───X────nX───"
      ]
     },
     "metadata": {},
     "output_type": "display_data"
    },
    {
     "data": {
      "text/html": [
       "<pre style=\"overflow: auto; white-space: pre;\">q0: ───nX───X────\n",
       "       │    │\n",
       "q1: ───X────nY───</pre>"
      ],
      "text/plain": [
       "q0: ───nX───X────\n",
       "       │    │\n",
       "q1: ───X────nY───"
      ]
     },
     "metadata": {},
     "output_type": "display_data"
    },
    {
     "data": {
      "text/html": [
       "<pre style=\"overflow: auto; white-space: pre;\">q0: ───nX───X────\n",
       "       │    │\n",
       "q1: ───X────nZ───</pre>"
      ],
      "text/plain": [
       "q0: ───nX───X────\n",
       "       │    │\n",
       "q1: ───X────nZ───"
      ]
     },
     "metadata": {},
     "output_type": "display_data"
    },
    {
     "data": {
      "text/html": [
       "<pre style=\"overflow: auto; white-space: pre;\">q0: ───nX───Y───\n",
       "       │    │\n",
       "q1: ───X────X───</pre>"
      ],
      "text/plain": [
       "q0: ───nX───Y───\n",
       "       │    │\n",
       "q1: ───X────X───"
      ]
     },
     "metadata": {},
     "output_type": "display_data"
    },
    {
     "data": {
      "text/html": [
       "<pre style=\"overflow: auto; white-space: pre;\">q0: ───nX───Y───\n",
       "       │    │\n",
       "q1: ───X────Y───</pre>"
      ],
      "text/plain": [
       "q0: ───nX───Y───\n",
       "       │    │\n",
       "q1: ───X────Y───"
      ]
     },
     "metadata": {},
     "output_type": "display_data"
    },
    {
     "data": {
      "text/html": [
       "<pre style=\"overflow: auto; white-space: pre;\">q0: ───nX───Y───\n",
       "       │    │\n",
       "q1: ───X────Z───</pre>"
      ],
      "text/plain": [
       "q0: ───nX───Y───\n",
       "       │    │\n",
       "q1: ───X────Z───"
      ]
     },
     "metadata": {},
     "output_type": "display_data"
    },
    {
     "data": {
      "text/html": [
       "<pre style=\"overflow: auto; white-space: pre;\">q0: ───nX───Y────\n",
       "       │    │\n",
       "q1: ───X────nX───</pre>"
      ],
      "text/plain": [
       "q0: ───nX───Y────\n",
       "       │    │\n",
       "q1: ───X────nX───"
      ]
     },
     "metadata": {},
     "output_type": "display_data"
    },
    {
     "data": {
      "text/html": [
       "<pre style=\"overflow: auto; white-space: pre;\">q0: ───nX───Y────\n",
       "       │    │\n",
       "q1: ───X────nY───</pre>"
      ],
      "text/plain": [
       "q0: ───nX───Y────\n",
       "       │    │\n",
       "q1: ───X────nY───"
      ]
     },
     "metadata": {},
     "output_type": "display_data"
    },
    {
     "data": {
      "text/html": [
       "<pre style=\"overflow: auto; white-space: pre;\">q0: ───nX───Y────\n",
       "       │    │\n",
       "q1: ───X────nZ───</pre>"
      ],
      "text/plain": [
       "q0: ───nX───Y────\n",
       "       │    │\n",
       "q1: ───X────nZ───"
      ]
     },
     "metadata": {},
     "output_type": "display_data"
    },
    {
     "data": {
      "text/html": [
       "<pre style=\"overflow: auto; white-space: pre;\">q0: ───nX───Z───\n",
       "       │    │\n",
       "q1: ───X────X───</pre>"
      ],
      "text/plain": [
       "q0: ───nX───Z───\n",
       "       │    │\n",
       "q1: ───X────X───"
      ]
     },
     "metadata": {},
     "output_type": "display_data"
    },
    {
     "data": {
      "text/html": [
       "<pre style=\"overflow: auto; white-space: pre;\">q0: ───nX───Z───\n",
       "       │    │\n",
       "q1: ───X────Y───</pre>"
      ],
      "text/plain": [
       "q0: ───nX───Z───\n",
       "       │    │\n",
       "q1: ───X────Y───"
      ]
     },
     "metadata": {},
     "output_type": "display_data"
    },
    {
     "data": {
      "text/html": [
       "<pre style=\"overflow: auto; white-space: pre;\">q0: ───nX───Z───\n",
       "       │    │\n",
       "q1: ───X────Z───</pre>"
      ],
      "text/plain": [
       "q0: ───nX───Z───\n",
       "       │    │\n",
       "q1: ───X────Z───"
      ]
     },
     "metadata": {},
     "output_type": "display_data"
    },
    {
     "data": {
      "text/html": [
       "<pre style=\"overflow: auto; white-space: pre;\">q0: ───nX───Z────\n",
       "       │    │\n",
       "q1: ───X────nX───</pre>"
      ],
      "text/plain": [
       "q0: ───nX───Z────\n",
       "       │    │\n",
       "q1: ───X────nX───"
      ]
     },
     "metadata": {},
     "output_type": "display_data"
    },
    {
     "data": {
      "text/html": [
       "<pre style=\"overflow: auto; white-space: pre;\">q0: ───nX───Z────\n",
       "       │    │\n",
       "q1: ───X────nY───</pre>"
      ],
      "text/plain": [
       "q0: ───nX───Z────\n",
       "       │    │\n",
       "q1: ───X────nY───"
      ]
     },
     "metadata": {},
     "output_type": "display_data"
    },
    {
     "data": {
      "text/html": [
       "<pre style=\"overflow: auto; white-space: pre;\">q0: ───nX───Z────\n",
       "       │    │\n",
       "q1: ───X────nZ───</pre>"
      ],
      "text/plain": [
       "q0: ───nX───Z────\n",
       "       │    │\n",
       "q1: ───X────nZ───"
      ]
     },
     "metadata": {},
     "output_type": "display_data"
    },
    {
     "data": {
      "text/html": [
       "<pre style=\"overflow: auto; white-space: pre;\">q0: ───nX───nX───\n",
       "       │    │\n",
       "q1: ───X────X────</pre>"
      ],
      "text/plain": [
       "q0: ───nX───nX───\n",
       "       │    │\n",
       "q1: ───X────X────"
      ]
     },
     "metadata": {},
     "output_type": "display_data"
    },
    {
     "data": {
      "text/html": [
       "<pre style=\"overflow: auto; white-space: pre;\">q0: ───nX───nX───\n",
       "       │    │\n",
       "q1: ───X────Y────</pre>"
      ],
      "text/plain": [
       "q0: ───nX───nX───\n",
       "       │    │\n",
       "q1: ───X────Y────"
      ]
     },
     "metadata": {},
     "output_type": "display_data"
    },
    {
     "data": {
      "text/html": [
       "<pre style=\"overflow: auto; white-space: pre;\">q0: ───nX───nX───\n",
       "       │    │\n",
       "q1: ───X────Z────</pre>"
      ],
      "text/plain": [
       "q0: ───nX───nX───\n",
       "       │    │\n",
       "q1: ───X────Z────"
      ]
     },
     "metadata": {},
     "output_type": "display_data"
    },
    {
     "data": {
      "text/html": [
       "<pre style=\"overflow: auto; white-space: pre;\">q0: ───nX───nX───\n",
       "       │    │\n",
       "q1: ───X────nX───</pre>"
      ],
      "text/plain": [
       "q0: ───nX───nX───\n",
       "       │    │\n",
       "q1: ───X────nX───"
      ]
     },
     "metadata": {},
     "output_type": "display_data"
    },
    {
     "data": {
      "text/html": [
       "<pre style=\"overflow: auto; white-space: pre;\">q0: ───nX───nX───\n",
       "       │    │\n",
       "q1: ───X────nY───</pre>"
      ],
      "text/plain": [
       "q0: ───nX───nX───\n",
       "       │    │\n",
       "q1: ───X────nY───"
      ]
     },
     "metadata": {},
     "output_type": "display_data"
    },
    {
     "data": {
      "text/html": [
       "<pre style=\"overflow: auto; white-space: pre;\">q0: ───nX───nX───\n",
       "       │    │\n",
       "q1: ───X────nZ───</pre>"
      ],
      "text/plain": [
       "q0: ───nX───nX───\n",
       "       │    │\n",
       "q1: ───X────nZ───"
      ]
     },
     "metadata": {},
     "output_type": "display_data"
    },
    {
     "data": {
      "text/html": [
       "<pre style=\"overflow: auto; white-space: pre;\">q0: ───nX───nY───\n",
       "       │    │\n",
       "q1: ───X────X────</pre>"
      ],
      "text/plain": [
       "q0: ───nX───nY───\n",
       "       │    │\n",
       "q1: ───X────X────"
      ]
     },
     "metadata": {},
     "output_type": "display_data"
    },
    {
     "data": {
      "text/html": [
       "<pre style=\"overflow: auto; white-space: pre;\">q0: ───nX───nY───\n",
       "       │    │\n",
       "q1: ───X────Y────</pre>"
      ],
      "text/plain": [
       "q0: ───nX───nY───\n",
       "       │    │\n",
       "q1: ───X────Y────"
      ]
     },
     "metadata": {},
     "output_type": "display_data"
    },
    {
     "data": {
      "text/html": [
       "<pre style=\"overflow: auto; white-space: pre;\">q0: ───nX───nY───\n",
       "       │    │\n",
       "q1: ───X────Z────</pre>"
      ],
      "text/plain": [
       "q0: ───nX───nY───\n",
       "       │    │\n",
       "q1: ───X────Z────"
      ]
     },
     "metadata": {},
     "output_type": "display_data"
    },
    {
     "data": {
      "text/html": [
       "<pre style=\"overflow: auto; white-space: pre;\">q0: ───nX───nY───\n",
       "       │    │\n",
       "q1: ───X────nX───</pre>"
      ],
      "text/plain": [
       "q0: ───nX───nY───\n",
       "       │    │\n",
       "q1: ───X────nX───"
      ]
     },
     "metadata": {},
     "output_type": "display_data"
    },
    {
     "data": {
      "text/html": [
       "<pre style=\"overflow: auto; white-space: pre;\">q0: ───nX───nY───\n",
       "       │    │\n",
       "q1: ───X────nY───</pre>"
      ],
      "text/plain": [
       "q0: ───nX───nY───\n",
       "       │    │\n",
       "q1: ───X────nY───"
      ]
     },
     "metadata": {},
     "output_type": "display_data"
    },
    {
     "data": {
      "text/html": [
       "<pre style=\"overflow: auto; white-space: pre;\">q0: ───nX───nY───\n",
       "       │    │\n",
       "q1: ───X────nZ───</pre>"
      ],
      "text/plain": [
       "q0: ───nX───nY───\n",
       "       │    │\n",
       "q1: ───X────nZ───"
      ]
     },
     "metadata": {},
     "output_type": "display_data"
    },
    {
     "data": {
      "text/html": [
       "<pre style=\"overflow: auto; white-space: pre;\">q0: ───nX───nZ───\n",
       "       │    │\n",
       "q1: ───X────X────</pre>"
      ],
      "text/plain": [
       "q0: ───nX───nZ───\n",
       "       │    │\n",
       "q1: ───X────X────"
      ]
     },
     "metadata": {},
     "output_type": "display_data"
    },
    {
     "data": {
      "text/html": [
       "<pre style=\"overflow: auto; white-space: pre;\">q0: ───nX───nZ───\n",
       "       │    │\n",
       "q1: ───X────Y────</pre>"
      ],
      "text/plain": [
       "q0: ───nX───nZ───\n",
       "       │    │\n",
       "q1: ───X────Y────"
      ]
     },
     "metadata": {},
     "output_type": "display_data"
    },
    {
     "data": {
      "text/html": [
       "<pre style=\"overflow: auto; white-space: pre;\">q0: ───nX───nZ───\n",
       "       │    │\n",
       "q1: ───X────Z────</pre>"
      ],
      "text/plain": [
       "q0: ───nX───nZ───\n",
       "       │    │\n",
       "q1: ───X────Z────"
      ]
     },
     "metadata": {},
     "output_type": "display_data"
    },
    {
     "data": {
      "text/html": [
       "<pre style=\"overflow: auto; white-space: pre;\">q0: ───nX───nZ───\n",
       "       │    │\n",
       "q1: ───X────nX───</pre>"
      ],
      "text/plain": [
       "q0: ───nX───nZ───\n",
       "       │    │\n",
       "q1: ───X────nX───"
      ]
     },
     "metadata": {},
     "output_type": "display_data"
    },
    {
     "data": {
      "text/html": [
       "<pre style=\"overflow: auto; white-space: pre;\">q0: ───nX───nZ───\n",
       "       │    │\n",
       "q1: ───X────nY───</pre>"
      ],
      "text/plain": [
       "q0: ───nX───nZ───\n",
       "       │    │\n",
       "q1: ───X────nY───"
      ]
     },
     "metadata": {},
     "output_type": "display_data"
    },
    {
     "data": {
      "text/html": [
       "<pre style=\"overflow: auto; white-space: pre;\">q0: ───nX───nZ───\n",
       "       │    │\n",
       "q1: ───X────nZ───</pre>"
      ],
      "text/plain": [
       "q0: ───nX───nZ───\n",
       "       │    │\n",
       "q1: ───X────nZ───"
      ]
     },
     "metadata": {},
     "output_type": "display_data"
    },
    {
     "data": {
      "text/html": [
       "<pre style=\"overflow: auto; white-space: pre;\">q0: ───nX───X───\n",
       "       │    │\n",
       "q1: ───Y────X───</pre>"
      ],
      "text/plain": [
       "q0: ───nX───X───\n",
       "       │    │\n",
       "q1: ───Y────X───"
      ]
     },
     "metadata": {},
     "output_type": "display_data"
    },
    {
     "data": {
      "text/html": [
       "<pre style=\"overflow: auto; white-space: pre;\">q0: ───nX───X───\n",
       "       │    │\n",
       "q1: ───Y────Y───</pre>"
      ],
      "text/plain": [
       "q0: ───nX───X───\n",
       "       │    │\n",
       "q1: ───Y────Y───"
      ]
     },
     "metadata": {},
     "output_type": "display_data"
    },
    {
     "data": {
      "text/html": [
       "<pre style=\"overflow: auto; white-space: pre;\">q0: ───nX───X───\n",
       "       │    │\n",
       "q1: ───Y────Z───</pre>"
      ],
      "text/plain": [
       "q0: ───nX───X───\n",
       "       │    │\n",
       "q1: ───Y────Z───"
      ]
     },
     "metadata": {},
     "output_type": "display_data"
    },
    {
     "data": {
      "text/html": [
       "<pre style=\"overflow: auto; white-space: pre;\">q0: ───nX───X────\n",
       "       │    │\n",
       "q1: ───Y────nX───</pre>"
      ],
      "text/plain": [
       "q0: ───nX───X────\n",
       "       │    │\n",
       "q1: ───Y────nX───"
      ]
     },
     "metadata": {},
     "output_type": "display_data"
    },
    {
     "data": {
      "text/html": [
       "<pre style=\"overflow: auto; white-space: pre;\">q0: ───nX───X────\n",
       "       │    │\n",
       "q1: ───Y────nY───</pre>"
      ],
      "text/plain": [
       "q0: ───nX───X────\n",
       "       │    │\n",
       "q1: ───Y────nY───"
      ]
     },
     "metadata": {},
     "output_type": "display_data"
    },
    {
     "data": {
      "text/html": [
       "<pre style=\"overflow: auto; white-space: pre;\">q0: ───nX───X────\n",
       "       │    │\n",
       "q1: ───Y────nZ───</pre>"
      ],
      "text/plain": [
       "q0: ───nX───X────\n",
       "       │    │\n",
       "q1: ───Y────nZ───"
      ]
     },
     "metadata": {},
     "output_type": "display_data"
    },
    {
     "data": {
      "text/html": [
       "<pre style=\"overflow: auto; white-space: pre;\">q0: ───nX───Y───\n",
       "       │    │\n",
       "q1: ───Y────X───</pre>"
      ],
      "text/plain": [
       "q0: ───nX───Y───\n",
       "       │    │\n",
       "q1: ───Y────X───"
      ]
     },
     "metadata": {},
     "output_type": "display_data"
    },
    {
     "data": {
      "text/html": [
       "<pre style=\"overflow: auto; white-space: pre;\">q0: ───nX───Y───\n",
       "       │    │\n",
       "q1: ───Y────Y───</pre>"
      ],
      "text/plain": [
       "q0: ───nX───Y───\n",
       "       │    │\n",
       "q1: ───Y────Y───"
      ]
     },
     "metadata": {},
     "output_type": "display_data"
    },
    {
     "data": {
      "text/html": [
       "<pre style=\"overflow: auto; white-space: pre;\">q0: ───nX───Y───\n",
       "       │    │\n",
       "q1: ───Y────Z───</pre>"
      ],
      "text/plain": [
       "q0: ───nX───Y───\n",
       "       │    │\n",
       "q1: ───Y────Z───"
      ]
     },
     "metadata": {},
     "output_type": "display_data"
    },
    {
     "data": {
      "text/html": [
       "<pre style=\"overflow: auto; white-space: pre;\">q0: ───nX───Y────\n",
       "       │    │\n",
       "q1: ───Y────nX───</pre>"
      ],
      "text/plain": [
       "q0: ───nX───Y────\n",
       "       │    │\n",
       "q1: ───Y────nX───"
      ]
     },
     "metadata": {},
     "output_type": "display_data"
    },
    {
     "data": {
      "text/html": [
       "<pre style=\"overflow: auto; white-space: pre;\">q0: ───nX───Y────\n",
       "       │    │\n",
       "q1: ───Y────nY───</pre>"
      ],
      "text/plain": [
       "q0: ───nX───Y────\n",
       "       │    │\n",
       "q1: ───Y────nY───"
      ]
     },
     "metadata": {},
     "output_type": "display_data"
    },
    {
     "data": {
      "text/html": [
       "<pre style=\"overflow: auto; white-space: pre;\">q0: ───nX───Y────\n",
       "       │    │\n",
       "q1: ───Y────nZ───</pre>"
      ],
      "text/plain": [
       "q0: ───nX───Y────\n",
       "       │    │\n",
       "q1: ───Y────nZ───"
      ]
     },
     "metadata": {},
     "output_type": "display_data"
    },
    {
     "data": {
      "text/html": [
       "<pre style=\"overflow: auto; white-space: pre;\">q0: ───nX───Z───\n",
       "       │    │\n",
       "q1: ───Y────X───</pre>"
      ],
      "text/plain": [
       "q0: ───nX───Z───\n",
       "       │    │\n",
       "q1: ───Y────X───"
      ]
     },
     "metadata": {},
     "output_type": "display_data"
    },
    {
     "data": {
      "text/html": [
       "<pre style=\"overflow: auto; white-space: pre;\">q0: ───nX───Z───\n",
       "       │    │\n",
       "q1: ───Y────Y───</pre>"
      ],
      "text/plain": [
       "q0: ───nX───Z───\n",
       "       │    │\n",
       "q1: ───Y────Y───"
      ]
     },
     "metadata": {},
     "output_type": "display_data"
    },
    {
     "data": {
      "text/html": [
       "<pre style=\"overflow: auto; white-space: pre;\">q0: ───nX───Z───\n",
       "       │    │\n",
       "q1: ───Y────Z───</pre>"
      ],
      "text/plain": [
       "q0: ───nX───Z───\n",
       "       │    │\n",
       "q1: ───Y────Z───"
      ]
     },
     "metadata": {},
     "output_type": "display_data"
    },
    {
     "data": {
      "text/html": [
       "<pre style=\"overflow: auto; white-space: pre;\">q0: ───nX───Z────\n",
       "       │    │\n",
       "q1: ───Y────nX───</pre>"
      ],
      "text/plain": [
       "q0: ───nX───Z────\n",
       "       │    │\n",
       "q1: ───Y────nX───"
      ]
     },
     "metadata": {},
     "output_type": "display_data"
    },
    {
     "data": {
      "text/html": [
       "<pre style=\"overflow: auto; white-space: pre;\">q0: ───nX───Z────\n",
       "       │    │\n",
       "q1: ───Y────nY───</pre>"
      ],
      "text/plain": [
       "q0: ───nX───Z────\n",
       "       │    │\n",
       "q1: ───Y────nY───"
      ]
     },
     "metadata": {},
     "output_type": "display_data"
    },
    {
     "data": {
      "text/html": [
       "<pre style=\"overflow: auto; white-space: pre;\">q0: ───nX───Z────\n",
       "       │    │\n",
       "q1: ───Y────nZ───</pre>"
      ],
      "text/plain": [
       "q0: ───nX───Z────\n",
       "       │    │\n",
       "q1: ───Y────nZ───"
      ]
     },
     "metadata": {},
     "output_type": "display_data"
    },
    {
     "data": {
      "text/html": [
       "<pre style=\"overflow: auto; white-space: pre;\">q0: ───nX───nX───\n",
       "       │    │\n",
       "q1: ───Y────X────</pre>"
      ],
      "text/plain": [
       "q0: ───nX───nX───\n",
       "       │    │\n",
       "q1: ───Y────X────"
      ]
     },
     "metadata": {},
     "output_type": "display_data"
    },
    {
     "data": {
      "text/html": [
       "<pre style=\"overflow: auto; white-space: pre;\">q0: ───nX───nX───\n",
       "       │    │\n",
       "q1: ───Y────Y────</pre>"
      ],
      "text/plain": [
       "q0: ───nX───nX───\n",
       "       │    │\n",
       "q1: ───Y────Y────"
      ]
     },
     "metadata": {},
     "output_type": "display_data"
    },
    {
     "data": {
      "text/html": [
       "<pre style=\"overflow: auto; white-space: pre;\">q0: ───nX───nX───\n",
       "       │    │\n",
       "q1: ───Y────Z────</pre>"
      ],
      "text/plain": [
       "q0: ───nX───nX───\n",
       "       │    │\n",
       "q1: ───Y────Z────"
      ]
     },
     "metadata": {},
     "output_type": "display_data"
    },
    {
     "data": {
      "text/html": [
       "<pre style=\"overflow: auto; white-space: pre;\">q0: ───nX───nX───\n",
       "       │    │\n",
       "q1: ───Y────nX───</pre>"
      ],
      "text/plain": [
       "q0: ───nX───nX───\n",
       "       │    │\n",
       "q1: ───Y────nX───"
      ]
     },
     "metadata": {},
     "output_type": "display_data"
    },
    {
     "data": {
      "text/html": [
       "<pre style=\"overflow: auto; white-space: pre;\">q0: ───nX───nX───\n",
       "       │    │\n",
       "q1: ───Y────nY───</pre>"
      ],
      "text/plain": [
       "q0: ───nX───nX───\n",
       "       │    │\n",
       "q1: ───Y────nY───"
      ]
     },
     "metadata": {},
     "output_type": "display_data"
    },
    {
     "data": {
      "text/html": [
       "<pre style=\"overflow: auto; white-space: pre;\">q0: ───nX───nX───\n",
       "       │    │\n",
       "q1: ───Y────nZ───</pre>"
      ],
      "text/plain": [
       "q0: ───nX───nX───\n",
       "       │    │\n",
       "q1: ───Y────nZ───"
      ]
     },
     "metadata": {},
     "output_type": "display_data"
    },
    {
     "data": {
      "text/html": [
       "<pre style=\"overflow: auto; white-space: pre;\">q0: ───nX───nY───\n",
       "       │    │\n",
       "q1: ───Y────X────</pre>"
      ],
      "text/plain": [
       "q0: ───nX───nY───\n",
       "       │    │\n",
       "q1: ───Y────X────"
      ]
     },
     "metadata": {},
     "output_type": "display_data"
    },
    {
     "data": {
      "text/html": [
       "<pre style=\"overflow: auto; white-space: pre;\">q0: ───nX───nY───\n",
       "       │    │\n",
       "q1: ───Y────Y────</pre>"
      ],
      "text/plain": [
       "q0: ───nX───nY───\n",
       "       │    │\n",
       "q1: ───Y────Y────"
      ]
     },
     "metadata": {},
     "output_type": "display_data"
    },
    {
     "data": {
      "text/html": [
       "<pre style=\"overflow: auto; white-space: pre;\">q0: ───nX───nY───\n",
       "       │    │\n",
       "q1: ───Y────Z────</pre>"
      ],
      "text/plain": [
       "q0: ───nX───nY───\n",
       "       │    │\n",
       "q1: ───Y────Z────"
      ]
     },
     "metadata": {},
     "output_type": "display_data"
    },
    {
     "data": {
      "text/html": [
       "<pre style=\"overflow: auto; white-space: pre;\">q0: ───nX───nY───\n",
       "       │    │\n",
       "q1: ───Y────nX───</pre>"
      ],
      "text/plain": [
       "q0: ───nX───nY───\n",
       "       │    │\n",
       "q1: ───Y────nX───"
      ]
     },
     "metadata": {},
     "output_type": "display_data"
    },
    {
     "data": {
      "text/html": [
       "<pre style=\"overflow: auto; white-space: pre;\">q0: ───nX───nY───\n",
       "       │    │\n",
       "q1: ───Y────nY───</pre>"
      ],
      "text/plain": [
       "q0: ───nX───nY───\n",
       "       │    │\n",
       "q1: ───Y────nY───"
      ]
     },
     "metadata": {},
     "output_type": "display_data"
    },
    {
     "data": {
      "text/html": [
       "<pre style=\"overflow: auto; white-space: pre;\">q0: ───nX───nY───\n",
       "       │    │\n",
       "q1: ───Y────nZ───</pre>"
      ],
      "text/plain": [
       "q0: ───nX───nY───\n",
       "       │    │\n",
       "q1: ───Y────nZ───"
      ]
     },
     "metadata": {},
     "output_type": "display_data"
    },
    {
     "data": {
      "text/html": [
       "<pre style=\"overflow: auto; white-space: pre;\">q0: ───nX───nZ───\n",
       "       │    │\n",
       "q1: ───Y────X────</pre>"
      ],
      "text/plain": [
       "q0: ───nX───nZ───\n",
       "       │    │\n",
       "q1: ───Y────X────"
      ]
     },
     "metadata": {},
     "output_type": "display_data"
    },
    {
     "data": {
      "text/html": [
       "<pre style=\"overflow: auto; white-space: pre;\">q0: ───nX───nZ───\n",
       "       │    │\n",
       "q1: ───Y────Y────</pre>"
      ],
      "text/plain": [
       "q0: ───nX───nZ───\n",
       "       │    │\n",
       "q1: ───Y────Y────"
      ]
     },
     "metadata": {},
     "output_type": "display_data"
    },
    {
     "data": {
      "text/html": [
       "<pre style=\"overflow: auto; white-space: pre;\">q0: ───nX───nZ───\n",
       "       │    │\n",
       "q1: ───Y────Z────</pre>"
      ],
      "text/plain": [
       "q0: ───nX───nZ───\n",
       "       │    │\n",
       "q1: ───Y────Z────"
      ]
     },
     "metadata": {},
     "output_type": "display_data"
    },
    {
     "data": {
      "text/html": [
       "<pre style=\"overflow: auto; white-space: pre;\">q0: ───nX───nZ───\n",
       "       │    │\n",
       "q1: ───Y────nX───</pre>"
      ],
      "text/plain": [
       "q0: ───nX───nZ───\n",
       "       │    │\n",
       "q1: ───Y────nX───"
      ]
     },
     "metadata": {},
     "output_type": "display_data"
    },
    {
     "data": {
      "text/html": [
       "<pre style=\"overflow: auto; white-space: pre;\">q0: ───nX───nZ───\n",
       "       │    │\n",
       "q1: ───Y────nY───</pre>"
      ],
      "text/plain": [
       "q0: ───nX───nZ───\n",
       "       │    │\n",
       "q1: ───Y────nY───"
      ]
     },
     "metadata": {},
     "output_type": "display_data"
    },
    {
     "data": {
      "text/html": [
       "<pre style=\"overflow: auto; white-space: pre;\">q0: ───nX───nZ───\n",
       "       │    │\n",
       "q1: ───Y────nZ───</pre>"
      ],
      "text/plain": [
       "q0: ───nX───nZ───\n",
       "       │    │\n",
       "q1: ───Y────nZ───"
      ]
     },
     "metadata": {},
     "output_type": "display_data"
    },
    {
     "data": {
      "text/html": [
       "<pre style=\"overflow: auto; white-space: pre;\">q0: ───nX───X───\n",
       "       │    │\n",
       "q1: ───Z────X───</pre>"
      ],
      "text/plain": [
       "q0: ───nX───X───\n",
       "       │    │\n",
       "q1: ───Z────X───"
      ]
     },
     "metadata": {},
     "output_type": "display_data"
    },
    {
     "data": {
      "text/html": [
       "<pre style=\"overflow: auto; white-space: pre;\">q0: ───nX───X───\n",
       "       │    │\n",
       "q1: ───Z────Y───</pre>"
      ],
      "text/plain": [
       "q0: ───nX───X───\n",
       "       │    │\n",
       "q1: ───Z────Y───"
      ]
     },
     "metadata": {},
     "output_type": "display_data"
    },
    {
     "data": {
      "text/html": [
       "<pre style=\"overflow: auto; white-space: pre;\">q0: ───nX───X───\n",
       "       │    │\n",
       "q1: ───Z────Z───</pre>"
      ],
      "text/plain": [
       "q0: ───nX───X───\n",
       "       │    │\n",
       "q1: ───Z────Z───"
      ]
     },
     "metadata": {},
     "output_type": "display_data"
    },
    {
     "data": {
      "text/html": [
       "<pre style=\"overflow: auto; white-space: pre;\">q0: ───nX───X────\n",
       "       │    │\n",
       "q1: ───Z────nX───</pre>"
      ],
      "text/plain": [
       "q0: ───nX───X────\n",
       "       │    │\n",
       "q1: ───Z────nX───"
      ]
     },
     "metadata": {},
     "output_type": "display_data"
    },
    {
     "data": {
      "text/html": [
       "<pre style=\"overflow: auto; white-space: pre;\">q0: ───nX───X────\n",
       "       │    │\n",
       "q1: ───Z────nY───</pre>"
      ],
      "text/plain": [
       "q0: ───nX───X────\n",
       "       │    │\n",
       "q1: ───Z────nY───"
      ]
     },
     "metadata": {},
     "output_type": "display_data"
    },
    {
     "data": {
      "text/html": [
       "<pre style=\"overflow: auto; white-space: pre;\">q0: ───nX───X────\n",
       "       │    │\n",
       "q1: ───Z────nZ───</pre>"
      ],
      "text/plain": [
       "q0: ───nX───X────\n",
       "       │    │\n",
       "q1: ───Z────nZ───"
      ]
     },
     "metadata": {},
     "output_type": "display_data"
    },
    {
     "data": {
      "text/html": [
       "<pre style=\"overflow: auto; white-space: pre;\">q0: ───nX───Y───\n",
       "       │    │\n",
       "q1: ───Z────X───</pre>"
      ],
      "text/plain": [
       "q0: ───nX───Y───\n",
       "       │    │\n",
       "q1: ───Z────X───"
      ]
     },
     "metadata": {},
     "output_type": "display_data"
    },
    {
     "data": {
      "text/html": [
       "<pre style=\"overflow: auto; white-space: pre;\">q0: ───nX───Y───\n",
       "       │    │\n",
       "q1: ───Z────Y───</pre>"
      ],
      "text/plain": [
       "q0: ───nX───Y───\n",
       "       │    │\n",
       "q1: ───Z────Y───"
      ]
     },
     "metadata": {},
     "output_type": "display_data"
    },
    {
     "data": {
      "text/html": [
       "<pre style=\"overflow: auto; white-space: pre;\">q0: ───nX───Y───\n",
       "       │    │\n",
       "q1: ───Z────Z───</pre>"
      ],
      "text/plain": [
       "q0: ───nX───Y───\n",
       "       │    │\n",
       "q1: ───Z────Z───"
      ]
     },
     "metadata": {},
     "output_type": "display_data"
    },
    {
     "data": {
      "text/html": [
       "<pre style=\"overflow: auto; white-space: pre;\">q0: ───nX───Y────\n",
       "       │    │\n",
       "q1: ───Z────nX───</pre>"
      ],
      "text/plain": [
       "q0: ───nX───Y────\n",
       "       │    │\n",
       "q1: ───Z────nX───"
      ]
     },
     "metadata": {},
     "output_type": "display_data"
    },
    {
     "data": {
      "text/html": [
       "<pre style=\"overflow: auto; white-space: pre;\">q0: ───nX───Y────\n",
       "       │    │\n",
       "q1: ───Z────nY───</pre>"
      ],
      "text/plain": [
       "q0: ───nX───Y────\n",
       "       │    │\n",
       "q1: ───Z────nY───"
      ]
     },
     "metadata": {},
     "output_type": "display_data"
    },
    {
     "data": {
      "text/html": [
       "<pre style=\"overflow: auto; white-space: pre;\">q0: ───nX───Y────\n",
       "       │    │\n",
       "q1: ───Z────nZ───</pre>"
      ],
      "text/plain": [
       "q0: ───nX───Y────\n",
       "       │    │\n",
       "q1: ───Z────nZ───"
      ]
     },
     "metadata": {},
     "output_type": "display_data"
    },
    {
     "data": {
      "text/html": [
       "<pre style=\"overflow: auto; white-space: pre;\">q0: ───nX───Z───\n",
       "       │    │\n",
       "q1: ───Z────X───</pre>"
      ],
      "text/plain": [
       "q0: ───nX───Z───\n",
       "       │    │\n",
       "q1: ───Z────X───"
      ]
     },
     "metadata": {},
     "output_type": "display_data"
    },
    {
     "data": {
      "text/html": [
       "<pre style=\"overflow: auto; white-space: pre;\">q0: ───nX───Z───\n",
       "       │    │\n",
       "q1: ───Z────Y───</pre>"
      ],
      "text/plain": [
       "q0: ───nX───Z───\n",
       "       │    │\n",
       "q1: ───Z────Y───"
      ]
     },
     "metadata": {},
     "output_type": "display_data"
    },
    {
     "data": {
      "text/html": [
       "<pre style=\"overflow: auto; white-space: pre;\">q0: ───nX───Z───\n",
       "       │    │\n",
       "q1: ───Z────Z───</pre>"
      ],
      "text/plain": [
       "q0: ───nX───Z───\n",
       "       │    │\n",
       "q1: ───Z────Z───"
      ]
     },
     "metadata": {},
     "output_type": "display_data"
    },
    {
     "data": {
      "text/html": [
       "<pre style=\"overflow: auto; white-space: pre;\">q0: ───nX───Z────\n",
       "       │    │\n",
       "q1: ───Z────nX───</pre>"
      ],
      "text/plain": [
       "q0: ───nX───Z────\n",
       "       │    │\n",
       "q1: ───Z────nX───"
      ]
     },
     "metadata": {},
     "output_type": "display_data"
    },
    {
     "data": {
      "text/html": [
       "<pre style=\"overflow: auto; white-space: pre;\">q0: ───nX───Z────\n",
       "       │    │\n",
       "q1: ───Z────nY───</pre>"
      ],
      "text/plain": [
       "q0: ───nX───Z────\n",
       "       │    │\n",
       "q1: ───Z────nY───"
      ]
     },
     "metadata": {},
     "output_type": "display_data"
    },
    {
     "data": {
      "text/html": [
       "<pre style=\"overflow: auto; white-space: pre;\">q0: ───nX───Z────\n",
       "       │    │\n",
       "q1: ───Z────nZ───</pre>"
      ],
      "text/plain": [
       "q0: ───nX───Z────\n",
       "       │    │\n",
       "q1: ───Z────nZ───"
      ]
     },
     "metadata": {},
     "output_type": "display_data"
    },
    {
     "data": {
      "text/html": [
       "<pre style=\"overflow: auto; white-space: pre;\">q0: ───nX───nX───\n",
       "       │    │\n",
       "q1: ───Z────X────</pre>"
      ],
      "text/plain": [
       "q0: ───nX───nX───\n",
       "       │    │\n",
       "q1: ───Z────X────"
      ]
     },
     "metadata": {},
     "output_type": "display_data"
    },
    {
     "data": {
      "text/html": [
       "<pre style=\"overflow: auto; white-space: pre;\">q0: ───nX───nX───\n",
       "       │    │\n",
       "q1: ───Z────Y────</pre>"
      ],
      "text/plain": [
       "q0: ───nX───nX───\n",
       "       │    │\n",
       "q1: ───Z────Y────"
      ]
     },
     "metadata": {},
     "output_type": "display_data"
    },
    {
     "data": {
      "text/html": [
       "<pre style=\"overflow: auto; white-space: pre;\">q0: ───nX───nX───\n",
       "       │    │\n",
       "q1: ───Z────Z────</pre>"
      ],
      "text/plain": [
       "q0: ───nX───nX───\n",
       "       │    │\n",
       "q1: ───Z────Z────"
      ]
     },
     "metadata": {},
     "output_type": "display_data"
    },
    {
     "data": {
      "text/html": [
       "<pre style=\"overflow: auto; white-space: pre;\">q0: ───nX───nX───\n",
       "       │    │\n",
       "q1: ───Z────nX───</pre>"
      ],
      "text/plain": [
       "q0: ───nX───nX───\n",
       "       │    │\n",
       "q1: ───Z────nX───"
      ]
     },
     "metadata": {},
     "output_type": "display_data"
    },
    {
     "data": {
      "text/html": [
       "<pre style=\"overflow: auto; white-space: pre;\">q0: ───nX───nX───\n",
       "       │    │\n",
       "q1: ───Z────nY───</pre>"
      ],
      "text/plain": [
       "q0: ───nX───nX───\n",
       "       │    │\n",
       "q1: ───Z────nY───"
      ]
     },
     "metadata": {},
     "output_type": "display_data"
    },
    {
     "data": {
      "text/html": [
       "<pre style=\"overflow: auto; white-space: pre;\">q0: ───nX───nX───\n",
       "       │    │\n",
       "q1: ───Z────nZ───</pre>"
      ],
      "text/plain": [
       "q0: ───nX───nX───\n",
       "       │    │\n",
       "q1: ───Z────nZ───"
      ]
     },
     "metadata": {},
     "output_type": "display_data"
    },
    {
     "data": {
      "text/html": [
       "<pre style=\"overflow: auto; white-space: pre;\">q0: ───nX───nY───\n",
       "       │    │\n",
       "q1: ───Z────X────</pre>"
      ],
      "text/plain": [
       "q0: ───nX───nY───\n",
       "       │    │\n",
       "q1: ───Z────X────"
      ]
     },
     "metadata": {},
     "output_type": "display_data"
    },
    {
     "data": {
      "text/html": [
       "<pre style=\"overflow: auto; white-space: pre;\">q0: ───nX───nY───\n",
       "       │    │\n",
       "q1: ───Z────Y────</pre>"
      ],
      "text/plain": [
       "q0: ───nX───nY───\n",
       "       │    │\n",
       "q1: ───Z────Y────"
      ]
     },
     "metadata": {},
     "output_type": "display_data"
    },
    {
     "data": {
      "text/html": [
       "<pre style=\"overflow: auto; white-space: pre;\">q0: ───nX───nY───\n",
       "       │    │\n",
       "q1: ───Z────Z────</pre>"
      ],
      "text/plain": [
       "q0: ───nX───nY───\n",
       "       │    │\n",
       "q1: ───Z────Z────"
      ]
     },
     "metadata": {},
     "output_type": "display_data"
    },
    {
     "data": {
      "text/html": [
       "<pre style=\"overflow: auto; white-space: pre;\">q0: ───nX───nY───\n",
       "       │    │\n",
       "q1: ───Z────nX───</pre>"
      ],
      "text/plain": [
       "q0: ───nX───nY───\n",
       "       │    │\n",
       "q1: ───Z────nX───"
      ]
     },
     "metadata": {},
     "output_type": "display_data"
    },
    {
     "data": {
      "text/html": [
       "<pre style=\"overflow: auto; white-space: pre;\">q0: ───nX───nY───\n",
       "       │    │\n",
       "q1: ───Z────nY───</pre>"
      ],
      "text/plain": [
       "q0: ───nX───nY───\n",
       "       │    │\n",
       "q1: ───Z────nY───"
      ]
     },
     "metadata": {},
     "output_type": "display_data"
    },
    {
     "data": {
      "text/html": [
       "<pre style=\"overflow: auto; white-space: pre;\">q0: ───nX───nY───\n",
       "       │    │\n",
       "q1: ───Z────nZ───</pre>"
      ],
      "text/plain": [
       "q0: ───nX───nY───\n",
       "       │    │\n",
       "q1: ───Z────nZ───"
      ]
     },
     "metadata": {},
     "output_type": "display_data"
    },
    {
     "data": {
      "text/html": [
       "<pre style=\"overflow: auto; white-space: pre;\">q0: ───nX───nZ───\n",
       "       │    │\n",
       "q1: ───Z────X────</pre>"
      ],
      "text/plain": [
       "q0: ───nX───nZ───\n",
       "       │    │\n",
       "q1: ───Z────X────"
      ]
     },
     "metadata": {},
     "output_type": "display_data"
    },
    {
     "data": {
      "text/html": [
       "<pre style=\"overflow: auto; white-space: pre;\">q0: ───nX───nZ───\n",
       "       │    │\n",
       "q1: ───Z────Y────</pre>"
      ],
      "text/plain": [
       "q0: ───nX───nZ───\n",
       "       │    │\n",
       "q1: ───Z────Y────"
      ]
     },
     "metadata": {},
     "output_type": "display_data"
    },
    {
     "data": {
      "text/html": [
       "<pre style=\"overflow: auto; white-space: pre;\">q0: ───nX───nZ───\n",
       "       │    │\n",
       "q1: ───Z────Z────</pre>"
      ],
      "text/plain": [
       "q0: ───nX───nZ───\n",
       "       │    │\n",
       "q1: ───Z────Z────"
      ]
     },
     "metadata": {},
     "output_type": "display_data"
    },
    {
     "data": {
      "text/html": [
       "<pre style=\"overflow: auto; white-space: pre;\">q0: ───nX───nZ───\n",
       "       │    │\n",
       "q1: ───Z────nX───</pre>"
      ],
      "text/plain": [
       "q0: ───nX───nZ───\n",
       "       │    │\n",
       "q1: ───Z────nX───"
      ]
     },
     "metadata": {},
     "output_type": "display_data"
    },
    {
     "data": {
      "text/html": [
       "<pre style=\"overflow: auto; white-space: pre;\">q0: ───nX───nZ───\n",
       "       │    │\n",
       "q1: ───Z────nY───</pre>"
      ],
      "text/plain": [
       "q0: ───nX───nZ───\n",
       "       │    │\n",
       "q1: ───Z────nY───"
      ]
     },
     "metadata": {},
     "output_type": "display_data"
    },
    {
     "data": {
      "text/html": [
       "<pre style=\"overflow: auto; white-space: pre;\">q0: ───nX───nZ───\n",
       "       │    │\n",
       "q1: ───Z────nZ───</pre>"
      ],
      "text/plain": [
       "q0: ───nX───nZ───\n",
       "       │    │\n",
       "q1: ───Z────nZ───"
      ]
     },
     "metadata": {},
     "output_type": "display_data"
    },
    {
     "data": {
      "text/html": [
       "<pre style=\"overflow: auto; white-space: pre;\">q0: ───nX───X───\n",
       "       │    │\n",
       "q1: ───nX───X───</pre>"
      ],
      "text/plain": [
       "q0: ───nX───X───\n",
       "       │    │\n",
       "q1: ───nX───X───"
      ]
     },
     "metadata": {},
     "output_type": "display_data"
    },
    {
     "data": {
      "text/html": [
       "<pre style=\"overflow: auto; white-space: pre;\">q0: ───nX───X───\n",
       "       │    │\n",
       "q1: ───nX───Y───</pre>"
      ],
      "text/plain": [
       "q0: ───nX───X───\n",
       "       │    │\n",
       "q1: ───nX───Y───"
      ]
     },
     "metadata": {},
     "output_type": "display_data"
    },
    {
     "data": {
      "text/html": [
       "<pre style=\"overflow: auto; white-space: pre;\">q0: ───nX───X───\n",
       "       │    │\n",
       "q1: ───nX───Z───</pre>"
      ],
      "text/plain": [
       "q0: ───nX───X───\n",
       "       │    │\n",
       "q1: ───nX───Z───"
      ]
     },
     "metadata": {},
     "output_type": "display_data"
    },
    {
     "data": {
      "text/html": [
       "<pre style=\"overflow: auto; white-space: pre;\">q0: ───nX───X────\n",
       "       │    │\n",
       "q1: ───nX───nX───</pre>"
      ],
      "text/plain": [
       "q0: ───nX───X────\n",
       "       │    │\n",
       "q1: ───nX───nX───"
      ]
     },
     "metadata": {},
     "output_type": "display_data"
    },
    {
     "data": {
      "text/html": [
       "<pre style=\"overflow: auto; white-space: pre;\">q0: ───nX───X────\n",
       "       │    │\n",
       "q1: ───nX───nY───</pre>"
      ],
      "text/plain": [
       "q0: ───nX───X────\n",
       "       │    │\n",
       "q1: ───nX───nY───"
      ]
     },
     "metadata": {},
     "output_type": "display_data"
    },
    {
     "data": {
      "text/html": [
       "<pre style=\"overflow: auto; white-space: pre;\">q0: ───nX───X────\n",
       "       │    │\n",
       "q1: ───nX───nZ───</pre>"
      ],
      "text/plain": [
       "q0: ───nX───X────\n",
       "       │    │\n",
       "q1: ───nX───nZ───"
      ]
     },
     "metadata": {},
     "output_type": "display_data"
    },
    {
     "data": {
      "text/html": [
       "<pre style=\"overflow: auto; white-space: pre;\">q0: ───nX───Y───\n",
       "       │    │\n",
       "q1: ───nX───X───</pre>"
      ],
      "text/plain": [
       "q0: ───nX───Y───\n",
       "       │    │\n",
       "q1: ───nX───X───"
      ]
     },
     "metadata": {},
     "output_type": "display_data"
    },
    {
     "data": {
      "text/html": [
       "<pre style=\"overflow: auto; white-space: pre;\">q0: ───nX───Y───\n",
       "       │    │\n",
       "q1: ───nX───Y───</pre>"
      ],
      "text/plain": [
       "q0: ───nX───Y───\n",
       "       │    │\n",
       "q1: ───nX───Y───"
      ]
     },
     "metadata": {},
     "output_type": "display_data"
    },
    {
     "data": {
      "text/html": [
       "<pre style=\"overflow: auto; white-space: pre;\">q0: ───nX───Y───\n",
       "       │    │\n",
       "q1: ───nX───Z───</pre>"
      ],
      "text/plain": [
       "q0: ───nX───Y───\n",
       "       │    │\n",
       "q1: ───nX───Z───"
      ]
     },
     "metadata": {},
     "output_type": "display_data"
    },
    {
     "data": {
      "text/html": [
       "<pre style=\"overflow: auto; white-space: pre;\">q0: ───nX───Y────\n",
       "       │    │\n",
       "q1: ───nX───nX───</pre>"
      ],
      "text/plain": [
       "q0: ───nX───Y────\n",
       "       │    │\n",
       "q1: ───nX───nX───"
      ]
     },
     "metadata": {},
     "output_type": "display_data"
    },
    {
     "data": {
      "text/html": [
       "<pre style=\"overflow: auto; white-space: pre;\">q0: ───nX───Y────\n",
       "       │    │\n",
       "q1: ───nX───nY───</pre>"
      ],
      "text/plain": [
       "q0: ───nX───Y────\n",
       "       │    │\n",
       "q1: ───nX───nY───"
      ]
     },
     "metadata": {},
     "output_type": "display_data"
    },
    {
     "data": {
      "text/html": [
       "<pre style=\"overflow: auto; white-space: pre;\">q0: ───nX───Y────\n",
       "       │    │\n",
       "q1: ───nX───nZ───</pre>"
      ],
      "text/plain": [
       "q0: ───nX───Y────\n",
       "       │    │\n",
       "q1: ───nX───nZ───"
      ]
     },
     "metadata": {},
     "output_type": "display_data"
    },
    {
     "data": {
      "text/html": [
       "<pre style=\"overflow: auto; white-space: pre;\">q0: ───nX───Z───\n",
       "       │    │\n",
       "q1: ───nX───X───</pre>"
      ],
      "text/plain": [
       "q0: ───nX───Z───\n",
       "       │    │\n",
       "q1: ───nX───X───"
      ]
     },
     "metadata": {},
     "output_type": "display_data"
    },
    {
     "data": {
      "text/html": [
       "<pre style=\"overflow: auto; white-space: pre;\">q0: ───nX───Z───\n",
       "       │    │\n",
       "q1: ───nX───Y───</pre>"
      ],
      "text/plain": [
       "q0: ───nX───Z───\n",
       "       │    │\n",
       "q1: ───nX───Y───"
      ]
     },
     "metadata": {},
     "output_type": "display_data"
    },
    {
     "data": {
      "text/html": [
       "<pre style=\"overflow: auto; white-space: pre;\">q0: ───nX───Z───\n",
       "       │    │\n",
       "q1: ───nX───Z───</pre>"
      ],
      "text/plain": [
       "q0: ───nX───Z───\n",
       "       │    │\n",
       "q1: ───nX───Z───"
      ]
     },
     "metadata": {},
     "output_type": "display_data"
    },
    {
     "data": {
      "text/html": [
       "<pre style=\"overflow: auto; white-space: pre;\">q0: ───nX───Z────\n",
       "       │    │\n",
       "q1: ───nX───nX───</pre>"
      ],
      "text/plain": [
       "q0: ───nX───Z────\n",
       "       │    │\n",
       "q1: ───nX───nX───"
      ]
     },
     "metadata": {},
     "output_type": "display_data"
    },
    {
     "data": {
      "text/html": [
       "<pre style=\"overflow: auto; white-space: pre;\">q0: ───nX───Z────\n",
       "       │    │\n",
       "q1: ───nX───nY───</pre>"
      ],
      "text/plain": [
       "q0: ───nX───Z────\n",
       "       │    │\n",
       "q1: ───nX───nY───"
      ]
     },
     "metadata": {},
     "output_type": "display_data"
    },
    {
     "data": {
      "text/html": [
       "<pre style=\"overflow: auto; white-space: pre;\">q0: ───nX───Z────\n",
       "       │    │\n",
       "q1: ───nX───nZ───</pre>"
      ],
      "text/plain": [
       "q0: ───nX───Z────\n",
       "       │    │\n",
       "q1: ───nX───nZ───"
      ]
     },
     "metadata": {},
     "output_type": "display_data"
    },
    {
     "data": {
      "text/html": [
       "<pre style=\"overflow: auto; white-space: pre;\">q0: ───nX───nX───\n",
       "       │    │\n",
       "q1: ───nX───X────</pre>"
      ],
      "text/plain": [
       "q0: ───nX───nX───\n",
       "       │    │\n",
       "q1: ───nX───X────"
      ]
     },
     "metadata": {},
     "output_type": "display_data"
    },
    {
     "data": {
      "text/html": [
       "<pre style=\"overflow: auto; white-space: pre;\">q0: ───nX───nX───\n",
       "       │    │\n",
       "q1: ───nX───Y────</pre>"
      ],
      "text/plain": [
       "q0: ───nX───nX───\n",
       "       │    │\n",
       "q1: ───nX───Y────"
      ]
     },
     "metadata": {},
     "output_type": "display_data"
    },
    {
     "data": {
      "text/html": [
       "<pre style=\"overflow: auto; white-space: pre;\">q0: ───nX───nX───\n",
       "       │    │\n",
       "q1: ───nX───Z────</pre>"
      ],
      "text/plain": [
       "q0: ───nX───nX───\n",
       "       │    │\n",
       "q1: ───nX───Z────"
      ]
     },
     "metadata": {},
     "output_type": "display_data"
    },
    {
     "data": {
      "text/html": [
       "<pre style=\"overflow: auto; white-space: pre;\">q0: ───nX───nX───\n",
       "       │    │\n",
       "q1: ───nX───nX───</pre>"
      ],
      "text/plain": [
       "q0: ───nX───nX───\n",
       "       │    │\n",
       "q1: ───nX───nX───"
      ]
     },
     "metadata": {},
     "output_type": "display_data"
    },
    {
     "data": {
      "text/html": [
       "<pre style=\"overflow: auto; white-space: pre;\">q0: ───nX───nX───\n",
       "       │    │\n",
       "q1: ───nX───nY───</pre>"
      ],
      "text/plain": [
       "q0: ───nX───nX───\n",
       "       │    │\n",
       "q1: ───nX───nY───"
      ]
     },
     "metadata": {},
     "output_type": "display_data"
    },
    {
     "data": {
      "text/html": [
       "<pre style=\"overflow: auto; white-space: pre;\">q0: ───nX───nX───\n",
       "       │    │\n",
       "q1: ───nX───nZ───</pre>"
      ],
      "text/plain": [
       "q0: ───nX───nX───\n",
       "       │    │\n",
       "q1: ───nX───nZ───"
      ]
     },
     "metadata": {},
     "output_type": "display_data"
    },
    {
     "data": {
      "text/html": [
       "<pre style=\"overflow: auto; white-space: pre;\">q0: ───nX───nY───\n",
       "       │    │\n",
       "q1: ───nX───X────</pre>"
      ],
      "text/plain": [
       "q0: ───nX───nY───\n",
       "       │    │\n",
       "q1: ───nX───X────"
      ]
     },
     "metadata": {},
     "output_type": "display_data"
    },
    {
     "data": {
      "text/html": [
       "<pre style=\"overflow: auto; white-space: pre;\">q0: ───nX───nY───\n",
       "       │    │\n",
       "q1: ───nX───Y────</pre>"
      ],
      "text/plain": [
       "q0: ───nX───nY───\n",
       "       │    │\n",
       "q1: ───nX───Y────"
      ]
     },
     "metadata": {},
     "output_type": "display_data"
    },
    {
     "data": {
      "text/html": [
       "<pre style=\"overflow: auto; white-space: pre;\">q0: ───nX───nY───\n",
       "       │    │\n",
       "q1: ───nX───Z────</pre>"
      ],
      "text/plain": [
       "q0: ───nX───nY───\n",
       "       │    │\n",
       "q1: ───nX───Z────"
      ]
     },
     "metadata": {},
     "output_type": "display_data"
    },
    {
     "data": {
      "text/html": [
       "<pre style=\"overflow: auto; white-space: pre;\">q0: ───nX───nY───\n",
       "       │    │\n",
       "q1: ───nX───nX───</pre>"
      ],
      "text/plain": [
       "q0: ───nX───nY───\n",
       "       │    │\n",
       "q1: ───nX───nX───"
      ]
     },
     "metadata": {},
     "output_type": "display_data"
    },
    {
     "data": {
      "text/html": [
       "<pre style=\"overflow: auto; white-space: pre;\">q0: ───nX───nY───\n",
       "       │    │\n",
       "q1: ───nX───nY───</pre>"
      ],
      "text/plain": [
       "q0: ───nX───nY───\n",
       "       │    │\n",
       "q1: ───nX───nY───"
      ]
     },
     "metadata": {},
     "output_type": "display_data"
    },
    {
     "data": {
      "text/html": [
       "<pre style=\"overflow: auto; white-space: pre;\">q0: ───nX───nY───\n",
       "       │    │\n",
       "q1: ───nX───nZ───</pre>"
      ],
      "text/plain": [
       "q0: ───nX───nY───\n",
       "       │    │\n",
       "q1: ───nX───nZ───"
      ]
     },
     "metadata": {},
     "output_type": "display_data"
    },
    {
     "data": {
      "text/html": [
       "<pre style=\"overflow: auto; white-space: pre;\">q0: ───nX───nZ───\n",
       "       │    │\n",
       "q1: ───nX───X────</pre>"
      ],
      "text/plain": [
       "q0: ───nX───nZ───\n",
       "       │    │\n",
       "q1: ───nX───X────"
      ]
     },
     "metadata": {},
     "output_type": "display_data"
    },
    {
     "data": {
      "text/html": [
       "<pre style=\"overflow: auto; white-space: pre;\">q0: ───nX───nZ───\n",
       "       │    │\n",
       "q1: ───nX───Y────</pre>"
      ],
      "text/plain": [
       "q0: ───nX───nZ───\n",
       "       │    │\n",
       "q1: ───nX───Y────"
      ]
     },
     "metadata": {},
     "output_type": "display_data"
    },
    {
     "data": {
      "text/html": [
       "<pre style=\"overflow: auto; white-space: pre;\">q0: ───nX───nZ───\n",
       "       │    │\n",
       "q1: ───nX───Z────</pre>"
      ],
      "text/plain": [
       "q0: ───nX───nZ───\n",
       "       │    │\n",
       "q1: ───nX───Z────"
      ]
     },
     "metadata": {},
     "output_type": "display_data"
    },
    {
     "data": {
      "text/html": [
       "<pre style=\"overflow: auto; white-space: pre;\">q0: ───nX───nZ───\n",
       "       │    │\n",
       "q1: ───nX───nX───</pre>"
      ],
      "text/plain": [
       "q0: ───nX───nZ───\n",
       "       │    │\n",
       "q1: ───nX───nX───"
      ]
     },
     "metadata": {},
     "output_type": "display_data"
    },
    {
     "data": {
      "text/html": [
       "<pre style=\"overflow: auto; white-space: pre;\">q0: ───nX───nZ───\n",
       "       │    │\n",
       "q1: ───nX───nY───</pre>"
      ],
      "text/plain": [
       "q0: ───nX───nZ───\n",
       "       │    │\n",
       "q1: ───nX───nY───"
      ]
     },
     "metadata": {},
     "output_type": "display_data"
    },
    {
     "data": {
      "text/html": [
       "<pre style=\"overflow: auto; white-space: pre;\">q0: ───nX───nZ───\n",
       "       │    │\n",
       "q1: ───nX───nZ───</pre>"
      ],
      "text/plain": [
       "q0: ───nX───nZ───\n",
       "       │    │\n",
       "q1: ───nX───nZ───"
      ]
     },
     "metadata": {},
     "output_type": "display_data"
    },
    {
     "data": {
      "text/html": [
       "<pre style=\"overflow: auto; white-space: pre;\">q0: ───nX───X───\n",
       "       │    │\n",
       "q1: ───nY───X───</pre>"
      ],
      "text/plain": [
       "q0: ───nX───X───\n",
       "       │    │\n",
       "q1: ───nY───X───"
      ]
     },
     "metadata": {},
     "output_type": "display_data"
    },
    {
     "data": {
      "text/html": [
       "<pre style=\"overflow: auto; white-space: pre;\">q0: ───nX───X───\n",
       "       │    │\n",
       "q1: ───nY───Y───</pre>"
      ],
      "text/plain": [
       "q0: ───nX───X───\n",
       "       │    │\n",
       "q1: ───nY───Y───"
      ]
     },
     "metadata": {},
     "output_type": "display_data"
    },
    {
     "data": {
      "text/html": [
       "<pre style=\"overflow: auto; white-space: pre;\">q0: ───nX───X───\n",
       "       │    │\n",
       "q1: ───nY───Z───</pre>"
      ],
      "text/plain": [
       "q0: ───nX───X───\n",
       "       │    │\n",
       "q1: ───nY───Z───"
      ]
     },
     "metadata": {},
     "output_type": "display_data"
    },
    {
     "data": {
      "text/html": [
       "<pre style=\"overflow: auto; white-space: pre;\">q0: ───nX───X────\n",
       "       │    │\n",
       "q1: ───nY───nX───</pre>"
      ],
      "text/plain": [
       "q0: ───nX───X────\n",
       "       │    │\n",
       "q1: ───nY───nX───"
      ]
     },
     "metadata": {},
     "output_type": "display_data"
    },
    {
     "data": {
      "text/html": [
       "<pre style=\"overflow: auto; white-space: pre;\">q0: ───nX───X────\n",
       "       │    │\n",
       "q1: ───nY───nY───</pre>"
      ],
      "text/plain": [
       "q0: ───nX───X────\n",
       "       │    │\n",
       "q1: ───nY───nY───"
      ]
     },
     "metadata": {},
     "output_type": "display_data"
    },
    {
     "data": {
      "text/html": [
       "<pre style=\"overflow: auto; white-space: pre;\">q0: ───nX───X────\n",
       "       │    │\n",
       "q1: ───nY───nZ───</pre>"
      ],
      "text/plain": [
       "q0: ───nX───X────\n",
       "       │    │\n",
       "q1: ───nY───nZ───"
      ]
     },
     "metadata": {},
     "output_type": "display_data"
    },
    {
     "data": {
      "text/html": [
       "<pre style=\"overflow: auto; white-space: pre;\">q0: ───nX───Y───\n",
       "       │    │\n",
       "q1: ───nY───X───</pre>"
      ],
      "text/plain": [
       "q0: ───nX───Y───\n",
       "       │    │\n",
       "q1: ───nY───X───"
      ]
     },
     "metadata": {},
     "output_type": "display_data"
    },
    {
     "data": {
      "text/html": [
       "<pre style=\"overflow: auto; white-space: pre;\">q0: ───nX───Y───\n",
       "       │    │\n",
       "q1: ───nY───Y───</pre>"
      ],
      "text/plain": [
       "q0: ───nX───Y───\n",
       "       │    │\n",
       "q1: ───nY───Y───"
      ]
     },
     "metadata": {},
     "output_type": "display_data"
    },
    {
     "data": {
      "text/html": [
       "<pre style=\"overflow: auto; white-space: pre;\">q0: ───nX───Y───\n",
       "       │    │\n",
       "q1: ───nY───Z───</pre>"
      ],
      "text/plain": [
       "q0: ───nX───Y───\n",
       "       │    │\n",
       "q1: ───nY───Z───"
      ]
     },
     "metadata": {},
     "output_type": "display_data"
    },
    {
     "data": {
      "text/html": [
       "<pre style=\"overflow: auto; white-space: pre;\">q0: ───nX───Y────\n",
       "       │    │\n",
       "q1: ───nY───nX───</pre>"
      ],
      "text/plain": [
       "q0: ───nX───Y────\n",
       "       │    │\n",
       "q1: ───nY───nX───"
      ]
     },
     "metadata": {},
     "output_type": "display_data"
    },
    {
     "data": {
      "text/html": [
       "<pre style=\"overflow: auto; white-space: pre;\">q0: ───nX───Y────\n",
       "       │    │\n",
       "q1: ───nY───nY───</pre>"
      ],
      "text/plain": [
       "q0: ───nX───Y────\n",
       "       │    │\n",
       "q1: ───nY───nY───"
      ]
     },
     "metadata": {},
     "output_type": "display_data"
    },
    {
     "data": {
      "text/html": [
       "<pre style=\"overflow: auto; white-space: pre;\">q0: ───nX───Y────\n",
       "       │    │\n",
       "q1: ───nY───nZ───</pre>"
      ],
      "text/plain": [
       "q0: ───nX───Y────\n",
       "       │    │\n",
       "q1: ───nY───nZ───"
      ]
     },
     "metadata": {},
     "output_type": "display_data"
    },
    {
     "data": {
      "text/html": [
       "<pre style=\"overflow: auto; white-space: pre;\">q0: ───nX───Z───\n",
       "       │    │\n",
       "q1: ───nY───X───</pre>"
      ],
      "text/plain": [
       "q0: ───nX───Z───\n",
       "       │    │\n",
       "q1: ───nY───X───"
      ]
     },
     "metadata": {},
     "output_type": "display_data"
    },
    {
     "data": {
      "text/html": [
       "<pre style=\"overflow: auto; white-space: pre;\">q0: ───nX───Z───\n",
       "       │    │\n",
       "q1: ───nY───Y───</pre>"
      ],
      "text/plain": [
       "q0: ───nX───Z───\n",
       "       │    │\n",
       "q1: ───nY───Y───"
      ]
     },
     "metadata": {},
     "output_type": "display_data"
    },
    {
     "data": {
      "text/html": [
       "<pre style=\"overflow: auto; white-space: pre;\">q0: ───nX───Z───\n",
       "       │    │\n",
       "q1: ───nY───Z───</pre>"
      ],
      "text/plain": [
       "q0: ───nX───Z───\n",
       "       │    │\n",
       "q1: ───nY───Z───"
      ]
     },
     "metadata": {},
     "output_type": "display_data"
    },
    {
     "data": {
      "text/html": [
       "<pre style=\"overflow: auto; white-space: pre;\">q0: ───nX───Z────\n",
       "       │    │\n",
       "q1: ───nY───nX───</pre>"
      ],
      "text/plain": [
       "q0: ───nX───Z────\n",
       "       │    │\n",
       "q1: ───nY───nX───"
      ]
     },
     "metadata": {},
     "output_type": "display_data"
    },
    {
     "data": {
      "text/html": [
       "<pre style=\"overflow: auto; white-space: pre;\">q0: ───nX───Z────\n",
       "       │    │\n",
       "q1: ───nY───nY───</pre>"
      ],
      "text/plain": [
       "q0: ───nX───Z────\n",
       "       │    │\n",
       "q1: ───nY───nY───"
      ]
     },
     "metadata": {},
     "output_type": "display_data"
    },
    {
     "data": {
      "text/html": [
       "<pre style=\"overflow: auto; white-space: pre;\">q0: ───nX───Z────\n",
       "       │    │\n",
       "q1: ───nY───nZ───</pre>"
      ],
      "text/plain": [
       "q0: ───nX───Z────\n",
       "       │    │\n",
       "q1: ───nY───nZ───"
      ]
     },
     "metadata": {},
     "output_type": "display_data"
    },
    {
     "data": {
      "text/html": [
       "<pre style=\"overflow: auto; white-space: pre;\">q0: ───nX───nX───\n",
       "       │    │\n",
       "q1: ───nY───X────</pre>"
      ],
      "text/plain": [
       "q0: ───nX───nX───\n",
       "       │    │\n",
       "q1: ───nY───X────"
      ]
     },
     "metadata": {},
     "output_type": "display_data"
    },
    {
     "data": {
      "text/html": [
       "<pre style=\"overflow: auto; white-space: pre;\">q0: ───nX───nX───\n",
       "       │    │\n",
       "q1: ───nY───Y────</pre>"
      ],
      "text/plain": [
       "q0: ───nX───nX───\n",
       "       │    │\n",
       "q1: ───nY───Y────"
      ]
     },
     "metadata": {},
     "output_type": "display_data"
    },
    {
     "data": {
      "text/html": [
       "<pre style=\"overflow: auto; white-space: pre;\">q0: ───nX───nX───\n",
       "       │    │\n",
       "q1: ───nY───Z────</pre>"
      ],
      "text/plain": [
       "q0: ───nX───nX───\n",
       "       │    │\n",
       "q1: ───nY───Z────"
      ]
     },
     "metadata": {},
     "output_type": "display_data"
    },
    {
     "data": {
      "text/html": [
       "<pre style=\"overflow: auto; white-space: pre;\">q0: ───nX───nX───\n",
       "       │    │\n",
       "q1: ───nY───nX───</pre>"
      ],
      "text/plain": [
       "q0: ───nX───nX───\n",
       "       │    │\n",
       "q1: ───nY───nX───"
      ]
     },
     "metadata": {},
     "output_type": "display_data"
    },
    {
     "data": {
      "text/html": [
       "<pre style=\"overflow: auto; white-space: pre;\">q0: ───nX───nX───\n",
       "       │    │\n",
       "q1: ───nY───nY───</pre>"
      ],
      "text/plain": [
       "q0: ───nX───nX───\n",
       "       │    │\n",
       "q1: ───nY───nY───"
      ]
     },
     "metadata": {},
     "output_type": "display_data"
    },
    {
     "data": {
      "text/html": [
       "<pre style=\"overflow: auto; white-space: pre;\">q0: ───nX───nX───\n",
       "       │    │\n",
       "q1: ───nY───nZ───</pre>"
      ],
      "text/plain": [
       "q0: ───nX───nX───\n",
       "       │    │\n",
       "q1: ───nY───nZ───"
      ]
     },
     "metadata": {},
     "output_type": "display_data"
    },
    {
     "data": {
      "text/html": [
       "<pre style=\"overflow: auto; white-space: pre;\">q0: ───nX───nY───\n",
       "       │    │\n",
       "q1: ───nY───X────</pre>"
      ],
      "text/plain": [
       "q0: ───nX───nY───\n",
       "       │    │\n",
       "q1: ───nY───X────"
      ]
     },
     "metadata": {},
     "output_type": "display_data"
    },
    {
     "data": {
      "text/html": [
       "<pre style=\"overflow: auto; white-space: pre;\">q0: ───nX───nY───\n",
       "       │    │\n",
       "q1: ───nY───Y────</pre>"
      ],
      "text/plain": [
       "q0: ───nX───nY───\n",
       "       │    │\n",
       "q1: ───nY───Y────"
      ]
     },
     "metadata": {},
     "output_type": "display_data"
    },
    {
     "data": {
      "text/html": [
       "<pre style=\"overflow: auto; white-space: pre;\">q0: ───nX───nY───\n",
       "       │    │\n",
       "q1: ───nY───Z────</pre>"
      ],
      "text/plain": [
       "q0: ───nX───nY───\n",
       "       │    │\n",
       "q1: ───nY───Z────"
      ]
     },
     "metadata": {},
     "output_type": "display_data"
    },
    {
     "data": {
      "text/html": [
       "<pre style=\"overflow: auto; white-space: pre;\">q0: ───nX───nY───\n",
       "       │    │\n",
       "q1: ───nY───nX───</pre>"
      ],
      "text/plain": [
       "q0: ───nX───nY───\n",
       "       │    │\n",
       "q1: ───nY───nX───"
      ]
     },
     "metadata": {},
     "output_type": "display_data"
    },
    {
     "data": {
      "text/html": [
       "<pre style=\"overflow: auto; white-space: pre;\">q0: ───nX───nY───\n",
       "       │    │\n",
       "q1: ───nY───nY───</pre>"
      ],
      "text/plain": [
       "q0: ───nX───nY───\n",
       "       │    │\n",
       "q1: ───nY───nY───"
      ]
     },
     "metadata": {},
     "output_type": "display_data"
    },
    {
     "data": {
      "text/html": [
       "<pre style=\"overflow: auto; white-space: pre;\">q0: ───nX───nY───\n",
       "       │    │\n",
       "q1: ───nY───nZ───</pre>"
      ],
      "text/plain": [
       "q0: ───nX───nY───\n",
       "       │    │\n",
       "q1: ───nY───nZ───"
      ]
     },
     "metadata": {},
     "output_type": "display_data"
    },
    {
     "data": {
      "text/html": [
       "<pre style=\"overflow: auto; white-space: pre;\">q0: ───nX───nZ───\n",
       "       │    │\n",
       "q1: ───nY───X────</pre>"
      ],
      "text/plain": [
       "q0: ───nX───nZ───\n",
       "       │    │\n",
       "q1: ───nY───X────"
      ]
     },
     "metadata": {},
     "output_type": "display_data"
    },
    {
     "data": {
      "text/html": [
       "<pre style=\"overflow: auto; white-space: pre;\">q0: ───nX───nZ───\n",
       "       │    │\n",
       "q1: ───nY───Y────</pre>"
      ],
      "text/plain": [
       "q0: ───nX───nZ───\n",
       "       │    │\n",
       "q1: ───nY───Y────"
      ]
     },
     "metadata": {},
     "output_type": "display_data"
    },
    {
     "data": {
      "text/html": [
       "<pre style=\"overflow: auto; white-space: pre;\">q0: ───nX───nZ───\n",
       "       │    │\n",
       "q1: ───nY───Z────</pre>"
      ],
      "text/plain": [
       "q0: ───nX───nZ───\n",
       "       │    │\n",
       "q1: ───nY───Z────"
      ]
     },
     "metadata": {},
     "output_type": "display_data"
    },
    {
     "data": {
      "text/html": [
       "<pre style=\"overflow: auto; white-space: pre;\">q0: ───nX───nZ───\n",
       "       │    │\n",
       "q1: ───nY───nX───</pre>"
      ],
      "text/plain": [
       "q0: ───nX───nZ───\n",
       "       │    │\n",
       "q1: ───nY───nX───"
      ]
     },
     "metadata": {},
     "output_type": "display_data"
    },
    {
     "data": {
      "text/html": [
       "<pre style=\"overflow: auto; white-space: pre;\">q0: ───nX───nZ───\n",
       "       │    │\n",
       "q1: ───nY───nY───</pre>"
      ],
      "text/plain": [
       "q0: ───nX───nZ───\n",
       "       │    │\n",
       "q1: ───nY───nY───"
      ]
     },
     "metadata": {},
     "output_type": "display_data"
    },
    {
     "data": {
      "text/html": [
       "<pre style=\"overflow: auto; white-space: pre;\">q0: ───nX───nZ───\n",
       "       │    │\n",
       "q1: ───nY───nZ───</pre>"
      ],
      "text/plain": [
       "q0: ───nX───nZ───\n",
       "       │    │\n",
       "q1: ───nY───nZ───"
      ]
     },
     "metadata": {},
     "output_type": "display_data"
    },
    {
     "data": {
      "text/html": [
       "<pre style=\"overflow: auto; white-space: pre;\">q0: ───nX───X───\n",
       "       │    │\n",
       "q1: ───nZ───X───</pre>"
      ],
      "text/plain": [
       "q0: ───nX───X───\n",
       "       │    │\n",
       "q1: ───nZ───X───"
      ]
     },
     "metadata": {},
     "output_type": "display_data"
    },
    {
     "data": {
      "text/html": [
       "<pre style=\"overflow: auto; white-space: pre;\">q0: ───nX───X───\n",
       "       │    │\n",
       "q1: ───nZ───Y───</pre>"
      ],
      "text/plain": [
       "q0: ───nX───X───\n",
       "       │    │\n",
       "q1: ───nZ───Y───"
      ]
     },
     "metadata": {},
     "output_type": "display_data"
    },
    {
     "data": {
      "text/html": [
       "<pre style=\"overflow: auto; white-space: pre;\">q0: ───nX───X───\n",
       "       │    │\n",
       "q1: ───nZ───Z───</pre>"
      ],
      "text/plain": [
       "q0: ───nX───X───\n",
       "       │    │\n",
       "q1: ───nZ───Z───"
      ]
     },
     "metadata": {},
     "output_type": "display_data"
    },
    {
     "data": {
      "text/html": [
       "<pre style=\"overflow: auto; white-space: pre;\">q0: ───nX───X────\n",
       "       │    │\n",
       "q1: ───nZ───nX───</pre>"
      ],
      "text/plain": [
       "q0: ───nX───X────\n",
       "       │    │\n",
       "q1: ───nZ───nX───"
      ]
     },
     "metadata": {},
     "output_type": "display_data"
    },
    {
     "data": {
      "text/html": [
       "<pre style=\"overflow: auto; white-space: pre;\">q0: ───nX───X────\n",
       "       │    │\n",
       "q1: ───nZ───nY───</pre>"
      ],
      "text/plain": [
       "q0: ───nX───X────\n",
       "       │    │\n",
       "q1: ───nZ───nY───"
      ]
     },
     "metadata": {},
     "output_type": "display_data"
    },
    {
     "data": {
      "text/html": [
       "<pre style=\"overflow: auto; white-space: pre;\">q0: ───nX───X────\n",
       "       │    │\n",
       "q1: ───nZ───nZ───</pre>"
      ],
      "text/plain": [
       "q0: ───nX───X────\n",
       "       │    │\n",
       "q1: ───nZ───nZ───"
      ]
     },
     "metadata": {},
     "output_type": "display_data"
    },
    {
     "data": {
      "text/html": [
       "<pre style=\"overflow: auto; white-space: pre;\">q0: ───nX───Y───\n",
       "       │    │\n",
       "q1: ───nZ───X───</pre>"
      ],
      "text/plain": [
       "q0: ───nX───Y───\n",
       "       │    │\n",
       "q1: ───nZ───X───"
      ]
     },
     "metadata": {},
     "output_type": "display_data"
    },
    {
     "data": {
      "text/html": [
       "<pre style=\"overflow: auto; white-space: pre;\">q0: ───nX───Y───\n",
       "       │    │\n",
       "q1: ───nZ───Y───</pre>"
      ],
      "text/plain": [
       "q0: ───nX───Y───\n",
       "       │    │\n",
       "q1: ───nZ───Y───"
      ]
     },
     "metadata": {},
     "output_type": "display_data"
    },
    {
     "data": {
      "text/html": [
       "<pre style=\"overflow: auto; white-space: pre;\">q0: ───nX───Y───\n",
       "       │    │\n",
       "q1: ───nZ───Z───</pre>"
      ],
      "text/plain": [
       "q0: ───nX───Y───\n",
       "       │    │\n",
       "q1: ───nZ───Z───"
      ]
     },
     "metadata": {},
     "output_type": "display_data"
    },
    {
     "data": {
      "text/html": [
       "<pre style=\"overflow: auto; white-space: pre;\">q0: ───nX───Y────\n",
       "       │    │\n",
       "q1: ───nZ───nX───</pre>"
      ],
      "text/plain": [
       "q0: ───nX───Y────\n",
       "       │    │\n",
       "q1: ───nZ───nX───"
      ]
     },
     "metadata": {},
     "output_type": "display_data"
    },
    {
     "data": {
      "text/html": [
       "<pre style=\"overflow: auto; white-space: pre;\">q0: ───nX───Y────\n",
       "       │    │\n",
       "q1: ───nZ───nY───</pre>"
      ],
      "text/plain": [
       "q0: ───nX───Y────\n",
       "       │    │\n",
       "q1: ───nZ───nY───"
      ]
     },
     "metadata": {},
     "output_type": "display_data"
    },
    {
     "data": {
      "text/html": [
       "<pre style=\"overflow: auto; white-space: pre;\">q0: ───nX───Y────\n",
       "       │    │\n",
       "q1: ───nZ───nZ───</pre>"
      ],
      "text/plain": [
       "q0: ───nX───Y────\n",
       "       │    │\n",
       "q1: ───nZ───nZ───"
      ]
     },
     "metadata": {},
     "output_type": "display_data"
    },
    {
     "data": {
      "text/html": [
       "<pre style=\"overflow: auto; white-space: pre;\">q0: ───nX───Z───\n",
       "       │    │\n",
       "q1: ───nZ───X───</pre>"
      ],
      "text/plain": [
       "q0: ───nX───Z───\n",
       "       │    │\n",
       "q1: ───nZ───X───"
      ]
     },
     "metadata": {},
     "output_type": "display_data"
    },
    {
     "data": {
      "text/html": [
       "<pre style=\"overflow: auto; white-space: pre;\">q0: ───nX───Z───\n",
       "       │    │\n",
       "q1: ───nZ───Y───</pre>"
      ],
      "text/plain": [
       "q0: ───nX───Z───\n",
       "       │    │\n",
       "q1: ───nZ───Y───"
      ]
     },
     "metadata": {},
     "output_type": "display_data"
    },
    {
     "data": {
      "text/html": [
       "<pre style=\"overflow: auto; white-space: pre;\">q0: ───nX───Z───\n",
       "       │    │\n",
       "q1: ───nZ───Z───</pre>"
      ],
      "text/plain": [
       "q0: ───nX───Z───\n",
       "       │    │\n",
       "q1: ───nZ───Z───"
      ]
     },
     "metadata": {},
     "output_type": "display_data"
    },
    {
     "data": {
      "text/html": [
       "<pre style=\"overflow: auto; white-space: pre;\">q0: ───nX───Z────\n",
       "       │    │\n",
       "q1: ───nZ───nX───</pre>"
      ],
      "text/plain": [
       "q0: ───nX───Z────\n",
       "       │    │\n",
       "q1: ───nZ───nX───"
      ]
     },
     "metadata": {},
     "output_type": "display_data"
    },
    {
     "data": {
      "text/html": [
       "<pre style=\"overflow: auto; white-space: pre;\">q0: ───nX───Z────\n",
       "       │    │\n",
       "q1: ───nZ───nY───</pre>"
      ],
      "text/plain": [
       "q0: ───nX───Z────\n",
       "       │    │\n",
       "q1: ───nZ───nY───"
      ]
     },
     "metadata": {},
     "output_type": "display_data"
    },
    {
     "data": {
      "text/html": [
       "<pre style=\"overflow: auto; white-space: pre;\">q0: ───nX───Z────\n",
       "       │    │\n",
       "q1: ───nZ───nZ───</pre>"
      ],
      "text/plain": [
       "q0: ───nX───Z────\n",
       "       │    │\n",
       "q1: ───nZ───nZ───"
      ]
     },
     "metadata": {},
     "output_type": "display_data"
    },
    {
     "data": {
      "text/html": [
       "<pre style=\"overflow: auto; white-space: pre;\">q0: ───nX───nX───\n",
       "       │    │\n",
       "q1: ───nZ───X────</pre>"
      ],
      "text/plain": [
       "q0: ───nX───nX───\n",
       "       │    │\n",
       "q1: ───nZ───X────"
      ]
     },
     "metadata": {},
     "output_type": "display_data"
    },
    {
     "data": {
      "text/html": [
       "<pre style=\"overflow: auto; white-space: pre;\">q0: ───nX───nX───\n",
       "       │    │\n",
       "q1: ───nZ───Y────</pre>"
      ],
      "text/plain": [
       "q0: ───nX───nX───\n",
       "       │    │\n",
       "q1: ───nZ───Y────"
      ]
     },
     "metadata": {},
     "output_type": "display_data"
    },
    {
     "data": {
      "text/html": [
       "<pre style=\"overflow: auto; white-space: pre;\">q0: ───nX───nX───\n",
       "       │    │\n",
       "q1: ───nZ───Z────</pre>"
      ],
      "text/plain": [
       "q0: ───nX───nX───\n",
       "       │    │\n",
       "q1: ───nZ───Z────"
      ]
     },
     "metadata": {},
     "output_type": "display_data"
    },
    {
     "data": {
      "text/html": [
       "<pre style=\"overflow: auto; white-space: pre;\">q0: ───nX───nX───\n",
       "       │    │\n",
       "q1: ───nZ───nX───</pre>"
      ],
      "text/plain": [
       "q0: ───nX───nX───\n",
       "       │    │\n",
       "q1: ───nZ───nX───"
      ]
     },
     "metadata": {},
     "output_type": "display_data"
    },
    {
     "data": {
      "text/html": [
       "<pre style=\"overflow: auto; white-space: pre;\">q0: ───nX───nX───\n",
       "       │    │\n",
       "q1: ───nZ───nY───</pre>"
      ],
      "text/plain": [
       "q0: ───nX───nX───\n",
       "       │    │\n",
       "q1: ───nZ───nY───"
      ]
     },
     "metadata": {},
     "output_type": "display_data"
    },
    {
     "data": {
      "text/html": [
       "<pre style=\"overflow: auto; white-space: pre;\">q0: ───nX───nX───\n",
       "       │    │\n",
       "q1: ───nZ───nZ───</pre>"
      ],
      "text/plain": [
       "q0: ───nX───nX───\n",
       "       │    │\n",
       "q1: ───nZ───nZ───"
      ]
     },
     "metadata": {},
     "output_type": "display_data"
    },
    {
     "data": {
      "text/html": [
       "<pre style=\"overflow: auto; white-space: pre;\">q0: ───nX───nY───\n",
       "       │    │\n",
       "q1: ───nZ───X────</pre>"
      ],
      "text/plain": [
       "q0: ───nX───nY───\n",
       "       │    │\n",
       "q1: ───nZ───X────"
      ]
     },
     "metadata": {},
     "output_type": "display_data"
    },
    {
     "data": {
      "text/html": [
       "<pre style=\"overflow: auto; white-space: pre;\">q0: ───nX───nY───\n",
       "       │    │\n",
       "q1: ───nZ───Y────</pre>"
      ],
      "text/plain": [
       "q0: ───nX───nY───\n",
       "       │    │\n",
       "q1: ───nZ───Y────"
      ]
     },
     "metadata": {},
     "output_type": "display_data"
    },
    {
     "data": {
      "text/html": [
       "<pre style=\"overflow: auto; white-space: pre;\">q0: ───nX───nY───\n",
       "       │    │\n",
       "q1: ───nZ───Z────</pre>"
      ],
      "text/plain": [
       "q0: ───nX───nY───\n",
       "       │    │\n",
       "q1: ───nZ───Z────"
      ]
     },
     "metadata": {},
     "output_type": "display_data"
    },
    {
     "data": {
      "text/html": [
       "<pre style=\"overflow: auto; white-space: pre;\">q0: ───nX───nY───\n",
       "       │    │\n",
       "q1: ───nZ───nX───</pre>"
      ],
      "text/plain": [
       "q0: ───nX───nY───\n",
       "       │    │\n",
       "q1: ───nZ───nX───"
      ]
     },
     "metadata": {},
     "output_type": "display_data"
    },
    {
     "data": {
      "text/html": [
       "<pre style=\"overflow: auto; white-space: pre;\">q0: ───nX───nY───\n",
       "       │    │\n",
       "q1: ───nZ───nY───</pre>"
      ],
      "text/plain": [
       "q0: ───nX───nY───\n",
       "       │    │\n",
       "q1: ───nZ───nY───"
      ]
     },
     "metadata": {},
     "output_type": "display_data"
    },
    {
     "data": {
      "text/html": [
       "<pre style=\"overflow: auto; white-space: pre;\">q0: ───nX───nY───\n",
       "       │    │\n",
       "q1: ───nZ───nZ───</pre>"
      ],
      "text/plain": [
       "q0: ───nX───nY───\n",
       "       │    │\n",
       "q1: ───nZ───nZ───"
      ]
     },
     "metadata": {},
     "output_type": "display_data"
    },
    {
     "data": {
      "text/html": [
       "<pre style=\"overflow: auto; white-space: pre;\">q0: ───nX───nZ───\n",
       "       │    │\n",
       "q1: ───nZ───X────</pre>"
      ],
      "text/plain": [
       "q0: ───nX───nZ───\n",
       "       │    │\n",
       "q1: ───nZ───X────"
      ]
     },
     "metadata": {},
     "output_type": "display_data"
    },
    {
     "data": {
      "text/html": [
       "<pre style=\"overflow: auto; white-space: pre;\">q0: ───nX───nZ───\n",
       "       │    │\n",
       "q1: ───nZ───Y────</pre>"
      ],
      "text/plain": [
       "q0: ───nX───nZ───\n",
       "       │    │\n",
       "q1: ───nZ───Y────"
      ]
     },
     "metadata": {},
     "output_type": "display_data"
    },
    {
     "data": {
      "text/html": [
       "<pre style=\"overflow: auto; white-space: pre;\">q0: ───nX───nZ───\n",
       "       │    │\n",
       "q1: ───nZ───Z────</pre>"
      ],
      "text/plain": [
       "q0: ───nX───nZ───\n",
       "       │    │\n",
       "q1: ───nZ───Z────"
      ]
     },
     "metadata": {},
     "output_type": "display_data"
    },
    {
     "data": {
      "text/html": [
       "<pre style=\"overflow: auto; white-space: pre;\">q0: ───nX───nZ───\n",
       "       │    │\n",
       "q1: ───nZ───nX───</pre>"
      ],
      "text/plain": [
       "q0: ───nX───nZ───\n",
       "       │    │\n",
       "q1: ───nZ───nX───"
      ]
     },
     "metadata": {},
     "output_type": "display_data"
    },
    {
     "data": {
      "text/html": [
       "<pre style=\"overflow: auto; white-space: pre;\">q0: ───nX───nZ───\n",
       "       │    │\n",
       "q1: ───nZ───nY───</pre>"
      ],
      "text/plain": [
       "q0: ───nX───nZ───\n",
       "       │    │\n",
       "q1: ───nZ───nY───"
      ]
     },
     "metadata": {},
     "output_type": "display_data"
    },
    {
     "data": {
      "text/html": [
       "<pre style=\"overflow: auto; white-space: pre;\">q0: ───nX───nZ───\n",
       "       │    │\n",
       "q1: ───nZ───nZ───</pre>"
      ],
      "text/plain": [
       "q0: ───nX───nZ───\n",
       "       │    │\n",
       "q1: ───nZ───nZ───"
      ]
     },
     "metadata": {},
     "output_type": "display_data"
    },
    {
     "data": {
      "text/html": [
       "<pre style=\"overflow: auto; white-space: pre;\">q0: ───nY───X───\n",
       "       │    │\n",
       "q1: ───X────X───</pre>"
      ],
      "text/plain": [
       "q0: ───nY───X───\n",
       "       │    │\n",
       "q1: ───X────X───"
      ]
     },
     "metadata": {},
     "output_type": "display_data"
    },
    {
     "data": {
      "text/html": [
       "<pre style=\"overflow: auto; white-space: pre;\">q0: ───nY───X───\n",
       "       │    │\n",
       "q1: ───X────Y───</pre>"
      ],
      "text/plain": [
       "q0: ───nY───X───\n",
       "       │    │\n",
       "q1: ───X────Y───"
      ]
     },
     "metadata": {},
     "output_type": "display_data"
    },
    {
     "data": {
      "text/html": [
       "<pre style=\"overflow: auto; white-space: pre;\">q0: ───nY───X───\n",
       "       │    │\n",
       "q1: ───X────Z───</pre>"
      ],
      "text/plain": [
       "q0: ───nY───X───\n",
       "       │    │\n",
       "q1: ───X────Z───"
      ]
     },
     "metadata": {},
     "output_type": "display_data"
    },
    {
     "data": {
      "text/html": [
       "<pre style=\"overflow: auto; white-space: pre;\">q0: ───nY───X────\n",
       "       │    │\n",
       "q1: ───X────nX───</pre>"
      ],
      "text/plain": [
       "q0: ───nY───X────\n",
       "       │    │\n",
       "q1: ───X────nX───"
      ]
     },
     "metadata": {},
     "output_type": "display_data"
    },
    {
     "data": {
      "text/html": [
       "<pre style=\"overflow: auto; white-space: pre;\">q0: ───nY───X────\n",
       "       │    │\n",
       "q1: ───X────nY───</pre>"
      ],
      "text/plain": [
       "q0: ───nY───X────\n",
       "       │    │\n",
       "q1: ───X────nY───"
      ]
     },
     "metadata": {},
     "output_type": "display_data"
    },
    {
     "data": {
      "text/html": [
       "<pre style=\"overflow: auto; white-space: pre;\">q0: ───nY───X────\n",
       "       │    │\n",
       "q1: ───X────nZ───</pre>"
      ],
      "text/plain": [
       "q0: ───nY───X────\n",
       "       │    │\n",
       "q1: ───X────nZ───"
      ]
     },
     "metadata": {},
     "output_type": "display_data"
    },
    {
     "data": {
      "text/html": [
       "<pre style=\"overflow: auto; white-space: pre;\">q0: ───nY───Y───\n",
       "       │    │\n",
       "q1: ───X────X───</pre>"
      ],
      "text/plain": [
       "q0: ───nY───Y───\n",
       "       │    │\n",
       "q1: ───X────X───"
      ]
     },
     "metadata": {},
     "output_type": "display_data"
    },
    {
     "data": {
      "text/html": [
       "<pre style=\"overflow: auto; white-space: pre;\">q0: ───nY───Y───\n",
       "       │    │\n",
       "q1: ───X────Y───</pre>"
      ],
      "text/plain": [
       "q0: ───nY───Y───\n",
       "       │    │\n",
       "q1: ───X────Y───"
      ]
     },
     "metadata": {},
     "output_type": "display_data"
    },
    {
     "data": {
      "text/html": [
       "<pre style=\"overflow: auto; white-space: pre;\">q0: ───nY───Y───\n",
       "       │    │\n",
       "q1: ───X────Z───</pre>"
      ],
      "text/plain": [
       "q0: ───nY───Y───\n",
       "       │    │\n",
       "q1: ───X────Z───"
      ]
     },
     "metadata": {},
     "output_type": "display_data"
    },
    {
     "data": {
      "text/html": [
       "<pre style=\"overflow: auto; white-space: pre;\">q0: ───nY───Y────\n",
       "       │    │\n",
       "q1: ───X────nX───</pre>"
      ],
      "text/plain": [
       "q0: ───nY───Y────\n",
       "       │    │\n",
       "q1: ───X────nX───"
      ]
     },
     "metadata": {},
     "output_type": "display_data"
    },
    {
     "data": {
      "text/html": [
       "<pre style=\"overflow: auto; white-space: pre;\">q0: ───nY───Y────\n",
       "       │    │\n",
       "q1: ───X────nY───</pre>"
      ],
      "text/plain": [
       "q0: ───nY───Y────\n",
       "       │    │\n",
       "q1: ───X────nY───"
      ]
     },
     "metadata": {},
     "output_type": "display_data"
    },
    {
     "data": {
      "text/html": [
       "<pre style=\"overflow: auto; white-space: pre;\">q0: ───nY───Y────\n",
       "       │    │\n",
       "q1: ───X────nZ───</pre>"
      ],
      "text/plain": [
       "q0: ───nY───Y────\n",
       "       │    │\n",
       "q1: ───X────nZ───"
      ]
     },
     "metadata": {},
     "output_type": "display_data"
    },
    {
     "data": {
      "text/html": [
       "<pre style=\"overflow: auto; white-space: pre;\">q0: ───nY───Z───\n",
       "       │    │\n",
       "q1: ───X────X───</pre>"
      ],
      "text/plain": [
       "q0: ───nY───Z───\n",
       "       │    │\n",
       "q1: ───X────X───"
      ]
     },
     "metadata": {},
     "output_type": "display_data"
    },
    {
     "data": {
      "text/html": [
       "<pre style=\"overflow: auto; white-space: pre;\">q0: ───nY───Z───\n",
       "       │    │\n",
       "q1: ───X────Y───</pre>"
      ],
      "text/plain": [
       "q0: ───nY───Z───\n",
       "       │    │\n",
       "q1: ───X────Y───"
      ]
     },
     "metadata": {},
     "output_type": "display_data"
    },
    {
     "data": {
      "text/html": [
       "<pre style=\"overflow: auto; white-space: pre;\">q0: ───nY───Z───\n",
       "       │    │\n",
       "q1: ───X────Z───</pre>"
      ],
      "text/plain": [
       "q0: ───nY───Z───\n",
       "       │    │\n",
       "q1: ───X────Z───"
      ]
     },
     "metadata": {},
     "output_type": "display_data"
    },
    {
     "data": {
      "text/html": [
       "<pre style=\"overflow: auto; white-space: pre;\">q0: ───nY───Z────\n",
       "       │    │\n",
       "q1: ───X────nX───</pre>"
      ],
      "text/plain": [
       "q0: ───nY───Z────\n",
       "       │    │\n",
       "q1: ───X────nX───"
      ]
     },
     "metadata": {},
     "output_type": "display_data"
    },
    {
     "data": {
      "text/html": [
       "<pre style=\"overflow: auto; white-space: pre;\">q0: ───nY───Z────\n",
       "       │    │\n",
       "q1: ───X────nY───</pre>"
      ],
      "text/plain": [
       "q0: ───nY───Z────\n",
       "       │    │\n",
       "q1: ───X────nY───"
      ]
     },
     "metadata": {},
     "output_type": "display_data"
    },
    {
     "data": {
      "text/html": [
       "<pre style=\"overflow: auto; white-space: pre;\">q0: ───nY───Z────\n",
       "       │    │\n",
       "q1: ───X────nZ───</pre>"
      ],
      "text/plain": [
       "q0: ───nY───Z────\n",
       "       │    │\n",
       "q1: ───X────nZ───"
      ]
     },
     "metadata": {},
     "output_type": "display_data"
    },
    {
     "data": {
      "text/html": [
       "<pre style=\"overflow: auto; white-space: pre;\">q0: ───nY───nX───\n",
       "       │    │\n",
       "q1: ───X────X────</pre>"
      ],
      "text/plain": [
       "q0: ───nY───nX───\n",
       "       │    │\n",
       "q1: ───X────X────"
      ]
     },
     "metadata": {},
     "output_type": "display_data"
    },
    {
     "data": {
      "text/html": [
       "<pre style=\"overflow: auto; white-space: pre;\">q0: ───nY───nX───\n",
       "       │    │\n",
       "q1: ───X────Y────</pre>"
      ],
      "text/plain": [
       "q0: ───nY───nX───\n",
       "       │    │\n",
       "q1: ───X────Y────"
      ]
     },
     "metadata": {},
     "output_type": "display_data"
    },
    {
     "data": {
      "text/html": [
       "<pre style=\"overflow: auto; white-space: pre;\">q0: ───nY───nX───\n",
       "       │    │\n",
       "q1: ───X────Z────</pre>"
      ],
      "text/plain": [
       "q0: ───nY───nX───\n",
       "       │    │\n",
       "q1: ───X────Z────"
      ]
     },
     "metadata": {},
     "output_type": "display_data"
    },
    {
     "data": {
      "text/html": [
       "<pre style=\"overflow: auto; white-space: pre;\">q0: ───nY───nX───\n",
       "       │    │\n",
       "q1: ───X────nX───</pre>"
      ],
      "text/plain": [
       "q0: ───nY───nX───\n",
       "       │    │\n",
       "q1: ───X────nX───"
      ]
     },
     "metadata": {},
     "output_type": "display_data"
    },
    {
     "data": {
      "text/html": [
       "<pre style=\"overflow: auto; white-space: pre;\">q0: ───nY───nX───\n",
       "       │    │\n",
       "q1: ───X────nY───</pre>"
      ],
      "text/plain": [
       "q0: ───nY───nX───\n",
       "       │    │\n",
       "q1: ───X────nY───"
      ]
     },
     "metadata": {},
     "output_type": "display_data"
    },
    {
     "data": {
      "text/html": [
       "<pre style=\"overflow: auto; white-space: pre;\">q0: ───nY───nX───\n",
       "       │    │\n",
       "q1: ───X────nZ───</pre>"
      ],
      "text/plain": [
       "q0: ───nY───nX───\n",
       "       │    │\n",
       "q1: ───X────nZ───"
      ]
     },
     "metadata": {},
     "output_type": "display_data"
    },
    {
     "data": {
      "text/html": [
       "<pre style=\"overflow: auto; white-space: pre;\">q0: ───nY───nY───\n",
       "       │    │\n",
       "q1: ───X────X────</pre>"
      ],
      "text/plain": [
       "q0: ───nY───nY───\n",
       "       │    │\n",
       "q1: ───X────X────"
      ]
     },
     "metadata": {},
     "output_type": "display_data"
    },
    {
     "data": {
      "text/html": [
       "<pre style=\"overflow: auto; white-space: pre;\">q0: ───nY───nY───\n",
       "       │    │\n",
       "q1: ───X────Y────</pre>"
      ],
      "text/plain": [
       "q0: ───nY───nY───\n",
       "       │    │\n",
       "q1: ───X────Y────"
      ]
     },
     "metadata": {},
     "output_type": "display_data"
    },
    {
     "data": {
      "text/html": [
       "<pre style=\"overflow: auto; white-space: pre;\">q0: ───nY───nY───\n",
       "       │    │\n",
       "q1: ───X────Z────</pre>"
      ],
      "text/plain": [
       "q0: ───nY───nY───\n",
       "       │    │\n",
       "q1: ───X────Z────"
      ]
     },
     "metadata": {},
     "output_type": "display_data"
    },
    {
     "data": {
      "text/html": [
       "<pre style=\"overflow: auto; white-space: pre;\">q0: ───nY───nY───\n",
       "       │    │\n",
       "q1: ───X────nX───</pre>"
      ],
      "text/plain": [
       "q0: ───nY───nY───\n",
       "       │    │\n",
       "q1: ───X────nX───"
      ]
     },
     "metadata": {},
     "output_type": "display_data"
    },
    {
     "data": {
      "text/html": [
       "<pre style=\"overflow: auto; white-space: pre;\">q0: ───nY───nY───\n",
       "       │    │\n",
       "q1: ───X────nY───</pre>"
      ],
      "text/plain": [
       "q0: ───nY───nY───\n",
       "       │    │\n",
       "q1: ───X────nY───"
      ]
     },
     "metadata": {},
     "output_type": "display_data"
    },
    {
     "data": {
      "text/html": [
       "<pre style=\"overflow: auto; white-space: pre;\">q0: ───nY───nY───\n",
       "       │    │\n",
       "q1: ───X────nZ───</pre>"
      ],
      "text/plain": [
       "q0: ───nY───nY───\n",
       "       │    │\n",
       "q1: ───X────nZ───"
      ]
     },
     "metadata": {},
     "output_type": "display_data"
    },
    {
     "data": {
      "text/html": [
       "<pre style=\"overflow: auto; white-space: pre;\">q0: ───nY───nZ───\n",
       "       │    │\n",
       "q1: ───X────X────</pre>"
      ],
      "text/plain": [
       "q0: ───nY───nZ───\n",
       "       │    │\n",
       "q1: ───X────X────"
      ]
     },
     "metadata": {},
     "output_type": "display_data"
    },
    {
     "data": {
      "text/html": [
       "<pre style=\"overflow: auto; white-space: pre;\">q0: ───nY───nZ───\n",
       "       │    │\n",
       "q1: ───X────Y────</pre>"
      ],
      "text/plain": [
       "q0: ───nY───nZ───\n",
       "       │    │\n",
       "q1: ───X────Y────"
      ]
     },
     "metadata": {},
     "output_type": "display_data"
    },
    {
     "data": {
      "text/html": [
       "<pre style=\"overflow: auto; white-space: pre;\">q0: ───nY───nZ───\n",
       "       │    │\n",
       "q1: ───X────Z────</pre>"
      ],
      "text/plain": [
       "q0: ───nY───nZ───\n",
       "       │    │\n",
       "q1: ───X────Z────"
      ]
     },
     "metadata": {},
     "output_type": "display_data"
    },
    {
     "data": {
      "text/html": [
       "<pre style=\"overflow: auto; white-space: pre;\">q0: ───nY───nZ───\n",
       "       │    │\n",
       "q1: ───X────nX───</pre>"
      ],
      "text/plain": [
       "q0: ───nY───nZ───\n",
       "       │    │\n",
       "q1: ───X────nX───"
      ]
     },
     "metadata": {},
     "output_type": "display_data"
    },
    {
     "data": {
      "text/html": [
       "<pre style=\"overflow: auto; white-space: pre;\">q0: ───nY───nZ───\n",
       "       │    │\n",
       "q1: ───X────nY───</pre>"
      ],
      "text/plain": [
       "q0: ───nY───nZ───\n",
       "       │    │\n",
       "q1: ───X────nY───"
      ]
     },
     "metadata": {},
     "output_type": "display_data"
    },
    {
     "data": {
      "text/html": [
       "<pre style=\"overflow: auto; white-space: pre;\">q0: ───nY───nZ───\n",
       "       │    │\n",
       "q1: ───X────nZ───</pre>"
      ],
      "text/plain": [
       "q0: ───nY───nZ───\n",
       "       │    │\n",
       "q1: ───X────nZ───"
      ]
     },
     "metadata": {},
     "output_type": "display_data"
    },
    {
     "data": {
      "text/html": [
       "<pre style=\"overflow: auto; white-space: pre;\">q0: ───nY───X───\n",
       "       │    │\n",
       "q1: ───Y────X───</pre>"
      ],
      "text/plain": [
       "q0: ───nY───X───\n",
       "       │    │\n",
       "q1: ───Y────X───"
      ]
     },
     "metadata": {},
     "output_type": "display_data"
    },
    {
     "data": {
      "text/html": [
       "<pre style=\"overflow: auto; white-space: pre;\">q0: ───nY───X───\n",
       "       │    │\n",
       "q1: ───Y────Y───</pre>"
      ],
      "text/plain": [
       "q0: ───nY───X───\n",
       "       │    │\n",
       "q1: ───Y────Y───"
      ]
     },
     "metadata": {},
     "output_type": "display_data"
    },
    {
     "data": {
      "text/html": [
       "<pre style=\"overflow: auto; white-space: pre;\">q0: ───nY───X───\n",
       "       │    │\n",
       "q1: ───Y────Z───</pre>"
      ],
      "text/plain": [
       "q0: ───nY───X───\n",
       "       │    │\n",
       "q1: ───Y────Z───"
      ]
     },
     "metadata": {},
     "output_type": "display_data"
    },
    {
     "data": {
      "text/html": [
       "<pre style=\"overflow: auto; white-space: pre;\">q0: ───nY───X────\n",
       "       │    │\n",
       "q1: ───Y────nX───</pre>"
      ],
      "text/plain": [
       "q0: ───nY───X────\n",
       "       │    │\n",
       "q1: ───Y────nX───"
      ]
     },
     "metadata": {},
     "output_type": "display_data"
    },
    {
     "data": {
      "text/html": [
       "<pre style=\"overflow: auto; white-space: pre;\">q0: ───nY───X────\n",
       "       │    │\n",
       "q1: ───Y────nY───</pre>"
      ],
      "text/plain": [
       "q0: ───nY───X────\n",
       "       │    │\n",
       "q1: ───Y────nY───"
      ]
     },
     "metadata": {},
     "output_type": "display_data"
    },
    {
     "data": {
      "text/html": [
       "<pre style=\"overflow: auto; white-space: pre;\">q0: ───nY───X────\n",
       "       │    │\n",
       "q1: ───Y────nZ───</pre>"
      ],
      "text/plain": [
       "q0: ───nY───X────\n",
       "       │    │\n",
       "q1: ───Y────nZ───"
      ]
     },
     "metadata": {},
     "output_type": "display_data"
    },
    {
     "data": {
      "text/html": [
       "<pre style=\"overflow: auto; white-space: pre;\">q0: ───nY───Y───\n",
       "       │    │\n",
       "q1: ───Y────X───</pre>"
      ],
      "text/plain": [
       "q0: ───nY───Y───\n",
       "       │    │\n",
       "q1: ───Y────X───"
      ]
     },
     "metadata": {},
     "output_type": "display_data"
    },
    {
     "data": {
      "text/html": [
       "<pre style=\"overflow: auto; white-space: pre;\">q0: ───nY───Y───\n",
       "       │    │\n",
       "q1: ───Y────Y───</pre>"
      ],
      "text/plain": [
       "q0: ───nY───Y───\n",
       "       │    │\n",
       "q1: ───Y────Y───"
      ]
     },
     "metadata": {},
     "output_type": "display_data"
    },
    {
     "data": {
      "text/html": [
       "<pre style=\"overflow: auto; white-space: pre;\">q0: ───nY───Y───\n",
       "       │    │\n",
       "q1: ───Y────Z───</pre>"
      ],
      "text/plain": [
       "q0: ───nY───Y───\n",
       "       │    │\n",
       "q1: ───Y────Z───"
      ]
     },
     "metadata": {},
     "output_type": "display_data"
    },
    {
     "data": {
      "text/html": [
       "<pre style=\"overflow: auto; white-space: pre;\">q0: ───nY───Y────\n",
       "       │    │\n",
       "q1: ───Y────nX───</pre>"
      ],
      "text/plain": [
       "q0: ───nY───Y────\n",
       "       │    │\n",
       "q1: ───Y────nX───"
      ]
     },
     "metadata": {},
     "output_type": "display_data"
    },
    {
     "data": {
      "text/html": [
       "<pre style=\"overflow: auto; white-space: pre;\">q0: ───nY───Y────\n",
       "       │    │\n",
       "q1: ───Y────nY───</pre>"
      ],
      "text/plain": [
       "q0: ───nY───Y────\n",
       "       │    │\n",
       "q1: ───Y────nY───"
      ]
     },
     "metadata": {},
     "output_type": "display_data"
    },
    {
     "data": {
      "text/html": [
       "<pre style=\"overflow: auto; white-space: pre;\">q0: ───nY───Y────\n",
       "       │    │\n",
       "q1: ───Y────nZ───</pre>"
      ],
      "text/plain": [
       "q0: ───nY───Y────\n",
       "       │    │\n",
       "q1: ───Y────nZ───"
      ]
     },
     "metadata": {},
     "output_type": "display_data"
    },
    {
     "data": {
      "text/html": [
       "<pre style=\"overflow: auto; white-space: pre;\">q0: ───nY───Z───\n",
       "       │    │\n",
       "q1: ───Y────X───</pre>"
      ],
      "text/plain": [
       "q0: ───nY───Z───\n",
       "       │    │\n",
       "q1: ───Y────X───"
      ]
     },
     "metadata": {},
     "output_type": "display_data"
    },
    {
     "data": {
      "text/html": [
       "<pre style=\"overflow: auto; white-space: pre;\">q0: ───nY───Z───\n",
       "       │    │\n",
       "q1: ───Y────Y───</pre>"
      ],
      "text/plain": [
       "q0: ───nY───Z───\n",
       "       │    │\n",
       "q1: ───Y────Y───"
      ]
     },
     "metadata": {},
     "output_type": "display_data"
    },
    {
     "data": {
      "text/html": [
       "<pre style=\"overflow: auto; white-space: pre;\">q0: ───nY───Z───\n",
       "       │    │\n",
       "q1: ───Y────Z───</pre>"
      ],
      "text/plain": [
       "q0: ───nY───Z───\n",
       "       │    │\n",
       "q1: ───Y────Z───"
      ]
     },
     "metadata": {},
     "output_type": "display_data"
    },
    {
     "data": {
      "text/html": [
       "<pre style=\"overflow: auto; white-space: pre;\">q0: ───nY───Z────\n",
       "       │    │\n",
       "q1: ───Y────nX───</pre>"
      ],
      "text/plain": [
       "q0: ───nY───Z────\n",
       "       │    │\n",
       "q1: ───Y────nX───"
      ]
     },
     "metadata": {},
     "output_type": "display_data"
    },
    {
     "data": {
      "text/html": [
       "<pre style=\"overflow: auto; white-space: pre;\">q0: ───nY───Z────\n",
       "       │    │\n",
       "q1: ───Y────nY───</pre>"
      ],
      "text/plain": [
       "q0: ───nY───Z────\n",
       "       │    │\n",
       "q1: ───Y────nY───"
      ]
     },
     "metadata": {},
     "output_type": "display_data"
    },
    {
     "data": {
      "text/html": [
       "<pre style=\"overflow: auto; white-space: pre;\">q0: ───nY───Z────\n",
       "       │    │\n",
       "q1: ───Y────nZ───</pre>"
      ],
      "text/plain": [
       "q0: ───nY───Z────\n",
       "       │    │\n",
       "q1: ───Y────nZ───"
      ]
     },
     "metadata": {},
     "output_type": "display_data"
    },
    {
     "data": {
      "text/html": [
       "<pre style=\"overflow: auto; white-space: pre;\">q0: ───nY───nX───\n",
       "       │    │\n",
       "q1: ───Y────X────</pre>"
      ],
      "text/plain": [
       "q0: ───nY───nX───\n",
       "       │    │\n",
       "q1: ───Y────X────"
      ]
     },
     "metadata": {},
     "output_type": "display_data"
    },
    {
     "data": {
      "text/html": [
       "<pre style=\"overflow: auto; white-space: pre;\">q0: ───nY───nX───\n",
       "       │    │\n",
       "q1: ───Y────Y────</pre>"
      ],
      "text/plain": [
       "q0: ───nY───nX───\n",
       "       │    │\n",
       "q1: ───Y────Y────"
      ]
     },
     "metadata": {},
     "output_type": "display_data"
    },
    {
     "data": {
      "text/html": [
       "<pre style=\"overflow: auto; white-space: pre;\">q0: ───nY───nX───\n",
       "       │    │\n",
       "q1: ───Y────Z────</pre>"
      ],
      "text/plain": [
       "q0: ───nY───nX───\n",
       "       │    │\n",
       "q1: ───Y────Z────"
      ]
     },
     "metadata": {},
     "output_type": "display_data"
    },
    {
     "data": {
      "text/html": [
       "<pre style=\"overflow: auto; white-space: pre;\">q0: ───nY───nX───\n",
       "       │    │\n",
       "q1: ───Y────nX───</pre>"
      ],
      "text/plain": [
       "q0: ───nY───nX───\n",
       "       │    │\n",
       "q1: ───Y────nX───"
      ]
     },
     "metadata": {},
     "output_type": "display_data"
    },
    {
     "data": {
      "text/html": [
       "<pre style=\"overflow: auto; white-space: pre;\">q0: ───nY───nX───\n",
       "       │    │\n",
       "q1: ───Y────nY───</pre>"
      ],
      "text/plain": [
       "q0: ───nY───nX───\n",
       "       │    │\n",
       "q1: ───Y────nY───"
      ]
     },
     "metadata": {},
     "output_type": "display_data"
    },
    {
     "data": {
      "text/html": [
       "<pre style=\"overflow: auto; white-space: pre;\">q0: ───nY───nX───\n",
       "       │    │\n",
       "q1: ───Y────nZ───</pre>"
      ],
      "text/plain": [
       "q0: ───nY───nX───\n",
       "       │    │\n",
       "q1: ───Y────nZ───"
      ]
     },
     "metadata": {},
     "output_type": "display_data"
    },
    {
     "data": {
      "text/html": [
       "<pre style=\"overflow: auto; white-space: pre;\">q0: ───nY───nY───\n",
       "       │    │\n",
       "q1: ───Y────X────</pre>"
      ],
      "text/plain": [
       "q0: ───nY───nY───\n",
       "       │    │\n",
       "q1: ───Y────X────"
      ]
     },
     "metadata": {},
     "output_type": "display_data"
    },
    {
     "data": {
      "text/html": [
       "<pre style=\"overflow: auto; white-space: pre;\">q0: ───nY───nY───\n",
       "       │    │\n",
       "q1: ───Y────Y────</pre>"
      ],
      "text/plain": [
       "q0: ───nY───nY───\n",
       "       │    │\n",
       "q1: ───Y────Y────"
      ]
     },
     "metadata": {},
     "output_type": "display_data"
    },
    {
     "data": {
      "text/html": [
       "<pre style=\"overflow: auto; white-space: pre;\">q0: ───nY───nY───\n",
       "       │    │\n",
       "q1: ───Y────Z────</pre>"
      ],
      "text/plain": [
       "q0: ───nY───nY───\n",
       "       │    │\n",
       "q1: ───Y────Z────"
      ]
     },
     "metadata": {},
     "output_type": "display_data"
    },
    {
     "data": {
      "text/html": [
       "<pre style=\"overflow: auto; white-space: pre;\">q0: ───nY───nY───\n",
       "       │    │\n",
       "q1: ───Y────nX───</pre>"
      ],
      "text/plain": [
       "q0: ───nY───nY───\n",
       "       │    │\n",
       "q1: ───Y────nX───"
      ]
     },
     "metadata": {},
     "output_type": "display_data"
    },
    {
     "data": {
      "text/html": [
       "<pre style=\"overflow: auto; white-space: pre;\">q0: ───nY───nY───\n",
       "       │    │\n",
       "q1: ───Y────nY───</pre>"
      ],
      "text/plain": [
       "q0: ───nY───nY───\n",
       "       │    │\n",
       "q1: ───Y────nY───"
      ]
     },
     "metadata": {},
     "output_type": "display_data"
    },
    {
     "data": {
      "text/html": [
       "<pre style=\"overflow: auto; white-space: pre;\">q0: ───nY───nY───\n",
       "       │    │\n",
       "q1: ───Y────nZ───</pre>"
      ],
      "text/plain": [
       "q0: ───nY───nY───\n",
       "       │    │\n",
       "q1: ───Y────nZ───"
      ]
     },
     "metadata": {},
     "output_type": "display_data"
    },
    {
     "data": {
      "text/html": [
       "<pre style=\"overflow: auto; white-space: pre;\">q0: ───nY───nZ───\n",
       "       │    │\n",
       "q1: ───Y────X────</pre>"
      ],
      "text/plain": [
       "q0: ───nY───nZ───\n",
       "       │    │\n",
       "q1: ───Y────X────"
      ]
     },
     "metadata": {},
     "output_type": "display_data"
    },
    {
     "data": {
      "text/html": [
       "<pre style=\"overflow: auto; white-space: pre;\">q0: ───nY───nZ───\n",
       "       │    │\n",
       "q1: ───Y────Y────</pre>"
      ],
      "text/plain": [
       "q0: ───nY───nZ───\n",
       "       │    │\n",
       "q1: ───Y────Y────"
      ]
     },
     "metadata": {},
     "output_type": "display_data"
    },
    {
     "data": {
      "text/html": [
       "<pre style=\"overflow: auto; white-space: pre;\">q0: ───nY───nZ───\n",
       "       │    │\n",
       "q1: ───Y────Z────</pre>"
      ],
      "text/plain": [
       "q0: ───nY───nZ───\n",
       "       │    │\n",
       "q1: ───Y────Z────"
      ]
     },
     "metadata": {},
     "output_type": "display_data"
    },
    {
     "data": {
      "text/html": [
       "<pre style=\"overflow: auto; white-space: pre;\">q0: ───nY───nZ───\n",
       "       │    │\n",
       "q1: ───Y────nX───</pre>"
      ],
      "text/plain": [
       "q0: ───nY───nZ───\n",
       "       │    │\n",
       "q1: ───Y────nX───"
      ]
     },
     "metadata": {},
     "output_type": "display_data"
    },
    {
     "data": {
      "text/html": [
       "<pre style=\"overflow: auto; white-space: pre;\">q0: ───nY───nZ───\n",
       "       │    │\n",
       "q1: ───Y────nY───</pre>"
      ],
      "text/plain": [
       "q0: ───nY───nZ───\n",
       "       │    │\n",
       "q1: ───Y────nY───"
      ]
     },
     "metadata": {},
     "output_type": "display_data"
    },
    {
     "data": {
      "text/html": [
       "<pre style=\"overflow: auto; white-space: pre;\">q0: ───nY───nZ───\n",
       "       │    │\n",
       "q1: ───Y────nZ───</pre>"
      ],
      "text/plain": [
       "q0: ───nY───nZ───\n",
       "       │    │\n",
       "q1: ───Y────nZ───"
      ]
     },
     "metadata": {},
     "output_type": "display_data"
    },
    {
     "data": {
      "text/html": [
       "<pre style=\"overflow: auto; white-space: pre;\">q0: ───nY───X───\n",
       "       │    │\n",
       "q1: ───Z────X───</pre>"
      ],
      "text/plain": [
       "q0: ───nY───X───\n",
       "       │    │\n",
       "q1: ───Z────X───"
      ]
     },
     "metadata": {},
     "output_type": "display_data"
    },
    {
     "data": {
      "text/html": [
       "<pre style=\"overflow: auto; white-space: pre;\">q0: ───nY───X───\n",
       "       │    │\n",
       "q1: ───Z────Y───</pre>"
      ],
      "text/plain": [
       "q0: ───nY───X───\n",
       "       │    │\n",
       "q1: ───Z────Y───"
      ]
     },
     "metadata": {},
     "output_type": "display_data"
    },
    {
     "data": {
      "text/html": [
       "<pre style=\"overflow: auto; white-space: pre;\">q0: ───nY───X───\n",
       "       │    │\n",
       "q1: ───Z────Z───</pre>"
      ],
      "text/plain": [
       "q0: ───nY───X───\n",
       "       │    │\n",
       "q1: ───Z────Z───"
      ]
     },
     "metadata": {},
     "output_type": "display_data"
    },
    {
     "data": {
      "text/html": [
       "<pre style=\"overflow: auto; white-space: pre;\">q0: ───nY───X────\n",
       "       │    │\n",
       "q1: ───Z────nX───</pre>"
      ],
      "text/plain": [
       "q0: ───nY───X────\n",
       "       │    │\n",
       "q1: ───Z────nX───"
      ]
     },
     "metadata": {},
     "output_type": "display_data"
    },
    {
     "data": {
      "text/html": [
       "<pre style=\"overflow: auto; white-space: pre;\">q0: ───nY───X────\n",
       "       │    │\n",
       "q1: ───Z────nY───</pre>"
      ],
      "text/plain": [
       "q0: ───nY───X────\n",
       "       │    │\n",
       "q1: ───Z────nY───"
      ]
     },
     "metadata": {},
     "output_type": "display_data"
    },
    {
     "data": {
      "text/html": [
       "<pre style=\"overflow: auto; white-space: pre;\">q0: ───nY───X────\n",
       "       │    │\n",
       "q1: ───Z────nZ───</pre>"
      ],
      "text/plain": [
       "q0: ───nY───X────\n",
       "       │    │\n",
       "q1: ───Z────nZ───"
      ]
     },
     "metadata": {},
     "output_type": "display_data"
    },
    {
     "data": {
      "text/html": [
       "<pre style=\"overflow: auto; white-space: pre;\">q0: ───nY───Y───\n",
       "       │    │\n",
       "q1: ───Z────X───</pre>"
      ],
      "text/plain": [
       "q0: ───nY───Y───\n",
       "       │    │\n",
       "q1: ───Z────X───"
      ]
     },
     "metadata": {},
     "output_type": "display_data"
    },
    {
     "data": {
      "text/html": [
       "<pre style=\"overflow: auto; white-space: pre;\">q0: ───nY───Y───\n",
       "       │    │\n",
       "q1: ───Z────Y───</pre>"
      ],
      "text/plain": [
       "q0: ───nY───Y───\n",
       "       │    │\n",
       "q1: ───Z────Y───"
      ]
     },
     "metadata": {},
     "output_type": "display_data"
    },
    {
     "data": {
      "text/html": [
       "<pre style=\"overflow: auto; white-space: pre;\">q0: ───nY───Y───\n",
       "       │    │\n",
       "q1: ───Z────Z───</pre>"
      ],
      "text/plain": [
       "q0: ───nY───Y───\n",
       "       │    │\n",
       "q1: ───Z────Z───"
      ]
     },
     "metadata": {},
     "output_type": "display_data"
    },
    {
     "data": {
      "text/html": [
       "<pre style=\"overflow: auto; white-space: pre;\">q0: ───nY───Y────\n",
       "       │    │\n",
       "q1: ───Z────nX───</pre>"
      ],
      "text/plain": [
       "q0: ───nY───Y────\n",
       "       │    │\n",
       "q1: ───Z────nX───"
      ]
     },
     "metadata": {},
     "output_type": "display_data"
    },
    {
     "data": {
      "text/html": [
       "<pre style=\"overflow: auto; white-space: pre;\">q0: ───nY───Y────\n",
       "       │    │\n",
       "q1: ───Z────nY───</pre>"
      ],
      "text/plain": [
       "q0: ───nY───Y────\n",
       "       │    │\n",
       "q1: ───Z────nY───"
      ]
     },
     "metadata": {},
     "output_type": "display_data"
    },
    {
     "data": {
      "text/html": [
       "<pre style=\"overflow: auto; white-space: pre;\">q0: ───nY───Y────\n",
       "       │    │\n",
       "q1: ───Z────nZ───</pre>"
      ],
      "text/plain": [
       "q0: ───nY───Y────\n",
       "       │    │\n",
       "q1: ───Z────nZ───"
      ]
     },
     "metadata": {},
     "output_type": "display_data"
    },
    {
     "data": {
      "text/html": [
       "<pre style=\"overflow: auto; white-space: pre;\">q0: ───nY───Z───\n",
       "       │    │\n",
       "q1: ───Z────X───</pre>"
      ],
      "text/plain": [
       "q0: ───nY───Z───\n",
       "       │    │\n",
       "q1: ───Z────X───"
      ]
     },
     "metadata": {},
     "output_type": "display_data"
    },
    {
     "data": {
      "text/html": [
       "<pre style=\"overflow: auto; white-space: pre;\">q0: ───nY───Z───\n",
       "       │    │\n",
       "q1: ───Z────Y───</pre>"
      ],
      "text/plain": [
       "q0: ───nY───Z───\n",
       "       │    │\n",
       "q1: ───Z────Y───"
      ]
     },
     "metadata": {},
     "output_type": "display_data"
    },
    {
     "data": {
      "text/html": [
       "<pre style=\"overflow: auto; white-space: pre;\">q0: ───nY───Z───\n",
       "       │    │\n",
       "q1: ───Z────Z───</pre>"
      ],
      "text/plain": [
       "q0: ───nY───Z───\n",
       "       │    │\n",
       "q1: ───Z────Z───"
      ]
     },
     "metadata": {},
     "output_type": "display_data"
    },
    {
     "data": {
      "text/html": [
       "<pre style=\"overflow: auto; white-space: pre;\">q0: ───nY───Z────\n",
       "       │    │\n",
       "q1: ───Z────nX───</pre>"
      ],
      "text/plain": [
       "q0: ───nY───Z────\n",
       "       │    │\n",
       "q1: ───Z────nX───"
      ]
     },
     "metadata": {},
     "output_type": "display_data"
    },
    {
     "data": {
      "text/html": [
       "<pre style=\"overflow: auto; white-space: pre;\">q0: ───nY───Z────\n",
       "       │    │\n",
       "q1: ───Z────nY───</pre>"
      ],
      "text/plain": [
       "q0: ───nY───Z────\n",
       "       │    │\n",
       "q1: ───Z────nY───"
      ]
     },
     "metadata": {},
     "output_type": "display_data"
    },
    {
     "data": {
      "text/html": [
       "<pre style=\"overflow: auto; white-space: pre;\">q0: ───nY───Z────\n",
       "       │    │\n",
       "q1: ───Z────nZ───</pre>"
      ],
      "text/plain": [
       "q0: ───nY───Z────\n",
       "       │    │\n",
       "q1: ───Z────nZ───"
      ]
     },
     "metadata": {},
     "output_type": "display_data"
    },
    {
     "data": {
      "text/html": [
       "<pre style=\"overflow: auto; white-space: pre;\">q0: ───nY───nX───\n",
       "       │    │\n",
       "q1: ───Z────X────</pre>"
      ],
      "text/plain": [
       "q0: ───nY───nX───\n",
       "       │    │\n",
       "q1: ───Z────X────"
      ]
     },
     "metadata": {},
     "output_type": "display_data"
    },
    {
     "data": {
      "text/html": [
       "<pre style=\"overflow: auto; white-space: pre;\">q0: ───nY───nX───\n",
       "       │    │\n",
       "q1: ───Z────Y────</pre>"
      ],
      "text/plain": [
       "q0: ───nY───nX───\n",
       "       │    │\n",
       "q1: ───Z────Y────"
      ]
     },
     "metadata": {},
     "output_type": "display_data"
    },
    {
     "data": {
      "text/html": [
       "<pre style=\"overflow: auto; white-space: pre;\">q0: ───nY───nX───\n",
       "       │    │\n",
       "q1: ───Z────Z────</pre>"
      ],
      "text/plain": [
       "q0: ───nY───nX───\n",
       "       │    │\n",
       "q1: ───Z────Z────"
      ]
     },
     "metadata": {},
     "output_type": "display_data"
    },
    {
     "data": {
      "text/html": [
       "<pre style=\"overflow: auto; white-space: pre;\">q0: ───nY───nX───\n",
       "       │    │\n",
       "q1: ───Z────nX───</pre>"
      ],
      "text/plain": [
       "q0: ───nY───nX───\n",
       "       │    │\n",
       "q1: ───Z────nX───"
      ]
     },
     "metadata": {},
     "output_type": "display_data"
    },
    {
     "data": {
      "text/html": [
       "<pre style=\"overflow: auto; white-space: pre;\">q0: ───nY───nX───\n",
       "       │    │\n",
       "q1: ───Z────nY───</pre>"
      ],
      "text/plain": [
       "q0: ───nY───nX───\n",
       "       │    │\n",
       "q1: ───Z────nY───"
      ]
     },
     "metadata": {},
     "output_type": "display_data"
    },
    {
     "data": {
      "text/html": [
       "<pre style=\"overflow: auto; white-space: pre;\">q0: ───nY───nX───\n",
       "       │    │\n",
       "q1: ───Z────nZ───</pre>"
      ],
      "text/plain": [
       "q0: ───nY───nX───\n",
       "       │    │\n",
       "q1: ───Z────nZ───"
      ]
     },
     "metadata": {},
     "output_type": "display_data"
    },
    {
     "data": {
      "text/html": [
       "<pre style=\"overflow: auto; white-space: pre;\">q0: ───nY───nY───\n",
       "       │    │\n",
       "q1: ───Z────X────</pre>"
      ],
      "text/plain": [
       "q0: ───nY───nY───\n",
       "       │    │\n",
       "q1: ───Z────X────"
      ]
     },
     "metadata": {},
     "output_type": "display_data"
    },
    {
     "data": {
      "text/html": [
       "<pre style=\"overflow: auto; white-space: pre;\">q0: ───nY───nY───\n",
       "       │    │\n",
       "q1: ───Z────Y────</pre>"
      ],
      "text/plain": [
       "q0: ───nY───nY───\n",
       "       │    │\n",
       "q1: ───Z────Y────"
      ]
     },
     "metadata": {},
     "output_type": "display_data"
    },
    {
     "data": {
      "text/html": [
       "<pre style=\"overflow: auto; white-space: pre;\">q0: ───nY───nY───\n",
       "       │    │\n",
       "q1: ───Z────Z────</pre>"
      ],
      "text/plain": [
       "q0: ───nY───nY───\n",
       "       │    │\n",
       "q1: ───Z────Z────"
      ]
     },
     "metadata": {},
     "output_type": "display_data"
    },
    {
     "data": {
      "text/html": [
       "<pre style=\"overflow: auto; white-space: pre;\">q0: ───nY───nY───\n",
       "       │    │\n",
       "q1: ───Z────nX───</pre>"
      ],
      "text/plain": [
       "q0: ───nY───nY───\n",
       "       │    │\n",
       "q1: ───Z────nX───"
      ]
     },
     "metadata": {},
     "output_type": "display_data"
    },
    {
     "data": {
      "text/html": [
       "<pre style=\"overflow: auto; white-space: pre;\">q0: ───nY───nY───\n",
       "       │    │\n",
       "q1: ───Z────nY───</pre>"
      ],
      "text/plain": [
       "q0: ───nY───nY───\n",
       "       │    │\n",
       "q1: ───Z────nY───"
      ]
     },
     "metadata": {},
     "output_type": "display_data"
    },
    {
     "data": {
      "text/html": [
       "<pre style=\"overflow: auto; white-space: pre;\">q0: ───nY───nY───\n",
       "       │    │\n",
       "q1: ───Z────nZ───</pre>"
      ],
      "text/plain": [
       "q0: ───nY───nY───\n",
       "       │    │\n",
       "q1: ───Z────nZ───"
      ]
     },
     "metadata": {},
     "output_type": "display_data"
    },
    {
     "data": {
      "text/html": [
       "<pre style=\"overflow: auto; white-space: pre;\">q0: ───nY───nZ───\n",
       "       │    │\n",
       "q1: ───Z────X────</pre>"
      ],
      "text/plain": [
       "q0: ───nY───nZ───\n",
       "       │    │\n",
       "q1: ───Z────X────"
      ]
     },
     "metadata": {},
     "output_type": "display_data"
    },
    {
     "data": {
      "text/html": [
       "<pre style=\"overflow: auto; white-space: pre;\">q0: ───nY───nZ───\n",
       "       │    │\n",
       "q1: ───Z────Y────</pre>"
      ],
      "text/plain": [
       "q0: ───nY───nZ───\n",
       "       │    │\n",
       "q1: ───Z────Y────"
      ]
     },
     "metadata": {},
     "output_type": "display_data"
    },
    {
     "data": {
      "text/html": [
       "<pre style=\"overflow: auto; white-space: pre;\">q0: ───nY───nZ───\n",
       "       │    │\n",
       "q1: ───Z────Z────</pre>"
      ],
      "text/plain": [
       "q0: ───nY───nZ───\n",
       "       │    │\n",
       "q1: ───Z────Z────"
      ]
     },
     "metadata": {},
     "output_type": "display_data"
    },
    {
     "data": {
      "text/html": [
       "<pre style=\"overflow: auto; white-space: pre;\">q0: ───nY───nZ───\n",
       "       │    │\n",
       "q1: ───Z────nX───</pre>"
      ],
      "text/plain": [
       "q0: ───nY───nZ───\n",
       "       │    │\n",
       "q1: ───Z────nX───"
      ]
     },
     "metadata": {},
     "output_type": "display_data"
    },
    {
     "data": {
      "text/html": [
       "<pre style=\"overflow: auto; white-space: pre;\">q0: ───nY───nZ───\n",
       "       │    │\n",
       "q1: ───Z────nY───</pre>"
      ],
      "text/plain": [
       "q0: ───nY───nZ───\n",
       "       │    │\n",
       "q1: ───Z────nY───"
      ]
     },
     "metadata": {},
     "output_type": "display_data"
    },
    {
     "data": {
      "text/html": [
       "<pre style=\"overflow: auto; white-space: pre;\">q0: ───nY───nZ───\n",
       "       │    │\n",
       "q1: ───Z────nZ───</pre>"
      ],
      "text/plain": [
       "q0: ───nY───nZ───\n",
       "       │    │\n",
       "q1: ───Z────nZ───"
      ]
     },
     "metadata": {},
     "output_type": "display_data"
    },
    {
     "data": {
      "text/html": [
       "<pre style=\"overflow: auto; white-space: pre;\">q0: ───nY───X───\n",
       "       │    │\n",
       "q1: ───nX───X───</pre>"
      ],
      "text/plain": [
       "q0: ───nY───X───\n",
       "       │    │\n",
       "q1: ───nX───X───"
      ]
     },
     "metadata": {},
     "output_type": "display_data"
    },
    {
     "data": {
      "text/html": [
       "<pre style=\"overflow: auto; white-space: pre;\">q0: ───nY───X───\n",
       "       │    │\n",
       "q1: ───nX───Y───</pre>"
      ],
      "text/plain": [
       "q0: ───nY───X───\n",
       "       │    │\n",
       "q1: ───nX───Y───"
      ]
     },
     "metadata": {},
     "output_type": "display_data"
    },
    {
     "data": {
      "text/html": [
       "<pre style=\"overflow: auto; white-space: pre;\">q0: ───nY───X───\n",
       "       │    │\n",
       "q1: ───nX───Z───</pre>"
      ],
      "text/plain": [
       "q0: ───nY───X───\n",
       "       │    │\n",
       "q1: ───nX───Z───"
      ]
     },
     "metadata": {},
     "output_type": "display_data"
    },
    {
     "data": {
      "text/html": [
       "<pre style=\"overflow: auto; white-space: pre;\">q0: ───nY───X────\n",
       "       │    │\n",
       "q1: ───nX───nX───</pre>"
      ],
      "text/plain": [
       "q0: ───nY───X────\n",
       "       │    │\n",
       "q1: ───nX───nX───"
      ]
     },
     "metadata": {},
     "output_type": "display_data"
    },
    {
     "data": {
      "text/html": [
       "<pre style=\"overflow: auto; white-space: pre;\">q0: ───nY───X────\n",
       "       │    │\n",
       "q1: ───nX───nY───</pre>"
      ],
      "text/plain": [
       "q0: ───nY───X────\n",
       "       │    │\n",
       "q1: ───nX───nY───"
      ]
     },
     "metadata": {},
     "output_type": "display_data"
    },
    {
     "data": {
      "text/html": [
       "<pre style=\"overflow: auto; white-space: pre;\">q0: ───nY───X────\n",
       "       │    │\n",
       "q1: ───nX───nZ───</pre>"
      ],
      "text/plain": [
       "q0: ───nY───X────\n",
       "       │    │\n",
       "q1: ───nX───nZ───"
      ]
     },
     "metadata": {},
     "output_type": "display_data"
    },
    {
     "data": {
      "text/html": [
       "<pre style=\"overflow: auto; white-space: pre;\">q0: ───nY───Y───\n",
       "       │    │\n",
       "q1: ───nX───X───</pre>"
      ],
      "text/plain": [
       "q0: ───nY───Y───\n",
       "       │    │\n",
       "q1: ───nX───X───"
      ]
     },
     "metadata": {},
     "output_type": "display_data"
    },
    {
     "data": {
      "text/html": [
       "<pre style=\"overflow: auto; white-space: pre;\">q0: ───nY───Y───\n",
       "       │    │\n",
       "q1: ───nX───Y───</pre>"
      ],
      "text/plain": [
       "q0: ───nY───Y───\n",
       "       │    │\n",
       "q1: ───nX───Y───"
      ]
     },
     "metadata": {},
     "output_type": "display_data"
    },
    {
     "data": {
      "text/html": [
       "<pre style=\"overflow: auto; white-space: pre;\">q0: ───nY───Y───\n",
       "       │    │\n",
       "q1: ───nX───Z───</pre>"
      ],
      "text/plain": [
       "q0: ───nY───Y───\n",
       "       │    │\n",
       "q1: ───nX───Z───"
      ]
     },
     "metadata": {},
     "output_type": "display_data"
    },
    {
     "data": {
      "text/html": [
       "<pre style=\"overflow: auto; white-space: pre;\">q0: ───nY───Y────\n",
       "       │    │\n",
       "q1: ───nX───nX───</pre>"
      ],
      "text/plain": [
       "q0: ───nY───Y────\n",
       "       │    │\n",
       "q1: ───nX───nX───"
      ]
     },
     "metadata": {},
     "output_type": "display_data"
    },
    {
     "data": {
      "text/html": [
       "<pre style=\"overflow: auto; white-space: pre;\">q0: ───nY───Y────\n",
       "       │    │\n",
       "q1: ───nX───nY───</pre>"
      ],
      "text/plain": [
       "q0: ───nY───Y────\n",
       "       │    │\n",
       "q1: ───nX───nY───"
      ]
     },
     "metadata": {},
     "output_type": "display_data"
    },
    {
     "data": {
      "text/html": [
       "<pre style=\"overflow: auto; white-space: pre;\">q0: ───nY───Y────\n",
       "       │    │\n",
       "q1: ───nX───nZ───</pre>"
      ],
      "text/plain": [
       "q0: ───nY───Y────\n",
       "       │    │\n",
       "q1: ───nX───nZ───"
      ]
     },
     "metadata": {},
     "output_type": "display_data"
    },
    {
     "data": {
      "text/html": [
       "<pre style=\"overflow: auto; white-space: pre;\">q0: ───nY───Z───\n",
       "       │    │\n",
       "q1: ───nX───X───</pre>"
      ],
      "text/plain": [
       "q0: ───nY───Z───\n",
       "       │    │\n",
       "q1: ───nX───X───"
      ]
     },
     "metadata": {},
     "output_type": "display_data"
    },
    {
     "data": {
      "text/html": [
       "<pre style=\"overflow: auto; white-space: pre;\">q0: ───nY───Z───\n",
       "       │    │\n",
       "q1: ───nX───Y───</pre>"
      ],
      "text/plain": [
       "q0: ───nY───Z───\n",
       "       │    │\n",
       "q1: ───nX───Y───"
      ]
     },
     "metadata": {},
     "output_type": "display_data"
    },
    {
     "data": {
      "text/html": [
       "<pre style=\"overflow: auto; white-space: pre;\">q0: ───nY───Z───\n",
       "       │    │\n",
       "q1: ───nX───Z───</pre>"
      ],
      "text/plain": [
       "q0: ───nY───Z───\n",
       "       │    │\n",
       "q1: ───nX───Z───"
      ]
     },
     "metadata": {},
     "output_type": "display_data"
    },
    {
     "data": {
      "text/html": [
       "<pre style=\"overflow: auto; white-space: pre;\">q0: ───nY───Z────\n",
       "       │    │\n",
       "q1: ───nX───nX───</pre>"
      ],
      "text/plain": [
       "q0: ───nY───Z────\n",
       "       │    │\n",
       "q1: ───nX───nX───"
      ]
     },
     "metadata": {},
     "output_type": "display_data"
    },
    {
     "data": {
      "text/html": [
       "<pre style=\"overflow: auto; white-space: pre;\">q0: ───nY───Z────\n",
       "       │    │\n",
       "q1: ───nX───nY───</pre>"
      ],
      "text/plain": [
       "q0: ───nY───Z────\n",
       "       │    │\n",
       "q1: ───nX───nY───"
      ]
     },
     "metadata": {},
     "output_type": "display_data"
    },
    {
     "data": {
      "text/html": [
       "<pre style=\"overflow: auto; white-space: pre;\">q0: ───nY───Z────\n",
       "       │    │\n",
       "q1: ───nX───nZ───</pre>"
      ],
      "text/plain": [
       "q0: ───nY───Z────\n",
       "       │    │\n",
       "q1: ───nX───nZ───"
      ]
     },
     "metadata": {},
     "output_type": "display_data"
    },
    {
     "data": {
      "text/html": [
       "<pre style=\"overflow: auto; white-space: pre;\">q0: ───nY───nX───\n",
       "       │    │\n",
       "q1: ───nX───X────</pre>"
      ],
      "text/plain": [
       "q0: ───nY───nX───\n",
       "       │    │\n",
       "q1: ───nX───X────"
      ]
     },
     "metadata": {},
     "output_type": "display_data"
    },
    {
     "data": {
      "text/html": [
       "<pre style=\"overflow: auto; white-space: pre;\">q0: ───nY───nX───\n",
       "       │    │\n",
       "q1: ───nX───Y────</pre>"
      ],
      "text/plain": [
       "q0: ───nY───nX───\n",
       "       │    │\n",
       "q1: ───nX───Y────"
      ]
     },
     "metadata": {},
     "output_type": "display_data"
    },
    {
     "data": {
      "text/html": [
       "<pre style=\"overflow: auto; white-space: pre;\">q0: ───nY───nX───\n",
       "       │    │\n",
       "q1: ───nX───Z────</pre>"
      ],
      "text/plain": [
       "q0: ───nY───nX───\n",
       "       │    │\n",
       "q1: ───nX───Z────"
      ]
     },
     "metadata": {},
     "output_type": "display_data"
    },
    {
     "data": {
      "text/html": [
       "<pre style=\"overflow: auto; white-space: pre;\">q0: ───nY───nX───\n",
       "       │    │\n",
       "q1: ───nX───nX───</pre>"
      ],
      "text/plain": [
       "q0: ───nY───nX───\n",
       "       │    │\n",
       "q1: ───nX───nX───"
      ]
     },
     "metadata": {},
     "output_type": "display_data"
    },
    {
     "data": {
      "text/html": [
       "<pre style=\"overflow: auto; white-space: pre;\">q0: ───nY───nX───\n",
       "       │    │\n",
       "q1: ───nX───nY───</pre>"
      ],
      "text/plain": [
       "q0: ───nY───nX───\n",
       "       │    │\n",
       "q1: ───nX───nY───"
      ]
     },
     "metadata": {},
     "output_type": "display_data"
    },
    {
     "data": {
      "text/html": [
       "<pre style=\"overflow: auto; white-space: pre;\">q0: ───nY───nX───\n",
       "       │    │\n",
       "q1: ───nX───nZ───</pre>"
      ],
      "text/plain": [
       "q0: ───nY───nX───\n",
       "       │    │\n",
       "q1: ───nX───nZ───"
      ]
     },
     "metadata": {},
     "output_type": "display_data"
    },
    {
     "data": {
      "text/html": [
       "<pre style=\"overflow: auto; white-space: pre;\">q0: ───nY───nY───\n",
       "       │    │\n",
       "q1: ───nX───X────</pre>"
      ],
      "text/plain": [
       "q0: ───nY───nY───\n",
       "       │    │\n",
       "q1: ───nX───X────"
      ]
     },
     "metadata": {},
     "output_type": "display_data"
    },
    {
     "data": {
      "text/html": [
       "<pre style=\"overflow: auto; white-space: pre;\">q0: ───nY───nY───\n",
       "       │    │\n",
       "q1: ───nX───Y────</pre>"
      ],
      "text/plain": [
       "q0: ───nY───nY───\n",
       "       │    │\n",
       "q1: ───nX───Y────"
      ]
     },
     "metadata": {},
     "output_type": "display_data"
    },
    {
     "data": {
      "text/html": [
       "<pre style=\"overflow: auto; white-space: pre;\">q0: ───nY───nY───\n",
       "       │    │\n",
       "q1: ───nX───Z────</pre>"
      ],
      "text/plain": [
       "q0: ───nY───nY───\n",
       "       │    │\n",
       "q1: ───nX───Z────"
      ]
     },
     "metadata": {},
     "output_type": "display_data"
    },
    {
     "data": {
      "text/html": [
       "<pre style=\"overflow: auto; white-space: pre;\">q0: ───nY───nY───\n",
       "       │    │\n",
       "q1: ───nX───nX───</pre>"
      ],
      "text/plain": [
       "q0: ───nY───nY───\n",
       "       │    │\n",
       "q1: ───nX───nX───"
      ]
     },
     "metadata": {},
     "output_type": "display_data"
    },
    {
     "data": {
      "text/html": [
       "<pre style=\"overflow: auto; white-space: pre;\">q0: ───nY───nY───\n",
       "       │    │\n",
       "q1: ───nX───nY───</pre>"
      ],
      "text/plain": [
       "q0: ───nY───nY───\n",
       "       │    │\n",
       "q1: ───nX───nY───"
      ]
     },
     "metadata": {},
     "output_type": "display_data"
    },
    {
     "data": {
      "text/html": [
       "<pre style=\"overflow: auto; white-space: pre;\">q0: ───nY───nY───\n",
       "       │    │\n",
       "q1: ───nX───nZ───</pre>"
      ],
      "text/plain": [
       "q0: ───nY───nY───\n",
       "       │    │\n",
       "q1: ───nX───nZ───"
      ]
     },
     "metadata": {},
     "output_type": "display_data"
    },
    {
     "data": {
      "text/html": [
       "<pre style=\"overflow: auto; white-space: pre;\">q0: ───nY───nZ───\n",
       "       │    │\n",
       "q1: ───nX───X────</pre>"
      ],
      "text/plain": [
       "q0: ───nY───nZ───\n",
       "       │    │\n",
       "q1: ───nX───X────"
      ]
     },
     "metadata": {},
     "output_type": "display_data"
    },
    {
     "data": {
      "text/html": [
       "<pre style=\"overflow: auto; white-space: pre;\">q0: ───nY───nZ───\n",
       "       │    │\n",
       "q1: ───nX───Y────</pre>"
      ],
      "text/plain": [
       "q0: ───nY───nZ───\n",
       "       │    │\n",
       "q1: ───nX───Y────"
      ]
     },
     "metadata": {},
     "output_type": "display_data"
    },
    {
     "data": {
      "text/html": [
       "<pre style=\"overflow: auto; white-space: pre;\">q0: ───nY───nZ───\n",
       "       │    │\n",
       "q1: ───nX───Z────</pre>"
      ],
      "text/plain": [
       "q0: ───nY───nZ───\n",
       "       │    │\n",
       "q1: ───nX───Z────"
      ]
     },
     "metadata": {},
     "output_type": "display_data"
    },
    {
     "data": {
      "text/html": [
       "<pre style=\"overflow: auto; white-space: pre;\">q0: ───nY───nZ───\n",
       "       │    │\n",
       "q1: ───nX───nX───</pre>"
      ],
      "text/plain": [
       "q0: ───nY───nZ───\n",
       "       │    │\n",
       "q1: ───nX───nX───"
      ]
     },
     "metadata": {},
     "output_type": "display_data"
    },
    {
     "data": {
      "text/html": [
       "<pre style=\"overflow: auto; white-space: pre;\">q0: ───nY───nZ───\n",
       "       │    │\n",
       "q1: ───nX───nY───</pre>"
      ],
      "text/plain": [
       "q0: ───nY───nZ───\n",
       "       │    │\n",
       "q1: ───nX───nY───"
      ]
     },
     "metadata": {},
     "output_type": "display_data"
    },
    {
     "data": {
      "text/html": [
       "<pre style=\"overflow: auto; white-space: pre;\">q0: ───nY───nZ───\n",
       "       │    │\n",
       "q1: ───nX───nZ───</pre>"
      ],
      "text/plain": [
       "q0: ───nY───nZ───\n",
       "       │    │\n",
       "q1: ───nX───nZ───"
      ]
     },
     "metadata": {},
     "output_type": "display_data"
    },
    {
     "data": {
      "text/html": [
       "<pre style=\"overflow: auto; white-space: pre;\">q0: ───nY───X───\n",
       "       │    │\n",
       "q1: ───nY───X───</pre>"
      ],
      "text/plain": [
       "q0: ───nY───X───\n",
       "       │    │\n",
       "q1: ───nY───X───"
      ]
     },
     "metadata": {},
     "output_type": "display_data"
    },
    {
     "data": {
      "text/html": [
       "<pre style=\"overflow: auto; white-space: pre;\">q0: ───nY───X───\n",
       "       │    │\n",
       "q1: ───nY───Y───</pre>"
      ],
      "text/plain": [
       "q0: ───nY───X───\n",
       "       │    │\n",
       "q1: ───nY───Y───"
      ]
     },
     "metadata": {},
     "output_type": "display_data"
    },
    {
     "data": {
      "text/html": [
       "<pre style=\"overflow: auto; white-space: pre;\">q0: ───nY───X───\n",
       "       │    │\n",
       "q1: ───nY───Z───</pre>"
      ],
      "text/plain": [
       "q0: ───nY───X───\n",
       "       │    │\n",
       "q1: ───nY───Z───"
      ]
     },
     "metadata": {},
     "output_type": "display_data"
    },
    {
     "data": {
      "text/html": [
       "<pre style=\"overflow: auto; white-space: pre;\">q0: ───nY───X────\n",
       "       │    │\n",
       "q1: ───nY───nX───</pre>"
      ],
      "text/plain": [
       "q0: ───nY───X────\n",
       "       │    │\n",
       "q1: ───nY───nX───"
      ]
     },
     "metadata": {},
     "output_type": "display_data"
    },
    {
     "data": {
      "text/html": [
       "<pre style=\"overflow: auto; white-space: pre;\">q0: ───nY───X────\n",
       "       │    │\n",
       "q1: ───nY───nY───</pre>"
      ],
      "text/plain": [
       "q0: ───nY───X────\n",
       "       │    │\n",
       "q1: ───nY───nY───"
      ]
     },
     "metadata": {},
     "output_type": "display_data"
    },
    {
     "data": {
      "text/html": [
       "<pre style=\"overflow: auto; white-space: pre;\">q0: ───nY───X────\n",
       "       │    │\n",
       "q1: ───nY───nZ───</pre>"
      ],
      "text/plain": [
       "q0: ───nY───X────\n",
       "       │    │\n",
       "q1: ───nY───nZ───"
      ]
     },
     "metadata": {},
     "output_type": "display_data"
    },
    {
     "data": {
      "text/html": [
       "<pre style=\"overflow: auto; white-space: pre;\">q0: ───nY───Y───\n",
       "       │    │\n",
       "q1: ───nY───X───</pre>"
      ],
      "text/plain": [
       "q0: ───nY───Y───\n",
       "       │    │\n",
       "q1: ───nY───X───"
      ]
     },
     "metadata": {},
     "output_type": "display_data"
    },
    {
     "data": {
      "text/html": [
       "<pre style=\"overflow: auto; white-space: pre;\">q0: ───nY───Y───\n",
       "       │    │\n",
       "q1: ───nY───Y───</pre>"
      ],
      "text/plain": [
       "q0: ───nY───Y───\n",
       "       │    │\n",
       "q1: ───nY───Y───"
      ]
     },
     "metadata": {},
     "output_type": "display_data"
    },
    {
     "data": {
      "text/html": [
       "<pre style=\"overflow: auto; white-space: pre;\">q0: ───nY───Y───\n",
       "       │    │\n",
       "q1: ───nY───Z───</pre>"
      ],
      "text/plain": [
       "q0: ───nY───Y───\n",
       "       │    │\n",
       "q1: ───nY───Z───"
      ]
     },
     "metadata": {},
     "output_type": "display_data"
    },
    {
     "data": {
      "text/html": [
       "<pre style=\"overflow: auto; white-space: pre;\">q0: ───nY───Y────\n",
       "       │    │\n",
       "q1: ───nY───nX───</pre>"
      ],
      "text/plain": [
       "q0: ───nY───Y────\n",
       "       │    │\n",
       "q1: ───nY───nX───"
      ]
     },
     "metadata": {},
     "output_type": "display_data"
    },
    {
     "data": {
      "text/html": [
       "<pre style=\"overflow: auto; white-space: pre;\">q0: ───nY───Y────\n",
       "       │    │\n",
       "q1: ───nY───nY───</pre>"
      ],
      "text/plain": [
       "q0: ───nY───Y────\n",
       "       │    │\n",
       "q1: ───nY───nY───"
      ]
     },
     "metadata": {},
     "output_type": "display_data"
    },
    {
     "data": {
      "text/html": [
       "<pre style=\"overflow: auto; white-space: pre;\">q0: ───nY───Y────\n",
       "       │    │\n",
       "q1: ───nY───nZ───</pre>"
      ],
      "text/plain": [
       "q0: ───nY───Y────\n",
       "       │    │\n",
       "q1: ───nY───nZ───"
      ]
     },
     "metadata": {},
     "output_type": "display_data"
    },
    {
     "data": {
      "text/html": [
       "<pre style=\"overflow: auto; white-space: pre;\">q0: ───nY───Z───\n",
       "       │    │\n",
       "q1: ───nY───X───</pre>"
      ],
      "text/plain": [
       "q0: ───nY───Z───\n",
       "       │    │\n",
       "q1: ───nY───X───"
      ]
     },
     "metadata": {},
     "output_type": "display_data"
    },
    {
     "data": {
      "text/html": [
       "<pre style=\"overflow: auto; white-space: pre;\">q0: ───nY───Z───\n",
       "       │    │\n",
       "q1: ───nY───Y───</pre>"
      ],
      "text/plain": [
       "q0: ───nY───Z───\n",
       "       │    │\n",
       "q1: ───nY───Y───"
      ]
     },
     "metadata": {},
     "output_type": "display_data"
    },
    {
     "data": {
      "text/html": [
       "<pre style=\"overflow: auto; white-space: pre;\">q0: ───nY───Z───\n",
       "       │    │\n",
       "q1: ───nY───Z───</pre>"
      ],
      "text/plain": [
       "q0: ───nY───Z───\n",
       "       │    │\n",
       "q1: ───nY───Z───"
      ]
     },
     "metadata": {},
     "output_type": "display_data"
    },
    {
     "data": {
      "text/html": [
       "<pre style=\"overflow: auto; white-space: pre;\">q0: ───nY───Z────\n",
       "       │    │\n",
       "q1: ───nY───nX───</pre>"
      ],
      "text/plain": [
       "q0: ───nY───Z────\n",
       "       │    │\n",
       "q1: ───nY───nX───"
      ]
     },
     "metadata": {},
     "output_type": "display_data"
    },
    {
     "data": {
      "text/html": [
       "<pre style=\"overflow: auto; white-space: pre;\">q0: ───nY───Z────\n",
       "       │    │\n",
       "q1: ───nY───nY───</pre>"
      ],
      "text/plain": [
       "q0: ───nY───Z────\n",
       "       │    │\n",
       "q1: ───nY───nY───"
      ]
     },
     "metadata": {},
     "output_type": "display_data"
    },
    {
     "data": {
      "text/html": [
       "<pre style=\"overflow: auto; white-space: pre;\">q0: ───nY───Z────\n",
       "       │    │\n",
       "q1: ───nY───nZ───</pre>"
      ],
      "text/plain": [
       "q0: ───nY───Z────\n",
       "       │    │\n",
       "q1: ───nY───nZ───"
      ]
     },
     "metadata": {},
     "output_type": "display_data"
    },
    {
     "data": {
      "text/html": [
       "<pre style=\"overflow: auto; white-space: pre;\">q0: ───nY───nX───\n",
       "       │    │\n",
       "q1: ───nY───X────</pre>"
      ],
      "text/plain": [
       "q0: ───nY───nX───\n",
       "       │    │\n",
       "q1: ───nY───X────"
      ]
     },
     "metadata": {},
     "output_type": "display_data"
    },
    {
     "data": {
      "text/html": [
       "<pre style=\"overflow: auto; white-space: pre;\">q0: ───nY───nX───\n",
       "       │    │\n",
       "q1: ───nY───Y────</pre>"
      ],
      "text/plain": [
       "q0: ───nY───nX───\n",
       "       │    │\n",
       "q1: ───nY───Y────"
      ]
     },
     "metadata": {},
     "output_type": "display_data"
    },
    {
     "data": {
      "text/html": [
       "<pre style=\"overflow: auto; white-space: pre;\">q0: ───nY───nX───\n",
       "       │    │\n",
       "q1: ───nY───Z────</pre>"
      ],
      "text/plain": [
       "q0: ───nY───nX───\n",
       "       │    │\n",
       "q1: ───nY───Z────"
      ]
     },
     "metadata": {},
     "output_type": "display_data"
    },
    {
     "data": {
      "text/html": [
       "<pre style=\"overflow: auto; white-space: pre;\">q0: ───nY───nX───\n",
       "       │    │\n",
       "q1: ───nY───nX───</pre>"
      ],
      "text/plain": [
       "q0: ───nY───nX───\n",
       "       │    │\n",
       "q1: ───nY───nX───"
      ]
     },
     "metadata": {},
     "output_type": "display_data"
    },
    {
     "data": {
      "text/html": [
       "<pre style=\"overflow: auto; white-space: pre;\">q0: ───nY───nX───\n",
       "       │    │\n",
       "q1: ───nY───nY───</pre>"
      ],
      "text/plain": [
       "q0: ───nY───nX───\n",
       "       │    │\n",
       "q1: ───nY───nY───"
      ]
     },
     "metadata": {},
     "output_type": "display_data"
    },
    {
     "data": {
      "text/html": [
       "<pre style=\"overflow: auto; white-space: pre;\">q0: ───nY───nX───\n",
       "       │    │\n",
       "q1: ───nY───nZ───</pre>"
      ],
      "text/plain": [
       "q0: ───nY───nX───\n",
       "       │    │\n",
       "q1: ───nY───nZ───"
      ]
     },
     "metadata": {},
     "output_type": "display_data"
    },
    {
     "data": {
      "text/html": [
       "<pre style=\"overflow: auto; white-space: pre;\">q0: ───nY───nY───\n",
       "       │    │\n",
       "q1: ───nY───X────</pre>"
      ],
      "text/plain": [
       "q0: ───nY───nY───\n",
       "       │    │\n",
       "q1: ───nY───X────"
      ]
     },
     "metadata": {},
     "output_type": "display_data"
    },
    {
     "data": {
      "text/html": [
       "<pre style=\"overflow: auto; white-space: pre;\">q0: ───nY───nY───\n",
       "       │    │\n",
       "q1: ───nY───Y────</pre>"
      ],
      "text/plain": [
       "q0: ───nY───nY───\n",
       "       │    │\n",
       "q1: ───nY───Y────"
      ]
     },
     "metadata": {},
     "output_type": "display_data"
    },
    {
     "data": {
      "text/html": [
       "<pre style=\"overflow: auto; white-space: pre;\">q0: ───nY───nY───\n",
       "       │    │\n",
       "q1: ───nY───Z────</pre>"
      ],
      "text/plain": [
       "q0: ───nY───nY───\n",
       "       │    │\n",
       "q1: ───nY───Z────"
      ]
     },
     "metadata": {},
     "output_type": "display_data"
    },
    {
     "data": {
      "text/html": [
       "<pre style=\"overflow: auto; white-space: pre;\">q0: ───nY───nY───\n",
       "       │    │\n",
       "q1: ───nY───nX───</pre>"
      ],
      "text/plain": [
       "q0: ───nY───nY───\n",
       "       │    │\n",
       "q1: ───nY───nX───"
      ]
     },
     "metadata": {},
     "output_type": "display_data"
    },
    {
     "data": {
      "text/html": [
       "<pre style=\"overflow: auto; white-space: pre;\">q0: ───nY───nY───\n",
       "       │    │\n",
       "q1: ───nY───nY───</pre>"
      ],
      "text/plain": [
       "q0: ───nY───nY───\n",
       "       │    │\n",
       "q1: ───nY───nY───"
      ]
     },
     "metadata": {},
     "output_type": "display_data"
    },
    {
     "data": {
      "text/html": [
       "<pre style=\"overflow: auto; white-space: pre;\">q0: ───nY───nY───\n",
       "       │    │\n",
       "q1: ───nY───nZ───</pre>"
      ],
      "text/plain": [
       "q0: ───nY───nY───\n",
       "       │    │\n",
       "q1: ───nY───nZ───"
      ]
     },
     "metadata": {},
     "output_type": "display_data"
    },
    {
     "data": {
      "text/html": [
       "<pre style=\"overflow: auto; white-space: pre;\">q0: ───nY───nZ───\n",
       "       │    │\n",
       "q1: ───nY───X────</pre>"
      ],
      "text/plain": [
       "q0: ───nY───nZ───\n",
       "       │    │\n",
       "q1: ───nY───X────"
      ]
     },
     "metadata": {},
     "output_type": "display_data"
    },
    {
     "data": {
      "text/html": [
       "<pre style=\"overflow: auto; white-space: pre;\">q0: ───nY───nZ───\n",
       "       │    │\n",
       "q1: ───nY───Y────</pre>"
      ],
      "text/plain": [
       "q0: ───nY───nZ───\n",
       "       │    │\n",
       "q1: ───nY───Y────"
      ]
     },
     "metadata": {},
     "output_type": "display_data"
    },
    {
     "data": {
      "text/html": [
       "<pre style=\"overflow: auto; white-space: pre;\">q0: ───nY───nZ───\n",
       "       │    │\n",
       "q1: ───nY───Z────</pre>"
      ],
      "text/plain": [
       "q0: ───nY───nZ───\n",
       "       │    │\n",
       "q1: ───nY───Z────"
      ]
     },
     "metadata": {},
     "output_type": "display_data"
    },
    {
     "data": {
      "text/html": [
       "<pre style=\"overflow: auto; white-space: pre;\">q0: ───nY───nZ───\n",
       "       │    │\n",
       "q1: ───nY───nX───</pre>"
      ],
      "text/plain": [
       "q0: ───nY───nZ───\n",
       "       │    │\n",
       "q1: ───nY───nX───"
      ]
     },
     "metadata": {},
     "output_type": "display_data"
    },
    {
     "data": {
      "text/html": [
       "<pre style=\"overflow: auto; white-space: pre;\">q0: ───nY───nZ───\n",
       "       │    │\n",
       "q1: ───nY───nY───</pre>"
      ],
      "text/plain": [
       "q0: ───nY───nZ───\n",
       "       │    │\n",
       "q1: ───nY───nY───"
      ]
     },
     "metadata": {},
     "output_type": "display_data"
    },
    {
     "data": {
      "text/html": [
       "<pre style=\"overflow: auto; white-space: pre;\">q0: ───nY───nZ───\n",
       "       │    │\n",
       "q1: ───nY───nZ───</pre>"
      ],
      "text/plain": [
       "q0: ───nY───nZ───\n",
       "       │    │\n",
       "q1: ───nY───nZ───"
      ]
     },
     "metadata": {},
     "output_type": "display_data"
    },
    {
     "data": {
      "text/html": [
       "<pre style=\"overflow: auto; white-space: pre;\">q0: ───nY───X───\n",
       "       │    │\n",
       "q1: ───nZ───X───</pre>"
      ],
      "text/plain": [
       "q0: ───nY───X───\n",
       "       │    │\n",
       "q1: ───nZ───X───"
      ]
     },
     "metadata": {},
     "output_type": "display_data"
    },
    {
     "data": {
      "text/html": [
       "<pre style=\"overflow: auto; white-space: pre;\">q0: ───nY───X───\n",
       "       │    │\n",
       "q1: ───nZ───Y───</pre>"
      ],
      "text/plain": [
       "q0: ───nY───X───\n",
       "       │    │\n",
       "q1: ───nZ───Y───"
      ]
     },
     "metadata": {},
     "output_type": "display_data"
    },
    {
     "data": {
      "text/html": [
       "<pre style=\"overflow: auto; white-space: pre;\">q0: ───nY───X───\n",
       "       │    │\n",
       "q1: ───nZ───Z───</pre>"
      ],
      "text/plain": [
       "q0: ───nY───X───\n",
       "       │    │\n",
       "q1: ───nZ───Z───"
      ]
     },
     "metadata": {},
     "output_type": "display_data"
    },
    {
     "data": {
      "text/html": [
       "<pre style=\"overflow: auto; white-space: pre;\">q0: ───nY───X────\n",
       "       │    │\n",
       "q1: ───nZ───nX───</pre>"
      ],
      "text/plain": [
       "q0: ───nY───X────\n",
       "       │    │\n",
       "q1: ───nZ───nX───"
      ]
     },
     "metadata": {},
     "output_type": "display_data"
    },
    {
     "data": {
      "text/html": [
       "<pre style=\"overflow: auto; white-space: pre;\">q0: ───nY───X────\n",
       "       │    │\n",
       "q1: ───nZ───nY───</pre>"
      ],
      "text/plain": [
       "q0: ───nY───X────\n",
       "       │    │\n",
       "q1: ───nZ───nY───"
      ]
     },
     "metadata": {},
     "output_type": "display_data"
    },
    {
     "data": {
      "text/html": [
       "<pre style=\"overflow: auto; white-space: pre;\">q0: ───nY───X────\n",
       "       │    │\n",
       "q1: ───nZ───nZ───</pre>"
      ],
      "text/plain": [
       "q0: ───nY───X────\n",
       "       │    │\n",
       "q1: ───nZ───nZ───"
      ]
     },
     "metadata": {},
     "output_type": "display_data"
    },
    {
     "data": {
      "text/html": [
       "<pre style=\"overflow: auto; white-space: pre;\">q0: ───nY───Y───\n",
       "       │    │\n",
       "q1: ───nZ───X───</pre>"
      ],
      "text/plain": [
       "q0: ───nY───Y───\n",
       "       │    │\n",
       "q1: ───nZ───X───"
      ]
     },
     "metadata": {},
     "output_type": "display_data"
    },
    {
     "data": {
      "text/html": [
       "<pre style=\"overflow: auto; white-space: pre;\">q0: ───nY───Y───\n",
       "       │    │\n",
       "q1: ───nZ───Y───</pre>"
      ],
      "text/plain": [
       "q0: ───nY───Y───\n",
       "       │    │\n",
       "q1: ───nZ───Y───"
      ]
     },
     "metadata": {},
     "output_type": "display_data"
    },
    {
     "data": {
      "text/html": [
       "<pre style=\"overflow: auto; white-space: pre;\">q0: ───nY───Y───\n",
       "       │    │\n",
       "q1: ───nZ───Z───</pre>"
      ],
      "text/plain": [
       "q0: ───nY───Y───\n",
       "       │    │\n",
       "q1: ───nZ───Z───"
      ]
     },
     "metadata": {},
     "output_type": "display_data"
    },
    {
     "data": {
      "text/html": [
       "<pre style=\"overflow: auto; white-space: pre;\">q0: ───nY───Y────\n",
       "       │    │\n",
       "q1: ───nZ───nX───</pre>"
      ],
      "text/plain": [
       "q0: ───nY───Y────\n",
       "       │    │\n",
       "q1: ───nZ───nX───"
      ]
     },
     "metadata": {},
     "output_type": "display_data"
    },
    {
     "data": {
      "text/html": [
       "<pre style=\"overflow: auto; white-space: pre;\">q0: ───nY───Y────\n",
       "       │    │\n",
       "q1: ───nZ───nY───</pre>"
      ],
      "text/plain": [
       "q0: ───nY───Y────\n",
       "       │    │\n",
       "q1: ───nZ───nY───"
      ]
     },
     "metadata": {},
     "output_type": "display_data"
    },
    {
     "data": {
      "text/html": [
       "<pre style=\"overflow: auto; white-space: pre;\">q0: ───nY───Y────\n",
       "       │    │\n",
       "q1: ───nZ───nZ───</pre>"
      ],
      "text/plain": [
       "q0: ───nY───Y────\n",
       "       │    │\n",
       "q1: ───nZ───nZ───"
      ]
     },
     "metadata": {},
     "output_type": "display_data"
    },
    {
     "data": {
      "text/html": [
       "<pre style=\"overflow: auto; white-space: pre;\">q0: ───nY───Z───\n",
       "       │    │\n",
       "q1: ───nZ───X───</pre>"
      ],
      "text/plain": [
       "q0: ───nY───Z───\n",
       "       │    │\n",
       "q1: ───nZ───X───"
      ]
     },
     "metadata": {},
     "output_type": "display_data"
    },
    {
     "data": {
      "text/html": [
       "<pre style=\"overflow: auto; white-space: pre;\">q0: ───nY───Z───\n",
       "       │    │\n",
       "q1: ───nZ───Y───</pre>"
      ],
      "text/plain": [
       "q0: ───nY───Z───\n",
       "       │    │\n",
       "q1: ───nZ───Y───"
      ]
     },
     "metadata": {},
     "output_type": "display_data"
    },
    {
     "data": {
      "text/html": [
       "<pre style=\"overflow: auto; white-space: pre;\">q0: ───nY───Z───\n",
       "       │    │\n",
       "q1: ───nZ───Z───</pre>"
      ],
      "text/plain": [
       "q0: ───nY───Z───\n",
       "       │    │\n",
       "q1: ───nZ───Z───"
      ]
     },
     "metadata": {},
     "output_type": "display_data"
    },
    {
     "data": {
      "text/html": [
       "<pre style=\"overflow: auto; white-space: pre;\">q0: ───nY───Z────\n",
       "       │    │\n",
       "q1: ───nZ───nX───</pre>"
      ],
      "text/plain": [
       "q0: ───nY───Z────\n",
       "       │    │\n",
       "q1: ───nZ───nX───"
      ]
     },
     "metadata": {},
     "output_type": "display_data"
    },
    {
     "data": {
      "text/html": [
       "<pre style=\"overflow: auto; white-space: pre;\">q0: ───nY───Z────\n",
       "       │    │\n",
       "q1: ───nZ───nY───</pre>"
      ],
      "text/plain": [
       "q0: ───nY───Z────\n",
       "       │    │\n",
       "q1: ───nZ───nY───"
      ]
     },
     "metadata": {},
     "output_type": "display_data"
    },
    {
     "data": {
      "text/html": [
       "<pre style=\"overflow: auto; white-space: pre;\">q0: ───nY───Z────\n",
       "       │    │\n",
       "q1: ───nZ───nZ───</pre>"
      ],
      "text/plain": [
       "q0: ───nY───Z────\n",
       "       │    │\n",
       "q1: ───nZ───nZ───"
      ]
     },
     "metadata": {},
     "output_type": "display_data"
    },
    {
     "data": {
      "text/html": [
       "<pre style=\"overflow: auto; white-space: pre;\">q0: ───nY───nX───\n",
       "       │    │\n",
       "q1: ───nZ───X────</pre>"
      ],
      "text/plain": [
       "q0: ───nY───nX───\n",
       "       │    │\n",
       "q1: ───nZ───X────"
      ]
     },
     "metadata": {},
     "output_type": "display_data"
    },
    {
     "data": {
      "text/html": [
       "<pre style=\"overflow: auto; white-space: pre;\">q0: ───nY───nX───\n",
       "       │    │\n",
       "q1: ───nZ───Y────</pre>"
      ],
      "text/plain": [
       "q0: ───nY───nX───\n",
       "       │    │\n",
       "q1: ───nZ───Y────"
      ]
     },
     "metadata": {},
     "output_type": "display_data"
    },
    {
     "data": {
      "text/html": [
       "<pre style=\"overflow: auto; white-space: pre;\">q0: ───nY───nX───\n",
       "       │    │\n",
       "q1: ───nZ───Z────</pre>"
      ],
      "text/plain": [
       "q0: ───nY───nX───\n",
       "       │    │\n",
       "q1: ───nZ───Z────"
      ]
     },
     "metadata": {},
     "output_type": "display_data"
    },
    {
     "data": {
      "text/html": [
       "<pre style=\"overflow: auto; white-space: pre;\">q0: ───nY───nX───\n",
       "       │    │\n",
       "q1: ───nZ───nX───</pre>"
      ],
      "text/plain": [
       "q0: ───nY───nX───\n",
       "       │    │\n",
       "q1: ───nZ───nX───"
      ]
     },
     "metadata": {},
     "output_type": "display_data"
    },
    {
     "data": {
      "text/html": [
       "<pre style=\"overflow: auto; white-space: pre;\">q0: ───nY───nX───\n",
       "       │    │\n",
       "q1: ───nZ───nY───</pre>"
      ],
      "text/plain": [
       "q0: ───nY───nX───\n",
       "       │    │\n",
       "q1: ───nZ───nY───"
      ]
     },
     "metadata": {},
     "output_type": "display_data"
    },
    {
     "data": {
      "text/html": [
       "<pre style=\"overflow: auto; white-space: pre;\">q0: ───nY───nX───\n",
       "       │    │\n",
       "q1: ───nZ───nZ───</pre>"
      ],
      "text/plain": [
       "q0: ───nY───nX───\n",
       "       │    │\n",
       "q1: ───nZ───nZ───"
      ]
     },
     "metadata": {},
     "output_type": "display_data"
    },
    {
     "data": {
      "text/html": [
       "<pre style=\"overflow: auto; white-space: pre;\">q0: ───nY───nY───\n",
       "       │    │\n",
       "q1: ───nZ───X────</pre>"
      ],
      "text/plain": [
       "q0: ───nY───nY───\n",
       "       │    │\n",
       "q1: ───nZ───X────"
      ]
     },
     "metadata": {},
     "output_type": "display_data"
    },
    {
     "data": {
      "text/html": [
       "<pre style=\"overflow: auto; white-space: pre;\">q0: ───nY───nY───\n",
       "       │    │\n",
       "q1: ───nZ───Y────</pre>"
      ],
      "text/plain": [
       "q0: ───nY───nY───\n",
       "       │    │\n",
       "q1: ───nZ───Y────"
      ]
     },
     "metadata": {},
     "output_type": "display_data"
    },
    {
     "data": {
      "text/html": [
       "<pre style=\"overflow: auto; white-space: pre;\">q0: ───nY───nY───\n",
       "       │    │\n",
       "q1: ───nZ───Z────</pre>"
      ],
      "text/plain": [
       "q0: ───nY───nY───\n",
       "       │    │\n",
       "q1: ───nZ───Z────"
      ]
     },
     "metadata": {},
     "output_type": "display_data"
    },
    {
     "data": {
      "text/html": [
       "<pre style=\"overflow: auto; white-space: pre;\">q0: ───nY───nY───\n",
       "       │    │\n",
       "q1: ───nZ───nX───</pre>"
      ],
      "text/plain": [
       "q0: ───nY───nY───\n",
       "       │    │\n",
       "q1: ───nZ───nX───"
      ]
     },
     "metadata": {},
     "output_type": "display_data"
    },
    {
     "data": {
      "text/html": [
       "<pre style=\"overflow: auto; white-space: pre;\">q0: ───nY───nY───\n",
       "       │    │\n",
       "q1: ───nZ───nY───</pre>"
      ],
      "text/plain": [
       "q0: ───nY───nY───\n",
       "       │    │\n",
       "q1: ───nZ───nY───"
      ]
     },
     "metadata": {},
     "output_type": "display_data"
    },
    {
     "data": {
      "text/html": [
       "<pre style=\"overflow: auto; white-space: pre;\">q0: ───nY───nY───\n",
       "       │    │\n",
       "q1: ───nZ───nZ───</pre>"
      ],
      "text/plain": [
       "q0: ───nY───nY───\n",
       "       │    │\n",
       "q1: ───nZ───nZ───"
      ]
     },
     "metadata": {},
     "output_type": "display_data"
    },
    {
     "data": {
      "text/html": [
       "<pre style=\"overflow: auto; white-space: pre;\">q0: ───nY───nZ───\n",
       "       │    │\n",
       "q1: ───nZ───X────</pre>"
      ],
      "text/plain": [
       "q0: ───nY───nZ───\n",
       "       │    │\n",
       "q1: ───nZ───X────"
      ]
     },
     "metadata": {},
     "output_type": "display_data"
    },
    {
     "data": {
      "text/html": [
       "<pre style=\"overflow: auto; white-space: pre;\">q0: ───nY───nZ───\n",
       "       │    │\n",
       "q1: ───nZ───Y────</pre>"
      ],
      "text/plain": [
       "q0: ───nY───nZ───\n",
       "       │    │\n",
       "q1: ───nZ───Y────"
      ]
     },
     "metadata": {},
     "output_type": "display_data"
    },
    {
     "data": {
      "text/html": [
       "<pre style=\"overflow: auto; white-space: pre;\">q0: ───nY───nZ───\n",
       "       │    │\n",
       "q1: ───nZ───Z────</pre>"
      ],
      "text/plain": [
       "q0: ───nY───nZ───\n",
       "       │    │\n",
       "q1: ───nZ───Z────"
      ]
     },
     "metadata": {},
     "output_type": "display_data"
    },
    {
     "data": {
      "text/html": [
       "<pre style=\"overflow: auto; white-space: pre;\">q0: ───nY───nZ───\n",
       "       │    │\n",
       "q1: ───nZ───nX───</pre>"
      ],
      "text/plain": [
       "q0: ───nY───nZ───\n",
       "       │    │\n",
       "q1: ───nZ───nX───"
      ]
     },
     "metadata": {},
     "output_type": "display_data"
    },
    {
     "data": {
      "text/html": [
       "<pre style=\"overflow: auto; white-space: pre;\">q0: ───nY───nZ───\n",
       "       │    │\n",
       "q1: ───nZ───nY───</pre>"
      ],
      "text/plain": [
       "q0: ───nY───nZ───\n",
       "       │    │\n",
       "q1: ───nZ───nY───"
      ]
     },
     "metadata": {},
     "output_type": "display_data"
    },
    {
     "data": {
      "text/html": [
       "<pre style=\"overflow: auto; white-space: pre;\">q0: ───nY───nZ───\n",
       "       │    │\n",
       "q1: ───nZ───nZ───</pre>"
      ],
      "text/plain": [
       "q0: ───nY───nZ───\n",
       "       │    │\n",
       "q1: ───nZ───nZ───"
      ]
     },
     "metadata": {},
     "output_type": "display_data"
    },
    {
     "data": {
      "text/html": [
       "<pre style=\"overflow: auto; white-space: pre;\">q0: ───nZ───X───\n",
       "       │    │\n",
       "q1: ───X────X───</pre>"
      ],
      "text/plain": [
       "q0: ───nZ───X───\n",
       "       │    │\n",
       "q1: ───X────X───"
      ]
     },
     "metadata": {},
     "output_type": "display_data"
    },
    {
     "data": {
      "text/html": [
       "<pre style=\"overflow: auto; white-space: pre;\">q0: ───nZ───X───\n",
       "       │    │\n",
       "q1: ───X────Y───</pre>"
      ],
      "text/plain": [
       "q0: ───nZ───X───\n",
       "       │    │\n",
       "q1: ───X────Y───"
      ]
     },
     "metadata": {},
     "output_type": "display_data"
    },
    {
     "data": {
      "text/html": [
       "<pre style=\"overflow: auto; white-space: pre;\">q0: ───nZ───X───\n",
       "       │    │\n",
       "q1: ───X────Z───</pre>"
      ],
      "text/plain": [
       "q0: ───nZ───X───\n",
       "       │    │\n",
       "q1: ───X────Z───"
      ]
     },
     "metadata": {},
     "output_type": "display_data"
    },
    {
     "data": {
      "text/html": [
       "<pre style=\"overflow: auto; white-space: pre;\">q0: ───nZ───X────\n",
       "       │    │\n",
       "q1: ───X────nX───</pre>"
      ],
      "text/plain": [
       "q0: ───nZ───X────\n",
       "       │    │\n",
       "q1: ───X────nX───"
      ]
     },
     "metadata": {},
     "output_type": "display_data"
    },
    {
     "data": {
      "text/html": [
       "<pre style=\"overflow: auto; white-space: pre;\">q0: ───nZ───X────\n",
       "       │    │\n",
       "q1: ───X────nY───</pre>"
      ],
      "text/plain": [
       "q0: ───nZ───X────\n",
       "       │    │\n",
       "q1: ───X────nY───"
      ]
     },
     "metadata": {},
     "output_type": "display_data"
    },
    {
     "data": {
      "text/html": [
       "<pre style=\"overflow: auto; white-space: pre;\">q0: ───nZ───X────\n",
       "       │    │\n",
       "q1: ───X────nZ───</pre>"
      ],
      "text/plain": [
       "q0: ───nZ───X────\n",
       "       │    │\n",
       "q1: ───X────nZ───"
      ]
     },
     "metadata": {},
     "output_type": "display_data"
    },
    {
     "data": {
      "text/html": [
       "<pre style=\"overflow: auto; white-space: pre;\">q0: ───nZ───Y───\n",
       "       │    │\n",
       "q1: ───X────X───</pre>"
      ],
      "text/plain": [
       "q0: ───nZ───Y───\n",
       "       │    │\n",
       "q1: ───X────X───"
      ]
     },
     "metadata": {},
     "output_type": "display_data"
    },
    {
     "data": {
      "text/html": [
       "<pre style=\"overflow: auto; white-space: pre;\">q0: ───nZ───Y───\n",
       "       │    │\n",
       "q1: ───X────Y───</pre>"
      ],
      "text/plain": [
       "q0: ───nZ───Y───\n",
       "       │    │\n",
       "q1: ───X────Y───"
      ]
     },
     "metadata": {},
     "output_type": "display_data"
    },
    {
     "data": {
      "text/html": [
       "<pre style=\"overflow: auto; white-space: pre;\">q0: ───nZ───Y───\n",
       "       │    │\n",
       "q1: ───X────Z───</pre>"
      ],
      "text/plain": [
       "q0: ───nZ───Y───\n",
       "       │    │\n",
       "q1: ───X────Z───"
      ]
     },
     "metadata": {},
     "output_type": "display_data"
    },
    {
     "data": {
      "text/html": [
       "<pre style=\"overflow: auto; white-space: pre;\">q0: ───nZ───Y────\n",
       "       │    │\n",
       "q1: ───X────nX───</pre>"
      ],
      "text/plain": [
       "q0: ───nZ───Y────\n",
       "       │    │\n",
       "q1: ───X────nX───"
      ]
     },
     "metadata": {},
     "output_type": "display_data"
    },
    {
     "data": {
      "text/html": [
       "<pre style=\"overflow: auto; white-space: pre;\">q0: ───nZ───Y────\n",
       "       │    │\n",
       "q1: ───X────nY───</pre>"
      ],
      "text/plain": [
       "q0: ───nZ───Y────\n",
       "       │    │\n",
       "q1: ───X────nY───"
      ]
     },
     "metadata": {},
     "output_type": "display_data"
    },
    {
     "data": {
      "text/html": [
       "<pre style=\"overflow: auto; white-space: pre;\">q0: ───nZ───Y────\n",
       "       │    │\n",
       "q1: ───X────nZ───</pre>"
      ],
      "text/plain": [
       "q0: ───nZ───Y────\n",
       "       │    │\n",
       "q1: ───X────nZ───"
      ]
     },
     "metadata": {},
     "output_type": "display_data"
    },
    {
     "data": {
      "text/html": [
       "<pre style=\"overflow: auto; white-space: pre;\">q0: ───nZ───Z───\n",
       "       │    │\n",
       "q1: ───X────X───</pre>"
      ],
      "text/plain": [
       "q0: ───nZ───Z───\n",
       "       │    │\n",
       "q1: ───X────X───"
      ]
     },
     "metadata": {},
     "output_type": "display_data"
    },
    {
     "data": {
      "text/html": [
       "<pre style=\"overflow: auto; white-space: pre;\">q0: ───nZ───Z───\n",
       "       │    │\n",
       "q1: ───X────Y───</pre>"
      ],
      "text/plain": [
       "q0: ───nZ───Z───\n",
       "       │    │\n",
       "q1: ───X────Y───"
      ]
     },
     "metadata": {},
     "output_type": "display_data"
    },
    {
     "data": {
      "text/html": [
       "<pre style=\"overflow: auto; white-space: pre;\">q0: ───nZ───Z───\n",
       "       │    │\n",
       "q1: ───X────Z───</pre>"
      ],
      "text/plain": [
       "q0: ───nZ───Z───\n",
       "       │    │\n",
       "q1: ───X────Z───"
      ]
     },
     "metadata": {},
     "output_type": "display_data"
    },
    {
     "data": {
      "text/html": [
       "<pre style=\"overflow: auto; white-space: pre;\">q0: ───nZ───Z────\n",
       "       │    │\n",
       "q1: ───X────nX───</pre>"
      ],
      "text/plain": [
       "q0: ───nZ───Z────\n",
       "       │    │\n",
       "q1: ───X────nX───"
      ]
     },
     "metadata": {},
     "output_type": "display_data"
    },
    {
     "data": {
      "text/html": [
       "<pre style=\"overflow: auto; white-space: pre;\">q0: ───nZ───Z────\n",
       "       │    │\n",
       "q1: ───X────nY───</pre>"
      ],
      "text/plain": [
       "q0: ───nZ───Z────\n",
       "       │    │\n",
       "q1: ───X────nY───"
      ]
     },
     "metadata": {},
     "output_type": "display_data"
    },
    {
     "data": {
      "text/html": [
       "<pre style=\"overflow: auto; white-space: pre;\">q0: ───nZ───Z────\n",
       "       │    │\n",
       "q1: ───X────nZ───</pre>"
      ],
      "text/plain": [
       "q0: ───nZ───Z────\n",
       "       │    │\n",
       "q1: ───X────nZ───"
      ]
     },
     "metadata": {},
     "output_type": "display_data"
    },
    {
     "data": {
      "text/html": [
       "<pre style=\"overflow: auto; white-space: pre;\">q0: ───nZ───nX───\n",
       "       │    │\n",
       "q1: ───X────X────</pre>"
      ],
      "text/plain": [
       "q0: ───nZ───nX───\n",
       "       │    │\n",
       "q1: ───X────X────"
      ]
     },
     "metadata": {},
     "output_type": "display_data"
    },
    {
     "data": {
      "text/html": [
       "<pre style=\"overflow: auto; white-space: pre;\">q0: ───nZ───nX───\n",
       "       │    │\n",
       "q1: ───X────Y────</pre>"
      ],
      "text/plain": [
       "q0: ───nZ───nX───\n",
       "       │    │\n",
       "q1: ───X────Y────"
      ]
     },
     "metadata": {},
     "output_type": "display_data"
    },
    {
     "data": {
      "text/html": [
       "<pre style=\"overflow: auto; white-space: pre;\">q0: ───nZ───nX───\n",
       "       │    │\n",
       "q1: ───X────Z────</pre>"
      ],
      "text/plain": [
       "q0: ───nZ───nX───\n",
       "       │    │\n",
       "q1: ───X────Z────"
      ]
     },
     "metadata": {},
     "output_type": "display_data"
    },
    {
     "data": {
      "text/html": [
       "<pre style=\"overflow: auto; white-space: pre;\">q0: ───nZ───nX───\n",
       "       │    │\n",
       "q1: ───X────nX───</pre>"
      ],
      "text/plain": [
       "q0: ───nZ───nX───\n",
       "       │    │\n",
       "q1: ───X────nX───"
      ]
     },
     "metadata": {},
     "output_type": "display_data"
    },
    {
     "data": {
      "text/html": [
       "<pre style=\"overflow: auto; white-space: pre;\">q0: ───nZ───nX───\n",
       "       │    │\n",
       "q1: ───X────nY───</pre>"
      ],
      "text/plain": [
       "q0: ───nZ───nX───\n",
       "       │    │\n",
       "q1: ───X────nY───"
      ]
     },
     "metadata": {},
     "output_type": "display_data"
    },
    {
     "data": {
      "text/html": [
       "<pre style=\"overflow: auto; white-space: pre;\">q0: ───nZ───nX───\n",
       "       │    │\n",
       "q1: ───X────nZ───</pre>"
      ],
      "text/plain": [
       "q0: ───nZ───nX───\n",
       "       │    │\n",
       "q1: ───X────nZ───"
      ]
     },
     "metadata": {},
     "output_type": "display_data"
    },
    {
     "data": {
      "text/html": [
       "<pre style=\"overflow: auto; white-space: pre;\">q0: ───nZ───nY───\n",
       "       │    │\n",
       "q1: ───X────X────</pre>"
      ],
      "text/plain": [
       "q0: ───nZ───nY───\n",
       "       │    │\n",
       "q1: ───X────X────"
      ]
     },
     "metadata": {},
     "output_type": "display_data"
    },
    {
     "data": {
      "text/html": [
       "<pre style=\"overflow: auto; white-space: pre;\">q0: ───nZ───nY───\n",
       "       │    │\n",
       "q1: ───X────Y────</pre>"
      ],
      "text/plain": [
       "q0: ───nZ───nY───\n",
       "       │    │\n",
       "q1: ───X────Y────"
      ]
     },
     "metadata": {},
     "output_type": "display_data"
    },
    {
     "data": {
      "text/html": [
       "<pre style=\"overflow: auto; white-space: pre;\">q0: ───nZ───nY───\n",
       "       │    │\n",
       "q1: ───X────Z────</pre>"
      ],
      "text/plain": [
       "q0: ───nZ───nY───\n",
       "       │    │\n",
       "q1: ───X────Z────"
      ]
     },
     "metadata": {},
     "output_type": "display_data"
    },
    {
     "data": {
      "text/html": [
       "<pre style=\"overflow: auto; white-space: pre;\">q0: ───nZ───nY───\n",
       "       │    │\n",
       "q1: ───X────nX───</pre>"
      ],
      "text/plain": [
       "q0: ───nZ───nY───\n",
       "       │    │\n",
       "q1: ───X────nX───"
      ]
     },
     "metadata": {},
     "output_type": "display_data"
    },
    {
     "data": {
      "text/html": [
       "<pre style=\"overflow: auto; white-space: pre;\">q0: ───nZ───nY───\n",
       "       │    │\n",
       "q1: ───X────nY───</pre>"
      ],
      "text/plain": [
       "q0: ───nZ───nY───\n",
       "       │    │\n",
       "q1: ───X────nY───"
      ]
     },
     "metadata": {},
     "output_type": "display_data"
    },
    {
     "data": {
      "text/html": [
       "<pre style=\"overflow: auto; white-space: pre;\">q0: ───nZ───nY───\n",
       "       │    │\n",
       "q1: ───X────nZ───</pre>"
      ],
      "text/plain": [
       "q0: ───nZ───nY───\n",
       "       │    │\n",
       "q1: ───X────nZ───"
      ]
     },
     "metadata": {},
     "output_type": "display_data"
    },
    {
     "data": {
      "text/html": [
       "<pre style=\"overflow: auto; white-space: pre;\">q0: ───nZ───nZ───\n",
       "       │    │\n",
       "q1: ───X────X────</pre>"
      ],
      "text/plain": [
       "q0: ───nZ───nZ───\n",
       "       │    │\n",
       "q1: ───X────X────"
      ]
     },
     "metadata": {},
     "output_type": "display_data"
    },
    {
     "data": {
      "text/html": [
       "<pre style=\"overflow: auto; white-space: pre;\">q0: ───nZ───nZ───\n",
       "       │    │\n",
       "q1: ───X────Y────</pre>"
      ],
      "text/plain": [
       "q0: ───nZ───nZ───\n",
       "       │    │\n",
       "q1: ───X────Y────"
      ]
     },
     "metadata": {},
     "output_type": "display_data"
    },
    {
     "data": {
      "text/html": [
       "<pre style=\"overflow: auto; white-space: pre;\">q0: ───nZ───nZ───\n",
       "       │    │\n",
       "q1: ───X────Z────</pre>"
      ],
      "text/plain": [
       "q0: ───nZ───nZ───\n",
       "       │    │\n",
       "q1: ───X────Z────"
      ]
     },
     "metadata": {},
     "output_type": "display_data"
    },
    {
     "data": {
      "text/html": [
       "<pre style=\"overflow: auto; white-space: pre;\">q0: ───nZ───nZ───\n",
       "       │    │\n",
       "q1: ───X────nX───</pre>"
      ],
      "text/plain": [
       "q0: ───nZ───nZ───\n",
       "       │    │\n",
       "q1: ───X────nX───"
      ]
     },
     "metadata": {},
     "output_type": "display_data"
    },
    {
     "data": {
      "text/html": [
       "<pre style=\"overflow: auto; white-space: pre;\">q0: ───nZ───nZ───\n",
       "       │    │\n",
       "q1: ───X────nY───</pre>"
      ],
      "text/plain": [
       "q0: ───nZ───nZ───\n",
       "       │    │\n",
       "q1: ───X────nY───"
      ]
     },
     "metadata": {},
     "output_type": "display_data"
    },
    {
     "data": {
      "text/html": [
       "<pre style=\"overflow: auto; white-space: pre;\">q0: ───nZ───nZ───\n",
       "       │    │\n",
       "q1: ───X────nZ───</pre>"
      ],
      "text/plain": [
       "q0: ───nZ───nZ───\n",
       "       │    │\n",
       "q1: ───X────nZ───"
      ]
     },
     "metadata": {},
     "output_type": "display_data"
    },
    {
     "data": {
      "text/html": [
       "<pre style=\"overflow: auto; white-space: pre;\">q0: ───nZ───X───\n",
       "       │    │\n",
       "q1: ───Y────X───</pre>"
      ],
      "text/plain": [
       "q0: ───nZ───X───\n",
       "       │    │\n",
       "q1: ───Y────X───"
      ]
     },
     "metadata": {},
     "output_type": "display_data"
    },
    {
     "data": {
      "text/html": [
       "<pre style=\"overflow: auto; white-space: pre;\">q0: ───nZ───X───\n",
       "       │    │\n",
       "q1: ───Y────Y───</pre>"
      ],
      "text/plain": [
       "q0: ───nZ───X───\n",
       "       │    │\n",
       "q1: ───Y────Y───"
      ]
     },
     "metadata": {},
     "output_type": "display_data"
    },
    {
     "data": {
      "text/html": [
       "<pre style=\"overflow: auto; white-space: pre;\">q0: ───nZ───X───\n",
       "       │    │\n",
       "q1: ───Y────Z───</pre>"
      ],
      "text/plain": [
       "q0: ───nZ───X───\n",
       "       │    │\n",
       "q1: ───Y────Z───"
      ]
     },
     "metadata": {},
     "output_type": "display_data"
    },
    {
     "data": {
      "text/html": [
       "<pre style=\"overflow: auto; white-space: pre;\">q0: ───nZ───X────\n",
       "       │    │\n",
       "q1: ───Y────nX───</pre>"
      ],
      "text/plain": [
       "q0: ───nZ───X────\n",
       "       │    │\n",
       "q1: ───Y────nX───"
      ]
     },
     "metadata": {},
     "output_type": "display_data"
    },
    {
     "data": {
      "text/html": [
       "<pre style=\"overflow: auto; white-space: pre;\">q0: ───nZ───X────\n",
       "       │    │\n",
       "q1: ───Y────nY───</pre>"
      ],
      "text/plain": [
       "q0: ───nZ───X────\n",
       "       │    │\n",
       "q1: ───Y────nY───"
      ]
     },
     "metadata": {},
     "output_type": "display_data"
    },
    {
     "data": {
      "text/html": [
       "<pre style=\"overflow: auto; white-space: pre;\">q0: ───nZ───X────\n",
       "       │    │\n",
       "q1: ───Y────nZ───</pre>"
      ],
      "text/plain": [
       "q0: ───nZ───X────\n",
       "       │    │\n",
       "q1: ───Y────nZ───"
      ]
     },
     "metadata": {},
     "output_type": "display_data"
    },
    {
     "data": {
      "text/html": [
       "<pre style=\"overflow: auto; white-space: pre;\">q0: ───nZ───Y───\n",
       "       │    │\n",
       "q1: ───Y────X───</pre>"
      ],
      "text/plain": [
       "q0: ───nZ───Y───\n",
       "       │    │\n",
       "q1: ───Y────X───"
      ]
     },
     "metadata": {},
     "output_type": "display_data"
    },
    {
     "data": {
      "text/html": [
       "<pre style=\"overflow: auto; white-space: pre;\">q0: ───nZ───Y───\n",
       "       │    │\n",
       "q1: ───Y────Y───</pre>"
      ],
      "text/plain": [
       "q0: ───nZ───Y───\n",
       "       │    │\n",
       "q1: ───Y────Y───"
      ]
     },
     "metadata": {},
     "output_type": "display_data"
    },
    {
     "data": {
      "text/html": [
       "<pre style=\"overflow: auto; white-space: pre;\">q0: ───nZ───Y───\n",
       "       │    │\n",
       "q1: ───Y────Z───</pre>"
      ],
      "text/plain": [
       "q0: ───nZ───Y───\n",
       "       │    │\n",
       "q1: ───Y────Z───"
      ]
     },
     "metadata": {},
     "output_type": "display_data"
    },
    {
     "data": {
      "text/html": [
       "<pre style=\"overflow: auto; white-space: pre;\">q0: ───nZ───Y────\n",
       "       │    │\n",
       "q1: ───Y────nX───</pre>"
      ],
      "text/plain": [
       "q0: ───nZ───Y────\n",
       "       │    │\n",
       "q1: ───Y────nX───"
      ]
     },
     "metadata": {},
     "output_type": "display_data"
    },
    {
     "data": {
      "text/html": [
       "<pre style=\"overflow: auto; white-space: pre;\">q0: ───nZ───Y────\n",
       "       │    │\n",
       "q1: ───Y────nY───</pre>"
      ],
      "text/plain": [
       "q0: ───nZ───Y────\n",
       "       │    │\n",
       "q1: ───Y────nY───"
      ]
     },
     "metadata": {},
     "output_type": "display_data"
    },
    {
     "data": {
      "text/html": [
       "<pre style=\"overflow: auto; white-space: pre;\">q0: ───nZ───Y────\n",
       "       │    │\n",
       "q1: ───Y────nZ───</pre>"
      ],
      "text/plain": [
       "q0: ───nZ───Y────\n",
       "       │    │\n",
       "q1: ───Y────nZ───"
      ]
     },
     "metadata": {},
     "output_type": "display_data"
    },
    {
     "data": {
      "text/html": [
       "<pre style=\"overflow: auto; white-space: pre;\">q0: ───nZ───Z───\n",
       "       │    │\n",
       "q1: ───Y────X───</pre>"
      ],
      "text/plain": [
       "q0: ───nZ───Z───\n",
       "       │    │\n",
       "q1: ───Y────X───"
      ]
     },
     "metadata": {},
     "output_type": "display_data"
    },
    {
     "data": {
      "text/html": [
       "<pre style=\"overflow: auto; white-space: pre;\">q0: ───nZ───Z───\n",
       "       │    │\n",
       "q1: ───Y────Y───</pre>"
      ],
      "text/plain": [
       "q0: ───nZ───Z───\n",
       "       │    │\n",
       "q1: ───Y────Y───"
      ]
     },
     "metadata": {},
     "output_type": "display_data"
    },
    {
     "data": {
      "text/html": [
       "<pre style=\"overflow: auto; white-space: pre;\">q0: ───nZ───Z───\n",
       "       │    │\n",
       "q1: ───Y────Z───</pre>"
      ],
      "text/plain": [
       "q0: ───nZ───Z───\n",
       "       │    │\n",
       "q1: ───Y────Z───"
      ]
     },
     "metadata": {},
     "output_type": "display_data"
    },
    {
     "data": {
      "text/html": [
       "<pre style=\"overflow: auto; white-space: pre;\">q0: ───nZ───Z────\n",
       "       │    │\n",
       "q1: ───Y────nX───</pre>"
      ],
      "text/plain": [
       "q0: ───nZ───Z────\n",
       "       │    │\n",
       "q1: ───Y────nX───"
      ]
     },
     "metadata": {},
     "output_type": "display_data"
    },
    {
     "data": {
      "text/html": [
       "<pre style=\"overflow: auto; white-space: pre;\">q0: ───nZ───Z────\n",
       "       │    │\n",
       "q1: ───Y────nY───</pre>"
      ],
      "text/plain": [
       "q0: ───nZ───Z────\n",
       "       │    │\n",
       "q1: ───Y────nY───"
      ]
     },
     "metadata": {},
     "output_type": "display_data"
    },
    {
     "data": {
      "text/html": [
       "<pre style=\"overflow: auto; white-space: pre;\">q0: ───nZ───Z────\n",
       "       │    │\n",
       "q1: ───Y────nZ───</pre>"
      ],
      "text/plain": [
       "q0: ───nZ───Z────\n",
       "       │    │\n",
       "q1: ───Y────nZ───"
      ]
     },
     "metadata": {},
     "output_type": "display_data"
    },
    {
     "data": {
      "text/html": [
       "<pre style=\"overflow: auto; white-space: pre;\">q0: ───nZ───nX───\n",
       "       │    │\n",
       "q1: ───Y────X────</pre>"
      ],
      "text/plain": [
       "q0: ───nZ───nX───\n",
       "       │    │\n",
       "q1: ───Y────X────"
      ]
     },
     "metadata": {},
     "output_type": "display_data"
    },
    {
     "data": {
      "text/html": [
       "<pre style=\"overflow: auto; white-space: pre;\">q0: ───nZ───nX───\n",
       "       │    │\n",
       "q1: ───Y────Y────</pre>"
      ],
      "text/plain": [
       "q0: ───nZ───nX───\n",
       "       │    │\n",
       "q1: ───Y────Y────"
      ]
     },
     "metadata": {},
     "output_type": "display_data"
    },
    {
     "data": {
      "text/html": [
       "<pre style=\"overflow: auto; white-space: pre;\">q0: ───nZ───nX───\n",
       "       │    │\n",
       "q1: ───Y────Z────</pre>"
      ],
      "text/plain": [
       "q0: ───nZ───nX───\n",
       "       │    │\n",
       "q1: ───Y────Z────"
      ]
     },
     "metadata": {},
     "output_type": "display_data"
    },
    {
     "data": {
      "text/html": [
       "<pre style=\"overflow: auto; white-space: pre;\">q0: ───nZ───nX───\n",
       "       │    │\n",
       "q1: ───Y────nX───</pre>"
      ],
      "text/plain": [
       "q0: ───nZ───nX───\n",
       "       │    │\n",
       "q1: ───Y────nX───"
      ]
     },
     "metadata": {},
     "output_type": "display_data"
    },
    {
     "data": {
      "text/html": [
       "<pre style=\"overflow: auto; white-space: pre;\">q0: ───nZ───nX───\n",
       "       │    │\n",
       "q1: ───Y────nY───</pre>"
      ],
      "text/plain": [
       "q0: ───nZ───nX───\n",
       "       │    │\n",
       "q1: ───Y────nY───"
      ]
     },
     "metadata": {},
     "output_type": "display_data"
    },
    {
     "data": {
      "text/html": [
       "<pre style=\"overflow: auto; white-space: pre;\">q0: ───nZ───nX───\n",
       "       │    │\n",
       "q1: ───Y────nZ───</pre>"
      ],
      "text/plain": [
       "q0: ───nZ───nX───\n",
       "       │    │\n",
       "q1: ───Y────nZ───"
      ]
     },
     "metadata": {},
     "output_type": "display_data"
    },
    {
     "data": {
      "text/html": [
       "<pre style=\"overflow: auto; white-space: pre;\">q0: ───nZ───nY───\n",
       "       │    │\n",
       "q1: ───Y────X────</pre>"
      ],
      "text/plain": [
       "q0: ───nZ───nY───\n",
       "       │    │\n",
       "q1: ───Y────X────"
      ]
     },
     "metadata": {},
     "output_type": "display_data"
    },
    {
     "data": {
      "text/html": [
       "<pre style=\"overflow: auto; white-space: pre;\">q0: ───nZ───nY───\n",
       "       │    │\n",
       "q1: ───Y────Y────</pre>"
      ],
      "text/plain": [
       "q0: ───nZ───nY───\n",
       "       │    │\n",
       "q1: ───Y────Y────"
      ]
     },
     "metadata": {},
     "output_type": "display_data"
    },
    {
     "data": {
      "text/html": [
       "<pre style=\"overflow: auto; white-space: pre;\">q0: ───nZ───nY───\n",
       "       │    │\n",
       "q1: ───Y────Z────</pre>"
      ],
      "text/plain": [
       "q0: ───nZ───nY───\n",
       "       │    │\n",
       "q1: ───Y────Z────"
      ]
     },
     "metadata": {},
     "output_type": "display_data"
    },
    {
     "data": {
      "text/html": [
       "<pre style=\"overflow: auto; white-space: pre;\">q0: ───nZ───nY───\n",
       "       │    │\n",
       "q1: ───Y────nX───</pre>"
      ],
      "text/plain": [
       "q0: ───nZ───nY───\n",
       "       │    │\n",
       "q1: ───Y────nX───"
      ]
     },
     "metadata": {},
     "output_type": "display_data"
    },
    {
     "data": {
      "text/html": [
       "<pre style=\"overflow: auto; white-space: pre;\">q0: ───nZ───nY───\n",
       "       │    │\n",
       "q1: ───Y────nY───</pre>"
      ],
      "text/plain": [
       "q0: ───nZ───nY───\n",
       "       │    │\n",
       "q1: ───Y────nY───"
      ]
     },
     "metadata": {},
     "output_type": "display_data"
    },
    {
     "data": {
      "text/html": [
       "<pre style=\"overflow: auto; white-space: pre;\">q0: ───nZ───nY───\n",
       "       │    │\n",
       "q1: ───Y────nZ───</pre>"
      ],
      "text/plain": [
       "q0: ───nZ───nY───\n",
       "       │    │\n",
       "q1: ───Y────nZ───"
      ]
     },
     "metadata": {},
     "output_type": "display_data"
    },
    {
     "data": {
      "text/html": [
       "<pre style=\"overflow: auto; white-space: pre;\">q0: ───nZ───nZ───\n",
       "       │    │\n",
       "q1: ───Y────X────</pre>"
      ],
      "text/plain": [
       "q0: ───nZ───nZ───\n",
       "       │    │\n",
       "q1: ───Y────X────"
      ]
     },
     "metadata": {},
     "output_type": "display_data"
    },
    {
     "data": {
      "text/html": [
       "<pre style=\"overflow: auto; white-space: pre;\">q0: ───nZ───nZ───\n",
       "       │    │\n",
       "q1: ───Y────Y────</pre>"
      ],
      "text/plain": [
       "q0: ───nZ───nZ───\n",
       "       │    │\n",
       "q1: ───Y────Y────"
      ]
     },
     "metadata": {},
     "output_type": "display_data"
    },
    {
     "data": {
      "text/html": [
       "<pre style=\"overflow: auto; white-space: pre;\">q0: ───nZ───nZ───\n",
       "       │    │\n",
       "q1: ───Y────Z────</pre>"
      ],
      "text/plain": [
       "q0: ───nZ───nZ───\n",
       "       │    │\n",
       "q1: ───Y────Z────"
      ]
     },
     "metadata": {},
     "output_type": "display_data"
    },
    {
     "data": {
      "text/html": [
       "<pre style=\"overflow: auto; white-space: pre;\">q0: ───nZ───nZ───\n",
       "       │    │\n",
       "q1: ───Y────nX───</pre>"
      ],
      "text/plain": [
       "q0: ───nZ───nZ───\n",
       "       │    │\n",
       "q1: ───Y────nX───"
      ]
     },
     "metadata": {},
     "output_type": "display_data"
    },
    {
     "data": {
      "text/html": [
       "<pre style=\"overflow: auto; white-space: pre;\">q0: ───nZ───nZ───\n",
       "       │    │\n",
       "q1: ───Y────nY───</pre>"
      ],
      "text/plain": [
       "q0: ───nZ───nZ───\n",
       "       │    │\n",
       "q1: ───Y────nY───"
      ]
     },
     "metadata": {},
     "output_type": "display_data"
    },
    {
     "data": {
      "text/html": [
       "<pre style=\"overflow: auto; white-space: pre;\">q0: ───nZ───nZ───\n",
       "       │    │\n",
       "q1: ───Y────nZ───</pre>"
      ],
      "text/plain": [
       "q0: ───nZ───nZ───\n",
       "       │    │\n",
       "q1: ───Y────nZ───"
      ]
     },
     "metadata": {},
     "output_type": "display_data"
    },
    {
     "data": {
      "text/html": [
       "<pre style=\"overflow: auto; white-space: pre;\">q0: ───nZ───X───\n",
       "       │    │\n",
       "q1: ───Z────X───</pre>"
      ],
      "text/plain": [
       "q0: ───nZ───X───\n",
       "       │    │\n",
       "q1: ───Z────X───"
      ]
     },
     "metadata": {},
     "output_type": "display_data"
    },
    {
     "data": {
      "text/html": [
       "<pre style=\"overflow: auto; white-space: pre;\">q0: ───nZ───X───\n",
       "       │    │\n",
       "q1: ───Z────Y───</pre>"
      ],
      "text/plain": [
       "q0: ───nZ───X───\n",
       "       │    │\n",
       "q1: ───Z────Y───"
      ]
     },
     "metadata": {},
     "output_type": "display_data"
    },
    {
     "data": {
      "text/html": [
       "<pre style=\"overflow: auto; white-space: pre;\">q0: ───nZ───X───\n",
       "       │    │\n",
       "q1: ───Z────Z───</pre>"
      ],
      "text/plain": [
       "q0: ───nZ───X───\n",
       "       │    │\n",
       "q1: ───Z────Z───"
      ]
     },
     "metadata": {},
     "output_type": "display_data"
    },
    {
     "data": {
      "text/html": [
       "<pre style=\"overflow: auto; white-space: pre;\">q0: ───nZ───X────\n",
       "       │    │\n",
       "q1: ───Z────nX───</pre>"
      ],
      "text/plain": [
       "q0: ───nZ───X────\n",
       "       │    │\n",
       "q1: ───Z────nX───"
      ]
     },
     "metadata": {},
     "output_type": "display_data"
    },
    {
     "data": {
      "text/html": [
       "<pre style=\"overflow: auto; white-space: pre;\">q0: ───nZ───X────\n",
       "       │    │\n",
       "q1: ───Z────nY───</pre>"
      ],
      "text/plain": [
       "q0: ───nZ───X────\n",
       "       │    │\n",
       "q1: ───Z────nY───"
      ]
     },
     "metadata": {},
     "output_type": "display_data"
    },
    {
     "data": {
      "text/html": [
       "<pre style=\"overflow: auto; white-space: pre;\">q0: ───nZ───X────\n",
       "       │    │\n",
       "q1: ───Z────nZ───</pre>"
      ],
      "text/plain": [
       "q0: ───nZ───X────\n",
       "       │    │\n",
       "q1: ───Z────nZ───"
      ]
     },
     "metadata": {},
     "output_type": "display_data"
    },
    {
     "data": {
      "text/html": [
       "<pre style=\"overflow: auto; white-space: pre;\">q0: ───nZ───Y───\n",
       "       │    │\n",
       "q1: ───Z────X───</pre>"
      ],
      "text/plain": [
       "q0: ───nZ───Y───\n",
       "       │    │\n",
       "q1: ───Z────X───"
      ]
     },
     "metadata": {},
     "output_type": "display_data"
    },
    {
     "data": {
      "text/html": [
       "<pre style=\"overflow: auto; white-space: pre;\">q0: ───nZ───Y───\n",
       "       │    │\n",
       "q1: ───Z────Y───</pre>"
      ],
      "text/plain": [
       "q0: ───nZ───Y───\n",
       "       │    │\n",
       "q1: ───Z────Y───"
      ]
     },
     "metadata": {},
     "output_type": "display_data"
    },
    {
     "data": {
      "text/html": [
       "<pre style=\"overflow: auto; white-space: pre;\">q0: ───nZ───Y───\n",
       "       │    │\n",
       "q1: ───Z────Z───</pre>"
      ],
      "text/plain": [
       "q0: ───nZ───Y───\n",
       "       │    │\n",
       "q1: ───Z────Z───"
      ]
     },
     "metadata": {},
     "output_type": "display_data"
    },
    {
     "data": {
      "text/html": [
       "<pre style=\"overflow: auto; white-space: pre;\">q0: ───nZ───Y────\n",
       "       │    │\n",
       "q1: ───Z────nX───</pre>"
      ],
      "text/plain": [
       "q0: ───nZ───Y────\n",
       "       │    │\n",
       "q1: ───Z────nX───"
      ]
     },
     "metadata": {},
     "output_type": "display_data"
    },
    {
     "data": {
      "text/html": [
       "<pre style=\"overflow: auto; white-space: pre;\">q0: ───nZ───Y────\n",
       "       │    │\n",
       "q1: ───Z────nY───</pre>"
      ],
      "text/plain": [
       "q0: ───nZ───Y────\n",
       "       │    │\n",
       "q1: ───Z────nY───"
      ]
     },
     "metadata": {},
     "output_type": "display_data"
    },
    {
     "data": {
      "text/html": [
       "<pre style=\"overflow: auto; white-space: pre;\">q0: ───nZ───Y────\n",
       "       │    │\n",
       "q1: ───Z────nZ───</pre>"
      ],
      "text/plain": [
       "q0: ───nZ───Y────\n",
       "       │    │\n",
       "q1: ───Z────nZ───"
      ]
     },
     "metadata": {},
     "output_type": "display_data"
    },
    {
     "data": {
      "text/html": [
       "<pre style=\"overflow: auto; white-space: pre;\">q0: ───nZ───Z───\n",
       "       │    │\n",
       "q1: ───Z────X───</pre>"
      ],
      "text/plain": [
       "q0: ───nZ───Z───\n",
       "       │    │\n",
       "q1: ───Z────X───"
      ]
     },
     "metadata": {},
     "output_type": "display_data"
    },
    {
     "data": {
      "text/html": [
       "<pre style=\"overflow: auto; white-space: pre;\">q0: ───nZ───Z───\n",
       "       │    │\n",
       "q1: ───Z────Y───</pre>"
      ],
      "text/plain": [
       "q0: ───nZ───Z───\n",
       "       │    │\n",
       "q1: ───Z────Y───"
      ]
     },
     "metadata": {},
     "output_type": "display_data"
    },
    {
     "data": {
      "text/html": [
       "<pre style=\"overflow: auto; white-space: pre;\">q0: ───nZ───Z───\n",
       "       │    │\n",
       "q1: ───Z────Z───</pre>"
      ],
      "text/plain": [
       "q0: ───nZ───Z───\n",
       "       │    │\n",
       "q1: ───Z────Z───"
      ]
     },
     "metadata": {},
     "output_type": "display_data"
    },
    {
     "data": {
      "text/html": [
       "<pre style=\"overflow: auto; white-space: pre;\">q0: ───nZ───Z────\n",
       "       │    │\n",
       "q1: ───Z────nX───</pre>"
      ],
      "text/plain": [
       "q0: ───nZ───Z────\n",
       "       │    │\n",
       "q1: ───Z────nX───"
      ]
     },
     "metadata": {},
     "output_type": "display_data"
    },
    {
     "data": {
      "text/html": [
       "<pre style=\"overflow: auto; white-space: pre;\">q0: ───nZ───Z────\n",
       "       │    │\n",
       "q1: ───Z────nY───</pre>"
      ],
      "text/plain": [
       "q0: ───nZ───Z────\n",
       "       │    │\n",
       "q1: ───Z────nY───"
      ]
     },
     "metadata": {},
     "output_type": "display_data"
    },
    {
     "data": {
      "text/html": [
       "<pre style=\"overflow: auto; white-space: pre;\">q0: ───nZ───Z────\n",
       "       │    │\n",
       "q1: ───Z────nZ───</pre>"
      ],
      "text/plain": [
       "q0: ───nZ───Z────\n",
       "       │    │\n",
       "q1: ───Z────nZ───"
      ]
     },
     "metadata": {},
     "output_type": "display_data"
    },
    {
     "data": {
      "text/html": [
       "<pre style=\"overflow: auto; white-space: pre;\">q0: ───nZ───nX───\n",
       "       │    │\n",
       "q1: ───Z────X────</pre>"
      ],
      "text/plain": [
       "q0: ───nZ───nX───\n",
       "       │    │\n",
       "q1: ───Z────X────"
      ]
     },
     "metadata": {},
     "output_type": "display_data"
    },
    {
     "data": {
      "text/html": [
       "<pre style=\"overflow: auto; white-space: pre;\">q0: ───nZ───nX───\n",
       "       │    │\n",
       "q1: ───Z────Y────</pre>"
      ],
      "text/plain": [
       "q0: ───nZ───nX───\n",
       "       │    │\n",
       "q1: ───Z────Y────"
      ]
     },
     "metadata": {},
     "output_type": "display_data"
    },
    {
     "data": {
      "text/html": [
       "<pre style=\"overflow: auto; white-space: pre;\">q0: ───nZ───nX───\n",
       "       │    │\n",
       "q1: ───Z────Z────</pre>"
      ],
      "text/plain": [
       "q0: ───nZ───nX───\n",
       "       │    │\n",
       "q1: ───Z────Z────"
      ]
     },
     "metadata": {},
     "output_type": "display_data"
    },
    {
     "data": {
      "text/html": [
       "<pre style=\"overflow: auto; white-space: pre;\">q0: ───nZ───nX───\n",
       "       │    │\n",
       "q1: ───Z────nX───</pre>"
      ],
      "text/plain": [
       "q0: ───nZ───nX───\n",
       "       │    │\n",
       "q1: ───Z────nX───"
      ]
     },
     "metadata": {},
     "output_type": "display_data"
    },
    {
     "data": {
      "text/html": [
       "<pre style=\"overflow: auto; white-space: pre;\">q0: ───nZ───nX───\n",
       "       │    │\n",
       "q1: ───Z────nY───</pre>"
      ],
      "text/plain": [
       "q0: ───nZ───nX───\n",
       "       │    │\n",
       "q1: ───Z────nY───"
      ]
     },
     "metadata": {},
     "output_type": "display_data"
    },
    {
     "data": {
      "text/html": [
       "<pre style=\"overflow: auto; white-space: pre;\">q0: ───nZ───nX───\n",
       "       │    │\n",
       "q1: ───Z────nZ───</pre>"
      ],
      "text/plain": [
       "q0: ───nZ───nX───\n",
       "       │    │\n",
       "q1: ───Z────nZ───"
      ]
     },
     "metadata": {},
     "output_type": "display_data"
    },
    {
     "data": {
      "text/html": [
       "<pre style=\"overflow: auto; white-space: pre;\">q0: ───nZ───nY───\n",
       "       │    │\n",
       "q1: ───Z────X────</pre>"
      ],
      "text/plain": [
       "q0: ───nZ───nY───\n",
       "       │    │\n",
       "q1: ───Z────X────"
      ]
     },
     "metadata": {},
     "output_type": "display_data"
    },
    {
     "data": {
      "text/html": [
       "<pre style=\"overflow: auto; white-space: pre;\">q0: ───nZ───nY───\n",
       "       │    │\n",
       "q1: ───Z────Y────</pre>"
      ],
      "text/plain": [
       "q0: ───nZ───nY───\n",
       "       │    │\n",
       "q1: ───Z────Y────"
      ]
     },
     "metadata": {},
     "output_type": "display_data"
    },
    {
     "data": {
      "text/html": [
       "<pre style=\"overflow: auto; white-space: pre;\">q0: ───nZ───nY───\n",
       "       │    │\n",
       "q1: ───Z────Z────</pre>"
      ],
      "text/plain": [
       "q0: ───nZ───nY───\n",
       "       │    │\n",
       "q1: ───Z────Z────"
      ]
     },
     "metadata": {},
     "output_type": "display_data"
    },
    {
     "data": {
      "text/html": [
       "<pre style=\"overflow: auto; white-space: pre;\">q0: ───nZ───nY───\n",
       "       │    │\n",
       "q1: ───Z────nX───</pre>"
      ],
      "text/plain": [
       "q0: ───nZ───nY───\n",
       "       │    │\n",
       "q1: ───Z────nX───"
      ]
     },
     "metadata": {},
     "output_type": "display_data"
    },
    {
     "data": {
      "text/html": [
       "<pre style=\"overflow: auto; white-space: pre;\">q0: ───nZ───nY───\n",
       "       │    │\n",
       "q1: ───Z────nY───</pre>"
      ],
      "text/plain": [
       "q0: ───nZ───nY───\n",
       "       │    │\n",
       "q1: ───Z────nY───"
      ]
     },
     "metadata": {},
     "output_type": "display_data"
    },
    {
     "data": {
      "text/html": [
       "<pre style=\"overflow: auto; white-space: pre;\">q0: ───nZ───nY───\n",
       "       │    │\n",
       "q1: ───Z────nZ───</pre>"
      ],
      "text/plain": [
       "q0: ───nZ───nY───\n",
       "       │    │\n",
       "q1: ───Z────nZ───"
      ]
     },
     "metadata": {},
     "output_type": "display_data"
    },
    {
     "data": {
      "text/html": [
       "<pre style=\"overflow: auto; white-space: pre;\">q0: ───nZ───nZ───\n",
       "       │    │\n",
       "q1: ───Z────X────</pre>"
      ],
      "text/plain": [
       "q0: ───nZ───nZ───\n",
       "       │    │\n",
       "q1: ───Z────X────"
      ]
     },
     "metadata": {},
     "output_type": "display_data"
    },
    {
     "data": {
      "text/html": [
       "<pre style=\"overflow: auto; white-space: pre;\">q0: ───nZ───nZ───\n",
       "       │    │\n",
       "q1: ───Z────Y────</pre>"
      ],
      "text/plain": [
       "q0: ───nZ───nZ───\n",
       "       │    │\n",
       "q1: ───Z────Y────"
      ]
     },
     "metadata": {},
     "output_type": "display_data"
    },
    {
     "data": {
      "text/html": [
       "<pre style=\"overflow: auto; white-space: pre;\">q0: ───nZ───nZ───\n",
       "       │    │\n",
       "q1: ───Z────Z────</pre>"
      ],
      "text/plain": [
       "q0: ───nZ───nZ───\n",
       "       │    │\n",
       "q1: ───Z────Z────"
      ]
     },
     "metadata": {},
     "output_type": "display_data"
    },
    {
     "data": {
      "text/html": [
       "<pre style=\"overflow: auto; white-space: pre;\">q0: ───nZ───nZ───\n",
       "       │    │\n",
       "q1: ───Z────nX───</pre>"
      ],
      "text/plain": [
       "q0: ───nZ───nZ───\n",
       "       │    │\n",
       "q1: ───Z────nX───"
      ]
     },
     "metadata": {},
     "output_type": "display_data"
    },
    {
     "data": {
      "text/html": [
       "<pre style=\"overflow: auto; white-space: pre;\">q0: ───nZ───nZ───\n",
       "       │    │\n",
       "q1: ───Z────nY───</pre>"
      ],
      "text/plain": [
       "q0: ───nZ───nZ───\n",
       "       │    │\n",
       "q1: ───Z────nY───"
      ]
     },
     "metadata": {},
     "output_type": "display_data"
    },
    {
     "data": {
      "text/html": [
       "<pre style=\"overflow: auto; white-space: pre;\">q0: ───nZ───nZ───\n",
       "       │    │\n",
       "q1: ───Z────nZ───</pre>"
      ],
      "text/plain": [
       "q0: ───nZ───nZ───\n",
       "       │    │\n",
       "q1: ───Z────nZ───"
      ]
     },
     "metadata": {},
     "output_type": "display_data"
    },
    {
     "data": {
      "text/html": [
       "<pre style=\"overflow: auto; white-space: pre;\">q0: ───nZ───X───\n",
       "       │    │\n",
       "q1: ───nX───X───</pre>"
      ],
      "text/plain": [
       "q0: ───nZ───X───\n",
       "       │    │\n",
       "q1: ───nX───X───"
      ]
     },
     "metadata": {},
     "output_type": "display_data"
    },
    {
     "data": {
      "text/html": [
       "<pre style=\"overflow: auto; white-space: pre;\">q0: ───nZ───X───\n",
       "       │    │\n",
       "q1: ───nX───Y───</pre>"
      ],
      "text/plain": [
       "q0: ───nZ───X───\n",
       "       │    │\n",
       "q1: ───nX───Y───"
      ]
     },
     "metadata": {},
     "output_type": "display_data"
    },
    {
     "data": {
      "text/html": [
       "<pre style=\"overflow: auto; white-space: pre;\">q0: ───nZ───X───\n",
       "       │    │\n",
       "q1: ───nX───Z───</pre>"
      ],
      "text/plain": [
       "q0: ───nZ───X───\n",
       "       │    │\n",
       "q1: ───nX───Z───"
      ]
     },
     "metadata": {},
     "output_type": "display_data"
    },
    {
     "data": {
      "text/html": [
       "<pre style=\"overflow: auto; white-space: pre;\">q0: ───nZ───X────\n",
       "       │    │\n",
       "q1: ───nX───nX───</pre>"
      ],
      "text/plain": [
       "q0: ───nZ───X────\n",
       "       │    │\n",
       "q1: ───nX───nX───"
      ]
     },
     "metadata": {},
     "output_type": "display_data"
    },
    {
     "data": {
      "text/html": [
       "<pre style=\"overflow: auto; white-space: pre;\">q0: ───nZ───X────\n",
       "       │    │\n",
       "q1: ───nX───nY───</pre>"
      ],
      "text/plain": [
       "q0: ───nZ───X────\n",
       "       │    │\n",
       "q1: ───nX───nY───"
      ]
     },
     "metadata": {},
     "output_type": "display_data"
    },
    {
     "data": {
      "text/html": [
       "<pre style=\"overflow: auto; white-space: pre;\">q0: ───nZ───X────\n",
       "       │    │\n",
       "q1: ───nX───nZ───</pre>"
      ],
      "text/plain": [
       "q0: ───nZ───X────\n",
       "       │    │\n",
       "q1: ───nX───nZ───"
      ]
     },
     "metadata": {},
     "output_type": "display_data"
    },
    {
     "data": {
      "text/html": [
       "<pre style=\"overflow: auto; white-space: pre;\">q0: ───nZ───Y───\n",
       "       │    │\n",
       "q1: ───nX───X───</pre>"
      ],
      "text/plain": [
       "q0: ───nZ───Y───\n",
       "       │    │\n",
       "q1: ───nX───X───"
      ]
     },
     "metadata": {},
     "output_type": "display_data"
    },
    {
     "data": {
      "text/html": [
       "<pre style=\"overflow: auto; white-space: pre;\">q0: ───nZ───Y───\n",
       "       │    │\n",
       "q1: ───nX───Y───</pre>"
      ],
      "text/plain": [
       "q0: ───nZ───Y───\n",
       "       │    │\n",
       "q1: ───nX───Y───"
      ]
     },
     "metadata": {},
     "output_type": "display_data"
    },
    {
     "data": {
      "text/html": [
       "<pre style=\"overflow: auto; white-space: pre;\">q0: ───nZ───Y───\n",
       "       │    │\n",
       "q1: ───nX───Z───</pre>"
      ],
      "text/plain": [
       "q0: ───nZ───Y───\n",
       "       │    │\n",
       "q1: ───nX───Z───"
      ]
     },
     "metadata": {},
     "output_type": "display_data"
    },
    {
     "data": {
      "text/html": [
       "<pre style=\"overflow: auto; white-space: pre;\">q0: ───nZ───Y────\n",
       "       │    │\n",
       "q1: ───nX───nX───</pre>"
      ],
      "text/plain": [
       "q0: ───nZ───Y────\n",
       "       │    │\n",
       "q1: ───nX───nX───"
      ]
     },
     "metadata": {},
     "output_type": "display_data"
    },
    {
     "data": {
      "text/html": [
       "<pre style=\"overflow: auto; white-space: pre;\">q0: ───nZ───Y────\n",
       "       │    │\n",
       "q1: ───nX───nY───</pre>"
      ],
      "text/plain": [
       "q0: ───nZ───Y────\n",
       "       │    │\n",
       "q1: ───nX───nY───"
      ]
     },
     "metadata": {},
     "output_type": "display_data"
    },
    {
     "data": {
      "text/html": [
       "<pre style=\"overflow: auto; white-space: pre;\">q0: ───nZ───Y────\n",
       "       │    │\n",
       "q1: ───nX───nZ───</pre>"
      ],
      "text/plain": [
       "q0: ───nZ───Y────\n",
       "       │    │\n",
       "q1: ───nX───nZ───"
      ]
     },
     "metadata": {},
     "output_type": "display_data"
    },
    {
     "data": {
      "text/html": [
       "<pre style=\"overflow: auto; white-space: pre;\">q0: ───nZ───Z───\n",
       "       │    │\n",
       "q1: ───nX───X───</pre>"
      ],
      "text/plain": [
       "q0: ───nZ───Z───\n",
       "       │    │\n",
       "q1: ───nX───X───"
      ]
     },
     "metadata": {},
     "output_type": "display_data"
    },
    {
     "data": {
      "text/html": [
       "<pre style=\"overflow: auto; white-space: pre;\">q0: ───nZ───Z───\n",
       "       │    │\n",
       "q1: ───nX───Y───</pre>"
      ],
      "text/plain": [
       "q0: ───nZ───Z───\n",
       "       │    │\n",
       "q1: ───nX───Y───"
      ]
     },
     "metadata": {},
     "output_type": "display_data"
    },
    {
     "data": {
      "text/html": [
       "<pre style=\"overflow: auto; white-space: pre;\">q0: ───nZ───Z───\n",
       "       │    │\n",
       "q1: ───nX───Z───</pre>"
      ],
      "text/plain": [
       "q0: ───nZ───Z───\n",
       "       │    │\n",
       "q1: ───nX───Z───"
      ]
     },
     "metadata": {},
     "output_type": "display_data"
    },
    {
     "data": {
      "text/html": [
       "<pre style=\"overflow: auto; white-space: pre;\">q0: ───nZ───Z────\n",
       "       │    │\n",
       "q1: ───nX───nX───</pre>"
      ],
      "text/plain": [
       "q0: ───nZ───Z────\n",
       "       │    │\n",
       "q1: ───nX───nX───"
      ]
     },
     "metadata": {},
     "output_type": "display_data"
    },
    {
     "data": {
      "text/html": [
       "<pre style=\"overflow: auto; white-space: pre;\">q0: ───nZ───Z────\n",
       "       │    │\n",
       "q1: ───nX───nY───</pre>"
      ],
      "text/plain": [
       "q0: ───nZ───Z────\n",
       "       │    │\n",
       "q1: ───nX───nY───"
      ]
     },
     "metadata": {},
     "output_type": "display_data"
    },
    {
     "data": {
      "text/html": [
       "<pre style=\"overflow: auto; white-space: pre;\">q0: ───nZ───Z────\n",
       "       │    │\n",
       "q1: ───nX───nZ───</pre>"
      ],
      "text/plain": [
       "q0: ───nZ───Z────\n",
       "       │    │\n",
       "q1: ───nX───nZ───"
      ]
     },
     "metadata": {},
     "output_type": "display_data"
    },
    {
     "data": {
      "text/html": [
       "<pre style=\"overflow: auto; white-space: pre;\">q0: ───nZ───nX───\n",
       "       │    │\n",
       "q1: ───nX───X────</pre>"
      ],
      "text/plain": [
       "q0: ───nZ───nX───\n",
       "       │    │\n",
       "q1: ───nX───X────"
      ]
     },
     "metadata": {},
     "output_type": "display_data"
    },
    {
     "data": {
      "text/html": [
       "<pre style=\"overflow: auto; white-space: pre;\">q0: ───nZ───nX───\n",
       "       │    │\n",
       "q1: ───nX───Y────</pre>"
      ],
      "text/plain": [
       "q0: ───nZ───nX───\n",
       "       │    │\n",
       "q1: ───nX───Y────"
      ]
     },
     "metadata": {},
     "output_type": "display_data"
    },
    {
     "data": {
      "text/html": [
       "<pre style=\"overflow: auto; white-space: pre;\">q0: ───nZ───nX───\n",
       "       │    │\n",
       "q1: ───nX───Z────</pre>"
      ],
      "text/plain": [
       "q0: ───nZ───nX───\n",
       "       │    │\n",
       "q1: ───nX───Z────"
      ]
     },
     "metadata": {},
     "output_type": "display_data"
    },
    {
     "data": {
      "text/html": [
       "<pre style=\"overflow: auto; white-space: pre;\">q0: ───nZ───nX───\n",
       "       │    │\n",
       "q1: ───nX───nX───</pre>"
      ],
      "text/plain": [
       "q0: ───nZ───nX───\n",
       "       │    │\n",
       "q1: ───nX───nX───"
      ]
     },
     "metadata": {},
     "output_type": "display_data"
    },
    {
     "data": {
      "text/html": [
       "<pre style=\"overflow: auto; white-space: pre;\">q0: ───nZ───nX───\n",
       "       │    │\n",
       "q1: ───nX───nY───</pre>"
      ],
      "text/plain": [
       "q0: ───nZ───nX───\n",
       "       │    │\n",
       "q1: ───nX───nY───"
      ]
     },
     "metadata": {},
     "output_type": "display_data"
    },
    {
     "data": {
      "text/html": [
       "<pre style=\"overflow: auto; white-space: pre;\">q0: ───nZ───nX───\n",
       "       │    │\n",
       "q1: ───nX───nZ───</pre>"
      ],
      "text/plain": [
       "q0: ───nZ───nX───\n",
       "       │    │\n",
       "q1: ───nX───nZ───"
      ]
     },
     "metadata": {},
     "output_type": "display_data"
    },
    {
     "data": {
      "text/html": [
       "<pre style=\"overflow: auto; white-space: pre;\">q0: ───nZ───nY───\n",
       "       │    │\n",
       "q1: ───nX───X────</pre>"
      ],
      "text/plain": [
       "q0: ───nZ───nY───\n",
       "       │    │\n",
       "q1: ───nX───X────"
      ]
     },
     "metadata": {},
     "output_type": "display_data"
    },
    {
     "data": {
      "text/html": [
       "<pre style=\"overflow: auto; white-space: pre;\">q0: ───nZ───nY───\n",
       "       │    │\n",
       "q1: ───nX───Y────</pre>"
      ],
      "text/plain": [
       "q0: ───nZ───nY───\n",
       "       │    │\n",
       "q1: ───nX───Y────"
      ]
     },
     "metadata": {},
     "output_type": "display_data"
    },
    {
     "data": {
      "text/html": [
       "<pre style=\"overflow: auto; white-space: pre;\">q0: ───nZ───nY───\n",
       "       │    │\n",
       "q1: ───nX───Z────</pre>"
      ],
      "text/plain": [
       "q0: ───nZ───nY───\n",
       "       │    │\n",
       "q1: ───nX───Z────"
      ]
     },
     "metadata": {},
     "output_type": "display_data"
    },
    {
     "data": {
      "text/html": [
       "<pre style=\"overflow: auto; white-space: pre;\">q0: ───nZ───nY───\n",
       "       │    │\n",
       "q1: ───nX───nX───</pre>"
      ],
      "text/plain": [
       "q0: ───nZ───nY───\n",
       "       │    │\n",
       "q1: ───nX───nX───"
      ]
     },
     "metadata": {},
     "output_type": "display_data"
    },
    {
     "data": {
      "text/html": [
       "<pre style=\"overflow: auto; white-space: pre;\">q0: ───nZ───nY───\n",
       "       │    │\n",
       "q1: ───nX───nY───</pre>"
      ],
      "text/plain": [
       "q0: ───nZ───nY───\n",
       "       │    │\n",
       "q1: ───nX───nY───"
      ]
     },
     "metadata": {},
     "output_type": "display_data"
    },
    {
     "data": {
      "text/html": [
       "<pre style=\"overflow: auto; white-space: pre;\">q0: ───nZ───nY───\n",
       "       │    │\n",
       "q1: ───nX───nZ───</pre>"
      ],
      "text/plain": [
       "q0: ───nZ───nY───\n",
       "       │    │\n",
       "q1: ───nX───nZ───"
      ]
     },
     "metadata": {},
     "output_type": "display_data"
    },
    {
     "data": {
      "text/html": [
       "<pre style=\"overflow: auto; white-space: pre;\">q0: ───nZ───nZ───\n",
       "       │    │\n",
       "q1: ───nX───X────</pre>"
      ],
      "text/plain": [
       "q0: ───nZ───nZ───\n",
       "       │    │\n",
       "q1: ───nX───X────"
      ]
     },
     "metadata": {},
     "output_type": "display_data"
    },
    {
     "data": {
      "text/html": [
       "<pre style=\"overflow: auto; white-space: pre;\">q0: ───nZ───nZ───\n",
       "       │    │\n",
       "q1: ───nX───Y────</pre>"
      ],
      "text/plain": [
       "q0: ───nZ───nZ───\n",
       "       │    │\n",
       "q1: ───nX───Y────"
      ]
     },
     "metadata": {},
     "output_type": "display_data"
    },
    {
     "data": {
      "text/html": [
       "<pre style=\"overflow: auto; white-space: pre;\">q0: ───nZ───nZ───\n",
       "       │    │\n",
       "q1: ───nX───Z────</pre>"
      ],
      "text/plain": [
       "q0: ───nZ───nZ───\n",
       "       │    │\n",
       "q1: ───nX───Z────"
      ]
     },
     "metadata": {},
     "output_type": "display_data"
    },
    {
     "data": {
      "text/html": [
       "<pre style=\"overflow: auto; white-space: pre;\">q0: ───nZ───nZ───\n",
       "       │    │\n",
       "q1: ───nX───nX───</pre>"
      ],
      "text/plain": [
       "q0: ───nZ───nZ───\n",
       "       │    │\n",
       "q1: ───nX───nX───"
      ]
     },
     "metadata": {},
     "output_type": "display_data"
    },
    {
     "data": {
      "text/html": [
       "<pre style=\"overflow: auto; white-space: pre;\">q0: ───nZ───nZ───\n",
       "       │    │\n",
       "q1: ───nX───nY───</pre>"
      ],
      "text/plain": [
       "q0: ───nZ───nZ───\n",
       "       │    │\n",
       "q1: ───nX───nY───"
      ]
     },
     "metadata": {},
     "output_type": "display_data"
    },
    {
     "data": {
      "text/html": [
       "<pre style=\"overflow: auto; white-space: pre;\">q0: ───nZ───nZ───\n",
       "       │    │\n",
       "q1: ───nX───nZ───</pre>"
      ],
      "text/plain": [
       "q0: ───nZ───nZ───\n",
       "       │    │\n",
       "q1: ───nX───nZ───"
      ]
     },
     "metadata": {},
     "output_type": "display_data"
    },
    {
     "data": {
      "text/html": [
       "<pre style=\"overflow: auto; white-space: pre;\">q0: ───nZ───X───\n",
       "       │    │\n",
       "q1: ───nY───X───</pre>"
      ],
      "text/plain": [
       "q0: ───nZ───X───\n",
       "       │    │\n",
       "q1: ───nY───X───"
      ]
     },
     "metadata": {},
     "output_type": "display_data"
    },
    {
     "data": {
      "text/html": [
       "<pre style=\"overflow: auto; white-space: pre;\">q0: ───nZ───X───\n",
       "       │    │\n",
       "q1: ───nY───Y───</pre>"
      ],
      "text/plain": [
       "q0: ───nZ───X───\n",
       "       │    │\n",
       "q1: ───nY───Y───"
      ]
     },
     "metadata": {},
     "output_type": "display_data"
    },
    {
     "data": {
      "text/html": [
       "<pre style=\"overflow: auto; white-space: pre;\">q0: ───nZ───X───\n",
       "       │    │\n",
       "q1: ───nY───Z───</pre>"
      ],
      "text/plain": [
       "q0: ───nZ───X───\n",
       "       │    │\n",
       "q1: ───nY───Z───"
      ]
     },
     "metadata": {},
     "output_type": "display_data"
    },
    {
     "data": {
      "text/html": [
       "<pre style=\"overflow: auto; white-space: pre;\">q0: ───nZ───X────\n",
       "       │    │\n",
       "q1: ───nY───nX───</pre>"
      ],
      "text/plain": [
       "q0: ───nZ───X────\n",
       "       │    │\n",
       "q1: ───nY───nX───"
      ]
     },
     "metadata": {},
     "output_type": "display_data"
    },
    {
     "data": {
      "text/html": [
       "<pre style=\"overflow: auto; white-space: pre;\">q0: ───nZ───X────\n",
       "       │    │\n",
       "q1: ───nY───nY───</pre>"
      ],
      "text/plain": [
       "q0: ───nZ───X────\n",
       "       │    │\n",
       "q1: ───nY───nY───"
      ]
     },
     "metadata": {},
     "output_type": "display_data"
    },
    {
     "data": {
      "text/html": [
       "<pre style=\"overflow: auto; white-space: pre;\">q0: ───nZ───X────\n",
       "       │    │\n",
       "q1: ───nY───nZ───</pre>"
      ],
      "text/plain": [
       "q0: ───nZ───X────\n",
       "       │    │\n",
       "q1: ───nY───nZ───"
      ]
     },
     "metadata": {},
     "output_type": "display_data"
    },
    {
     "data": {
      "text/html": [
       "<pre style=\"overflow: auto; white-space: pre;\">q0: ───nZ───Y───\n",
       "       │    │\n",
       "q1: ───nY───X───</pre>"
      ],
      "text/plain": [
       "q0: ───nZ───Y───\n",
       "       │    │\n",
       "q1: ───nY───X───"
      ]
     },
     "metadata": {},
     "output_type": "display_data"
    },
    {
     "data": {
      "text/html": [
       "<pre style=\"overflow: auto; white-space: pre;\">q0: ───nZ───Y───\n",
       "       │    │\n",
       "q1: ───nY───Y───</pre>"
      ],
      "text/plain": [
       "q0: ───nZ───Y───\n",
       "       │    │\n",
       "q1: ───nY───Y───"
      ]
     },
     "metadata": {},
     "output_type": "display_data"
    },
    {
     "data": {
      "text/html": [
       "<pre style=\"overflow: auto; white-space: pre;\">q0: ───nZ───Y───\n",
       "       │    │\n",
       "q1: ───nY───Z───</pre>"
      ],
      "text/plain": [
       "q0: ───nZ───Y───\n",
       "       │    │\n",
       "q1: ───nY───Z───"
      ]
     },
     "metadata": {},
     "output_type": "display_data"
    },
    {
     "data": {
      "text/html": [
       "<pre style=\"overflow: auto; white-space: pre;\">q0: ───nZ───Y────\n",
       "       │    │\n",
       "q1: ───nY───nX───</pre>"
      ],
      "text/plain": [
       "q0: ───nZ───Y────\n",
       "       │    │\n",
       "q1: ───nY───nX───"
      ]
     },
     "metadata": {},
     "output_type": "display_data"
    },
    {
     "data": {
      "text/html": [
       "<pre style=\"overflow: auto; white-space: pre;\">q0: ───nZ───Y────\n",
       "       │    │\n",
       "q1: ───nY───nY───</pre>"
      ],
      "text/plain": [
       "q0: ───nZ───Y────\n",
       "       │    │\n",
       "q1: ───nY───nY───"
      ]
     },
     "metadata": {},
     "output_type": "display_data"
    },
    {
     "data": {
      "text/html": [
       "<pre style=\"overflow: auto; white-space: pre;\">q0: ───nZ───Y────\n",
       "       │    │\n",
       "q1: ───nY───nZ───</pre>"
      ],
      "text/plain": [
       "q0: ───nZ───Y────\n",
       "       │    │\n",
       "q1: ───nY───nZ───"
      ]
     },
     "metadata": {},
     "output_type": "display_data"
    },
    {
     "data": {
      "text/html": [
       "<pre style=\"overflow: auto; white-space: pre;\">q0: ───nZ───Z───\n",
       "       │    │\n",
       "q1: ───nY───X───</pre>"
      ],
      "text/plain": [
       "q0: ───nZ───Z───\n",
       "       │    │\n",
       "q1: ───nY───X───"
      ]
     },
     "metadata": {},
     "output_type": "display_data"
    },
    {
     "data": {
      "text/html": [
       "<pre style=\"overflow: auto; white-space: pre;\">q0: ───nZ───Z───\n",
       "       │    │\n",
       "q1: ───nY───Y───</pre>"
      ],
      "text/plain": [
       "q0: ───nZ───Z───\n",
       "       │    │\n",
       "q1: ───nY───Y───"
      ]
     },
     "metadata": {},
     "output_type": "display_data"
    },
    {
     "data": {
      "text/html": [
       "<pre style=\"overflow: auto; white-space: pre;\">q0: ───nZ───Z───\n",
       "       │    │\n",
       "q1: ───nY───Z───</pre>"
      ],
      "text/plain": [
       "q0: ───nZ───Z───\n",
       "       │    │\n",
       "q1: ───nY───Z───"
      ]
     },
     "metadata": {},
     "output_type": "display_data"
    },
    {
     "data": {
      "text/html": [
       "<pre style=\"overflow: auto; white-space: pre;\">q0: ───nZ───Z────\n",
       "       │    │\n",
       "q1: ───nY───nX───</pre>"
      ],
      "text/plain": [
       "q0: ───nZ───Z────\n",
       "       │    │\n",
       "q1: ───nY───nX───"
      ]
     },
     "metadata": {},
     "output_type": "display_data"
    },
    {
     "data": {
      "text/html": [
       "<pre style=\"overflow: auto; white-space: pre;\">q0: ───nZ───Z────\n",
       "       │    │\n",
       "q1: ───nY───nY───</pre>"
      ],
      "text/plain": [
       "q0: ───nZ───Z────\n",
       "       │    │\n",
       "q1: ───nY───nY───"
      ]
     },
     "metadata": {},
     "output_type": "display_data"
    },
    {
     "data": {
      "text/html": [
       "<pre style=\"overflow: auto; white-space: pre;\">q0: ───nZ───Z────\n",
       "       │    │\n",
       "q1: ───nY───nZ───</pre>"
      ],
      "text/plain": [
       "q0: ───nZ───Z────\n",
       "       │    │\n",
       "q1: ───nY───nZ───"
      ]
     },
     "metadata": {},
     "output_type": "display_data"
    },
    {
     "data": {
      "text/html": [
       "<pre style=\"overflow: auto; white-space: pre;\">q0: ───nZ───nX───\n",
       "       │    │\n",
       "q1: ───nY───X────</pre>"
      ],
      "text/plain": [
       "q0: ───nZ───nX───\n",
       "       │    │\n",
       "q1: ───nY───X────"
      ]
     },
     "metadata": {},
     "output_type": "display_data"
    },
    {
     "data": {
      "text/html": [
       "<pre style=\"overflow: auto; white-space: pre;\">q0: ───nZ───nX───\n",
       "       │    │\n",
       "q1: ───nY───Y────</pre>"
      ],
      "text/plain": [
       "q0: ───nZ───nX───\n",
       "       │    │\n",
       "q1: ───nY───Y────"
      ]
     },
     "metadata": {},
     "output_type": "display_data"
    },
    {
     "data": {
      "text/html": [
       "<pre style=\"overflow: auto; white-space: pre;\">q0: ───nZ───nX───\n",
       "       │    │\n",
       "q1: ───nY───Z────</pre>"
      ],
      "text/plain": [
       "q0: ───nZ───nX───\n",
       "       │    │\n",
       "q1: ───nY───Z────"
      ]
     },
     "metadata": {},
     "output_type": "display_data"
    },
    {
     "data": {
      "text/html": [
       "<pre style=\"overflow: auto; white-space: pre;\">q0: ───nZ───nX───\n",
       "       │    │\n",
       "q1: ───nY───nX───</pre>"
      ],
      "text/plain": [
       "q0: ───nZ───nX───\n",
       "       │    │\n",
       "q1: ───nY───nX───"
      ]
     },
     "metadata": {},
     "output_type": "display_data"
    },
    {
     "data": {
      "text/html": [
       "<pre style=\"overflow: auto; white-space: pre;\">q0: ───nZ───nX───\n",
       "       │    │\n",
       "q1: ───nY───nY───</pre>"
      ],
      "text/plain": [
       "q0: ───nZ───nX───\n",
       "       │    │\n",
       "q1: ───nY───nY───"
      ]
     },
     "metadata": {},
     "output_type": "display_data"
    },
    {
     "data": {
      "text/html": [
       "<pre style=\"overflow: auto; white-space: pre;\">q0: ───nZ───nX───\n",
       "       │    │\n",
       "q1: ───nY───nZ───</pre>"
      ],
      "text/plain": [
       "q0: ───nZ───nX───\n",
       "       │    │\n",
       "q1: ───nY───nZ───"
      ]
     },
     "metadata": {},
     "output_type": "display_data"
    },
    {
     "data": {
      "text/html": [
       "<pre style=\"overflow: auto; white-space: pre;\">q0: ───nZ───nY───\n",
       "       │    │\n",
       "q1: ───nY───X────</pre>"
      ],
      "text/plain": [
       "q0: ───nZ───nY───\n",
       "       │    │\n",
       "q1: ───nY───X────"
      ]
     },
     "metadata": {},
     "output_type": "display_data"
    },
    {
     "data": {
      "text/html": [
       "<pre style=\"overflow: auto; white-space: pre;\">q0: ───nZ───nY───\n",
       "       │    │\n",
       "q1: ───nY───Y────</pre>"
      ],
      "text/plain": [
       "q0: ───nZ───nY───\n",
       "       │    │\n",
       "q1: ───nY───Y────"
      ]
     },
     "metadata": {},
     "output_type": "display_data"
    },
    {
     "data": {
      "text/html": [
       "<pre style=\"overflow: auto; white-space: pre;\">q0: ───nZ───nY───\n",
       "       │    │\n",
       "q1: ───nY───Z────</pre>"
      ],
      "text/plain": [
       "q0: ───nZ───nY───\n",
       "       │    │\n",
       "q1: ───nY───Z────"
      ]
     },
     "metadata": {},
     "output_type": "display_data"
    },
    {
     "data": {
      "text/html": [
       "<pre style=\"overflow: auto; white-space: pre;\">q0: ───nZ───nY───\n",
       "       │    │\n",
       "q1: ───nY───nX───</pre>"
      ],
      "text/plain": [
       "q0: ───nZ───nY───\n",
       "       │    │\n",
       "q1: ───nY───nX───"
      ]
     },
     "metadata": {},
     "output_type": "display_data"
    },
    {
     "data": {
      "text/html": [
       "<pre style=\"overflow: auto; white-space: pre;\">q0: ───nZ───nY───\n",
       "       │    │\n",
       "q1: ───nY───nY───</pre>"
      ],
      "text/plain": [
       "q0: ───nZ───nY───\n",
       "       │    │\n",
       "q1: ───nY───nY───"
      ]
     },
     "metadata": {},
     "output_type": "display_data"
    },
    {
     "data": {
      "text/html": [
       "<pre style=\"overflow: auto; white-space: pre;\">q0: ───nZ───nY───\n",
       "       │    │\n",
       "q1: ───nY───nZ───</pre>"
      ],
      "text/plain": [
       "q0: ───nZ───nY───\n",
       "       │    │\n",
       "q1: ───nY───nZ───"
      ]
     },
     "metadata": {},
     "output_type": "display_data"
    },
    {
     "data": {
      "text/html": [
       "<pre style=\"overflow: auto; white-space: pre;\">q0: ───nZ───nZ───\n",
       "       │    │\n",
       "q1: ───nY───X────</pre>"
      ],
      "text/plain": [
       "q0: ───nZ───nZ───\n",
       "       │    │\n",
       "q1: ───nY───X────"
      ]
     },
     "metadata": {},
     "output_type": "display_data"
    },
    {
     "data": {
      "text/html": [
       "<pre style=\"overflow: auto; white-space: pre;\">q0: ───nZ───nZ───\n",
       "       │    │\n",
       "q1: ───nY───Y────</pre>"
      ],
      "text/plain": [
       "q0: ───nZ───nZ───\n",
       "       │    │\n",
       "q1: ───nY───Y────"
      ]
     },
     "metadata": {},
     "output_type": "display_data"
    },
    {
     "data": {
      "text/html": [
       "<pre style=\"overflow: auto; white-space: pre;\">q0: ───nZ───nZ───\n",
       "       │    │\n",
       "q1: ───nY───Z────</pre>"
      ],
      "text/plain": [
       "q0: ───nZ───nZ───\n",
       "       │    │\n",
       "q1: ───nY───Z────"
      ]
     },
     "metadata": {},
     "output_type": "display_data"
    },
    {
     "data": {
      "text/html": [
       "<pre style=\"overflow: auto; white-space: pre;\">q0: ───nZ───nZ───\n",
       "       │    │\n",
       "q1: ───nY───nX───</pre>"
      ],
      "text/plain": [
       "q0: ───nZ───nZ───\n",
       "       │    │\n",
       "q1: ───nY───nX───"
      ]
     },
     "metadata": {},
     "output_type": "display_data"
    },
    {
     "data": {
      "text/html": [
       "<pre style=\"overflow: auto; white-space: pre;\">q0: ───nZ───nZ───\n",
       "       │    │\n",
       "q1: ───nY───nY───</pre>"
      ],
      "text/plain": [
       "q0: ───nZ───nZ───\n",
       "       │    │\n",
       "q1: ───nY───nY───"
      ]
     },
     "metadata": {},
     "output_type": "display_data"
    },
    {
     "data": {
      "text/html": [
       "<pre style=\"overflow: auto; white-space: pre;\">q0: ───nZ───nZ───\n",
       "       │    │\n",
       "q1: ───nY───nZ───</pre>"
      ],
      "text/plain": [
       "q0: ───nZ───nZ───\n",
       "       │    │\n",
       "q1: ───nY───nZ───"
      ]
     },
     "metadata": {},
     "output_type": "display_data"
    },
    {
     "data": {
      "text/html": [
       "<pre style=\"overflow: auto; white-space: pre;\">q0: ───nZ───X───\n",
       "       │    │\n",
       "q1: ───nZ───X───</pre>"
      ],
      "text/plain": [
       "q0: ───nZ───X───\n",
       "       │    │\n",
       "q1: ───nZ───X───"
      ]
     },
     "metadata": {},
     "output_type": "display_data"
    },
    {
     "data": {
      "text/html": [
       "<pre style=\"overflow: auto; white-space: pre;\">q0: ───nZ───X───\n",
       "       │    │\n",
       "q1: ───nZ───Y───</pre>"
      ],
      "text/plain": [
       "q0: ───nZ───X───\n",
       "       │    │\n",
       "q1: ───nZ───Y───"
      ]
     },
     "metadata": {},
     "output_type": "display_data"
    },
    {
     "data": {
      "text/html": [
       "<pre style=\"overflow: auto; white-space: pre;\">q0: ───nZ───X───\n",
       "       │    │\n",
       "q1: ───nZ───Z───</pre>"
      ],
      "text/plain": [
       "q0: ───nZ───X───\n",
       "       │    │\n",
       "q1: ───nZ───Z───"
      ]
     },
     "metadata": {},
     "output_type": "display_data"
    },
    {
     "data": {
      "text/html": [
       "<pre style=\"overflow: auto; white-space: pre;\">q0: ───nZ───X────\n",
       "       │    │\n",
       "q1: ───nZ───nX───</pre>"
      ],
      "text/plain": [
       "q0: ───nZ───X────\n",
       "       │    │\n",
       "q1: ───nZ───nX───"
      ]
     },
     "metadata": {},
     "output_type": "display_data"
    },
    {
     "data": {
      "text/html": [
       "<pre style=\"overflow: auto; white-space: pre;\">q0: ───nZ───X────\n",
       "       │    │\n",
       "q1: ───nZ───nY───</pre>"
      ],
      "text/plain": [
       "q0: ───nZ───X────\n",
       "       │    │\n",
       "q1: ───nZ───nY───"
      ]
     },
     "metadata": {},
     "output_type": "display_data"
    },
    {
     "data": {
      "text/html": [
       "<pre style=\"overflow: auto; white-space: pre;\">q0: ───nZ───X────\n",
       "       │    │\n",
       "q1: ───nZ───nZ───</pre>"
      ],
      "text/plain": [
       "q0: ───nZ───X────\n",
       "       │    │\n",
       "q1: ───nZ───nZ───"
      ]
     },
     "metadata": {},
     "output_type": "display_data"
    },
    {
     "data": {
      "text/html": [
       "<pre style=\"overflow: auto; white-space: pre;\">q0: ───nZ───Y───\n",
       "       │    │\n",
       "q1: ───nZ───X───</pre>"
      ],
      "text/plain": [
       "q0: ───nZ───Y───\n",
       "       │    │\n",
       "q1: ───nZ───X───"
      ]
     },
     "metadata": {},
     "output_type": "display_data"
    },
    {
     "data": {
      "text/html": [
       "<pre style=\"overflow: auto; white-space: pre;\">q0: ───nZ───Y───\n",
       "       │    │\n",
       "q1: ───nZ───Y───</pre>"
      ],
      "text/plain": [
       "q0: ───nZ───Y───\n",
       "       │    │\n",
       "q1: ───nZ───Y───"
      ]
     },
     "metadata": {},
     "output_type": "display_data"
    },
    {
     "data": {
      "text/html": [
       "<pre style=\"overflow: auto; white-space: pre;\">q0: ───nZ───Y───\n",
       "       │    │\n",
       "q1: ───nZ───Z───</pre>"
      ],
      "text/plain": [
       "q0: ───nZ───Y───\n",
       "       │    │\n",
       "q1: ───nZ───Z───"
      ]
     },
     "metadata": {},
     "output_type": "display_data"
    },
    {
     "data": {
      "text/html": [
       "<pre style=\"overflow: auto; white-space: pre;\">q0: ───nZ───Y────\n",
       "       │    │\n",
       "q1: ───nZ───nX───</pre>"
      ],
      "text/plain": [
       "q0: ───nZ───Y────\n",
       "       │    │\n",
       "q1: ───nZ───nX───"
      ]
     },
     "metadata": {},
     "output_type": "display_data"
    },
    {
     "data": {
      "text/html": [
       "<pre style=\"overflow: auto; white-space: pre;\">q0: ───nZ───Y────\n",
       "       │    │\n",
       "q1: ───nZ───nY───</pre>"
      ],
      "text/plain": [
       "q0: ───nZ───Y────\n",
       "       │    │\n",
       "q1: ───nZ───nY───"
      ]
     },
     "metadata": {},
     "output_type": "display_data"
    },
    {
     "data": {
      "text/html": [
       "<pre style=\"overflow: auto; white-space: pre;\">q0: ───nZ───Y────\n",
       "       │    │\n",
       "q1: ───nZ───nZ───</pre>"
      ],
      "text/plain": [
       "q0: ───nZ───Y────\n",
       "       │    │\n",
       "q1: ───nZ───nZ───"
      ]
     },
     "metadata": {},
     "output_type": "display_data"
    },
    {
     "data": {
      "text/html": [
       "<pre style=\"overflow: auto; white-space: pre;\">q0: ───nZ───Z───\n",
       "       │    │\n",
       "q1: ───nZ───X───</pre>"
      ],
      "text/plain": [
       "q0: ───nZ───Z───\n",
       "       │    │\n",
       "q1: ───nZ───X───"
      ]
     },
     "metadata": {},
     "output_type": "display_data"
    },
    {
     "data": {
      "text/html": [
       "<pre style=\"overflow: auto; white-space: pre;\">q0: ───nZ───Z───\n",
       "       │    │\n",
       "q1: ───nZ───Y───</pre>"
      ],
      "text/plain": [
       "q0: ───nZ───Z───\n",
       "       │    │\n",
       "q1: ───nZ───Y───"
      ]
     },
     "metadata": {},
     "output_type": "display_data"
    },
    {
     "data": {
      "text/html": [
       "<pre style=\"overflow: auto; white-space: pre;\">q0: ───nZ───Z───\n",
       "       │    │\n",
       "q1: ───nZ───Z───</pre>"
      ],
      "text/plain": [
       "q0: ───nZ───Z───\n",
       "       │    │\n",
       "q1: ───nZ───Z───"
      ]
     },
     "metadata": {},
     "output_type": "display_data"
    },
    {
     "data": {
      "text/html": [
       "<pre style=\"overflow: auto; white-space: pre;\">q0: ───nZ───Z────\n",
       "       │    │\n",
       "q1: ───nZ───nX───</pre>"
      ],
      "text/plain": [
       "q0: ───nZ───Z────\n",
       "       │    │\n",
       "q1: ───nZ───nX───"
      ]
     },
     "metadata": {},
     "output_type": "display_data"
    },
    {
     "data": {
      "text/html": [
       "<pre style=\"overflow: auto; white-space: pre;\">q0: ───nZ───Z────\n",
       "       │    │\n",
       "q1: ───nZ───nY───</pre>"
      ],
      "text/plain": [
       "q0: ───nZ───Z────\n",
       "       │    │\n",
       "q1: ───nZ───nY───"
      ]
     },
     "metadata": {},
     "output_type": "display_data"
    },
    {
     "data": {
      "text/html": [
       "<pre style=\"overflow: auto; white-space: pre;\">q0: ───nZ───Z────\n",
       "       │    │\n",
       "q1: ───nZ───nZ───</pre>"
      ],
      "text/plain": [
       "q0: ───nZ───Z────\n",
       "       │    │\n",
       "q1: ───nZ───nZ───"
      ]
     },
     "metadata": {},
     "output_type": "display_data"
    },
    {
     "data": {
      "text/html": [
       "<pre style=\"overflow: auto; white-space: pre;\">q0: ───nZ───nX───\n",
       "       │    │\n",
       "q1: ───nZ───X────</pre>"
      ],
      "text/plain": [
       "q0: ───nZ───nX───\n",
       "       │    │\n",
       "q1: ───nZ───X────"
      ]
     },
     "metadata": {},
     "output_type": "display_data"
    },
    {
     "data": {
      "text/html": [
       "<pre style=\"overflow: auto; white-space: pre;\">q0: ───nZ───nX───\n",
       "       │    │\n",
       "q1: ───nZ───Y────</pre>"
      ],
      "text/plain": [
       "q0: ───nZ───nX───\n",
       "       │    │\n",
       "q1: ───nZ───Y────"
      ]
     },
     "metadata": {},
     "output_type": "display_data"
    },
    {
     "data": {
      "text/html": [
       "<pre style=\"overflow: auto; white-space: pre;\">q0: ───nZ───nX───\n",
       "       │    │\n",
       "q1: ───nZ───Z────</pre>"
      ],
      "text/plain": [
       "q0: ───nZ───nX───\n",
       "       │    │\n",
       "q1: ───nZ───Z────"
      ]
     },
     "metadata": {},
     "output_type": "display_data"
    },
    {
     "data": {
      "text/html": [
       "<pre style=\"overflow: auto; white-space: pre;\">q0: ───nZ───nX───\n",
       "       │    │\n",
       "q1: ───nZ───nX───</pre>"
      ],
      "text/plain": [
       "q0: ───nZ───nX───\n",
       "       │    │\n",
       "q1: ───nZ───nX───"
      ]
     },
     "metadata": {},
     "output_type": "display_data"
    },
    {
     "data": {
      "text/html": [
       "<pre style=\"overflow: auto; white-space: pre;\">q0: ───nZ───nX───\n",
       "       │    │\n",
       "q1: ───nZ───nY───</pre>"
      ],
      "text/plain": [
       "q0: ───nZ───nX───\n",
       "       │    │\n",
       "q1: ───nZ───nY───"
      ]
     },
     "metadata": {},
     "output_type": "display_data"
    },
    {
     "data": {
      "text/html": [
       "<pre style=\"overflow: auto; white-space: pre;\">q0: ───nZ───nX───\n",
       "       │    │\n",
       "q1: ───nZ───nZ───</pre>"
      ],
      "text/plain": [
       "q0: ───nZ───nX───\n",
       "       │    │\n",
       "q1: ───nZ───nZ───"
      ]
     },
     "metadata": {},
     "output_type": "display_data"
    },
    {
     "data": {
      "text/html": [
       "<pre style=\"overflow: auto; white-space: pre;\">q0: ───nZ───nY───\n",
       "       │    │\n",
       "q1: ───nZ───X────</pre>"
      ],
      "text/plain": [
       "q0: ───nZ───nY───\n",
       "       │    │\n",
       "q1: ───nZ───X────"
      ]
     },
     "metadata": {},
     "output_type": "display_data"
    },
    {
     "data": {
      "text/html": [
       "<pre style=\"overflow: auto; white-space: pre;\">q0: ───nZ───nY───\n",
       "       │    │\n",
       "q1: ───nZ───Y────</pre>"
      ],
      "text/plain": [
       "q0: ───nZ───nY───\n",
       "       │    │\n",
       "q1: ───nZ───Y────"
      ]
     },
     "metadata": {},
     "output_type": "display_data"
    },
    {
     "data": {
      "text/html": [
       "<pre style=\"overflow: auto; white-space: pre;\">q0: ───nZ───nY───\n",
       "       │    │\n",
       "q1: ───nZ───Z────</pre>"
      ],
      "text/plain": [
       "q0: ───nZ───nY───\n",
       "       │    │\n",
       "q1: ───nZ───Z────"
      ]
     },
     "metadata": {},
     "output_type": "display_data"
    },
    {
     "data": {
      "text/html": [
       "<pre style=\"overflow: auto; white-space: pre;\">q0: ───nZ───nY───\n",
       "       │    │\n",
       "q1: ───nZ───nX───</pre>"
      ],
      "text/plain": [
       "q0: ───nZ───nY───\n",
       "       │    │\n",
       "q1: ───nZ───nX───"
      ]
     },
     "metadata": {},
     "output_type": "display_data"
    },
    {
     "data": {
      "text/html": [
       "<pre style=\"overflow: auto; white-space: pre;\">q0: ───nZ───nY───\n",
       "       │    │\n",
       "q1: ───nZ───nY───</pre>"
      ],
      "text/plain": [
       "q0: ───nZ───nY───\n",
       "       │    │\n",
       "q1: ───nZ───nY───"
      ]
     },
     "metadata": {},
     "output_type": "display_data"
    },
    {
     "data": {
      "text/html": [
       "<pre style=\"overflow: auto; white-space: pre;\">q0: ───nZ───nY───\n",
       "       │    │\n",
       "q1: ───nZ───nZ───</pre>"
      ],
      "text/plain": [
       "q0: ───nZ───nY───\n",
       "       │    │\n",
       "q1: ───nZ───nZ───"
      ]
     },
     "metadata": {},
     "output_type": "display_data"
    },
    {
     "data": {
      "text/html": [
       "<pre style=\"overflow: auto; white-space: pre;\">q0: ───nZ───nZ───\n",
       "       │    │\n",
       "q1: ───nZ───X────</pre>"
      ],
      "text/plain": [
       "q0: ───nZ───nZ───\n",
       "       │    │\n",
       "q1: ───nZ───X────"
      ]
     },
     "metadata": {},
     "output_type": "display_data"
    },
    {
     "data": {
      "text/html": [
       "<pre style=\"overflow: auto; white-space: pre;\">q0: ───nZ───nZ───\n",
       "       │    │\n",
       "q1: ───nZ───Y────</pre>"
      ],
      "text/plain": [
       "q0: ───nZ───nZ───\n",
       "       │    │\n",
       "q1: ───nZ───Y────"
      ]
     },
     "metadata": {},
     "output_type": "display_data"
    },
    {
     "data": {
      "text/html": [
       "<pre style=\"overflow: auto; white-space: pre;\">q0: ───nZ───nZ───\n",
       "       │    │\n",
       "q1: ───nZ───Z────</pre>"
      ],
      "text/plain": [
       "q0: ───nZ───nZ───\n",
       "       │    │\n",
       "q1: ───nZ───Z────"
      ]
     },
     "metadata": {},
     "output_type": "display_data"
    },
    {
     "data": {
      "text/html": [
       "<pre style=\"overflow: auto; white-space: pre;\">q0: ───nZ───nZ───\n",
       "       │    │\n",
       "q1: ───nZ───nX───</pre>"
      ],
      "text/plain": [
       "q0: ───nZ───nZ───\n",
       "       │    │\n",
       "q1: ───nZ───nX───"
      ]
     },
     "metadata": {},
     "output_type": "display_data"
    },
    {
     "data": {
      "text/html": [
       "<pre style=\"overflow: auto; white-space: pre;\">q0: ───nZ───nZ───\n",
       "       │    │\n",
       "q1: ───nZ───nY───</pre>"
      ],
      "text/plain": [
       "q0: ───nZ───nZ───\n",
       "       │    │\n",
       "q1: ───nZ───nY───"
      ]
     },
     "metadata": {},
     "output_type": "display_data"
    },
    {
     "data": {
      "text/html": [
       "<pre style=\"overflow: auto; white-space: pre;\">q0: ───nZ───nZ───\n",
       "       │    │\n",
       "q1: ───nZ───nZ───</pre>"
      ],
      "text/plain": [
       "q0: ───nZ───nZ───\n",
       "       │    │\n",
       "q1: ───nZ───nZ───"
      ]
     },
     "metadata": {},
     "output_type": "display_data"
    }
   ],
   "source": [
    "import itertools\n",
    "bases = (X_BASIS, Y_BASIS, Z_BASIS, nX_BASIS, nY_BASIS, nZ_BASIS)\n",
    "for b0, b1, b2, b3 in itertools.product(*((bases,)*4)):\n",
    "    mat = _ops_to_matrix(\n",
    "        InteractionGate(b0, b1)(q0, q1),\n",
    "        InteractionGate(b2, b3)(q0, q1),\n",
    "        #InteractionGate(b4, b5)(q0, q1),\n",
    "    )\n",
    "    try:\n",
    "        assert_allclose_up_to_global_phase(target, mat)\n",
    "        _ops_to_matrix(\n",
    "            InteractionGate(b0, b1)(q0, q1),\n",
    "            InteractionGate(b2, b3)(q0, q1),\n",
    "            #InteractionGate(b4, b5)(q0, q1),\n",
    "        )\n",
    "    except AssertionError:\n",
    "        pass"
   ]
  },
  {
   "cell_type": "code",
   "execution_count": null,
   "metadata": {},
   "outputs": [],
   "source": []
  },
  {
   "cell_type": "code",
   "execution_count": null,
   "metadata": {},
   "outputs": [],
   "source": []
  },
  {
   "cell_type": "code",
   "execution_count": null,
   "metadata": {},
   "outputs": [],
   "source": []
  },
  {
   "cell_type": "code",
   "execution_count": null,
   "metadata": {},
   "outputs": [],
   "source": []
  },
  {
   "cell_type": "code",
   "execution_count": null,
   "metadata": {},
   "outputs": [],
   "source": []
  },
  {
   "cell_type": "code",
   "execution_count": null,
   "metadata": {},
   "outputs": [],
   "source": []
  },
  {
   "cell_type": "code",
   "execution_count": null,
   "metadata": {},
   "outputs": [],
   "source": []
  },
  {
   "cell_type": "code",
   "execution_count": null,
   "metadata": {},
   "outputs": [],
   "source": []
  },
  {
   "cell_type": "code",
   "execution_count": null,
   "metadata": {},
   "outputs": [],
   "source": []
  },
  {
   "cell_type": "code",
   "execution_count": 34,
   "metadata": {},
   "outputs": [],
   "source": [
    "sq2 = np.sqrt(2)\n",
    "mX = X.matrix()\n",
    "mY = Y.matrix()\n",
    "mZ = Z.matrix()\n",
    "mH = H.matrix()"
   ]
  },
  {
   "cell_type": "code",
   "execution_count": 35,
   "metadata": {},
   "outputs": [],
   "source": [
    "mX_2 = (X**0.5).matrix()"
   ]
  },
  {
   "cell_type": "code",
   "execution_count": 36,
   "metadata": {},
   "outputs": [],
   "source": [
    "mY_2 = (Y**0.5).matrix()"
   ]
  },
  {
   "cell_type": "code",
   "execution_count": 37,
   "metadata": {},
   "outputs": [],
   "source": [
    "mZ_2 = (Z**0.5).matrix().round(3)"
   ]
  },
  {
   "cell_type": "code",
   "execution_count": 58,
   "metadata": {},
   "outputs": [
    {
     "data": {
      "text/html": [
       "<pre style=\"overflow: auto; white-space: pre;\">q0: ───@───\n",
       "       │\n",
       "q1: ───X───</pre>"
      ],
      "text/plain": [
       "q0: ───@───\n",
       "       │\n",
       "q1: ───X───"
      ]
     },
     "metadata": {},
     "output_type": "display_data"
    },
    {
     "data": {
      "text/plain": [
       "array([[1.+0.j, 0.+0.j, 0.+0.j, 0.+0.j],\n",
       "       [0.+0.j, 1.+0.j, 0.+0.j, 0.+0.j],\n",
       "       [0.+0.j, 0.+0.j, 0.+0.j, 1.+0.j],\n",
       "       [0.+0.j, 0.+0.j, 1.+0.j, 0.+0.j]])"
      ]
     },
     "execution_count": 58,
     "metadata": {},
     "output_type": "execute_result"
    }
   ],
   "source": [
    "#mZX = _ops_to_matrix(CNOT(q0, q1))\n",
    "mZX = _ops_to_matrix(CNOT(q0, q1))\n",
    "mZX"
   ]
  },
  {
   "cell_type": "code",
   "execution_count": 60,
   "metadata": {},
   "outputs": [
    {
     "data": {
      "text/html": [
       "<pre style=\"overflow: auto; white-space: pre;\">q0: ───────────@────────────\n",
       "               │\n",
       "q1: ───Y^0.5───X───Y^-0.5───</pre>"
      ],
      "text/plain": [
       "q0: ───────────@────────────\n",
       "               │\n",
       "q1: ───Y^0.5───X───Y^-0.5───"
      ]
     },
     "metadata": {},
     "output_type": "display_data"
    },
    {
     "data": {
      "text/plain": [
       "array([[ 1.+0.j,  0.+0.j,  0.+0.j,  0.+0.j],\n",
       "       [ 0.+0.j,  1.+0.j,  0.+0.j,  0.+0.j],\n",
       "       [ 0.+0.j,  0.+0.j,  1.+0.j,  0.+0.j],\n",
       "       [ 0.+0.j,  0.+0.j,  0.+0.j, -1.+0.j]])"
      ]
     },
     "execution_count": 60,
     "metadata": {},
     "output_type": "execute_result"
    }
   ],
   "source": [
    "mZZ = _ops_to_matrix(Y(q1)**0.5, CNOT(q0, q1), Y(q1)**-0.5)\n",
    "mZZ"
   ]
  },
  {
   "cell_type": "code",
   "execution_count": 61,
   "metadata": {},
   "outputs": [
    {
     "data": {
      "text/html": [
       "<pre style=\"overflow: auto; white-space: pre;\">q0: ───Y^-0.5───@───Y^0.5───\n",
       "                │\n",
       "q1: ────────────Z───────────</pre>"
      ],
      "text/plain": [
       "q0: ───Y^-0.5───@───Y^0.5───\n",
       "                │\n",
       "q1: ────────────Z───────────"
      ]
     },
     "metadata": {},
     "output_type": "display_data"
    },
    {
     "data": {
      "text/plain": [
       "array([[1.+0.j, 0.+0.j, 0.+0.j, 0.+0.j],\n",
       "       [0.+0.j, 0.+0.j, 0.+0.j, 1.+0.j],\n",
       "       [0.+0.j, 0.+0.j, 1.+0.j, 0.+0.j],\n",
       "       [0.+0.j, 1.+0.j, 0.+0.j, 0.+0.j]])"
      ]
     },
     "execution_count": 61,
     "metadata": {},
     "output_type": "execute_result"
    }
   ],
   "source": [
    "mXZ = _ops_to_matrix(Y(q0)**-0.5, CZ(q0, q1), Y(q0)**0.5)\n",
    "mXZ"
   ]
  },
  {
   "cell_type": "code",
   "execution_count": 62,
   "metadata": {},
   "outputs": [
    {
     "data": {
      "text/html": [
       "<pre style=\"overflow: auto; white-space: pre;\">q0: ───H───</pre>"
      ],
      "text/plain": [
       "q0: ───H───"
      ]
     },
     "metadata": {},
     "output_type": "display_data"
    },
    {
     "data": {
      "text/plain": [
       "array([[ 0.70711+0.j,  0.70711+0.j],\n",
       "       [ 0.70711+0.j, -0.70711+0.j]])"
      ]
     },
     "execution_count": 62,
     "metadata": {},
     "output_type": "execute_result"
    }
   ],
   "source": [
    "mH = _ops_to_matrix(H(q0))      #/(1/sq2-1j/sq2)\n",
    "mH"
   ]
  },
  {
   "cell_type": "code",
   "execution_count": 63,
   "metadata": {},
   "outputs": [
    {
     "data": {
      "text/html": [
       "<pre style=\"overflow: auto; white-space: pre;\">q0: ───Y^-0.5───Z───</pre>"
      ],
      "text/plain": [
       "q0: ───Y^-0.5───Z───"
      ]
     },
     "metadata": {},
     "output_type": "display_data"
    },
    {
     "data": {
      "text/plain": [
       "array([[ 0.70710678+0.j,  0.70710678+0.j],\n",
       "       [ 0.70710678+0.j, -0.70710678+0.j]])"
      ]
     },
     "execution_count": 63,
     "metadata": {},
     "output_type": "execute_result"
    }
   ],
   "source": [
    "mH = _ops_to_matrix(Y(q0)**-0.5, Z(q0))      /(1/sq2-1j/sq2)\n",
    "mH"
   ]
  },
  {
   "cell_type": "code",
   "execution_count": 64,
   "metadata": {},
   "outputs": [
    {
     "data": {
      "text/html": [
       "<pre style=\"overflow: auto; white-space: pre;\">q0: ───Z───Y^0.5───</pre>"
      ],
      "text/plain": [
       "q0: ───Z───Y^0.5───"
      ]
     },
     "metadata": {},
     "output_type": "display_data"
    },
    {
     "data": {
      "text/plain": [
       "array([[ 0.70710678+0.j,  0.70710678+0.j],\n",
       "       [ 0.70710678+0.j, -0.70710678+0.j]])"
      ]
     },
     "execution_count": 64,
     "metadata": {},
     "output_type": "execute_result"
    }
   ],
   "source": [
    "mH = _ops_to_matrix(Z(q0), Y(q0)**0.5)      /(1/sq2+1j/sq2)\n",
    "mH"
   ]
  },
  {
   "cell_type": "code",
   "execution_count": 65,
   "metadata": {},
   "outputs": [
    {
     "data": {
      "text/html": [
       "<pre style=\"overflow: auto; white-space: pre;\">q0: ───Y^0.5───X───</pre>"
      ],
      "text/plain": [
       "q0: ───Y^0.5───X───"
      ]
     },
     "metadata": {},
     "output_type": "display_data"
    },
    {
     "data": {
      "text/plain": [
       "array([[ 0.70710678+0.j,  0.70710678+0.j],\n",
       "       [ 0.70710678+0.j, -0.70710678+0.j]])"
      ]
     },
     "execution_count": 65,
     "metadata": {},
     "output_type": "execute_result"
    }
   ],
   "source": [
    "mH = _ops_to_matrix(Y(q0)**0.5, X(q0))      /(1/sq2+1j/sq2)\n",
    "mH"
   ]
  },
  {
   "cell_type": "code",
   "execution_count": 66,
   "metadata": {},
   "outputs": [
    {
     "data": {
      "text/html": [
       "<pre style=\"overflow: auto; white-space: pre;\">q0: ───X───Y^-0.5───</pre>"
      ],
      "text/plain": [
       "q0: ───X───Y^-0.5───"
      ]
     },
     "metadata": {},
     "output_type": "display_data"
    },
    {
     "data": {
      "text/plain": [
       "array([[ 0.70710678+0.j,  0.70710678+0.j],\n",
       "       [ 0.70710678+0.j, -0.70710678+0.j]])"
      ]
     },
     "execution_count": 66,
     "metadata": {},
     "output_type": "execute_result"
    }
   ],
   "source": [
    "mH = _ops_to_matrix(X(q0), Y(q0)**-0.5)      /(1/sq2-1j/sq2)\n",
    "mH"
   ]
  },
  {
   "cell_type": "code",
   "execution_count": null,
   "metadata": {},
   "outputs": [],
   "source": []
  },
  {
   "cell_type": "code",
   "execution_count": null,
   "metadata": {},
   "outputs": [],
   "source": []
  },
  {
   "cell_type": "code",
   "execution_count": null,
   "metadata": {},
   "outputs": [],
   "source": []
  },
  {
   "cell_type": "code",
   "execution_count": 67,
   "metadata": {},
   "outputs": [
    {
     "data": {
      "text/html": [
       "<pre style=\"overflow: auto; white-space: pre;\">q0: ───X───X───\n",
       "\n",
       "q1: ───────Y───</pre>"
      ],
      "text/plain": [
       "q0: ───X───X───\n",
       "\n",
       "q1: ───────Y───"
      ]
     },
     "metadata": {},
     "output_type": "display_data"
    },
    {
     "data": {
      "text/plain": [
       "array([[0.+0.j, 0.-1.j, 0.+0.j, 0.+0.j],\n",
       "       [0.+1.j, 0.+0.j, 0.+0.j, 0.+0.j],\n",
       "       [0.+0.j, 0.+0.j, 0.+0.j, 0.-1.j],\n",
       "       [0.+0.j, 0.+0.j, 0.+1.j, 0.+0.j]])"
      ]
     },
     "execution_count": 67,
     "metadata": {},
     "output_type": "execute_result"
    }
   ],
   "source": [
    "mY1 = _ops_to_matrix(\n",
    "    X(q0), X(q0),\n",
    "    Y(q1),\n",
    ")\n",
    "mY1"
   ]
  },
  {
   "cell_type": "code",
   "execution_count": 68,
   "metadata": {},
   "outputs": [
    {
     "data": {
      "text/html": [
       "<pre style=\"overflow: auto; white-space: pre;\">q0: ───────Y───\n",
       "\n",
       "q1: ───X───X───</pre>"
      ],
      "text/plain": [
       "q0: ───────Y───\n",
       "\n",
       "q1: ───X───X───"
      ]
     },
     "metadata": {},
     "output_type": "display_data"
    },
    {
     "data": {
      "text/plain": [
       "array([[0.+0.j, 0.+0.j, 0.-1.j, 0.+0.j],\n",
       "       [0.+0.j, 0.+0.j, 0.+0.j, 0.-1.j],\n",
       "       [0.+1.j, 0.+0.j, 0.+0.j, 0.+0.j],\n",
       "       [0.+0.j, 0.+1.j, 0.+0.j, 0.+0.j]])"
      ]
     },
     "execution_count": 68,
     "metadata": {},
     "output_type": "execute_result"
    }
   ],
   "source": [
    "mY0 = _ops_to_matrix(\n",
    "    X(q1), X(q1),\n",
    "    Y(q0),\n",
    ")\n",
    "mY0"
   ]
  },
  {
   "cell_type": "code",
   "execution_count": 69,
   "metadata": {},
   "outputs": [
    {
     "data": {
      "text/html": [
       "<pre style=\"overflow: auto; white-space: pre;\">q0: ───X───\n",
       "       │\n",
       "q1: ───Z───</pre>"
      ],
      "text/plain": [
       "q0: ───X───\n",
       "       │\n",
       "q1: ───Z───"
      ]
     },
     "metadata": {},
     "output_type": "display_data"
    },
    {
     "data": {
      "text/plain": [
       "array([[1.+0.j, 0.+0.j, 0.+0.j, 0.+0.j],\n",
       "       [0.+0.j, 0.+0.j, 0.+0.j, 1.+0.j],\n",
       "       [0.+0.j, 0.+0.j, 1.+0.j, 0.+0.j],\n",
       "       [0.+0.j, 1.+0.j, 0.+0.j, 0.+0.j]])"
      ]
     },
     "execution_count": 69,
     "metadata": {},
     "output_type": "execute_result"
    }
   ],
   "source": [
    "mXZ = _ops_to_matrix(\n",
    "    InteractionGate(X_BASIS, Z_BASIS)(q0, q1),\n",
    ")\n",
    "mXZ"
   ]
  },
  {
   "cell_type": "code",
   "execution_count": 70,
   "metadata": {},
   "outputs": [
    {
     "data": {
      "text/html": [
       "<pre style=\"overflow: auto; white-space: pre;\">q0: ───Z───\n",
       "       │\n",
       "q1: ───X───</pre>"
      ],
      "text/plain": [
       "q0: ───Z───\n",
       "       │\n",
       "q1: ───X───"
      ]
     },
     "metadata": {},
     "output_type": "display_data"
    },
    {
     "data": {
      "text/plain": [
       "array([[1.+0.j, 0.+0.j, 0.+0.j, 0.+0.j],\n",
       "       [0.+0.j, 1.+0.j, 0.+0.j, 0.+0.j],\n",
       "       [0.+0.j, 0.+0.j, 0.+0.j, 1.+0.j],\n",
       "       [0.+0.j, 0.+0.j, 1.+0.j, 0.+0.j]])"
      ]
     },
     "execution_count": 70,
     "metadata": {},
     "output_type": "execute_result"
    }
   ],
   "source": [
    "mZX = _ops_to_matrix(\n",
    "    InteractionGate(Z_BASIS, X_BASIS)(q0, q1),\n",
    ")\n",
    "mZX"
   ]
  },
  {
   "cell_type": "code",
   "execution_count": 71,
   "metadata": {},
   "outputs": [
    {
     "data": {
      "text/plain": [
       "array([[0.+0.j, 0.-1.j, 0.+0.j, 0.+0.j],\n",
       "       [0.+0.j, 0.+0.j, 0.+1.j, 0.+0.j],\n",
       "       [0.+0.j, 0.+0.j, 0.+0.j, 0.-1.j],\n",
       "       [0.+1.j, 0.+0.j, 0.+0.j, 0.+0.j]])"
      ]
     },
     "execution_count": 71,
     "metadata": {},
     "output_type": "execute_result"
    }
   ],
   "source": [
    "m1 = mXZ.dot(mY1)\n",
    "m1"
   ]
  },
  {
   "cell_type": "code",
   "execution_count": 72,
   "metadata": {},
   "outputs": [
    {
     "data": {
      "text/plain": [
       "array([[1.+0.j, 0.+0.j, 0.+0.j, 0.+0.j],\n",
       "       [0.+0.j, 0.+0.j, 0.+0.j, 1.+0.j],\n",
       "       [0.+0.j, 0.+0.j, 1.+0.j, 0.+0.j],\n",
       "       [0.+0.j, 1.+0.j, 0.+0.j, 0.+0.j]])"
      ]
     },
     "execution_count": 72,
     "metadata": {},
     "output_type": "execute_result"
    }
   ],
   "source": [
    "np.linalg.inv(mXZ)"
   ]
  },
  {
   "cell_type": "code",
   "execution_count": 73,
   "metadata": {},
   "outputs": [
    {
     "data": {
      "text/plain": [
       "array([[1.-0.j, 0.-0.j, 0.-0.j, 0.-0.j],\n",
       "       [0.-0.j, 0.-0.j, 0.-0.j, 1.-0.j],\n",
       "       [0.-0.j, 0.-0.j, 1.-0.j, 0.-0.j],\n",
       "       [0.-0.j, 1.-0.j, 0.-0.j, 0.-0.j]])"
      ]
     },
     "execution_count": 73,
     "metadata": {},
     "output_type": "execute_result"
    }
   ],
   "source": [
    "mXZ.conj().T"
   ]
  },
  {
   "cell_type": "code",
   "execution_count": 74,
   "metadata": {},
   "outputs": [
    {
     "data": {
      "text/plain": [
       "array([[0.+0.j, 0.+0.j, 0.+0.j, 0.-1.j],\n",
       "       [0.+0.j, 0.+0.j, 0.+1.j, 0.+0.j],\n",
       "       [0.+0.j, 0.-1.j, 0.+0.j, 0.+0.j],\n",
       "       [0.+1.j, 0.+0.j, 0.+0.j, 0.+0.j]])"
      ]
     },
     "execution_count": 74,
     "metadata": {},
     "output_type": "execute_result"
    }
   ],
   "source": [
    "mQ1 = m1.dot(mXZ)\n",
    "mQ1"
   ]
  },
  {
   "cell_type": "code",
   "execution_count": 75,
   "metadata": {},
   "outputs": [
    {
     "data": {
      "text/plain": [
       "array([[0.+0.j, 0.+0.j, 0.-1.j, 0.+0.j],\n",
       "       [0.+0.j, 0.+0.j, 0.+0.j, 0.+1.j],\n",
       "       [0.+1.j, 0.+0.j, 0.+0.j, 0.+0.j],\n",
       "       [0.+0.j, 0.-1.j, 0.+0.j, 0.+0.j]])"
      ]
     },
     "execution_count": 75,
     "metadata": {},
     "output_type": "execute_result"
    }
   ],
   "source": [
    "mQ2 = mZX.dot(mQ1).dot(mZX)\n",
    "mQ2"
   ]
  },
  {
   "cell_type": "code",
   "execution_count": 76,
   "metadata": {},
   "outputs": [
    {
     "data": {
      "text/plain": [
       "array([[0.+0.j, 0.+0.j, 0.-1.j, 0.+0.j],\n",
       "       [0.+0.j, 0.+0.j, 0.+0.j, 0.-1.j],\n",
       "       [0.+1.j, 0.+0.j, 0.+0.j, 0.+0.j],\n",
       "       [0.+0.j, 0.+1.j, 0.+0.j, 0.+0.j]])"
      ]
     },
     "execution_count": 76,
     "metadata": {},
     "output_type": "execute_result"
    }
   ],
   "source": [
    "mQ3 = mXZ.dot(mQ2).dot(mXZ)\n",
    "mQ3"
   ]
  },
  {
   "cell_type": "code",
   "execution_count": 77,
   "metadata": {},
   "outputs": [
    {
     "data": {
      "text/plain": [
       "array([[0.+0.j, 0.+0.j, 0.-1.j, 0.+0.j],\n",
       "       [0.+0.j, 0.+0.j, 0.+0.j, 0.-1.j],\n",
       "       [0.+1.j, 0.+0.j, 0.+0.j, 0.+0.j],\n",
       "       [0.+0.j, 0.+1.j, 0.+0.j, 0.+0.j]])"
      ]
     },
     "execution_count": 77,
     "metadata": {},
     "output_type": "execute_result"
    }
   ],
   "source": [
    "mY0"
   ]
  },
  {
   "cell_type": "code",
   "execution_count": null,
   "metadata": {},
   "outputs": [],
   "source": []
  },
  {
   "cell_type": "code",
   "execution_count": null,
   "metadata": {},
   "outputs": [],
   "source": []
  },
  {
   "cell_type": "code",
   "execution_count": null,
   "metadata": {},
   "outputs": [],
   "source": []
  },
  {
   "cell_type": "code",
   "execution_count": 78,
   "metadata": {},
   "outputs": [
    {
     "data": {
      "text/plain": [
       "array([[1.+0.j, 0.+0.j, 0.+0.j, 0.+0.j],\n",
       "       [0.+0.j, 0.+0.j, 1.+0.j, 0.+0.j],\n",
       "       [0.+0.j, 1.+0.j, 0.+0.j, 0.+0.j],\n",
       "       [0.+0.j, 0.+0.j, 0.+0.j, 1.+0.j]])"
      ]
     },
     "execution_count": 78,
     "metadata": {},
     "output_type": "execute_result"
    }
   ],
   "source": [
    "mQ1 = mZX.dot(mXZ).dot(mZX)\n",
    "mQ1"
   ]
  },
  {
   "cell_type": "code",
   "execution_count": 79,
   "metadata": {},
   "outputs": [
    {
     "data": {
      "text/plain": [
       "array([[1.+0.j, 0.+0.j, 0.+0.j, 0.+0.j],\n",
       "       [0.+0.j, 1.+0.j, 0.+0.j, 0.+0.j],\n",
       "       [0.+0.j, 0.+0.j, 0.+0.j, 1.+0.j],\n",
       "       [0.+0.j, 0.+0.j, 1.+0.j, 0.+0.j]])"
      ]
     },
     "execution_count": 79,
     "metadata": {},
     "output_type": "execute_result"
    }
   ],
   "source": [
    "mQ2 = mXZ.dot(mQ1).dot(mXZ)\n",
    "mQ2"
   ]
  },
  {
   "cell_type": "code",
   "execution_count": null,
   "metadata": {},
   "outputs": [],
   "source": []
  },
  {
   "cell_type": "code",
   "execution_count": null,
   "metadata": {},
   "outputs": [],
   "source": []
  },
  {
   "cell_type": "code",
   "execution_count": 80,
   "metadata": {},
   "outputs": [
    {
     "data": {
      "text/html": [
       "<pre style=\"overflow: auto; white-space: pre;\">q0: ───Y───Z───</pre>"
      ],
      "text/plain": [
       "q0: ───Y───Z───"
      ]
     },
     "metadata": {},
     "output_type": "display_data"
    },
    {
     "data": {
      "text/plain": [
       "array([[0.+0.j, 0.-1.j],\n",
       "       [0.-1.j, 0.+0.j]])"
      ]
     },
     "execution_count": 80,
     "metadata": {},
     "output_type": "execute_result"
    }
   ],
   "source": [
    "_ops_to_matrix(\n",
    "    Y(q0),\n",
    "    Z(q0),\n",
    ")"
   ]
  },
  {
   "cell_type": "code",
   "execution_count": 81,
   "metadata": {},
   "outputs": [
    {
     "data": {
      "text/html": [
       "<pre style=\"overflow: auto; white-space: pre;\">q0: ───Z───Y───</pre>"
      ],
      "text/plain": [
       "q0: ───Z───Y───"
      ]
     },
     "metadata": {},
     "output_type": "display_data"
    },
    {
     "data": {
      "text/plain": [
       "array([[0.+0.j, 0.+1.j],\n",
       "       [0.+1.j, 0.+0.j]])"
      ]
     },
     "execution_count": 81,
     "metadata": {},
     "output_type": "execute_result"
    }
   ],
   "source": [
    "_ops_to_matrix(\n",
    "    Z(q0)**-1,\n",
    "    Y(q0),\n",
    ")"
   ]
  },
  {
   "cell_type": "code",
   "execution_count": 82,
   "metadata": {},
   "outputs": [
    {
     "data": {
      "text/html": [
       "<pre style=\"overflow: auto; white-space: pre;\">q0: ───X───Z───\n",
       "       │   │\n",
       "q1: ───X───Z───</pre>"
      ],
      "text/plain": [
       "q0: ───X───Z───\n",
       "       │   │\n",
       "q1: ───X───Z───"
      ]
     },
     "metadata": {},
     "output_type": "display_data"
    },
    {
     "data": {
      "text/plain": [
       "array([[ 0.5+0.j,  0.5+0.j,  0.5+0.j, -0.5+0.j],\n",
       "       [ 0.5+0.j,  0.5+0.j, -0.5+0.j,  0.5+0.j],\n",
       "       [ 0.5+0.j, -0.5+0.j,  0.5+0.j,  0.5+0.j],\n",
       "       [ 0.5+0.j, -0.5+0.j, -0.5+0.j, -0.5+0.j]])"
      ]
     },
     "execution_count": 82,
     "metadata": {},
     "output_type": "execute_result"
    }
   ],
   "source": [
    "_ops_to_matrix(\n",
    "    InteractionGate(X_BASIS, X_BASIS)(q0, q1),\n",
    "    InteractionGate(Z_BASIS, Z_BASIS)(q0, q1),\n",
    ")"
   ]
  },
  {
   "cell_type": "code",
   "execution_count": 83,
   "metadata": {},
   "outputs": [
    {
     "data": {
      "text/html": [
       "<pre style=\"overflow: auto; white-space: pre;\">q0: ───Y───\n",
       "       │\n",
       "q1: ───Y───</pre>"
      ],
      "text/plain": [
       "q0: ───Y───\n",
       "       │\n",
       "q1: ───Y───"
      ]
     },
     "metadata": {},
     "output_type": "display_data"
    },
    {
     "data": {
      "text/plain": [
       "array([[ 0.5+0.j ,  0. -0.5j,  0. -0.5j,  0.5+0.j ],\n",
       "       [ 0. +0.5j,  0.5+0.j , -0.5+0.j ,  0. -0.5j],\n",
       "       [ 0. +0.5j, -0.5+0.j ,  0.5+0.j ,  0. -0.5j],\n",
       "       [ 0.5+0.j ,  0. +0.5j,  0. +0.5j,  0.5+0.j ]])"
      ]
     },
     "execution_count": 83,
     "metadata": {},
     "output_type": "execute_result"
    }
   ],
   "source": [
    "_ops_to_matrix(\n",
    "  #  InteractionGate(nZ_BASIS, nX_BASIS)(q0, q1),\n",
    "    InteractionGate(Y_BASIS, Y_BASIS)(q0, q1),\n",
    ")"
   ]
  },
  {
   "cell_type": "code",
   "execution_count": null,
   "metadata": {},
   "outputs": [],
   "source": []
  },
  {
   "cell_type": "code",
   "execution_count": 84,
   "metadata": {},
   "outputs": [
    {
     "data": {
      "text/html": [
       "<pre style=\"overflow: auto; white-space: pre;\">q0: ───Z────────────\n",
       "       │\n",
       "q1: ───X───Z^0.25───</pre>"
      ],
      "text/plain": [
       "q0: ───Z────────────\n",
       "       │\n",
       "q1: ───X───Z^0.25───"
      ]
     },
     "metadata": {},
     "output_type": "display_data"
    },
    {
     "data": {
      "text/plain": [
       "array([[1.     +0.j     , 0.     +0.j     , 0.     +0.j     ,\n",
       "        0.     +0.j     ],\n",
       "       [0.     +0.j     , 0.70711+0.70711j, 0.     +0.j     ,\n",
       "        0.     +0.j     ],\n",
       "       [0.     +0.j     , 0.     +0.j     , 0.     +0.j     ,\n",
       "        1.     +0.j     ],\n",
       "       [0.     +0.j     , 0.     +0.j     , 0.70711+0.70711j,\n",
       "        0.     +0.j     ]])"
      ]
     },
     "execution_count": 84,
     "metadata": {},
     "output_type": "execute_result"
    }
   ],
   "source": [
    "_ops_to_matrix(\n",
    "    InteractionGate(Z_BASIS, X_BASIS)(q0, q1),\n",
    "    Z(q1) ** 0.25,\n",
    ")"
   ]
  },
  {
   "cell_type": "code",
   "execution_count": 85,
   "metadata": {},
   "outputs": [
    {
     "data": {
      "text/html": [
       "<pre style=\"overflow: auto; white-space: pre;\">q0: ────────────@^-0.5───Z───\n",
       "                │        │\n",
       "q1: ───Z^0.25───Z────────X───</pre>"
      ],
      "text/plain": [
       "q0: ────────────@^-0.5───Z───\n",
       "                │        │\n",
       "q1: ───Z^0.25───Z────────X───"
      ]
     },
     "metadata": {},
     "output_type": "display_data"
    },
    {
     "data": {
      "text/plain": [
       "array([[1.     +0.j     , 0.     +0.j     , 0.     +0.j     ,\n",
       "        0.     +0.j     ],\n",
       "       [0.     +0.j     , 0.70711+0.70711j, 0.     +0.j     ,\n",
       "        0.     +0.j     ],\n",
       "       [0.     +0.j     , 0.     +0.j     , 0.     +0.j     ,\n",
       "        0.70711-0.70711j],\n",
       "       [0.     +0.j     , 0.     +0.j     , 1.     +0.j     ,\n",
       "        0.     +0.j     ]])"
      ]
     },
     "execution_count": 85,
     "metadata": {},
     "output_type": "execute_result"
    }
   ],
   "source": [
    "_ops_to_matrix(\n",
    "    Z(q1) ** 0.25,\n",
    "    CZ(q0, q1) ** -0.5,\n",
    "    InteractionGate(Z_BASIS, X_BASIS)(q0, q1),\n",
    ")"
   ]
  },
  {
   "cell_type": "code",
   "execution_count": 86,
   "metadata": {},
   "outputs": [
    {
     "data": {
      "text/html": [
       "<pre style=\"overflow: auto; white-space: pre;\">q0: ───Z───\n",
       "       │\n",
       "q1: ───X───</pre>"
      ],
      "text/plain": [
       "q0: ───Z───\n",
       "       │\n",
       "q1: ───X───"
      ]
     },
     "metadata": {},
     "output_type": "display_data"
    },
    {
     "data": {
      "text/plain": [
       "array([[1.+0.j, 0.+0.j, 0.+0.j, 0.+0.j],\n",
       "       [0.+0.j, 1.+0.j, 0.+0.j, 0.+0.j],\n",
       "       [0.+0.j, 0.+0.j, 0.+0.j, 1.+0.j],\n",
       "       [0.+0.j, 0.+0.j, 1.+0.j, 0.+0.j]])"
      ]
     },
     "execution_count": 86,
     "metadata": {},
     "output_type": "execute_result"
    }
   ],
   "source": [
    "_ops_to_matrix(\n",
    "    InteractionGate(Z_BASIS, X_BASIS)(q0, q1),\n",
    ")"
   ]
  },
  {
   "cell_type": "code",
   "execution_count": 102,
   "metadata": {},
   "outputs": [
    {
     "data": {
      "text/html": [
       "<pre style=\"overflow: auto; white-space: pre;\">q0: ───────Z────────\n",
       "           │\n",
       "q1: ───Z───nX───Z───</pre>"
      ],
      "text/plain": [
       "q0: ───────Z────────\n",
       "           │\n",
       "q1: ───Z───nX───Z───"
      ]
     },
     "metadata": {},
     "output_type": "display_data"
    },
    {
     "data": {
      "text/plain": [
       "array([[1.+0.j, 0.+0.j, 0.+0.j, 0.+0.j],\n",
       "       [0.+0.j, 1.+0.j, 0.+0.j, 0.+0.j],\n",
       "       [0.+0.j, 0.+0.j, 0.+0.j, 1.+0.j],\n",
       "       [0.+0.j, 0.+0.j, 1.+0.j, 0.+0.j]])"
      ]
     },
     "execution_count": 102,
     "metadata": {},
     "output_type": "execute_result"
    }
   ],
   "source": [
    "_ops_to_matrix(\n",
    "    Z(q1),\n",
    "    InteractionGate(Z_BASIS, nX_BASIS)(q0, q1),\n",
    "    Z(q1),\n",
    ")"
   ]
  },
  {
   "cell_type": "code",
   "execution_count": null,
   "metadata": {},
   "outputs": [],
   "source": []
  },
  {
   "cell_type": "code",
   "execution_count": 122,
   "metadata": {},
   "outputs": [
    {
     "data": {
      "text/html": [
       "<pre style=\"overflow: auto; white-space: pre;\">q0: ───────────@───\n",
       "               │\n",
       "q1: ───Z^0.2───X───</pre>"
      ],
      "text/plain": [
       "q0: ───────────@───\n",
       "               │\n",
       "q1: ───Z^0.2───X───"
      ]
     },
     "metadata": {},
     "output_type": "display_data"
    },
    {
     "data": {
      "text/plain": [
       "array([[1.   +0.j   , 0.   +0.j   , 0.   +0.j   , 0.   +0.j   ],\n",
       "       [0.   +0.j   , 0.809+0.588j, 0.   +0.j   , 0.   +0.j   ],\n",
       "       [0.   +0.j   , 0.   +0.j   , 0.   +0.j   , 0.809+0.588j],\n",
       "       [0.   +0.j   , 0.   +0.j   , 1.   +0.j   , 0.   +0.j   ]])"
      ]
     },
     "execution_count": 122,
     "metadata": {},
     "output_type": "execute_result"
    }
   ],
   "source": [
    "_ops_to_matrix(\n",
    "    Z(q1) ** 0.2,\n",
    "    CNOT(q0, q1),\n",
    ").round(3)"
   ]
  },
  {
   "cell_type": "code",
   "execution_count": 121,
   "metadata": {},
   "outputs": [
    {
     "data": {
      "text/html": [
       "<pre style=\"overflow: auto; white-space: pre;\">q0: ───@───Z^0.2───@^-0.4───\n",
       "       │           │\n",
       "q1: ───X───Z^0.2───Z────────</pre>"
      ],
      "text/plain": [
       "q0: ───@───Z^0.2───@^-0.4───\n",
       "       │           │\n",
       "q1: ───X───Z^0.2───Z────────"
      ]
     },
     "metadata": {},
     "output_type": "display_data"
    },
    {
     "data": {
      "text/plain": [
       "array([[1.   +0.j   , 0.   +0.j   , 0.   +0.j   , 0.   +0.j   ],\n",
       "       [0.   +0.j   , 0.809+0.588j, 0.   +0.j   , 0.   +0.j   ],\n",
       "       [0.   +0.j   , 0.   +0.j   , 0.   +0.j   , 0.809+0.588j],\n",
       "       [0.   +0.j   , 0.   +0.j   , 1.   -0.j   , 0.   +0.j   ]])"
      ]
     },
     "execution_count": 121,
     "metadata": {},
     "output_type": "execute_result"
    }
   ],
   "source": [
    "_ops_to_matrix(\n",
    "    CNOT(q0, q1),\n",
    "    Z(q1) ** 0.2,\n",
    "    Z(q0) ** 0.2,\n",
    "    CZ(q0, q1) ** -(0.2*2),\n",
    ").round(3)"
   ]
  },
  {
   "cell_type": "code",
   "execution_count": null,
   "metadata": {},
   "outputs": [],
   "source": []
  },
  {
   "cell_type": "code",
   "execution_count": 88,
   "metadata": {},
   "outputs": [
    {
     "data": {
      "text/html": [
       "<pre style=\"overflow: auto; white-space: pre;\">q0: ─────────────────────@──────────────────────────@────────────@───Z^0.25────@───\n",
       "                         │                          │            │             │\n",
       "q1: ───────@─────────────┼────────────@─────────────┼───Z^0.25───X───Z^-0.25───X───\n",
       "           │             │            │             │\n",
       "q2: ───H───X───Z^-0.25───X───Z^0.25───X───Z^-0.25───X───Z^0.25─────────────────H───</pre>"
      ],
      "text/plain": [
       "q0: ─────────────────────@──────────────────────────@────────────@───Z^0.25────@───\n",
       "                         │                          │            │             │\n",
       "q1: ───────@─────────────┼────────────@─────────────┼───Z^0.25───X───Z^-0.25───X───\n",
       "           │             │            │             │\n",
       "q2: ───H───X───Z^-0.25───X───Z^0.25───X───Z^-0.25───X───Z^0.25─────────────────H───"
      ]
     },
     "metadata": {},
     "output_type": "display_data"
    },
    {
     "data": {
      "text/plain": [
       "array([[ 1.,  0.,  0.,  0.,  0.,  0.,  0.,  0.],\n",
       "       [ 0.,  1.,  0.,  0.,  0.,  0.,  0.,  0.],\n",
       "       [ 0.,  0.,  1.,  0.,  0.,  0.,  0.,  0.],\n",
       "       [ 0.,  0.,  0.,  1.,  0.,  0.,  0.,  0.],\n",
       "       [ 0.,  0.,  0.,  0.,  1.,  0.,  0.,  0.],\n",
       "       [ 0.,  0.,  0.,  0.,  0.,  1.,  0.,  0.],\n",
       "       [ 0.,  0.,  0.,  0.,  0.,  0., -0.,  1.],\n",
       "       [ 0.,  0.,  0.,  0.,  0.,  0.,  1., -0.]])"
      ]
     },
     "execution_count": 88,
     "metadata": {},
     "output_type": "execute_result"
    }
   ],
   "source": [
    "_ops_to_matrix(\n",
    "    H(q2),\n",
    "    CNOT(q1, q2),\n",
    "    Z(q2) ** -0.25,\n",
    "    CNOT(q0, q2),\n",
    "    Z(q2) ** 0.25,\n",
    "    CNOT(q1, q2),\n",
    "    Z(q2) ** -0.25,\n",
    "    CNOT(q0, q2),\n",
    "    Z(q2) ** 0.25,\n",
    "    Z(q1) ** 0.25,\n",
    "    CNOT(q0, q1),\n",
    "    Z(q0) ** 0.25,\n",
    "    Z(q1) ** -0.25,\n",
    "    CNOT(q0, q1),\n",
    "    H(q2),\n",
    ").real"
   ]
  },
  {
   "cell_type": "code",
   "execution_count": 89,
   "metadata": {},
   "outputs": [
    {
     "data": {
      "text/html": [
       "<pre style=\"overflow: auto; white-space: pre;\">q0: ─────────────────────────────────────@──────────────────────────────────────────@────────────────────@───Z^0.25────@───────────\n",
       "                                         │                                          │                    │             │\n",
       "q1: ───────────────@─────────────X───@───X───@───X────────────@─────────────X───@───X───@───X───Z^0.25───X───Z^-0.25───X───────────\n",
       "                   │             │   │       │   │            │             │   │       │   │\n",
       "q2: ───Y^0.5───X───X───Z^-0.25───@───X───────X───@───Z^0.25───X───Z^-0.25───@───X───────X───@───Z^0.25─────────────────Y^0.5───X───</pre>"
      ],
      "text/plain": [
       "q0: ─────────────────────────────────────@──────────────────────────────────────────@────────────────────@───Z^0.25────@───────────\n",
       "                                         │                                          │                    │             │\n",
       "q1: ───────────────@─────────────X───@───X───@───X────────────@─────────────X───@───X───@───X───Z^0.25───X───Z^-0.25───X───────────\n",
       "                   │             │   │       │   │            │             │   │       │   │\n",
       "q2: ───Y^0.5───X───X───Z^-0.25───@───X───────X───@───Z^0.25───X───Z^-0.25───@───X───────X───@───Z^0.25─────────────────Y^0.5───X───"
      ]
     },
     "metadata": {},
     "output_type": "display_data"
    },
    {
     "data": {
      "text/plain": [
       "array([[1.+0.j, 0.+0.j, 0.+0.j, 0.+0.j, 0.+0.j, 0.+0.j, 0.+0.j, 0.+0.j],\n",
       "       [0.+0.j, 1.+0.j, 0.+0.j, 0.+0.j, 0.+0.j, 0.+0.j, 0.+0.j, 0.+0.j],\n",
       "       [0.+0.j, 0.+0.j, 1.+0.j, 0.+0.j, 0.+0.j, 0.+0.j, 0.+0.j, 0.+0.j],\n",
       "       [0.+0.j, 0.+0.j, 0.+0.j, 1.+0.j, 0.+0.j, 0.+0.j, 0.+0.j, 0.+0.j],\n",
       "       [0.+0.j, 0.+0.j, 0.+0.j, 0.+0.j, 1.+0.j, 0.+0.j, 0.+0.j, 0.+0.j],\n",
       "       [0.+0.j, 0.+0.j, 0.+0.j, 0.+0.j, 0.+0.j, 1.+0.j, 0.+0.j, 0.+0.j],\n",
       "       [0.+0.j, 0.+0.j, 0.+0.j, 0.+0.j, 0.+0.j, 0.+0.j, 0.+0.j, 1.+0.j],\n",
       "       [0.+0.j, 0.+0.j, 0.+0.j, 0.+0.j, 0.+0.j, 0.+0.j, 1.+0.j, 0.+0.j]])"
      ]
     },
     "execution_count": 89,
     "metadata": {},
     "output_type": "execute_result"
    }
   ],
   "source": [
    "(_ops_to_matrix(\n",
    "    Y(q2) ** 0.5,\n",
    "    X(q2),\n",
    "    CNOT(q1, q2),\n",
    "    Z(q2) ** -0.25,\n",
    "    CNOT(q2, q1),\n",
    "    CNOT(q1, q2),\n",
    "    CNOT(q0, q1),\n",
    "    CNOT(q1, q2),\n",
    "    CNOT(q2, q1),\n",
    "    Z(q2) ** 0.25,\n",
    "    CNOT(q1, q2),\n",
    "    Z(q2) ** -0.25,\n",
    "    CNOT(q2, q1),\n",
    "    CNOT(q1, q2),\n",
    "    CNOT(q0, q1),\n",
    "    CNOT(q1, q2),\n",
    "    CNOT(q2, q1),\n",
    "    Z(q2) ** 0.25,\n",
    "    Z(q1) ** 0.25,\n",
    "    CNOT(q0, q1),\n",
    "    Z(q0) ** 0.25,\n",
    "    Z(q1) ** -0.25,\n",
    "    CNOT(q0, q1),\n",
    "    Y(q2) ** 0.5,\n",
    "    X(q2),\n",
    ") /1j).round(3)"
   ]
  },
  {
   "cell_type": "code",
   "execution_count": 90,
   "metadata": {},
   "outputs": [
    {
     "data": {
      "text/html": [
       "<pre style=\"overflow: auto; white-space: pre;\">q0: ─────────────────────────────────────@──────────────────────────────────@────────────────────@───Z^0.25────@───────────\n",
       "                                         │                                  │                    │             │\n",
       "q1: ───────────────@─────────────X───@───X───X───Z^0.25───X───Z^-0.25───X───X───@───X───Z^0.25───X───Z^-0.25───X───────────\n",
       "                   │             │   │       │            │             │       │   │\n",
       "q2: ───Y^0.5───X───X───Z^-0.25───@───X───────@────────────@─────────────@───────X───@───Z^0.25─────────────────Y^0.5───X───</pre>"
      ],
      "text/plain": [
       "q0: ─────────────────────────────────────@──────────────────────────────────@────────────────────@───Z^0.25────@───────────\n",
       "                                         │                                  │                    │             │\n",
       "q1: ───────────────@─────────────X───@───X───X───Z^0.25───X───Z^-0.25───X───X───@───X───Z^0.25───X───Z^-0.25───X───────────\n",
       "                   │             │   │       │            │             │       │   │\n",
       "q2: ───Y^0.5───X───X───Z^-0.25───@───X───────@────────────@─────────────@───────X───@───Z^0.25─────────────────Y^0.5───X───"
      ]
     },
     "metadata": {},
     "output_type": "display_data"
    },
    {
     "data": {
      "text/plain": [
       "array([[1.+0.j, 0.+0.j, 0.+0.j, 0.+0.j, 0.+0.j, 0.+0.j, 0.+0.j, 0.+0.j],\n",
       "       [0.+0.j, 1.+0.j, 0.+0.j, 0.+0.j, 0.+0.j, 0.+0.j, 0.+0.j, 0.+0.j],\n",
       "       [0.+0.j, 0.+0.j, 1.+0.j, 0.+0.j, 0.+0.j, 0.+0.j, 0.+0.j, 0.+0.j],\n",
       "       [0.+0.j, 0.+0.j, 0.+0.j, 1.+0.j, 0.+0.j, 0.+0.j, 0.+0.j, 0.+0.j],\n",
       "       [0.+0.j, 0.+0.j, 0.+0.j, 0.+0.j, 1.+0.j, 0.+0.j, 0.+0.j, 0.+0.j],\n",
       "       [0.+0.j, 0.+0.j, 0.+0.j, 0.+0.j, 0.+0.j, 1.+0.j, 0.+0.j, 0.+0.j],\n",
       "       [0.+0.j, 0.+0.j, 0.+0.j, 0.+0.j, 0.+0.j, 0.+0.j, 0.+0.j, 1.+0.j],\n",
       "       [0.+0.j, 0.+0.j, 0.+0.j, 0.+0.j, 0.+0.j, 0.+0.j, 1.+0.j, 0.+0.j]])"
      ]
     },
     "execution_count": 90,
     "metadata": {},
     "output_type": "execute_result"
    }
   ],
   "source": [
    "(_ops_to_matrix(\n",
    "    Y(q2) ** 0.5,\n",
    "    X(q2),\n",
    "    CNOT(q1, q2),\n",
    "    Z(q2) ** -0.25,\n",
    "    CNOT(q2, q1),\n",
    "    CNOT(q1, q2),\n",
    "    CNOT(q0, q1),\n",
    "    CNOT(q2, q1),\n",
    "    Z(q1) ** 0.25,\n",
    "    CNOT(q2, q1),\n",
    "    Z(q1) ** -0.25,\n",
    "    CNOT(q2, q1),\n",
    "    CNOT(q0, q1),\n",
    "    CNOT(q1, q2),\n",
    "    CNOT(q2, q1),\n",
    "    Z(q2) ** 0.25,\n",
    "    Z(q1) ** 0.25,\n",
    "    CNOT(q0, q1),\n",
    "    Z(q0) ** 0.25,\n",
    "    Z(q1) ** -0.25,\n",
    "    CNOT(q0, q1),\n",
    "    Y(q2) ** 0.5,\n",
    "    X(q2),\n",
    ") /1j).round(3)"
   ]
  },
  {
   "cell_type": "code",
   "execution_count": 91,
   "metadata": {},
   "outputs": [
    {
     "data": {
      "text/html": [
       "<pre style=\"overflow: auto; white-space: pre;\">q0: ─────────────────────────────────@──────────────────────────@────────────────@───Z^0.25────@───────────\n",
       "                                     │                          │                │             │\n",
       "q1: ───────────────@─────────────×───X───Z^0.25───X───Z^-0.25───X───×───Z^0.25───X───Z^-0.25───X───────────\n",
       "                   │             │                │                 │\n",
       "q2: ───Y^0.5───X───X───Z^-0.25───×────────────────@─────────────────×───Z^0.25─────────────────Y^0.5───X───</pre>"
      ],
      "text/plain": [
       "q0: ─────────────────────────────────@──────────────────────────@────────────────@───Z^0.25────@───────────\n",
       "                                     │                          │                │             │\n",
       "q1: ───────────────@─────────────×───X───Z^0.25───X───Z^-0.25───X───×───Z^0.25───X───Z^-0.25───X───────────\n",
       "                   │             │                │                 │\n",
       "q2: ───Y^0.5───X───X───Z^-0.25───×────────────────@─────────────────×───Z^0.25─────────────────Y^0.5───X───"
      ]
     },
     "metadata": {},
     "output_type": "display_data"
    },
    {
     "data": {
      "text/plain": [
       "array([[1.+0.j, 0.+0.j, 0.+0.j, 0.+0.j, 0.+0.j, 0.+0.j, 0.+0.j, 0.+0.j],\n",
       "       [0.+0.j, 1.+0.j, 0.+0.j, 0.+0.j, 0.+0.j, 0.+0.j, 0.+0.j, 0.+0.j],\n",
       "       [0.+0.j, 0.+0.j, 1.+0.j, 0.+0.j, 0.+0.j, 0.+0.j, 0.+0.j, 0.+0.j],\n",
       "       [0.+0.j, 0.+0.j, 0.+0.j, 1.+0.j, 0.+0.j, 0.+0.j, 0.+0.j, 0.+0.j],\n",
       "       [0.+0.j, 0.+0.j, 0.+0.j, 0.+0.j, 1.+0.j, 0.+0.j, 0.+0.j, 0.+0.j],\n",
       "       [0.+0.j, 0.+0.j, 0.+0.j, 0.+0.j, 0.+0.j, 1.+0.j, 0.+0.j, 0.+0.j],\n",
       "       [0.+0.j, 0.+0.j, 0.+0.j, 0.+0.j, 0.+0.j, 0.+0.j, 0.+0.j, 1.+0.j],\n",
       "       [0.+0.j, 0.+0.j, 0.+0.j, 0.+0.j, 0.+0.j, 0.+0.j, 1.+0.j, 0.+0.j]])"
      ]
     },
     "execution_count": 91,
     "metadata": {},
     "output_type": "execute_result"
    }
   ],
   "source": [
    "(_ops_to_matrix(\n",
    "    Y(q2) ** 0.5,\n",
    "    X(q2),\n",
    "    CNOT(q1, q2),\n",
    "    Z(q2) ** -0.25,\n",
    "    SWAP(q1, q2),\n",
    "    CNOT(q0, q1),\n",
    "    Z(q1) ** 0.25,\n",
    "    CNOT(q2, q1),\n",
    "    Z(q1) ** -0.25,\n",
    "    CNOT(q0, q1),\n",
    "    SWAP(q1, q2),\n",
    "    Z(q2) ** 0.25,\n",
    "    Z(q1) ** 0.25,\n",
    "    CNOT(q0, q1),\n",
    "    Z(q0) ** 0.25,\n",
    "    Z(q1) ** -0.25,\n",
    "    CNOT(q0, q1),\n",
    "    Y(q2) ** 0.5,\n",
    "    X(q2),\n",
    ") /1j).round(3)"
   ]
  },
  {
   "cell_type": "code",
   "execution_count": 92,
   "metadata": {},
   "outputs": [
    {
     "data": {
      "text/html": [
       "<pre style=\"overflow: auto; white-space: pre;\">q0: ─────────────────────────────────@──────────────────────────@────────────────@───Z^0.25────@───────────\n",
       "                                     │                          │                │             │\n",
       "q1: ───────────────X───@───Z^-0.25───X───Z^0.25───X───Z^-0.25───X───×───Z^0.25───X───Z^-0.25───X───────────\n",
       "                   │   │                          │                 │\n",
       "q2: ───Y^0.5───X───@───X──────────────────────────@─────────────────×───Z^0.25─────────────────Y^0.5───X───</pre>"
      ],
      "text/plain": [
       "q0: ─────────────────────────────────@──────────────────────────@────────────────@───Z^0.25────@───────────\n",
       "                                     │                          │                │             │\n",
       "q1: ───────────────X───@───Z^-0.25───X───Z^0.25───X───Z^-0.25───X───×───Z^0.25───X───Z^-0.25───X───────────\n",
       "                   │   │                          │                 │\n",
       "q2: ───Y^0.5───X───@───X──────────────────────────@─────────────────×───Z^0.25─────────────────Y^0.5───X───"
      ]
     },
     "metadata": {},
     "output_type": "display_data"
    },
    {
     "data": {
      "text/plain": [
       "array([[1.+0.j, 0.+0.j, 0.+0.j, 0.+0.j, 0.+0.j, 0.+0.j, 0.+0.j, 0.+0.j],\n",
       "       [0.+0.j, 1.+0.j, 0.+0.j, 0.+0.j, 0.+0.j, 0.+0.j, 0.+0.j, 0.+0.j],\n",
       "       [0.+0.j, 0.+0.j, 1.+0.j, 0.+0.j, 0.+0.j, 0.+0.j, 0.+0.j, 0.+0.j],\n",
       "       [0.+0.j, 0.+0.j, 0.+0.j, 1.+0.j, 0.+0.j, 0.+0.j, 0.+0.j, 0.+0.j],\n",
       "       [0.+0.j, 0.+0.j, 0.+0.j, 0.+0.j, 1.+0.j, 0.+0.j, 0.+0.j, 0.+0.j],\n",
       "       [0.+0.j, 0.+0.j, 0.+0.j, 0.+0.j, 0.+0.j, 1.+0.j, 0.+0.j, 0.+0.j],\n",
       "       [0.+0.j, 0.+0.j, 0.+0.j, 0.+0.j, 0.+0.j, 0.+0.j, 0.+0.j, 1.+0.j],\n",
       "       [0.+0.j, 0.+0.j, 0.+0.j, 0.+0.j, 0.+0.j, 0.+0.j, 1.+0.j, 0.+0.j]])"
      ]
     },
     "execution_count": 92,
     "metadata": {},
     "output_type": "execute_result"
    }
   ],
   "source": [
    "(_ops_to_matrix(\n",
    "    Y(q2) ** 0.5,\n",
    "    X(q2),\n",
    "    CNOT(q2, q1),\n",
    "    CNOT(q1, q2),\n",
    "    Z(q1) ** -0.25,\n",
    "    CNOT(q0, q1),\n",
    "    Z(q1) ** 0.25,\n",
    "    CNOT(q2, q1),\n",
    "    Z(q1) ** -0.25,\n",
    "    CNOT(q0, q1),\n",
    "    SWAP(q1, q2),\n",
    "    Z(q2) ** 0.25,\n",
    "    Z(q1) ** 0.25,\n",
    "    CNOT(q0, q1),\n",
    "    Z(q0) ** 0.25,\n",
    "    Z(q1) ** -0.25,\n",
    "    CNOT(q0, q1),\n",
    "    Y(q2) ** 0.5,\n",
    "    X(q2),\n",
    ") /1j).round(3)"
   ]
  },
  {
   "cell_type": "code",
   "execution_count": 128,
   "metadata": {},
   "outputs": [
    {
     "data": {
      "text/html": [
       "<pre style=\"overflow: auto; white-space: pre;\">q0: ─────────────────────────────────@──────────────────────────────@───────────@────────Z^0.25────@───────────\n",
       "                                     │                              │           │                  │\n",
       "q1: ───────────────X───@───Z^-0.25───X───Z^0.25───Z^-0.25───@^0.5───X───@───X───X────────Z^-0.25───X───────────\n",
       "                   │   │                                    │           │   │\n",
       "q2: ───Y^0.5───X───@───X────────────────────────────────────Z───────────X───@───Z^0.25─────────────Y^0.5───X───</pre>"
      ],
      "text/plain": [
       "q0: ─────────────────────────────────@──────────────────────────────@───────────@────────Z^0.25────@───────────\n",
       "                                     │                              │           │                  │\n",
       "q1: ───────────────X───@───Z^-0.25───X───Z^0.25───Z^-0.25───@^0.5───X───@───X───X────────Z^-0.25───X───────────\n",
       "                   │   │                                    │           │   │\n",
       "q2: ───Y^0.5───X───@───X────────────────────────────────────Z───────────X───@───Z^0.25─────────────Y^0.5───X───"
      ]
     },
     "metadata": {},
     "output_type": "display_data"
    },
    {
     "data": {
      "text/plain": [
       "array([[1.+0.j, 0.+0.j, 0.+0.j, 0.+0.j, 0.+0.j, 0.+0.j, 0.+0.j, 0.+0.j],\n",
       "       [0.+0.j, 1.+0.j, 0.+0.j, 0.+0.j, 0.+0.j, 0.+0.j, 0.+0.j, 0.+0.j],\n",
       "       [0.+0.j, 0.+0.j, 1.+0.j, 0.+0.j, 0.+0.j, 0.+0.j, 0.+0.j, 0.+0.j],\n",
       "       [0.+0.j, 0.+0.j, 0.+0.j, 1.+0.j, 0.+0.j, 0.+0.j, 0.+0.j, 0.+0.j],\n",
       "       [0.+0.j, 0.+0.j, 0.+0.j, 0.+0.j, 1.+0.j, 0.+0.j, 0.+0.j, 0.+0.j],\n",
       "       [0.+0.j, 0.+0.j, 0.+0.j, 0.+0.j, 0.+0.j, 1.+0.j, 0.+0.j, 0.+0.j],\n",
       "       [0.+0.j, 0.+0.j, 0.+0.j, 0.+0.j, 0.+0.j, 0.+0.j, 0.+0.j, 1.+0.j],\n",
       "       [0.+0.j, 0.+0.j, 0.+0.j, 0.+0.j, 0.+0.j, 0.+0.j, 1.+0.j, 0.+0.j]])"
      ]
     },
     "execution_count": 128,
     "metadata": {},
     "output_type": "execute_result"
    }
   ],
   "source": [
    "(_ops_to_matrix(\n",
    "    Y(q2) ** 0.5,\n",
    "    X(q2),\n",
    "    CNOT(q2, q1),\n",
    "    CNOT(q1, q2),\n",
    "    Z(q1) ** -0.25,\n",
    "    CNOT(q0, q1),\n",
    "    Z(q1) ** 0.25,\n",
    "    Z(q1) ** -0.25,\n",
    "    CZ(q1, q2) ** (0.25*2),\n",
    "    CNOT(q0, q1),\n",
    "    CNOT(q1, q2),\n",
    "    CNOT(q2, q1),\n",
    "    Z(q2) ** 0.25,\n",
    "    CNOT(q0, q1),\n",
    "    Z(q0) ** 0.25,\n",
    "    Z(q1) ** -0.25,\n",
    "    CNOT(q0, q1),\n",
    "    Y(q2) ** 0.5,\n",
    "    X(q2),\n",
    ") /1j+0.00001).round(3)"
   ]
  },
  {
   "cell_type": "code",
   "execution_count": 136,
   "metadata": {},
   "outputs": [
    {
     "data": {
      "text/html": [
       "<pre style=\"overflow: auto; white-space: pre;\">q0: ───────────────────────────────────────@───────────@───────────@^0.5────────────────\n",
       "                                           │           │           │\n",
       "q1: ───────────Z^-0.25───X───@───Z^-0.25───X───@^0.5───X───@───X───Z────────────────────\n",
       "                         │   │                 │           │   │\n",
       "q2: ───Y^0.5───X─────────@───X─────────────────Z───────────X───@───Z^0.25───Y^0.5───X───</pre>"
      ],
      "text/plain": [
       "q0: ───────────────────────────────────────@───────────@───────────@^0.5────────────────\n",
       "                                           │           │           │\n",
       "q1: ───────────Z^-0.25───X───@───Z^-0.25───X───@^0.5───X───@───X───Z────────────────────\n",
       "                         │   │                 │           │   │\n",
       "q2: ───Y^0.5───X─────────@───X─────────────────Z───────────X───@───Z^0.25───Y^0.5───X───"
      ]
     },
     "metadata": {},
     "output_type": "display_data"
    },
    {
     "data": {
      "text/plain": [
       "array([[1.+0.j, 0.+0.j, 0.+0.j, 0.+0.j, 0.+0.j, 0.+0.j, 0.+0.j, 0.+0.j],\n",
       "       [0.+0.j, 1.+0.j, 0.+0.j, 0.+0.j, 0.+0.j, 0.+0.j, 0.+0.j, 0.+0.j],\n",
       "       [0.+0.j, 0.+0.j, 1.+0.j, 0.+0.j, 0.+0.j, 0.+0.j, 0.+0.j, 0.+0.j],\n",
       "       [0.+0.j, 0.+0.j, 0.+0.j, 1.+0.j, 0.+0.j, 0.+0.j, 0.+0.j, 0.+0.j],\n",
       "       [0.+0.j, 0.+0.j, 0.+0.j, 0.+0.j, 1.+0.j, 0.+0.j, 0.+0.j, 0.+0.j],\n",
       "       [0.+0.j, 0.+0.j, 0.+0.j, 0.+0.j, 0.+0.j, 1.+0.j, 0.+0.j, 0.+0.j],\n",
       "       [0.+0.j, 0.+0.j, 0.+0.j, 0.+0.j, 0.+0.j, 0.+0.j, 0.+0.j, 1.+0.j],\n",
       "       [0.+0.j, 0.+0.j, 0.+0.j, 0.+0.j, 0.+0.j, 0.+0.j, 1.+0.j, 0.+0.j]])"
      ]
     },
     "execution_count": 136,
     "metadata": {},
     "output_type": "execute_result"
    }
   ],
   "source": [
    "(_ops_to_matrix(\n",
    "    Y(q2) ** 0.5,\n",
    "    X(q2),\n",
    "    Z(q1) ** -0.25,\n",
    "    CNOT(q2, q1),\n",
    "    CNOT(q1, q2),\n",
    "    Z(q1) ** -0.25,\n",
    "    CNOT(q0, q1),\n",
    "    CZ(q1, q2) ** (0.25*2),\n",
    "    CNOT(q0, q1),\n",
    "    CNOT(q1, q2),\n",
    "    CNOT(q2, q1),\n",
    "    Z(q2) ** 0.25,\n",
    "    CZ(q0, q1) ** (0.25*2),\n",
    "    Y(q2) ** 0.5,\n",
    "    X(q2),\n",
    ") /1j+0.00001).round(3)"
   ]
  },
  {
   "cell_type": "code",
   "execution_count": 157,
   "metadata": {},
   "outputs": [
    {
     "data": {
      "text/html": [
       "<pre style=\"overflow: auto; white-space: pre;\">q0: ──────────────────────────────────@───────────@───────────@^0.5────────────────\n",
       "                                      │           │           │\n",
       "q1: ───Z^-0.25───X───@───Z^0.25───X───X───@^0.5───X───@───X───Z────────────────────\n",
       "                 │   │                    │           │   │\n",
       "q2: ───Y^0.5─────@───X────────────────────Z───────────X───@───Z^0.25───Y^0.5───X───</pre>"
      ],
      "text/plain": [
       "q0: ──────────────────────────────────@───────────@───────────@^0.5────────────────\n",
       "                                      │           │           │\n",
       "q1: ───Z^-0.25───X───@───Z^0.25───X───X───@^0.5───X───@───X───Z────────────────────\n",
       "                 │   │                    │           │   │\n",
       "q2: ───Y^0.5─────@───X────────────────────Z───────────X───@───Z^0.25───Y^0.5───X───"
      ]
     },
     "metadata": {},
     "output_type": "display_data"
    },
    {
     "data": {
      "text/plain": [
       "array([[1.+0.j, 0.+0.j, 0.+0.j, 0.+0.j, 0.+0.j, 0.+0.j, 0.+0.j, 0.+0.j],\n",
       "       [0.+0.j, 1.+0.j, 0.+0.j, 0.+0.j, 0.+0.j, 0.+0.j, 0.+0.j, 0.+0.j],\n",
       "       [0.+0.j, 0.+0.j, 1.+0.j, 0.+0.j, 0.+0.j, 0.+0.j, 0.+0.j, 0.+0.j],\n",
       "       [0.+0.j, 0.+0.j, 0.+0.j, 1.+0.j, 0.+0.j, 0.+0.j, 0.+0.j, 0.+0.j],\n",
       "       [0.+0.j, 0.+0.j, 0.+0.j, 0.+0.j, 1.+0.j, 0.+0.j, 0.+0.j, 0.+0.j],\n",
       "       [0.+0.j, 0.+0.j, 0.+0.j, 0.+0.j, 0.+0.j, 1.+0.j, 0.+0.j, 0.+0.j],\n",
       "       [0.+0.j, 0.+0.j, 0.+0.j, 0.+0.j, 0.+0.j, 0.+0.j, 0.+0.j, 1.+0.j],\n",
       "       [0.+0.j, 0.+0.j, 0.+0.j, 0.+0.j, 0.+0.j, 0.+0.j, 1.+0.j, 0.+0.j]])"
      ]
     },
     "execution_count": 157,
     "metadata": {},
     "output_type": "execute_result"
    }
   ],
   "source": [
    "(_ops_to_matrix(\n",
    "    Y(q2) ** 0.5,\n",
    "    Z(q1) ** -0.25,\n",
    "    CNOT(q2, q1),\n",
    "    CNOT(q1, q2),\n",
    "    Z(q1) ** 0.25,\n",
    "    X(q1),\n",
    "    CNOT(q0, q1),\n",
    "    CZ(q1, q2) ** (0.25*2),\n",
    "    CNOT(q0, q1),\n",
    "    CNOT(q1, q2),\n",
    "    CNOT(q2, q1),\n",
    "    Z(q2) ** 0.25,\n",
    "    CZ(q0, q1) ** (0.25*2),\n",
    "    Y(q2) ** 0.5,\n",
    "    X(q2),\n",
    ") *np.sqrt(2)/(-1+1j)+0.00001).round(3)"
   ]
  },
  {
   "cell_type": "code",
   "execution_count": null,
   "metadata": {},
   "outputs": [],
   "source": []
  },
  {
   "cell_type": "code",
   "execution_count": 140,
   "metadata": {},
   "outputs": [
    {
     "data": {
      "text/html": [
       "<pre style=\"overflow: auto; white-space: pre;\">q0: ───X───Z^0.2───</pre>"
      ],
      "text/plain": [
       "q0: ───X───Z^0.2───"
      ]
     },
     "metadata": {},
     "output_type": "display_data"
    },
    {
     "data": {
      "text/plain": [
       "array([[0.     +0.j     , 1.     +0.j     ],\n",
       "       [0.80902+0.58779j, 0.     +0.j     ]])"
      ]
     },
     "execution_count": 140,
     "metadata": {},
     "output_type": "execute_result"
    }
   ],
   "source": [
    "_ops_to_matrix(\n",
    "    X(q0),\n",
    "    Z(q0) ** 0.2,\n",
    ")"
   ]
  },
  {
   "cell_type": "code",
   "execution_count": 151,
   "metadata": {},
   "outputs": [
    {
     "data": {
      "text/html": [
       "<pre style=\"overflow: auto; white-space: pre;\">q0: ───Z^-0.2───X───</pre>"
      ],
      "text/plain": [
       "q0: ───Z^-0.2───X───"
      ]
     },
     "metadata": {},
     "output_type": "display_data"
    },
    {
     "data": {
      "text/plain": [
       "array([[0.        +0.j     , 1.00001044+0.j     ],\n",
       "       [0.80902   +0.58779j, 0.        +0.j     ]])"
      ]
     },
     "execution_count": 151,
     "metadata": {},
     "output_type": "execute_result"
    }
   ],
   "source": [
    "_ops_to_matrix(\n",
    "    Z(q0) ** -0.2,\n",
    "    X(q0),\n",
    ") * (0.80902+0.58779j)"
   ]
  },
  {
   "cell_type": "code",
   "execution_count": null,
   "metadata": {},
   "outputs": [],
   "source": []
  },
  {
   "cell_type": "code",
   "execution_count": 159,
   "metadata": {},
   "outputs": [
    {
     "data": {
      "text/html": [
       "<pre style=\"overflow: auto; white-space: pre;\">q0: ───X^0.25───@───\n",
       "                │\n",
       "q1: ────────────Z───</pre>"
      ],
      "text/plain": [
       "q0: ───X^0.25───@───\n",
       "                │\n",
       "q1: ────────────Z───"
      ]
     },
     "metadata": {},
     "output_type": "display_data"
    },
    {
     "data": {
      "text/plain": [
       "array([[ 0.854+0.354j,  0.   +0.j   ,  0.146-0.354j,  0.   +0.j   ],\n",
       "       [ 0.   +0.j   ,  0.854+0.354j,  0.   +0.j   ,  0.146-0.354j],\n",
       "       [ 0.146-0.354j,  0.   +0.j   ,  0.854+0.354j,  0.   +0.j   ],\n",
       "       [ 0.   +0.j   , -0.146+0.354j,  0.   +0.j   , -0.854-0.354j]])"
      ]
     },
     "execution_count": 159,
     "metadata": {},
     "output_type": "execute_result"
    }
   ],
   "source": [
    "_ops_to_matrix(\n",
    "    X(q0) ** 0.25,\n",
    "    CZ(q0, q1),\n",
    ").round(3)"
   ]
  },
  {
   "cell_type": "code",
   "execution_count": 160,
   "metadata": {},
   "outputs": [
    {
     "data": {
      "text/html": [
       "<pre style=\"overflow: auto; white-space: pre;\">q0: ───@───X^0.25───\n",
       "       │\n",
       "q1: ───Z────────────</pre>"
      ],
      "text/plain": [
       "q0: ───@───X^0.25───\n",
       "       │\n",
       "q1: ───Z────────────"
      ]
     },
     "metadata": {},
     "output_type": "display_data"
    },
    {
     "data": {
      "text/plain": [
       "array([[ 0.854+0.354j,  0.   +0.j   ,  0.146-0.354j,  0.   +0.j   ],\n",
       "       [ 0.   +0.j   ,  0.854+0.354j,  0.   +0.j   , -0.146+0.354j],\n",
       "       [ 0.146-0.354j,  0.   +0.j   ,  0.854+0.354j,  0.   +0.j   ],\n",
       "       [ 0.   +0.j   ,  0.146-0.354j,  0.   +0.j   , -0.854-0.354j]])"
      ]
     },
     "execution_count": 160,
     "metadata": {},
     "output_type": "execute_result"
    }
   ],
   "source": [
    "_ops_to_matrix(\n",
    "    CZ(q0, q1),\n",
    "    X(q0) ** 0.25,\n",
    ").round(3)"
   ]
  },
  {
   "cell_type": "code",
   "execution_count": null,
   "metadata": {},
   "outputs": [],
   "source": []
  },
  {
   "cell_type": "code",
   "execution_count": null,
   "metadata": {},
   "outputs": [],
   "source": []
  },
  {
   "cell_type": "code",
   "execution_count": null,
   "metadata": {},
   "outputs": [],
   "source": []
  },
  {
   "cell_type": "code",
   "execution_count": 164,
   "metadata": {},
   "outputs": [
    {
     "data": {
      "text/html": [
       "<pre style=\"overflow: auto; white-space: pre;\">q0: ───Y^-0.5───────────@───Y^0.5───@───Y^-0.5───Z^-0.5───@───Z────────\n",
       "                        │           │                     │\n",
       "q1: ───X^-0.5───Z^0.5───Z───Y^0.5───Z───Y^-0.5───Z^-0.5───Z───Z^-0.5───</pre>"
      ],
      "text/plain": [
       "q0: ───Y^-0.5───────────@───Y^0.5───@───Y^-0.5───Z^-0.5───@───Z────────\n",
       "                        │           │                     │\n",
       "q1: ───X^-0.5───Z^0.5───Z───Y^0.5───Z───Y^-0.5───Z^-0.5───Z───Z^-0.5───"
      ]
     },
     "execution_count": 164,
     "metadata": {},
     "output_type": "execute_result"
    }
   ],
   "source": [
    "c = cirq.Circuit.from_ops(cirq.google.two_qubit_matrix_to_native_gates(\n",
    "    q0, q1,\n",
    "    #(CZ**0.5).matrix(),\n",
    "    SWAP.matrix(),\n",
    "    False\n",
    "))\n",
    "#MergeInteractions(allow_partial_czs=False).optimize_circuit(c)\n",
    "MergeRotations().optimize_circuit(c)\n",
    "EjectZ().optimize_circuit(c)\n",
    "c"
   ]
  },
  {
   "cell_type": "code",
   "execution_count": 129,
   "metadata": {},
   "outputs": [
    {
     "data": {
      "text/plain": [
       "array([[1. +0.j , 0. +0.j , 0. +0.j , 0. +0.j ],\n",
       "       [0. +0.j , 1. +0.j , 0. +0.j , 0. +0.j ],\n",
       "       [0. +0.j , 0. +0.j , 0.5+0.5j, 0.5-0.5j],\n",
       "       [0. +0.j , 0. +0.j , 0.5-0.5j, 0.5+0.5j]])"
      ]
     },
     "execution_count": 129,
     "metadata": {},
     "output_type": "execute_result"
    }
   ],
   "source": [
    "(CNOT**0.5).matrix()"
   ]
  },
  {
   "cell_type": "code",
   "execution_count": 130,
   "metadata": {},
   "outputs": [
    {
     "data": {
      "text/html": [
       "<pre style=\"overflow: auto; white-space: pre;\">q0: ───Z^0.5───\n",
       "       │\n",
       "q1: ───X───────</pre>"
      ],
      "text/plain": [
       "q0: ───Z^0.5───\n",
       "       │\n",
       "q1: ───X───────"
      ]
     },
     "metadata": {},
     "output_type": "display_data"
    },
    {
     "data": {
      "text/plain": [
       "array([[1. +0.j , 0. +0.j , 0. +0.j , 0. +0.j ],\n",
       "       [0. +0.j , 1. +0.j , 0. +0.j , 0. +0.j ],\n",
       "       [0. +0.j , 0. +0.j , 0.5+0.5j, 0.5-0.5j],\n",
       "       [0. +0.j , 0. +0.j , 0.5-0.5j, 0.5+0.5j]])"
      ]
     },
     "execution_count": 130,
     "metadata": {},
     "output_type": "execute_result"
    }
   ],
   "source": [
    "_ops_to_matrix(\n",
    "    InteractionGate(Z_BASIS, X_BASIS)(q0, q1) ** 0.5,\n",
    ")"
   ]
  },
  {
   "cell_type": "code",
   "execution_count": null,
   "metadata": {},
   "outputs": [],
   "source": []
  },
  {
   "cell_type": "code",
   "execution_count": null,
   "metadata": {},
   "outputs": [],
   "source": []
  },
  {
   "cell_type": "code",
   "execution_count": null,
   "metadata": {},
   "outputs": [],
   "source": []
  },
  {
   "cell_type": "code",
   "execution_count": null,
   "metadata": {},
   "outputs": [],
   "source": []
  },
  {
   "cell_type": "code",
   "execution_count": 183,
   "metadata": {},
   "outputs": [
    {
     "data": {
      "text/html": [
       "<pre style=\"overflow: auto; white-space: pre;\">q0: ───X^0.5───Y^0.5───</pre>"
      ],
      "text/plain": [
       "q0: ───X^0.5───Y^0.5───"
      ]
     },
     "metadata": {},
     "output_type": "display_data"
    },
    {
     "data": {
      "text/plain": [
       "array([[-0.5+0.5j,  0.5-0.5j],\n",
       "       [ 0.5+0.5j,  0.5+0.5j]])"
      ]
     },
     "execution_count": 183,
     "metadata": {},
     "output_type": "execute_result"
    }
   ],
   "source": [
    "_ops_to_matrix(\n",
    "    X(q0) ** 0.5,\n",
    "    Y(q0) ** 0.5,\n",
    ")"
   ]
  },
  {
   "cell_type": "code",
   "execution_count": null,
   "metadata": {},
   "outputs": [],
   "source": []
  },
  {
   "cell_type": "code",
   "execution_count": 186,
   "metadata": {},
   "outputs": [
    {
     "data": {
      "text/html": [
       "<pre style=\"overflow: auto; white-space: pre;\">q0: ───Y^0.5───Z^0.5───</pre>"
      ],
      "text/plain": [
       "q0: ───Y^0.5───Z^0.5───"
      ]
     },
     "metadata": {},
     "output_type": "display_data"
    },
    {
     "data": {
      "text/plain": [
       "array([[ 0.5+0.5j, -0.5-0.5j],\n",
       "       [-0.5+0.5j, -0.5+0.5j]])"
      ]
     },
     "execution_count": 186,
     "metadata": {},
     "output_type": "execute_result"
    }
   ],
   "source": [
    "_ops_to_matrix(\n",
    "    Y(q0) ** 0.5,\n",
    "    Z(q0) ** 0.5,\n",
    ")"
   ]
  },
  {
   "cell_type": "code",
   "execution_count": 185,
   "metadata": {},
   "outputs": [
    {
     "data": {
      "text/html": [
       "<pre style=\"overflow: auto; white-space: pre;\">q0: ───Z^0.5───X^0.5───</pre>"
      ],
      "text/plain": [
       "q0: ───Z^0.5───X^0.5───"
      ]
     },
     "metadata": {},
     "output_type": "display_data"
    },
    {
     "data": {
      "text/plain": [
       "array([[ 0.5+0.5j,  0.5+0.5j],\n",
       "       [ 0.5-0.5j, -0.5+0.5j]])"
      ]
     },
     "execution_count": 185,
     "metadata": {},
     "output_type": "execute_result"
    }
   ],
   "source": [
    "_ops_to_matrix(\n",
    "    Z(q0) ** 0.5,\n",
    "    X(q0) ** 0.5,\n",
    ")"
   ]
  },
  {
   "cell_type": "code",
   "execution_count": 233,
   "metadata": {},
   "outputs": [],
   "source": [
    "def dephase(a):\n",
    "    k = max(np.ndindex(*a.shape), key=lambda t:abs(a[t]))\n",
    "    return (a * np.exp(-1j * np.arctan2(np.imag(a[k]), np.real(a[k])))\n",
    "           +0.000001*(1+1j)).round(3)"
   ]
  },
  {
   "cell_type": "code",
   "execution_count": 234,
   "metadata": {},
   "outputs": [],
   "source": [
    "def global_phase_factor(a, b):\n",
    "    assert a.shape == b.shape\n",
    "    assert_allclose_up_to_global_phase(a, b)\n",
    "    k = max(np.ndindex(*a.shape), key=lambda t:abs(a[t]) * abs(b[t]))\n",
    "    return b[k] / a[k]"
   ]
  },
  {
   "cell_type": "code",
   "execution_count": 235,
   "metadata": {},
   "outputs": [],
   "source": [
    "gates = (X, Y, Z)#, X**-1, Y**-1, Z**-1)\n",
    "gates2 = (X**.5, Y**.5, Z**.5, X**-.5, Y**-.5, Z**-.5)"
   ]
  },
  {
   "cell_type": "code",
   "execution_count": 262,
   "metadata": {},
   "outputs": [],
   "source": [
    "results = []\n",
    "for g0, g1, switch in itertools.product(gates, gates, (False, True)):\n",
    "    if switch:\n",
    "        #g0, g1 = g1, g0\n",
    "        m = _ops_to_matrix(g0(q0), draw=False)\n",
    "    else:\n",
    "        m = _ops_to_matrix(g0(q0), g1(q0), draw=False)\n",
    "    for i, r in enumerate(results):\n",
    "        try:\n",
    "            assert_allclose_up_to_global_phase(r[0], m)\n",
    "        except AssertionError:\n",
    "            continue\n",
    "        else:\n",
    "            p = global_phase_factor(r[0], m)\n",
    "            r.append((g0, g1, p, switch))\n",
    "            break\n",
    "    else:\n",
    "        p = global_phase_factor(m, m)\n",
    "        results.append([m, (g0, g1, p, switch)])"
   ]
  },
  {
   "cell_type": "code",
   "execution_count": 263,
   "metadata": {},
   "outputs": [
    {
     "name": "stdout",
     "output_type": "stream",
     "text": [
      "\n",
      "X- (1+0j)\n",
      "X- (1+0j)\n",
      "Y-Z -1j\n",
      "Z-Y 1j\n",
      "\n",
      "X-Y (1-0j)\n",
      "Y-X (-1+0j)\n",
      "Z- (-0+1j)\n",
      "Z- (-0+1j)\n",
      "\n",
      "X-Z (1+0j)\n",
      "Y- -1j\n",
      "Y- -1j\n",
      "Z-X (-1+0j)\n",
      "\n"
     ]
    }
   ],
   "source": [
    "for r in results:\n",
    "    for g0, g1, p, switch in r[1:]:\n",
    "        if type(g0) == type(g1):\n",
    "            continue\n",
    "        print('{}-{}'.format(g0, g1 if not switch else ''), p)\n",
    "    print()"
   ]
  },
  {
   "cell_type": "code",
   "execution_count": 251,
   "metadata": {},
   "outputs": [],
   "source": [
    "#mr = unitary_group.rvs(2)"
   ]
  },
  {
   "cell_type": "code",
   "execution_count": 252,
   "metadata": {},
   "outputs": [
    {
     "data": {
      "text/plain": [
       "array([[ 1.   +0.j   ,  0.   +0.j   ,  0.   +0.j   ,  0.   +0.j   ],\n",
       "       [ 0.   +0.j   ,  1.   +0.j   ,  0.   +0.j   ,  0.   +0.j   ],\n",
       "       [ 0.   +0.j   ,  0.   +0.j   ,  0.231-0.178j,  0.591-0.752j],\n",
       "       [ 0.   +0.j   ,  0.   +0.j   , -0.696-0.656j,  0.255+0.141j]])"
      ]
     },
     "execution_count": 252,
     "metadata": {},
     "output_type": "execute_result"
    }
   ],
   "source": [
    "m = np.eye(4, dtype=complex)\n",
    "m[2:,2:] = mr\n",
    "m.round(3)"
   ]
  },
  {
   "cell_type": "code",
   "execution_count": 255,
   "metadata": {},
   "outputs": [
    {
     "data": {
      "text/html": [
       "<pre style=\"overflow: auto; white-space: pre;\">q0: ───X───W(0.131)^0.5───Z^-0.631─────────────────────────@───X^-0.422───@───Y^0.5───Z^0.607─────────X─────────\n",
       "                                                           │              │\n",
       "q1: ──────────────────────W(0.746)^-0.603───Z^-0.691───H───Z──────────────Z───H───────W(0.095)^0.19───Z^0.749───</pre>"
      ],
      "text/plain": [
       "q0: ───X───W(0.131)^0.5───Z^-0.631─────────────────────────@───X^-0.422───@───Y^0.5───Z^0.607─────────X─────────\n",
       "                                                           │              │\n",
       "q1: ──────────────────────W(0.746)^-0.603───Z^-0.691───H───Z──────────────Z───H───────W(0.095)^0.19───Z^0.749───"
      ]
     },
     "metadata": {},
     "output_type": "display_data"
    },
    {
     "data": {
      "text/plain": [
       "array([[ 0.231-0.178j,  0.591-0.752j,  0.   +0.j   ,  0.   +0.j   ],\n",
       "       [-0.696-0.656j,  0.255+0.141j,  0.   +0.j   ,  0.   +0.j   ],\n",
       "       [ 0.   +0.j   ,  0.   +0.j   ,  1.   +0.j   ,  0.   +0.j   ],\n",
       "       [ 0.   +0.j   ,  0.   +0.j   ,  0.   +0.j   ,  1.   +0.j   ]])"
      ]
     },
     "execution_count": 255,
     "metadata": {},
     "output_type": "execute_result"
    }
   ],
   "source": [
    "m2 = dephase(_ops_to_matrix(\n",
    "    X(q0),\n",
    "    cirq.google.two_qubit_matrix_to_native_gates(q0, q1, m, allow_partial_czs=False),\n",
    "    X(q0),\n",
    "))\n",
    "m2"
   ]
  },
  {
   "cell_type": "code",
   "execution_count": 256,
   "metadata": {},
   "outputs": [
    {
     "ename": "AssertionError",
     "evalue": "\nNot equal to tolerance rtol=0.001, atol=0.001\n\n(mismatch 50.0%)\n x: array([[ 0.792694+0.60962j ,  0.      +0.j      ,  0.      +0.j      ,\n         0.      +0.j      ],\n       [ 0.      +0.j      ,  0.792694+0.60962j ,  0.      +0.j      ,...\n y: array([[ 0.231-0.178j,  0.591-0.752j,  0.   +0.j   ,  0.   +0.j   ],\n       [-0.696-0.656j,  0.255+0.141j,  0.   +0.j   ,  0.   +0.j   ],\n       [ 0.   +0.j   ,  0.   +0.j   ,  1.   +0.j   ,  0.   +0.j   ],\n       [ 0.   +0.j   ,  0.   +0.j   ,  0.   +0.j   ,  1.   +0.j   ]])",
     "output_type": "error",
     "traceback": [
      "\u001b[0;31m---------------------------------------------------------------------------\u001b[0m",
      "\u001b[0;31mAssertionError\u001b[0m                            Traceback (most recent call last)",
      "\u001b[0;32m<ipython-input-256-45481f26abaf>\u001b[0m in \u001b[0;36m<module>\u001b[0;34m()\u001b[0m\n\u001b[0;32m----> 1\u001b[0;31m \u001b[0massert_allclose_up_to_global_phase\u001b[0m\u001b[0;34m(\u001b[0m\u001b[0mm\u001b[0m\u001b[0;34m,\u001b[0m \u001b[0mm2\u001b[0m\u001b[0;34m,\u001b[0m \u001b[0mrtol\u001b[0m\u001b[0;34m=\u001b[0m\u001b[0;36m.001\u001b[0m\u001b[0;34m,\u001b[0m \u001b[0matol\u001b[0m\u001b[0;34m=\u001b[0m\u001b[0;36m.001\u001b[0m\u001b[0;34m)\u001b[0m\u001b[0;34m\u001b[0m\u001b[0m\n\u001b[0m",
      "\u001b[0;32m~/docs/cirqDev/Cirq/cirq/testing/lin_alg_utils.py\u001b[0m in \u001b[0;36massert_allclose_up_to_global_phase\u001b[0;34m(actual, desired, rtol, atol, equal_nan, err_msg, verbose)\u001b[0m\n\u001b[1;32m     94\u001b[0m         \u001b[0mequal_nan\u001b[0m\u001b[0;34m=\u001b[0m\u001b[0mequal_nan\u001b[0m\u001b[0;34m,\u001b[0m\u001b[0;34m\u001b[0m\u001b[0m\n\u001b[1;32m     95\u001b[0m         \u001b[0merr_msg\u001b[0m\u001b[0;34m=\u001b[0m\u001b[0merr_msg\u001b[0m\u001b[0;34m,\u001b[0m\u001b[0;34m\u001b[0m\u001b[0m\n\u001b[0;32m---> 96\u001b[0;31m         verbose=verbose)\n\u001b[0m",
      "\u001b[0;32m~/docs/cirqDev/lib/python3.5/site-packages/numpy/testing/nose_tools/utils.py\u001b[0m in \u001b[0;36massert_allclose\u001b[0;34m(actual, desired, rtol, atol, equal_nan, err_msg, verbose)\u001b[0m\n\u001b[1;32m   1394\u001b[0m     \u001b[0mheader\u001b[0m \u001b[0;34m=\u001b[0m \u001b[0;34m'Not equal to tolerance rtol=%g, atol=%g'\u001b[0m \u001b[0;34m%\u001b[0m \u001b[0;34m(\u001b[0m\u001b[0mrtol\u001b[0m\u001b[0;34m,\u001b[0m \u001b[0matol\u001b[0m\u001b[0;34m)\u001b[0m\u001b[0;34m\u001b[0m\u001b[0m\n\u001b[1;32m   1395\u001b[0m     assert_array_compare(compare, actual, desired, err_msg=str(err_msg),\n\u001b[0;32m-> 1396\u001b[0;31m                          verbose=verbose, header=header, equal_nan=equal_nan)\n\u001b[0m\u001b[1;32m   1397\u001b[0m \u001b[0;34m\u001b[0m\u001b[0m\n\u001b[1;32m   1398\u001b[0m \u001b[0;34m\u001b[0m\u001b[0m\n",
      "\u001b[0;32m~/docs/cirqDev/lib/python3.5/site-packages/numpy/testing/nose_tools/utils.py\u001b[0m in \u001b[0;36massert_array_compare\u001b[0;34m(comparison, x, y, err_msg, verbose, header, precision, equal_nan, equal_inf)\u001b[0m\n\u001b[1;32m    777\u001b[0m                                 \u001b[0mverbose\u001b[0m\u001b[0;34m=\u001b[0m\u001b[0mverbose\u001b[0m\u001b[0;34m,\u001b[0m \u001b[0mheader\u001b[0m\u001b[0;34m=\u001b[0m\u001b[0mheader\u001b[0m\u001b[0;34m,\u001b[0m\u001b[0;34m\u001b[0m\u001b[0m\n\u001b[1;32m    778\u001b[0m                                 names=('x', 'y'), precision=precision)\n\u001b[0;32m--> 779\u001b[0;31m             \u001b[0;32mraise\u001b[0m \u001b[0mAssertionError\u001b[0m\u001b[0;34m(\u001b[0m\u001b[0mmsg\u001b[0m\u001b[0;34m)\u001b[0m\u001b[0;34m\u001b[0m\u001b[0m\n\u001b[0m\u001b[1;32m    780\u001b[0m     \u001b[0;32mexcept\u001b[0m \u001b[0mValueError\u001b[0m\u001b[0;34m:\u001b[0m\u001b[0;34m\u001b[0m\u001b[0m\n\u001b[1;32m    781\u001b[0m         \u001b[0;32mimport\u001b[0m \u001b[0mtraceback\u001b[0m\u001b[0;34m\u001b[0m\u001b[0m\n",
      "\u001b[0;31mAssertionError\u001b[0m: \nNot equal to tolerance rtol=0.001, atol=0.001\n\n(mismatch 50.0%)\n x: array([[ 0.792694+0.60962j ,  0.      +0.j      ,  0.      +0.j      ,\n         0.      +0.j      ],\n       [ 0.      +0.j      ,  0.792694+0.60962j ,  0.      +0.j      ,...\n y: array([[ 0.231-0.178j,  0.591-0.752j,  0.   +0.j   ,  0.   +0.j   ],\n       [-0.696-0.656j,  0.255+0.141j,  0.   +0.j   ,  0.   +0.j   ],\n       [ 0.   +0.j   ,  0.   +0.j   ,  1.   +0.j   ,  0.   +0.j   ],\n       [ 0.   +0.j   ,  0.   +0.j   ,  0.   +0.j   ,  1.   +0.j   ]])"
     ]
    }
   ],
   "source": [
    "assert_allclose_up_to_global_phase(m, m2, rtol=.001, atol=.001)"
   ]
  },
  {
   "cell_type": "code",
   "execution_count": null,
   "metadata": {},
   "outputs": [],
   "source": []
  },
  {
   "cell_type": "code",
   "execution_count": null,
   "metadata": {},
   "outputs": [],
   "source": []
  },
  {
   "cell_type": "code",
   "execution_count": 268,
   "metadata": {},
   "outputs": [
    {
     "data": {
      "text/html": [
       "<pre style=\"overflow: auto; white-space: pre;\">q0: ───Z^0.2───X^0.5───</pre>"
      ],
      "text/plain": [
       "q0: ───Z^0.2───X^0.5───"
      ]
     },
     "metadata": {},
     "output_type": "display_data"
    },
    {
     "data": {
      "text/plain": [
       "array([[0.5    +0.5j    , 0.6984 -0.11062j],\n",
       "       [0.5    -0.5j    , 0.11062+0.6984j ]])"
      ]
     },
     "execution_count": 268,
     "metadata": {},
     "output_type": "execute_result"
    }
   ],
   "source": [
    "_ops_to_matrix(\n",
    "    Z(q0) ** 0.2,\n",
    "    X(q0) ** .5,\n",
    ")"
   ]
  },
  {
   "cell_type": "code",
   "execution_count": 269,
   "metadata": {},
   "outputs": [
    {
     "data": {
      "text/html": [
       "<pre style=\"overflow: auto; white-space: pre;\">q0: ───X^0.5───Y^0.2───</pre>"
      ],
      "text/plain": [
       "q0: ───X^0.5───Y^0.2───"
      ]
     },
     "metadata": {},
     "output_type": "display_data"
    },
    {
     "data": {
      "text/plain": [
       "array([[0.11062+0.6984j , 0.5    -0.5j    ],\n",
       "       [0.6984 -0.11062j, 0.5    +0.5j    ]])"
      ]
     },
     "execution_count": 269,
     "metadata": {},
     "output_type": "execute_result"
    }
   ],
   "source": [
    "_ops_to_matrix(\n",
    "    X(q0) ** .5,\n",
    "    Y(q0) ** 0.2,\n",
    ")"
   ]
  },
  {
   "cell_type": "code",
   "execution_count": null,
   "metadata": {},
   "outputs": [],
   "source": []
  },
  {
   "cell_type": "code",
   "execution_count": null,
   "metadata": {},
   "outputs": [],
   "source": []
  },
  {
   "cell_type": "code",
   "execution_count": 9,
   "metadata": {},
   "outputs": [],
   "source": [
    "from cirq.google import ExpWGate"
   ]
  },
  {
   "cell_type": "code",
   "execution_count": 13,
   "metadata": {},
   "outputs": [
    {
     "data": {
      "text/html": [
       "<pre style=\"overflow: auto; white-space: pre;\">q0: ───Z^-0.2───X───Z^0.2───W(0.2)───</pre>"
      ],
      "text/plain": [
       "q0: ───Z^-0.2───X───Z^0.2───W(0.2)───"
      ]
     },
     "metadata": {},
     "output_type": "display_data"
    },
    {
     "data": {
      "text/plain": [
       "array([[ 1.+0.j,  0.+0.j],\n",
       "       [-0.+0.j,  1.+0.j]])"
      ]
     },
     "execution_count": 13,
     "metadata": {},
     "output_type": "execute_result"
    }
   ],
   "source": [
    "a = 0.2\n",
    "b = 1\n",
    "_ops_to_matrix(\n",
    "    Z(q0) ** -a,\n",
    "    X(q0) ** -b,\n",
    "    Z(q0) ** a,\n",
    "    \n",
    "    ExpWGate(half_turns=b, axis_half_turns=a)(q0),\n",
    ")"
   ]
  },
  {
   "cell_type": "code",
   "execution_count": null,
   "metadata": {},
   "outputs": [],
   "source": []
  },
  {
   "cell_type": "code",
   "execution_count": null,
   "metadata": {},
   "outputs": [],
   "source": []
  },
  {
   "cell_type": "code",
   "execution_count": null,
   "metadata": {},
   "outputs": [],
   "source": []
  },
  {
   "cell_type": "code",
   "execution_count": null,
   "metadata": {},
   "outputs": [],
   "source": []
  },
  {
   "cell_type": "code",
   "execution_count": 360,
   "metadata": {},
   "outputs": [],
   "source": [
    "def _deconstruct_single_qubit_matrix_into_angles(mat):\n",
    "    mat_orig = mat\n",
    "    \n",
    "    right_phase = mat[0, 1] * np.conj(mat[0, 0]) * -1\n",
    "    #right_phase /= np.abs(right_phase)\n",
    "    mat = np.dot(mat, np.diag([np.abs(right_phase), np.conj(right_phase)]))\n",
    "    \n",
    "    bottom_phase = mat[1, 0] * np.conj(mat[0, 0])\n",
    "    #bottom_phase /= np.abs(bottom_phase)\n",
    "    mat = np.dot(np.diag([np.abs(bottom_phase), np.conj(bottom_phase)]), mat)\n",
    "    \n",
    "    print(abs(right_phase), abs(bottom_phase))\n",
    "    print(mat)\n",
    "    \n",
    "    c = np.abs(mat[0, 0])\n",
    "    s = -np.abs(mat[1, 0])\n",
    "    scale = np.hypot(c, s)\n",
    "    #c /= scale\n",
    "    #s /= scale\n",
    "    rotation_mat = np.array([[c, -s], [s, c]])\n",
    "    mat = np.dot(rotation_mat, mat)\n",
    "    \n",
    "    diagonal_phase = mat[1, 1] * np.conj(mat[0, 0])\n",
    "    #diagonal_phase /= np.abs(diagonal_phase)\n",
    "    \n",
    "    return (np.angle(right_phase * diagonal_phase) / np.pi,\n",
    "            np.angle(np.complex(c, -s)) * 2 / np.pi,\n",
    "            np.angle(bottom_phase) / np.pi)"
   ]
  },
  {
   "cell_type": "code",
   "execution_count": 523,
   "metadata": {},
   "outputs": [],
   "source": [
    "def _deconstruct_single_qubit_matrix_into_angles(mat):\n",
    "    mat_orig = mat\n",
    "    \n",
    "    right_phase = mat[0, 1] * np.conj(mat[0, 0]) * -1\n",
    "    #right_phase /= np.abs(right_phase)\n",
    "    mat = np.dot(mat, np.diag([np.abs(right_phase), np.conj(right_phase)]))\n",
    "    \n",
    "    bottom_phase = mat[1, 0] * np.conj(mat[0, 0])\n",
    "    #bottom_phase /= np.abs(bottom_phase)\n",
    "    mat = np.dot(np.diag([np.abs(bottom_phase), np.conj(bottom_phase)]), mat)\n",
    "    \n",
    "    print(abs(right_phase), abs(bottom_phase))\n",
    "    print(mat)\n",
    "    \n",
    "    c = np.abs(mat[0,0])#np.abs(mat[0, 0])\n",
    "    s = -np.abs(mat[1,0])# * np.conj(bottom_phase)/np.abs(bottom_phase)#-np.abs(mat[1, 0])\n",
    "    #scale = np.hypot(c, s)\n",
    "    #c /= scale\n",
    "    #s /= scale\n",
    "    rotation_mat = np.array([[c, -s], [s, c]])\n",
    "    mat = np.dot(rotation_mat, mat)\n",
    "    \n",
    "    diagonal_phase = mat[1, 1] * np.conj(mat[0, 0])\n",
    "    #diagonal_phase /= np.abs(diagonal_phase)\n",
    "    \n",
    "    return (np.angle(right_phase * diagonal_phase) / np.pi,\n",
    "            np.angle(np.complex(c, -s)) * 2 / np.pi,\n",
    "            np.angle(bottom_phase) / np.pi)"
   ]
  },
  {
   "cell_type": "code",
   "execution_count": null,
   "metadata": {},
   "outputs": [],
   "source": []
  },
  {
   "cell_type": "code",
   "execution_count": 259,
   "metadata": {},
   "outputs": [
    {
     "data": {
      "text/html": [
       "<pre style=\"overflow: auto; white-space: pre;\">q0: ───Y^0.25───</pre>"
      ],
      "text/plain": [
       "q0: ───Y^0.25───"
      ]
     },
     "metadata": {},
     "output_type": "display_data"
    },
    {
     "name": "stdout",
     "output_type": "stream",
     "text": [
      "0.00000000000000000000, 0.25000000000000000000, 0.00000000000000000000\n"
     ]
    },
    {
     "data": {
      "text/plain": [
       "array([[ 0.85355339+0.35355339j, -0.35355339-0.14644661j],\n",
       "       [ 0.35355339+0.14644661j,  0.85355339+0.35355339j]])"
      ]
     },
     "execution_count": 259,
     "metadata": {},
     "output_type": "execute_result"
    }
   ],
   "source": [
    "from random import random\n",
    "a, b, c = (random()*2-1 for i in range(3))\n",
    "a, c = 0, 0\n",
    "b = 0.25\n",
    "#if b < 0: b = -b\n",
    "#a, b, c = -0.43281458995221644415, 0.59199323991380592425, -0.30321108538617025374\n",
    "#a, b, c = -0.69520268141893315494, -0.50286219007766752576, -0.24504573716290600771\n",
    "mat = _ops_to_matrix(\n",
    "    #Z(q0) ** a,\n",
    "    Y(q0) ** b,\n",
    "    #Z(q0) ** c,\n",
    ")\n",
    "print('{:.20f}, {:.20f}, {:.20f}'.format(a, b, c))\n",
    "mat"
   ]
  },
  {
   "cell_type": "code",
   "execution_count": 260,
   "metadata": {},
   "outputs": [
    {
     "data": {
      "text/plain": [
       "(2.0, 0.25, 0.0)"
      ]
     },
     "execution_count": 260,
     "metadata": {},
     "output_type": "execute_result"
    }
   ],
   "source": [
    "if 1:\n",
    "    angles_rad = cirq.google.decompositions._deconstruct_single_qubit_matrix_into_angles(mat)\n",
    "    a2, b2, c2 = (ang/np.pi for ang in angles_rad)\n",
    "    b2 *= 2\n",
    "else:\n",
    "    a2, b2, c2 = _deconstruct_single_qubit_matrix_into_angles(mat)\n",
    "a2, b2, c2"
   ]
  },
  {
   "cell_type": "code",
   "execution_count": 261,
   "metadata": {},
   "outputs": [
    {
     "data": {
      "text/plain": [
       "(2.0, 0.0, 0.0, 0.5)"
      ]
     },
     "execution_count": 261,
     "metadata": {},
     "output_type": "execute_result"
    }
   ],
   "source": [
    "a2-a, c2-c, b2-b, b2+b"
   ]
  },
  {
   "cell_type": "code",
   "execution_count": 262,
   "metadata": {},
   "outputs": [
    {
     "data": {
      "text/html": [
       "<pre style=\"overflow: auto; white-space: pre;\">q0: ───Z^0.0───Y^0.25───Z^0.0───</pre>"
      ],
      "text/plain": [
       "q0: ───Z^0.0───Y^0.25───Z^0.0───"
      ]
     },
     "metadata": {},
     "output_type": "display_data"
    },
    {
     "data": {
      "text/plain": [
       "array([[ 0.85355339+0.35355339j, -0.35355339-0.14644661j],\n",
       "       [ 0.35355339+0.14644661j,  0.85355339+0.35355339j]])"
      ]
     },
     "execution_count": 262,
     "metadata": {},
     "output_type": "execute_result"
    }
   ],
   "source": [
    "mat2 = _ops_to_matrix(\n",
    "    Z(q0) ** a2,\n",
    "    Y(q0) ** b2,\n",
    "    Z(q0) ** c2,\n",
    ")\n",
    "mat2"
   ]
  },
  {
   "cell_type": "code",
   "execution_count": null,
   "metadata": {},
   "outputs": [],
   "source": []
  },
  {
   "cell_type": "code",
   "execution_count": 263,
   "metadata": {},
   "outputs": [],
   "source": [
    "mat2b = mat2 * np.exp(1j * (np.angle(mat[0,0]) - np.angle(mat2[0,0])))"
   ]
  },
  {
   "cell_type": "code",
   "execution_count": 264,
   "metadata": {},
   "outputs": [],
   "source": [
    "assert_allclose_up_to_global_phase(mat, mat2, rtol=1e-3)"
   ]
  },
  {
   "cell_type": "code",
   "execution_count": 272,
   "metadata": {},
   "outputs": [],
   "source": [
    "assert_allclose_up_to_global_phase(mat, mat2, rtol=1e-18)"
   ]
  },
  {
   "cell_type": "code",
   "execution_count": 266,
   "metadata": {},
   "outputs": [
    {
     "data": {
      "text/plain": [
       "6.283185307179586"
      ]
     },
     "execution_count": 266,
     "metadata": {},
     "output_type": "execute_result"
    }
   ],
   "source": [
    "cmath.phase(mat[0, 1] * np.conj(mat[0,0])) + np.pi"
   ]
  },
  {
   "cell_type": "code",
   "execution_count": 267,
   "metadata": {},
   "outputs": [
    {
     "data": {
      "text/plain": [
       "(-0.35355339059327373+0j)"
      ]
     },
     "execution_count": 267,
     "metadata": {},
     "output_type": "execute_result"
    }
   ],
   "source": [
    "mat[0, 1] * mat[0,0].conjugate()"
   ]
  },
  {
   "cell_type": "code",
   "execution_count": 268,
   "metadata": {},
   "outputs": [
    {
     "data": {
      "text/plain": [
       "(0.8535533905932737+0.35355339059327373j)"
      ]
     },
     "execution_count": 268,
     "metadata": {},
     "output_type": "execute_result"
    }
   ],
   "source": [
    "mat[0,0]"
   ]
  },
  {
   "cell_type": "code",
   "execution_count": null,
   "metadata": {},
   "outputs": [],
   "source": []
  },
  {
   "cell_type": "code",
   "execution_count": null,
   "metadata": {},
   "outputs": [],
   "source": []
  },
  {
   "cell_type": "code",
   "execution_count": 269,
   "metadata": {},
   "outputs": [
    {
     "data": {
      "text/html": [
       "<pre style=\"overflow: auto; white-space: pre;\">q0: ───Y^0.18───</pre>"
      ],
      "text/plain": [
       "q0: ───Y^0.18───"
      ]
     },
     "metadata": {},
     "output_type": "display_data"
    },
    {
     "data": {
      "text/html": [
       "<pre style=\"overflow: auto; white-space: pre;\">q0: ───Y^0.18───</pre>"
      ],
      "text/plain": [
       "q0: ───Y^0.18───"
      ]
     },
     "metadata": {},
     "output_type": "display_data"
    },
    {
     "ename": "AssertionError",
     "evalue": "\nNot equal to tolerance rtol=1e-20, atol=0\n\n(mismatch 100.0%)\n x: array([[ 0.922512+0.267364j, -0.267364-0.077488j],\n       [ 0.267364+0.077488j,  0.922512+0.267364j]])\n y: array([[ 0.922512+0.267364j, -0.267364-0.077488j],\n       [ 0.267364+0.077488j,  0.922512+0.267364j]])",
     "output_type": "error",
     "traceback": [
      "\u001b[0;31m---------------------------------------------------------------------------\u001b[0m",
      "\u001b[0;31mAssertionError\u001b[0m                            Traceback (most recent call last)",
      "\u001b[0;32m<ipython-input-269-326fc2da39ef>\u001b[0m in \u001b[0;36m<module>\u001b[0;34m()\u001b[0m\n\u001b[1;32m      3\u001b[0m     \u001b[0m_ops_to_matrix\u001b[0m\u001b[0;34m(\u001b[0m\u001b[0mY\u001b[0m\u001b[0;34m(\u001b[0m\u001b[0mq0\u001b[0m\u001b[0;34m)\u001b[0m \u001b[0;34m**\u001b[0m \u001b[0ma\u001b[0m\u001b[0;34m)\u001b[0m\u001b[0;34m,\u001b[0m\u001b[0;34m\u001b[0m\u001b[0m\n\u001b[1;32m      4\u001b[0m     \u001b[0m_ops_to_matrix\u001b[0m\u001b[0;34m(\u001b[0m\u001b[0mY\u001b[0m\u001b[0;34m(\u001b[0m\u001b[0mq0\u001b[0m\u001b[0;34m)\u001b[0m \u001b[0;34m**\u001b[0m \u001b[0;34m(\u001b[0m\u001b[0ma\u001b[0m\u001b[0;34m-\u001b[0m\u001b[0;36m2\u001b[0m\u001b[0;34m)\u001b[0m\u001b[0;34m)\u001b[0m\u001b[0;34m,\u001b[0m\u001b[0;34m\u001b[0m\u001b[0m\n\u001b[0;32m----> 5\u001b[0;31m     rtol=1e-20)\n\u001b[0m",
      "\u001b[0;32m~/docs/cirqDev/Cirq/cirq/testing/lin_alg_utils.py\u001b[0m in \u001b[0;36massert_allclose_up_to_global_phase\u001b[0;34m(actual, desired, rtol, atol, equal_nan, err_msg, verbose)\u001b[0m\n\u001b[1;32m     94\u001b[0m         \u001b[0mequal_nan\u001b[0m\u001b[0;34m=\u001b[0m\u001b[0mequal_nan\u001b[0m\u001b[0;34m,\u001b[0m\u001b[0;34m\u001b[0m\u001b[0m\n\u001b[1;32m     95\u001b[0m         \u001b[0merr_msg\u001b[0m\u001b[0;34m=\u001b[0m\u001b[0merr_msg\u001b[0m\u001b[0;34m,\u001b[0m\u001b[0;34m\u001b[0m\u001b[0m\n\u001b[0;32m---> 96\u001b[0;31m         verbose=verbose)\n\u001b[0m",
      "\u001b[0;32m~/docs/cirqDev/lib/python3.5/site-packages/numpy/testing/nose_tools/utils.py\u001b[0m in \u001b[0;36massert_allclose\u001b[0;34m(actual, desired, rtol, atol, equal_nan, err_msg, verbose)\u001b[0m\n\u001b[1;32m   1394\u001b[0m     \u001b[0mheader\u001b[0m \u001b[0;34m=\u001b[0m \u001b[0;34m'Not equal to tolerance rtol=%g, atol=%g'\u001b[0m \u001b[0;34m%\u001b[0m \u001b[0;34m(\u001b[0m\u001b[0mrtol\u001b[0m\u001b[0;34m,\u001b[0m \u001b[0matol\u001b[0m\u001b[0;34m)\u001b[0m\u001b[0;34m\u001b[0m\u001b[0m\n\u001b[1;32m   1395\u001b[0m     assert_array_compare(compare, actual, desired, err_msg=str(err_msg),\n\u001b[0;32m-> 1396\u001b[0;31m                          verbose=verbose, header=header, equal_nan=equal_nan)\n\u001b[0m\u001b[1;32m   1397\u001b[0m \u001b[0;34m\u001b[0m\u001b[0m\n\u001b[1;32m   1398\u001b[0m \u001b[0;34m\u001b[0m\u001b[0m\n",
      "\u001b[0;32m~/docs/cirqDev/lib/python3.5/site-packages/numpy/testing/nose_tools/utils.py\u001b[0m in \u001b[0;36massert_array_compare\u001b[0;34m(comparison, x, y, err_msg, verbose, header, precision, equal_nan, equal_inf)\u001b[0m\n\u001b[1;32m    777\u001b[0m                                 \u001b[0mverbose\u001b[0m\u001b[0;34m=\u001b[0m\u001b[0mverbose\u001b[0m\u001b[0;34m,\u001b[0m \u001b[0mheader\u001b[0m\u001b[0;34m=\u001b[0m\u001b[0mheader\u001b[0m\u001b[0;34m,\u001b[0m\u001b[0;34m\u001b[0m\u001b[0m\n\u001b[1;32m    778\u001b[0m                                 names=('x', 'y'), precision=precision)\n\u001b[0;32m--> 779\u001b[0;31m             \u001b[0;32mraise\u001b[0m \u001b[0mAssertionError\u001b[0m\u001b[0;34m(\u001b[0m\u001b[0mmsg\u001b[0m\u001b[0;34m)\u001b[0m\u001b[0;34m\u001b[0m\u001b[0m\n\u001b[0m\u001b[1;32m    780\u001b[0m     \u001b[0;32mexcept\u001b[0m \u001b[0mValueError\u001b[0m\u001b[0;34m:\u001b[0m\u001b[0;34m\u001b[0m\u001b[0m\n\u001b[1;32m    781\u001b[0m         \u001b[0;32mimport\u001b[0m \u001b[0mtraceback\u001b[0m\u001b[0;34m\u001b[0m\u001b[0m\n",
      "\u001b[0;31mAssertionError\u001b[0m: \nNot equal to tolerance rtol=1e-20, atol=0\n\n(mismatch 100.0%)\n x: array([[ 0.922512+0.267364j, -0.267364-0.077488j],\n       [ 0.267364+0.077488j,  0.922512+0.267364j]])\n y: array([[ 0.922512+0.267364j, -0.267364-0.077488j],\n       [ 0.267364+0.077488j,  0.922512+0.267364j]])"
     ]
    }
   ],
   "source": [
    "a = random() * 2 - 1\n",
    "assert_allclose_up_to_global_phase(\n",
    "    _ops_to_matrix(Y(q0) ** a),\n",
    "    _ops_to_matrix(Y(q0) ** (a-2)),\n",
    "    rtol=1e-20)"
   ]
  },
  {
   "cell_type": "code",
   "execution_count": 280,
   "metadata": {},
   "outputs": [],
   "source": [
    "np.set_printoptions(precision=7, suppress=True)"
   ]
  },
  {
   "cell_type": "code",
   "execution_count": 281,
   "metadata": {
    "scrolled": true
   },
   "outputs": [
    {
     "data": {
      "text/plain": [
       "array([[1.+0.j, 0.+0.j],\n",
       "       [0.-0.j, 1.+0.j]])"
      ]
     },
     "execution_count": 281,
     "metadata": {},
     "output_type": "execute_result"
    }
   ],
   "source": [
    "(Y**b).matrix().dot((Y**-b).matrix())"
   ]
  },
  {
   "cell_type": "code",
   "execution_count": 250,
   "metadata": {
    "scrolled": true
   },
   "outputs": [
    {
     "data": {
      "text/plain": [
       "array([[1.00000000e+00+0.0000000e+00j, 1.96261557e-17+3.0561517e-18j],\n",
       "       [1.96261557e-17-3.0561517e-18j, 1.00000000e+00+0.0000000e+00j]])"
      ]
     },
     "execution_count": 250,
     "metadata": {},
     "output_type": "execute_result"
    }
   ],
   "source": [
    "(Y**b).matrix().dot((Y**-b).matrix())"
   ]
  },
  {
   "cell_type": "code",
   "execution_count": 251,
   "metadata": {},
   "outputs": [
    {
     "data": {
      "text/plain": [
       "array([[1.+0.00000000e+00j, 0.+2.77555756e-17j],\n",
       "       [0.-2.77555756e-17j, 1.+0.00000000e+00j]])"
      ]
     },
     "execution_count": 251,
     "metadata": {},
     "output_type": "execute_result"
    }
   ],
   "source": [
    "(X**b).matrix().dot((X**-b).matrix())"
   ]
  },
  {
   "cell_type": "code",
   "execution_count": 252,
   "metadata": {},
   "outputs": [
    {
     "data": {
      "text/plain": [
       "array([[1.00000000e+00+0.00000000e+00j, 1.38777878e-17+2.77555756e-17j],\n",
       "       [1.38777878e-17-4.16333634e-17j, 1.00000000e+00+0.00000000e+00j]])"
      ]
     },
     "execution_count": 252,
     "metadata": {},
     "output_type": "execute_result"
    }
   ],
   "source": [
    "ExpWGate(axis_half_turns=a, half_turns=b).matrix().dot(ExpWGate(axis_half_turns=a, half_turns=-b).matrix())"
   ]
  },
  {
   "cell_type": "code",
   "execution_count": null,
   "metadata": {},
   "outputs": [],
   "source": []
  },
  {
   "cell_type": "code",
   "execution_count": 253,
   "metadata": {},
   "outputs": [
    {
     "data": {
      "text/plain": [
       "(array([[ 0.5+0.j , -0. -0.5j],\n",
       "        [ 0. +0.5j,  0.5+0.j ]]), array([[ 0.5+0.j ,  0. +0.5j],\n",
       "        [-0. -0.5j,  0.5+0.j ]]))"
      ]
     },
     "execution_count": 253,
     "metadata": {},
     "output_type": "execute_result"
    }
   ],
   "source": [
    "e0 = Y._eigen_components()[0][1]\n",
    "e1 = Y._eigen_components()[1][1]\n",
    "e0, e1"
   ]
  },
  {
   "cell_type": "code",
   "execution_count": 254,
   "metadata": {},
   "outputs": [
    {
     "data": {
      "text/plain": [
       "array([[1.00000000e+00+0.0000000e+00j, 1.96261557e-17+3.0561517e-18j],\n",
       "       [1.96261557e-17-3.0561517e-18j, 1.00000000e+00+0.0000000e+00j]])"
      ]
     },
     "execution_count": 254,
     "metadata": {},
     "output_type": "execute_result"
    }
   ],
   "source": [
    "e = 0.25\n",
    "m     = np.sum(1j ** (ht * e * 2) * comp for ht, comp in ((0, e0), (1, e1)))\n",
    "m_inv = np.sum(1j ** (ht * -e * 2) * comp for ht, comp in ((0, e0), (1, e1)))\n",
    "m.dot(m_inv)"
   ]
  },
  {
   "cell_type": "code",
   "execution_count": 255,
   "metadata": {},
   "outputs": [
    {
     "data": {
      "text/plain": [
       "(-0.35355339059327373+0j)"
      ]
     },
     "execution_count": 255,
     "metadata": {},
     "output_type": "execute_result"
    }
   ],
   "source": [
    "m[0,1] * m[0,0].conjugate()"
   ]
  },
  {
   "cell_type": "code",
   "execution_count": 256,
   "metadata": {},
   "outputs": [
    {
     "data": {
      "text/plain": [
       "array([[ 0.85355339+0.35355339j, -0.35355339-0.14644661j],\n",
       "       [ 0.35355339+0.14644661j,  0.85355339+0.35355339j]])"
      ]
     },
     "execution_count": 256,
     "metadata": {},
     "output_type": "execute_result"
    }
   ],
   "source": [
    "m"
   ]
  },
  {
   "cell_type": "code",
   "execution_count": 257,
   "metadata": {},
   "outputs": [
    {
     "data": {
      "text/plain": [
       "array([[ 0.85355+0.35355j, -0.35355-0.14645j],\n",
       "       [ 0.35355+0.14645j,  0.85355+0.35355j]])"
      ]
     },
     "execution_count": 257,
     "metadata": {},
     "output_type": "execute_result"
    }
   ],
   "source": [
    "mat"
   ]
  },
  {
   "cell_type": "code",
   "execution_count": null,
   "metadata": {},
   "outputs": [],
   "source": []
  }
 ],
 "metadata": {
  "kernelspec": {
   "display_name": "Python 3",
   "language": "python",
   "name": "python3"
  },
  "language_info": {
   "codemirror_mode": {
    "name": "ipython",
    "version": 3
   },
   "file_extension": ".py",
   "mimetype": "text/x-python",
   "name": "python",
   "nbconvert_exporter": "python",
   "pygments_lexer": "ipython3",
   "version": "3.5.3"
  }
 },
 "nbformat": 4,
 "nbformat_minor": 2
}
