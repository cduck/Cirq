{
 "cells": [
  {
   "cell_type": "code",
   "execution_count": 1,
   "metadata": {},
   "outputs": [],
   "source": [
    "import numpy as np\n",
    "import scipy as sp\n",
    "from scipy.stats import unitary_group\n",
    "\n",
    "import cirq\n",
    "from cirq import ops\n",
    "from cirq.ops import CZ, H, CNOT, X, Y, Z, RotYGate, MeasurementGate\n",
    "from cirq.google import XmonQubit, ExpWGate, ExpZGate, Exp11Gate, XmonMeasurementGate\n",
    "from cirq.google import Simulator, ConvertToXmonGates, MergeRotations, MergeInteractions, EjectZ"
   ]
  },
  {
   "cell_type": "code",
   "execution_count": 2,
   "metadata": {},
   "outputs": [],
   "source": [
    "import pickle\n",
    "\n",
    "def saveCircuit(fName):\n",
    "    with open(fName, 'wb') as f:\n",
    "        pickle.dump(circuit, f)\n",
    "def loadCircuit(fName):\n",
    "    with open(fName, 'rb') as f:\n",
    "        return pickle.load(f)"
   ]
  },
  {
   "cell_type": "code",
   "execution_count": null,
   "metadata": {},
   "outputs": [],
   "source": []
  },
  {
   "cell_type": "code",
   "execution_count": 3,
   "metadata": {},
   "outputs": [],
   "source": [
    "class CircuitCost(object):\n",
    "    def global_cost(self, circuit):\n",
    "        raise NotImplementedError\n",
    "    def local_cost(self, subcircuit):\n",
    "        raise NotImplementedError\n",
    "    def cost(self, circuit):\n",
    "        return self.global_cost(circuit) + self.local_cost(circuit)\n",
    "\n",
    "class GateCountCost(CircuitCost):\n",
    "    def global_cost(self, circuit):\n",
    "        return 0\n",
    "    def local_cost(self, circuit):\n",
    "        #return sum((1 for moment in circuit for op in moment.operations))\n",
    "        return sum((1 for op in circuit.iter_ops()))\n",
    "    \n",
    "class MultiQubitGateCost(CircuitCost):\n",
    "    def global_cost(self, circuit):\n",
    "        return 0\n",
    "    def local_cost(self, circuit):\n",
    "        #return sum((1 for moment in circuit for op in moment.operations if len(op.qubits) >= 2))\n",
    "        return sum((1 for op in circuit.iter_ops() if len(op.qubits) >= 2))"
   ]
  },
  {
   "cell_type": "code",
   "execution_count": 4,
   "metadata": {},
   "outputs": [],
   "source": [
    "class WildcardSymbol(cirq.Symbol):\n",
    "    \"\"\"A Symbol that tests equal to any regular value or symbol\"\"\"\n",
    "    #def __init__(self):\n",
    "    def __eq__(self, other):\n",
    "        if isinstance(other, WildcardSymbol):\n",
    "            return self is other\n",
    "        else:\n",
    "            return True\n",
    "\n",
    "    def __neq__(self, other):\n",
    "        return not self == other\n",
    "\n",
    "class PlaceholderQubit(cirq.QubitId):\n",
    "    \"\"\"A placeholder for some particular qubit.\"\"\"\n",
    "    pass\n",
    "\n",
    "#class OperationPattern(object):\n",
    "#    \"\"\"A description of an operator for some GatePattern.\"\"\"\n",
    "#    pass\n",
    "\n",
    "class GatePattern(cirq.Gate):\n",
    "    \"\"\"A description of a gate with optional unspecified argument values.\"\"\"\n",
    "    def __init__(gate_type, *gate_args, **gate_kwargs) -> None:\n",
    "        \"\"\"Pass WildcardSymbol objects to each unspecified argument.\"\"\"\n",
    "        self.gate_type = gate_type\n",
    "        self.gate_args = gate_args\n",
    "        self.gate_kwargs = gate_kwargs\n",
    "    #def on(self, *qubits: cirq.QubitId) -> cirq.Operation:\n",
    "    #def validate_args(self, qubits: Sequence[QubitId]) -> None:\n",
    "    def matches(self, gate, tolerance=0.):\n",
    "        if tolerance != 0:\n",
    "            raise NotImplementedError\n",
    "        return self == gate\n",
    "        \n",
    "\n",
    "class CircuitPattern(object):\n",
    "    def __init__(self, gate_patterns):\n",
    "        self.gate_patterns = tuple(gate_patterns)\n",
    "    def matches(self, gates, tolerance=0.):\n",
    "        if tolerance != 0:\n",
    "            raise NotImplementedError\n",
    "        if len(gates) != len(self.gate_patterns):\n",
    "            return False\n",
    "        return all((gp.matches(gate) for gp, gate in zip(self.gate_patterns, gates)))\n",
    "\n",
    "\n",
    "class MovementRule(object):\n",
    "    gate_a_match = NotImplemented\n",
    "    gate_b_match = NotImplemented\n",
    "    def can_apply(self, gate_a, gate_b):\n",
    "        pass\n",
    "    def swapped(self, gate_a, gate_b):\n",
    "        raise NotImplementedError\n",
    "    def unswapped(self, gate_a, gate_b):\n",
    "        ..."
   ]
  },
  {
   "cell_type": "code",
   "execution_count": null,
   "metadata": {},
   "outputs": [],
   "source": []
  },
  {
   "cell_type": "code",
   "execution_count": null,
   "metadata": {},
   "outputs": [],
   "source": []
  },
  {
   "cell_type": "code",
   "execution_count": 5,
   "metadata": {},
   "outputs": [],
   "source": [
    "a = cirq.NamedQubit('a')\n",
    "b = cirq.NamedQubit('b')"
   ]
  },
  {
   "cell_type": "code",
   "execution_count": 6,
   "metadata": {},
   "outputs": [],
   "source": [
    "def make_inefficient_circuit(t=0.1, v=0.11):\n",
    "    return cirq.Circuit.from_ops(\n",
    "    #    H(b),\n",
    "    #    CNOT(a, b),\n",
    "    #    H(b),\n",
    "    #    CNOT(a, b),\n",
    "    #    CNOT(b, a),\n",
    "    #    H(a),\n",
    "    #    CNOT(a, b),\n",
    "    #    Z(a)**t, Z(b)**-t,\n",
    "    #    CNOT(a, b),\n",
    "    #    H(a), Z(b)**v,\n",
    "    #    CNOT(a, b),\n",
    "    #    Z(a)**-v, Z(b)**-v,\n",
    "        Y(b)**.5, #H(b),\n",
    "        #CZ(a, b),\n",
    "        #H(a), #H(b),\n",
    "        CNOT(a, b),\n",
    "        Y(b)**-.5,\n",
    "    )"
   ]
  },
  {
   "cell_type": "code",
   "execution_count": 7,
   "metadata": {},
   "outputs": [
    {
     "data": {
      "text/plain": [
       "array([[ 1.+0.j,  0.+0.j,  0.+0.j,  0.+0.j],\n",
       "       [ 0.+0.j,  1.+0.j,  0.+0.j,  0.+0.j],\n",
       "       [ 0.+0.j,  0.+0.j,  1.+0.j,  0.+0.j],\n",
       "       [ 0.+0.j,  0.+0.j,  0.+0.j, -1.+0.j]])"
      ]
     },
     "execution_count": 7,
     "metadata": {},
     "output_type": "execute_result"
    }
   ],
   "source": [
    "circuit = make_inefficient_circuit()\n",
    "circuit.to_unitary_matrix().round(3)"
   ]
  },
  {
   "cell_type": "code",
   "execution_count": 8,
   "metadata": {},
   "outputs": [
    {
     "ename": "AttributeError",
     "evalue": "'Circuit' object has no attribute 'iter_ops'",
     "output_type": "error",
     "traceback": [
      "\u001b[0;31m---------------------------------------------------------------------------\u001b[0m",
      "\u001b[0;31mAttributeError\u001b[0m                            Traceback (most recent call last)",
      "\u001b[0;32m<ipython-input-8-ee9f1c32fc31>\u001b[0m in \u001b[0;36m<module>\u001b[0;34m()\u001b[0m\n\u001b[0;32m----> 1\u001b[0;31m \u001b[0mGateCountCost\u001b[0m\u001b[0;34m(\u001b[0m\u001b[0;34m)\u001b[0m\u001b[0;34m.\u001b[0m\u001b[0mcost\u001b[0m\u001b[0;34m(\u001b[0m\u001b[0mcircuit\u001b[0m\u001b[0;34m)\u001b[0m\u001b[0;34m\u001b[0m\u001b[0m\n\u001b[0m",
      "\u001b[0;32m<ipython-input-3-c3e16d227650>\u001b[0m in \u001b[0;36mcost\u001b[0;34m(self, circuit)\u001b[0m\n\u001b[1;32m      5\u001b[0m         \u001b[0;32mraise\u001b[0m \u001b[0mNotImplementedError\u001b[0m\u001b[0;34m\u001b[0m\u001b[0m\n\u001b[1;32m      6\u001b[0m     \u001b[0;32mdef\u001b[0m \u001b[0mcost\u001b[0m\u001b[0;34m(\u001b[0m\u001b[0mself\u001b[0m\u001b[0;34m,\u001b[0m \u001b[0mcircuit\u001b[0m\u001b[0;34m)\u001b[0m\u001b[0;34m:\u001b[0m\u001b[0;34m\u001b[0m\u001b[0m\n\u001b[0;32m----> 7\u001b[0;31m         \u001b[0;32mreturn\u001b[0m \u001b[0mself\u001b[0m\u001b[0;34m.\u001b[0m\u001b[0mglobal_cost\u001b[0m\u001b[0;34m(\u001b[0m\u001b[0mcircuit\u001b[0m\u001b[0;34m)\u001b[0m \u001b[0;34m+\u001b[0m \u001b[0mself\u001b[0m\u001b[0;34m.\u001b[0m\u001b[0mlocal_cost\u001b[0m\u001b[0;34m(\u001b[0m\u001b[0mcircuit\u001b[0m\u001b[0;34m)\u001b[0m\u001b[0;34m\u001b[0m\u001b[0m\n\u001b[0m\u001b[1;32m      8\u001b[0m \u001b[0;34m\u001b[0m\u001b[0m\n\u001b[1;32m      9\u001b[0m \u001b[0;32mclass\u001b[0m \u001b[0mGateCountCost\u001b[0m\u001b[0;34m(\u001b[0m\u001b[0mCircuitCost\u001b[0m\u001b[0;34m)\u001b[0m\u001b[0;34m:\u001b[0m\u001b[0;34m\u001b[0m\u001b[0m\n",
      "\u001b[0;32m<ipython-input-3-c3e16d227650>\u001b[0m in \u001b[0;36mlocal_cost\u001b[0;34m(self, circuit)\u001b[0m\n\u001b[1;32m     12\u001b[0m     \u001b[0;32mdef\u001b[0m \u001b[0mlocal_cost\u001b[0m\u001b[0;34m(\u001b[0m\u001b[0mself\u001b[0m\u001b[0;34m,\u001b[0m \u001b[0mcircuit\u001b[0m\u001b[0;34m)\u001b[0m\u001b[0;34m:\u001b[0m\u001b[0;34m\u001b[0m\u001b[0m\n\u001b[1;32m     13\u001b[0m         \u001b[0;31m#return sum((1 for moment in circuit for op in moment.operations))\u001b[0m\u001b[0;34m\u001b[0m\u001b[0;34m\u001b[0m\u001b[0m\n\u001b[0;32m---> 14\u001b[0;31m         \u001b[0;32mreturn\u001b[0m \u001b[0msum\u001b[0m\u001b[0;34m(\u001b[0m\u001b[0;34m(\u001b[0m\u001b[0;36m1\u001b[0m \u001b[0;32mfor\u001b[0m \u001b[0mop\u001b[0m \u001b[0;32min\u001b[0m \u001b[0mcircuit\u001b[0m\u001b[0;34m.\u001b[0m\u001b[0miter_ops\u001b[0m\u001b[0;34m(\u001b[0m\u001b[0;34m)\u001b[0m\u001b[0;34m)\u001b[0m\u001b[0;34m)\u001b[0m\u001b[0;34m\u001b[0m\u001b[0m\n\u001b[0m\u001b[1;32m     15\u001b[0m \u001b[0;34m\u001b[0m\u001b[0m\n\u001b[1;32m     16\u001b[0m \u001b[0;32mclass\u001b[0m \u001b[0mMultiQubitGateCost\u001b[0m\u001b[0;34m(\u001b[0m\u001b[0mCircuitCost\u001b[0m\u001b[0;34m)\u001b[0m\u001b[0;34m:\u001b[0m\u001b[0;34m\u001b[0m\u001b[0m\n",
      "\u001b[0;31mAttributeError\u001b[0m: 'Circuit' object has no attribute 'iter_ops'"
     ]
    }
   ],
   "source": [
    "GateCountCost().cost(circuit)"
   ]
  },
  {
   "cell_type": "code",
   "execution_count": 9,
   "metadata": {},
   "outputs": [
    {
     "ename": "AttributeError",
     "evalue": "'Circuit' object has no attribute 'iter_ops'",
     "output_type": "error",
     "traceback": [
      "\u001b[0;31m---------------------------------------------------------------------------\u001b[0m",
      "\u001b[0;31mAttributeError\u001b[0m                            Traceback (most recent call last)",
      "\u001b[0;32m<ipython-input-9-e1b055ae2542>\u001b[0m in \u001b[0;36m<module>\u001b[0;34m()\u001b[0m\n\u001b[0;32m----> 1\u001b[0;31m \u001b[0mMultiQubitGateCost\u001b[0m\u001b[0;34m(\u001b[0m\u001b[0;34m)\u001b[0m\u001b[0;34m.\u001b[0m\u001b[0mcost\u001b[0m\u001b[0;34m(\u001b[0m\u001b[0mcircuit\u001b[0m\u001b[0;34m)\u001b[0m\u001b[0;34m\u001b[0m\u001b[0m\n\u001b[0m",
      "\u001b[0;32m<ipython-input-3-c3e16d227650>\u001b[0m in \u001b[0;36mcost\u001b[0;34m(self, circuit)\u001b[0m\n\u001b[1;32m      5\u001b[0m         \u001b[0;32mraise\u001b[0m \u001b[0mNotImplementedError\u001b[0m\u001b[0;34m\u001b[0m\u001b[0m\n\u001b[1;32m      6\u001b[0m     \u001b[0;32mdef\u001b[0m \u001b[0mcost\u001b[0m\u001b[0;34m(\u001b[0m\u001b[0mself\u001b[0m\u001b[0;34m,\u001b[0m \u001b[0mcircuit\u001b[0m\u001b[0;34m)\u001b[0m\u001b[0;34m:\u001b[0m\u001b[0;34m\u001b[0m\u001b[0m\n\u001b[0;32m----> 7\u001b[0;31m         \u001b[0;32mreturn\u001b[0m \u001b[0mself\u001b[0m\u001b[0;34m.\u001b[0m\u001b[0mglobal_cost\u001b[0m\u001b[0;34m(\u001b[0m\u001b[0mcircuit\u001b[0m\u001b[0;34m)\u001b[0m \u001b[0;34m+\u001b[0m \u001b[0mself\u001b[0m\u001b[0;34m.\u001b[0m\u001b[0mlocal_cost\u001b[0m\u001b[0;34m(\u001b[0m\u001b[0mcircuit\u001b[0m\u001b[0;34m)\u001b[0m\u001b[0;34m\u001b[0m\u001b[0m\n\u001b[0m\u001b[1;32m      8\u001b[0m \u001b[0;34m\u001b[0m\u001b[0m\n\u001b[1;32m      9\u001b[0m \u001b[0;32mclass\u001b[0m \u001b[0mGateCountCost\u001b[0m\u001b[0;34m(\u001b[0m\u001b[0mCircuitCost\u001b[0m\u001b[0;34m)\u001b[0m\u001b[0;34m:\u001b[0m\u001b[0;34m\u001b[0m\u001b[0m\n",
      "\u001b[0;32m<ipython-input-3-c3e16d227650>\u001b[0m in \u001b[0;36mlocal_cost\u001b[0;34m(self, circuit)\u001b[0m\n\u001b[1;32m     19\u001b[0m     \u001b[0;32mdef\u001b[0m \u001b[0mlocal_cost\u001b[0m\u001b[0;34m(\u001b[0m\u001b[0mself\u001b[0m\u001b[0;34m,\u001b[0m \u001b[0mcircuit\u001b[0m\u001b[0;34m)\u001b[0m\u001b[0;34m:\u001b[0m\u001b[0;34m\u001b[0m\u001b[0m\n\u001b[1;32m     20\u001b[0m         \u001b[0;31m#return sum((1 for moment in circuit for op in moment.operations if len(op.qubits) >= 2))\u001b[0m\u001b[0;34m\u001b[0m\u001b[0;34m\u001b[0m\u001b[0m\n\u001b[0;32m---> 21\u001b[0;31m         \u001b[0;32mreturn\u001b[0m \u001b[0msum\u001b[0m\u001b[0;34m(\u001b[0m\u001b[0;34m(\u001b[0m\u001b[0;36m1\u001b[0m \u001b[0;32mfor\u001b[0m \u001b[0mop\u001b[0m \u001b[0;32min\u001b[0m \u001b[0mcircuit\u001b[0m\u001b[0;34m.\u001b[0m\u001b[0miter_ops\u001b[0m\u001b[0;34m(\u001b[0m\u001b[0;34m)\u001b[0m \u001b[0;32mif\u001b[0m \u001b[0mlen\u001b[0m\u001b[0;34m(\u001b[0m\u001b[0mop\u001b[0m\u001b[0;34m.\u001b[0m\u001b[0mqubits\u001b[0m\u001b[0;34m)\u001b[0m \u001b[0;34m>=\u001b[0m \u001b[0;36m2\u001b[0m\u001b[0;34m)\u001b[0m\u001b[0;34m)\u001b[0m\u001b[0;34m\u001b[0m\u001b[0m\n\u001b[0m",
      "\u001b[0;31mAttributeError\u001b[0m: 'Circuit' object has no attribute 'iter_ops'"
     ]
    }
   ],
   "source": [
    "MultiQubitGateCost().cost(circuit)"
   ]
  },
  {
   "cell_type": "code",
   "execution_count": 348,
   "metadata": {},
   "outputs": [],
   "source": [
    "ConvertToXmonGates().optimize_circuit(circuit)\n",
    "MergeRotations().optimize_circuit(circuit)\n",
    "ConvertToXmonGates().optimize_circuit(circuit)"
   ]
  },
  {
   "cell_type": "code",
   "execution_count": 10,
   "metadata": {},
   "outputs": [
    {
     "name": "stdout",
     "output_type": "stream",
     "text": [
      "a b\n",
      "│ │\n",
      "│ Y^0.5\n",
      "│ │\n",
      "@─X\n",
      "│ │\n",
      "│ Y^-0.5\n",
      "│ │\n",
      "\n"
     ]
    }
   ],
   "source": [
    "print(circuit.to_text_diagram(transpose=True))"
   ]
  },
  {
   "cell_type": "code",
   "execution_count": 69,
   "metadata": {},
   "outputs": [
    {
     "name": "stdout",
     "output_type": "stream",
     "text": [
      "a: ───────W(0.375)───\n",
      "\n",
      "b: ───X──────────────\n"
     ]
    }
   ],
   "source": [
    "c2 = circuit[1:3] + circuit[-4:]\n",
    "MergeRotations().optimize_circuit(c2)\n",
    "print(c2)"
   ]
  },
  {
   "cell_type": "code",
   "execution_count": 11,
   "metadata": {},
   "outputs": [
    {
     "data": {
      "text/html": [
       "<pre style=\"overflow: auto; white-space: pre;\">a───────@────────\n",
       "        │\n",
       "b─Y^0.5─X─Y^-0.5─</pre>"
      ],
      "text/plain": [
       "a───────@────────\n",
       "        │\n",
       "b─Y^0.5─X─Y^-0.5─"
      ]
     },
     "execution_count": 11,
     "metadata": {},
     "output_type": "execute_result"
    }
   ],
   "source": [
    "circuit"
   ]
  },
  {
   "cell_type": "code",
   "execution_count": null,
   "metadata": {},
   "outputs": [],
   "source": []
  },
  {
   "cell_type": "code",
   "execution_count": null,
   "metadata": {},
   "outputs": [],
   "source": []
  },
  {
   "cell_type": "code",
   "execution_count": 126,
   "metadata": {},
   "outputs": [
    {
     "name": "stdout",
     "output_type": "stream",
     "text": [
      "q0: ───W(0.406)^-0.5───Z^0.0937─────────────────────@───X^-0.283───@───Y^0.5─────────────Z^-0.134───\n",
      "                                                    │              │\n",
      "q1: ───────────────────W(0.886)^0.195───Z^-0.0937───Z──────────────Z───W(0.0755)^0.195───Z^-0.19────\n"
     ]
    }
   ],
   "source": [
    "mr = unitary_group.rvs(2)\n",
    "m1 = np.eye(2)\n",
    "m0 = np.zeros((2,2))\n",
    "m = np.concatenate([\n",
    "        np.concatenate([m1, m0], 1),\n",
    "        np.concatenate([m0, mr], 1)])\n",
    "\n",
    "g, (a1, a0), (x, y, z), (b1, b0) = cirq.linalg.kak_decomposition(m)\n",
    "\n",
    "q0 = cirq.NamedQubit('q0')\n",
    "q1 = cirq.NamedQubit('q1')\n",
    "circuit = cirq.Circuit.from_ops(\n",
    "    cirq.google.decompositions.two_qubit_matrix_to_native_gates(q0, q1, m, allow_partial_czs=False))\n",
    "MergeRotations().optimize_circuit(circuit)\n",
    "print(circuit)"
   ]
  },
  {
   "cell_type": "code",
   "execution_count": 119,
   "metadata": {},
   "outputs": [
    {
     "data": {
      "text/plain": [
       "0.5748610547900015"
      ]
     },
     "execution_count": 119,
     "metadata": {},
     "output_type": "execute_result"
    }
   ],
   "source": [
    "x"
   ]
  },
  {
   "cell_type": "code",
   "execution_count": 120,
   "metadata": {},
   "outputs": [
    {
     "data": {
      "text/plain": [
       "0.0"
      ]
     },
     "execution_count": 120,
     "metadata": {},
     "output_type": "execute_result"
    }
   ],
   "source": [
    "y"
   ]
  },
  {
   "cell_type": "code",
   "execution_count": 121,
   "metadata": {},
   "outputs": [
    {
     "data": {
      "text/plain": [
       "0.0"
      ]
     },
     "execution_count": 121,
     "metadata": {},
     "output_type": "execute_result"
    }
   ],
   "source": [
    "zmZ.dot(mH)"
   ]
  },
  {
   "cell_type": "code",
   "execution_count": null,
   "metadata": {},
   "outputs": [],
   "source": []
  },
  {
   "cell_type": "code",
   "execution_count": null,
   "metadata": {},
   "outputs": [],
   "source": []
  },
  {
   "cell_type": "code",
   "execution_count": null,
   "metadata": {},
   "outputs": [],
   "source": []
  },
  {
   "cell_type": "code",
   "execution_count": null,
   "metadata": {},
   "outputs": [],
   "source": []
  },
  {
   "cell_type": "code",
   "execution_count": 338,
   "metadata": {},
   "outputs": [],
   "source": [
    "large_circ = loadCircuit('fermionSwap8.pkl')\n",
    "large_circ2 = loadCircuit('fermionSplit8.pkl')"
   ]
  },
  {
   "cell_type": "code",
   "execution_count": 325,
   "metadata": {
    "scrolled": true
   },
   "outputs": [
    {
     "name": "stdout",
     "output_type": "stream",
     "text": [
      "0         1         2         3         4         5         6         7         8\n",
      "│         │         │         │         │         │         │         │         │\n",
      "XXYY^1.91─XXYY      XXYY^0.0──XXYY      XXYY^1.91─XXYY      XXYY^1.91─XXYY      │\n",
      "│         │         │         │         │         │         │         │         │\n",
      "YXXY^0.0──#2        YXXY^0.0──#2        YXXY^0.0──#2        YXXY^0.0──#2        │\n",
      "│         │         │         │         │         │         │         │         │\n",
      "│         │         @^0.076───Z         │         │         │         │         │\n",
      "│         │         │         │         │         │         │         │         │\n",
      "×ᶠ────────×ᶠ        ×ᶠ────────×ᶠ        ×ᶠ────────×ᶠ        ×ᶠ────────×ᶠ        │\n",
      "│         │         │         │         │         │         │         │         │\n",
      "│         XXYY^1.91─XXYY      XXYY^1.91─XXYY      XXYY^1.91─XXYY      XXYY^1.91─XXYY\n",
      "│         │         │         │         │         │         │         │         │\n",
      "│         YXXY^0.0──#2        YXXY^0.0──#2        YXXY^0.0──#2        YXXY^0.0──#2\n",
      "│         │         │         │         │         │         │         │         │\n",
      "│         ×ᶠ────────×ᶠ        ×ᶠ────────×ᶠ        ×ᶠ────────×ᶠ        ×ᶠ────────×ᶠ\n",
      "│         │         │         │         │         │         │         │         │\n",
      "XXYY^0.0──XXYY      XXYY^0.0──XXYY      XXYY^0.0──XXYY      XXYY^0.0──XXYY      │\n",
      "│         │         │         │         │         │         │         │         │\n",
      "YXXY^0.0──#2        YXXY^0.0──#2        YXXY^0.0──#2        YXXY^0.0──#2        │\n",
      "│         │         │         │         │         │         │         │         │\n",
      "@^0.076───Z         @^0.076───Z         @^0.076───Z         @^0.076───Z         │\n",
      "│         │         │         │         │         │         │         │         │\n",
      "×ᶠ────────×ᶠ        ×ᶠ────────×ᶠ        ×ᶠ────────×ᶠ        ×ᶠ────────×ᶠ        │\n",
      "│         │         │         │         │         │         │         │         │\n",
      "│         XXYY^0.0──XXYY      XXYY^0.0──XXYY      XXYY^1.91─XXYY      XXYY^0.0──XXYY\n",
      "│         │         │         │         │         │         │         │         │\n",
      "│         YXXY^0.0──#2        YXXY^0.0──#2        YXXY^0.0──#2        YXXY^0.0──#2\n",
      "│         │         │         │         │         │         │         │         │\n",
      "│         @^0.076───Z         @^0.076───Z         │         │         @^0.076───Z\n",
      "│         │         │         │         │         │         │         │         │\n",
      "│         ×ᶠ────────×ᶠ        ×ᶠ────────×ᶠ        ×ᶠ────────×ᶠ        ×ᶠ────────×ᶠ\n",
      "│         │         │         │         │         │         │         │         │\n",
      "XXYY^1.91─XXYY      XXYY^1.91─XXYY      XXYY^0.0──XXYY      XXYY^0.0──XXYY      │\n",
      "│         │         │         │         │         │         │         │         │\n",
      "YXXY^0.0──#2        YXXY^0.0──#2        YXXY^0.0──#2        YXXY^0.0──#2        │\n",
      "│         │         │         │         │         │         │         │         │\n",
      "│         │         │         │         @^0.076───Z         @^0.076───Z         │\n",
      "│         │         │         │         │         │         │         │         │\n",
      "×ᶠ────────×ᶠ        ×ᶠ────────×ᶠ        ×ᶠ────────×ᶠ        ×ᶠ────────×ᶠ        │\n",
      "│         │         │         │         │         │         │         │         │\n",
      "│         XXYY^0.0──XXYY      XXYY^0.0──XXYY      XXYY^1.91─XXYY      XXYY^0.0──XXYY\n",
      "│         │         │         │         │         │         │         │         │\n",
      "│         YXXY^0.0──#2        YXXY^0.0──#2        YXXY^0.0──#2        YXXY^0.0──#2\n",
      "│         │         │         │         │         │         │         │         │\n",
      "│         @^0.076───Z         @^0.076───Z         │         │         @^0.076───Z\n",
      "│         │         │         │         │         │         │         │         │\n",
      "│         ×ᶠ────────×ᶠ        ×ᶠ────────×ᶠ        ×ᶠ────────×ᶠ        ×ᶠ────────×ᶠ\n",
      "│         │         │         │         │         │         │         │         │\n",
      "XXYY^0.0──XXYY      XXYY^0.0──XXYY      XXYY^0.0──XXYY      XXYY^0.0──XXYY      │\n",
      "│         │         │         │         │         │         │         │         │\n",
      "YXXY^0.0──#2        YXXY^0.0──#2        YXXY^0.0──#2        YXXY^0.0──#2        │\n",
      "│         │         │         │         │         │         │         │         │\n",
      "@^0.076───Z         @^0.076───Z         @^0.076───Z         @^0.076───Z         │\n",
      "│         │         │         │         │         │         │         │         │\n",
      "×ᶠ────────×ᶠ        ×ᶠ────────×ᶠ        ×ᶠ────────×ᶠ        ×ᶠ────────×ᶠ        │\n",
      "│         │         │         │         │         │         │         │         │\n",
      "│         XXYY^1.91─XXYY      XXYY^1.91─XXYY      XXYY^1.91─XXYY      XXYY^1.91─XXYY\n",
      "│         │         │         │         │         │         │         │         │\n",
      "│         YXXY^0.0──#2        YXXY^0.0──#2        YXXY^0.0──#2        YXXY^0.0──#2\n",
      "│         │         │         │         │         │         │         │         │\n",
      "│         ×ᶠ────────×ᶠ        ×ᶠ────────×ᶠ        ×ᶠ────────×ᶠ        ×ᶠ────────×ᶠ\n",
      "│         │         │         │         │         │         │         │         │\n",
      "XXYY^1.91─XXYY      XXYY^0.0──XXYY      XXYY^1.91─XXYY      XXYY^1.91─XXYY      Z^-0.378\n",
      "│         │         │         │         │         │         │         │         │\n",
      "YXXY^0.0──#2        YXXY^0.0──#2        YXXY^0.0──#2        YXXY^0.0──#2        │\n",
      "│         │         │         │         │         │         │         │         │\n",
      "│         │         @^0.076───Z         │         │         │         │         │\n",
      "│         │         │         │         │         │         │         │         │\n",
      "×ᶠ────────×ᶠ        ×ᶠ────────×ᶠ        ×ᶠ────────×ᶠ        ×ᶠ────────×ᶠ        │\n",
      "│         │         │         │         │         │         │         │         │\n",
      "Z^-0.378  Z^-0.378  Z^-0.378  Z^-0.378  Z^-0.378  Z^-0.378  Z^-0.378  Z^-0.378  │\n",
      "│         │         │         │         │         │         │         │         │\n",
      "XXYY^1.91─XXYY      XXYY^0.0──XXYY      XXYY^1.91─XXYY      XXYY^1.91─XXYY      │\n",
      "│         │         │         │         │         │         │         │         │\n",
      "#2^0.0────YXXY      #2^0.0────YXXY      #2^0.0────YXXY      #2^0.0────YXXY      │\n",
      "│         │         │         │         │         │         │         │         │\n",
      "│         │         Z^0.076───@         │         │         │         │         │\n",
      "│         │         │         │         │         │         │         │         │\n",
      "×ᶠ────────×ᶠ        ×ᶠ────────×ᶠ        ×ᶠ────────×ᶠ        ×ᶠ────────×ᶠ        │\n",
      "│         │         │         │         │         │         │         │         │\n",
      "│         XXYY^1.91─XXYY      XXYY^1.91─XXYY      XXYY^1.91─XXYY      XXYY^1.91─XXYY\n",
      "│         │         │         │         │         │         │         │         │\n",
      "│         #2^0.0────YXXY      #2^0.0────YXXY      #2^0.0────YXXY      #2^0.0────YXXY\n",
      "│         │         │         │         │         │         │         │         │\n",
      "│         ×ᶠ────────×ᶠ        ×ᶠ────────×ᶠ        ×ᶠ────────×ᶠ        ×ᶠ────────×ᶠ\n",
      "│         │         │         │         │         │         │         │         │\n",
      "XXYY^0.0──XXYY      XXYY^0.0──XXYY      XXYY^0.0──XXYY      XXYY^0.0──XXYY      │\n",
      "│         │         │         │         │         │         │         │         │\n",
      "#2^0.0────YXXY      #2^0.0────YXXY      #2^0.0────YXXY      #2^0.0────YXXY      │\n",
      "│         │         │         │         │         │         │         │         │\n",
      "Z^0.076───@         Z^0.076───@         Z^0.076───@         Z^0.076───@         │\n",
      "│         │         │         │         │         │         │         │         │\n",
      "×ᶠ────────×ᶠ        ×ᶠ────────×ᶠ        ×ᶠ────────×ᶠ        ×ᶠ────────×ᶠ        │\n",
      "│         │         │         │         │         │         │         │         │\n",
      "│         XXYY^0.0──XXYY      XXYY^0.0──XXYY      XXYY^1.91─XXYY      XXYY^0.0──XXYY\n",
      "│         │         │         │         │         │         │         │         │\n",
      "│         #2^0.0────YXXY      #2^0.0────YXXY      #2^0.0────YXXY      #2^0.0────YXXY\n",
      "│         │         │         │         │         │         │         │         │\n",
      "│         Z^0.076───@         Z^0.076───@         │         │         Z^0.076───@\n",
      "│         │         │         │         │         │         │         │         │\n",
      "│         ×ᶠ────────×ᶠ        ×ᶠ────────×ᶠ        ×ᶠ────────×ᶠ        ×ᶠ────────×ᶠ\n",
      "│         │         │         │         │         │         │         │         │\n",
      "XXYY^1.91─XXYY      XXYY^1.91─XXYY      XXYY^0.0──XXYY      XXYY^0.0──XXYY      │\n",
      "│         │         │         │         │         │         │         │         │\n",
      "#2^0.0────YXXY      #2^0.0────YXXY      #2^0.0────YXXY      #2^0.0────YXXY      │\n",
      "│         │         │         │         │         │         │         │         │\n",
      "│         │         │         │         Z^0.076───@         Z^0.076───@         │\n",
      "│         │         │         │         │         │         │         │         │\n",
      "×ᶠ────────×ᶠ        ×ᶠ────────×ᶠ        ×ᶠ────────×ᶠ        ×ᶠ────────×ᶠ        │\n",
      "│         │         │         │         │         │         │         │         │\n",
      "│         XXYY^0.0──XXYY      XXYY^0.0──XXYY      XXYY^1.91─XXYY      XXYY^0.0──XXYY\n",
      "│         │         │         │         │         │         │         │         │\n",
      "│         #2^0.0────YXXY      #2^0.0────YXXY      #2^0.0────YXXY      #2^0.0────YXXY\n",
      "│         │         │         │         │         │         │         │         │\n",
      "│         Z^0.076───@         Z^0.076───@         │         │         Z^0.076───@\n",
      "│         │         │         │         │         │         │         │         │\n",
      "│         ×ᶠ────────×ᶠ        ×ᶠ────────×ᶠ        ×ᶠ────────×ᶠ        ×ᶠ────────×ᶠ\n",
      "│         │         │         │         │         │         │         │         │\n",
      "XXYY^0.0──XXYY      XXYY^0.0──XXYY      XXYY^0.0──XXYY      XXYY^0.0──XXYY      │\n",
      "│         │         │         │         │         │         │         │         │\n",
      "#2^0.0────YXXY      #2^0.0────YXXY      #2^0.0────YXXY      #2^0.0────YXXY      │\n",
      "│         │         │         │         │         │         │         │         │\n",
      "Z^0.076───@         Z^0.076───@         Z^0.076───@         Z^0.076───@         │\n",
      "│         │         │         │         │         │         │         │         │\n",
      "×ᶠ────────×ᶠ        ×ᶠ────────×ᶠ        ×ᶠ────────×ᶠ        ×ᶠ────────×ᶠ        │\n",
      "│         │         │         │         │         │         │         │         │\n",
      "│         XXYY^1.91─XXYY      XXYY^1.91─XXYY      XXYY^1.91─XXYY      XXYY^1.91─XXYY\n",
      "│         │         │         │         │         │         │         │         │\n",
      "│         #2^0.0────YXXY      #2^0.0────YXXY      #2^0.0────YXXY      #2^0.0────YXXY\n",
      "│         │         │         │         │         │         │         │         │\n",
      "│         ×ᶠ────────×ᶠ        ×ᶠ────────×ᶠ        ×ᶠ────────×ᶠ        ×ᶠ────────×ᶠ\n",
      "│         │         │         │         │         │         │         │         │\n",
      "XXYY^1.91─XXYY      XXYY^0.0──XXYY      XXYY^1.91─XXYY      XXYY^1.91─XXYY      │\n",
      "│         │         │         │         │         │         │         │         │\n",
      "#2^0.0────YXXY      #2^0.0────YXXY      #2^0.0────YXXY      #2^0.0────YXXY      │\n",
      "│         │         │         │         │         │         │         │         │\n",
      "│         │         Z^0.076───@         │         │         │         │         │\n",
      "│         │         │         │         │         │         │         │         │\n",
      "×ᶠ────────×ᶠ        ×ᶠ────────×ᶠ        ×ᶠ────────×ᶠ        ×ᶠ────────×ᶠ        │\n",
      "│         │         │         │         │         │         │         │         │\n",
      "\n"
     ]
    }
   ],
   "source": [
    "print(large_circ.to_text_diagram(transpose=True))"
   ]
  },
  {
   "cell_type": "code",
   "execution_count": 339,
   "metadata": {},
   "outputs": [],
   "source": [
    "ConvertToXmonGates().optimize_circuit(large_circ)"
   ]
  },
  {
   "cell_type": "code",
   "execution_count": 340,
   "metadata": {},
   "outputs": [],
   "source": [
    "ConvertToXmonGates().optimize_circuit(large_circ2)"
   ]
  },
  {
   "cell_type": "code",
   "execution_count": 314,
   "metadata": {},
   "outputs": [],
   "source": [
    "MergeInteractions(allow_partial_czs=True).optimize_circuit(large_circ)"
   ]
  },
  {
   "cell_type": "code",
   "execution_count": 342,
   "metadata": {},
   "outputs": [],
   "source": [
    "MergeInteractions(allow_partial_czs=True).optimize_circuit(large_circ2)"
   ]
  },
  {
   "cell_type": "code",
   "execution_count": 360,
   "metadata": {},
   "outputs": [],
   "source": [
    "EjectZ(tolerance=1e-6).optimize_circuit(large_circ)"
   ]
  },
  {
   "cell_type": "code",
   "execution_count": 361,
   "metadata": {},
   "outputs": [],
   "source": [
    "EjectZ(tolerance=1e-6).optimize_circuit(large_circ2)"
   ]
  },
  {
   "cell_type": "code",
   "execution_count": 362,
   "metadata": {},
   "outputs": [],
   "source": [
    "MergeRotations().optimize_circuit(large_circ)"
   ]
  },
  {
   "cell_type": "code",
   "execution_count": 363,
   "metadata": {},
   "outputs": [],
   "source": [
    "MergeRotations().optimize_circuit(large_circ2)"
   ]
  },
  {
   "cell_type": "code",
   "execution_count": 364,
   "metadata": {},
   "outputs": [
    {
     "name": "stdout",
     "output_type": "stream",
     "text": [
      "1            2               3                4                5               6               7                8\n",
      "│            │               │                │                │               │               │                │\n",
      "W(0.721)^0.5 W(0.372)^-0.5   W(0.618)^-0.5    W(0.893)^0.5     W(0.826)^0.5    W(0.238)^-0.5   W(0.472)^-0.5    W(0.972)^-0.5\n",
      "│            │               │                │                │               │               │                │\n",
      "Z^-0.221     Z^0.128         Z^0.882          Z^-0.393         Z^0.674         Z^0.262         Z^-0.972         Z^0.528\n",
      "│            │               │                │                │               │               │                │\n",
      "│            │               │                │                │               │               @^0.5────────────Z\n",
      "│            │               │                │                │               │               │                │\n",
      "│            │               │                │                │               │               W(0.25)^0.5      W(0.25)^0.5\n",
      "│            │               │                │                │               │               │                │\n",
      "│            │               │                │                │               │               Z^0.25           Z^0.25\n",
      "│            │               │                │                │               │               │                │\n",
      "│            │               │                │                │               │               @^0.5────────────Z\n",
      "│            │               │                │                │               │               │                │\n",
      "│            │               │                │                │               │               W(0.75)^-0.766   W(0.75)^-0.324\n",
      "│            │               │                │                │               │               │                │\n",
      "│            │               │                │                │               │               Z^0.25           Z^0.25\n",
      "│            │               │                │                │               │               │                │\n",
      "│            │               │                │                │               @^0.608─────────Z                │\n",
      "│            │               │                │                │               │               │                │\n",
      "│            │               │                │                │               W(0.304)^0.5    W(0.304)^0.5     │\n",
      "│            │               │                │                │               │               │                │\n",
      "│            │               │                │                │               Z^0.196         Z^0.196          │\n",
      "│            │               │                │                │               │               │                │\n",
      "│            │               │                │                │               @^0.608─────────Z                │\n",
      "│            │               │                │                │               │               │                │\n",
      "│            │               │                │                │               W(0.804)^-0.412 W(0.804)^0.0574  │\n",
      "│            │               │                │                │               │               │                │\n",
      "│            │               │                │                │               Z^-0.804        Z^-0.804         │\n",
      "│            │               │                │                │               │               │                │\n",
      "│            │               │                │                @^0.667─────────Z               @^0.653──────────Z\n",
      "│            │               │                │                │               │               │                │\n",
      "│            │               │                │                W(0.333)^0.5    W(0.333)^0.5    W(0.327)^0.5     W(0.327)^0.5\n",
      "│            │               │                │                │               │               │                │\n",
      "│            │               │                │                Z^0.167         Z^0.167         Z^0.173          Z^0.173\n",
      "│            │               │                │                │               │               │                │\n",
      "│            │               │                │                @^0.667─────────Z               @^0.653──────────Z\n",
      "│            │               │                │                │               │               │                │\n",
      "│            │               │                │                W(0.833)^0.0676 W(0.833)^-0.125 W(0.827)^0.405   W(0.827)^0.121\n",
      "│            │               │                │                │               │               │                │\n",
      "│            │               │                │                Z^0.167         Z^0.167         Z^0.173          Z^-0.827\n",
      "│            │               │                │                │               │               │                │\n",
      "│            │               │                @^0.705──────────Z               @^0.586─────────Z                │\n",
      "│            │               │                │                │               │               │                │\n",
      "│            │               │                W(0.352)^0.5     W(0.352)^0.5    W(0.293)^0.5    W(0.293)^0.5     │\n",
      "│            │               │                │                │               │               │                │\n",
      "│            │               │                Z^0.148          Z^0.148         Z^0.207         Z^0.207          │\n",
      "│            │               │                │                │               │               │                │\n",
      "│            │               │                @^0.705──────────Z               @^0.586─────────Z                │\n",
      "│            │               │                │                │               │               │                │\n",
      "│            │               │                W(0.852)^0.275   W(0.852)^0.648  W(0.793)^0.455  W(0.793)^-0.216  │\n",
      "│            │               │                │                │               │               │                │\n",
      "│            │               │                Z^-0.852         Z^0.148         Z^0.207         Z^0.207          │\n",
      "│            │               │                │                │               │               │                │\n",
      "│            │               @^0.732──────────Z                @^0.41──────────Z               @^0.0814─────────Z\n",
      "│            │               │                │                │               │               │                │\n",
      "│            │               W(0.366)^0.5     W(0.366)^0.5     W(0.205)^0.5    W(0.205)^0.5    W(0.0407)^0.5    W(0.0407)^0.5\n",
      "│            │               │                │                │               │               │                │\n",
      "│            │               Z^0.134          Z^0.134          Z^0.295         Z^0.295         Z^0.459          Z^0.459\n",
      "│            │               │                │                │               │               │                │\n",
      "│            │               @^0.732──────────Z                @^0.41──────────Z               @^0.0814─────────Z\n",
      "│            │               │                │                │               │               │                │\n",
      "│            │               W(0.866)^-0.754  W(0.866)^-0.0534 W(0.705)^-0.574 W(0.705)^0.476  W(0.541)^0.805   W(0.541)^0.0317\n",
      "│            │               │                │                │               │               │                │\n",
      "│            │               Z^0.134          Z^0.134          Z^-0.705        Z^-0.705        Z^-0.541         Z^0.459\n",
      "│            │               │                │                │               │               │                │\n",
      "│            @^0.753─────────Z                @^0.929──────────Z               @^0.953─────────Z                │\n",
      "│            │               │                │                │               │               │                │\n",
      "│            W(0.377)^0.5    W(0.377)^0.5     W(0.465)^0.5     W(0.465)^0.5    W(0.477)^0.5    W(0.477)^0.5     │\n",
      "│            │               │                │                │               │               │                │\n",
      "│            Z^0.123         Z^0.123          Z^0.0354         Z^0.0354        Z^0.0233        Z^0.0233         │\n",
      "│            │               │                │                │               │               │                │\n",
      "│            @^0.753─────────Z                @^0.929──────────Z               @^0.953─────────Z                │\n",
      "│            │               │                │                │               │               │                │\n",
      "│            W(0.877)^-0.651 W(0.877)^-0.0585 W(0.965)^-0.358  W(0.965)^-0.561 W(0.977)^-0.61  W(0.977)^-0.273  │\n",
      "│            │               │                │                │               │               │                │\n",
      "│            Z^0.123         Z^0.123          Z^0.0354         Z^-0.965        Z^-0.977        Z^0.0233         │\n",
      "│            │               │                │                │               │               │                │\n",
      "│            │               @^0.68───────────Z                @^0.701─────────Z               @^0.765──────────Z\n",
      "│            │               │                │                │               │               │                │\n",
      "│            │               W(0.34)^0.5      W(0.34)^0.5      W(0.351)^0.5    W(0.351)^0.5    W(0.383)^0.5     W(0.383)^0.5\n",
      "│            │               │                │                │               │               │                │\n",
      "│            │               Z^0.16           Z^0.16           Z^0.149         Z^0.149         Z^0.117          Z^0.117\n",
      "│            │               │                │                │               │               │                │\n",
      "│            │               @^0.68───────────Z                @^0.701─────────Z               @^0.765──────────Z\n",
      "│            │               │                │                │               │               │                │\n",
      "│            │               W(0.84)^0.433    W(0.84)^0.813    W(0.851)^-0.611 W(0.851)^-0.282 W(0.883)^0.62    W(0.883)^-0.783\n",
      "│            │               │                │                │               │               │                │\n",
      "│            │               Z^-0.84          Z^-0.84          Z^0.149         Z^-0.851        Z^0.117          Z^0.117\n",
      "│            │               │                │                │               │               │                │\n",
      "│            │               │                @^0.739──────────Z               @^0.506─────────Z                │\n",
      "│            │               │                │                │               │               │                │\n",
      "│            │               │                W(0.369)^0.5     W(0.369)^0.5    W(0.253)^0.5    W(0.253)^0.5     │\n",
      "│            │               │                │                │               │               │                │\n",
      "│            │               │                Z^0.131          Z^0.131         Z^0.247         Z^0.247          │\n",
      "│            │               │                │                │               │               │                │\n",
      "│            │               │                @^0.739──────────Z               @^0.506─────────Z                │\n",
      "│            │               │                │                │               │               │                │\n",
      "│            │               │                W(0.869)^0.75    W(0.869)^0.416  W(0.753)^0.256  W(0.753)^-0.0979 │\n",
      "│            │               │                │                │               │               │                │\n",
      "│            │               │                Z^0.131          Z^-0.869        Z^0.247         Z^-0.753         │\n",
      "│            │               │                │                │               │               │                │\n",
      "│            │               │                │                │               │               @^0.629──────────Z\n",
      "│            │               │                │                │               │               │                │\n",
      "│            │               │                │                │               │               W(0.314)^0.5     W(0.314)^0.5\n",
      "│            │               │                │                │               │               │                │\n",
      "│            │               │                │                │               │               Z^0.186          Z^0.186\n",
      "│            │               │                │                │               │               │                │\n",
      "│            │               │                │                │               │               @^0.629──────────Z\n",
      "│            │               │                │                │               │               │                │\n",
      "│            │               │                │                │               │               W(0.814)^0.77    W(0.814)^0.431\n",
      "│            │               │                │                │               │               │                │\n",
      "│            │               │                │                │               │               Z^-0.814         Z^-0.814\n",
      "│            │               │                │                │               │               │                │\n",
      "\n"
     ]
    }
   ],
   "source": [
    "print(cirq.Circuit.from_ops(\n",
    "    large_circ2[:200].iter_ops(),\n",
    "    strategy=cirq.InsertStrategy.EARLIEST\n",
    ").to_text_diagram(transpose=True))"
   ]
  },
  {
   "cell_type": "code",
   "execution_count": 269,
   "metadata": {},
   "outputs": [],
   "source": [
    "#diag = large_circ.to_text_diagram(transpose=True)\n",
    "diag = cirq.Circuit.from_ops(large_circ.iter_ops(), strategy=cirq.InsertStrategy.EARLIEST).to_text_diagram(transpose=True)\n",
    "with open('diagram.txt', 'w') as f:\n",
    "    f.write(diag)"
   ]
  },
  {
   "cell_type": "code",
   "execution_count": 365,
   "metadata": {},
   "outputs": [],
   "source": [
    "#diag = large_circ.to_text_diagram(transpose=True)\n",
    "diag = cirq.Circuit.from_ops(large_circ2.iter_ops(), strategy=cirq.InsertStrategy.EARLIEST).to_text_diagram(transpose=True)\n",
    "with open('diagram2b.txt', 'w') as f:\n",
    "    f.write(diag)"
   ]
  },
  {
   "cell_type": "code",
   "execution_count": 267,
   "metadata": {},
   "outputs": [
    {
     "data": {
      "text/plain": [
       "127"
      ]
     },
     "execution_count": 267,
     "metadata": {},
     "output_type": "execute_result"
    }
   ],
   "source": [
    "len(cirq.Circuit.from_ops(large_circ.iter_ops(), strategy=cirq.InsertStrategy.EARLIEST))"
   ]
  },
  {
   "cell_type": "code",
   "execution_count": 257,
   "metadata": {},
   "outputs": [
    {
     "data": {
      "text/plain": [
       "135"
      ]
     },
     "execution_count": 257,
     "metadata": {},
     "output_type": "execute_result"
    }
   ],
   "source": [
    "len(cirq.Circuit.from_ops(large_circ.iter_ops(), strategy=cirq.InsertStrategy.EARLIEST))"
   ]
  },
  {
   "cell_type": "code",
   "execution_count": 295,
   "metadata": {},
   "outputs": [
    {
     "data": {
      "text/plain": [
       "476"
      ]
     },
     "execution_count": 295,
     "metadata": {},
     "output_type": "execute_result"
    }
   ],
   "source": [
    "len(cirq.Circuit.from_ops(large_circ2.iter_ops(), strategy=cirq.InsertStrategy.EARLIEST))"
   ]
  },
  {
   "cell_type": "code",
   "execution_count": 318,
   "metadata": {},
   "outputs": [
    {
     "data": {
      "text/plain": [
       "431"
      ]
     },
     "execution_count": 318,
     "metadata": {},
     "output_type": "execute_result"
    }
   ],
   "source": [
    "len(cirq.Circuit.from_ops(large_circ2.iter_ops(), strategy=cirq.InsertStrategy.EARLIEST))"
   ]
  },
  {
   "cell_type": "code",
   "execution_count": 149,
   "metadata": {},
   "outputs": [],
   "source": [
    "MergeInteractions().optimize_circuit(large_circ)\n",
    "MergeRotations().optimize_circuit(large_circ)"
   ]
  },
  {
   "cell_type": "code",
   "execution_count": null,
   "metadata": {},
   "outputs": [],
   "source": []
  },
  {
   "cell_type": "code",
   "execution_count": null,
   "metadata": {},
   "outputs": [],
   "source": []
  },
  {
   "cell_type": "code",
   "execution_count": null,
   "metadata": {},
   "outputs": [],
   "source": []
  },
  {
   "cell_type": "code",
   "execution_count": null,
   "metadata": {},
   "outputs": [],
   "source": []
  },
  {
   "cell_type": "code",
   "execution_count": null,
   "metadata": {},
   "outputs": [],
   "source": []
  }
 ],
 "metadata": {
  "kernelspec": {
   "display_name": "Python 3",
   "language": "python",
   "name": "python3"
  },
  "language_info": {
   "codemirror_mode": {
    "name": "ipython",
    "version": 3
   },
   "file_extension": ".py",
   "mimetype": "text/x-python",
   "name": "python",
   "nbconvert_exporter": "python",
   "pygments_lexer": "ipython3",
   "version": "3.5.3"
  }
 },
 "nbformat": 4,
 "nbformat_minor": 2
}
