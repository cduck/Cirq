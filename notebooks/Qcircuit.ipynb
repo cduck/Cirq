{
 "cells": [
  {
   "cell_type": "code",
   "execution_count": 30,
   "metadata": {},
   "outputs": [],
   "source": [
    "import cirq\n",
    "from cirq.contrib import paulistring\n",
    "from cirq.contrib import qcircuit\n",
    "from cirq.contrib.qcircuit.qcircuit_pdf import circuit_to_pdf_using_qcircuit_via_tex"
   ]
  },
  {
   "cell_type": "code",
   "execution_count": 2,
   "metadata": {},
   "outputs": [],
   "source": []
  },
  {
   "cell_type": "code",
   "execution_count": 3,
   "metadata": {},
   "outputs": [],
   "source": [
    "def ops_to_matrix(*ops):\n",
    "    c = cirq.Circuit.from_ops(*ops)\n",
    "    return c.to_unitary_matrix()\n",
    "q0 = cirq.NamedQubit('q0')\n",
    "q1 = cirq.NamedQubit('q1')\n",
    "q2 = cirq.NamedQubit('q2')\n",
    "q3 = cirq.NamedQubit('q3')\n",
    "q4 = cirq.NamedQubit('q4')\n",
    "q5 = cirq.NamedQubit('q5')"
   ]
  },
  {
   "cell_type": "code",
   "execution_count": 4,
   "metadata": {},
   "outputs": [
    {
     "data": {
      "text/html": [
       "<pre style=\"overflow: auto; white-space: pre;\">q0: ───@───@───\n",
       "       │   │\n",
       "q1: ───@───@───\n",
       "       │   │\n",
       "q2: ───X───X───</pre>"
      ],
      "text/plain": [
       "q0: ───@───@───\n",
       "       │   │\n",
       "q1: ───@───@───\n",
       "       │   │\n",
       "q2: ───X───X───"
      ]
     },
     "execution_count": 4,
     "metadata": {},
     "output_type": "execute_result"
    }
   ],
   "source": [
    "circuit = cirq.Circuit.from_ops(\n",
    "    cirq.TOFFOLI(q0, q1, q2),\n",
    "    cirq.TOFFOLI(q0, q1, q2),\n",
    "    #cirq.TOFFOLI(q0, q1, q2),\n",
    "    #cirq.TOFFOLI(q0, q1, q2),\n",
    ")\n",
    "circuit"
   ]
  },
  {
   "cell_type": "code",
   "execution_count": null,
   "metadata": {},
   "outputs": [],
   "source": []
  },
  {
   "cell_type": "code",
   "execution_count": 5,
   "metadata": {
    "scrolled": true
   },
   "outputs": [
    {
     "data": {
      "text/html": [
       "<pre style=\"overflow: auto; white-space: pre;\">q0: ───@────────────────────────@────────────────────────@─────────────────────────────────@───Z^-0.5────────────────────────\n",
       "       │                        │                        │                                 │\n",
       "q1: ───@───X^0.5───@───X^-0.5───@───X^0.5───@───X^0.5────@───X^-0.5───@───(Z^-0.5-X^0.5)───@───X^-0.5───@───(Z^0.5-X^-0.5)───\n",
       "                   │                        │                         │                                 │\n",
       "q2: ───────────────@───X^-0.5───────────────@───X^-0.5────────────────@───X^0.5─────────────────────────@───X^0.5────────────</pre>"
      ],
      "text/plain": [
       "q0: ───@────────────────────────@────────────────────────@─────────────────────────────────@───Z^-0.5────────────────────────\n",
       "       │                        │                        │                                 │\n",
       "q1: ───@───X^0.5───@───X^-0.5───@───X^0.5───@───X^0.5────@───X^-0.5───@───(Z^-0.5-X^0.5)───@───X^-0.5───@───(Z^0.5-X^-0.5)───\n",
       "                   │                        │                         │                                 │\n",
       "q2: ───────────────@───X^-0.5───────────────@───X^-0.5────────────────@───X^0.5─────────────────────────@───X^0.5────────────"
      ]
     },
     "execution_count": 5,
     "metadata": {},
     "output_type": "execute_result"
    }
   ],
   "source": [
    "c = paulistring.optimized_circuit(circuit)\n",
    "c"
   ]
  },
  {
   "cell_type": "code",
   "execution_count": 6,
   "metadata": {
    "scrolled": true
   },
   "outputs": [
    {
     "data": {
      "text/html": [
       "<pre style=\"overflow: auto; white-space: pre;\">q0: ───@─────────────────────────@────────────────────────@─────────────────────────────────@───Z^0.5────────────────────────\n",
       "       │                         │                        │                                 │\n",
       "q1: ───@───X^-0.5───@───X^-0.5───@───X^0.5───@───X^0.5────@───X^-0.5───@───(Z^-0.5-X^0.5)───@───X^0.5───@───(Z^0.5-X^-0.5)───\n",
       "                    │                        │                         │                                │\n",
       "q2: ────────────────@───X^-0.5───────────────@───X^-0.5────────────────@───X^-0.5───────────────────────@───(Y-X^0.5)────────</pre>"
      ],
      "text/plain": [
       "q0: ───@─────────────────────────@────────────────────────@─────────────────────────────────@───Z^0.5────────────────────────\n",
       "       │                         │                        │                                 │\n",
       "q1: ───@───X^-0.5───@───X^-0.5───@───X^0.5───@───X^0.5────@───X^-0.5───@───(Z^-0.5-X^0.5)───@───X^0.5───@───(Z^0.5-X^-0.5)───\n",
       "                    │                        │                         │                                │\n",
       "q2: ────────────────@───X^-0.5───────────────@───X^-0.5────────────────@───X^-0.5───────────────────────@───(Y-X^0.5)────────"
      ]
     },
     "execution_count": 6,
     "metadata": {},
     "output_type": "execute_result"
    }
   ],
   "source": [
    "cx = paulistring.optimized_circuit(cirq.google.optimized_for_xmon(circuit))\n",
    "cx"
   ]
  },
  {
   "cell_type": "code",
   "execution_count": 8,
   "metadata": {},
   "outputs": [
    {
     "data": {
      "text/html": [
       "<pre style=\"overflow: auto; white-space: pre;\"></pre>"
      ],
      "text/plain": []
     },
     "execution_count": 8,
     "metadata": {},
     "output_type": "execute_result"
    }
   ],
   "source": [
    "sd = paulistring.pauli_string_dag_from_circuit(\n",
    "paulistring.convert_and_separate_circuit(cx, leave_cliffords=True)[0])\n",
    "paulistring.pauli_string_optimize.merge_equal_strings(sd)\n",
    "sd.to_circuit()"
   ]
  },
  {
   "cell_type": "code",
   "execution_count": null,
   "metadata": {},
   "outputs": [],
   "source": []
  },
  {
   "cell_type": "code",
   "execution_count": null,
   "metadata": {},
   "outputs": [],
   "source": []
  },
  {
   "cell_type": "code",
   "execution_count": 25,
   "metadata": {
    "scrolled": true
   },
   "outputs": [
    {
     "name": "stdout",
     "output_type": "stream",
     "text": [
      "(0, 0)───(0, 1)───(0, 2)\n",
      "│        │        │\n",
      "│        │        │\n",
      "(1, 0)───(1, 1)───(1, 2)\n",
      "│        │        │\n",
      "│        │        │\n",
      "(2, 0)───(2, 1)───(2, 2)\n"
     ]
    }
   ],
   "source": [
    "device = cirq.google.XmonDevice(\n",
    "            measurement_duration=cirq.google.Bristlecone._measurement_duration,\n",
    "            exp_w_duration=cirq.google.Bristlecone._exp_w_duration,\n",
    "            exp_11_duration=cirq.google.Bristlecone._exp_z_duration,\n",
    "            qubits=cirq.google.known_devices._parse_device(\"\"\"\n",
    "ABC\n",
    "ABC\n",
    "ABC\n",
    "\"\"\")[0])\n",
    "print(device)"
   ]
  },
  {
   "cell_type": "code",
   "execution_count": null,
   "metadata": {},
   "outputs": [],
   "source": []
  },
  {
   "cell_type": "code",
   "execution_count": 29,
   "metadata": {},
   "outputs": [
    {
     "data": {
      "text/plain": [
       "'\\\\Qcircuit @R=1em @C=0.75em { \\\\\\\\ \\n \\\\lstick{\\\\text{(0, 0)}}& \\\\qw & \\\\gate{\\\\text{×}} \\\\qw &\\\\qw &\\\\qw &\\\\qw &\\\\qw &\\\\qw &\\\\qw &\\\\qw &\\\\qw &\\\\qw &\\\\qw &\\\\qw &\\\\qw &\\\\qw & \\\\gate{\\\\text{×}} \\\\qw & \\\\control \\\\qw &\\\\qw & \\\\control \\\\qw &\\\\qw\\\\\\\\\\n \\\\lstick{\\\\text{(0, 1)}}& \\\\qw &\\\\qw \\\\qwx &\\\\qw &\\\\qw &\\\\qw &\\\\qw &\\\\qw & \\\\targ \\\\qw & \\\\gate{\\\\text{T}} \\\\qw & \\\\targ \\\\qw &\\\\qw &\\\\qw &\\\\qw &\\\\qw &\\\\qw &\\\\qw \\\\qwx & \\\\targ \\\\qw \\\\qwx & \\\\gate{\\\\text{T}} \\\\qw & \\\\targ \\\\qw \\\\qwx &\\\\qw\\\\\\\\\\n \\\\lstick{\\\\text{(0, 2)}}& \\\\qw &\\\\qw \\\\qwx &\\\\qw &\\\\qw &\\\\qw &\\\\qw & \\\\gate{\\\\text{×}} \\\\qw & \\\\control \\\\qw \\\\qwx &\\\\qw & \\\\control \\\\qw \\\\qwx & \\\\gate{\\\\text{×}} \\\\qw &\\\\qw &\\\\qw &\\\\qw &\\\\qw &\\\\qw \\\\qwx &\\\\qw &\\\\qw &\\\\qw &\\\\qw\\\\\\\\\\n \\\\lstick{\\\\text{(1, 0)}}& \\\\qw & \\\\gate{\\\\text{×}} \\\\qw \\\\qwx & \\\\gate{\\\\text{×}} \\\\qw &\\\\qw &\\\\qw &\\\\qw &\\\\qw \\\\qwx &\\\\qw &\\\\qw &\\\\qw &\\\\qw \\\\qwx &\\\\qw &\\\\qw &\\\\qw & \\\\gate{\\\\text{×}} \\\\qw & \\\\gate{\\\\text{×}} \\\\qw \\\\qwx &\\\\qw &\\\\qw &\\\\qw &\\\\qw\\\\\\\\\\n \\\\lstick{\\\\text{(1, 2)}}& \\\\qw &\\\\qw &\\\\qw \\\\qwx &\\\\qw &\\\\qw & \\\\gate{\\\\text{×}} \\\\qw & \\\\gate{\\\\text{×}} \\\\qw \\\\qwx &\\\\qw &\\\\qw &\\\\qw & \\\\gate{\\\\text{×}} \\\\qw \\\\qwx & \\\\gate{\\\\text{×}} \\\\qw &\\\\qw &\\\\qw &\\\\qw \\\\qwx &\\\\qw &\\\\qw &\\\\qw &\\\\qw &\\\\qw\\\\\\\\\\n \\\\lstick{\\\\text{(2, 0)}}& \\\\qw &\\\\qw & \\\\gate{\\\\text{×}} \\\\qw \\\\qwx & \\\\multigate{1}{\\\\text{SWAP}} \\\\qw &\\\\qw &\\\\qw \\\\qwx &\\\\qw &\\\\qw &\\\\qw &\\\\qw &\\\\qw &\\\\qw \\\\qwx &\\\\qw & \\\\multigate{1}{\\\\text{SWAP}} \\\\qw & \\\\gate{\\\\text{×}} \\\\qw \\\\qwx &\\\\qw &\\\\qw &\\\\qw &\\\\qw &\\\\qw\\\\\\\\\\n \\\\lstick{\\\\text{(2, 1)}}& \\\\qw &\\\\qw &\\\\qw & \\\\ghost{\\\\text{SWAP}} \\\\qw & \\\\multigate{1}{\\\\text{SWAP}} \\\\qw &\\\\qw \\\\qwx &\\\\qw &\\\\qw &\\\\qw &\\\\qw &\\\\qw &\\\\qw \\\\qwx & \\\\multigate{1}{\\\\text{SWAP}} \\\\qw & \\\\ghost{\\\\text{SWAP}} \\\\qw &\\\\qw &\\\\qw &\\\\qw &\\\\qw &\\\\qw &\\\\qw\\\\\\\\\\n \\\\lstick{\\\\text{(2, 2)}}& \\\\qw &\\\\qw &\\\\qw &\\\\qw & \\\\ghost{\\\\text{SWAP}} \\\\qw & \\\\gate{\\\\text{×}} \\\\qw \\\\qwx &\\\\qw &\\\\qw &\\\\qw &\\\\qw &\\\\qw & \\\\gate{\\\\text{×}} \\\\qw \\\\qwx & \\\\ghost{\\\\text{SWAP}} \\\\qw &\\\\qw &\\\\qw &\\\\qw &\\\\qw &\\\\qw &\\\\qw &\\\\qw \\\\\\\\ \\n \\\\\\\\ }'"
      ]
     },
     "execution_count": 29,
     "metadata": {},
     "output_type": "execute_result"
    }
   ],
   "source": [
    "qcircuit.circuit_to_latex_using_qcircuit(c)"
   ]
  },
  {
   "cell_type": "code",
   "execution_count": 31,
   "metadata": {},
   "outputs": [],
   "source": [
    "circuit_to_pdf_using_qcircuit_via_tex(c, 'test.pdf', )"
   ]
  },
  {
   "cell_type": "code",
   "execution_count": null,
   "metadata": {},
   "outputs": [],
   "source": []
  },
  {
   "cell_type": "code",
   "execution_count": null,
   "metadata": {},
   "outputs": [],
   "source": []
  },
  {
   "cell_type": "code",
   "execution_count": 18,
   "metadata": {},
   "outputs": [
    {
     "name": "stdout",
     "output_type": "stream",
     "text": [
      "(0, 0): ───×───────────────────────────────────────────────────────×───@───────@───\n",
      "           │                                                       │   │       │\n",
      "(1, 0): ───×───×───────────────────────────────────────────────×───×───┼───────┼───\n",
      "               │                                               │       │       │\n",
      "(2, 0): ───────×───×───────────────────────────────────────×───×───────┼───────┼───\n",
      "                   │                                       │           │       │\n",
      "(2, 1): ───────────×───×───────────────────────────────×───×───────────┼───────┼───\n",
      "                       │                               │               │       │\n",
      "(2, 2): ───────────────×───×───────────────────────×───×───────────────┼───────┼───\n",
      "                           │                       │                   │       │\n",
      "(1, 2): ───────────────────×───×───────────────×───×───────────────────┼───────┼───\n",
      "                               │               │                       │       │\n",
      "(0, 2): ───────────────────────×───@───────@───×───────────────────────┼───────┼───\n",
      "                                   │       │                           │       │\n",
      "(0, 1): ───────────────────────────X───T───X───────────────────────────X───T───X───\n"
     ]
    }
   ],
   "source": [
    "q00 = cirq.GridQubit(0, 0)\n",
    "q01 = cirq.GridQubit(0, 1)\n",
    "q02 = cirq.GridQubit(0, 2)\n",
    "q10 = cirq.GridQubit(1, 0)\n",
    "q11 = cirq.GridQubit(1, 1)\n",
    "q12 = cirq.GridQubit(1, 2)\n",
    "q20 = cirq.GridQubit(2, 0)\n",
    "q21 = cirq.GridQubit(2, 1)\n",
    "q22 = cirq.GridQubit(2, 2)\n",
    "c = cirq.Circuit.from_ops(\n",
    "    #cirq.CNOT(q0, q5), #cirq.T(q5), cirq.CNOT(q0, q5),\n",
    "    cirq.SWAP(q00, q10),\n",
    "    cirq.SWAP(q10, q20),\n",
    "    cirq.SWAP(q20, q21),\n",
    "    cirq.SWAP(q21, q22),\n",
    "    cirq.SWAP(q22, q12),\n",
    "    cirq.SWAP(q12, q02),\n",
    "    cirq.CNOT(q02, q01), cirq.Z(q01)**0.25, cirq.CNOT(q02, q01),\n",
    "    cirq.SWAP(q12, q02),\n",
    "    cirq.SWAP(q22, q12),\n",
    "    cirq.SWAP(q21, q22),\n",
    "    cirq.SWAP(q20, q21),\n",
    "    cirq.SWAP(q10, q20),\n",
    "    cirq.SWAP(q00, q10),\n",
    "    \n",
    "    cirq.CNOT(q00, q01), cirq.T(q01), cirq.CNOT(q00, q01),\n",
    ")\n",
    "s = c.to_text_diagram(qubit_order=(q00, q10, q20, q21, q22, q12, q02,\n",
    "                               q01))\n",
    "print(s)"
   ]
  },
  {
   "cell_type": "code",
   "execution_count": 19,
   "metadata": {},
   "outputs": [
    {
     "data": {
      "text/html": [
       "<pre style=\"overflow: auto; white-space: pre;\">(0, 0): ───@───Z^0.5───\n",
       "           │\n",
       "(0, 1): ───@───Z^0.5───</pre>"
      ],
      "text/plain": [
       "(0, 0): ───@───Z^0.5───\n",
       "           │\n",
       "(0, 1): ───@───Z^0.5───"
      ]
     },
     "execution_count": 19,
     "metadata": {},
     "output_type": "execute_result"
    }
   ],
   "source": [
    "paulistring.optimized_circuit(c)"
   ]
  },
  {
   "cell_type": "code",
   "execution_count": null,
   "metadata": {},
   "outputs": [],
   "source": []
  },
  {
   "cell_type": "code",
   "execution_count": null,
   "metadata": {},
   "outputs": [],
   "source": []
  },
  {
   "cell_type": "code",
   "execution_count": null,
   "metadata": {},
   "outputs": [],
   "source": []
  }
 ],
 "metadata": {
  "kernelspec": {
   "display_name": "Python 3",
   "language": "python",
   "name": "python3"
  },
  "language_info": {
   "codemirror_mode": {
    "name": "ipython",
    "version": 3
   },
   "file_extension": ".py",
   "mimetype": "text/x-python",
   "name": "python",
   "nbconvert_exporter": "python",
   "pygments_lexer": "ipython3",
   "version": "3.5.3"
  }
 },
 "nbformat": 4,
 "nbformat_minor": 2
}
