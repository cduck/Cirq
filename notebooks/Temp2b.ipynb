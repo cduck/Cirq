{
 "cells": [
  {
   "cell_type": "code",
   "execution_count": 1,
   "metadata": {},
   "outputs": [],
   "source": [
    "import itertools\n",
    "from typing import (Any, Dict, FrozenSet, Hashable, ItemsView, Iterator, Iterable,\n",
    "                    KeysView, List, Mapping, NamedTuple, Optional,\n",
    "                    Sequence, Tuple, Union, ValuesView, cast)\n",
    "\n",
    "import numpy as np\n",
    "import networkx\n",
    "\n",
    "from cirq import ops, abc, value, extension, linalg, circuits\n",
    "import cirq\n",
    "\n",
    "from cirq import Pauli, CliffordGate, PauliInteractionGate, PauliString\n",
    "from cirq.contrib.paulistring import PauliStringPhasor\n",
    "from cirq.contrib.paulistring import (\n",
    "    converted_gate_set, convert_and_separate_circuit, pauli_string_reorder_pred,\n",
    "    move_non_clifford_into_clifford,\n",
    "    pauli_string_dag_from_circuit\n",
    ")\n",
    "from cirq.contrib.paulistring.pauli_string_optimize import (\n",
    "    optimized_circuit,\n",
    "    \n",
    "    merge_equal_strings,\n",
    "    remove_negligible_strings,\n",
    "    extract_clifford_strings,\n",
    "    move_clifford_strings_into_clifford,\n",
    ")"
   ]
  },
  {
   "cell_type": "code",
   "execution_count": 2,
   "metadata": {},
   "outputs": [],
   "source": [
    "def ops_to_matrix(*ops):\n",
    "    c = cirq.Circuit.from_ops(*ops)\n",
    "    return c.to_unitary_matrix()\n",
    "q0 = cirq.NamedQubit('q0')\n",
    "q1 = cirq.NamedQubit('q1')\n",
    "q2 = cirq.NamedQubit('q2')"
   ]
  },
  {
   "cell_type": "code",
   "execution_count": null,
   "metadata": {},
   "outputs": [],
   "source": []
  },
  {
   "cell_type": "code",
   "execution_count": 8,
   "metadata": {},
   "outputs": [
    {
     "data": {
      "text/html": [
       "<pre style=\"overflow: auto; white-space: pre;\">0: ────────────────────────────────────────────────────────────@────────────────────────────────────────@──────────────────────────────────────────────────────────────────────────────@──────────────────────────@───T──────────────────────────\n",
       "                                                               │                                        │                                                                              │                          │\n",
       "1: ───W(0.155)^0.5───@───W(0.155)^-0.5───@───W(0.906)^-0.522───@───W(0.428)^0.25───@───W(0.428)^-0.25───@───W(0.928)^0.5───@───W(0.928)^-0.5───@───W(0.928)^-0.5───@───W(0.178)^-0.5───@──────────W(0.678)^0.25───@───W(0.178)^-0.5───Z^-0.678───\n",
       "                     │                   │                                         │                                       │                   │                   │\n",
       "2: ───W(0.469)^0.5───@───W(0.469)^-0.5───@───W(0.469)^0.5──────────────────────────@───W(0.813)^0.5────────────────────────@───W(0.813)^-0.5───@───W(0.813)^0.5────@───W(0.313)^0.25───Z^-0.313──────────────────────────────────────────────────</pre>"
      ],
      "text/plain": [
       "0: ────────────────────────────────────────────────────────────@────────────────────────────────────────@──────────────────────────────────────────────────────────────────────────────@──────────────────────────@───T──────────────────────────\n",
       "                                                               │                                        │                                                                              │                          │\n",
       "1: ───W(0.155)^0.5───@───W(0.155)^-0.5───@───W(0.906)^-0.522───@───W(0.428)^0.25───@───W(0.428)^-0.25───@───W(0.928)^0.5───@───W(0.928)^-0.5───@───W(0.928)^-0.5───@───W(0.178)^-0.5───@──────────W(0.678)^0.25───@───W(0.178)^-0.5───Z^-0.678───\n",
       "                     │                   │                                         │                                       │                   │                   │\n",
       "2: ───W(0.469)^0.5───@───W(0.469)^-0.5───@───W(0.469)^0.5──────────────────────────@───W(0.813)^0.5────────────────────────@───W(0.813)^-0.5───@───W(0.813)^0.5────@───W(0.313)^0.25───Z^-0.313──────────────────────────────────────────────────"
      ]
     },
     "execution_count": 8,
     "metadata": {},
     "output_type": "execute_result"
    }
   ],
   "source": [
    "c = cirq.testing.nonoptimal_toffoli_circuit()\n",
    "c = cirq.google.optimized_for_xmon(c)\n",
    "c = cirq.google.optimized_for_xmon(c)\n",
    "c"
   ]
  },
  {
   "cell_type": "code",
   "execution_count": 9,
   "metadata": {},
   "outputs": [
    {
     "data": {
      "text/html": [
       "<pre style=\"overflow: auto; white-space: pre;\">0: ───────────────────────────────────────@──────────────────────────@────────────────────────────────────────────────────────@───────────────────────@───Z^0.25─────────────────\n",
       "                                          │                          │                                                        │                       │\n",
       "1: ───X^0.5────@───X^0.5────@───X^-0.25───@───X^0.75───@───X^-0.75───@───X^-0.5───@───X^0.5────@───X^-0.5───@───W(0.75)^0.5───@────────W(0.25)^0.25───@───W(0.75)^0.5───Z^0.75───\n",
       "               │            │                          │                          │            │            │\n",
       "2: ───X^-0.5───@───X^-0.5───@───X^-0.5─────────────────@───X^-0.5─────────────────@───X^-0.5───@───X^-0.5───@───X^-0.25───────Z^-1.0─────────────────────────────────────────────</pre>"
      ],
      "text/plain": [
       "0: ───────────────────────────────────────@──────────────────────────@────────────────────────────────────────────────────────@───────────────────────@───Z^0.25─────────────────\n",
       "                                          │                          │                                                        │                       │\n",
       "1: ───X^0.5────@───X^0.5────@───X^-0.25───@───X^0.75───@───X^-0.75───@───X^-0.5───@───X^0.5────@───X^-0.5───@───W(0.75)^0.5───@────────W(0.25)^0.25───@───W(0.75)^0.5───Z^0.75───\n",
       "               │            │                          │                          │            │            │\n",
       "2: ───X^-0.5───@───X^-0.5───@───X^-0.5─────────────────@───X^-0.5─────────────────@───X^-0.5───@───X^-0.5───@───X^-0.25───────Z^-1.0─────────────────────────────────────────────"
      ]
     },
     "execution_count": 9,
     "metadata": {},
     "output_type": "execute_result"
    }
   ],
   "source": [
    "c_opt = optimized_circuit(c)\n",
    "c_opt"
   ]
  },
  {
   "cell_type": "code",
   "execution_count": 6,
   "metadata": {},
   "outputs": [],
   "source": [
    "cirq.testing.assert_allclose_up_to_global_phase(\n",
    "    c.to_unitary_matrix(),\n",
    "    c_opt.to_unitary_matrix(),\n",
    "    atol=1e-7,\n",
    ")"
   ]
  },
  {
   "cell_type": "code",
   "execution_count": 16,
   "metadata": {},
   "outputs": [
    {
     "ename": "TypeError",
     "evalue": "unsupported operand type(s) for *: 'Symbol' and 'int'",
     "output_type": "error",
     "traceback": [
      "\u001b[0;31m---------------------------------------------------------------------------\u001b[0m",
      "\u001b[0;31mTypeError\u001b[0m                                 Traceback (most recent call last)",
      "\u001b[0;32m<ipython-input-16-4efc73382027>\u001b[0m in \u001b[0;36m<module>\u001b[0;34m()\u001b[0m\n\u001b[0;32m----> 1\u001b[0;31m \u001b[0mcirq\u001b[0m\u001b[0;34m.\u001b[0m\u001b[0mSymbol\u001b[0m\u001b[0;34m(\u001b[0m\u001b[0;34m'a'\u001b[0m\u001b[0;34m)\u001b[0m \u001b[0;34m*\u001b[0m \u001b[0;36m1\u001b[0m\u001b[0;34m\u001b[0m\u001b[0m\n\u001b[0m",
      "\u001b[0;31mTypeError\u001b[0m: unsupported operand type(s) for *: 'Symbol' and 'int'"
     ]
    }
   ],
   "source": [
    "cirq.Symbol('a') * 1"
   ]
  },
  {
   "cell_type": "code",
   "execution_count": null,
   "metadata": {},
   "outputs": [],
   "source": [
    "cirq.Symbol.__"
   ]
  },
  {
   "cell_type": "code",
   "execution_count": 17,
   "metadata": {},
   "outputs": [
    {
     "data": {
      "text/plain": [
       "cirq.devices.device.Device"
      ]
     },
     "execution_count": 17,
     "metadata": {},
     "output_type": "execute_result"
    }
   ],
   "source": [
    "cirq.Un"
   ]
  },
  {
   "cell_type": "code",
   "execution_count": 18,
   "metadata": {},
   "outputs": [
    {
     "data": {
      "text/plain": [
       "cirq.devices.device.Device"
      ]
     },
     "execution_count": 18,
     "metadata": {},
     "output_type": "execute_result"
    }
   ],
   "source": [
    "cirq.devices.UnconstrainedDevice"
   ]
  },
  {
   "cell_type": "code",
   "execution_count": null,
   "metadata": {},
   "outputs": [],
   "source": []
  },
  {
   "cell_type": "code",
   "execution_count": null,
   "metadata": {},
   "outputs": [],
   "source": []
  },
  {
   "cell_type": "code",
   "execution_count": null,
   "metadata": {},
   "outputs": [],
   "source": [
    "c_conv = converted_gate_set(c)\n",
    "c_conv"
   ]
  },
  {
   "cell_type": "code",
   "execution_count": null,
   "metadata": {},
   "outputs": [],
   "source": [
    "ops.SingleQubitMatrixGate"
   ]
  },
  {
   "cell_type": "code",
   "execution_count": null,
   "metadata": {},
   "outputs": [],
   "source": [
    "cl, cr = convert_and_separate_circuit(c)\n",
    "display(cl)\n",
    "display(cr)"
   ]
  },
  {
   "cell_type": "code",
   "execution_count": null,
   "metadata": {},
   "outputs": [],
   "source": [
    "cirq.testing.assert_allclose_up_to_global_phase(\n",
    "    c.to_unitary_matrix(),\n",
    "    (cl+cr).to_unitary_matrix(),\n",
    "    atol=1e-7,\n",
    ")"
   ]
  },
  {
   "cell_type": "code",
   "execution_count": null,
   "metadata": {},
   "outputs": [],
   "source": []
  },
  {
   "cell_type": "code",
   "execution_count": null,
   "metadata": {},
   "outputs": [],
   "source": [
    "string_dag = pauli_string_dag_from_circuit(cl)\n",
    "len(string_dag)"
   ]
  },
  {
   "cell_type": "code",
   "execution_count": null,
   "metadata": {},
   "outputs": [],
   "source": [
    "d2 = networkx.dag.transitive_reduction(string_dag)"
   ]
  },
  {
   "cell_type": "code",
   "execution_count": null,
   "metadata": {},
   "outputs": [],
   "source": [
    "merge_equal_strings(string_dag)\n",
    "len(string_dag.nodes)"
   ]
  },
  {
   "cell_type": "code",
   "execution_count": null,
   "metadata": {},
   "outputs": [],
   "source": [
    "remove_negligible_strings(string_dag)\n",
    "len(string_dag.nodes)"
   ]
  },
  {
   "cell_type": "code",
   "execution_count": null,
   "metadata": {},
   "outputs": [],
   "source": [
    "extracted_cliff_string_dag = extract_clifford_strings(string_dag)\n",
    "len(string_dag.nodes)"
   ]
  },
  {
   "cell_type": "code",
   "execution_count": null,
   "metadata": {},
   "outputs": [],
   "source": [
    "string_dag.to_circuit()"
   ]
  },
  {
   "cell_type": "code",
   "execution_count": null,
   "metadata": {},
   "outputs": [],
   "source": [
    "cr2 = move_clifford_strings_into_clifford(extracted_cliff_string_dag, cr)\n",
    "cr2"
   ]
  },
  {
   "cell_type": "code",
   "execution_count": null,
   "metadata": {},
   "outputs": [],
   "source": []
  },
  {
   "cell_type": "code",
   "execution_count": null,
   "metadata": {},
   "outputs": [],
   "source": []
  },
  {
   "cell_type": "code",
   "execution_count": null,
   "metadata": {},
   "outputs": [],
   "source": []
  },
  {
   "cell_type": "code",
   "execution_count": null,
   "metadata": {},
   "outputs": [],
   "source": []
  },
  {
   "cell_type": "code",
   "execution_count": null,
   "metadata": {},
   "outputs": [],
   "source": []
  },
  {
   "cell_type": "code",
   "execution_count": null,
   "metadata": {},
   "outputs": [],
   "source": []
  },
  {
   "cell_type": "code",
   "execution_count": null,
   "metadata": {},
   "outputs": [],
   "source": []
  },
  {
   "cell_type": "code",
   "execution_count": null,
   "metadata": {},
   "outputs": [],
   "source": [
    "c_opt = move_non_clifford_into_clifford(string_dag, cr2)\n",
    "c_opt"
   ]
  },
  {
   "cell_type": "code",
   "execution_count": null,
   "metadata": {},
   "outputs": [],
   "source": [
    "#cirq.ExpandComposite().optimize_circuit(c_opt)\n",
    "#cirq.google.MergeRotations().optimize_circuit(c_opt)\n",
    "c_opt = cirq.google.optimized_for_xmon(c_opt)\n",
    "c_opt"
   ]
  },
  {
   "cell_type": "code",
   "execution_count": null,
   "metadata": {},
   "outputs": [],
   "source": [
    "cirq.testing.assert_allclose_up_to_global_phase(\n",
    "    c.to_unitary_matrix(),\n",
    "    c_opt.to_unitary_matrix(),\n",
    "    atol=1e-7,\n",
    ")"
   ]
  },
  {
   "cell_type": "code",
   "execution_count": null,
   "metadata": {},
   "outputs": [],
   "source": []
  },
  {
   "cell_type": "code",
   "execution_count": null,
   "metadata": {},
   "outputs": [],
   "source": [
    "g = networkx.DiGraph([(1,2),(2,3),(1,4)])"
   ]
  },
  {
   "cell_type": "code",
   "execution_count": null,
   "metadata": {},
   "outputs": [],
   "source": []
  },
  {
   "cell_type": "code",
   "execution_count": null,
   "metadata": {},
   "outputs": [],
   "source": []
  },
  {
   "cell_type": "code",
   "execution_count": null,
   "metadata": {},
   "outputs": [],
   "source": []
  },
  {
   "cell_type": "code",
   "execution_count": null,
   "metadata": {},
   "outputs": [],
   "source": []
  },
  {
   "cell_type": "code",
   "execution_count": null,
   "metadata": {},
   "outputs": [],
   "source": []
  },
  {
   "cell_type": "code",
   "execution_count": null,
   "metadata": {},
   "outputs": [],
   "source": []
  },
  {
   "cell_type": "code",
   "execution_count": null,
   "metadata": {},
   "outputs": [],
   "source": []
  }
 ],
 "metadata": {
  "kernelspec": {
   "display_name": "Python 3",
   "language": "python",
   "name": "python3"
  },
  "language_info": {
   "codemirror_mode": {
    "name": "ipython",
    "version": 3
   },
   "file_extension": ".py",
   "mimetype": "text/x-python",
   "name": "python",
   "nbconvert_exporter": "python",
   "pygments_lexer": "ipython3",
   "version": "3.5.3"
  }
 },
 "nbformat": 4,
 "nbformat_minor": 2
}
