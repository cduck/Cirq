{
 "cells": [
  {
   "cell_type": "code",
   "execution_count": 1,
   "metadata": {},
   "outputs": [],
   "source": [
    "import itertools\n",
    "from typing import (Any, Dict, FrozenSet, Hashable, ItemsView, Iterator,\n",
    "                    KeysView, List, Mapping, NamedTuple, Optional,\n",
    "                    Sequence, Tuple, Union, ValuesView, cast)\n",
    "\n",
    "import numpy as np\n",
    "\n",
    "from cirq import ops, abc, value, extension, linalg, circuits\n",
    "import cirq\n",
    "\n",
    "from cirq.contrib import paulistring"
   ]
  },
  {
   "cell_type": "code",
   "execution_count": 2,
   "metadata": {},
   "outputs": [],
   "source": [
    "def ops_to_matrix(*ops):\n",
    "    c = cirq.Circuit.from_ops(*ops)\n",
    "    return c.to_unitary_matrix()\n",
    "q0 = cirq.NamedQubit('q0')\n",
    "q1 = cirq.NamedQubit('q1')\n",
    "q2 = cirq.NamedQubit('q2')"
   ]
  },
  {
   "cell_type": "code",
   "execution_count": null,
   "metadata": {},
   "outputs": [],
   "source": []
  },
  {
   "cell_type": "code",
   "execution_count": 3,
   "metadata": {},
   "outputs": [
    {
     "data": {
      "text/html": [
       "<pre style=\"overflow: auto; white-space: pre;\">q0: ───X───@───M('m')───\n",
       "           │   │\n",
       "q1: ───────@───M────────</pre>"
      ],
      "text/plain": [
       "q0: ───X───@───M('m')───\n",
       "           │   │\n",
       "q1: ───────@───M────────"
      ]
     },
     "execution_count": 3,
     "metadata": {},
     "output_type": "execute_result"
    }
   ],
   "source": [
    "c = cirq.Circuit.from_ops(\n",
    "    cirq.X(q0),\n",
    "    cirq.CZ(q0, q1),\n",
    "    cirq.MeasurementGate('m')(q0, q1),\n",
    ")\n",
    "c"
   ]
  },
  {
   "cell_type": "code",
   "execution_count": 4,
   "metadata": {},
   "outputs": [
    {
     "data": {
      "text/html": [
       "<pre style=\"overflow: auto; white-space: pre;\">q0: ───@───X───M('m')───\n",
       "       │       │\n",
       "q1: ───@───Z───M────────</pre>"
      ],
      "text/plain": [
       "q0: ───@───X───M('m')───\n",
       "       │       │\n",
       "q1: ───@───Z───M────────"
      ]
     },
     "execution_count": 4,
     "metadata": {},
     "output_type": "execute_result"
    }
   ],
   "source": [
    "def cz_count(circuit):\n",
    "    return sum(isinstance(op, cirq.GateOperation) and isinstance(op, cirq.Rot11Gate)\n",
    "               for op in circuit)\n",
    "\n",
    "cc =  paulistring.optimized_circuit(c)\n",
    "cc"
   ]
  },
  {
   "cell_type": "code",
   "execution_count": 5,
   "metadata": {},
   "outputs": [
    {
     "data": {
      "text/html": [
       "<pre style=\"overflow: auto; white-space: pre;\">q0: ───@───!M('m')───\n",
       "       │   │\n",
       "q1: ───@───M─────────</pre>"
      ],
      "text/plain": [
       "q0: ───@───!M('m')───\n",
       "       │   │\n",
       "q1: ───@───M─────────"
      ]
     },
     "execution_count": 5,
     "metadata": {},
     "output_type": "execute_result"
    }
   ],
   "source": [
    "cirq.google.optimized_for_xmon(cc)"
   ]
  },
  {
   "cell_type": "code",
   "execution_count": 6,
   "metadata": {},
   "outputs": [],
   "source": [
    "cirq.testing.assert_allclose_up_to_global_phase(\n",
    "    c.to_unitary_matrix(),\n",
    "    cc.to_unitary_matrix(),\n",
    "    atol=1e-7\n",
    ")"
   ]
  },
  {
   "cell_type": "code",
   "execution_count": null,
   "metadata": {},
   "outputs": [],
   "source": []
  },
  {
   "cell_type": "code",
   "execution_count": null,
   "metadata": {},
   "outputs": [],
   "source": []
  },
  {
   "cell_type": "code",
   "execution_count": 7,
   "metadata": {},
   "outputs": [
    {
     "data": {
      "text/html": [
       "<pre style=\"overflow: auto; white-space: pre;\">q0: ───────────@───T────────@────────────\n",
       "               │            │\n",
       "q1: ───X^0.5───@───X^0.25───@───X^-0.5───</pre>"
      ],
      "text/plain": [
       "q0: ───────────@───T────────@────────────\n",
       "               │            │\n",
       "q1: ───X^0.5───@───X^0.25───@───X^-0.5───"
      ]
     },
     "execution_count": 7,
     "metadata": {},
     "output_type": "execute_result"
    }
   ],
   "source": [
    "c_orig = cirq.Circuit.from_ops(\n",
    "        ops.X(q1) ** 0.5,\n",
    "        ops.CZ(q0, q1),\n",
    "        ops.Z(q0) ** 0.25,\n",
    "        ops.X(q1) ** 0.25,\n",
    "        ops.CZ(q0, q1),\n",
    "        ops.X(q1) ** -0.5,\n",
    "        #ops.MeasurementGate('m1')(q1),\n",
    "    )\n",
    "c_orig"
   ]
  },
  {
   "cell_type": "code",
   "execution_count": 8,
   "metadata": {},
   "outputs": [
    {
     "data": {
      "text/html": [
       "<pre style=\"overflow: auto; white-space: pre;\">q0: ───@───[Z]^0.25───@───\n",
       "       │              │\n",
       "q1: ───@───[X]^0.25───@───</pre>"
      ],
      "text/plain": [
       "q0: ───@───[Z]^0.25───@───\n",
       "       │              │\n",
       "q1: ───@───[X]^0.25───@───"
      ]
     },
     "execution_count": 8,
     "metadata": {},
     "output_type": "execute_result"
    }
   ],
   "source": [
    "paulistring.clifford_optimized_circuit(c_orig)"
   ]
  },
  {
   "cell_type": "code",
   "execution_count": 9,
   "metadata": {},
   "outputs": [
    {
     "data": {
      "text/html": [
       "<pre style=\"overflow: auto; white-space: pre;\">q0: ───@──────────────@───[Z]^0.25───\n",
       "       │              │\n",
       "q1: ───@───[X]^0.25───@──────────────</pre>"
      ],
      "text/plain": [
       "q0: ───@──────────────@───[Z]^0.25───\n",
       "       │              │\n",
       "q1: ───@───[X]^0.25───@──────────────"
      ]
     },
     "execution_count": 9,
     "metadata": {},
     "output_type": "execute_result"
    }
   ],
   "source": [
    "paulistring.clifford_optimized_circuit(paulistring.pauli_string_optimized_circuit(c_orig))"
   ]
  },
  {
   "cell_type": "code",
   "execution_count": null,
   "metadata": {},
   "outputs": [],
   "source": []
  }
 ],
 "metadata": {
  "kernelspec": {
   "display_name": "Python 3",
   "language": "python",
   "name": "python3"
  },
  "language_info": {
   "codemirror_mode": {
    "name": "ipython",
    "version": 3
   },
   "file_extension": ".py",
   "mimetype": "text/x-python",
   "name": "python",
   "nbconvert_exporter": "python",
   "pygments_lexer": "ipython3",
   "version": "3.5.3"
  }
 },
 "nbformat": 4,
 "nbformat_minor": 2
}
