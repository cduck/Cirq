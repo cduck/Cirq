{
 "cells": [
  {
   "cell_type": "code",
   "execution_count": null,
   "metadata": {},
   "outputs": [],
   "source": []
  },
  {
   "cell_type": "code",
   "execution_count": null,
   "metadata": {},
   "outputs": [],
   "source": []
  },
  {
   "cell_type": "code",
   "execution_count": null,
   "metadata": {},
   "outputs": [],
   "source": []
  },
  {
   "cell_type": "code",
   "execution_count": 43,
   "metadata": {},
   "outputs": [],
   "source": [
    "class ReprHelper:\n",
    "    def __init__(self, content):\n",
    "        self.content = content\n",
    "    def _repr_html_(self):\n",
    "        return 'Help:<br>'+content\n",
    "\n",
    "class ReprTest:\n",
    "    def __repr__(self):\n",
    "        print('__repr__ called')\n",
    "        return '__repr__()'\n",
    "    def _repr_html_(self):\n",
    "        print('_repr_html_ called')\n",
    "        return ('<pre style=\"overflow: auto; white-space: pre;\">'+\n",
    "                '''alksdjfdsaf\n",
    "                adsfjlkadsflsdhfkjdskjhfsdkjfhkjdsfjhsjdfhsdhjfshdf jdshfkjs hfkjsdhfkjshdkj fskjd hfkjds hfkjsdhfkjhsdkjfh skjdhf kjsdhfkj sdkjfhskjdhf kjsdhfkjsd hskjdfh \n",
    "                akdsjfaskdf\n",
    "                dfjdhfjd'''\n",
    "                +'</pre>')\n",
    "    def _repr_pretty_(self, p, cycle):\n",
    "        print('_repr_pretty_ called')\n",
    "        if cycle:\n",
    "            p.text('ReprTest(...)')\n",
    "        else:\n",
    "            p.text('_repr_pretty_\\n...\\n...')"
   ]
  },
  {
   "cell_type": "code",
   "execution_count": 44,
   "metadata": {},
   "outputs": [
    {
     "name": "stdout",
     "output_type": "stream",
     "text": [
      "_repr_pretty_ called\n",
      "_repr_html_ called\n"
     ]
    },
    {
     "data": {
      "text/html": [
       "<pre style=\"overflow: auto; white-space: pre;\">alksdjfdsaf\n",
       "                adsfjlkadsflsdhfkjdskjhfsdkjfhkjdsfjhsjdfhsdhjfshdf jdshfkjs hfkjsdhfkjshdkj fskjd hfkjds hfkjsdhfkjhsdkjfh skjdhf kjsdhfkj sdkjfhskjdhf kjsdhfkjsd hskjdfh \n",
       "                akdsjfaskdf\n",
       "                dfjdhfjd</pre>"
      ],
      "text/plain": [
       "_repr_pretty_\n",
       "...\n",
       "..."
      ]
     },
     "execution_count": 44,
     "metadata": {},
     "output_type": "execute_result"
    }
   ],
   "source": [
    "ReprTest()"
   ]
  },
  {
   "cell_type": "code",
   "execution_count": null,
   "metadata": {},
   "outputs": [],
   "source": []
  },
  {
   "cell_type": "code",
   "execution_count": null,
   "metadata": {},
   "outputs": [],
   "source": []
  },
  {
   "cell_type": "code",
   "execution_count": 46,
   "metadata": {},
   "outputs": [
    {
     "data": {
      "text/plain": [
       "generator"
      ]
     },
     "execution_count": 46,
     "metadata": {},
     "output_type": "execute_result"
    }
   ],
   "source": [
    "type((i for i in range(4)))"
   ]
  },
  {
   "cell_type": "code",
   "execution_count": 51,
   "metadata": {},
   "outputs": [
    {
     "data": {
      "text/plain": [
       "False"
      ]
     },
     "execution_count": 51,
     "metadata": {},
     "output_type": "execute_result"
    }
   ],
   "source": [
    "bool(set([1]) & set((2,3)))"
   ]
  },
  {
   "cell_type": "code",
   "execution_count": null,
   "metadata": {},
   "outputs": [],
   "source": []
  }
 ],
 "metadata": {
  "kernelspec": {
   "display_name": "Python 3",
   "language": "python",
   "name": "python3"
  },
  "language_info": {
   "codemirror_mode": {
    "name": "ipython",
    "version": 3
   },
   "file_extension": ".py",
   "mimetype": "text/x-python",
   "name": "python",
   "nbconvert_exporter": "python",
   "pygments_lexer": "ipython3",
   "version": "3.5.3"
  }
 },
 "nbformat": 4,
 "nbformat_minor": 2
}
