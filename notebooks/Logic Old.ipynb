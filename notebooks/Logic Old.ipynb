{
 "cells": [
  {
   "cell_type": "code",
   "execution_count": 1,
   "metadata": {},
   "outputs": [],
   "source": [
    "import numpy as np\n",
    "\n",
    "import cirq\n",
    "from cirq import ops\n",
    "from cirq.ops import CZ, H, CNOT, X, Y, Z, RotYGate, MeasurementGate\n",
    "from cirq.google import XmonQubit, ExpWGate, ExpZGate, Exp11Gate, XmonMeasurementGate\n",
    "from cirq.google import Simulator, ConvertToXmonGates, MergeRotations, MergeInteractions"
   ]
  },
  {
   "cell_type": "code",
   "execution_count": null,
   "metadata": {},
   "outputs": [],
   "source": []
  },
  {
   "cell_type": "code",
   "execution_count": 116,
   "metadata": {},
   "outputs": [],
   "source": [
    "class Basis:\n",
    "    gate_list = (ops.X, ops.Y, ops.Z)\n",
    "    def __init__(self, axis: int):\n",
    "        assert 0 <= axis < 6, 'Axis out of bounds.'\n",
    "        self.axis = axis\n",
    "    def to_basis_ops(self, new_basis: 'Basis', qubit: cirq.QubitId):\n",
    "        return (gate.on(qubit) for gate in self.to_basis_gates(new_basis))\n",
    "    def to_basis_gates(self, new_basis: 'Basis'):\n",
    "        #return (self.to_x, self.to_y, self.to_z)[new_basis.axis]()\n",
    "        axis = self.axis\n",
    "        axis2 = new_basis.axis\n",
    "        #if axis == axis2:\n",
    "        #    return ()\n",
    "        #assert axis2 < 3 and axis < 3, 'Temp'\n",
    "        flip = (axis < 3) != (axis2 < 3)\n",
    "        #axis = axis % 3\n",
    "        #axis2 = axis2 % 3\n",
    "        cycle = (axis + axis2) % 3\n",
    "        gate_i = (-cycle) % 3\n",
    "        quarter_turns = (axis2 - axis + 1) % 3 - 1  # -1, 0, or +1\n",
    "        if flip:\n",
    "            quarter_turns = -quarter_turns\n",
    "        if quarter_turns == 0:\n",
    "            if flip:\n",
    "                gate = self.gate_list[(axis + 1) % 3]  # Or +2\n",
    "                return (gate,)\n",
    "            else:\n",
    "                return ()\n",
    "        else:\n",
    "            gate = self.gate_list[gate_i] ** (quarter_turns * 0.5)\n",
    "            return (gate,)\n",
    "    def to_x(self):\n",
    "        if self.axis == 0:\n",
    "            return ()\n",
    "        elif self.axis == 1:\n",
    "            return (ops.Z ** -0.5,)\n",
    "        elif self.axis == 2:\n",
    "            return (ops.Y ** 0.5,)\n",
    "    def to_y(self):\n",
    "        if self.axis == 0:\n",
    "            return (ops.Z ** 0.5,)\n",
    "        elif self.axis == 1:\n",
    "            return ()\n",
    "        elif self.axis == 2:\n",
    "            return (ops.X ** -0.5,)\n",
    "    def to_z(self):\n",
    "        if self.axis == 0:\n",
    "            return (ops.Y ** -0.5,)\n",
    "        elif self.axis == 1:\n",
    "            return (ops.X ** 0.5,)\n",
    "        elif self.axis == 2:\n",
    "            return ()\n",
    "\n",
    "    def pauli_gate(cls, axis: int):\n",
    "        return cls.gate_list[axis]\n",
    "\n",
    "X_BASIS = Basis(0)\n",
    "Y_BASIS = Basis(1)\n",
    "Z_BASIS = Basis(2)\n",
    "nX_BASIS = Basis(3)\n",
    "nY_BASIS = Basis(4)\n",
    "nZ_BASIS = Basis(5)"
   ]
  },
  {
   "cell_type": "code",
   "execution_count": 93,
   "metadata": {},
   "outputs": [],
   "source": [
    "class InteractionGate(cirq.CompositeGate, cirq.TextDiagrammableGate):\n",
    "    def __init__(self, basis0: Basis, basis1: Basis):\n",
    "        self.basis0 = basis0\n",
    "        self.basis1 = basis1\n",
    "\n",
    "    def default_decompose(self, qubits):\n",
    "        q0, q1 = qubits\n",
    "        yield from self.basis0.to_basis_ops(Z_BASIS, q0)\n",
    "        yield from self.basis1.to_basis_ops(Z_BASIS, q1)\n",
    "        yield ops.CZ(q0, q1)\n",
    "        yield from Z_BASIS.to_basis_ops(self.basis0, q0)\n",
    "        yield from Z_BASIS.to_basis_ops(self.basis1, q1)\n",
    "\n",
    "    def text_diagram_wire_symbols(self, qubit_count=None, use_unicode_characters=True, precision=3):\n",
    "        labels = ('X', 'Y', 'Z', 'nX', 'nY', 'nZ')\n",
    "        return (labels[self.basis0.axis], labels[self.basis1.axis])"
   ]
  },
  {
   "cell_type": "code",
   "execution_count": null,
   "metadata": {},
   "outputs": [],
   "source": []
  },
  {
   "cell_type": "code",
   "execution_count": 94,
   "metadata": {},
   "outputs": [
    {
     "name": "stdout",
     "output_type": "stream",
     "text": [
      "()\n",
      "(Z**0.5,)\n",
      "(Y**-0.5,)\n",
      "(Y,)\n",
      "(Z**-0.5,)\n",
      "(Y**0.5,)\n",
      "(Z**-0.5,)\n",
      "()\n",
      "(X**0.5,)\n",
      "(Z**0.5,)\n",
      "(Z,)\n",
      "(X**-0.5,)\n",
      "(Y**0.5,)\n",
      "(X**-0.5,)\n",
      "()\n",
      "(Y**-0.5,)\n",
      "(X**0.5,)\n",
      "(X,)\n",
      "(Y,)\n",
      "(Z**-0.5,)\n",
      "(Y**0.5,)\n",
      "()\n",
      "(Z**0.5,)\n",
      "(Y**-0.5,)\n",
      "(Z**0.5,)\n",
      "(Z,)\n",
      "(X**-0.5,)\n",
      "(Z**-0.5,)\n",
      "()\n",
      "(X**0.5,)\n",
      "(Y**-0.5,)\n",
      "(X**0.5,)\n",
      "(X,)\n",
      "(Y**0.5,)\n",
      "(X**-0.5,)\n",
      "()\n"
     ]
    }
   ],
   "source": [
    "for b0 in range(6):\n",
    "    for b1 in range(6):\n",
    "        gates = Basis(b0).to_basis_gates(Basis(b1))\n",
    "        print(gates)"
   ]
  },
  {
   "cell_type": "code",
   "execution_count": null,
   "metadata": {},
   "outputs": [],
   "source": []
  },
  {
   "cell_type": "code",
   "execution_count": null,
   "metadata": {},
   "outputs": [],
   "source": []
  },
  {
   "cell_type": "code",
   "execution_count": 95,
   "metadata": {},
   "outputs": [],
   "source": [
    "q0, q1, q2 = (cirq.NamedQubit('q{}'.format(i)) for i in range(3))\n",
    "def opsToMatrix(*ops):\n",
    "    c = cirq.Circuit.from_ops(*ops)\n",
    "    m = c.to_unitary_matrix()\n",
    "    print(c)\n",
    "    return m.round(5)"
   ]
  },
  {
   "cell_type": "code",
   "execution_count": null,
   "metadata": {},
   "outputs": [],
   "source": []
  },
  {
   "cell_type": "code",
   "execution_count": 115,
   "metadata": {},
   "outputs": [
    {
     "name": "stdout",
     "output_type": "stream",
     "text": [
      "q0: ───────Z───────\n",
      "           │\n",
      "q1: ───Z───X───Z───\n"
     ]
    },
    {
     "data": {
      "text/plain": [
       "array([[ 1.+0.j,  0.+0.j,  0.+0.j,  0.+0.j],\n",
       "       [ 0.+0.j,  1.+0.j,  0.+0.j,  0.+0.j],\n",
       "       [ 0.+0.j,  0.+0.j,  0.+0.j, -1.+0.j],\n",
       "       [ 0.+0.j,  0.+0.j, -1.+0.j,  0.+0.j]])"
      ]
     },
     "execution_count": 115,
     "metadata": {},
     "output_type": "execute_result"
    }
   ],
   "source": [
    "opsToMatrix(Z(q1), InteractionGate(Z_BASIS, X_BASIS)(q0, q1), Z(q1))"
   ]
  },
  {
   "cell_type": "code",
   "execution_count": 107,
   "metadata": {},
   "outputs": [
    {
     "data": {
      "text/plain": [
       "(X,)"
      ]
     },
     "execution_count": 107,
     "metadata": {},
     "output_type": "execute_result"
    }
   ],
   "source": [
    "nZ_BASIS.to_basis_gates(Z_BASIS)"
   ]
  },
  {
   "cell_type": "code",
   "execution_count": 126,
   "metadata": {},
   "outputs": [
    {
     "name": "stdout",
     "output_type": "stream",
     "text": [
      "q0: ───nZ───Z────nZ───\n",
      "       │    │    │\n",
      "q1: ───Z────nZ───Z────\n"
     ]
    },
    {
     "data": {
      "text/plain": [
       "array([[ 1.+0.j,  0.+0.j,  0.+0.j,  0.+0.j],\n",
       "       [ 0.+0.j,  1.+0.j,  0.+0.j,  0.+0.j],\n",
       "       [ 0.+0.j,  0.+0.j, -1.+0.j,  0.+0.j],\n",
       "       [ 0.+0.j,  0.+0.j,  0.+0.j,  1.+0.j]])"
      ]
     },
     "execution_count": 126,
     "metadata": {},
     "output_type": "execute_result"
    }
   ],
   "source": [
    "opsToMatrix(\n",
    "    InteractionGate(nX_BASIS, Z_BASIS)(q0, q1),\n",
    "    InteractionGate(Z_BASIS, nX_BASIS)(q0, q1),\n",
    "    InteractionGate(nX_BASIS, Z_BASIS)(q0, q1),\n",
    ")"
   ]
  },
  {
   "cell_type": "code",
   "execution_count": null,
   "metadata": {},
   "outputs": [],
   "source": []
  },
  {
   "cell_type": "code",
   "execution_count": null,
   "metadata": {},
   "outputs": [],
   "source": []
  },
  {
   "cell_type": "code",
   "execution_count": 26,
   "metadata": {},
   "outputs": [],
   "source": [
    "sq2 = np.sqrt(2)\n",
    "mX = X.matrix()\n",
    "mY = Y.matrix()\n",
    "mZ = Z.matrix()\n",
    "mH = H.matrix()"
   ]
  },
  {
   "cell_type": "code",
   "execution_count": 27,
   "metadata": {},
   "outputs": [],
   "source": [
    "mX_2 = (X**0.5).matrix()"
   ]
  },
  {
   "cell_type": "code",
   "execution_count": 28,
   "metadata": {},
   "outputs": [],
   "source": [
    "mY_2 = (Y**0.5).matrix()"
   ]
  },
  {
   "cell_type": "code",
   "execution_count": 29,
   "metadata": {},
   "outputs": [],
   "source": [
    "mZ_2 = (Z**0.5).matrix().round(3)"
   ]
  },
  {
   "cell_type": "code",
   "execution_count": 30,
   "metadata": {},
   "outputs": [
    {
     "name": "stdout",
     "output_type": "stream",
     "text": [
      "q0: ───<__main__.ZX object at 0x7fb46e830b38>:0───\n",
      "       │\n",
      "q1: ───<__main__.ZX object at 0x7fb46e830b38>:1───\n"
     ]
    },
    {
     "data": {
      "text/plain": [
       "array([[1.+0.j, 0.+0.j, 0.+0.j, 0.+0.j],\n",
       "       [0.+0.j, 1.+0.j, 0.+0.j, 0.+0.j],\n",
       "       [0.+0.j, 0.+0.j, 0.+0.j, 1.+0.j],\n",
       "       [0.+0.j, 0.+0.j, 1.+0.j, 0.+0.j]])"
      ]
     },
     "execution_count": 30,
     "metadata": {},
     "output_type": "execute_result"
    }
   ],
   "source": [
    "#mZX = opsToMatrix(CNOT(q0, q1))\n",
    "mZX = opsToMatrix(ZX()(q0, q1))\n",
    "mZX"
   ]
  },
  {
   "cell_type": "code",
   "execution_count": 31,
   "metadata": {},
   "outputs": [
    {
     "name": "stdout",
     "output_type": "stream",
     "text": [
      "q0: ───────────@────────────\n",
      "               │\n",
      "q1: ───Y^0.5───X───Y^-0.5───\n"
     ]
    },
    {
     "data": {
      "text/plain": [
       "array([[ 1.+0.j,  0.+0.j,  0.+0.j,  0.+0.j],\n",
       "       [ 0.+0.j,  1.+0.j,  0.+0.j,  0.+0.j],\n",
       "       [ 0.+0.j,  0.+0.j,  1.+0.j,  0.+0.j],\n",
       "       [ 0.+0.j,  0.+0.j,  0.+0.j, -1.+0.j]])"
      ]
     },
     "execution_count": 31,
     "metadata": {},
     "output_type": "execute_result"
    }
   ],
   "source": [
    "mZZ = opsToMatrix(Y(q1)**0.5, CNOT(q0, q1), Y(q1)**-0.5)\n",
    "mZZ"
   ]
  },
  {
   "cell_type": "code",
   "execution_count": 32,
   "metadata": {},
   "outputs": [
    {
     "name": "stdout",
     "output_type": "stream",
     "text": [
      "q0: ───Y^-0.5───@───Y^0.5───\n",
      "                │\n",
      "q1: ────────────Z───────────\n"
     ]
    },
    {
     "data": {
      "text/plain": [
       "array([[1.+0.j, 0.+0.j, 0.+0.j, 0.+0.j],\n",
       "       [0.+0.j, 0.+0.j, 0.+0.j, 1.+0.j],\n",
       "       [0.+0.j, 0.+0.j, 1.+0.j, 0.+0.j],\n",
       "       [0.+0.j, 1.+0.j, 0.+0.j, 0.+0.j]])"
      ]
     },
     "execution_count": 32,
     "metadata": {},
     "output_type": "execute_result"
    }
   ],
   "source": [
    "mXZ = opsToMatrix(Y(q0)**-0.5, CZ(q0, q1), Y(q0)**0.5)\n",
    "mXZ"
   ]
  },
  {
   "cell_type": "code",
   "execution_count": 38,
   "metadata": {},
   "outputs": [
    {
     "name": "stdout",
     "output_type": "stream",
     "text": [
      "q0: ───H───\n"
     ]
    },
    {
     "data": {
      "text/plain": [
       "array([[ 0.70711+0.j,  0.70711+0.j],\n",
       "       [ 0.70711+0.j, -0.70711+0.j]])"
      ]
     },
     "execution_count": 38,
     "metadata": {},
     "output_type": "execute_result"
    }
   ],
   "source": [
    "mH = opsToMatrix(H(q0))      #/(1/sq2-1j/sq2)\n",
    "mH"
   ]
  },
  {
   "cell_type": "code",
   "execution_count": 39,
   "metadata": {},
   "outputs": [
    {
     "name": "stdout",
     "output_type": "stream",
     "text": [
      "q0: ───Y^-0.5───Z───\n"
     ]
    },
    {
     "data": {
      "text/plain": [
       "array([[ 0.70710678+0.j,  0.70710678+0.j],\n",
       "       [ 0.70710678+0.j, -0.70710678+0.j]])"
      ]
     },
     "execution_count": 39,
     "metadata": {},
     "output_type": "execute_result"
    }
   ],
   "source": [
    "mH = opsToMatrix(Y(q0)**-0.5, Z(q0))      /(1/sq2-1j/sq2)\n",
    "mH"
   ]
  },
  {
   "cell_type": "code",
   "execution_count": 35,
   "metadata": {},
   "outputs": [
    {
     "name": "stdout",
     "output_type": "stream",
     "text": [
      "q0: ───Z───Y^0.5───\n"
     ]
    },
    {
     "data": {
      "text/plain": [
       "array([[ 0.70710678+0.j,  0.70710678+0.j],\n",
       "       [ 0.70710678+0.j, -0.70710678+0.j]])"
      ]
     },
     "execution_count": 35,
     "metadata": {},
     "output_type": "execute_result"
    }
   ],
   "source": [
    "mH = opsToMatrix(Z(q0), Y(q0)**0.5)      /(1/sq2+1j/sq2)\n",
    "mH"
   ]
  },
  {
   "cell_type": "code",
   "execution_count": 36,
   "metadata": {},
   "outputs": [
    {
     "name": "stdout",
     "output_type": "stream",
     "text": [
      "q0: ───Y^0.5───X───\n"
     ]
    },
    {
     "data": {
      "text/plain": [
       "array([[ 0.70710678+0.j,  0.70710678+0.j],\n",
       "       [ 0.70710678+0.j, -0.70710678+0.j]])"
      ]
     },
     "execution_count": 36,
     "metadata": {},
     "output_type": "execute_result"
    }
   ],
   "source": [
    "mH = opsToMatrix(Y(q0)**0.5, X(q0))      /(1/sq2+1j/sq2)\n",
    "mH"
   ]
  },
  {
   "cell_type": "code",
   "execution_count": 37,
   "metadata": {},
   "outputs": [
    {
     "name": "stdout",
     "output_type": "stream",
     "text": [
      "q0: ───X───Y^-0.5───\n"
     ]
    },
    {
     "data": {
      "text/plain": [
       "array([[ 0.70710678+0.j,  0.70710678+0.j],\n",
       "       [ 0.70710678+0.j, -0.70710678+0.j]])"
      ]
     },
     "execution_count": 37,
     "metadata": {},
     "output_type": "execute_result"
    }
   ],
   "source": [
    "mH = opsToMatrix(X(q0), Y(q0)**-0.5)      /(1/sq2-1j/sq2)\n",
    "mH"
   ]
  },
  {
   "cell_type": "code",
   "execution_count": null,
   "metadata": {},
   "outputs": [],
   "source": []
  },
  {
   "cell_type": "code",
   "execution_count": null,
   "metadata": {},
   "outputs": [],
   "source": []
  },
  {
   "cell_type": "code",
   "execution_count": null,
   "metadata": {},
   "outputs": [],
   "source": []
  },
  {
   "cell_type": "code",
   "execution_count": 27,
   "metadata": {},
   "outputs": [
    {
     "data": {
      "text/plain": [
       "array([[ 1.+0.j,  1.+0.j],\n",
       "       [-1.+0.j,  1.+0.j]])"
      ]
     },
     "execution_count": 27,
     "metadata": {},
     "output_type": "execute_result"
    }
   ],
   "source": [
    "mH.dot(mX)*sq2"
   ]
  },
  {
   "cell_type": "code",
   "execution_count": 13,
   "metadata": {},
   "outputs": [
    {
     "ename": "NameError",
     "evalue": "name 'mZ' is not defined",
     "output_type": "error",
     "traceback": [
      "\u001b[0;31m---------------------------------------------------------------------------\u001b[0m",
      "\u001b[0;31mNameError\u001b[0m                                 Traceback (most recent call last)",
      "\u001b[0;32m<ipython-input-13-493ffde31b0f>\u001b[0m in \u001b[0;36m<module>\u001b[0;34m()\u001b[0m\n\u001b[0;32m----> 1\u001b[0;31m \u001b[0mmZ\u001b[0m\u001b[0;34m.\u001b[0m\u001b[0mdot\u001b[0m\u001b[0;34m(\u001b[0m\u001b[0mmH\u001b[0m\u001b[0;34m)\u001b[0m\u001b[0;34m*\u001b[0m\u001b[0msq2\u001b[0m\u001b[0;34m\u001b[0m\u001b[0m\n\u001b[0m",
      "\u001b[0;31mNameError\u001b[0m: name 'mZ' is not defined"
     ]
    }
   ],
   "source": [
    "mZ.dot(mH)*sq2"
   ]
  },
  {
   "cell_type": "code",
   "execution_count": 29,
   "metadata": {},
   "outputs": [
    {
     "data": {
      "text/plain": [
       "array([[ 1.+0.j,  1.+0.j],\n",
       "       [-1.+0.j,  1.+0.j]])"
      ]
     },
     "execution_count": 29,
     "metadata": {},
     "output_type": "execute_result"
    }
   ],
   "source": [
    "mH.dot(mX)*sq2"
   ]
  },
  {
   "cell_type": "code",
   "execution_count": 32,
   "metadata": {},
   "outputs": [
    {
     "data": {
      "text/plain": [
       "array([[ 1.+0.j, -0.+0.j],\n",
       "       [-0.+0.j,  1.+0.j]])"
      ]
     },
     "execution_count": 32,
     "metadata": {},
     "output_type": "execute_result"
    }
   ],
   "source": [
    "mZ.dot(mH) .dot( mX.dot(mH)) .round(3)"
   ]
  },
  {
   "cell_type": "code",
   "execution_count": null,
   "metadata": {},
   "outputs": [],
   "source": []
  },
  {
   "cell_type": "code",
   "execution_count": 33,
   "metadata": {},
   "outputs": [
    {
     "data": {
      "text/plain": [
       "array([[-0.5-0.5j,  0.5+0.5j],\n",
       "       [ 0.5+0.5j,  0.5+0.5j]])"
      ]
     },
     "execution_count": 33,
     "metadata": {},
     "output_type": "execute_result"
    }
   ],
   "source": [
    "mY_2.dot(mX)"
   ]
  },
  {
   "cell_type": "code",
   "execution_count": 35,
   "metadata": {},
   "outputs": [
    {
     "data": {
      "text/plain": [
       "array([[-0.5-0.5j,  0.5+0.5j],\n",
       "       [ 0.5+0.5j,  0.5+0.5j]])"
      ]
     },
     "execution_count": 35,
     "metadata": {},
     "output_type": "execute_result"
    }
   ],
   "source": [
    "mZ.dot(mY_2) * -1"
   ]
  },
  {
   "cell_type": "code",
   "execution_count": null,
   "metadata": {},
   "outputs": [],
   "source": []
  }
 ],
 "metadata": {
  "kernelspec": {
   "display_name": "Python 3",
   "language": "python",
   "name": "python3"
  },
  "language_info": {
   "codemirror_mode": {
    "name": "ipython",
    "version": 3
   },
   "file_extension": ".py",
   "mimetype": "text/x-python",
   "name": "python",
   "nbconvert_exporter": "python",
   "pygments_lexer": "ipython3",
   "version": "3.5.3"
  }
 },
 "nbformat": 4,
 "nbformat_minor": 2
}
