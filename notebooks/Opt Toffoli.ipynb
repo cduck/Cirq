{
 "cells": [
  {
   "cell_type": "code",
   "execution_count": 42,
   "metadata": {},
   "outputs": [],
   "source": [
    "import numpy as np\n",
    "\n",
    "import cirq\n",
    "from cirq.contrib import paulistring"
   ]
  },
  {
   "cell_type": "code",
   "execution_count": 43,
   "metadata": {},
   "outputs": [],
   "source": [
    "import sys\n",
    "sys.path.append('../Cirq/examples')\n",
    "\n",
    "import supremacy"
   ]
  },
  {
   "cell_type": "code",
   "execution_count": 44,
   "metadata": {},
   "outputs": [],
   "source": [
    "def ops_to_matrix(*ops):\n",
    "    c = cirq.Circuit.from_ops(*ops)\n",
    "    return c.to_unitary_matrix()\n",
    "q0 = cirq.NamedQubit('q0')\n",
    "q1 = cirq.NamedQubit('q1')\n",
    "q2 = cirq.NamedQubit('q2')\n",
    "q3 = cirq.NamedQubit('q3')\n",
    "q4 = cirq.NamedQubit('q4')\n",
    "q5 = cirq.NamedQubit('q5')"
   ]
  },
  {
   "cell_type": "code",
   "execution_count": null,
   "metadata": {},
   "outputs": [],
   "source": []
  },
  {
   "cell_type": "code",
   "execution_count": null,
   "metadata": {},
   "outputs": [],
   "source": []
  },
  {
   "cell_type": "code",
   "execution_count": 104,
   "metadata": {},
   "outputs": [
    {
     "data": {
      "text/html": [
       "<pre style=\"overflow: auto; white-space: pre;\">q0: ───@───\n",
       "       │\n",
       "q1: ───@───\n",
       "       │\n",
       "q2: ───X───</pre>"
      ],
      "text/plain": [
       "q0: ───@───\n",
       "       │\n",
       "q1: ───@───\n",
       "       │\n",
       "q2: ───X───"
      ]
     },
     "execution_count": 104,
     "metadata": {},
     "output_type": "execute_result"
    }
   ],
   "source": [
    "circuit = cirq.Circuit.from_ops(\n",
    "    cirq.TOFFOLI(q0, q1, q2),\n",
    "    #cirq.TOFFOLI(q0, q1, q2),\n",
    "    #cirq.TOFFOLI(q0, q1, q2),\n",
    "    #cirq.TOFFOLI(q0, q1, q2),\n",
    ")\n",
    "#circuit = cirq.testing.nonoptimal_toffoli_circuit(q0, q1, q2)\n",
    "#cirq.google.optimized_for_xmon(circuit)\n",
    "#cirq.ExpandComposite().optimize_circuit(circuit)\n",
    "circuit"
   ]
  },
  {
   "cell_type": "code",
   "execution_count": 106,
   "metadata": {},
   "outputs": [
    {
     "data": {
      "text/plain": [
       "False"
      ]
     },
     "execution_count": 106,
     "metadata": {},
     "output_type": "execute_result"
    }
   ],
   "source": [
    "cirq.CircuitDag.from_circuit(circuit)==cirq.CircuitDag.from_circuit(circuit)"
   ]
  },
  {
   "cell_type": "code",
   "execution_count": 39,
   "metadata": {
    "scrolled": true
   },
   "outputs": [
    {
     "name": "stdout",
     "output_type": "stream",
     "text": [
      "0───────@───────────────────@────────────────────@────────────────────────@─[Z]^0.25───────────────\n",
      "        │                   │                    │                        │\n",
      "1─X^0.5─@─X^0.5─@─X^0.5─────@─X^-0.5─@─X^-0.5────@─X^0.5─@─[Z]^0.25─X^0.5─@─X^-0.5───@─[Z]^-0.25─X─\n",
      "                │                    │                   │                           │\n",
      "2───────────────@─[X]^-0.25──────────@─[X]^-0.25─────────@─[X]^0.25──────────────────@─[X]^0.25────\n"
     ]
    },
    {
     "data": {
      "text/html": [
       "<pre style=\"overflow: auto; white-space: pre;\">0: ───────────@───────────────────────────@────────────────────────────@──────────────────────────────────@───[Z]^0.25───────────────────────\n",
       "              │                           │                            │                                  │\n",
       "1: ───X^0.5───@───X^0.5───@───X^0.5───────@───X^-0.5───@───X^-0.5──────@───X^0.5───@───[Z]^0.25───X^0.5───@───X^-0.5─────@───[Z]^-0.25───X───\n",
       "                          │                            │                           │                                     │\n",
       "2: ───────────────────────@───[X]^-0.25────────────────@───[X]^-0.25───────────────@───[X]^0.25──────────────────────────@───[X]^0.25────────</pre>"
      ],
      "text/plain": [
       "0: ───────────@───────────────────────────@────────────────────────────@──────────────────────────────────@───[Z]^0.25───────────────────────\n",
       "              │                           │                            │                                  │\n",
       "1: ───X^0.5───@───X^0.5───@───X^0.5───────@───X^-0.5───@───X^-0.5──────@───X^0.5───@───[Z]^0.25───X^0.5───@───X^-0.5─────@───[Z]^-0.25───X───\n",
       "                          │                            │                           │                                     │\n",
       "2: ───────────────────────@───[X]^-0.25────────────────@───[X]^-0.25───────────────@───[X]^0.25──────────────────────────@───[X]^0.25────────"
      ]
     },
     "execution_count": 39,
     "metadata": {},
     "output_type": "execute_result"
    }
   ],
   "source": [
    "c = paulistring.optimized_circuit(circuit)\n",
    "d=c.to_text_diagram_drawer()\n",
    "print(d.render(horizontal_spacing=1))\n",
    "c"
   ]
  },
  {
   "cell_type": "code",
   "execution_count": 7,
   "metadata": {
    "scrolled": true
   },
   "outputs": [
    {
     "name": "stdout",
     "output_type": "stream",
     "text": [
      "\n"
     ]
    }
   ],
   "source": [
    "cx = paulistring.optimized_circuit(cirq.google.optimized_for_xmon(circuit))\n",
    "d=cx.to_text_diagram_drawer()\n",
    "print(d.render(horizontal_spacing=1))"
   ]
  },
  {
   "cell_type": "code",
   "execution_count": 8,
   "metadata": {},
   "outputs": [
    {
     "data": {
      "text/html": [
       "<pre style=\"overflow: auto; white-space: pre;\"></pre>"
      ],
      "text/plain": []
     },
     "execution_count": 8,
     "metadata": {},
     "output_type": "execute_result"
    }
   ],
   "source": [
    "sd = paulistring.pauli_string_dag_from_circuit(\n",
    "paulistring.convert_and_separate_circuit(cx, leave_cliffords=True)[0])\n",
    "paulistring.pauli_string_optimize.merge_equal_strings(sd)\n",
    "sd.to_circuit()"
   ]
  },
  {
   "cell_type": "code",
   "execution_count": null,
   "metadata": {},
   "outputs": [],
   "source": []
  },
  {
   "cell_type": "code",
   "execution_count": null,
   "metadata": {},
   "outputs": [],
   "source": []
  },
  {
   "cell_type": "code",
   "execution_count": null,
   "metadata": {},
   "outputs": [],
   "source": []
  },
  {
   "cell_type": "code",
   "execution_count": 9,
   "metadata": {},
   "outputs": [
    {
     "data": {
      "text/html": [
       "<pre style=\"overflow: auto; white-space: pre;\">q0: ───@───────────@───\n",
       "       │           │\n",
       "q1: ───@───X^0.5───@───</pre>"
      ],
      "text/plain": [
       "q0: ───@───────────@───\n",
       "       │           │\n",
       "q1: ───@───X^0.5───@───"
      ]
     },
     "execution_count": 9,
     "metadata": {},
     "output_type": "execute_result"
    }
   ],
   "source": [
    "c = cirq.Circuit.from_ops(\n",
    "    cirq.CZ(q0, q1),\n",
    "    cirq.X(q1) ** 0.5,\n",
    "    cirq.CZ(q0, q1),\n",
    ")\n",
    "c"
   ]
  },
  {
   "cell_type": "code",
   "execution_count": 10,
   "metadata": {},
   "outputs": [
    {
     "data": {
      "text/html": [
       "<pre style=\"overflow: auto; white-space: pre;\">q0: ───T─────────X^0.5───S^-1─────Y^-0.5───@───S^-1───Y^0.5───Y^0.5───Z^-0.75───\n",
       "                                           │\n",
       "q1: ───X^-0.25───Z───────Y^-0.5────────────@───S^-1───Y^0.5───Z───────X^-0.75───</pre>"
      ],
      "text/plain": [
       "q0: ───T─────────X^0.5───S^-1─────Y^-0.5───@───S^-1───Y^0.5───Y^0.5───Z^-0.75───\n",
       "                                           │\n",
       "q1: ───X^-0.25───Z───────Y^-0.5────────────@───S^-1───Y^0.5───Z───────X^-0.75───"
      ]
     },
     "execution_count": 10,
     "metadata": {},
     "output_type": "execute_result"
    }
   ],
   "source": [
    "cirq.MergeInteractions(allow_partial_czs=False).optimize_circuit(c)\n",
    "c"
   ]
  },
  {
   "cell_type": "code",
   "execution_count": 11,
   "metadata": {},
   "outputs": [
    {
     "data": {
      "text/html": [
       "<pre style=\"overflow: auto; white-space: pre;\">q0: ───────────@───Z^-0.5───────────\n",
       "               │\n",
       "q1: ───Y^0.5───@───(X^0.5-Z^-0.5)───</pre>"
      ],
      "text/plain": [
       "q0: ───────────@───Z^-0.5───────────\n",
       "               │\n",
       "q1: ───Y^0.5───@───(X^0.5-Z^-0.5)───"
      ]
     },
     "execution_count": 11,
     "metadata": {},
     "output_type": "execute_result"
    }
   ],
   "source": [
    "cc =paulistring.optimized_circuit(c)\n",
    "cc"
   ]
  },
  {
   "cell_type": "code",
   "execution_count": 12,
   "metadata": {},
   "outputs": [
    {
     "data": {
      "text/html": [
       "<pre style=\"overflow: auto; white-space: pre;\">q0: ───────────@───Z^-0.5───────────\n",
       "               │\n",
       "q1: ───Y^0.5───@───(X^0.5-Z^-0.5)───</pre>"
      ],
      "text/plain": [
       "q0: ───────────@───Z^-0.5───────────\n",
       "               │\n",
       "q1: ───Y^0.5───@───(X^0.5-Z^-0.5)───"
      ]
     },
     "execution_count": 12,
     "metadata": {},
     "output_type": "execute_result"
    }
   ],
   "source": [
    "ccc = paulistring.clifford_optimized_circuit(cc)\n",
    "ccc"
   ]
  },
  {
   "cell_type": "code",
   "execution_count": 13,
   "metadata": {},
   "outputs": [
    {
     "data": {
      "text/html": [
       "<pre style=\"overflow: auto; white-space: pre;\">q0: ───────────@───Z^-0.5───────────\n",
       "               │\n",
       "q1: ───Y^0.5───@───(X^0.5-Z^-0.5)───</pre>"
      ],
      "text/plain": [
       "q0: ───────────@───Z^-0.5───────────\n",
       "               │\n",
       "q1: ───Y^0.5───@───(X^0.5-Z^-0.5)───"
      ]
     },
     "execution_count": 13,
     "metadata": {},
     "output_type": "execute_result"
    }
   ],
   "source": [
    "paulistring.pauli_string_optimized_circuit(ccc, move_cliffords=False)"
   ]
  },
  {
   "cell_type": "code",
   "execution_count": null,
   "metadata": {},
   "outputs": [],
   "source": []
  },
  {
   "cell_type": "code",
   "execution_count": null,
   "metadata": {},
   "outputs": [],
   "source": []
  },
  {
   "cell_type": "code",
   "execution_count": 14,
   "metadata": {},
   "outputs": [
    {
     "name": "stdout",
     "output_type": "stream",
     "text": [
      "(0, 0)───(0, 1)───(0, 2)\n",
      "│        │        │\n",
      "│        │        │\n",
      "(1, 0)───(1, 1)───(1, 2)\n",
      "│        │        │\n",
      "│        │        │\n",
      "(2, 0)───(2, 1)───(2, 2)\n"
     ]
    }
   ],
   "source": [
    "device = cirq.google.XmonDevice(\n",
    "            measurement_duration=cirq.google.Bristlecone._measurement_duration,\n",
    "            exp_w_duration=cirq.google.Bristlecone._exp_w_duration,\n",
    "            exp_11_duration=cirq.google.Bristlecone._exp_z_duration,\n",
    "            qubits=cirq.google.known_devices._parse_device(\"\"\"\n",
    "ABC\n",
    "ABC\n",
    "ABC\n",
    "\"\"\")[0])\n",
    "print(device)"
   ]
  },
  {
   "cell_type": "code",
   "execution_count": null,
   "metadata": {},
   "outputs": [],
   "source": []
  },
  {
   "cell_type": "code",
   "execution_count": null,
   "metadata": {},
   "outputs": [],
   "source": []
  },
  {
   "cell_type": "code",
   "execution_count": null,
   "metadata": {},
   "outputs": [],
   "source": []
  },
  {
   "cell_type": "code",
   "execution_count": 15,
   "metadata": {
    "scrolled": true
   },
   "outputs": [
    {
     "name": "stdout",
     "output_type": "stream",
     "text": [
      "(0, 0): ───×───────────────────────────────────────────────────────────×───@───────────@───\n",
      "           │                                                           │   │           │\n",
      "(1, 0): ───×───×───────────────────────────────────────────────────×───×───┼───────────┼───\n",
      "               │                                                   │       │           │\n",
      "(2, 0): ───────×───×───────────────────────────────────────────×───×───────┼───────────┼───\n",
      "                   │                                           │           │           │\n",
      "(2, 1): ───────────×───×───────────────────────────────────×───×───────────┼───────────┼───\n",
      "                       │                                   │               │           │\n",
      "(2, 2): ───────────────×───×───────────────────────────×───×───────────────┼───────────┼───\n",
      "                           │                           │                   │           │\n",
      "(1, 2): ───────────────────×───×───────────────────×───×───────────────────┼───────────┼───\n",
      "                               │                   │                       │           │\n",
      "(0, 2): ───────────────────────×───@───────────@───×───────────────────────┼───────────┼───\n",
      "                                   │           │                           │           │\n",
      "(0, 1): ───────────────────────────X───Z^0.2───X───────────────────────────X───Z^0.1───X───\n"
     ]
    }
   ],
   "source": [
    "q00 = cirq.GridQubit(0, 0)\n",
    "q01 = cirq.GridQubit(0, 1)\n",
    "q02 = cirq.GridQubit(0, 2)\n",
    "q10 = cirq.GridQubit(1, 0)\n",
    "q11 = cirq.GridQubit(1, 1)\n",
    "q12 = cirq.GridQubit(1, 2)\n",
    "q20 = cirq.GridQubit(2, 0)\n",
    "q21 = cirq.GridQubit(2, 1)\n",
    "q22 = cirq.GridQubit(2, 2)\n",
    "c = cirq.Circuit.from_ops(\n",
    "    #cirq.CNOT(q00, q01), cirq.Z(q01) ** 0.1, cirq.CNOT(q00, q01),\n",
    "\n",
    "    cirq.SWAP(q00, q10),\n",
    "    cirq.SWAP(q10, q20),\n",
    "    cirq.SWAP(q20, q21),\n",
    "    cirq.SWAP(q21, q22),\n",
    "    cirq.SWAP(q22, q12),\n",
    "    cirq.SWAP(q12, q02),\n",
    "    cirq.CNOT(q02, q01), cirq.Z(q01)**0.2, cirq.CNOT(q02, q01),\n",
    "    cirq.SWAP(q12, q02),\n",
    "    cirq.SWAP(q22, q12),\n",
    "    cirq.SWAP(q21, q22),\n",
    "    cirq.SWAP(q20, q21),\n",
    "    cirq.SWAP(q10, q20),\n",
    "    cirq.SWAP(q00, q10),\n",
    "    \n",
    "    cirq.CNOT(q00, q01), cirq.Z(q01)**0.1, cirq.CNOT(q00, q01),\n",
    ")\n",
    "s = c.to_text_diagram(qubit_order=(q00, q10, q20, q21, q22, q12, q02,\n",
    "                               q01))\n",
    "print(s)"
   ]
  },
  {
   "cell_type": "code",
   "execution_count": 16,
   "metadata": {},
   "outputs": [
    {
     "data": {
      "text/html": [
       "<pre style=\"overflow: auto; white-space: pre;\">(0, 0): ───X^0.5───@───[Y]^-0.3───@───X^-0.5───\n",
       "                   │              │\n",
       "(0, 1): ───────────@──────────────@────────────</pre>"
      ],
      "text/plain": [
       "(0, 0): ───X^0.5───@───[Y]^-0.3───@───X^-0.5───\n",
       "                   │              │\n",
       "(0, 1): ───────────@──────────────@────────────"
      ]
     },
     "execution_count": 16,
     "metadata": {},
     "output_type": "execute_result"
    }
   ],
   "source": [
    "cc = paulistring.optimized_circuit(c)\n",
    "cc"
   ]
  },
  {
   "cell_type": "code",
   "execution_count": 17,
   "metadata": {},
   "outputs": [
    {
     "name": "stdout",
     "output_type": "stream",
     "text": [
      "(0, 0)X^0.5@[Y]^-0.3@X^-0.5\n",
      "           │        │\n",
      "(1, 0)─────┼────────┼──────\n",
      "           │        │\n",
      "(2, 0)─────┼────────┼──────\n",
      "           │        │\n",
      "(2, 1)─────┼────────┼──────\n",
      "           │        │\n",
      "(2, 2)─────┼────────┼──────\n",
      "           │        │\n",
      "(1, 2)─────┼────────┼──────\n",
      "           │        │\n",
      "(0, 2)─────┼────────┼──────\n",
      "           │        │\n",
      "(0, 1)─────@────────@──────\n"
     ]
    }
   ],
   "source": [
    "d = cc.to_text_diagram_drawer(\n",
    "        qubit_order=(q00, q10, q20, q21, q22, q12, q02, q01))\n",
    "s = d.render(horizontal_spacing=0)\n",
    "print(s)"
   ]
  },
  {
   "cell_type": "code",
   "execution_count": null,
   "metadata": {},
   "outputs": [],
   "source": []
  },
  {
   "cell_type": "code",
   "execution_count": null,
   "metadata": {},
   "outputs": [],
   "source": []
  },
  {
   "cell_type": "code",
   "execution_count": null,
   "metadata": {},
   "outputs": [],
   "source": []
  },
  {
   "cell_type": "code",
   "execution_count": null,
   "metadata": {},
   "outputs": [],
   "source": []
  },
  {
   "cell_type": "code",
   "execution_count": 18,
   "metadata": {
    "scrolled": true
   },
   "outputs": [
    {
     "data": {
      "text/html": [
       "<pre style=\"overflow: auto; white-space: pre;\">0: ───────────────@───X───T───\n",
       "                  │   │\n",
       "1: ───────@───X───X───@───────\n",
       "          │   │\n",
       "2: ───T───X───@───────────────</pre>"
      ],
      "text/plain": [
       "0: ───────────────@───X───T───\n",
       "                  │   │\n",
       "1: ───────@───X───X───@───────\n",
       "          │   │\n",
       "2: ───T───X───@───────────────"
      ]
     },
     "metadata": {},
     "output_type": "display_data"
    },
    {
     "data": {
      "text/html": [
       "<pre style=\"overflow: auto; white-space: pre;\">0: ──────────────────────────────────────────────────@───Y^-0.5───@───Y^0.5───T───\n",
       "                                                     │            │\n",
       "1: ────────────────@───Y^-0.5───@───Y^0.5───Y^-0.5───@───Y^0.5────@───────────────\n",
       "                   │            │\n",
       "2: ───T───Y^-0.5───@───Y^0.5────@─────────────────────────────────────────────────</pre>"
      ],
      "text/plain": [
       "0: ──────────────────────────────────────────────────@───Y^-0.5───@───Y^0.5───T───\n",
       "                                                     │            │\n",
       "1: ────────────────@───Y^-0.5───@───Y^0.5───Y^-0.5───@───Y^0.5────@───────────────\n",
       "                   │            │\n",
       "2: ───T───Y^-0.5───@───Y^0.5────@─────────────────────────────────────────────────"
      ]
     },
     "metadata": {},
     "output_type": "display_data"
    },
    {
     "data": {
      "text/html": [
       "<pre style=\"overflow: auto; white-space: pre;\">0: ────────────────────────────────────────────────@───Y^-0.5───@───Y^0.5───[Z]^0.25───\n",
       "                                                   │            │\n",
       "1: ───────────────────────────────@───Y^-0.5───@───@───Y^0.5────@──────────────────────\n",
       "                                  │            │\n",
       "2: ───[Z]^0.75───(X^0.5-Z^-0.5)───@───Y^0.5────@───────────────────────────────────────</pre>"
      ],
      "text/plain": [
       "0: ────────────────────────────────────────────────@───Y^-0.5───@───Y^0.5───[Z]^0.25───\n",
       "                                                   │            │\n",
       "1: ───────────────────────────────@───Y^-0.5───@───@───Y^0.5────@──────────────────────\n",
       "                                  │            │\n",
       "2: ───[Z]^0.75───(X^0.5-Z^-0.5)───@───Y^0.5────@───────────────────────────────────────"
      ]
     },
     "execution_count": 18,
     "metadata": {},
     "output_type": "execute_result"
    }
   ],
   "source": [
    "q0, q1, q2 = cirq.LineQubit.range(3)\n",
    "c = cirq.Circuit.from_ops(\n",
    "    cirq.T(q2),\n",
    "    cirq.CNOT(q1, q2),\n",
    "    cirq.CNOT(q2, q1),\n",
    "    cirq.CNOT(q0, q1),\n",
    "    cirq.CNOT(q1, q0),\n",
    "    cirq.T(q0),\n",
    ")\n",
    "display(c)\n",
    "cirq.ExpandComposite().optimize_circuit(c)\n",
    "c = cirq.Circuit.from_ops(c.all_operations(), strategy=cirq.InsertStrategy.EARLIEST)\n",
    "display(c)\n",
    "c = paulistring.converted_gate_set(c)\n",
    "c"
   ]
  },
  {
   "cell_type": "code",
   "execution_count": 19,
   "metadata": {},
   "outputs": [
    {
     "data": {
      "text/html": [
       "<pre style=\"overflow: auto; white-space: pre;\">0: ────────────────────────────@────────Y^-0.5───@───(Z-Y^-0.5)───\n",
       "                               │                 │\n",
       "1: ───────────@───Y^-0.5───@───@────────Y^0.5────@────────────────\n",
       "              │            │\n",
       "2: ───X^0.5───@───X^-0.5───@───Z^-0.5─────────────────────────────</pre>"
      ],
      "text/plain": [
       "0: ────────────────────────────@────────Y^-0.5───@───(Z-Y^-0.5)───\n",
       "                               │                 │\n",
       "1: ───────────@───Y^-0.5───@───@────────Y^0.5────@────────────────\n",
       "              │            │\n",
       "2: ───X^0.5───@───X^-0.5───@───Z^-0.5─────────────────────────────"
      ]
     },
     "execution_count": 19,
     "metadata": {},
     "output_type": "execute_result"
    }
   ],
   "source": [
    "paulistring.optimized_circuit(c)"
   ]
  },
  {
   "cell_type": "code",
   "execution_count": 20,
   "metadata": {},
   "outputs": [
    {
     "data": {
      "text/plain": [
       "[GateOperation(Z**0.75, (LineQubit(0),)),\n",
       " GateOperation(X**0.5, (LineQubit(0),)),\n",
       " GateOperation(S**-1, (LineQubit(0),)),\n",
       " GateOperation(X**-0.25, (LineQubit(1),)),\n",
       " GateOperation(Y**-0.5, (LineQubit(0),)),\n",
       " GateOperation(Y**-0.5, (LineQubit(1),)),\n",
       " GateOperation(CZ, (LineQubit(0), LineQubit(1))),\n",
       " GateOperation(S**-1, (LineQubit(0),)),\n",
       " GateOperation(S**-1, (LineQubit(1),)),\n",
       " GateOperation(Y**0.5, (LineQubit(0),)),\n",
       " GateOperation(Y**0.5, (LineQubit(1),)),\n",
       " GateOperation(Y**0.5, (LineQubit(0),)),\n",
       " GateOperation(Z**-0.75, (LineQubit(0),)),\n",
       " GateOperation(X**-0.25, (LineQubit(1),))]"
      ]
     },
     "execution_count": 20,
     "metadata": {},
     "output_type": "execute_result"
    }
   ],
   "source": [
    "cirq.two_qubit_matrix_to_operations(\n",
    "q0, q1, cirq.CNOT.matrix(), allow_partial_czs=False)"
   ]
  },
  {
   "cell_type": "code",
   "execution_count": null,
   "metadata": {},
   "outputs": [],
   "source": []
  },
  {
   "cell_type": "code",
   "execution_count": 21,
   "metadata": {},
   "outputs": [
    {
     "data": {
      "text/plain": [
       "GateOperation(X**0.5, (LineQubit(0),))"
      ]
     },
     "execution_count": 21,
     "metadata": {},
     "output_type": "execute_result"
    }
   ],
   "source": [
    "cirq.X(q0) ** .5"
   ]
  },
  {
   "cell_type": "code",
   "execution_count": 22,
   "metadata": {},
   "outputs": [
    {
     "data": {
      "text/plain": [
       "GateOperation(X**0.5, (NamedQubit('q0'),))"
      ]
     },
     "execution_count": 22,
     "metadata": {},
     "output_type": "execute_result"
    }
   ],
   "source": [
    "(cirq.X**0.5).on(cirq.NamedQubit('q0'))"
   ]
  },
  {
   "cell_type": "code",
   "execution_count": null,
   "metadata": {},
   "outputs": [],
   "source": []
  },
  {
   "cell_type": "code",
   "execution_count": null,
   "metadata": {},
   "outputs": [],
   "source": []
  },
  {
   "cell_type": "code",
   "execution_count": null,
   "metadata": {},
   "outputs": [],
   "source": []
  },
  {
   "cell_type": "code",
   "execution_count": 23,
   "metadata": {},
   "outputs": [
    {
     "data": {
      "text/html": [
       "<pre style=\"overflow: auto; white-space: pre;\">0: ───X^0.1───Y^0.2───Z^0.3───H───W(0.4)^0.5───X^0.6───Y^0.7───Z^0.8───</pre>"
      ],
      "text/plain": [
       "0: ───X^0.1───Y^0.2───Z^0.3───H───W(0.4)^0.5───X^0.6───Y^0.7───Z^0.8───"
      ]
     },
     "execution_count": 23,
     "metadata": {},
     "output_type": "execute_result"
    }
   ],
   "source": [
    "c = cirq.Circuit.from_ops(\n",
    "    cirq.X(q0) ** .1,\n",
    "    cirq.Y(q0) ** .2,\n",
    "    cirq.Z(q0) ** .3,\n",
    "    cirq.H(q0),\n",
    "    cirq.google.ExpWGate(axis_half_turns=.4, half_turns=.5)(q0),\n",
    "    cirq.X(q0) ** .6,\n",
    "    cirq.Y(q0) ** .7,\n",
    "    cirq.Z(q0) ** .8,\n",
    ")\n",
    "c"
   ]
  },
  {
   "cell_type": "code",
   "execution_count": 24,
   "metadata": {},
   "outputs": [
    {
     "data": {
      "text/html": [
       "<pre style=\"overflow: auto; white-space: pre;\">0: ───[Z]^0.154───[X]^0.659───[Z]^-0.101───</pre>"
      ],
      "text/plain": [
       "0: ───[Z]^0.154───[X]^0.659───[Z]^-0.101───"
      ]
     },
     "execution_count": 24,
     "metadata": {},
     "output_type": "execute_result"
    }
   ],
   "source": [
    "cc = paulistring.optimized_circuit(c)\n",
    "cc"
   ]
  },
  {
   "cell_type": "code",
   "execution_count": 25,
   "metadata": {},
   "outputs": [
    {
     "data": {
      "text/html": [
       "<pre style=\"overflow: auto; white-space: pre;\">0: ───W(0.846)^-0.659───Z^0.0531───</pre>"
      ],
      "text/plain": [
       "0: ───W(0.846)^-0.659───Z^0.0531───"
      ]
     },
     "execution_count": 25,
     "metadata": {},
     "output_type": "execute_result"
    }
   ],
   "source": [
    "cirq.google.optimized_for_xmon(cc)"
   ]
  },
  {
   "cell_type": "code",
   "execution_count": null,
   "metadata": {},
   "outputs": [],
   "source": []
  },
  {
   "cell_type": "code",
   "execution_count": 26,
   "metadata": {},
   "outputs": [
    {
     "data": {
      "text/html": [
       "<pre style=\"overflow: auto; white-space: pre;\">0: ───W(0.1)^0.2───@───H───────iSwap───W(0.6)^0.7───@───X^0.1───@───Z^0.3───\n",
       "                   │           │                    │           │\n",
       "1: ───W(0.3)^0.4───@───X^0.5───iSwap───W(0.8)^0.9───X───Y^0.2───X───X^0.4───</pre>"
      ],
      "text/plain": [
       "0: ───W(0.1)^0.2───@───H───────iSwap───W(0.6)^0.7───@───X^0.1───@───Z^0.3───\n",
       "                   │           │                    │           │\n",
       "1: ───W(0.3)^0.4───@───X^0.5───iSwap───W(0.8)^0.9───X───Y^0.2───X───X^0.4───"
      ]
     },
     "execution_count": 26,
     "metadata": {},
     "output_type": "execute_result"
    }
   ],
   "source": [
    "c = cirq.Circuit.from_ops(\n",
    "    cirq.google.ExpWGate(axis_half_turns=.1, half_turns=.2)(q0),\n",
    "    cirq.google.ExpWGate(axis_half_turns=.3, half_turns=.4)(q1),\n",
    "    cirq.CZ(q0, q1),\n",
    "    cirq.H(q0),\n",
    "    cirq.X(q1) ** .5,\n",
    "    cirq.ISWAP(q0, q1),\n",
    "    cirq.google.ExpWGate(axis_half_turns=.6, half_turns=.7)(q0),\n",
    "    cirq.google.ExpWGate(axis_half_turns=.8, half_turns=.9)(q1),\n",
    "    cirq.CNOT(q0, q1),\n",
    "    cirq.X(q0) ** .1,\n",
    "    cirq.Y(q1) ** .2,\n",
    "    cirq.CNOT(q0, q1),\n",
    "    cirq.Z(q0) ** .3,\n",
    "    cirq.X(q1) ** .4,\n",
    ")\n",
    "c"
   ]
  },
  {
   "cell_type": "code",
   "execution_count": 27,
   "metadata": {},
   "outputs": [
    {
     "data": {
      "text/html": [
       "<pre style=\"overflow: auto; white-space: pre;\">0: ───W(0.0037)^0.783───@───W(0.389)^0.5──────@───W(0.311)^-0.5─────@───W(0.129)^0.534────Z^-0.597───\n",
       "                        │                     │                     │\n",
       "1: ───W(0.696)^0.233────@───W(0.647)^-0.867───@───W(0.647)^-0.983───@───W(0.709)^-0.416───Z^0.732────</pre>"
      ],
      "text/plain": [
       "0: ───W(0.0037)^0.783───@───W(0.389)^0.5──────@───W(0.311)^-0.5─────@───W(0.129)^0.534────Z^-0.597───\n",
       "                        │                     │                     │\n",
       "1: ───W(0.696)^0.233────@───W(0.647)^-0.867───@───W(0.647)^-0.983───@───W(0.709)^-0.416───Z^0.732────"
      ]
     },
     "execution_count": 27,
     "metadata": {},
     "output_type": "execute_result"
    }
   ],
   "source": [
    "cirq.google.optimized_for_xmon(c)"
   ]
  },
  {
   "cell_type": "code",
   "execution_count": null,
   "metadata": {},
   "outputs": [],
   "source": []
  },
  {
   "cell_type": "code",
   "execution_count": null,
   "metadata": {},
   "outputs": [],
   "source": []
  },
  {
   "cell_type": "code",
   "execution_count": 28,
   "metadata": {},
   "outputs": [
    {
     "data": {
      "text/html": [
       "<pre style=\"overflow: auto; white-space: pre;\">0: ───W(0.1)^0.2───@───H───────iSwap───W(0.6)^0.7───@───X^0.1───@───Z^0.3───\n",
       "                   │           │                    │           │\n",
       "1: ───W(0.3)^0.4───@───X^0.5───iSwap───W(0.8)^0.9───X───Y^0.2───X───X^0.4───</pre>"
      ],
      "text/plain": [
       "0: ───W(0.1)^0.2───@───H───────iSwap───W(0.6)^0.7───@───X^0.1───@───Z^0.3───\n",
       "                   │           │                    │           │\n",
       "1: ───W(0.3)^0.4───@───X^0.5───iSwap───W(0.8)^0.9───X───Y^0.2───X───X^0.4───"
      ]
     },
     "execution_count": 28,
     "metadata": {},
     "output_type": "execute_result"
    }
   ],
   "source": [
    "c = cirq.Circuit.from_ops(\n",
    "    cirq.google.ExpWGate(axis_half_turns=.1, half_turns=.2)(q0),\n",
    "    cirq.google.ExpWGate(axis_half_turns=.3, half_turns=.4)(q1),\n",
    "    cirq.CZ(q0, q1),\n",
    "    cirq.H(q0),\n",
    "    cirq.X(q1) ** .5,\n",
    "    cirq.ISWAP(q0, q1),\n",
    "    cirq.google.ExpWGate(axis_half_turns=.6, half_turns=.7)(q0),\n",
    "    cirq.google.ExpWGate(axis_half_turns=.8, half_turns=.9)(q1),\n",
    "    cirq.CNOT(q0, q1),\n",
    "    cirq.X(q0) ** .1,\n",
    "    cirq.Y(q1) ** .2,\n",
    "    cirq.CNOT(q0, q1),\n",
    "    cirq.Z(q0) ** .3,\n",
    "    cirq.X(q1) ** .4,\n",
    ")\n",
    "c"
   ]
  },
  {
   "cell_type": "code",
   "execution_count": null,
   "metadata": {},
   "outputs": [],
   "source": []
  },
  {
   "cell_type": "code",
   "execution_count": null,
   "metadata": {},
   "outputs": [],
   "source": []
  },
  {
   "cell_type": "code",
   "execution_count": null,
   "metadata": {},
   "outputs": [],
   "source": []
  },
  {
   "cell_type": "code",
   "execution_count": null,
   "metadata": {},
   "outputs": [],
   "source": []
  },
  {
   "cell_type": "code",
   "execution_count": null,
   "metadata": {},
   "outputs": [],
   "source": []
  },
  {
   "cell_type": "code",
   "execution_count": 29,
   "metadata": {},
   "outputs": [
    {
     "data": {
      "text/html": [
       "<pre style=\"overflow: auto; white-space: pre;\">0: ───@───────\n",
       "      │\n",
       "1: ───X^0.5───</pre>"
      ],
      "text/plain": [
       "0: ───@───────\n",
       "      │\n",
       "1: ───X^0.5───"
      ]
     },
     "execution_count": 29,
     "metadata": {},
     "output_type": "execute_result"
    }
   ],
   "source": [
    "c = cirq.Circuit.from_ops(\n",
    "    cirq.CNOT(q0, q1)**.5,\n",
    ")\n",
    "c"
   ]
  },
  {
   "cell_type": "code",
   "execution_count": 30,
   "metadata": {},
   "outputs": [
    {
     "data": {
      "text/html": [
       "<pre style=\"overflow: auto; white-space: pre;\">0: ───X^0.5───@───[Y]^-0.25───@───[Y]^-0.25───X^-0.5───────────\n",
       "              │               │\n",
       "1: ───Y^0.5───@───────────────@───[Z]^0.25────(X^0.5-Z^-0.5)───</pre>"
      ],
      "text/plain": [
       "0: ───X^0.5───@───[Y]^-0.25───@───[Y]^-0.25───X^-0.5───────────\n",
       "              │               │\n",
       "1: ───Y^0.5───@───────────────@───[Z]^0.25────(X^0.5-Z^-0.5)───"
      ]
     },
     "execution_count": 30,
     "metadata": {},
     "output_type": "execute_result"
    }
   ],
   "source": [
    "paulistring.optimized_circuit(c)"
   ]
  },
  {
   "cell_type": "code",
   "execution_count": 31,
   "metadata": {},
   "outputs": [
    {
     "data": {
      "text/html": [
       "<pre style=\"overflow: auto; white-space: pre;\">0: ───W(0.357)^0.5───@───W(0.857)^-0.25───@───W(0.357)^-0.5───Z^0.25────\n",
       "                     │                    │\n",
       "1: ───Y^0.5──────────@────────────────────@───W(0.75)^-0.5────Z^-0.25───</pre>"
      ],
      "text/plain": [
       "0: ───W(0.357)^0.5───@───W(0.857)^-0.25───@───W(0.357)^-0.5───Z^0.25────\n",
       "                     │                    │\n",
       "1: ───Y^0.5──────────@────────────────────@───W(0.75)^-0.5────Z^-0.25───"
      ]
     },
     "execution_count": 31,
     "metadata": {},
     "output_type": "execute_result"
    }
   ],
   "source": [
    "cirq.google.optimized_for_xmon(c)"
   ]
  },
  {
   "cell_type": "code",
   "execution_count": null,
   "metadata": {},
   "outputs": [],
   "source": []
  },
  {
   "cell_type": "code",
   "execution_count": null,
   "metadata": {},
   "outputs": [],
   "source": []
  },
  {
   "cell_type": "code",
   "execution_count": 32,
   "metadata": {},
   "outputs": [
    {
     "data": {
      "text/html": [
       "<pre style=\"overflow: auto; white-space: pre;\">0: ──────────────────────────────@──────────────────────────@───────────@───T──────@───────────\n",
       "                                 │                          │           │          │\n",
       "1: ───────────────@──────────×───X───×───────@──────────×───X───×───T───X───T^-1───X───────────\n",
       "                  │          │       │       │          │       │\n",
       "2: ───Y^0.5───X───X───T^-1───×───────×───T───X───T^-1───×───────×───T──────────────Y^0.5───X───</pre>"
      ],
      "text/plain": [
       "0: ──────────────────────────────@──────────────────────────@───────────@───T──────@───────────\n",
       "                                 │                          │           │          │\n",
       "1: ───────────────@──────────×───X───×───────@──────────×───X───×───T───X───T^-1───X───────────\n",
       "                  │          │       │       │          │       │\n",
       "2: ───Y^0.5───X───X───T^-1───×───────×───T───X───T^-1───×───────×───T──────────────Y^0.5───X───"
      ]
     },
     "execution_count": 32,
     "metadata": {},
     "output_type": "execute_result"
    }
   ],
   "source": [
    "ops = cirq.ops\n",
    "c = cirq.Circuit.from_ops(\n",
    "    ops.Y(q2) ** 0.5,\n",
    "    ops.X(q2),\n",
    "    ops.CNOT(q1, q2),\n",
    "    ops.Z(q2) ** -0.25,\n",
    "    ops.SWAP(q1, q2),\n",
    "    ops.CNOT(q0, q1),\n",
    "    ops.SWAP(q1, q2),\n",
    "    ops.Z(q2) ** 0.25,\n",
    "    ops.CNOT(q1, q2),\n",
    "    ops.Z(q2) ** -0.25,\n",
    "    ops.SWAP(q1, q2),\n",
    "    ops.CNOT(q0, q1),\n",
    "    ops.SWAP(q1, q2),\n",
    "    ops.Z(q2) ** 0.25,\n",
    "    ops.Z(q1) ** 0.25,\n",
    "    ops.CNOT(q0, q1),\n",
    "    ops.Z(q0) ** 0.25,\n",
    "    ops.Z(q1) ** -0.25,\n",
    "    ops.CNOT(q0, q1),\n",
    "    ops.Y(q2) ** 0.5,\n",
    "    ops.X(q2),\n",
    ")\n",
    "c"
   ]
  },
  {
   "cell_type": "code",
   "execution_count": 33,
   "metadata": {},
   "outputs": [
    {
     "name": "stdout",
     "output_type": "stream",
     "text": [
      "0──────────────────@──────────────@─────@─T────@───────\n",
      "                   │              │     │      │\n",
      "1─────────@──────×─X─×───@──────×─X─×─T─X─T^-1─X───────\n",
      "          │      │   │   │      │   │\n",
      "2─Y^0.5─X─X─T^-1─×───×─T─X─T^-1─×───×─T────────Y^0.5─X─\n"
     ]
    }
   ],
   "source": [
    "d = c.to_text_diagram_drawer()\n",
    "s = d.render(horizontal_spacing=1)\n",
    "print(s)"
   ]
  },
  {
   "cell_type": "code",
   "execution_count": null,
   "metadata": {},
   "outputs": [],
   "source": []
  },
  {
   "cell_type": "code",
   "execution_count": null,
   "metadata": {},
   "outputs": [],
   "source": []
  },
  {
   "cell_type": "code",
   "execution_count": null,
   "metadata": {},
   "outputs": [],
   "source": []
  },
  {
   "cell_type": "code",
   "execution_count": null,
   "metadata": {},
   "outputs": [],
   "source": []
  },
  {
   "cell_type": "code",
   "execution_count": null,
   "metadata": {},
   "outputs": [],
   "source": []
  },
  {
   "cell_type": "code",
   "execution_count": null,
   "metadata": {},
   "outputs": [],
   "source": []
  }
 ],
 "metadata": {
  "kernelspec": {
   "display_name": "Python 3",
   "language": "python",
   "name": "python3"
  },
  "language_info": {
   "codemirror_mode": {
    "name": "ipython",
    "version": 3
   },
   "file_extension": ".py",
   "mimetype": "text/x-python",
   "name": "python",
   "nbconvert_exporter": "python",
   "pygments_lexer": "ipython3",
   "version": "3.5.3"
  }
 },
 "nbformat": 4,
 "nbformat_minor": 2
}
