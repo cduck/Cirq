{
 "cells": [
  {
   "cell_type": "code",
   "execution_count": 1,
   "metadata": {},
   "outputs": [],
   "source": [
    "import itertools\n",
    "import string\n",
    "from typing import (Any, Callable, Dict, FrozenSet, Hashable, ItemsView, Iterator, TextIO,\n",
    "                    KeysView, List, Mapping, NamedTuple, Optional,\n",
    "                    Sequence, Tuple, Union, ValuesView, cast)\n",
    "\n",
    "import numpy as np\n",
    "\n",
    "from cirq import ops, abc, value, extension, linalg, circuits\n",
    "import cirq"
   ]
  },
  {
   "cell_type": "code",
   "execution_count": 2,
   "metadata": {},
   "outputs": [],
   "source": [
    "def ops_to_matrix(*ops):\n",
    "    c = cirq.Circuit.from_ops(*ops)\n",
    "    return c.to_unitary_matrix()\n",
    "q0 = cirq.NamedQubit('q0')\n",
    "q1 = cirq.NamedQubit('q1')\n",
    "q2 = cirq.NamedQubit('q2')\n",
    "q3 = cirq.NamedQubit('q3')\n",
    "q4 = cirq.NamedQubit('q4')\n",
    "q5 = cirq.NamedQubit('q5')"
   ]
  },
  {
   "cell_type": "code",
   "execution_count": 15,
   "metadata": {},
   "outputs": [
    {
     "data": {
      "text/plain": [
       "cirq.ops.qubit_order.QubitOrder"
      ]
     },
     "execution_count": 15,
     "metadata": {},
     "output_type": "execute_result"
    }
   ],
   "source": [
    "cirq.ops.QubitOrder"
   ]
  },
  {
   "cell_type": "code",
   "execution_count": 3,
   "metadata": {},
   "outputs": [
    {
     "data": {
      "text/html": [
       "<pre style=\"overflow: auto; white-space: pre;\">q0: ───Z───Z^0.625───Y───Y^0.375───X───X^0.875───@───@────────@───@───────×───×────────@───@───@───iSwap───────────────────@───@──────────<__main__.DummyOperation object at 0x7f08778e1438>───DummyCompositeOperation()───\n",
       "                                                 │   │        │   │       │   │        │   │   │   │                       │   │\n",
       "q1: ───────────────────────────────────H─────────@───@^0.25───X───X^0.5───×───×^0.75───@───@───×───┼───────W(0.125)^0.25───@───@^-0.75────M('x?')──────────────────────────────────────────────────────────────────────────\n",
       "                                                                                       │   │   │   │\n",
       "q2: ───────────────────────────────────────────────────────────────────────────────────@───X───×───iSwap───────────────────────M('x_a')────────────────────────────────────────────────────────────────────────────────────\n",
       "\n",
       "q3: ───────────────────────────────────────────────────────────────────────────────────────────────Z───────Z^0.75─────────────────────────M('X')───────────────────────────────────────────────────────────────────────────\n",
       "\n",
       "q4: ──────────────────────────────────────────────────────────────────────────────────────────────────────────────────────────────────────M('_x')──────────────────────────────────────────────────────────────────────────</pre>"
      ],
      "text/plain": [
       "q0: ───Z───Z^0.625───Y───Y^0.375───X───X^0.875───@───@────────@───@───────×───×────────@───@───@───iSwap───────────────────@───@──────────<__main__.DummyOperation object at 0x7f08778e1438>───DummyCompositeOperation()───\n",
       "                                                 │   │        │   │       │   │        │   │   │   │                       │   │\n",
       "q1: ───────────────────────────────────H─────────@───@^0.25───X───X^0.5───×───×^0.75───@───@───×───┼───────W(0.125)^0.25───@───@^-0.75────M('x?')──────────────────────────────────────────────────────────────────────────\n",
       "                                                                                       │   │   │   │\n",
       "q2: ───────────────────────────────────────────────────────────────────────────────────@───X───×───iSwap───────────────────────M('x_a')────────────────────────────────────────────────────────────────────────────────────\n",
       "\n",
       "q3: ───────────────────────────────────────────────────────────────────────────────────────────────Z───────Z^0.75─────────────────────────M('X')───────────────────────────────────────────────────────────────────────────\n",
       "\n",
       "q4: ──────────────────────────────────────────────────────────────────────────────────────────────────────────────────────────────────────M('_x')──────────────────────────────────────────────────────────────────────────"
      ]
     },
     "metadata": {},
     "output_type": "display_data"
    }
   ],
   "source": [
    "class DummyOperation(cirq.Operation, cirq.QasmConvertableOperation, cirq.CompositeOperation):\n",
    "    @property\n",
    "    def qubits(self):\n",
    "        return (q0,)\n",
    "    \n",
    "    def with_qubits(self, *qubits):\n",
    "        raise NotImplementedError\n",
    "\n",
    "    def known_qasm_output(self, args):\n",
    "        return '// Dummy operation\\n'\n",
    "\n",
    "    def default_decompose(self):\n",
    "        return ()\n",
    "    \n",
    "class DummyCompositeOperation(cirq.Operation, cirq.CompositeOperation):\n",
    "    @property\n",
    "    def qubits(self):\n",
    "        return (q0,)\n",
    "    \n",
    "    def with_qubits(self, *qubits):\n",
    "        raise NotImplementedError\n",
    "\n",
    "    def default_decompose(self):\n",
    "        return cirq.X(self.qubits[0])\n",
    "    \n",
    "    def __repr__(self):\n",
    "        return 'DummyCompositeOperation()'\n",
    "\n",
    "circuit = cirq.Circuit.from_ops(\n",
    "        cirq.Z(q0),\n",
    "        cirq.Z(q0) ** .625,\n",
    "        cirq.Y(q0),\n",
    "        cirq.Y(q0) ** .375,\n",
    "        cirq.X(q0),\n",
    "        cirq.X(q0) ** .875,\n",
    "        cirq.H(q1),\n",
    "        cirq.CZ(q0, q1),\n",
    "        cirq.CZ(q0, q1) ** 0.25,  # Requires 2-qubit decomposition\n",
    "        cirq.CNOT(q0, q1),\n",
    "        cirq.CNOT(q0, q1) ** 0.5,  # Requires 2-qubit decomposition\n",
    "        cirq.SWAP(q0, q1),\n",
    "        cirq.SWAP(q0, q1) ** 0.75,  # Requires 2-qubit decomposition\n",
    "\n",
    "        cirq.CCZ(q0, q1, q2),\n",
    "        cirq.CCX(q0, q1, q2),\n",
    "        cirq.CSWAP(q0, q1, q2),\n",
    "\n",
    "        cirq.ISWAP(q2, q0),  # Requires 2-qubit decomposition\n",
    "\n",
    "        cirq.google.ExpZGate()(q3),\n",
    "        cirq.google.ExpZGate(half_turns=0.75)(q3),\n",
    "        cirq.google.ExpWGate(axis_half_turns=0.125, half_turns=0.25)(q1),\n",
    "        cirq.google.Exp11Gate()(q0, q1),\n",
    "        # Requires 2-qubit decomposition\n",
    "        cirq.google.Exp11Gate(half_turns=1.25)(q0, q1),\n",
    "\n",
    "        #cirq.MeasurementGate('xX')(q0),\n",
    "        cirq.MeasurementGate('x_a')(q2),\n",
    "        cirq.MeasurementGate('x?')(q1),\n",
    "        cirq.MeasurementGate('X')(q3),\n",
    "        cirq.MeasurementGate('_x')(q4),\n",
    "        #cirq.MeasurementGate('x_a')(q2),\n",
    "        #cirq.MeasurementGate('multi', (False, True))(q1, q2, q3),\n",
    "\n",
    "        DummyOperation(),\n",
    "        DummyCompositeOperation(),\n",
    "    )\n",
    "c = circuit\n",
    "display(c)\n",
    "u = c.to_unitary_matrix(qubit_order=[q4, q3, q2, q1, q0])\n",
    "#np.set_printoptions(precision=3, suppress=5)\n",
    "#u * np.exp(-1j*np.angle(u[0,0]))"
   ]
  },
  {
   "cell_type": "code",
   "execution_count": 4,
   "metadata": {
    "scrolled": true
   },
   "outputs": [
    {
     "name": "stdout",
     "output_type": "stream",
     "text": [
      "// Generated from Cirq\n",
      "\n",
      "OPENQASM 2.0;\n",
      "include \"qelib1.inc\";\n",
      "\n",
      "\n",
      "// Qubits: [q0, q1, q2, q3, q4]\n",
      "qreg q[5];\n",
      "creg m_x_a[1];\n",
      "creg m0[1];  // Measurement: x?\n",
      "creg m_X[1];\n",
      "creg m__x[1];\n",
      "\n",
      "\n",
      "z q[0];\n",
      "rz(pi*0.625) q[0];\n",
      "y q[0];\n",
      "ry(pi*0.375) q[0];\n",
      "x q[0];\n",
      "rx(pi*0.875) q[0];\n",
      "h q[1];\n",
      "cz q[0],q[1];\n",
      "\n",
      "// Gate: CZ**0.25\n",
      "u3(pi*0.5,pi*1.0,pi*0.75) q[0];\n",
      "u3(pi*0.5,pi*1.0,pi*0.25) q[1];\n",
      "rx(pi*0.5) q[0];\n",
      "cx q[0],q[1];\n",
      "rx(pi*0.375) q[0];\n",
      "ry(pi*0.5) q[1];\n",
      "cx q[1],q[0];\n",
      "rx(pi*-0.5) q[1];\n",
      "rz(pi*0.5) q[1];\n",
      "cx q[0],q[1];\n",
      "u3(pi*0.5,pi*0.375,0) q[0];\n",
      "u3(pi*0.5,pi*0.875,0) q[1];\n",
      "\n",
      "cx q[0],q[1];\n",
      "\n",
      "// Gate: CNOT**0.5\n",
      "ry(pi*-0.5) q[1];\n",
      "u3(pi*0.5,0,pi*0.25) q[0];\n",
      "u3(pi*0.5,0,pi*0.75) q[1];\n",
      "rx(pi*0.5) q[0];\n",
      "cx q[0],q[1];\n",
      "rx(pi*0.25) q[0];\n",
      "ry(pi*0.5) q[1];\n",
      "cx q[1],q[0];\n",
      "rx(pi*-0.5) q[1];\n",
      "rz(pi*0.5) q[1];\n",
      "cx q[0],q[1];\n",
      "u3(pi*0.5,pi*1.0,pi*1.0) q[0];\n",
      "u3(pi*0.5,pi*0.5,pi*1.0) q[1];\n",
      "ry(pi*0.5) q[1];\n",
      "\n",
      "swap q[0],q[1];\n",
      "\n",
      "// Gate: SWAP**0.75\n",
      "cx q[0],q[1];\n",
      "ry(pi*-0.5) q[0];\n",
      "u3(pi*0.5,0,pi*0.45919) q[1];\n",
      "u3(pi*0.5,0,pi*1.95919) q[0];\n",
      "rx(pi*0.5) q[1];\n",
      "cx q[1],q[0];\n",
      "rx(pi*0.125) q[1];\n",
      "ry(pi*0.5) q[0];\n",
      "cx q[0],q[1];\n",
      "rx(pi*-0.5) q[0];\n",
      "rz(pi*0.5) q[0];\n",
      "cx q[1],q[0];\n",
      "u3(pi*0.5,pi*0.91581,pi*1.0) q[1];\n",
      "u3(pi*0.5,pi*1.41581,pi*1.0) q[0];\n",
      "ry(pi*0.5) q[0];\n",
      "cx q[0],q[1];\n",
      "\n",
      "h q[2];\n",
      "ccx q[0],q[1],q[2];\n",
      "h q[2];\n",
      "ccx q[0],q[1],q[2];\n",
      "cswap q[0],q[1],q[2];\n",
      "\n",
      "// Gate: ISWAP\n",
      "cx q[2],q[0];\n",
      "h q[2];\n",
      "cx q[0],q[2];\n",
      "rz(pi*0.5) q[2];\n",
      "cx q[0],q[2];\n",
      "rz(pi*-0.5) q[2];\n",
      "h q[2];\n",
      "cx q[2],q[0];\n",
      "\n",
      "z q[3];\n",
      "rz(pi*0.75) q[3];\n",
      "\n",
      "// Gate: W(0.125)^0.25\n",
      "u3(pi*0.25,pi*1.625,pi*0.375) q[1];\n",
      "\n",
      "cz q[0],q[1];\n",
      "\n",
      "// Gate: Exp11Gate(half_turns=-0.75)\n",
      "u3(pi*0.5,0,pi*1.54081) q[0];\n",
      "u3(pi*0.5,pi*1.0,pi*0.04081) q[1];\n",
      "rx(pi*0.5) q[0];\n",
      "cx q[0],q[1];\n",
      "rx(pi*0.125) q[0];\n",
      "ry(pi*0.5) q[1];\n",
      "cx q[1],q[0];\n",
      "rx(pi*-0.5) q[1];\n",
      "rz(pi*0.5) q[1];\n",
      "cx q[0],q[1];\n",
      "u3(pi*0.5,pi*1.08419,pi*1.0) q[0];\n",
      "u3(pi*0.5,pi*0.58419,0) q[1];\n",
      "\n",
      "measure q[2] -> m_x_a[0];\n",
      "measure q[1] -> m0[0];\n",
      "measure q[3] -> m_X[0];\n",
      "measure q[4] -> m__x[0];\n",
      "// Dummy operation\n",
      "\n",
      "// Operation: DummyCompositeOperation()\n",
      "x q[0];\n",
      "\n"
     ]
    }
   ],
   "source": [
    "s = c.to_qasm(precision=5)\n",
    "print(s)"
   ]
  },
  {
   "cell_type": "code",
   "execution_count": 5,
   "metadata": {},
   "outputs": [
    {
     "name": "stderr",
     "output_type": "stream",
     "text": [
      "/usr/local/google/home/cduck/docs/cirqDev/lib/python3.5/site-packages/qiskit/_quantumprogram.py:433: DeprecationWarning: QuantumProgram.load_qasm_text() will be deprecated in upcoming versions (>0.5.0). Using qiskit.load_qasm_text() instead is recommended.\n",
      "  \"Using qiskit.load_qasm_text() instead is recommended.\", DeprecationWarning)\n"
     ]
    }
   ],
   "source": [
    "from qiskit import qasm\n",
    "import qiskit\n",
    "\n",
    "f = qasm.Qasm(data=s)\n",
    "pr = f.parse()\n",
    "text = pr.qasm()\n",
    "\n",
    "p = qiskit.QuantumProgram()\n",
    "p.load_qasm_text(s)\n",
    "sim_result = p.execute(backend='local_unitary_simulator')\n",
    "u_qiskit = sim_result.get_unitary()"
   ]
  },
  {
   "cell_type": "code",
   "execution_count": 6,
   "metadata": {},
   "outputs": [],
   "source": [
    "cirq.testing.assert_allclose_up_to_global_phase(u, u_qiskit, rtol=1e-10, atol=1e-10)"
   ]
  },
  {
   "cell_type": "code",
   "execution_count": 7,
   "metadata": {},
   "outputs": [
    {
     "data": {
      "text/plain": [
       "array([[ 0.        +0.j        ,  0.        +0.j        ,\n",
       "         0.        +0.j        , ...,  0.        +0.j        ,\n",
       "         0.        +0.j        ,  0.        +0.j        ],\n",
       "       [-0.23533543+0.18114224j,  0.16902423+0.39981017j,\n",
       "        -0.40167231+0.18285096j, ...,  0.        +0.j        ,\n",
       "         0.        +0.j        ,  0.        +0.j        ],\n",
       "       [ 0.        +0.j        ,  0.        +0.j        ,\n",
       "         0.        +0.j        , ...,  0.        +0.j        ,\n",
       "         0.        +0.j        ,  0.        +0.j        ],\n",
       "       ...,\n",
       "       [ 0.        +0.j        ,  0.        +0.j        ,\n",
       "         0.        +0.j        , ...,  0.10583981-0.0597131j ,\n",
       "         0.03103786-0.14744755j,  0.07093688-0.03595775j],\n",
       "       [ 0.        +0.j        ,  0.        +0.j        ,\n",
       "         0.        +0.j        , ...,  0.0732233 -0.03962817j,\n",
       "        -0.07493202+0.28103786j, -0.09567086-0.1767767j ],\n",
       "       [ 0.        +0.j        ,  0.        +0.j        ,\n",
       "         0.        +0.j        , ...,  0.03540341+0.29123734j,\n",
       "         0.30019805+0.20545194j,  0.01466457+0.19144127j]])"
      ]
     },
     "execution_count": 7,
     "metadata": {},
     "output_type": "execute_result"
    }
   ],
   "source": [
    "u"
   ]
  },
  {
   "cell_type": "code",
   "execution_count": 8,
   "metadata": {},
   "outputs": [
    {
     "data": {
      "text/plain": [
       "array([[ 1.02811684e-16-3.82234437e-18j, -1.16287782e-16-3.72446058e-18j,\n",
       "        -7.68435283e-17-3.29568587e-17j, ...,\n",
       "         0.00000000e+00+0.00000000e+00j,  0.00000000e+00+0.00000000e+00j,\n",
       "         0.00000000e+00+0.00000000e+00j],\n",
       "       [-2.81359628e-01-9.50370208e-02j, -2.38525175e-01+3.62661141e-01j,\n",
       "        -3.75192198e-01-2.32391773e-01j, ...,\n",
       "         0.00000000e+00+0.00000000e+00j,  0.00000000e+00+0.00000000e+00j,\n",
       "         0.00000000e+00+0.00000000e+00j],\n",
       "       [-3.54501184e-17+3.83538310e-17j, -5.26992817e-18-1.64742234e-16j,\n",
       "        -8.49682578e-17+1.06857465e-16j, ...,\n",
       "         0.00000000e+00+0.00000000e+00j,  0.00000000e+00+0.00000000e+00j,\n",
       "         0.00000000e+00+0.00000000e+00j],\n",
       "       ...,\n",
       "       [ 0.00000000e+00+0.00000000e+00j,  0.00000000e+00+0.00000000e+00j,\n",
       "         0.00000000e+00+0.00000000e+00j, ...,\n",
       "         1.08451082e-01+5.48277666e-02j,  1.39841871e-01-5.61104340e-02j,\n",
       "         6.93081992e-02+3.90048027e-02j],\n",
       "       [ 0.00000000e+00+0.00000000e+00j,  0.00000000e+00+0.00000000e+00j,\n",
       "         0.00000000e+00+0.00000000e+00j, ...,\n",
       "         7.36303051e-02+3.88667228e-02j, -2.75304442e-01+9.38325694e-02j,\n",
       "         9.38325694e-02-1.77759281e-01j],\n",
       "       [ 0.00000000e+00+0.00000000e+00j,  0.00000000e+00+0.00000000e+00j,\n",
       "         0.00000000e+00+0.00000000e+00j, ...,\n",
       "        -2.22485916e-01+1.91239650e-01j, -4.04594602e-03+3.63748534e-01j,\n",
       "        -1.51030396e-01+1.18552214e-01j]])"
      ]
     },
     "execution_count": 8,
     "metadata": {},
     "output_type": "execute_result"
    }
   ],
   "source": [
    "u_qiskit"
   ]
  },
  {
   "cell_type": "code",
   "execution_count": null,
   "metadata": {},
   "outputs": [],
   "source": []
  },
  {
   "cell_type": "code",
   "execution_count": null,
   "metadata": {},
   "outputs": [],
   "source": []
  },
  {
   "cell_type": "code",
   "execution_count": null,
   "metadata": {},
   "outputs": [],
   "source": []
  },
  {
   "cell_type": "code",
   "execution_count": null,
   "metadata": {},
   "outputs": [],
   "source": []
  },
  {
   "cell_type": "code",
   "execution_count": null,
   "metadata": {},
   "outputs": [],
   "source": []
  },
  {
   "cell_type": "code",
   "execution_count": 9,
   "metadata": {},
   "outputs": [],
   "source": [
    "np.set_printoptions(precision=4, suppress=6)"
   ]
  },
  {
   "cell_type": "code",
   "execution_count": 10,
   "metadata": {},
   "outputs": [
    {
     "data": {
      "text/plain": [
       "array([[ 0.5878-0.j    , -0.25  +0.7694j],\n",
       "       [-0.6545+0.4755j,  0.1816+0.559j ]])"
      ]
     },
     "execution_count": 10,
     "metadata": {},
     "output_type": "execute_result"
    }
   ],
   "source": [
    "u = ops_to_matrix(\n",
    "    cirq.google.ExpWGate(axis_half_turns=0.1)(q0),\n",
    "    cirq.google.ExpWGate(axis_half_turns=0.3, half_turns=0.4)(q0),\n",
    ")\n",
    "u * np.exp(-1j*np.angle(u[0,0]))"
   ]
  },
  {
   "cell_type": "code",
   "execution_count": 11,
   "metadata": {},
   "outputs": [
    {
     "data": {
      "text/plain": [
       "array([[ 0.5878+0.j    ,  0.25  +0.7694j],\n",
       "       [-0.25  +0.7694j,  0.5878+0.j    ]])"
      ]
     },
     "execution_count": 11,
     "metadata": {},
     "output_type": "execute_result"
    }
   ],
   "source": [
    "u = ops_to_matrix(\n",
    "    cirq.google.ExpWGate(axis_half_turns=(0.3-0.2), half_turns=0.4)(q0),\n",
    "    cirq.google.ExpWGate(axis_half_turns=0.1)(q0),\n",
    ")\n",
    "u * np.exp(-1j*np.angle(u[0,0]))"
   ]
  },
  {
   "cell_type": "code",
   "execution_count": 12,
   "metadata": {},
   "outputs": [
    {
     "data": {
      "text/plain": [
       "array([[ 0.5878+0.j    , -0.25  +0.7694j],\n",
       "       [-0.6545+0.4755j,  0.1816+0.559j ]])"
      ]
     },
     "execution_count": 12,
     "metadata": {},
     "output_type": "execute_result"
    }
   ],
   "source": [
    "u = ops_to_matrix(\n",
    "    cirq.google.ExpWGate(axis_half_turns=(0.2-0.3), half_turns=0.4)(q0),\n",
    "    cirq.google.ExpWGate(axis_half_turns=0.1)(q0),\n",
    ")\n",
    "u * np.exp(-1j*np.angle(u[0,0]))"
   ]
  },
  {
   "cell_type": "code",
   "execution_count": 13,
   "metadata": {},
   "outputs": [
    {
     "data": {
      "text/plain": [
       "[GateOperation(MeasurementGate('q0', ()), (NamedQubit('q0'),)),\n",
       " GateOperation(MeasurementGate('q1', ()), (NamedQubit('q1'),))]"
      ]
     },
     "execution_count": 13,
     "metadata": {},
     "output_type": "execute_result"
    }
   ],
   "source": [
    "cirq.measure_each(q0, q1)"
   ]
  },
  {
   "cell_type": "code",
   "execution_count": null,
   "metadata": {},
   "outputs": [],
   "source": []
  },
  {
   "cell_type": "code",
   "execution_count": null,
   "metadata": {},
   "outputs": [],
   "source": []
  }
 ],
 "metadata": {
  "kernelspec": {
   "display_name": "Python 3",
   "language": "python",
   "name": "python3"
  },
  "language_info": {
   "codemirror_mode": {
    "name": "ipython",
    "version": 3
   },
   "file_extension": ".py",
   "mimetype": "text/x-python",
   "name": "python",
   "nbconvert_exporter": "python",
   "pygments_lexer": "ipython3",
   "version": "3.5.3"
  }
 },
 "nbformat": 4,
 "nbformat_minor": 2
}
