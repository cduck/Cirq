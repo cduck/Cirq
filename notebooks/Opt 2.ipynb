{
 "cells": [
  {
   "cell_type": "code",
   "execution_count": 1,
   "metadata": {},
   "outputs": [],
   "source": [
    "import numpy as np\n",
    "import itertools\n",
    "\n",
    "import cirq\n",
    "from cirq import ops, Circuit\n",
    "from cirq.ops import CZ, H, CNOT, X, Y, Z, SWAP\n",
    "\n",
    "#from cirq.google import Simulator, ConvertToXmonGates, MergeRotations, MergeInteractions, EjectZ\n",
    "\n",
    "from cirq.contrib.interaction_gate2 import InteractionGate\n",
    "from cirq.contrib.control_basis import *\n",
    "\n",
    "from cirq.testing import assert_allclose_up_to_global_phase"
   ]
  },
  {
   "cell_type": "code",
   "execution_count": 2,
   "metadata": {},
   "outputs": [],
   "source": [
    "from IPython.display import display\n",
    "\n",
    "def _ops_to_matrix(*ops, digits=3):\n",
    "    c = cirq.Circuit.from_ops(*ops)\n",
    "    display(c)\n",
    "    m = c.to_unitary_matrix()\n",
    "    return m.round(digits)"
   ]
  },
  {
   "cell_type": "code",
   "execution_count": null,
   "metadata": {},
   "outputs": [],
   "source": []
  },
  {
   "cell_type": "code",
   "execution_count": 3,
   "metadata": {},
   "outputs": [],
   "source": [
    "class Point:\n",
    "    def __init__(self, qubit: ops.QubitId, axis: int):\n",
    "        assert 0 <= axis < 6\n",
    "        self.qubit = qubit\n",
    "        self.axis = axis\n",
    "        self.interaction = None\n",
    "    def set_interaction(self, interaction):\n",
    "        self.interaction = interaction\n",
    "    def commutes_with(self, other):\n",
    "        return self.axis % 3 == other.axis % 3\n",
    "    def __str__(self):\n",
    "        return ('X', 'Y', 'Z', 'nX', 'nY', 'nZ')[self.axis]"
   ]
  },
  {
   "cell_type": "code",
   "execution_count": 4,
   "metadata": {},
   "outputs": [],
   "source": [
    "class Interaction:\n",
    "    def __init__(self, qubit_point_map, half_turns: float = 1.0):\n",
    "        self.qubit_point_map = qubit_point_map\n",
    "        self.half_turns = half_turns\n",
    "        for point in self.qubit_point_map.values():\n",
    "            point.set_interaction(self)\n",
    "            \n",
    "    def is_single(self):\n",
    "        return len(qubit_point_map) == 1\n",
    "    \n",
    "    def __repr__(self):\n",
    "        qubit_point_list = self.qubit_point_map.items()  # TODO: Sort?\n",
    "        repr_list = ('{!s}({!s})'.format(point, qubit)\n",
    "                     for qubit, point in qubit_point_list)\n",
    "        out = '-'.join(repr_list)\n",
    "        if self.half_turns != 1.0:\n",
    "            out += '**{}'.format(round(self.half_turns, 3))\n",
    "        return out\n",
    "    \n",
    "    def as_op(self):\n",
    "        if not 1 <= len(self.qubit_point_map) <= 2:\n",
    "            raise NotImplementedError\n",
    "        if len(self.qubit_point_map) == 1:\n",
    "            qubit, point = next(iter(self.qubit_point_map.items()))\n",
    "            return (X, Y, Z, X**-1, Y**-1, Z**-1)[point.axis](qubit) ** self.half_turns\n",
    "        elif len(self.qubit_point_map) == 2:\n",
    "            itms = iter(self.qubit_point_map.items())\n",
    "            qubit0, point0 = next(itms)\n",
    "            qubit1, point1 = next(itms)\n",
    "            bases = (X_BASIS, Y_BASIS, Z_BASIS, nX_BASIS, nY_BASIS, nZ_BASIS)\n",
    "            return InteractionGate(bases[point0.axis], bases[point1.axis], half_turns=self.half_turns)(qubit0, qubit1)\n",
    "\n",
    "\n",
    "def interaction_from_op(op):\n",
    "    conversions = (  # All assumed to be EigenGate subclasses\n",
    "        (ops.RotXGate, (0,)),\n",
    "        (ops.RotYGate, (1,)),\n",
    "        (ops.RotZGate, (2,)),\n",
    "        (ops.Rot11Gate, (2, 2)),\n",
    "        (ops.CNotGate, (2, 0)),\n",
    "        (InteractionGate, '?'),\n",
    "    )\n",
    "    for cls, axes in conversions:\n",
    "        if isinstance(op.gate, cls):\n",
    "            if axes == '?':\n",
    "                qubit_map = {qubit: Point(qubit, basis.axis) for qubit, basis in zip(op.qubits, op.gate.bases)}\n",
    "                half_turns = op.gate.half_turns\n",
    "            else:\n",
    "                assert len(op.qubits) == len(axes)\n",
    "                qubit_map = {qubit: Point(qubit, axis) for qubit, axis in zip(op.qubits, axes)}\n",
    "                half_turns = op.gate._exponent  # TODO: Don't access private value\n",
    "            return Interaction(qubit_map, half_turns=half_turns)\n",
    "    raise TypeError('Gate cannot be converted to interaction: {}'.format(op.gate))"
   ]
  },
  {
   "cell_type": "code",
   "execution_count": 5,
   "metadata": {},
   "outputs": [],
   "source": [
    "class CommutingSet:\n",
    "    def __init__(self, qubit: ops.QubitId, axis: int):\n",
    "        assert 0 <= axis < 6\n",
    "        self.qubit = qubit\n",
    "        self.axis = axis % 3\n",
    "        self.points = set()\n",
    "\n",
    "    def __repr__(self):\n",
    "        return '{}*{}'.format(('X', 'Y', 'Z', 'nX', 'nY', 'nZ')[self.axis], len(self.points))\n",
    "\n",
    "    def commutes_with(self, other):\n",
    "        return self.axis % 3 == other.axis % 3\n",
    "\n",
    "    def add(self, point):\n",
    "        assert point.axis % 3 == self.axis\n",
    "        self.points.add(point)"
   ]
  },
  {
   "cell_type": "code",
   "execution_count": 6,
   "metadata": {},
   "outputs": [],
   "source": [
    "def circuit_to_interactions(circuit):\n",
    "    #qubits = circuit.qubits()\n",
    "    # TODO: Connectivity\n",
    "    output = {qubit: [] for qubit in circuit.qubits()}\n",
    "    last_sets = {}\n",
    "    for op in circuit.iter_ops():\n",
    "        interaction = interaction_from_op(op)\n",
    "        for qubit, point in interaction.qubit_point_map.items():\n",
    "            commuting_set = last_sets.get(qubit, None)\n",
    "            if commuting_set is None or not commuting_set.commutes_with(point):\n",
    "                commuting_set = CommutingSet(qubit, point.axis)\n",
    "                output[qubit].append(commuting_set)\n",
    "                last_sets[qubit] = commuting_set\n",
    "            commuting_set.add(point)\n",
    "    return output"
   ]
  },
  {
   "cell_type": "code",
   "execution_count": 7,
   "metadata": {},
   "outputs": [],
   "source": [
    "def interactions_to_ops(interactions):\n",
    "    qubits = interactions.keys()\n",
    "    last_sets = {}\n",
    "    last_index = {qubit: -1 for qubit in qubits}\n",
    "    count_down = len(qubits)\n",
    "    used_set = set()\n",
    "    def get_options(qubit):\n",
    "        nonlocal count_down\n",
    "        last_set = last_sets.get(qubit, None)\n",
    "        if last_set is None or last_set.issubset(used_set):\n",
    "            i = last_index[qubit]\n",
    "            if i is None:\n",
    "                return set()\n",
    "            i += 1\n",
    "            if i >= len(interactions[qubit]):\n",
    "                last_index[qubit] = None\n",
    "                count_down -= 1\n",
    "                return set()\n",
    "            last_index[qubit] = i\n",
    "            last_set = set((point.interaction for point in interactions[qubit][i].points))\n",
    "            last_sets[qubit] = last_set\n",
    "        return last_set - used_set\n",
    "    def get_next_interactions():\n",
    "        next_interactions = set()\n",
    "        interactions_map = {qubit: get_options(qubit) for qubit in qubits}\n",
    "        for interactions in interactions_map.values():\n",
    "            for interaction in interactions:\n",
    "                for qubit in interaction.qubit_point_map.keys():\n",
    "                    if interaction not in interactions_map[qubit]:\n",
    "                        break\n",
    "                else:  # If doesn't break\n",
    "                    used_set.add(interaction)\n",
    "                    return interaction\n",
    "        if count_down > 0:\n",
    "            raise RuntimeError('Invalid interaction dependencies')\n",
    "                \n",
    "    while True:\n",
    "        interaction = get_next_interactions()\n",
    "        if count_down <= 0:\n",
    "            return\n",
    "        op = interaction.as_op()\n",
    "        print(interaction, op)\n",
    "        yield op\n",
    "\n",
    "def interactions_to_circuit(interactions):\n",
    "    return Circuit.from_ops(interactions_to_ops(interactions), strategy=cirq.InsertStrategy.EARLIEST)"
   ]
  },
  {
   "cell_type": "code",
   "execution_count": null,
   "metadata": {},
   "outputs": [],
   "source": []
  },
  {
   "cell_type": "code",
   "execution_count": 8,
   "metadata": {},
   "outputs": [],
   "source": [
    "q0, q1, q2 = (cirq.NamedQubit('q{}'.format(i)) for i in range(3))"
   ]
  },
  {
   "cell_type": "code",
   "execution_count": 9,
   "metadata": {},
   "outputs": [],
   "source": [
    "CNOT = InteractionGate(Z_BASIS, X_BASIS)\n",
    "CZ = InteractionGate(Z_BASIS, Z_BASIS)"
   ]
  },
  {
   "cell_type": "code",
   "execution_count": 10,
   "metadata": {},
   "outputs": [
    {
     "data": {
      "text/html": [
       "<pre style=\"overflow: auto; white-space: pre;\">q0: ─────────────────────────────────────────Z──────────────────────────────────────────────────Z────────────────────────Z───Z^0.25────Z───────────\n",
       "                                             │                                                  │                        │             │\n",
       "q1: ───────────────Z─────────────Z───X───Z───X───Z───X───Z────────────Z─────────────Z───X───Z───X───Z───X───Z───Z^0.25───X───Z^-0.25───X───────────\n",
       "                   │             │   │   │       │   │   │            │             │   │   │       │   │   │\n",
       "q2: ───Y^0.5───X───X───Z^-0.25───X───Z───X───────X───Z───X───Z^0.25───X───Z^-0.25───X───Z───X───────X───Z───X───Z^0.25─────────────────Y^0.5───X───</pre>"
      ],
      "text/plain": [
       "q0: ─────────────────────────────────────────Z──────────────────────────────────────────────────Z────────────────────────Z───Z^0.25────Z───────────\n",
       "                                             │                                                  │                        │             │\n",
       "q1: ───────────────Z─────────────Z───X───Z───X───Z───X───Z────────────Z─────────────Z───X───Z───X───Z───X───Z───Z^0.25───X───Z^-0.25───X───────────\n",
       "                   │             │   │   │       │   │   │            │             │   │   │       │   │   │\n",
       "q2: ───Y^0.5───X───X───Z^-0.25───X───Z───X───────X───Z───X───Z^0.25───X───Z^-0.25───X───Z───X───────X───Z───X───Z^0.25─────────────────Y^0.5───X───"
      ]
     },
     "metadata": {},
     "output_type": "display_data"
    },
    {
     "data": {
      "text/plain": [
       "array([[1.+0.j, 0.+0.j, 0.+0.j, 0.+0.j, 0.+0.j, 0.+0.j, 0.+0.j, 0.+0.j],\n",
       "       [0.+0.j, 1.+0.j, 0.+0.j, 0.+0.j, 0.+0.j, 0.+0.j, 0.+0.j, 0.+0.j],\n",
       "       [0.+0.j, 0.+0.j, 1.+0.j, 0.+0.j, 0.+0.j, 0.+0.j, 0.+0.j, 0.+0.j],\n",
       "       [0.+0.j, 0.+0.j, 0.+0.j, 1.+0.j, 0.+0.j, 0.+0.j, 0.+0.j, 0.+0.j],\n",
       "       [0.+0.j, 0.+0.j, 0.+0.j, 0.+0.j, 1.+0.j, 0.+0.j, 0.+0.j, 0.+0.j],\n",
       "       [0.+0.j, 0.+0.j, 0.+0.j, 0.+0.j, 0.+0.j, 1.+0.j, 0.+0.j, 0.+0.j],\n",
       "       [0.+0.j, 0.+0.j, 0.+0.j, 0.+0.j, 0.+0.j, 0.+0.j, 0.+0.j, 1.+0.j],\n",
       "       [0.+0.j, 0.+0.j, 0.+0.j, 0.+0.j, 0.+0.j, 0.+0.j, 1.+0.j, 0.+0.j]])"
      ]
     },
     "execution_count": 10,
     "metadata": {},
     "output_type": "execute_result"
    }
   ],
   "source": [
    "# Linear connectivity toffoli gate without optimization\n",
    "circuit = Circuit.from_ops(\n",
    "    Y(q2) ** 0.5,\n",
    "    X(q2),\n",
    "    CNOT(q1, q2),\n",
    "    Z(q2) ** -0.25,\n",
    "    CNOT(q1, q2),\n",
    "    CNOT(q2, q1),\n",
    "    CNOT(q1, q2),\n",
    "    CNOT(q0, q1),\n",
    "    CNOT(q1, q2),\n",
    "    CNOT(q2, q1),\n",
    "    CNOT(q1, q2),\n",
    "    Z(q2) ** 0.25,\n",
    "    CNOT(q1, q2),\n",
    "    Z(q2) ** -0.25,\n",
    "    CNOT(q1, q2),\n",
    "    CNOT(q2, q1),\n",
    "    CNOT(q1, q2),\n",
    "    CNOT(q0, q1),\n",
    "    CNOT(q1, q2),\n",
    "    CNOT(q2, q1),\n",
    "    CNOT(q1, q2),\n",
    "    Z(q2) ** 0.25,\n",
    "    Z(q1) ** 0.25,\n",
    "    CNOT(q0, q1),\n",
    "    Z(q0) ** 0.25,\n",
    "    Z(q1) ** -0.25,\n",
    "    CNOT(q0, q1),\n",
    "    Y(q2) ** 0.5,\n",
    "    X(q2),\n",
    ")\n",
    "display(circuit)\n",
    "(circuit.to_unitary_matrix() / 1j + 0.000001 + 0.000001j).round(3)"
   ]
  },
  {
   "cell_type": "code",
   "execution_count": 11,
   "metadata": {},
   "outputs": [],
   "source": [
    "interactions = circuit_to_interactions(circuit)\n",
    "#interactions"
   ]
  },
  {
   "cell_type": "code",
   "execution_count": 13,
   "metadata": {},
   "outputs": [
    {
     "name": "stdout",
     "output_type": "stream",
     "text": [
      "Z(q0)**0.25 Z**0.25(q0)\n",
      "Y(q2)**0.5 Y**0.5(q2)\n",
      "Z(q1)-X(q2) <cirq.contrib.interaction_gate2.InteractionGate object at 0x7f1b2f14c898>(q1, q2)\n",
      "X(q2) X(q2)\n",
      "Z(q2)**-0.25 Z**-0.25(q2)\n",
      "Z(q1)-X(q2) <cirq.contrib.interaction_gate2.InteractionGate object at 0x7f1b2f14ca90>(q1, q2)\n",
      "X(q1)-Z(q2) <cirq.contrib.interaction_gate2.InteractionGate object at 0x7f1b2f14ce80>(q1, q2)\n",
      "Z(q1)-X(q2) <cirq.contrib.interaction_gate2.InteractionGate object at 0x7f1b2f14cc88>(q1, q2)\n",
      "X(q1)-Z(q0) <cirq.contrib.interaction_gate2.InteractionGate object at 0x7f1b2f12c2e8>(q1, q0)\n",
      "Z(q1)-X(q2) <cirq.contrib.interaction_gate2.InteractionGate object at 0x7f1b2f14cf60>(q1, q2)\n",
      "X(q1)-Z(q2) <cirq.contrib.interaction_gate2.InteractionGate object at 0x7f1b2f147048>(q1, q2)\n",
      "Z(q1)-X(q2) <cirq.contrib.interaction_gate2.InteractionGate object at 0x7f1b2f1470f0>(q1, q2)\n",
      "Z(q2)**0.25 Z**0.25(q2)\n",
      "Z(q1)-X(q2) <cirq.contrib.interaction_gate2.InteractionGate object at 0x7f1b2f147278>(q1, q2)\n",
      "Z(q2)**-0.25 Z**-0.25(q2)\n",
      "Z(q1)-X(q2) <cirq.contrib.interaction_gate2.InteractionGate object at 0x7f1b2f1473c8>(q1, q2)\n",
      "X(q1)-Z(q2) <cirq.contrib.interaction_gate2.InteractionGate object at 0x7f1b2f147438>(q1, q2)\n",
      "Z(q1)-X(q2) <cirq.contrib.interaction_gate2.InteractionGate object at 0x7f1b2f1474e0>(q1, q2)\n",
      "X(q1)-Z(q0) <cirq.contrib.interaction_gate2.InteractionGate object at 0x7f1b2f147588>(q1, q0)\n",
      "Z(q1)-X(q2) <cirq.contrib.interaction_gate2.InteractionGate object at 0x7f1b2f14ca58>(q1, q2)\n",
      "X(q1)-Z(q2) <cirq.contrib.interaction_gate2.InteractionGate object at 0x7f1b2f147668>(q1, q2)\n",
      "Z(q1)-X(q2) <cirq.contrib.interaction_gate2.InteractionGate object at 0x7f1b2f147710>(q1, q2)\n",
      "Z(q1)**0.25 Z**0.25(q1)\n",
      "X(q1)-Z(q0) <cirq.contrib.interaction_gate2.InteractionGate object at 0x7f1b2f147978>(q1, q0)\n",
      "Z(q1)**-0.25 Z**-0.25(q1)\n",
      "X(q1)-Z(q0) <cirq.contrib.interaction_gate2.InteractionGate object at 0x7f1b2f147b70>(q1, q0)\n",
      "Z(q2)**0.25 Z**0.25(q2)\n",
      "Y(q2)**0.5 Y**0.5(q2)\n",
      "X(q2) X(q2)\n"
     ]
    },
    {
     "data": {
      "text/html": [
       "<pre style=\"overflow: auto; white-space: pre;\">q0: ───Z^0.25─────────────────────────────────Z──────────────────────────────────────────────────Z────────────────────────Z─────────────────Z───\n",
       "                                              │                                                  │                        │                 │\n",
       "q1: ────────────Z─────────────────Z───X───Z───X───Z───X───Z────────────Z─────────────Z───X───Z───X───Z───X───Z───Z^0.25───X───────Z^-0.25───X───\n",
       "                │                 │   │   │       │   │   │            │             │   │   │       │   │   │\n",
       "q2: ───Y^0.5────X───X───Z^-0.25───X───Z───X───────X───Z───X───Z^0.25───X───Z^-0.25───X───Z───X───────X───Z───X───Z^0.25───Y^0.5───X─────────────</pre>"
      ],
      "text/plain": [
       "q0: ───Z^0.25─────────────────────────────────Z──────────────────────────────────────────────────Z────────────────────────Z─────────────────Z───\n",
       "                                              │                                                  │                        │                 │\n",
       "q1: ────────────Z─────────────────Z───X───Z───X───Z───X───Z────────────Z─────────────Z───X───Z───X───Z───X───Z───Z^0.25───X───────Z^-0.25───X───\n",
       "                │                 │   │   │       │   │   │            │             │   │   │       │   │   │\n",
       "q2: ───Y^0.5────X───X───Z^-0.25───X───Z───X───────X───Z───X───Z^0.25───X───Z^-0.25───X───Z───X───────X───Z───X───Z^0.25───Y^0.5───X─────────────"
      ]
     },
     "metadata": {},
     "output_type": "display_data"
    },
    {
     "data": {
      "text/plain": [
       "array([[1.+0.j, 0.+0.j, 0.+0.j, 0.+0.j, 0.+0.j, 0.+0.j, 0.+0.j, 0.+0.j],\n",
       "       [0.+0.j, 1.+0.j, 0.+0.j, 0.+0.j, 0.+0.j, 0.+0.j, 0.+0.j, 0.+0.j],\n",
       "       [0.+0.j, 0.+0.j, 1.+0.j, 0.+0.j, 0.+0.j, 0.+0.j, 0.+0.j, 0.+0.j],\n",
       "       [0.+0.j, 0.+0.j, 0.+0.j, 1.+0.j, 0.+0.j, 0.+0.j, 0.+0.j, 0.+0.j],\n",
       "       [0.+0.j, 0.+0.j, 0.+0.j, 0.+0.j, 1.+0.j, 0.+0.j, 0.+0.j, 0.+0.j],\n",
       "       [0.+0.j, 0.+0.j, 0.+0.j, 0.+0.j, 0.+0.j, 1.+0.j, 0.+0.j, 0.+0.j],\n",
       "       [0.+0.j, 0.+0.j, 0.+0.j, 0.+0.j, 0.+0.j, 0.+0.j, 0.+0.j, 1.+0.j],\n",
       "       [0.+0.j, 0.+0.j, 0.+0.j, 0.+0.j, 0.+0.j, 0.+0.j, 1.+0.j, 0.+0.j]])"
      ]
     },
     "execution_count": 13,
     "metadata": {},
     "output_type": "execute_result"
    }
   ],
   "source": [
    "c = interactions_to_circuit(interactions)\n",
    "display(c)\n",
    "(c.to_unitary_matrix() / 1j + 0.000001 + 0.000001j).round(3)"
   ]
  },
  {
   "cell_type": "code",
   "execution_count": 14,
   "metadata": {},
   "outputs": [
    {
     "data": {
      "text/html": [
       "<pre style=\"overflow: auto; white-space: pre;\">q0: ─────────────────────────────────────────Z──────────────────────────────────────────────────Z────────────────────────Z───Z^0.25────Z───────────\n",
       "                                             │                                                  │                        │             │\n",
       "q1: ───────────────Z─────────────Z───X───Z───X───Z───X───Z────────────Z─────────────Z───X───Z───X───Z───X───Z───Z^0.25───X───Z^-0.25───X───────────\n",
       "                   │             │   │   │       │   │   │            │             │   │   │       │   │   │\n",
       "q2: ───Y^0.5───X───X───Z^-0.25───X───Z───X───────X───Z───X───Z^0.25───X───Z^-0.25───X───Z───X───────X───Z───X───Z^0.25─────────────────Y^0.5───X───</pre>"
      ],
      "text/plain": [
       "q0: ─────────────────────────────────────────Z──────────────────────────────────────────────────Z────────────────────────Z───Z^0.25────Z───────────\n",
       "                                             │                                                  │                        │             │\n",
       "q1: ───────────────Z─────────────Z───X───Z───X───Z───X───Z────────────Z─────────────Z───X───Z───X───Z───X───Z───Z^0.25───X───Z^-0.25───X───────────\n",
       "                   │             │   │   │       │   │   │            │             │   │   │       │   │   │\n",
       "q2: ───Y^0.5───X───X───Z^-0.25───X───Z───X───────X───Z───X───Z^0.25───X───Z^-0.25───X───Z───X───────X───Z───X───Z^0.25─────────────────Y^0.5───X───"
      ]
     },
     "metadata": {},
     "output_type": "display_data"
    },
    {
     "data": {
      "text/plain": [
       "array([[1.+0.j, 0.+0.j, 0.+0.j, 0.+0.j, 0.+0.j, 0.+0.j, 0.+0.j, 0.+0.j],\n",
       "       [0.+0.j, 1.+0.j, 0.+0.j, 0.+0.j, 0.+0.j, 0.+0.j, 0.+0.j, 0.+0.j],\n",
       "       [0.+0.j, 0.+0.j, 1.+0.j, 0.+0.j, 0.+0.j, 0.+0.j, 0.+0.j, 0.+0.j],\n",
       "       [0.+0.j, 0.+0.j, 0.+0.j, 1.+0.j, 0.+0.j, 0.+0.j, 0.+0.j, 0.+0.j],\n",
       "       [0.+0.j, 0.+0.j, 0.+0.j, 0.+0.j, 1.+0.j, 0.+0.j, 0.+0.j, 0.+0.j],\n",
       "       [0.+0.j, 0.+0.j, 0.+0.j, 0.+0.j, 0.+0.j, 1.+0.j, 0.+0.j, 0.+0.j],\n",
       "       [0.+0.j, 0.+0.j, 0.+0.j, 0.+0.j, 0.+0.j, 0.+0.j, 0.+0.j, 1.+0.j],\n",
       "       [0.+0.j, 0.+0.j, 0.+0.j, 0.+0.j, 0.+0.j, 0.+0.j, 1.+0.j, 0.+0.j]])"
      ]
     },
     "execution_count": 14,
     "metadata": {},
     "output_type": "execute_result"
    }
   ],
   "source": [
    "#c2 = Circuit.from_ops((interaction_from_op(op).as_op() for op in circuit.iter_ops()))\n",
    "c2 = Circuit.from_ops((op for op in circuit.iter_ops()))\n",
    "display(c2)\n",
    "(c2.to_unitary_matrix() / 1j + 0.000001 + 0.000001j).round(3)"
   ]
  },
  {
   "cell_type": "code",
   "execution_count": null,
   "metadata": {},
   "outputs": [],
   "source": []
  },
  {
   "cell_type": "code",
   "execution_count": null,
   "metadata": {},
   "outputs": [],
   "source": []
  },
  {
   "cell_type": "code",
   "execution_count": null,
   "metadata": {},
   "outputs": [],
   "source": []
  },
  {
   "cell_type": "code",
   "execution_count": null,
   "metadata": {},
   "outputs": [],
   "source": []
  }
 ],
 "metadata": {
  "kernelspec": {
   "display_name": "Python 3",
   "language": "python",
   "name": "python3"
  },
  "language_info": {
   "codemirror_mode": {
    "name": "ipython",
    "version": 3
   },
   "file_extension": ".py",
   "mimetype": "text/x-python",
   "name": "python",
   "nbconvert_exporter": "python",
   "pygments_lexer": "ipython3",
   "version": "3.5.3"
  }
 },
 "nbformat": 4,
 "nbformat_minor": 2
}
