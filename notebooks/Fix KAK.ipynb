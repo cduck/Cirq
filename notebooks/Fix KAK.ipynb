{
 "cells": [
  {
   "cell_type": "code",
   "execution_count": 1,
   "metadata": {},
   "outputs": [],
   "source": [
    "import itertools\n",
    "from typing import (Any, Dict, FrozenSet, Hashable, ItemsView, Iterator, Iterable,\n",
    "                    KeysView, List, Mapping, NamedTuple, Optional,\n",
    "                    Sequence, Tuple, Union, ValuesView, cast)\n",
    "import random\n",
    "\n",
    "import numpy as np\n",
    "\n",
    "from cirq import ops, abc, value, extension, linalg, circuits\n",
    "import cirq"
   ]
  },
  {
   "cell_type": "code",
   "execution_count": 2,
   "metadata": {},
   "outputs": [],
   "source": [
    "def ops_to_matrix(*ops):\n",
    "    c = cirq.Circuit.from_ops(*ops)\n",
    "    return c.to_unitary_matrix()\n",
    "q0 = cirq.NamedQubit('q0')\n",
    "q1 = cirq.NamedQubit('q1')\n",
    "q2 = cirq.NamedQubit('q2')"
   ]
  },
  {
   "cell_type": "code",
   "execution_count": 3,
   "metadata": {},
   "outputs": [],
   "source": [
    "np.set_printoptions(precision=3, suppress=4)"
   ]
  },
  {
   "cell_type": "code",
   "execution_count": null,
   "metadata": {},
   "outputs": [],
   "source": []
  },
  {
   "cell_type": "code",
   "execution_count": 4,
   "metadata": {},
   "outputs": [],
   "source": [
    "ru = cirq.testing.random_unitary"
   ]
  },
  {
   "cell_type": "code",
   "execution_count": 5,
   "metadata": {},
   "outputs": [],
   "source": [
    "u = ru(4)"
   ]
  },
  {
   "cell_type": "code",
   "execution_count": 6,
   "metadata": {},
   "outputs": [
    {
     "data": {
      "text/plain": [
       "((-0.8348877220138199+0.5504202863545045j),\n",
       " (array([[-0.203+0.698j, -0.628+0.278j],\n",
       "         [ 0.628+0.278j, -0.203-0.698j]]),\n",
       "  array([[-0.926-0.29j ,  0.175+0.167j],\n",
       "         [-0.175+0.167j, -0.926+0.29j ]])),\n",
       " (0.7559864374602536, 0.33871967901847055, -0.0957880786051527),\n",
       " (array([[ 0.558-0.188j, -0.22 +0.778j],\n",
       "         [ 0.22 +0.778j,  0.558+0.188j]]),\n",
       "  array([[-0.06 +0.781j,  0.457+0.421j],\n",
       "         [-0.457+0.421j, -0.06 -0.781j]])))"
      ]
     },
     "execution_count": 6,
     "metadata": {},
     "output_type": "execute_result"
    }
   ],
   "source": [
    "cirq.kak_decomposition(u)"
   ]
  },
  {
   "cell_type": "code",
   "execution_count": 7,
   "metadata": {},
   "outputs": [
    {
     "data": {
      "text/plain": [
       "((-0.8348877221339872+0.5504202861722323j),\n",
       " (array([[-0.203+0.698j, -0.628+0.278j],\n",
       "         [ 0.628+0.278j, -0.203-0.698j]]),\n",
       "  array([[-0.926-0.29j ,  0.175+0.167j],\n",
       "         [-0.175+0.167j, -0.926+0.29j ]])),\n",
       " (0.7559864374358813, 0.33871967820331594, -0.09578807922406651),\n",
       " (array([[ 0.558-0.188j, -0.22 +0.778j],\n",
       "         [ 0.22 +0.778j,  0.558+0.188j]]),\n",
       "  array([[-0.06 +0.781j,  0.457+0.421j],\n",
       "         [-0.457+0.421j, -0.06 -0.781j]])))"
      ]
     },
     "execution_count": 7,
     "metadata": {},
     "output_type": "execute_result"
    }
   ],
   "source": [
    "cirq.kak_decomposition(u + 1e-9, tolerance=cirq.Tolerance(atol=1e-4))"
   ]
  },
  {
   "cell_type": "code",
   "execution_count": 8,
   "metadata": {},
   "outputs": [],
   "source": [
    "u1, u2, u3, u4 = (ru(2) for _ in range(4))\n",
    "uu = cirq.dot(cirq.kron(u1, u2), cirq.kron(u3, u4))"
   ]
  },
  {
   "cell_type": "code",
   "execution_count": 9,
   "metadata": {},
   "outputs": [
    {
     "data": {
      "text/plain": [
       "((0.4969290710062269-0.8677911605846699j),\n",
       " (array([[-0.422+0.479j,  0.731+0.241j],\n",
       "         [-0.731+0.241j, -0.422-0.479j]]),\n",
       "  array([[ 0.825+0.326j, -0.43 +0.167j],\n",
       "         [ 0.43 +0.167j,  0.825-0.326j]])),\n",
       " (0.0, 0.0, 0.0),\n",
       " (array([[ 0.293-0.017j,  0.951+0.094j],\n",
       "         [-0.951+0.094j,  0.293+0.017j]]),\n",
       "  array([[-0.586+0.683j, -0.293+0.322j],\n",
       "         [ 0.293+0.322j, -0.586-0.683j]])))"
      ]
     },
     "execution_count": 9,
     "metadata": {},
     "output_type": "execute_result"
    }
   ],
   "source": [
    "cirq.kak_decomposition(uu)"
   ]
  },
  {
   "cell_type": "code",
   "execution_count": 10,
   "metadata": {},
   "outputs": [
    {
     "data": {
      "text/plain": [
       "(array([[-0.266+0.606j, -0.117+0.74j ],\n",
       "        [ 0.598-0.452j, -0.409+0.52j ]]),\n",
       " array([[ 0.444-0.712j, -0.024-0.543j],\n",
       "        [-0.497+0.22j ,  0.441-0.714j]]),\n",
       " array([[ 0.723+0.575j, -0.346-0.165j],\n",
       "        [ 0.382+0.039j,  0.916-0.116j]]),\n",
       " array([[-0.681-0.509j,  0.268+0.454j],\n",
       "        [-0.484-0.209j, -0.59 -0.612j]]))"
      ]
     },
     "execution_count": 10,
     "metadata": {},
     "output_type": "execute_result"
    }
   ],
   "source": [
    "u1, u2, u3, u4"
   ]
  },
  {
   "cell_type": "code",
   "execution_count": 11,
   "metadata": {},
   "outputs": [
    {
     "data": {
      "text/plain": [
       "0.17275456675109813"
      ]
     },
     "execution_count": 11,
     "metadata": {},
     "output_type": "execute_result"
    }
   ],
   "source": [
    "random.random()"
   ]
  },
  {
   "cell_type": "code",
   "execution_count": 12,
   "metadata": {},
   "outputs": [
    {
     "data": {
      "text/html": [
       "<pre style=\"overflow: auto; white-space: pre;\">q0: ───X^0.5───@───X^0.0352───H─────────@───H──────────────────────@───────\n",
       "               │                        │                          │\n",
       "q1: ───H───────@───H──────────Y^0.409───@───X^-0.5───Z^0.222───H───@───H───</pre>"
      ],
      "text/plain": [
       "q0: ───X^0.5───@───X^0.0352───H─────────@───H──────────────────────@───────\n",
       "               │                        │                          │\n",
       "q1: ───H───────@───H──────────Y^0.409───@───X^-0.5───Z^0.222───H───@───H───"
      ]
     },
     "execution_count": 12,
     "metadata": {},
     "output_type": "execute_result"
    }
   ],
   "source": [
    "c = cirq.Circuit.from_ops(\n",
    "    cirq.google.decompositions._xx_yy_zz_interaction_via_full_czs(q0, q1,\n",
    "        random.random()*np.pi/4, random.random()*np.pi/4, random.random()*np.pi/4)\n",
    "        #0.61, 0.31, 0.21)\n",
    ")\n",
    "o = c.to_unitary_matrix()\n",
    "c"
   ]
  },
  {
   "cell_type": "code",
   "execution_count": 13,
   "metadata": {},
   "outputs": [
    {
     "data": {
      "text/plain": [
       "((0.9661777356674771+0.2578770697453862j),\n",
       " (array([[ 0.   -0.707j, -0.707+0.j   ],\n",
       "         [ 0.707+0.j   ,  0.   +0.707j]]),\n",
       "  array([[ 0.   +0.707j,  0.707+0.j   ],\n",
       "         [-0.707+0.j   ,  0.   -0.707j]])),\n",
       " (0.7300843115172415, 0.4372308362950137, 0.14265686860796156),\n",
       " (array([[ 0.   -0.707j, -0.707+0.j   ],\n",
       "         [ 0.707+0.j   ,  0.   +0.707j]]),\n",
       "  array([[ 0.   +0.707j,  0.707+0.j   ],\n",
       "         [-0.707+0.j   ,  0.   -0.707j]])))"
      ]
     },
     "execution_count": 13,
     "metadata": {},
     "output_type": "execute_result"
    }
   ],
   "source": [
    "cirq.kak_decomposition(c.to_unitary_matrix())"
   ]
  },
  {
   "cell_type": "code",
   "execution_count": 14,
   "metadata": {},
   "outputs": [
    {
     "data": {
      "text/html": [
       "<pre style=\"overflow: auto; white-space: pre;\">q0: ───X^0.5───Z───────X^0.5───────@───X^0.0352───H─────────@───H──────────────────────@───X^0.5───Z───────────\n",
       "                                   │                        │                          │\n",
       "q1: ───────────X^0.5───Z───────H───@───H──────────Y^0.222───@───X^-0.5───Z^0.409───H───@───H───────X^0.5───Z───</pre>"
      ],
      "text/plain": [
       "q0: ───X^0.5───Z───────X^0.5───────@───X^0.0352───H─────────@───H──────────────────────@───X^0.5───Z───────────\n",
       "                                   │                        │                          │\n",
       "q1: ───────────X^0.5───Z───────H───@───H──────────Y^0.222───@───X^-0.5───Z^0.409───H───@───H───────X^0.5───Z───"
      ]
     },
     "execution_count": 14,
     "metadata": {},
     "output_type": "execute_result"
    }
   ],
   "source": [
    "c2 = cirq.Circuit.from_ops(\n",
    "    cirq.google.two_qubit_matrix_to_native_gates(q0, q1, c.to_unitary_matrix(),\n",
    "                                                 allow_partial_czs=False)\n",
    ")\n",
    "o2 = c2.to_unitary_matrix()\n",
    "c2"
   ]
  },
  {
   "cell_type": "code",
   "execution_count": 15,
   "metadata": {},
   "outputs": [
    {
     "data": {
      "text/plain": [
       "True"
      ]
     },
     "execution_count": 15,
     "metadata": {},
     "output_type": "execute_result"
    }
   ],
   "source": [
    "cirq.allclose_up_to_global_phase(o, o2)"
   ]
  },
  {
   "cell_type": "code",
   "execution_count": 16,
   "metadata": {},
   "outputs": [
    {
     "data": {
      "text/plain": [
       "((-0.4913429530741206+0.8709661890477738j),\n",
       " (array([[ 0.   +0.j   ,  0.707-0.707j],\n",
       "         [-0.707-0.707j,  0.   -0.j   ]]),\n",
       "  array([[-0.707-0.707j,  0.   -0.j   ],\n",
       "         [-0.   -0.j   , -0.707+0.707j]])),\n",
       " (0.7808863958990586, 0.42899080566244274, 0.0801284221861891),\n",
       " (array([[ 0.5+0.5j,  0.5-0.5j],\n",
       "         [-0.5-0.5j,  0.5-0.5j]]), array([[ 0.   +0.j   ,  0.707+0.707j],\n",
       "         [-0.707+0.707j,  0.   -0.j   ]])))"
      ]
     },
     "execution_count": 16,
     "metadata": {},
     "output_type": "execute_result"
    }
   ],
   "source": [
    "cirq.kak_decomposition(\n",
    "    cirq.Circuit.from_ops(\n",
    "        cirq.X(q0) ** .5,\n",
    "        cirq.X(q1) ** 0,\n",
    "        cirq.google.decompositions._xx_yy_zz_interaction_via_full_czs(q0, q1,\n",
    "        random.random()*2*np.pi, random.random()*2*np.pi, random.random()*2*np.pi)\n",
    "    ).to_unitary_matrix()\n",
    ")"
   ]
  },
  {
   "cell_type": "code",
   "execution_count": 43,
   "metadata": {},
   "outputs": [
    {
     "data": {
      "text/html": [
       "<pre style=\"overflow: auto; white-space: pre;\">q0: ───X^-0.5───S^-1────────────────@───X^-0.05───@───X^-0.95───S^-1───────────────\n",
       "                                    │             │\n",
       "q1: ────────────X^0.5───Z^0.5───H───@─────────────@───H─────────Y^-0.5───Z^-0.45───</pre>"
      ],
      "text/plain": [
       "q0: ───X^-0.5───S^-1────────────────@───X^-0.05───@───X^-0.95───S^-1───────────────\n",
       "                                    │             │\n",
       "q1: ────────────X^0.5───Z^0.5───H───@─────────────@───H─────────Y^-0.5───Z^-0.45───"
      ]
     },
     "execution_count": 43,
     "metadata": {},
     "output_type": "execute_result"
    }
   ],
   "source": [
    "c = cirq.Circuit.from_ops(\n",
    "    cirq.google.two_qubit_matrix_to_native_gates(q0, q1,\n",
    "        cirq.Circuit.from_ops(cirq.CZ(q0,q1)**.1,cirq.X(q0)**.5,cirq.X(q1)**0).to_unitary_matrix(),\n",
    "                                                 allow_partial_czs=False)\n",
    ")\n",
    "c"
   ]
  },
  {
   "cell_type": "code",
   "execution_count": 44,
   "metadata": {},
   "outputs": [
    {
     "name": "stdout",
     "output_type": "stream",
     "text": [
      "[[ 1.+0.j  0.+0.j  0.+0.j  0.+0.j]\n",
      " [ 0.+0.j  1.+0.j  0.+0.j  0.+0.j]\n",
      " [ 0.+0.j  0.+0.j  1.+0.j  0.+0.j]\n",
      " [ 0.+0.j  0.+0.j  0.+0.j -1.+0.j]] [GateOperation(Exp11Gate(half_turns=1.0), (NamedQubit('q0'), NamedQubit('q1')))]\n",
      "[[-0.036-0.042j -0.036-0.042j  0.536-0.458j -0.536+0.458j]\n",
      " [ 0.036+0.042j -0.036-0.042j -0.536+0.458j -0.536+0.458j]\n",
      " [ 0.536-0.458j  0.536-0.458j -0.036-0.042j  0.036+0.042j]\n",
      " [-0.536+0.458j  0.536-0.458j  0.036+0.042j  0.036+0.042j]] [GateOperation(Exp11Gate(half_turns=1.0), (NamedQubit('q0'), NamedQubit('q1'))), GateOperation(ExpWGate(half_turns=-0.9500000000000002, axis_half_turns=0.0), (NamedQubit('q0'),)), GateOperation(ExpWGate(half_turns=-0.5, axis_half_turns=0.5), (NamedQubit('q1'),))]\n"
     ]
    },
    {
     "data": {
      "text/html": [
       "<pre style=\"overflow: auto; white-space: pre;\">q0: ───X^-0.5───@───Y^-0.05───@───Y^-0.95───Z───\n",
       "                │             │\n",
       "q1: ────────────@─────────────@───Z^0.05────────</pre>"
      ],
      "text/plain": [
       "q0: ───X^-0.5───@───Y^-0.05───@───Y^-0.95───Z───\n",
       "                │             │\n",
       "q1: ────────────@─────────────@───Z^0.05────────"
      ]
     },
     "execution_count": 44,
     "metadata": {},
     "output_type": "execute_result"
    }
   ],
   "source": [
    "cirq.google.optimized_for_xmon(c)"
   ]
  },
  {
   "cell_type": "code",
   "execution_count": null,
   "metadata": {},
   "outputs": [],
   "source": []
  },
  {
   "cell_type": "code",
   "execution_count": null,
   "metadata": {},
   "outputs": [],
   "source": []
  },
  {
   "cell_type": "code",
   "execution_count": null,
   "metadata": {},
   "outputs": [],
   "source": []
  },
  {
   "cell_type": "code",
   "execution_count": 18,
   "metadata": {},
   "outputs": [
    {
     "data": {
      "text/html": [
       "<pre style=\"overflow: auto; white-space: pre;\">q0: ───@───@───X^0.5────────\n",
       "       │   │\n",
       "q1: ───@───@───X^9.99e-14───</pre>"
      ],
      "text/plain": [
       "q0: ───@───@───X^0.5────────\n",
       "       │   │\n",
       "q1: ───@───@───X^9.99e-14───"
      ]
     },
     "execution_count": 18,
     "metadata": {},
     "output_type": "execute_result"
    }
   ],
   "source": [
    "cc = cirq.Circuit.from_ops(cirq.CZ(q0, q1), cirq.CZ(q0, q1), cirq.X(q0)**.5,\n",
    "                           cirq.X(q1)**0.0000000000001)\n",
    "cc"
   ]
  },
  {
   "cell_type": "code",
   "execution_count": 19,
   "metadata": {},
   "outputs": [
    {
     "name": "stdout",
     "output_type": "stream",
     "text": [
      "[[ 0.5+0.5j  0. -0.j   0.5-0.5j -0. -0.j ]\n",
      " [ 0. -0.j   0.5+0.5j -0. -0.j   0.5-0.5j]\n",
      " [ 0.5-0.5j -0. -0.j   0.5+0.5j  0. -0.j ]\n",
      " [-0. -0.j   0.5-0.5j  0. -0.j   0.5+0.5j]] [GateOperation(CZ, (NamedQubit('q0'), NamedQubit('q1'))), GateOperation(CZ, (NamedQubit('q0'), NamedQubit('q1'))), GateOperation(X**0.5, (NamedQubit('q0'),)), GateOperation(X**9.992007221626409e-14, (NamedQubit('q1'),))]\n"
     ]
    },
    {
     "data": {
      "text/html": [
       "<pre style=\"overflow: auto; white-space: pre;\">q0: ───W(0.981)^-0.316───Z^0.121────W(0.137)^0.185───Z^-0.108───\n",
       "\n",
       "q1: ───W(0.876)^-0.52────Z^-0.274───W(0.602)^0.52────Z^0.274────</pre>"
      ],
      "text/plain": [
       "q0: ───W(0.981)^-0.316───Z^0.121────W(0.137)^0.185───Z^-0.108───\n",
       "\n",
       "q1: ───W(0.876)^-0.52────Z^-0.274───W(0.602)^0.52────Z^0.274────"
      ]
     },
     "execution_count": 19,
     "metadata": {},
     "output_type": "execute_result"
    }
   ],
   "source": [
    "cirq.google.MergeInteractions().optimize_circuit(cc)\n",
    "cc"
   ]
  },
  {
   "cell_type": "code",
   "execution_count": 20,
   "metadata": {},
   "outputs": [
    {
     "data": {
      "text/plain": [
       "0j"
      ]
     },
     "execution_count": 20,
     "metadata": {},
     "output_type": "execute_result"
    }
   ],
   "source": [
    "(cirq.X**0).matrix()[1,1]-1"
   ]
  },
  {
   "cell_type": "code",
   "execution_count": null,
   "metadata": {},
   "outputs": [],
   "source": []
  },
  {
   "cell_type": "code",
   "execution_count": 21,
   "metadata": {},
   "outputs": [
    {
     "data": {
      "text/html": [
       "<pre style=\"overflow: auto; white-space: pre;\">q0: ───X^0.5───@───X^0.0352───H─────────@───H──────────────────────@───────\n",
       "               │                        │                          │\n",
       "q1: ───H───────@───H──────────Y^0.409───@───X^-0.5───Z^0.222───H───@───H───</pre>"
      ],
      "text/plain": [
       "q0: ───X^0.5───@───X^0.0352───H─────────@───H──────────────────────@───────\n",
       "               │                        │                          │\n",
       "q1: ───H───────@───H──────────Y^0.409───@───X^-0.5───Z^0.222───H───@───H───"
      ]
     },
     "metadata": {},
     "output_type": "display_data"
    },
    {
     "data": {
      "text/plain": [
       "array([[ 1.+0.j,  0.+0.j,  0.+0.j,  0.+0.j],\n",
       "       [ 0.+0.j,  0.+0.j, -1.+0.j,  0.+0.j],\n",
       "       [ 0.+0.j, -1.+0.j,  0.+0.j,  0.+0.j],\n",
       "       [ 0.+0.j,  0.+0.j,  0.+0.j,  1.+0.j]])"
      ]
     },
     "execution_count": 21,
     "metadata": {},
     "output_type": "execute_result"
    }
   ],
   "source": [
    "c_ = cirq.Circuit.from_ops(\n",
    "    cirq.google.decompositions._xx_yy_zz_interaction_via_full_czs(q0, q1,\n",
    "        #random.random()*np.pi/4, random.random()*np.pi/4, random.random()*np.pi/4)\n",
    "        .25*np.pi, .25*np.pi, .75*np.pi)\n",
    "        #0.61, 0.31, 0.21)\n",
    ")\n",
    "display(c)\n",
    "xyz = c_.to_unitary_matrix()\n",
    "xyz"
   ]
  },
  {
   "cell_type": "code",
   "execution_count": 22,
   "metadata": {},
   "outputs": [
    {
     "data": {
      "text/plain": [
       "array([[1.+0.j, 0.+0.j, 0.+0.j, 0.+0.j],\n",
       "       [0.+0.j, 0.+0.j, 1.+0.j, 0.+0.j],\n",
       "       [0.+0.j, 1.+0.j, 0.+0.j, 0.+0.j],\n",
       "       [0.+0.j, 0.+0.j, 0.+0.j, 1.+0.j]])"
      ]
     },
     "execution_count": 22,
     "metadata": {},
     "output_type": "execute_result"
    }
   ],
   "source": [
    "u2 = ops_to_matrix(cirq.Z(q0)**.5)\n",
    "cirq.dot(\n",
    "    cirq.kron(u2, u2),\n",
    "    xyz,\n",
    "    cirq.kron(u2, u2),\n",
    ")"
   ]
  },
  {
   "cell_type": "code",
   "execution_count": 23,
   "metadata": {},
   "outputs": [
    {
     "data": {
      "text/plain": [
       "((1+0j), (array([[0.+0.707j, 0.-0.707j],\n",
       "         [0.-0.707j, 0.-0.707j]]), array([[0.+0.707j, 0.-0.707j],\n",
       "         [0.-0.707j, 0.-0.707j]])), (1e-10,\n",
       "  1e-13,\n",
       "  1e-14), (array([[0.+0.707j, 0.-0.707j],\n",
       "         [0.-0.707j, 0.-0.707j]]), array([[0.+0.707j, 0.-0.707j],\n",
       "         [0.-0.707j, 0.-0.707j]])))"
      ]
     },
     "execution_count": 23,
     "metadata": {},
     "output_type": "execute_result"
    }
   ],
   "source": [
    "cirq.kak_canonicalize_vector(0.00000000000001, 0.0000000000001, 0.0000000001)"
   ]
  },
  {
   "cell_type": "code",
   "execution_count": null,
   "metadata": {},
   "outputs": [],
   "source": []
  },
  {
   "cell_type": "code",
   "execution_count": null,
   "metadata": {},
   "outputs": [],
   "source": []
  },
  {
   "cell_type": "code",
   "execution_count": null,
   "metadata": {},
   "outputs": [],
   "source": []
  },
  {
   "cell_type": "code",
   "execution_count": 24,
   "metadata": {},
   "outputs": [
    {
     "data": {
      "text/plain": [
       "(5.242903840816487, 3.9324285819855627, 1.046255600576676)"
      ]
     },
     "execution_count": 24,
     "metadata": {},
     "output_type": "execute_result"
    }
   ],
   "source": [
    "def random_x_y_z():\n",
    "    x = random.random() * 2 * np.pi\n",
    "    y = random.random() * 2 * np.pi\n",
    "    z = random.random() * 2 * np.pi\n",
    "    return x, y, z\n",
    "random_x_y_z()"
   ]
  },
  {
   "cell_type": "code",
   "execution_count": 32,
   "metadata": {},
   "outputs": [],
   "source": [
    "def f():\n",
    "    x, y, z = random_x_y_z()\n",
    "    g, (cl1, cl0), (x2, y2, z2), (cr1, cr0) = cirq.kak_canonicalize_vector(x, y, z)\n",
    "    rl1, rl0, rr1, rr0 = (cirq.testing.random_unitary(2) for _ in range(4))\n",
    "    l1 = cirq.dot(cl1, rl1)\n",
    "    l0 = cirq.dot(cl0, rl0)\n",
    "    r1 = cirq.dot(cr1, rr1)\n",
    "    r0 = cirq.dot(cr0, rr0)\n",
    "    m = cirq.dot(\n",
    "        cirq.kron(l0, l1),\n",
    "        ops_to_matrix(cirq.google.decompositions._xx_yy_zz_interaction_via_full_czs(\n",
    "                            q0, q1, x2, y2, z2)),\n",
    "        cirq.kron(r0, r1)\n",
    "    )\n",
    "    gg, (ll1, ll0), (xx, yy, zz), (rr1, rr0) = cirq.kak_decomposition(m)\n",
    "    return x2, xx, y2, yy, z2, zz"
   ]
  },
  {
   "cell_type": "code",
   "execution_count": 33,
   "metadata": {},
   "outputs": [
    {
     "data": {
      "text/plain": [
       "(0.577872625630008,\n",
       " 0.577872625630008,\n",
       " 0.35571206549864076,\n",
       " 0.35571206549864093,\n",
       " 0.32522956953227,\n",
       " 0.32522956953227006)"
      ]
     },
     "execution_count": 33,
     "metadata": {},
     "output_type": "execute_result"
    }
   ],
   "source": [
    "f()"
   ]
  },
  {
   "cell_type": "code",
   "execution_count": null,
   "metadata": {},
   "outputs": [],
   "source": []
  },
  {
   "cell_type": "code",
   "execution_count": null,
   "metadata": {},
   "outputs": [],
   "source": []
  },
  {
   "cell_type": "code",
   "execution_count": null,
   "metadata": {},
   "outputs": [],
   "source": []
  },
  {
   "cell_type": "code",
   "execution_count": null,
   "metadata": {},
   "outputs": [],
   "source": []
  },
  {
   "cell_type": "code",
   "execution_count": 27,
   "metadata": {},
   "outputs": [
    {
     "data": {
      "text/plain": [
       "array([[ 0.747+0.556j,  0.   +0.j   ,  0.   +0.j   ,  0.218-0.293j],\n",
       "       [ 0.   +0.j   ,  0.545+0.243j, -0.327+0.733j,  0.   +0.j   ],\n",
       "       [ 0.   +0.j   , -0.327+0.733j,  0.545+0.243j,  0.   +0.j   ],\n",
       "       [ 0.218-0.293j,  0.   +0.j   ,  0.   +0.j   ,  0.747+0.556j]])"
      ]
     },
     "execution_count": 27,
     "metadata": {},
     "output_type": "execute_result"
    }
   ],
   "source": [
    "ops_to_matrix(\n",
    "    cirq.google.decompositions._xx_yy_zz_interaction_via_full_czs(q0, q1,\n",
    "        random.random()*np.pi/4, random.random()*np.pi/4, random.random()*np.pi/4))"
   ]
  },
  {
   "cell_type": "code",
   "execution_count": null,
   "metadata": {},
   "outputs": [],
   "source": []
  },
  {
   "cell_type": "code",
   "execution_count": null,
   "metadata": {},
   "outputs": [],
   "source": []
  },
  {
   "cell_type": "code",
   "execution_count": null,
   "metadata": {},
   "outputs": [],
   "source": []
  },
  {
   "cell_type": "code",
   "execution_count": null,
   "metadata": {},
   "outputs": [],
   "source": []
  },
  {
   "cell_type": "code",
   "execution_count": null,
   "metadata": {},
   "outputs": [],
   "source": []
  },
  {
   "cell_type": "code",
   "execution_count": null,
   "metadata": {},
   "outputs": [],
   "source": []
  },
  {
   "cell_type": "code",
   "execution_count": 36,
   "metadata": {},
   "outputs": [
    {
     "data": {
      "text/html": [
       "<pre style=\"overflow: auto; white-space: pre;\">q0: ───────@───X^-0.4───@───────\n",
       "           │            │\n",
       "q1: ───H───@────────────@───H───</pre>"
      ],
      "text/plain": [
       "q0: ───────@───X^-0.4───@───────\n",
       "           │            │\n",
       "q1: ───H───@────────────@───H───"
      ]
     },
     "metadata": {},
     "output_type": "display_data"
    },
    {
     "data": {
      "text/plain": [
       "array([[0.655-0.476j, 0.   +0.j   , 0.   +0.j   , 0.345+0.476j],\n",
       "       [0.   +0.j   , 0.655-0.476j, 0.345+0.476j, 0.   +0.j   ],\n",
       "       [0.   +0.j   , 0.345+0.476j, 0.655-0.476j, 0.   +0.j   ],\n",
       "       [0.345+0.476j, 0.   +0.j   , 0.   +0.j   , 0.655-0.476j]])"
      ]
     },
     "execution_count": 36,
     "metadata": {},
     "output_type": "execute_result"
    }
   ],
   "source": [
    "c_ = cirq.Circuit.from_ops(\n",
    "cirq.google.decompositions._xx_interaction_via_full_czs(q0, q1, .2*np.pi))\n",
    "display(c_)\n",
    "xy = c_.to_unitary_matrix()\n",
    "xy"
   ]
  },
  {
   "cell_type": "code",
   "execution_count": 29,
   "metadata": {},
   "outputs": [
    {
     "data": {
      "text/plain": [
       "array([[ 0.042-0.997j,  0.   +0.j   ,  0.   +0.j   , -0.063-0.003j],\n",
       "       [ 0.   +0.j   ,  0.002-0.042j,  0.998+0.042j,  0.   +0.j   ],\n",
       "       [ 0.   +0.j   ,  0.998+0.042j,  0.002-0.042j,  0.   +0.j   ],\n",
       "       [-0.063-0.003j,  0.   +0.j   ,  0.   +0.j   ,  0.042-0.997j]])"
      ]
     },
     "execution_count": 29,
     "metadata": {},
     "output_type": "execute_result"
    }
   ],
   "source": [
    "u2 = ops_to_matrix(cirq.X(q0))\n",
    "cirq.dot(\n",
    "    cirq.kron(u2, u2),\n",
    "    xy,\n",
    "    cirq.kron(u2, u2),\n",
    ")"
   ]
  },
  {
   "cell_type": "code",
   "execution_count": null,
   "metadata": {},
   "outputs": [],
   "source": []
  }
 ],
 "metadata": {
  "kernelspec": {
   "display_name": "Python 3",
   "language": "python",
   "name": "python3"
  },
  "language_info": {
   "codemirror_mode": {
    "name": "ipython",
    "version": 3
   },
   "file_extension": ".py",
   "mimetype": "text/x-python",
   "name": "python",
   "nbconvert_exporter": "python",
   "pygments_lexer": "ipython3",
   "version": "3.5.3"
  }
 },
 "nbformat": 4,
 "nbformat_minor": 2
}
