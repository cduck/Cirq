{
 "cells": [
  {
   "cell_type": "code",
   "execution_count": 1,
   "metadata": {},
   "outputs": [],
   "source": [
    "import numpy as np\n",
    "import itertools\n",
    "np.set_printoptions(precision=7, suppress=True)\n",
    "\n",
    "import cirq\n",
    "from cirq import ops, Circuit\n",
    "from cirq.ops import CZ, H, CNOT, X, Y, Z, SWAP\n",
    "from cirq.google import ExpWGate\n",
    "\n",
    "from cirq.contrib.rearrange import separate\n",
    "from cirq.contrib.rearrange.separate import convert_circuit, non_clifford_half, clifford_half\n",
    "\n",
    "from cirq.contrib.rearrange.axis import *\n",
    "from cirq.contrib.rearrange.clifford_pauli_gate import CliffordPauliGate\n",
    "from cirq.contrib.rearrange.interaction_gate import InteractionGate\n",
    "from cirq.contrib.rearrange.pauli_string import PauliString\n",
    "from cirq.contrib.rearrange.non_clifford_gate import NonCliffordGate\n",
    "from cirq.contrib.rearrange import optimize_pauli_strings as opt_strings\n",
    "from cirq.contrib.rearrange.optimize_pauli_strings import (\n",
    "    circuit_to_strings, strings_to_circuit, optimize_pauli_strings, get_ordered_qubits, display_strings, near_zero)\n",
    "\n",
    "from cirq.testing import assert_allclose_up_to_global_phase\n",
    "\n",
    "from cirq.contrib.rearrange.separate_test import toffoli_circuit, qft_circuit"
   ]
  },
  {
   "cell_type": "code",
   "execution_count": 2,
   "metadata": {},
   "outputs": [],
   "source": [
    "import pickle\n",
    "\n",
    "def saveCircuit(fName):\n",
    "    with open(fName, 'wb') as f:\n",
    "        pickle.dump(circuit, f)\n",
    "def loadCircuit(fName):\n",
    "    with open(fName, 'rb') as f:\n",
    "        return pickle.load(f)"
   ]
  },
  {
   "cell_type": "code",
   "execution_count": null,
   "metadata": {},
   "outputs": [],
   "source": []
  },
  {
   "cell_type": "code",
   "execution_count": 127,
   "metadata": {},
   "outputs": [
    {
     "data": {
      "text/html": [
       "<pre style=\"overflow: auto; white-space: pre;\">q0: ─────────────────────────────────────────@──────────────────────────────────────────────────@────────────────────────@───Z^0.25────@───────────\n",
       "                                             │                                                  │                        │             │\n",
       "q1: ───────────────@─────────────@───X───@───X───@───X───@────────────@─────────────@───X───@───X───@───X───@───Z^0.25───X───Z^-0.25───X───────────\n",
       "                   │             │   │   │       │   │   │            │             │   │   │       │   │   │\n",
       "q2: ───Y^0.5───X───X───Z^-0.25───X───@───X───────X───@───X───Z^0.25───X───Z^-0.25───X───@───X───────X───@───X───Z^0.25─────────────────Y^0.5───X───</pre>"
      ],
      "text/plain": [
       "q0: ─────────────────────────────────────────@──────────────────────────────────────────────────@────────────────────────@───Z^0.25────@───────────\n",
       "                                             │                                                  │                        │             │\n",
       "q1: ───────────────@─────────────@───X───@───X───@───X───@────────────@─────────────@───X───@───X───@───X───@───Z^0.25───X───Z^-0.25───X───────────\n",
       "                   │             │   │   │       │   │   │            │             │   │   │       │   │   │\n",
       "q2: ───Y^0.5───X───X───Z^-0.25───X───@───X───────X───@───X───Z^0.25───X───Z^-0.25───X───@───X───────X───@───X───Z^0.25─────────────────Y^0.5───X───"
      ]
     },
     "execution_count": 127,
     "metadata": {},
     "output_type": "execute_result"
    }
   ],
   "source": [
    "cirq.google.Simulator = cirq.google.XmonSimulator\n",
    "def make_circuit():\n",
    "    return toffoli_circuit()\n",
    "    #return loadCircuit('fermionSwap8.pkl')\n",
    "    #return loadCircuit('fermionSplit8.pkl')\n",
    "make_circuit()"
   ]
  },
  {
   "cell_type": "code",
   "execution_count": 128,
   "metadata": {},
   "outputs": [
    {
     "data": {
      "text/html": [
       "<pre style=\"overflow: auto; white-space: pre;\">q0: ───────────────────────────────────────────────────────────────@──────────────────────────────────────────────────────────@──────────────────────────────────────────────────────────────────────Y^-0.5───@───X^-0.25───@───Y^0.5───Z^0.25───\n",
       "                                                                   │                                                          │                                                                               │             │\n",
       "q1: ───────────────Y^-0.5───Z───@───Y^0.5───@───Z^-0.25────────────X───W(0.25)^0.5───Z^0.531───@───W(0.781)^-0.5───Z^-0.531───X───W(0.25)───@───Y^0.5───@───Y^-0.5───Z^-0.5───@───X^0.5────Z^-0.25────────────Z─────────────Z───Y────────────────\n",
       "                                │           │                                                  │                                            │           │                     │\n",
       "q2: ───Y^0.5───Z────────────────Z───Y^0.5───Z───Y^0.5─────Z^0.79───────────────────────────────Z───W(0.145)─────────────────────────────────Z───Y^0.5───Z───Y^-0.5───Z^-0.5───Z───Y^0.25───Z^0.5─────────────────────────────────────────────────</pre>"
      ],
      "text/plain": [
       "q0: ───────────────────────────────────────────────────────────────@──────────────────────────────────────────────────────────@──────────────────────────────────────────────────────────────────────Y^-0.5───@───X^-0.25───@───Y^0.5───Z^0.25───\n",
       "                                                                   │                                                          │                                                                               │             │\n",
       "q1: ───────────────Y^-0.5───Z───@───Y^0.5───@───Z^-0.25────────────X───W(0.25)^0.5───Z^0.531───@───W(0.781)^-0.5───Z^-0.531───X───W(0.25)───@───Y^0.5───@───Y^-0.5───Z^-0.5───@───X^0.5────Z^-0.25────────────Z─────────────Z───Y────────────────\n",
       "                                │           │                                                  │                                            │           │                     │\n",
       "q2: ───Y^0.5───Z────────────────Z───Y^0.5───Z───Y^0.5─────Z^0.79───────────────────────────────Z───W(0.145)─────────────────────────────────Z───Y^0.5───Z───Y^-0.5───Z^-0.5───Z───Y^0.25───Z^0.5─────────────────────────────────────────────────"
      ]
     },
     "metadata": {},
     "output_type": "display_data"
    },
    {
     "data": {
      "text/html": [
       "<pre style=\"overflow: auto; white-space: pre;\">q0: ─────────────────────────────────────────────────────────────────────────────────────────────@────────────────────────────────────────────────────────────@──────────────────────────────────────────────────────────────────────────────────────────────────W(0.684)^-0.5───Z^0.816───@───X^-0.25───@───Y^-0.5────Z^-0.566───\n",
       "                                                                                                 │                                                            │                                                                                                                            │             │\n",
       "q1: ─────────────────────────────W(0.191)^-0.5───Z^-0.691───@───Y^0.5───@───X^0.894───Z^0.75─────X───W(0.25)^0.5───Z^0.531───@───W(0.781)^-0.5─────Z^-0.531───X───W(0.428)^0.456───Z^-0.861───@───Y^0.5───@───Y^-0.5───Z^-0.5───@───W(0.489)^-0.565───Z^0.91───────────────────────────────Z─────────────Z───Z^0.816──────────────\n",
       "                                                            │           │                                                    │                                                                │           │                     │\n",
       "q2: ───W(0.606)^-0.5───Z^0.894──────────────────────────────Z───Y^0.5───Z───Y^0.5─────Z^-0.518───────────────────────────────Z───W(0.253)^-0.511───Z^0.812────────────────────────────────────Z───Y^0.5───Z───Y^-0.5───Z^-0.5───Z───W(0.83)^0.428─────Z^-0.295────────────────────────────────────────────────────────────────────</pre>"
      ],
      "text/plain": [
       "q0: ─────────────────────────────────────────────────────────────────────────────────────────────@────────────────────────────────────────────────────────────@──────────────────────────────────────────────────────────────────────────────────────────────────W(0.684)^-0.5───Z^0.816───@───X^-0.25───@───Y^-0.5────Z^-0.566───\n",
       "                                                                                                 │                                                            │                                                                                                                            │             │\n",
       "q1: ─────────────────────────────W(0.191)^-0.5───Z^-0.691───@───Y^0.5───@───X^0.894───Z^0.75─────X───W(0.25)^0.5───Z^0.531───@───W(0.781)^-0.5─────Z^-0.531───X───W(0.428)^0.456───Z^-0.861───@───Y^0.5───@───Y^-0.5───Z^-0.5───@───W(0.489)^-0.565───Z^0.91───────────────────────────────Z─────────────Z───Z^0.816──────────────\n",
       "                                                            │           │                                                    │                                                                │           │                     │\n",
       "q2: ───W(0.606)^-0.5───Z^0.894──────────────────────────────Z───Y^0.5───Z───Y^0.5─────Z^-0.518───────────────────────────────Z───W(0.253)^-0.511───Z^0.812────────────────────────────────────Z───Y^0.5───Z───Y^-0.5───Z^-0.5───Z───W(0.83)^0.428─────Z^-0.295────────────────────────────────────────────────────────────────────"
      ]
     },
     "execution_count": 128,
     "metadata": {},
     "output_type": "execute_result"
    }
   ],
   "source": [
    "large_circ = make_circuit()\n",
    "#cirq.google.ConvertToXmonGates().optimize_circuit(large_circ)\n",
    "cirq.google.MergeInteractions(allow_partial_czs=False).optimize_circuit(large_circ)\n",
    "cirq.google.MergeRotations().optimize_circuit(large_circ)\n",
    "display(large_circ)\n",
    "cirq.google.MergeInteractions(allow_partial_czs=False).optimize_circuit(large_circ)\n",
    "cirq.google.MergeRotations().optimize_circuit(large_circ)\n",
    "cirq.circuits.DropNegligible().optimize_circuit(large_circ)\n",
    "cirq.circuits.DropEmptyMoments().optimize_circuit(large_circ)\n",
    "large_circ"
   ]
  },
  {
   "cell_type": "code",
   "execution_count": 129,
   "metadata": {},
   "outputs": [],
   "source": [
    "circuit = convert_circuit(large_circ, pre_optimize=False)"
   ]
  },
  {
   "cell_type": "code",
   "execution_count": 130,
   "metadata": {},
   "outputs": [
    {
     "name": "stdout",
     "output_type": "stream",
     "text": [
      "Remove duplicate\n",
      "Reduced length from 37 to 25\n",
      "Remove negligible\n",
      "Reduced length from 25 to 24\n",
      "Move clifford out\n",
      "Reduced length from 24 to 21\n",
      "Remove duplicate\n",
      "Reduced length from 21 to 18\n",
      "Remove negligible\n",
      "Reduced length from 18 to 18\n",
      "Move clifford out\n",
      "Reduced length from 18 to 18\n",
      "Remove duplicate\n",
      "Reduced length from 18 to 18\n",
      "Remove negligible\n",
      "Reduced length from 18 to 18\n",
      "Move clifford out\n",
      "Reduced length from 18 to 18\n",
      "Final length 18\n"
     ]
    },
    {
     "data": {
      "text/html": [
       "<pre style=\"overflow: auto; white-space: pre;\">q0: ───────────────────────────[Z]^-0.25───[Z]^-0.511───[Z]^0.25──────────────[Z]^-1.25─────────────────────────────[Z]^-0.489───────────────[Z]^-0.565───────────────[Z]^2.22───────────────────────────\n",
       "                               │           │            │                                                           │                        │                        │\n",
       "q1: ───[Z]^-0.963───[Z]^0.75───[Z]─────────[X]──────────┼──────────[Z]^1.06────────────────[Z]^0.456────────────────[X]──────────[Z]^-0.83───[Y]──────────[Z]^0.428───[X]────────[Z]^0.535───[X]^-0.25───\n",
       "                    │          │           │            │                                  │                        │            │           │            │           │          │           │\n",
       "q2: ───[Z]^0.288────[Y]────────[Y]─────────[Y]──────────[Y]───────────────────[Y]^-0.428───[Z]─────────[Y]^-0.433───[Y]──────────[Z]─────────[Y]──────────[X]─────────[Y]────────[Z]─────────[Y]─────────</pre>"
      ],
      "text/plain": [
       "q0: ───────────────────────────[Z]^-0.25───[Z]^-0.511───[Z]^0.25──────────────[Z]^-1.25─────────────────────────────[Z]^-0.489───────────────[Z]^-0.565───────────────[Z]^2.22───────────────────────────\n",
       "                               │           │            │                                                           │                        │                        │\n",
       "q1: ───[Z]^-0.963───[Z]^0.75───[Z]─────────[X]──────────┼──────────[Z]^1.06────────────────[Z]^0.456────────────────[X]──────────[Z]^-0.83───[Y]──────────[Z]^0.428───[X]────────[Z]^0.535───[X]^-0.25───\n",
       "                    │          │           │            │                                  │                        │            │           │            │           │          │           │\n",
       "q2: ───[Z]^0.288────[Y]────────[Y]─────────[Y]──────────[Y]───────────────────[Y]^-0.428───[Z]─────────[Y]^-0.433───[Y]──────────[Z]─────────[Y]──────────[X]─────────[Y]────────[Z]─────────[Y]─────────"
      ]
     },
     "metadata": {},
     "output_type": "display_data"
    },
    {
     "data": {
      "text/html": [
       "<pre style=\"overflow: auto; white-space: pre;\">q0: ─────────────────────────────X^0.5────────────X───nZ^0.5───X───nX^0.5──────────────────────────────────────────────────────────────Z────────────────────────────Z───nX^0.5───────────────────────────────────────────────────────────────────────────Z───Z───nZ^0.5───nX^0.5───Z^0.5───\n",
       "                                                  │            │                                                                       │                            │                                                                                    │   │\n",
       "q1: ───X^0.5───nZ^0.5───nX^0.5───────────nY^0.5───Z────────────Z───Y^0.5────nX^0.5───Z───nZ^0.5───X^0.5───Z^0.5───Z────────────────────X───────X^0.5───Z───nX^0.5───X────────────Z───nZ^0.5───X^0.5───Z^0.5───Z───nZ^0.5───nX^0.5───Z^0.5───nZ^0.5───Z───Z───Z─────────────────────────────\n",
       "                                                                                     │                            │                                    │                         │                            │                                      │\n",
       "q2: ───X^0.5───nZ^0.5───nX^0.5──────────────────────────────────────────────nX^0.5───Z───nZ^0.5───X^0.5───Z^0.5───Z───nZ^0.5───X^0.5───Z^0.5───────────Z─────────────────────────Z───nZ^0.5───X^0.5───Z^0.5───Z───nZ^0.5───nX^0.5───Z^0.5───nZ^0.5───Z─────────────────────────────────────</pre>"
      ],
      "text/plain": [
       "q0: ─────────────────────────────X^0.5────────────X───nZ^0.5───X───nX^0.5──────────────────────────────────────────────────────────────Z────────────────────────────Z───nX^0.5───────────────────────────────────────────────────────────────────────────Z───Z───nZ^0.5───nX^0.5───Z^0.5───\n",
       "                                                  │            │                                                                       │                            │                                                                                    │   │\n",
       "q1: ───X^0.5───nZ^0.5───nX^0.5───────────nY^0.5───Z────────────Z───Y^0.5────nX^0.5───Z───nZ^0.5───X^0.5───Z^0.5───Z────────────────────X───────X^0.5───Z───nX^0.5───X────────────Z───nZ^0.5───X^0.5───Z^0.5───Z───nZ^0.5───nX^0.5───Z^0.5───nZ^0.5───Z───Z───Z─────────────────────────────\n",
       "                                                                                     │                            │                                    │                         │                            │                                      │\n",
       "q2: ───X^0.5───nZ^0.5───nX^0.5──────────────────────────────────────────────nX^0.5───Z───nZ^0.5───X^0.5───Z^0.5───Z───nZ^0.5───X^0.5───Z^0.5───────────Z─────────────────────────Z───nZ^0.5───X^0.5───Z^0.5───Z───nZ^0.5───nX^0.5───Z^0.5───nZ^0.5───Z─────────────────────────────────────"
      ]
     },
     "execution_count": 130,
     "metadata": {},
     "output_type": "execute_result"
    }
   ],
   "source": [
    "c_left0 = non_clifford_half(circuit)\n",
    "c_right0 = clifford_half(circuit)\n",
    "pauli_strings, c_left_right = optimize_pauli_strings(circuit_to_strings(c_left0), max_steps=100)\n",
    "#opt_strings.remove_duplicate_strings(pauli_strings)\n",
    "#opt_strings.remove_negligible_strings(pauli_strings)\n",
    "c_left = strings_to_circuit(pauli_strings)\n",
    "display(c_left)\n",
    "c_right = c_left_right + c_right0\n",
    "c_right"
   ]
  },
  {
   "cell_type": "code",
   "execution_count": null,
   "metadata": {},
   "outputs": [],
   "source": []
  },
  {
   "cell_type": "code",
   "execution_count": 131,
   "metadata": {},
   "outputs": [],
   "source": [
    "class StringCircuit:\n",
    "    def __init__(self, pauli_strings, qubit_order):\n",
    "        self.strings = pauli_strings\n",
    "        self.qubit_order = qubit_order\n",
    "\n",
    "    @staticmethod\n",
    "    def from_non_clifford_circuit(circuit):\n",
    "        strings = [op.gate.pauli_string for op in circuit.iter_ops()]\n",
    "        qubit_order = ops.QubitOrder.as_qubit_order(ops.QubitOrder.DEFAULT).order_for(circuit.qubits())\n",
    "        return StringCircuit(strings, qubit_order)\n",
    "    \n",
    "    def to_non_clifford_circuit(self):\n",
    "        return Circuit.from_ops(\n",
    "                    (NonCliffordGate(string).updated_op() for string in self.strings),\n",
    "                    strategy=cirq.InsertStrategy.EARLIEST)\n",
    "    \n",
    "    def commutes_across(self, string, start_i, end_i):\n",
    "        return all((string.commutes_with()))\n",
    "        \n",
    "    \n",
    "    \n",
    "    def __repr__(self):\n",
    "        ret = 'Total length: {}\\n'.format(len(self.strings))\n",
    "        for string in self.strings:\n",
    "            for qubit in self.qubit_order:\n",
    "                axis = string.get_axis(qubit, None)\n",
    "                ret += '{!s:>2}'.format(axis if axis is not None else '.', end='')\n",
    "            ret += '  {:.8f}\\n'.format(string.half_turns)\n",
    "        return ret"
   ]
  },
  {
   "cell_type": "code",
   "execution_count": 132,
   "metadata": {
    "scrolled": true
   },
   "outputs": [
    {
     "data": {
      "text/plain": [
       "Total length: 18\n",
       " . . Z  0.28806682\n",
       " . Z .  -0.96283057\n",
       " . Z Y  0.75000000\n",
       " Z Z Y  -0.25000000\n",
       " Z X Y  -0.51074863\n",
       " Z . Y  0.25000000\n",
       " . Z .  1.06466756\n",
       " . . Y  -0.42847324\n",
       " Z . .  -1.25000000\n",
       " . Z Z  0.45640196\n",
       " . . Y  -0.43293286\n",
       " Z X Y  -0.48902585\n",
       " . Z Z  -0.83009298\n",
       " Z Y Y  -0.56463018\n",
       " . Z X  0.42799301\n",
       " Z X Y  2.21504434\n",
       " . Z Z  0.53473040\n",
       " . X Y  -0.25000000"
      ]
     },
     "execution_count": 132,
     "metadata": {},
     "output_type": "execute_result"
    }
   ],
   "source": [
    "sc = StringCircuit.from_non_clifford_circuit(c_left)\n",
    "sc"
   ]
  },
  {
   "cell_type": "code",
   "execution_count": 133,
   "metadata": {},
   "outputs": [],
   "source": [
    "class PartialOrderingNode:\n",
    "    def __init__(self, string):\n",
    "        self.string = string\n",
    "        self._left = set()\n",
    "        self._right = set()\n",
    "        \n",
    "    def add_left(self, other):\n",
    "        if other in self._left:\n",
    "            return\n",
    "        self._left.add(other)\n",
    "        other.add_right(self)\n",
    "        \n",
    "    def add_right(self, other):\n",
    "        if other in self._right:\n",
    "            return\n",
    "        self._right.add(other)\n",
    "        other.add_left(self)\n",
    "        \n",
    "    @property\n",
    "    def left(self):\n",
    "        return self._left\n",
    "        \n",
    "    @property\n",
    "    def right(self):\n",
    "        return self._right"
   ]
  },
  {
   "cell_type": "code",
   "execution_count": null,
   "metadata": {},
   "outputs": [],
   "source": []
  },
  {
   "cell_type": "code",
   "execution_count": 134,
   "metadata": {},
   "outputs": [],
   "source": [
    "import networkx as nx\n",
    "from networkx.drawing.nx_agraph import graphviz_layout\n",
    "import matplotlib.pyplot as plt\n",
    "%matplotlib inline"
   ]
  },
  {
   "cell_type": "code",
   "execution_count": 160,
   "metadata": {},
   "outputs": [],
   "source": [
    "import io\n",
    "\n",
    "class PartialOrdering:\n",
    "    def __init__(self, digraph, labels=None):\n",
    "        self.digraph = digraph\n",
    "        self.labels = labels\n",
    "        \n",
    "    def to_strings(self):\n",
    "        return list(self._iter_strings())\n",
    "    \n",
    "    def _iter_strings(self):\n",
    "        nodes = set(self.digraph.nodes)\n",
    "        nodes2 = set()\n",
    "        popped_nodes = set()\n",
    "        num_popped = -1\n",
    "        while num_popped != 0:\n",
    "            num_popped = 0\n",
    "            nodes2.clear()\n",
    "            for node in nodes:\n",
    "                if node.left.issubset(popped_nodes):\n",
    "                    if node.string is not None:\n",
    "                        yield node.string\n",
    "                    popped_nodes.add(node)\n",
    "                    num_popped += 1\n",
    "                else:\n",
    "                    nodes2.add(node)\n",
    "            nodes, nodes2 = nodes2, nodes\n",
    "        if len(nodes) > 0:\n",
    "            raise RuntimeError('Cyclic graph')\n",
    "\n",
    "    @staticmethod\n",
    "    def from_strings(strings, include_boundary_nodes=True):\n",
    "        g, _, _, labels = PartialOrdering._graph_from_strings_thorough(strings,\n",
    "                                            include_boundary_nodes=include_boundary_nodes)\n",
    "        return PartialOrdering(g, labels=labels)\n",
    "\n",
    "    @staticmethod\n",
    "    def _graph_from_strings(strings, include_boundary_nodes=True):\n",
    "        def partial_ordering_pass(used_nodes, front_nodes, nodes):\n",
    "            new_front_nodes = set(front_nodes)\n",
    "            remove_front_nodes = set()\n",
    "            num_used = 0\n",
    "            for i, node in enumerate(nodes):\n",
    "                anticommute_set = set()\n",
    "                need_later_pass = False\n",
    "                if node in used_nodes:\n",
    "                    continue\n",
    "                front_count = 0\n",
    "                for j in range(len(nodes)-1, -1, -1):\n",
    "                    node_left = nodes[j]\n",
    "                    if j > i:\n",
    "                        front_count += node_left in front_nodes\n",
    "                        continue\n",
    "                    if j == i:\n",
    "                        continue\n",
    "                    commutes = node.string.commutes_with(node_left.string)\n",
    "                    is_front_node = node_left in front_nodes\n",
    "                    if not commutes:\n",
    "                        if is_front_node:\n",
    "                            anticommute_set.add(node_left)\n",
    "                        elif node_left in used_nodes:\n",
    "                            if front_count < len(front_nodes):\n",
    "                                print()\n",
    "                                print(sorted({nodes.index(n) for n in {node}}))\n",
    "                                print(sorted({nodes.index(n) for n in used_nodes}))\n",
    "                                print(sorted({nodes.index(n) for n in front_nodes}))\n",
    "                                #######\n",
    "                                node.add_left(node_left)\n",
    "                            break\n",
    "                        else:\n",
    "                            need_later_pass = True\n",
    "                            break\n",
    "                    if is_front_node:\n",
    "                        front_count += 1\n",
    "                        if front_count >= len(front_nodes):\n",
    "                            break\n",
    "                if not need_later_pass:\n",
    "                    num_used += 1\n",
    "                    new_front_nodes.add(node)\n",
    "                    if len(anticommute_set) > 0:\n",
    "                        for node_left in anticommute_set:\n",
    "                            node.add_left(node_left)\n",
    "                            remove_front_nodes.add(node_left)\n",
    "            return used_nodes | new_front_nodes, new_front_nodes - remove_front_nodes, num_used\n",
    "\n",
    "        nodes = [PartialOrderingNode(string) for string in strings]\n",
    "        front_nodes = set()\n",
    "        used_nodes = set()\n",
    "        num_used = 1\n",
    "        while num_used > 0:\n",
    "            used_nodes, front_nodes, num_used = partial_ordering_pass(used_nodes, front_nodes, nodes)\n",
    "\n",
    "        g = nx.DiGraph()\n",
    "        g.add_nodes_from(nodes)\n",
    "        g.add_edges_from((\n",
    "            (node_left, node) for node in nodes for node_left in node.left\n",
    "        ))\n",
    "        labels = {node: '{}'.format(i) for i, node in enumerate(nodes)}\n",
    "        if include_boundary_nodes:\n",
    "            leftmost = PartialOrderingNode(None)\n",
    "            rightmost = PartialOrderingNode(None)\n",
    "            for node in nodes:\n",
    "                if len(node.right) <= 0:\n",
    "                    node.add_right(rightmost)\n",
    "                if len(node.left) <= 0:\n",
    "                    node.add_left(leftmost)\n",
    "            g.add_nodes_from((leftmost, rightmost))\n",
    "            g.add_edges_from((\n",
    "                (node, rightmost) for node in rightmost.left\n",
    "            ))\n",
    "            g.add_edges_from((\n",
    "                (leftmost, node) for node in leftmost.right\n",
    "            ))\n",
    "            labels.update({leftmost: 'L', rightmost: 'R'})\n",
    "            return g, leftmost, rightmost, labels\n",
    "        else:\n",
    "            return g, None, None, labels\n",
    "\n",
    "    @staticmethod\n",
    "    def _graph_from_strings_thorough(strings, include_boundary_nodes=True):\n",
    "        nodes = [PartialOrderingNode(string) for string in strings]\n",
    "        for i, node in enumerate(nodes):\n",
    "            for j in range(i+1, len(nodes)):\n",
    "                node_right = nodes[j]\n",
    "                if not node.string.commutes_with(node_right.string):\n",
    "                    node.add_right(node_right)\n",
    "\n",
    "        g = nx.DiGraph()\n",
    "        g.add_nodes_from(nodes)\n",
    "        g.add_edges_from((\n",
    "            (node_left, node) for node in nodes for node_left in node.left\n",
    "        ))\n",
    "        labels = {node: '{}'.format(i) for i, node in enumerate(nodes)}\n",
    "        if include_boundary_nodes:\n",
    "            leftmost = PartialOrderingNode(None)\n",
    "            rightmost = PartialOrderingNode(None)\n",
    "            for node in nodes:\n",
    "                node.add_right(rightmost)\n",
    "                node.add_left(leftmost)\n",
    "            g.add_nodes_from((leftmost, rightmost))\n",
    "            g.add_edges_from((\n",
    "                (node, rightmost) for node in rightmost.left\n",
    "            ))\n",
    "            g.add_edges_from((\n",
    "                (leftmost, node) for node in leftmost.right\n",
    "            ))\n",
    "            labels.update({leftmost: 'L', rightmost: 'R'})\n",
    "            return g, leftmost, rightmost, labels\n",
    "        else:\n",
    "            return g, None, None, labels\n",
    "        \n",
    "    def node_display_layout(self):\n",
    "        g = self.digraph\n",
    "        labels = self.labels\n",
    "        layout_array = []\n",
    "        layout = {}\n",
    "        left_nodes = {node for node, degree in g.in_degree() if degree == 0}\n",
    "        next_nodes = left_nodes\n",
    "        x, y = 0, 0\n",
    "        last_y = 0\n",
    "        def get_next_nodes(node):\n",
    "            next_nodes = {next_node for curr_node, next_node in g.edges if curr_node == node}\n",
    "            return sorted(next_nodes, key=labels.get)\n",
    "        def push_right(node, distance):\n",
    "            if node not in layout:\n",
    "                raise RuntimeError('Cyclic graph')\n",
    "            xx, yy = layout[node]\n",
    "            layout[node] = xx+distance, yy\n",
    "            for next_node in get_next_nodes(node):\n",
    "                push_right(next_node, distance)\n",
    "        def place(node):\n",
    "            nonlocal x, y, last_y\n",
    "            if node in layout:\n",
    "                if layout[node][0] >= x:\n",
    "                    x = layout[node][0] + 1\n",
    "                else:\n",
    "                    # Push everything after node to the right\n",
    "                    push_right(node, x - layout[node][0])\n",
    "                    x += 1\n",
    "            else:\n",
    "                if y < last_y:\n",
    "                    y = last_y - 1\n",
    "                layout[node] = x, y\n",
    "                last_y = y\n",
    "                x += 1\n",
    "        def place_after(node):\n",
    "            nonlocal x, y\n",
    "            place(node)\n",
    "            save_x = x\n",
    "            for next_node in get_next_nodes(node):\n",
    "                place_after(next_node)\n",
    "                if x != save_x:\n",
    "                    y -= 1\n",
    "                    x = save_x\n",
    "        for left_node in left_nodes:\n",
    "            place_after(left_node)\n",
    "            if x != 0:\n",
    "                y -= 1\n",
    "                x = 0\n",
    "\n",
    "        layout2 = {node: (-1, -1) for node in g.nodes}\n",
    "        #layout2.update({node: {-2, -2} for node in self.labels})\n",
    "        layout2.update(layout)\n",
    "        return layout2\n",
    "    \n",
    "    def draw(self, neat=False, ax=None):\n",
    "        if neat:\n",
    "            pos = self.node_display_layout()\n",
    "            print(sorted(pos.values()))\n",
    "        else:\n",
    "            pos = graphviz_layout(self.digraph)\n",
    "        if ax is None:\n",
    "            fig = plt.figure()\n",
    "            ax = fig.add_subplot(1, 1, 1)\n",
    "        nx.draw(self.digraph, pos=pos, labels=self.labels, ax=ax)\n",
    "        \n",
    "    def _repr_svg_(self):\n",
    "        fig = plt.figure()\n",
    "        ax = fig.add_subplot(1, 1, 1)\n",
    "        self.draw(neat=False, ax=ax)\n",
    "        with io.StringIO() as f:\n",
    "            fig.savefig(f, format='svg')\n",
    "            plt.close(fig)\n",
    "            f.seek(0)\n",
    "            return f.read()"
   ]
  },
  {
   "cell_type": "code",
   "execution_count": 163,
   "metadata": {},
   "outputs": [],
   "source": [
    "po = PartialOrdering.from_strings(sc.strings)\n",
    "#po"
   ]
  },
  {
   "cell_type": "code",
   "execution_count": 165,
   "metadata": {
    "scrolled": false
   },
   "outputs": [
    {
     "data": {
      "image/png": "[encoded data removed]",
      "text/plain": [
       "<Figure size 432x288 with 1 Axes>"
      ]
     },
     "metadata": {},
     "output_type": "display_data"
    }
   ],
   "source": [
    "po.draw(neat=False)"
   ]
  },
  {
   "cell_type": "code",
   "execution_count": 138,
   "metadata": {},
   "outputs": [
    {
     "data": {
      "text/plain": [
       "Total length: 18\n",
       " Z . .  -1.25000000\n",
       " . . Z  0.28806682\n",
       " . Z .  -0.96283057\n",
       " Z . Y  0.25000000\n",
       " Z Z Y  -0.25000000\n",
       " . Z Y  0.75000000\n",
       " Z X Y  -0.51074863\n",
       " . Z .  1.06466756\n",
       " . . Y  -0.42847324\n",
       " Z X Y  -0.48902585\n",
       " . Z Z  0.45640196\n",
       " Z Y Y  -0.56463018\n",
       " Z X Y  2.21504434\n",
       " . . Y  -0.43293286\n",
       " . X Y  -0.25000000\n",
       " . Z Z  -0.83009298\n",
       " . Z X  0.42799301\n",
       " . Z Z  0.53473040"
      ]
     },
     "execution_count": 138,
     "metadata": {},
     "output_type": "execute_result"
    }
   ],
   "source": [
    "sc2 = StringCircuit(po.to_strings(), sc.qubit_order)\n",
    "sc2"
   ]
  },
  {
   "cell_type": "code",
   "execution_count": 139,
   "metadata": {},
   "outputs": [
    {
     "data": {
      "text/plain": [
       "Total length: 18\n",
       " . . Z  0.28806682\n",
       " . Z .  -0.96283057\n",
       " . Z Y  0.75000000\n",
       " Z Z Y  -0.25000000\n",
       " Z X Y  -0.51074863\n",
       " Z . Y  0.25000000\n",
       " . Z .  1.06466756\n",
       " . . Y  -0.42847324\n",
       " Z . .  -1.25000000\n",
       " . Z Z  0.45640196\n",
       " . . Y  -0.43293286\n",
       " Z X Y  -0.48902585\n",
       " . Z Z  -0.83009298\n",
       " Z Y Y  -0.56463018\n",
       " . Z X  0.42799301\n",
       " Z X Y  2.21504434\n",
       " . Z Z  0.53473040\n",
       " . X Y  -0.25000000"
      ]
     },
     "execution_count": 139,
     "metadata": {},
     "output_type": "execute_result"
    }
   ],
   "source": [
    "sc"
   ]
  },
  {
   "cell_type": "code",
   "execution_count": 140,
   "metadata": {},
   "outputs": [],
   "source": [
    "for node in po.digraph.nodes:\n",
    "    if node.string and near_zero(node.string.half_turns - -0.07599089, tolerance=1e-5):\n",
    "        print(node.string.half_turns)\n",
    "        print(tuple(node.left)[0].string)\n",
    "        print(tuple(node.right)[0].string)\n",
    "        break"
   ]
  },
  {
   "cell_type": "code",
   "execution_count": 141,
   "metadata": {},
   "outputs": [
    {
     "data": {
      "text/plain": [
       "{NamedQubit('q0'): Axis(2),\n",
       " NamedQubit('q1'): Axis(2),\n",
       " NamedQubit('q2'): Axis(1)}"
      ]
     },
     "execution_count": 141,
     "metadata": {},
     "output_type": "execute_result"
    }
   ],
   "source": [
    "node.string.qubit_axis_map"
   ]
  },
  {
   "cell_type": "code",
   "execution_count": 142,
   "metadata": {},
   "outputs": [
    {
     "data": {
      "text/plain": [
       "Total length: 1\n",
       " Z Z Y  -0.25000000"
      ]
     },
     "execution_count": 142,
     "metadata": {},
     "output_type": "execute_result"
    }
   ],
   "source": [
    "StringCircuit([node.string], sc.qubit_order)"
   ]
  },
  {
   "cell_type": "code",
   "execution_count": 143,
   "metadata": {},
   "outputs": [
    {
     "name": "stdout",
     "output_type": "stream",
     "text": [
      "False\n",
      "True\n",
      "True\n",
      "True\n",
      "False\n",
      "True\n",
      "True\n",
      "True\n",
      "True\n",
      "False\n",
      "True\n",
      "False\n",
      "False\n",
      "False\n",
      "False\n",
      "False\n",
      "False\n",
      "False\n"
     ]
    }
   ],
   "source": [
    "for string in sc.strings:\n",
    "    print(string.commutes_with(node.string))"
   ]
  },
  {
   "cell_type": "code",
   "execution_count": null,
   "metadata": {},
   "outputs": [],
   "source": []
  },
  {
   "cell_type": "code",
   "execution_count": 144,
   "metadata": {},
   "outputs": [
    {
     "data": {
      "text/html": [
       "<pre style=\"overflow: auto; white-space: pre;\">q0: ───────────────────────────[Z]^-0.25───[Z]^-0.511───[Z]^0.25──────────────[Z]^-1.25─────────────────────────────[Z]^-0.489───────────────[Z]^-0.565───────────────[Z]^2.22───────────────────────────\n",
       "                               │           │            │                                                           │                        │                        │\n",
       "q1: ───[Z]^-0.963───[Z]^0.75───[Z]─────────[X]──────────┼──────────[Z]^1.06────────────────[Z]^0.456────────────────[X]──────────[Z]^-0.83───[Y]──────────[Z]^0.428───[X]────────[Z]^0.535───[X]^-0.25───\n",
       "                    │          │           │            │                                  │                        │            │           │            │           │          │           │\n",
       "q2: ───[Z]^0.288────[Y]────────[Y]─────────[Y]──────────[Y]───────────────────[Y]^-0.428───[Z]─────────[Y]^-0.433───[Y]──────────[Z]─────────[Y]──────────[X]─────────[Y]────────[Z]─────────[Y]─────────</pre>"
      ],
      "text/plain": [
       "q0: ───────────────────────────[Z]^-0.25───[Z]^-0.511───[Z]^0.25──────────────[Z]^-1.25─────────────────────────────[Z]^-0.489───────────────[Z]^-0.565───────────────[Z]^2.22───────────────────────────\n",
       "                               │           │            │                                                           │                        │                        │\n",
       "q1: ───[Z]^-0.963───[Z]^0.75───[Z]─────────[X]──────────┼──────────[Z]^1.06────────────────[Z]^0.456────────────────[X]──────────[Z]^-0.83───[Y]──────────[Z]^0.428───[X]────────[Z]^0.535───[X]^-0.25───\n",
       "                    │          │           │            │                                  │                        │            │           │            │           │          │           │\n",
       "q2: ───[Z]^0.288────[Y]────────[Y]─────────[Y]──────────[Y]───────────────────[Y]^-0.428───[Z]─────────[Y]^-0.433───[Y]──────────[Z]─────────[Y]──────────[X]─────────[Y]────────[Z]─────────[Y]─────────"
      ]
     },
     "execution_count": 144,
     "metadata": {},
     "output_type": "execute_result"
    }
   ],
   "source": [
    "sc.to_non_clifford_circuit()"
   ]
  },
  {
   "cell_type": "code",
   "execution_count": 145,
   "metadata": {},
   "outputs": [],
   "source": [
    "def assert_equal_circuits(c1, c2):\n",
    "    assert_allclose_up_to_global_phase(\n",
    "        c1.to_unitary_matrix(),\n",
    "        c2.to_unitary_matrix())"
   ]
  },
  {
   "cell_type": "code",
   "execution_count": 146,
   "metadata": {},
   "outputs": [],
   "source": [
    "assert_equal_circuits(\n",
    "sc.to_non_clifford_circuit(),\n",
    "sc2.to_non_clifford_circuit(),\n",
    ")"
   ]
  },
  {
   "cell_type": "code",
   "execution_count": 147,
   "metadata": {},
   "outputs": [],
   "source": [
    "assert_equal_circuits(\n",
    "c_left,\n",
    "sc2.to_non_clifford_circuit(),\n",
    ")"
   ]
  },
  {
   "cell_type": "code",
   "execution_count": null,
   "metadata": {},
   "outputs": [],
   "source": []
  },
  {
   "cell_type": "code",
   "execution_count": null,
   "metadata": {},
   "outputs": [],
   "source": []
  },
  {
   "cell_type": "code",
   "execution_count": null,
   "metadata": {},
   "outputs": [],
   "source": []
  },
  {
   "cell_type": "code",
   "execution_count": null,
   "metadata": {},
   "outputs": [],
   "source": []
  },
  {
   "cell_type": "code",
   "execution_count": null,
   "metadata": {},
   "outputs": [],
   "source": []
  },
  {
   "cell_type": "code",
   "execution_count": null,
   "metadata": {},
   "outputs": [],
   "source": []
  },
  {
   "cell_type": "code",
   "execution_count": null,
   "metadata": {},
   "outputs": [],
   "source": []
  },
  {
   "cell_type": "code",
   "execution_count": null,
   "metadata": {},
   "outputs": [],
   "source": []
  },
  {
   "cell_type": "code",
   "execution_count": null,
   "metadata": {},
   "outputs": [],
   "source": []
  }
 ],
 "metadata": {
  "kernelspec": {
   "display_name": "Python 3",
   "language": "python",
   "name": "python3"
  },
  "language_info": {
   "codemirror_mode": {
    "name": "ipython",
    "version": 3
   },
   "file_extension": ".py",
   "mimetype": "text/x-python",
   "name": "python",
   "nbconvert_exporter": "python",
   "pygments_lexer": "ipython3",
   "version": "3.5.3"
  }
 },
 "nbformat": 4,
 "nbformat_minor": 2
}
