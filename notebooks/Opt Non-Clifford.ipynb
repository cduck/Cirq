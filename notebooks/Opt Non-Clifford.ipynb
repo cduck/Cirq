{
 "cells": [
  {
   "cell_type": "code",
   "execution_count": 1,
   "metadata": {},
   "outputs": [],
   "source": [
    "import numpy as np\n",
    "import itertools\n",
    "\n",
    "import cirq\n",
    "from cirq import ops, Circuit\n",
    "from cirq.ops import CZ, H, CNOT, X, Y, Z, SWAP\n",
    "from cirq.google import ExpWGate\n",
    "\n",
    "from cirq.contrib.rearrange import separate\n",
    "from cirq.contrib.rearrange.separate import convert_circuit, non_clifford_half, clifford_half\n",
    "\n",
    "from cirq.contrib.rearrange.axis import *\n",
    "from cirq.contrib.rearrange.clifford_pauli_gate import CliffordPauliGate\n",
    "from cirq.contrib.rearrange.interaction_gate import InteractionGate\n",
    "from cirq.contrib.rearrange.pauli_string import PauliString\n",
    "from cirq.contrib.rearrange.non_clifford_gate import NonCliffordGate\n",
    "from cirq.contrib.rearrange import optimize_pauli_strings as opt_strings\n",
    "from cirq.contrib.rearrange.optimize_pauli_strings import (\n",
    "    circuit_to_strings, strings_to_circuit, optimize_pauli_strings, get_ordered_qubits, display_strings)\n",
    "\n",
    "from cirq.testing import assert_allclose_up_to_global_phase\n",
    "\n",
    "from cirq.contrib.rearrange.separate_test import toffoli_circuit, qft_circuit"
   ]
  },
  {
   "cell_type": "code",
   "execution_count": 2,
   "metadata": {},
   "outputs": [],
   "source": [
    "import pickle\n",
    "\n",
    "def saveCircuit(fName):\n",
    "    with open(fName, 'wb') as f:\n",
    "        pickle.dump(circuit, f)\n",
    "def loadCircuit(fName):\n",
    "    with open(fName, 'rb') as f:\n",
    "        return pickle.load(f)"
   ]
  },
  {
   "cell_type": "code",
   "execution_count": 3,
   "metadata": {},
   "outputs": [],
   "source": [
    "from IPython.display import display\n",
    "\n",
    "def _ops_to_matrix(*ops, draw=True):\n",
    "    c = cirq.Circuit.from_ops(*ops)\n",
    "    if draw: display(c)\n",
    "    m = c.to_unitary_matrix()\n",
    "    return m.round(5)"
   ]
  },
  {
   "cell_type": "code",
   "execution_count": 4,
   "metadata": {},
   "outputs": [],
   "source": [
    "q0, q1, q2 = (cirq.NamedQubit('q{}'.format(i)) for i in range(3))"
   ]
  },
  {
   "cell_type": "code",
   "execution_count": null,
   "metadata": {},
   "outputs": [],
   "source": []
  },
  {
   "cell_type": "code",
   "execution_count": 5,
   "metadata": {},
   "outputs": [],
   "source": [
    "def make_circuit():\n",
    "    return toffoli_circuit()\n",
    "    #return loadCircuit('fermionSwap8.pkl')\n",
    "    #return loadCircuit('fermionSplit8.pkl')"
   ]
  },
  {
   "cell_type": "code",
   "execution_count": 6,
   "metadata": {},
   "outputs": [
    {
     "data": {
      "text/html": [
       "<pre style=\"overflow: auto; white-space: pre;\">q0: ─────────────────────────────────────────@──────────────────────────────────────────────────@────────────────────────@───Z^0.25────@───────────\n",
       "                                             │                                                  │                        │             │\n",
       "q1: ───────────────@─────────────@───X───@───X───@───X───@────────────@─────────────@───X───@───X───@───X───@───Z^0.25───X───Z^-0.25───X───────────\n",
       "                   │             │   │   │       │   │   │            │             │   │   │       │   │   │\n",
       "q2: ───Y^0.5───X───X───Z^-0.25───X───@───X───────X───@───X───Z^0.25───X───Z^-0.25───X───@───X───────X───@───X───Z^0.25─────────────────Y^0.5───X───</pre>"
      ],
      "text/plain": [
       "q0: ─────────────────────────────────────────@──────────────────────────────────────────────────@────────────────────────@───Z^0.25────@───────────\n",
       "                                             │                                                  │                        │             │\n",
       "q1: ───────────────@─────────────@───X───@───X───@───X───@────────────@─────────────@───X───@───X───@───X───@───Z^0.25───X───Z^-0.25───X───────────\n",
       "                   │             │   │   │       │   │   │            │             │   │   │       │   │   │\n",
       "q2: ───Y^0.5───X───X───Z^-0.25───X───@───X───────X───@───X───Z^0.25───X───Z^-0.25───X───@───X───────X───@───X───Z^0.25─────────────────Y^0.5───X───"
      ]
     },
     "execution_count": 6,
     "metadata": {},
     "output_type": "execute_result"
    }
   ],
   "source": [
    "make_circuit()"
   ]
  },
  {
   "cell_type": "code",
   "execution_count": 17,
   "metadata": {
    "scrolled": false
   },
   "outputs": [
    {
     "name": "stdout",
     "output_type": "stream",
     "text": [
      "[[ 0.65328148  0.27059805  0.65328148  0.27059805]\n",
      " [ 0.27059805  0.65328148 -0.27059805 -0.65328148]\n",
      " [ 0.65328148 -0.27059805 -0.65328148  0.27059805]\n",
      " [ 0.27059805 -0.65328148  0.27059805 -0.65328148]]\n",
      "[-0.92387953+0.38268343j  0.92387953-0.38268343j  0.38268343+0.92387953j\n",
      "  0.38268343+0.92387953j]\n",
      "[[-0.70710678  0.          0.          0.70710678]\n",
      " [ 0.          0.70710678  0.70710678  0.        ]\n",
      " [ 0.70710678  0.          0.          0.70710678]\n",
      " [ 0.         -0.70710678  0.70710678  0.        ]]\n",
      "[[ 0.34186054  0.67941408 -0.19595027 -0.61897607]\n",
      " [ 0.61897607  0.19595027  0.67941408  0.34186054]\n",
      " [-0.6571923   0.64922922  0.28018104  0.26095647]\n",
      " [-0.26095647 -0.28018104  0.64922922 -0.6571923 ]]\n",
      "[ 1.0000000e+00-7.32394011e-18j  1.0000000e+00+1.73941487e-18j\n",
      " -5.7987430e-18+1.00000000e+00j -6.2242356e-18+1.00000000e+00j]\n",
      "[[ 0.34186054  0.61897607 -0.26095647  0.6571923 ]\n",
      " [ 0.67941408  0.19595027 -0.28018104 -0.64922922]\n",
      " [-0.19595027  0.67941408  0.64922922 -0.28018104]\n",
      " [-0.61897607  0.34186054 -0.6571923  -0.26095647]]\n",
      "[[ 0.70710678 -0.         -0.         -0.70710678]\n",
      " [ 0.70710678  0.          0.          0.70710678]\n",
      " [ 0.          1.          0.          0.        ]\n",
      " [ 0.          0.          1.          0.        ]]\n",
      "[-0.70710678-0.70710678j  0.70710678+0.70710678j  0.70710678+0.70710678j\n",
      "  0.70710678+0.70710678j]\n",
      "[[-1.  0.  0.  0.]\n",
      " [ 0.  0.  1.  0.]\n",
      " [ 0.  0.  0. -1.]\n",
      " [ 0.  1.  0.  0.]]\n",
      "[[-0.          0.38268343 -0.92387953 -0.        ]\n",
      " [ 0.         -0.92387953 -0.38268343  0.        ]\n",
      " [-0.92387953  0.          0.          0.38268343]\n",
      " [ 0.38268343  0.          0.          0.92387953]]\n",
      "[0.92387953-0.38268343j 0.92387953-0.38268343j 0.92387953+0.38268343j\n",
      " 0.92387953+0.38268343j]\n",
      "[[-0.  0. -1.  0.]\n",
      " [-0. -1.  0.  0.]\n",
      " [-1.  0.  0.  0.]\n",
      " [-0.  0.  0.  1.]]\n"
     ]
    },
    {
     "data": {
      "text/html": [
       "<pre style=\"overflow: auto; white-space: pre;\">q0: ──────────────────────────────────────────────────────────────────────────────────────────────────────@───────────────────────────────────────────────────────────────────────────────────────────────────────@─────────────────────────────────────────────────────────────────────────────────────────────────────────────────────────────────Y^-0.5───────────────@───X^-0.25───@───Y^0.5───Z^0.25───────────\n",
       "                                                                                                          │                                                                                                       │                                                                                                                                                      │             │\n",
       "q1: ───────────────X────────Y^-0.5───@───Z^-0.5───Y^0.5───X^0.5───@───Z^-0.5───X^-0.5───X^0.5───Z^0.25────X───W(0.75)^-0.719───Z^-0.75────────Y^-0.5────────────@───Z^-0.5───Y^0.5───X^-0.781───Z^0.75────────────X───X^-0.5───Z^0.5────Y^-0.5────────────@───Z^-0.5───Y^0.5───X^0.5───@───Z^-0.5───X^-0.5───@───Z^0.5───Y^-0.5───Z^0.75────────────Y^0.5────Z───H───────Z─────────────Z───H───────Y^0.5────Z───────\n",
       "                                     │                            │                                                                                             │                                                                                         │                            │                     │\n",
       "q2: ───Y^0.5───X───Y^-0.5───Y^-0.5───Z───Z^-0.5───Y^0.5───X^0.5───Z───Z^-0.5───X^-0.5───────────W(0.25)────────────────────────W(0.71)^-0.5───Z^0.79───Y^-0.5───Z───Z^-0.5───Y^0.5──────────────Y^-0.5───Z^0.71────────────────X^-0.5───Z^0.5────Y^-0.5───Z───Z^-0.5───Y^0.5───X^0.5───Z───Z^-0.5───X^-0.5───Z───Z^0.5────────────Y^-0.5───Z^0.75────────────────Y^0.5──────────────────────────────────────────X───</pre>"
      ],
      "text/plain": [
       "q0: ──────────────────────────────────────────────────────────────────────────────────────────────────────@───────────────────────────────────────────────────────────────────────────────────────────────────────@─────────────────────────────────────────────────────────────────────────────────────────────────────────────────────────────────Y^-0.5───────────────@───X^-0.25───@───Y^0.5───Z^0.25───────────\n",
       "                                                                                                          │                                                                                                       │                                                                                                                                                      │             │\n",
       "q1: ───────────────X────────Y^-0.5───@───Z^-0.5───Y^0.5───X^0.5───@───Z^-0.5───X^-0.5───X^0.5───Z^0.25────X───W(0.75)^-0.719───Z^-0.75────────Y^-0.5────────────@───Z^-0.5───Y^0.5───X^-0.781───Z^0.75────────────X───X^-0.5───Z^0.5────Y^-0.5────────────@───Z^-0.5───Y^0.5───X^0.5───@───Z^-0.5───X^-0.5───@───Z^0.5───Y^-0.5───Z^0.75────────────Y^0.5────Z───H───────Z─────────────Z───H───────Y^0.5────Z───────\n",
       "                                     │                            │                                                                                             │                                                                                         │                            │                     │\n",
       "q2: ───Y^0.5───X───Y^-0.5───Y^-0.5───Z───Z^-0.5───Y^0.5───X^0.5───Z───Z^-0.5───X^-0.5───────────W(0.25)────────────────────────W(0.71)^-0.5───Z^0.79───Y^-0.5───Z───Z^-0.5───Y^0.5──────────────Y^-0.5───Z^0.71────────────────X^-0.5───Z^0.5────Y^-0.5───Z───Z^-0.5───Y^0.5───X^0.5───Z───Z^-0.5───X^-0.5───Z───Z^0.5────────────Y^-0.5───Z^0.75────────────────Y^0.5──────────────────────────────────────────X───"
      ]
     },
     "metadata": {},
     "output_type": "display_data"
    },
    {
     "name": "stdout",
     "output_type": "stream",
     "text": [
      "[[-0.65328148 -0.27059805 -0.65328148 -0.27059805]\n",
      " [-0.27059805 -0.65328148  0.27059805  0.65328148]\n",
      " [ 0.65328148 -0.27059805 -0.65328148  0.27059805]\n",
      " [ 0.27059805 -0.65328148  0.27059805 -0.65328148]]\n",
      "[-0.92387953+0.38268343j  0.92387953-0.38268343j  0.38268343+0.92387953j\n",
      "  0.38268343+0.92387953j]\n",
      "[[ 0.00000000e+00 -1.00000000e+00  0.00000000e+00  0.00000000e+00]\n",
      " [ 1.00000000e+00  0.00000000e+00  6.62303530e-17  0.00000000e+00]\n",
      " [ 5.55111512e-17  0.00000000e+00 -1.00000000e+00 -2.22044605e-16]\n",
      " [ 5.55111512e-17  0.00000000e+00  2.11937130e-16 -1.00000000e+00]]\n",
      "[[ 0.27548053 -0.59737392  0.11251359  0.74471174]\n",
      " [-0.28221616 -0.12438505  0.94125032 -0.13758717]\n",
      " [-0.13406756 -0.79184333 -0.22545771 -0.55152412]\n",
      " [-0.90911517 -0.02563031 -0.2248496   0.34970751]]\n",
      "[-0.70710678+0.70710678j  0.70710678-0.70710678j  0.70710678-0.70710678j\n",
      "  0.70710678-0.70710678j]\n",
      "[[ 0.58955936 -0.60513218 -0.07446453 -0.5298017 ]\n",
      " [-0.10418357 -0.18524233 -0.94990423  0.22915718]\n",
      " [ 0.27435328 -0.46600752  0.25422276  0.80183418]\n",
      " [-0.7525263  -0.6183343   0.16585468 -0.15446387]]\n",
      "[[-8.84255343e-01 -2.63501215e-16 -6.14926548e-17  4.67003735e-01]\n",
      " [-4.67003735e-01 -1.50191765e-16  6.21116649e-17 -8.84255343e-01]\n",
      " [-1.10841266e-16  6.82713425e-01 -7.30686239e-01 -1.58044107e-16]\n",
      " [-1.47911869e-16  7.30686239e-01  6.82713425e-01  1.04655206e-16]]\n",
      "[0.38268343-0.92387953j 0.38268343-0.92387953j 0.38268343+0.92387953j\n",
      " 0.38268343+0.92387953j]\n",
      "[[-0.70403794 -0.06580712  0.66208471 -0.24828177]\n",
      " [-0.06580712  0.70403794  0.24828177  0.66208471]\n",
      " [ 0.70403794  0.06580712  0.66208471 -0.24828177]\n",
      " [-0.06580712  0.70403794 -0.24828177 -0.66208471]]\n"
     ]
    },
    {
     "data": {
      "text/html": [
       "<pre style=\"overflow: auto; white-space: pre;\">q0: ─────────────────────────────────────────────────────────@───────────────────────────────────────────────────────────@─────────────────────────────────────────────────────────────────────W(0.644)^0.5──────Z^-0.144───@───X^-0.25───@───Y^-0.5────Z^0.394───\n",
       "                                                             │                                                           │                                                                                                  │             │\n",
       "q1: ────────────Y^0.5───@───Y^0.5───@───W(0.875)─────────────X───W(0.25)^0.5───Z^0.531───@───W(0.781)^-0.5────Z^-0.531───X───W(0.155)^0.129───Z^-0.317───@───Y^0.5───@───Y^-0.5───Z^-0.5───@───W(0.77)^-0.411────Z^0.177────Z─────────────Z───Z^0.915─────────────\n",
       "                        │           │                                                    │                                                               │           │                     │\n",
       "q2: ───Y^-0.5───────────Z───Y^0.5───Z───Y^0.5──────Z^-0.21───────────────────────────────Z───W(0.806)^0.244───Z^-0.936───────────────────────────────────Z───Y^0.5───Z───Y^-0.5───Z^-0.5───Z───W(0.375)^-0.445───Z^-0.438─────────────────────────────────────────</pre>"
      ],
      "text/plain": [
       "q0: ─────────────────────────────────────────────────────────@───────────────────────────────────────────────────────────@─────────────────────────────────────────────────────────────────────W(0.644)^0.5──────Z^-0.144───@───X^-0.25───@───Y^-0.5────Z^0.394───\n",
       "                                                             │                                                           │                                                                                                  │             │\n",
       "q1: ────────────Y^0.5───@───Y^0.5───@───W(0.875)─────────────X───W(0.25)^0.5───Z^0.531───@───W(0.781)^-0.5────Z^-0.531───X───W(0.155)^0.129───Z^-0.317───@───Y^0.5───@───Y^-0.5───Z^-0.5───@───W(0.77)^-0.411────Z^0.177────Z─────────────Z───Z^0.915─────────────\n",
       "                        │           │                                                    │                                                               │           │                     │\n",
       "q2: ───Y^-0.5───────────Z───Y^0.5───Z───Y^0.5──────Z^-0.21───────────────────────────────Z───W(0.806)^0.244───Z^-0.936───────────────────────────────────Z───Y^0.5───Z───Y^-0.5───Z^-0.5───Z───W(0.375)^-0.445───Z^-0.438─────────────────────────────────────────"
      ]
     },
     "execution_count": 17,
     "metadata": {},
     "output_type": "execute_result"
    }
   ],
   "source": [
    "large_circ = make_circuit()\n",
    "#cirq.google.ConvertToXmonGates().optimize_circuit(large_circ)\n",
    "cirq.google.MergeInteractions(allow_partial_czs=False).optimize_circuit(large_circ)\n",
    "#cirq.google.MergeRotations().optimize_circuit(large_circ)\n",
    "display(large_circ)\n",
    "cirq.google.MergeInteractions(allow_partial_czs=False).optimize_circuit(large_circ)\n",
    "cirq.google.MergeRotations().optimize_circuit(large_circ)\n",
    "cirq.circuits.DropNegligible().optimize_circuit(large_circ)\n",
    "cirq.circuits.DropEmptyMoments().optimize_circuit(large_circ)\n",
    "large_circ"
   ]
  },
  {
   "cell_type": "code",
   "execution_count": null,
   "metadata": {},
   "outputs": [],
   "source": []
  },
  {
   "cell_type": "code",
   "execution_count": null,
   "metadata": {},
   "outputs": [],
   "source": []
  },
  {
   "cell_type": "code",
   "execution_count": null,
   "metadata": {},
   "outputs": [],
   "source": []
  },
  {
   "cell_type": "code",
   "execution_count": null,
   "metadata": {},
   "outputs": [],
   "source": []
  },
  {
   "cell_type": "code",
   "execution_count": 68,
   "metadata": {},
   "outputs": [],
   "source": [
    "# 174?, 176?, 147!"
   ]
  },
  {
   "cell_type": "code",
   "execution_count": 8,
   "metadata": {},
   "outputs": [
    {
     "name": "stdout",
     "output_type": "stream",
     "text": [
      "Remove duplicate\n",
      "Reduced length from 38 to 25\n",
      "Remove negligible\n",
      "Reduced length from 25 to 25\n",
      "Move clifford out\n",
      "Reduced length from 25 to 21\n",
      "Remove duplicate\n",
      "Reduced length from 21 to 18\n",
      "Remove negligible\n",
      "Reduced length from 18 to 18\n",
      "Move clifford out\n",
      "Reduced length from 18 to 17\n",
      "Remove duplicate\n",
      "Reduced length from 17 to 17\n",
      "Remove negligible\n",
      "Reduced length from 17 to 17\n",
      "Move clifford out\n",
      "Reduced length from 17 to 17\n",
      "Final length 17\n"
     ]
    },
    {
     "data": {
      "text/html": [
       "<pre style=\"overflow: auto; white-space: pre;\">q0: ───────────────────────────[Z]^-0.25───[Z]^-0.59───[Z]^1.25────────────────[Z]^-0.25────[Z]^-0.409───[Z]^0.458───[Z]^-1.92───────────────────────────\n",
       "                               │           │           │                                    │            │           │\n",
       "q1: ───[Z]^-1.16───[Z]^-0.75───[Z]─────────[X]─────────┼──────────[Z]^0.0432────────────────[X]──────────[Y]─────────[X]─────────[X]^0.25────────────────\n",
       "                   │           │                       │\n",
       "q2: ───────────────[X]─────────[X]─────────────────────[X]─────────────────────[X]^-0.837───[Y]^0.158────[X]^1.7─────[Y]^0.455───[Z]^0.626───[Y]^0.136───</pre>"
      ],
      "text/plain": [
       "q0: ───────────────────────────[Z]^-0.25───[Z]^-0.59───[Z]^1.25────────────────[Z]^-0.25────[Z]^-0.409───[Z]^0.458───[Z]^-1.92───────────────────────────\n",
       "                               │           │           │                                    │            │           │\n",
       "q1: ───[Z]^-1.16───[Z]^-0.75───[Z]─────────[X]─────────┼──────────[Z]^0.0432────────────────[X]──────────[Y]─────────[X]─────────[X]^0.25────────────────\n",
       "                   │           │                       │\n",
       "q2: ───────────────[X]─────────[X]─────────────────────[X]─────────────────────[X]^-0.837───[Y]^0.158────[X]^1.7─────[Y]^0.455───[Z]^0.626───[Y]^0.136───"
      ]
     },
     "metadata": {},
     "output_type": "display_data"
    },
    {
     "data": {
      "text/html": [
       "<pre style=\"overflow: auto; white-space: pre;\">q0: ───────────────────────────────────────────────X───Z───X────────────────────X^0.5───Z────────────Z───nX^0.5──────────────────────────────────────────────────────────────────────Z───────────────────────Z───X^0.5────────────────────────────────────────────────────────────────────────────────Z───Z───nZ^0.5───nX^0.5───Z^0.5───\n",
       "                                                   │       │                            │            │                                                                               │                       │                                                                                        │   │\n",
       "q1: ────────────X^0.5───nZ^0.5───nX^0.5────────────┼───────┼───────────nY^0.5───────────X───nZ^0.5───X───Y^0.5────nX^0.5───Z───nZ^0.5───X^0.5───Z^0.5───Z^0.5───Z───nZ^0.5───Z^0.5───X───X^0.5───Z───X^0.5───X───────────Z───nZ^0.5───nX^0.5───Z^0.5───Z───Z───nZ^0.5───nX^0.5───Z^0.5───nZ^0.5───Z───Z───Z────────────X────────────────\n",
       "                                                   │       │                                                               │                                    │                                │                       │                                 │                                      │\n",
       "q2: ───nZ^0.5───X^0.5───nZ^0.5───nX^0.5───nY^0.5───Z───────Z───Y^0.5──────────────────────────────────────────────nX^0.5───Z───nZ^0.5───X^0.5───Z^0.5───Z^0.5───Z───X^0.5────────────────────────Z───────────────────────Z───nZ^0.5───nX^0.5───Z^0.5───Z───Z───nZ^0.5───nX^0.5───Z^0.5───nZ^0.5───Z─────────────────────────────────────</pre>"
      ],
      "text/plain": [
       "q0: ───────────────────────────────────────────────X───Z───X────────────────────X^0.5───Z────────────Z───nX^0.5──────────────────────────────────────────────────────────────────────Z───────────────────────Z───X^0.5────────────────────────────────────────────────────────────────────────────────Z───Z───nZ^0.5───nX^0.5───Z^0.5───\n",
       "                                                   │       │                            │            │                                                                               │                       │                                                                                        │   │\n",
       "q1: ────────────X^0.5───nZ^0.5───nX^0.5────────────┼───────┼───────────nY^0.5───────────X───nZ^0.5───X───Y^0.5────nX^0.5───Z───nZ^0.5───X^0.5───Z^0.5───Z^0.5───Z───nZ^0.5───Z^0.5───X───X^0.5───Z───X^0.5───X───────────Z───nZ^0.5───nX^0.5───Z^0.5───Z───Z───nZ^0.5───nX^0.5───Z^0.5───nZ^0.5───Z───Z───Z────────────X────────────────\n",
       "                                                   │       │                                                               │                                    │                                │                       │                                 │                                      │\n",
       "q2: ───nZ^0.5───X^0.5───nZ^0.5───nX^0.5───nY^0.5───Z───────Z───Y^0.5──────────────────────────────────────────────nX^0.5───Z───nZ^0.5───X^0.5───Z^0.5───Z^0.5───Z───X^0.5────────────────────────Z───────────────────────Z───nZ^0.5───nX^0.5───Z^0.5───Z───Z───nZ^0.5───nX^0.5───Z^0.5───nZ^0.5───Z─────────────────────────────────────"
      ]
     },
     "execution_count": 8,
     "metadata": {},
     "output_type": "execute_result"
    }
   ],
   "source": [
    "#large_circ = make_circuit()\n",
    "#display(large_circ)\n",
    "#circuit = convert_circuit(large_circ, pre_optimize=True)\n",
    "circuit = convert_circuit(large_circ, pre_optimize=False)\n",
    "#circuit = convert_circuit(large_circ, pre_optimize=True)\n",
    "#circuit = convert_circuit(large_circ, pre_optimize=True)\n",
    "#circuit = convert_circuit(large_circ, pre_optimize=True)\n",
    "c_left0 = non_clifford_half(circuit)\n",
    "c_right0 = clifford_half(circuit)\n",
    "pauli_strings, c_left_right = optimize_pauli_strings(circuit_to_strings(c_left0), max_steps=100)\n",
    "#opt_strings.remove_duplicate_strings(pauli_strings)\n",
    "#opt_strings.remove_negligible_strings(pauli_strings)\n",
    "c_left = strings_to_circuit(pauli_strings)\n",
    "display(c_left)\n",
    "c_right = c_left_right + c_right0\n",
    "c_right"
   ]
  },
  {
   "cell_type": "code",
   "execution_count": 9,
   "metadata": {
    "scrolled": true
   },
   "outputs": [
    {
     "name": "stdout",
     "output_type": "stream",
     "text": [
      "Total length: 17\n",
      " . Z .  -1.16189138\n",
      " . Z X  -0.75000000\n",
      " Z Z X  -0.25000000\n",
      " Z X .  -0.58974958\n",
      " Z . X  1.25000000\n",
      " . Z .  0.04321703\n",
      " . . X  -0.83742394\n",
      " Z . .  -0.25000000\n",
      " . . Y  0.15788154\n",
      " Z X .  -0.40946087\n",
      " . . X  1.70451875\n",
      " Z Y .  0.45849943\n",
      " . . Y  0.45532116\n",
      " Z X .  -1.92398450\n",
      " . . Z  0.62607065\n",
      " . X .  0.25000000\n",
      " . . Y  0.13551215\n"
     ]
    }
   ],
   "source": [
    "display_strings(pauli_strings, get_ordered_qubits(c_right))"
   ]
  },
  {
   "cell_type": "code",
   "execution_count": 10,
   "metadata": {},
   "outputs": [],
   "source": [
    "assert_allclose_up_to_global_phase(large_circ.to_unitary_matrix(),\n",
    "                                   (c_left + c_right).to_unitary_matrix(),\n",
    "                                   atol=1e-7)"
   ]
  },
  {
   "cell_type": "code",
   "execution_count": 72,
   "metadata": {},
   "outputs": [
    {
     "data": {
      "text/html": [
       "<pre style=\"overflow: auto; white-space: pre;\">q0: ───────────────────────────────────────────────────────────────────────────Z────────────────────────────────────Z───nZ^0.5───nX^0.5───Z^0.5────────────────────────────────────────────────────────────────────────────────────Z───────────────Z───nZ^0.5───X^0.5───Z^0.5───\n",
       "                                                                               │                                    │                                                                                                              │               │\n",
       "q1: ───nZ^0.5───nX^0.5───Z^0.5───Z───Z───nZ^0.5───X^0.5───Z^0.5───Z────────────X───────────────X^0.5───Z───nX^0.5───X────────────X────────────────Z───nZ^0.5───X^0.5───Z^0.5───Z───nZ^0.5───nX^0.5───Z^0.5───nZ^0.5───Z───X^0.5────Z───────────────Z───nZ^0.5───X───────Z^0.5───\n",
       "                                     │                            │                                    │                                          │                            │                                      │\n",
       "q2: ───nZ^0.5───X^0.5────Z^0.5───Z───Z───nZ^0.5───X^0.5───Z^0.5───Z───nZ^0.5───X^0.5───Z^0.5───────────Z───X──────────────────────────────────────Z───nZ^0.5───X^0.5───Z^0.5───Z───nZ^0.5───nX^0.5───Z^0.5───nZ^0.5───Z───nZ^0.5───Z^0.5───Z^0.5────────────────────────────────</pre>"
      ],
      "text/plain": [
       "q0: ───────────────────────────────────────────────────────────────────────────Z────────────────────────────────────Z───nZ^0.5───nX^0.5───Z^0.5────────────────────────────────────────────────────────────────────────────────────Z───────────────Z───nZ^0.5───X^0.5───Z^0.5───\n",
       "                                                                               │                                    │                                                                                                              │               │\n",
       "q1: ───nZ^0.5───nX^0.5───Z^0.5───Z───Z───nZ^0.5───X^0.5───Z^0.5───Z────────────X───────────────X^0.5───Z───nX^0.5───X────────────X────────────────Z───nZ^0.5───X^0.5───Z^0.5───Z───nZ^0.5───nX^0.5───Z^0.5───nZ^0.5───Z───X^0.5────Z───────────────Z───nZ^0.5───X───────Z^0.5───\n",
       "                                     │                            │                                    │                                          │                            │                                      │\n",
       "q2: ───nZ^0.5───X^0.5────Z^0.5───Z───Z───nZ^0.5───X^0.5───Z^0.5───Z───nZ^0.5───X^0.5───Z^0.5───────────Z───X──────────────────────────────────────Z───nZ^0.5───X^0.5───Z^0.5───Z───nZ^0.5───nX^0.5───Z^0.5───nZ^0.5───Z───nZ^0.5───Z^0.5───Z^0.5────────────────────────────────"
      ]
     },
     "execution_count": 72,
     "metadata": {},
     "output_type": "execute_result"
    }
   ],
   "source": [
    "c_right"
   ]
  },
  {
   "cell_type": "code",
   "execution_count": null,
   "metadata": {},
   "outputs": [],
   "source": []
  },
  {
   "cell_type": "code",
   "execution_count": 73,
   "metadata": {},
   "outputs": [],
   "source": [
    "#pss_long = pauli_strings\n",
    "#pss_short = pauli_strings"
   ]
  },
  {
   "cell_type": "code",
   "execution_count": 74,
   "metadata": {},
   "outputs": [
    {
     "name": "stdout",
     "output_type": "stream",
     "text": [
      "-0.25000000   . Z X    . Z .  -0.12765556\n",
      "-0.25000000   Z Z X    . Z X   0.75000000\n",
      " 0.75000000   . Z .    Z Z X  -0.25000000\n",
      " 0.25000000   Z . X    Z X X  -0.53082420\n",
      "-0.75000000   . . X    Z . X   0.25000000\n",
      "-0.25000000   Z Z .    . Z .   0.28972436\n",
      " 0.25000000   Z . .    . . X  -0.12584751\n",
      " 0.00000000   . . .    Z . .   0.75000000\n",
      " 0.00000000   . . .    . Z Z   0.47061260\n",
      " 0.00000000   . . .    . . X  -0.56539301\n",
      " 0.00000000   . . .    Z X X  -0.45002144\n",
      " 0.00000000   . . .    . Z Z  -0.88293876\n",
      " 0.00000000   . . .    Z Y X   0.21218740\n",
      " 0.00000000   . . .    . Z Y   0.44851554\n",
      " 0.00000000   . . .    Z X X   0.58294157\n",
      " 0.00000000   . . .    . Z Z   0.54998890\n",
      " 0.00000000   . . .    . X X   0.25000000\n"
     ]
    }
   ],
   "source": [
    "qubits = get_ordered_qubits(c_right)\n",
    "for (ps1, ht1), (ps2, ht2) in itertools.zip_longest(pss_short, pss_long, fillvalue=(PauliString({}), 0)):\n",
    "    print('{: .8f}  '.format(ht1), end='')\n",
    "    for qubit in qubits:\n",
    "        axis = ps1.get_axis(qubit)\n",
    "        print('{!s:>2}'.format(axis.abs() if not isinstance(axis, IdentAxis) else '.'), end='')\n",
    "    print('   ', end='')\n",
    "    for qubit in qubits:\n",
    "        axis = ps2.get_axis(qubit)\n",
    "        print('{!s:>2}'.format(axis.abs() if not isinstance(axis, IdentAxis) else '.'), end='')\n",
    "    print('  {: .8f}'.format(ht2))"
   ]
  },
  {
   "cell_type": "code",
   "execution_count": 60,
   "metadata": {},
   "outputs": [
    {
     "data": {
      "text/plain": [
       "(NamedQubit('q0'), NamedQubit('q1'), NamedQubit('q2'))"
      ]
     },
     "execution_count": 60,
     "metadata": {},
     "output_type": "execute_result"
    }
   ],
   "source": [
    "qubits"
   ]
  },
  {
   "cell_type": "code",
   "execution_count": null,
   "metadata": {},
   "outputs": [],
   "source": []
  },
  {
   "cell_type": "code",
   "execution_count": null,
   "metadata": {},
   "outputs": [],
   "source": []
  },
  {
   "cell_type": "code",
   "execution_count": null,
   "metadata": {},
   "outputs": [],
   "source": []
  },
  {
   "cell_type": "code",
   "execution_count": null,
   "metadata": {},
   "outputs": [],
   "source": []
  },
  {
   "cell_type": "code",
   "execution_count": 118,
   "metadata": {},
   "outputs": [],
   "source": [
    "qubits\n",
    "def axis_sort_key(axis):\n",
    "    if isinstance(axis, Axis):\n",
    "        return axis.axis_i % 3\n",
    "    return 6\n",
    "    \n",
    "def string_sort_key(ps1):\n",
    "    return tuple((ps1.get_axis(q) for q in qubits))"
   ]
  },
  {
   "cell_type": "code",
   "execution_count": 33,
   "metadata": {},
   "outputs": [],
   "source": [
    "#i = 0\n",
    "#while i < len(pauli_strings):\n",
    "#    ps = pauli_strings[i][0]\n",
    "#    for j in reversed(range(i+1, len(pauli_strings))):\n",
    "#        ps2 = pauli_strings[j][0]\n",
    "#        if not ps.commutes_with(ps2):\n",
    "#            break\n",
    "#        if ps == ps2:\n",
    "#            pauli_strings[i][1] += pauli_strings[j][1]\n",
    "#            pauli_strings.pop(j)\n",
    "#    i += 1"
   ]
  },
  {
   "cell_type": "code",
   "execution_count": null,
   "metadata": {},
   "outputs": [],
   "source": []
  },
  {
   "cell_type": "code",
   "execution_count": null,
   "metadata": {},
   "outputs": [],
   "source": []
  },
  {
   "cell_type": "code",
   "execution_count": null,
   "metadata": {},
   "outputs": [],
   "source": []
  },
  {
   "cell_type": "code",
   "execution_count": null,
   "metadata": {},
   "outputs": [],
   "source": []
  },
  {
   "cell_type": "code",
   "execution_count": 12,
   "metadata": {},
   "outputs": [],
   "source": [
    "class Connectivity:\n",
    "    def connected(self, q0: ops.QubitId, q1: ops.QubitId):\n",
    "        raise NotImplementedError\n",
    "\n",
    "class FullConnectivity(Connectivity):\n",
    "    def connected(self, q0: ops.QubitId, q1: ops.QubitId):\n",
    "        return True\n",
    "\n",
    "class DeviceConnectivity(Connectivity):\n",
    "    def connected(self, q0: ops.QubitId, q1: ops.QubitId):\n",
    "        if isinstance(q0, type(q1)):\n",
    "            return q1.is_adjacent(q0)\n",
    "        elif isinstance(q1, type(q0)):\n",
    "            return q0.is_adjacent(q1)\n",
    "        else:\n",
    "            raise RuntimeError('Different qubit types')"
   ]
  },
  {
   "cell_type": "code",
   "execution_count": null,
   "metadata": {},
   "outputs": [],
   "source": []
  }
 ],
 "metadata": {
  "kernelspec": {
   "display_name": "Python 3",
   "language": "python",
   "name": "python3"
  },
  "language_info": {
   "codemirror_mode": {
    "name": "ipython",
    "version": 3
   },
   "file_extension": ".py",
   "mimetype": "text/x-python",
   "name": "python",
   "nbconvert_exporter": "python",
   "pygments_lexer": "ipython3",
   "version": "3.5.3"
  }
 },
 "nbformat": 4,
 "nbformat_minor": 2
}
